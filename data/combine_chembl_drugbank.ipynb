{
 "cells": [
  {
   "cell_type": "code",
   "execution_count": 77,
   "id": "d1000122-db72-4f3f-9c97-9f31cc678d3f",
   "metadata": {},
   "outputs": [],
   "source": [
    "import pandas as pd\n",
    "import pubchempy as pcp\n",
    "from tqdm import tqdm\n",
    "from rdkit.Chem import MolFromSmiles"
   ]
  },
  {
   "cell_type": "code",
   "execution_count": 39,
   "id": "3eb0ff55-00f3-4721-b402-497e749d87e7",
   "metadata": {},
   "outputs": [],
   "source": [
    "chembl = pd.read_csv('chembl_4_full.csv')[['synonyms', 'pubchem_cid', 'chembl_id', 'inchi_key', 'smiles', 'withdrawn']]\n",
    "drugbank = pd.read_csv('/home/dionizije/Documents/drug_attrition_oracle/data/raw/structure links.csv')[['DrugBank ID', 'Name', \n",
    "                                                                                                        'Drug Groups', 'InChIKey', 'SMILES',\n",
    "                                                                                                       'PubChem Compound ID', 'ChEMBL ID']]\n",
    "chembl['synonyms'] = chembl['synonyms'].str.lower()\n",
    "chembl.rename(columns={'withdrawn': 'chembl_withdrawn',\n",
    "                      'synonyms': 'name'}, inplace=True)"
   ]
  },
  {
   "cell_type": "code",
   "execution_count": 40,
   "id": "458f812d-6015-4a80-b3c1-1afdad649e89",
   "metadata": {},
   "outputs": [],
   "source": [
    "drugbank.rename(columns = {'DrugBank ID': 'drugbank_id',\n",
    "                          'Name': 'name',\n",
    "                          'Drug Groups': 'drug_groups',\n",
    "                          'InChIKey': 'inchi_key',\n",
    "                          'SMILES': 'smiles',\n",
    "                          'PubChem Compound ID': 'pubchem_cid',\n",
    "                          'ChEMBL ID': 'chembl_id'}, inplace=True)"
   ]
  },
  {
   "cell_type": "code",
   "execution_count": 41,
   "id": "22b9a1ce-e792-41a9-9d6b-8c7d3e6a3acf",
   "metadata": {},
   "outputs": [],
   "source": [
    "drugbank['drugbank_withdrawn'] = 0\n",
    "drugbank.loc[drugbank['drug_groups'].str.contains('withdrawn'), 'drugbank_withdrawn'] = 1"
   ]
  },
  {
   "cell_type": "code",
   "execution_count": 42,
   "id": "05829527-77fa-4bd3-8f73-cf39e78ca5ff",
   "metadata": {},
   "outputs": [],
   "source": [
    "chembl['dataset'] = 'chembl'\n",
    "drugbank['dataset'] = 'drugbank'"
   ]
  },
  {
   "cell_type": "code",
   "execution_count": 43,
   "id": "b8e642b2-eabf-4a95-a899-962af93636a8",
   "metadata": {},
   "outputs": [],
   "source": [
    "drugbank.loc[((drugbank['inchi_key'].isin(chembl['inchi_key'])) | \n",
    "            (drugbank['pubchem_cid'].isin(chembl['pubchem_cid'])) |\n",
    "            (drugbank['chembl_id'].isin(chembl['chembl_id']))), 'dataset'] = 'both'"
   ]
  },
  {
   "cell_type": "code",
   "execution_count": 44,
   "id": "0abe5e7a-9d5c-4733-bf51-07396fb0d8c5",
   "metadata": {},
   "outputs": [],
   "source": [
    "chembl.loc[((chembl['inchi_key'].isin(drugbank['inchi_key'])) | \n",
    "            (chembl['pubchem_cid'].isin(drugbank['pubchem_cid'])) |\n",
    "            (chembl['chembl_id'].isin(drugbank['chembl_id']))), 'dataset'] = 'both'"
   ]
  },
  {
   "cell_type": "code",
   "execution_count": 46,
   "id": "f951e28e-e1ba-447f-8ac7-887862df6154",
   "metadata": {},
   "outputs": [],
   "source": [
    "chembl['drugbank_withdrawn'] = 'missing'\n",
    "drugbank['chembl_withdrawn'] = 'missing'"
   ]
  },
  {
   "cell_type": "code",
   "execution_count": 47,
   "id": "054e70b6-fe09-485a-a297-38d638b6d292",
   "metadata": {},
   "outputs": [],
   "source": [
    "chembl['drugbank_id'] = 'missing'"
   ]
  },
  {
   "cell_type": "code",
   "execution_count": 48,
   "id": "80437358-ce1c-4e5c-b1e2-eee4d18c5100",
   "metadata": {},
   "outputs": [],
   "source": [
    "drugbank.drop(columns='drug_groups', inplace=True)"
   ]
  },
  {
   "cell_type": "code",
   "execution_count": 51,
   "id": "4a07b64d-f133-45be-bff7-67f1df76eb4c",
   "metadata": {},
   "outputs": [
    {
     "data": {
      "text/html": [
       "<div>\n",
       "<style scoped>\n",
       "    .dataframe tbody tr th:only-of-type {\n",
       "        vertical-align: middle;\n",
       "    }\n",
       "\n",
       "    .dataframe tbody tr th {\n",
       "        vertical-align: top;\n",
       "    }\n",
       "\n",
       "    .dataframe thead th {\n",
       "        text-align: right;\n",
       "    }\n",
       "</style>\n",
       "<table border=\"1\" class=\"dataframe\">\n",
       "  <thead>\n",
       "    <tr style=\"text-align: right;\">\n",
       "      <th></th>\n",
       "      <th>drugbank_id</th>\n",
       "      <th>name</th>\n",
       "      <th>inchi_key</th>\n",
       "      <th>smiles</th>\n",
       "      <th>pubchem_cid</th>\n",
       "      <th>chembl_id</th>\n",
       "      <th>drugbank_withdrawn</th>\n",
       "      <th>dataset</th>\n",
       "      <th>chembl_withdrawn</th>\n",
       "    </tr>\n",
       "  </thead>\n",
       "  <tbody>\n",
       "    <tr>\n",
       "      <th>0</th>\n",
       "      <td>DB00006</td>\n",
       "      <td>Bivalirudin</td>\n",
       "      <td>OIRCOABEOLEUMC-GEJPAHFPSA-N</td>\n",
       "      <td>CC[C@H](C)[C@H](NC(=O)[C@H](CCC(O)=O)NC(=O)[C@...</td>\n",
       "      <td>16129704.0</td>\n",
       "      <td>CHEMBL2103749</td>\n",
       "      <td>0</td>\n",
       "      <td>drugbank</td>\n",
       "      <td>missing</td>\n",
       "    </tr>\n",
       "    <tr>\n",
       "      <th>1</th>\n",
       "      <td>DB00007</td>\n",
       "      <td>Leuprolide</td>\n",
       "      <td>GFIJNRVAKGFPGQ-LIJARHBVSA-N</td>\n",
       "      <td>CCNC(=O)[C@@H]1CCCN1C(=O)[C@H](CCCNC(N)=N)NC(=...</td>\n",
       "      <td>657181.0</td>\n",
       "      <td>CHEMBL1201199</td>\n",
       "      <td>0</td>\n",
       "      <td>drugbank</td>\n",
       "      <td>missing</td>\n",
       "    </tr>\n",
       "    <tr>\n",
       "      <th>2</th>\n",
       "      <td>DB00014</td>\n",
       "      <td>Goserelin</td>\n",
       "      <td>BLCLNMBMMGCOAS-URPVMXJPSA-N</td>\n",
       "      <td>CC(C)C[C@H](NC(=O)[C@@H](COC(C)(C)C)NC(=O)[C@H...</td>\n",
       "      <td>5311128.0</td>\n",
       "      <td>CHEMBL1201247</td>\n",
       "      <td>0</td>\n",
       "      <td>drugbank</td>\n",
       "      <td>missing</td>\n",
       "    </tr>\n",
       "    <tr>\n",
       "      <th>3</th>\n",
       "      <td>DB00027</td>\n",
       "      <td>Gramicidin D</td>\n",
       "      <td>NDAYQJDHGXTBJL-MWWSRJDJSA-N</td>\n",
       "      <td>CC(C)C[C@@H](NC(=O)CNC(=O)[C@@H](NC=O)C(C)C)C(...</td>\n",
       "      <td>45267103.0</td>\n",
       "      <td>CHEMBL557217</td>\n",
       "      <td>0</td>\n",
       "      <td>drugbank</td>\n",
       "      <td>missing</td>\n",
       "    </tr>\n",
       "    <tr>\n",
       "      <th>4</th>\n",
       "      <td>DB00035</td>\n",
       "      <td>Desmopressin</td>\n",
       "      <td>NFLWUMRGJYTJIN-PNIOQBSNSA-N</td>\n",
       "      <td>NC(=O)CC[C@@H]1NC(=O)[C@H](CC2=CC=CC=C2)NC(=O)...</td>\n",
       "      <td>5311065.0</td>\n",
       "      <td>CHEMBL1429</td>\n",
       "      <td>0</td>\n",
       "      <td>drugbank</td>\n",
       "      <td>missing</td>\n",
       "    </tr>\n",
       "    <tr>\n",
       "      <th>...</th>\n",
       "      <td>...</td>\n",
       "      <td>...</td>\n",
       "      <td>...</td>\n",
       "      <td>...</td>\n",
       "      <td>...</td>\n",
       "      <td>...</td>\n",
       "      <td>...</td>\n",
       "      <td>...</td>\n",
       "      <td>...</td>\n",
       "    </tr>\n",
       "    <tr>\n",
       "      <th>2670</th>\n",
       "      <td>DB15934</td>\n",
       "      <td>Ferric glycerophosphate</td>\n",
       "      <td>CBEYZWBXIPZYNH-UHFFFAOYSA-J</td>\n",
       "      <td>[Fe++].[Fe++].OCC(O)COP([O-])([O-])=O.OCCC(CCO...</td>\n",
       "      <td>NaN</td>\n",
       "      <td>NaN</td>\n",
       "      <td>0</td>\n",
       "      <td>drugbank</td>\n",
       "      <td>missing</td>\n",
       "    </tr>\n",
       "    <tr>\n",
       "      <th>2671</th>\n",
       "      <td>DB15950</td>\n",
       "      <td>Sodium camphorsulfonate</td>\n",
       "      <td>AWMAOFAHBPCBHJ-YZUKSGEXSA-M</td>\n",
       "      <td>[Na+].[H][C@]12CC[C@@](CS([O-])(=O)=O)(C(=O)C1...</td>\n",
       "      <td>NaN</td>\n",
       "      <td>NaN</td>\n",
       "      <td>0</td>\n",
       "      <td>drugbank</td>\n",
       "      <td>missing</td>\n",
       "    </tr>\n",
       "    <tr>\n",
       "      <th>2672</th>\n",
       "      <td>DB15982</td>\n",
       "      <td>Berotralstat</td>\n",
       "      <td>UXNXMBYCBRBRFD-MUUNZHRXSA-N</td>\n",
       "      <td>NCC1=CC(=CC=C1)N1N=C(C=C1C(=O)NC1=CC(=CC=C1F)[...</td>\n",
       "      <td>NaN</td>\n",
       "      <td>NaN</td>\n",
       "      <td>0</td>\n",
       "      <td>drugbank</td>\n",
       "      <td>missing</td>\n",
       "    </tr>\n",
       "    <tr>\n",
       "      <th>2673</th>\n",
       "      <td>DB16019</td>\n",
       "      <td>Gallium Ga-68 gozetotide</td>\n",
       "      <td>AEBYHKKMCWUMKX-LNTZDJBBSA-K</td>\n",
       "      <td>[H+].[68Ga+3].OC(=O)CC[C@H](NC(=O)N[C@@H](CCCC...</td>\n",
       "      <td>NaN</td>\n",
       "      <td>NaN</td>\n",
       "      <td>0</td>\n",
       "      <td>drugbank</td>\n",
       "      <td>missing</td>\n",
       "    </tr>\n",
       "    <tr>\n",
       "      <th>2674</th>\n",
       "      <td>DB16022</td>\n",
       "      <td>Thenyldiamine</td>\n",
       "      <td>RCGYDFVCAAKKNG-UHFFFAOYSA-N</td>\n",
       "      <td>CN(C)CCN(CC1=CSC=C1)C1=CC=CC=N1</td>\n",
       "      <td>NaN</td>\n",
       "      <td>CHEMBL2107485</td>\n",
       "      <td>0</td>\n",
       "      <td>drugbank</td>\n",
       "      <td>missing</td>\n",
       "    </tr>\n",
       "  </tbody>\n",
       "</table>\n",
       "<p>2675 rows × 9 columns</p>\n",
       "</div>"
      ],
      "text/plain": [
       "     drugbank_id                      name                    inchi_key  \\\n",
       "0        DB00006               Bivalirudin  OIRCOABEOLEUMC-GEJPAHFPSA-N   \n",
       "1        DB00007                Leuprolide  GFIJNRVAKGFPGQ-LIJARHBVSA-N   \n",
       "2        DB00014                 Goserelin  BLCLNMBMMGCOAS-URPVMXJPSA-N   \n",
       "3        DB00027              Gramicidin D  NDAYQJDHGXTBJL-MWWSRJDJSA-N   \n",
       "4        DB00035              Desmopressin  NFLWUMRGJYTJIN-PNIOQBSNSA-N   \n",
       "...          ...                       ...                          ...   \n",
       "2670     DB15934   Ferric glycerophosphate  CBEYZWBXIPZYNH-UHFFFAOYSA-J   \n",
       "2671     DB15950   Sodium camphorsulfonate  AWMAOFAHBPCBHJ-YZUKSGEXSA-M   \n",
       "2672     DB15982              Berotralstat  UXNXMBYCBRBRFD-MUUNZHRXSA-N   \n",
       "2673     DB16019  Gallium Ga-68 gozetotide  AEBYHKKMCWUMKX-LNTZDJBBSA-K   \n",
       "2674     DB16022             Thenyldiamine  RCGYDFVCAAKKNG-UHFFFAOYSA-N   \n",
       "\n",
       "                                                 smiles  pubchem_cid  \\\n",
       "0     CC[C@H](C)[C@H](NC(=O)[C@H](CCC(O)=O)NC(=O)[C@...   16129704.0   \n",
       "1     CCNC(=O)[C@@H]1CCCN1C(=O)[C@H](CCCNC(N)=N)NC(=...     657181.0   \n",
       "2     CC(C)C[C@H](NC(=O)[C@@H](COC(C)(C)C)NC(=O)[C@H...    5311128.0   \n",
       "3     CC(C)C[C@@H](NC(=O)CNC(=O)[C@@H](NC=O)C(C)C)C(...   45267103.0   \n",
       "4     NC(=O)CC[C@@H]1NC(=O)[C@H](CC2=CC=CC=C2)NC(=O)...    5311065.0   \n",
       "...                                                 ...          ...   \n",
       "2670  [Fe++].[Fe++].OCC(O)COP([O-])([O-])=O.OCCC(CCO...          NaN   \n",
       "2671  [Na+].[H][C@]12CC[C@@](CS([O-])(=O)=O)(C(=O)C1...          NaN   \n",
       "2672  NCC1=CC(=CC=C1)N1N=C(C=C1C(=O)NC1=CC(=CC=C1F)[...          NaN   \n",
       "2673  [H+].[68Ga+3].OC(=O)CC[C@H](NC(=O)N[C@@H](CCCC...          NaN   \n",
       "2674                    CN(C)CCN(CC1=CSC=C1)C1=CC=CC=N1          NaN   \n",
       "\n",
       "          chembl_id  drugbank_withdrawn   dataset chembl_withdrawn  \n",
       "0     CHEMBL2103749                   0  drugbank          missing  \n",
       "1     CHEMBL1201199                   0  drugbank          missing  \n",
       "2     CHEMBL1201247                   0  drugbank          missing  \n",
       "3      CHEMBL557217                   0  drugbank          missing  \n",
       "4        CHEMBL1429                   0  drugbank          missing  \n",
       "...             ...                 ...       ...              ...  \n",
       "2670            NaN                   0  drugbank          missing  \n",
       "2671            NaN                   0  drugbank          missing  \n",
       "2672            NaN                   0  drugbank          missing  \n",
       "2673            NaN                   0  drugbank          missing  \n",
       "2674  CHEMBL2107485                   0  drugbank          missing  \n",
       "\n",
       "[2675 rows x 9 columns]"
      ]
     },
     "execution_count": 51,
     "metadata": {},
     "output_type": "execute_result"
    }
   ],
   "source": [
    "drugbank"
   ]
  },
  {
   "cell_type": "code",
   "execution_count": 53,
   "id": "dd1a6983-e8cd-4cf1-babb-7f9091a6510a",
   "metadata": {
    "scrolled": true,
    "tags": []
   },
   "outputs": [
    {
     "name": "stderr",
     "output_type": "stream",
     "text": [
      "  0%|          | 13/2675 [00:07<23:13,  1.91it/s]"
     ]
    },
    {
     "name": "stdout",
     "output_type": "stream",
     "text": [
      "Molecule not found\n"
     ]
    },
    {
     "name": "stderr",
     "output_type": "stream",
     "text": [
      "  3%|▎         | 90/2675 [01:00<40:44,  1.06it/s]"
     ]
    },
    {
     "name": "stdout",
     "output_type": "stream",
     "text": [
      "Molecule not found\n"
     ]
    },
    {
     "name": "stderr",
     "output_type": "stream",
     "text": [
      "  4%|▍         | 102/2675 [01:07<23:27,  1.83it/s]"
     ]
    },
    {
     "name": "stdout",
     "output_type": "stream",
     "text": [
      "Molecule not found\n"
     ]
    },
    {
     "name": "stderr",
     "output_type": "stream",
     "text": [
      "  5%|▍         | 124/2675 [01:21<26:54,  1.58it/s]"
     ]
    },
    {
     "name": "stdout",
     "output_type": "stream",
     "text": [
      "Molecule not found\n"
     ]
    },
    {
     "name": "stderr",
     "output_type": "stream",
     "text": [
      "  5%|▍         | 133/2675 [01:27<27:18,  1.55it/s]"
     ]
    },
    {
     "name": "stdout",
     "output_type": "stream",
     "text": [
      "Molecule not found\n"
     ]
    },
    {
     "name": "stderr",
     "output_type": "stream",
     "text": [
      "  5%|▌         | 135/2675 [01:28<27:08,  1.56it/s]"
     ]
    },
    {
     "name": "stdout",
     "output_type": "stream",
     "text": [
      "Molecule not found\n"
     ]
    },
    {
     "name": "stderr",
     "output_type": "stream",
     "text": [
      "  6%|▌         | 163/2675 [01:47<34:25,  1.22it/s]"
     ]
    },
    {
     "name": "stdout",
     "output_type": "stream",
     "text": [
      "Molecule not found\n"
     ]
    },
    {
     "name": "stderr",
     "output_type": "stream",
     "text": [
      "  7%|▋         | 180/2675 [01:58<27:07,  1.53it/s]"
     ]
    },
    {
     "name": "stdout",
     "output_type": "stream",
     "text": [
      "Molecule not found\n"
     ]
    },
    {
     "name": "stderr",
     "output_type": "stream",
     "text": [
      "  8%|▊         | 202/2675 [02:11<22:01,  1.87it/s]"
     ]
    },
    {
     "name": "stdout",
     "output_type": "stream",
     "text": [
      "Molecule not found\n"
     ]
    },
    {
     "name": "stderr",
     "output_type": "stream",
     "text": [
      "  8%|▊         | 208/2675 [02:14<23:18,  1.76it/s]"
     ]
    },
    {
     "name": "stdout",
     "output_type": "stream",
     "text": [
      "Molecule not found\n"
     ]
    },
    {
     "name": "stderr",
     "output_type": "stream",
     "text": [
      "  8%|▊         | 226/2675 [02:26<21:38,  1.89it/s]"
     ]
    },
    {
     "name": "stdout",
     "output_type": "stream",
     "text": [
      "Molecule not found\n"
     ]
    },
    {
     "name": "stderr",
     "output_type": "stream",
     "text": [
      "  9%|▉         | 240/2675 [02:34<23:51,  1.70it/s]"
     ]
    },
    {
     "name": "stdout",
     "output_type": "stream",
     "text": [
      "Molecule not found\n"
     ]
    },
    {
     "name": "stderr",
     "output_type": "stream",
     "text": [
      "  9%|▉         | 250/2675 [02:42<39:22,  1.03it/s]"
     ]
    },
    {
     "name": "stdout",
     "output_type": "stream",
     "text": [
      "Molecule not found\n"
     ]
    },
    {
     "name": "stderr",
     "output_type": "stream",
     "text": [
      " 11%|█         | 281/2675 [02:59<23:11,  1.72it/s]"
     ]
    },
    {
     "name": "stdout",
     "output_type": "stream",
     "text": [
      "Molecule not found\n"
     ]
    },
    {
     "name": "stderr",
     "output_type": "stream",
     "text": [
      " 11%|█         | 299/2675 [03:09<21:18,  1.86it/s]"
     ]
    },
    {
     "name": "stdout",
     "output_type": "stream",
     "text": [
      "Molecule not found\n"
     ]
    },
    {
     "name": "stderr",
     "output_type": "stream",
     "text": [
      " 11%|█▏        | 306/2675 [03:12<21:36,  1.83it/s]"
     ]
    },
    {
     "name": "stdout",
     "output_type": "stream",
     "text": [
      "Molecule not found\n"
     ]
    },
    {
     "name": "stderr",
     "output_type": "stream",
     "text": [
      " 12%|█▏        | 334/2675 [03:31<34:39,  1.13it/s]"
     ]
    },
    {
     "name": "stdout",
     "output_type": "stream",
     "text": [
      "Molecule not found\n"
     ]
    },
    {
     "name": "stderr",
     "output_type": "stream",
     "text": [
      " 13%|█▎        | 336/2675 [03:32<33:04,  1.18it/s]"
     ]
    },
    {
     "name": "stdout",
     "output_type": "stream",
     "text": [
      "Molecule not found\n"
     ]
    },
    {
     "name": "stderr",
     "output_type": "stream",
     "text": [
      " 13%|█▎        | 347/2675 [03:38<20:54,  1.86it/s]"
     ]
    },
    {
     "name": "stdout",
     "output_type": "stream",
     "text": [
      "Molecule not found\n"
     ]
    },
    {
     "name": "stderr",
     "output_type": "stream",
     "text": [
      " 14%|█▍        | 384/2675 [03:58<21:52,  1.75it/s]"
     ]
    },
    {
     "name": "stdout",
     "output_type": "stream",
     "text": [
      "Molecule not found\n"
     ]
    },
    {
     "name": "stderr",
     "output_type": "stream",
     "text": [
      " 16%|█▌        | 427/2675 [04:21<19:36,  1.91it/s]"
     ]
    },
    {
     "name": "stdout",
     "output_type": "stream",
     "text": [
      "Molecule not found\n"
     ]
    },
    {
     "name": "stderr",
     "output_type": "stream",
     "text": [
      " 16%|█▋        | 439/2675 [04:28<19:41,  1.89it/s]"
     ]
    },
    {
     "name": "stdout",
     "output_type": "stream",
     "text": [
      "Molecule not found\n"
     ]
    },
    {
     "name": "stderr",
     "output_type": "stream",
     "text": [
      " 17%|█▋        | 461/2675 [04:42<22:09,  1.67it/s]"
     ]
    },
    {
     "name": "stdout",
     "output_type": "stream",
     "text": [
      "Molecule not found\n"
     ]
    },
    {
     "name": "stderr",
     "output_type": "stream",
     "text": [
      " 18%|█▊        | 482/2675 [04:54<20:11,  1.81it/s]"
     ]
    },
    {
     "name": "stdout",
     "output_type": "stream",
     "text": [
      "Molecule not found\n"
     ]
    },
    {
     "name": "stderr",
     "output_type": "stream",
     "text": [
      " 20%|██        | 548/2675 [05:31<19:21,  1.83it/s]"
     ]
    },
    {
     "name": "stdout",
     "output_type": "stream",
     "text": [
      "Molecule not found\n"
     ]
    },
    {
     "name": "stderr",
     "output_type": "stream",
     "text": [
      " 21%|██        | 564/2675 [05:40<20:27,  1.72it/s]"
     ]
    },
    {
     "name": "stdout",
     "output_type": "stream",
     "text": [
      "Molecule not found\n"
     ]
    },
    {
     "name": "stderr",
     "output_type": "stream",
     "text": [
      " 21%|██▏       | 569/2675 [05:43<22:13,  1.58it/s]"
     ]
    },
    {
     "name": "stdout",
     "output_type": "stream",
     "text": [
      "Molecule not found\n"
     ]
    },
    {
     "name": "stderr",
     "output_type": "stream",
     "text": [
      " 22%|██▏       | 593/2675 [05:57<24:28,  1.42it/s]"
     ]
    },
    {
     "name": "stdout",
     "output_type": "stream",
     "text": [
      "Molecule not found\n"
     ]
    },
    {
     "name": "stderr",
     "output_type": "stream",
     "text": [
      " 23%|██▎       | 609/2675 [06:09<23:52,  1.44it/s]"
     ]
    },
    {
     "name": "stdout",
     "output_type": "stream",
     "text": [
      "Molecule not found\n"
     ]
    },
    {
     "name": "stderr",
     "output_type": "stream",
     "text": [
      " 23%|██▎       | 619/2675 [06:15<29:04,  1.18it/s]"
     ]
    },
    {
     "name": "stdout",
     "output_type": "stream",
     "text": [
      "Molecule not found\n"
     ]
    },
    {
     "name": "stderr",
     "output_type": "stream",
     "text": [
      " 23%|██▎       | 621/2675 [06:16<24:12,  1.41it/s]"
     ]
    },
    {
     "name": "stdout",
     "output_type": "stream",
     "text": [
      "Molecule not found\n"
     ]
    },
    {
     "name": "stderr",
     "output_type": "stream",
     "text": [
      " 24%|██▎       | 631/2675 [06:22<18:21,  1.86it/s]"
     ]
    },
    {
     "name": "stdout",
     "output_type": "stream",
     "text": [
      "Molecule not found\n"
     ]
    },
    {
     "name": "stderr",
     "output_type": "stream",
     "text": [
      " 24%|██▍       | 643/2675 [06:28<18:35,  1.82it/s]"
     ]
    },
    {
     "name": "stdout",
     "output_type": "stream",
     "text": [
      "Molecule not found\n"
     ]
    },
    {
     "name": "stderr",
     "output_type": "stream",
     "text": [
      " 24%|██▍       | 653/2675 [06:34<21:46,  1.55it/s]"
     ]
    },
    {
     "name": "stdout",
     "output_type": "stream",
     "text": [
      "Molecule not found\n"
     ]
    },
    {
     "name": "stderr",
     "output_type": "stream",
     "text": [
      " 26%|██▌       | 695/2675 [07:01<17:12,  1.92it/s]"
     ]
    },
    {
     "name": "stdout",
     "output_type": "stream",
     "text": [
      "Molecule not found\n"
     ]
    },
    {
     "name": "stderr",
     "output_type": "stream",
     "text": [
      " 26%|██▌       | 701/2675 [07:04<17:46,  1.85it/s]"
     ]
    },
    {
     "name": "stdout",
     "output_type": "stream",
     "text": [
      "Molecule not found\n"
     ]
    },
    {
     "name": "stderr",
     "output_type": "stream",
     "text": [
      " 28%|██▊       | 742/2675 [07:27<18:10,  1.77it/s]"
     ]
    },
    {
     "name": "stdout",
     "output_type": "stream",
     "text": [
      "Molecule not found\n"
     ]
    },
    {
     "name": "stderr",
     "output_type": "stream",
     "text": [
      " 28%|██▊       | 745/2675 [07:29<19:44,  1.63it/s]"
     ]
    },
    {
     "name": "stdout",
     "output_type": "stream",
     "text": [
      "Molecule not found\n"
     ]
    },
    {
     "name": "stderr",
     "output_type": "stream",
     "text": [
      " 29%|██▉       | 780/2675 [07:50<26:39,  1.18it/s]"
     ]
    },
    {
     "name": "stdout",
     "output_type": "stream",
     "text": [
      "Molecule not found\n"
     ]
    },
    {
     "name": "stderr",
     "output_type": "stream",
     "text": [
      " 29%|██▉       | 782/2675 [07:50<20:28,  1.54it/s]"
     ]
    },
    {
     "name": "stdout",
     "output_type": "stream",
     "text": [
      "Molecule not found\n"
     ]
    },
    {
     "name": "stderr",
     "output_type": "stream",
     "text": [
      " 30%|███       | 814/2675 [08:08<16:39,  1.86it/s]"
     ]
    },
    {
     "name": "stdout",
     "output_type": "stream",
     "text": [
      "Molecule not found\n"
     ]
    },
    {
     "name": "stderr",
     "output_type": "stream",
     "text": [
      " 32%|███▏      | 843/2675 [08:28<16:55,  1.80it/s]"
     ]
    },
    {
     "name": "stdout",
     "output_type": "stream",
     "text": [
      "Molecule not found\n"
     ]
    },
    {
     "name": "stderr",
     "output_type": "stream",
     "text": [
      " 32%|███▏      | 864/2675 [08:39<17:16,  1.75it/s]"
     ]
    },
    {
     "name": "stdout",
     "output_type": "stream",
     "text": [
      "Molecule not found\n"
     ]
    },
    {
     "name": "stderr",
     "output_type": "stream",
     "text": [
      " 32%|███▏      | 867/2675 [08:41<16:55,  1.78it/s]"
     ]
    },
    {
     "name": "stdout",
     "output_type": "stream",
     "text": [
      "Molecule not found\n"
     ]
    },
    {
     "name": "stderr",
     "output_type": "stream",
     "text": [
      " 33%|███▎      | 894/2675 [08:58<16:38,  1.78it/s]"
     ]
    },
    {
     "name": "stdout",
     "output_type": "stream",
     "text": [
      "Molecule not found\n"
     ]
    },
    {
     "name": "stderr",
     "output_type": "stream",
     "text": [
      " 35%|███▌      | 947/2675 [09:28<16:26,  1.75it/s]"
     ]
    },
    {
     "name": "stdout",
     "output_type": "stream",
     "text": [
      "Molecule not found\n"
     ]
    },
    {
     "name": "stderr",
     "output_type": "stream",
     "text": [
      " 35%|███▌      | 949/2675 [09:30<15:52,  1.81it/s]"
     ]
    },
    {
     "name": "stdout",
     "output_type": "stream",
     "text": [
      "Molecule not found\n"
     ]
    },
    {
     "name": "stderr",
     "output_type": "stream",
     "text": [
      " 36%|███▌      | 958/2675 [09:34<14:53,  1.92it/s]"
     ]
    },
    {
     "name": "stdout",
     "output_type": "stream",
     "text": [
      "Molecule not found\n"
     ]
    },
    {
     "name": "stderr",
     "output_type": "stream",
     "text": [
      " 40%|███▉      | 1062/2675 [10:33<14:49,  1.81it/s]"
     ]
    },
    {
     "name": "stdout",
     "output_type": "stream",
     "text": [
      "Molecule not found\n"
     ]
    },
    {
     "name": "stderr",
     "output_type": "stream",
     "text": [
      " 41%|████      | 1088/2675 [10:48<14:53,  1.78it/s]"
     ]
    },
    {
     "name": "stdout",
     "output_type": "stream",
     "text": [
      "Molecule not found\n"
     ]
    },
    {
     "name": "stderr",
     "output_type": "stream",
     "text": [
      " 41%|████      | 1093/2675 [10:51<14:42,  1.79it/s]"
     ]
    },
    {
     "name": "stdout",
     "output_type": "stream",
     "text": [
      "Molecule not found\n"
     ]
    },
    {
     "name": "stderr",
     "output_type": "stream",
     "text": [
      " 41%|████      | 1100/2675 [10:54<14:36,  1.80it/s]"
     ]
    },
    {
     "name": "stdout",
     "output_type": "stream",
     "text": [
      "Molecule not found\n"
     ]
    },
    {
     "name": "stderr",
     "output_type": "stream",
     "text": [
      " 42%|████▏     | 1119/2675 [11:04<14:15,  1.82it/s]"
     ]
    },
    {
     "name": "stdout",
     "output_type": "stream",
     "text": [
      "Molecule not found\n"
     ]
    },
    {
     "name": "stderr",
     "output_type": "stream",
     "text": [
      " 42%|████▏     | 1120/2675 [11:05<14:02,  1.84it/s]"
     ]
    },
    {
     "name": "stdout",
     "output_type": "stream",
     "text": [
      "Molecule not found\n"
     ]
    },
    {
     "name": "stderr",
     "output_type": "stream",
     "text": [
      " 42%|████▏     | 1123/2675 [11:06<13:32,  1.91it/s]"
     ]
    },
    {
     "name": "stdout",
     "output_type": "stream",
     "text": [
      "Molecule not found\n"
     ]
    },
    {
     "name": "stderr",
     "output_type": "stream",
     "text": [
      " 42%|████▏     | 1131/2675 [11:11<21:38,  1.19it/s]"
     ]
    },
    {
     "name": "stdout",
     "output_type": "stream",
     "text": [
      "Molecule not found\n"
     ]
    },
    {
     "name": "stderr",
     "output_type": "stream",
     "text": [
      " 43%|████▎     | 1139/2675 [11:16<16:25,  1.56it/s]"
     ]
    },
    {
     "name": "stdout",
     "output_type": "stream",
     "text": [
      "Molecule not found\n"
     ]
    },
    {
     "name": "stderr",
     "output_type": "stream",
     "text": [
      " 44%|████▎     | 1168/2675 [11:32<13:43,  1.83it/s]"
     ]
    },
    {
     "name": "stdout",
     "output_type": "stream",
     "text": [
      "Molecule not found\n"
     ]
    },
    {
     "name": "stderr",
     "output_type": "stream",
     "text": [
      " 44%|████▍     | 1172/2675 [11:34<11:58,  2.09it/s]"
     ]
    },
    {
     "name": "stdout",
     "output_type": "stream",
     "text": [
      "Molecule not found\n"
     ]
    },
    {
     "name": "stderr",
     "output_type": "stream",
     "text": [
      " 44%|████▍     | 1185/2675 [11:41<12:56,  1.92it/s]"
     ]
    },
    {
     "name": "stdout",
     "output_type": "stream",
     "text": [
      "Molecule not found\n"
     ]
    },
    {
     "name": "stderr",
     "output_type": "stream",
     "text": [
      " 44%|████▍     | 1190/2675 [11:43<13:11,  1.88it/s]"
     ]
    },
    {
     "name": "stdout",
     "output_type": "stream",
     "text": [
      "Molecule not found\n"
     ]
    },
    {
     "name": "stderr",
     "output_type": "stream",
     "text": [
      " 48%|████▊     | 1289/2675 [12:39<12:34,  1.84it/s]"
     ]
    },
    {
     "name": "stdout",
     "output_type": "stream",
     "text": [
      "Molecule not found\n"
     ]
    },
    {
     "name": "stderr",
     "output_type": "stream",
     "text": [
      " 50%|█████     | 1340/2675 [13:08<12:26,  1.79it/s]"
     ]
    },
    {
     "name": "stdout",
     "output_type": "stream",
     "text": [
      "Molecule not found\n"
     ]
    },
    {
     "name": "stderr",
     "output_type": "stream",
     "text": [
      " 51%|█████     | 1369/2675 [13:24<11:30,  1.89it/s]"
     ]
    },
    {
     "name": "stdout",
     "output_type": "stream",
     "text": [
      "Molecule not found\n"
     ]
    },
    {
     "name": "stderr",
     "output_type": "stream",
     "text": [
      " 52%|█████▏    | 1399/2675 [13:40<11:31,  1.84it/s]"
     ]
    },
    {
     "name": "stdout",
     "output_type": "stream",
     "text": [
      "Molecule not found\n"
     ]
    },
    {
     "name": "stderr",
     "output_type": "stream",
     "text": [
      " 52%|█████▏    | 1403/2675 [13:42<11:03,  1.92it/s]"
     ]
    },
    {
     "name": "stdout",
     "output_type": "stream",
     "text": [
      "Molecule not found\n"
     ]
    },
    {
     "name": "stderr",
     "output_type": "stream",
     "text": [
      " 53%|█████▎    | 1410/2675 [13:45<11:06,  1.90it/s]"
     ]
    },
    {
     "name": "stdout",
     "output_type": "stream",
     "text": [
      "Molecule not found\n"
     ]
    },
    {
     "name": "stderr",
     "output_type": "stream",
     "text": [
      " 53%|█████▎    | 1429/2675 [13:55<11:06,  1.87it/s]"
     ]
    },
    {
     "name": "stdout",
     "output_type": "stream",
     "text": [
      "Molecule not found\n"
     ]
    },
    {
     "name": "stderr",
     "output_type": "stream",
     "text": [
      " 54%|█████▎    | 1436/2675 [13:59<11:02,  1.87it/s]"
     ]
    },
    {
     "name": "stdout",
     "output_type": "stream",
     "text": [
      "Molecule not found\n"
     ]
    },
    {
     "name": "stderr",
     "output_type": "stream",
     "text": [
      " 54%|█████▍    | 1448/2675 [14:05<11:11,  1.83it/s]"
     ]
    },
    {
     "name": "stdout",
     "output_type": "stream",
     "text": [
      "Molecule not found\n"
     ]
    },
    {
     "name": "stderr",
     "output_type": "stream",
     "text": [
      " 55%|█████▍    | 1461/2675 [14:12<11:52,  1.70it/s]"
     ]
    },
    {
     "name": "stdout",
     "output_type": "stream",
     "text": [
      "Molecule not found\n",
      "Molecule not found\n"
     ]
    },
    {
     "name": "stderr",
     "output_type": "stream",
     "text": [
      " 57%|█████▋    | 1514/2675 [14:40<10:17,  1.88it/s]"
     ]
    },
    {
     "name": "stdout",
     "output_type": "stream",
     "text": [
      "Molecule not found\n"
     ]
    },
    {
     "name": "stderr",
     "output_type": "stream",
     "text": [
      " 57%|█████▋    | 1516/2675 [14:41<10:51,  1.78it/s]"
     ]
    },
    {
     "name": "stdout",
     "output_type": "stream",
     "text": [
      "Molecule not found\n"
     ]
    },
    {
     "name": "stderr",
     "output_type": "stream",
     "text": [
      " 57%|█████▋    | 1531/2675 [14:48<10:08,  1.88it/s]"
     ]
    },
    {
     "name": "stdout",
     "output_type": "stream",
     "text": [
      "Molecule not found\n"
     ]
    },
    {
     "name": "stderr",
     "output_type": "stream",
     "text": [
      " 57%|█████▋    | 1534/2675 [14:50<08:38,  2.20it/s]"
     ]
    },
    {
     "name": "stdout",
     "output_type": "stream",
     "text": [
      "Molecule not found\n"
     ]
    },
    {
     "name": "stderr",
     "output_type": "stream",
     "text": [
      " 58%|█████▊    | 1539/2675 [14:52<08:33,  2.21it/s]"
     ]
    },
    {
     "name": "stdout",
     "output_type": "stream",
     "text": [
      "Molecule not found\n"
     ]
    },
    {
     "name": "stderr",
     "output_type": "stream",
     "text": [
      " 58%|█████▊    | 1560/2675 [15:03<09:57,  1.87it/s]"
     ]
    },
    {
     "name": "stdout",
     "output_type": "stream",
     "text": [
      "Molecule not found\n"
     ]
    },
    {
     "name": "stderr",
     "output_type": "stream",
     "text": [
      " 58%|█████▊    | 1564/2675 [15:05<10:09,  1.82it/s]"
     ]
    },
    {
     "name": "stdout",
     "output_type": "stream",
     "text": [
      "Molecule not found\n"
     ]
    },
    {
     "name": "stderr",
     "output_type": "stream",
     "text": [
      " 59%|█████▊    | 1569/2675 [15:08<10:05,  1.83it/s]"
     ]
    },
    {
     "name": "stdout",
     "output_type": "stream",
     "text": [
      "Molecule not found\n"
     ]
    },
    {
     "name": "stderr",
     "output_type": "stream",
     "text": [
      " 59%|█████▉    | 1585/2675 [15:16<09:43,  1.87it/s]"
     ]
    },
    {
     "name": "stdout",
     "output_type": "stream",
     "text": [
      "Molecule not found\n"
     ]
    },
    {
     "name": "stderr",
     "output_type": "stream",
     "text": [
      " 60%|█████▉    | 1600/2675 [15:24<09:24,  1.90it/s]"
     ]
    },
    {
     "name": "stdout",
     "output_type": "stream",
     "text": [
      "Molecule not found\n"
     ]
    },
    {
     "name": "stderr",
     "output_type": "stream",
     "text": [
      " 61%|██████    | 1636/2675 [15:47<10:55,  1.58it/s]"
     ]
    },
    {
     "name": "stdout",
     "output_type": "stream",
     "text": [
      "Molecule not found\n"
     ]
    },
    {
     "name": "stderr",
     "output_type": "stream",
     "text": [
      " 61%|██████    | 1637/2675 [15:48<10:25,  1.66it/s]"
     ]
    },
    {
     "name": "stdout",
     "output_type": "stream",
     "text": [
      "Molecule not found\n"
     ]
    },
    {
     "name": "stderr",
     "output_type": "stream",
     "text": [
      " 62%|██████▏   | 1653/2675 [15:56<09:19,  1.83it/s]"
     ]
    },
    {
     "name": "stdout",
     "output_type": "stream",
     "text": [
      "Molecule not found\n"
     ]
    },
    {
     "name": "stderr",
     "output_type": "stream",
     "text": [
      " 62%|██████▏   | 1669/2675 [16:05<09:00,  1.86it/s]"
     ]
    },
    {
     "name": "stdout",
     "output_type": "stream",
     "text": [
      "Molecule not found\n"
     ]
    },
    {
     "name": "stderr",
     "output_type": "stream",
     "text": [
      " 64%|██████▍   | 1722/2675 [16:37<08:24,  1.89it/s]"
     ]
    },
    {
     "name": "stdout",
     "output_type": "stream",
     "text": [
      "Molecule not found\n"
     ]
    },
    {
     "name": "stderr",
     "output_type": "stream",
     "text": [
      " 65%|██████▍   | 1730/2675 [16:41<08:45,  1.80it/s]"
     ]
    },
    {
     "name": "stdout",
     "output_type": "stream",
     "text": [
      "Molecule not found\n"
     ]
    },
    {
     "name": "stderr",
     "output_type": "stream",
     "text": [
      " 65%|██████▍   | 1732/2675 [16:42<06:47,  2.31it/s]"
     ]
    },
    {
     "name": "stdout",
     "output_type": "stream",
     "text": [
      "Molecule not found\n"
     ]
    },
    {
     "name": "stderr",
     "output_type": "stream",
     "text": [
      " 66%|██████▌   | 1757/2675 [16:55<07:58,  1.92it/s]"
     ]
    },
    {
     "name": "stdout",
     "output_type": "stream",
     "text": [
      "Molecule not found\n"
     ]
    },
    {
     "name": "stderr",
     "output_type": "stream",
     "text": [
      " 66%|██████▋   | 1773/2675 [17:04<08:20,  1.80it/s]"
     ]
    },
    {
     "name": "stdout",
     "output_type": "stream",
     "text": [
      "Molecule not found\n"
     ]
    },
    {
     "name": "stderr",
     "output_type": "stream",
     "text": [
      " 66%|██████▋   | 1774/2675 [17:04<08:40,  1.73it/s]"
     ]
    },
    {
     "name": "stdout",
     "output_type": "stream",
     "text": [
      "Molecule not found\n"
     ]
    },
    {
     "name": "stderr",
     "output_type": "stream",
     "text": [
      " 66%|██████▋   | 1775/2675 [17:05<10:26,  1.44it/s]"
     ]
    },
    {
     "name": "stdout",
     "output_type": "stream",
     "text": [
      "Molecule not found\n",
      "Molecule not found\n"
     ]
    },
    {
     "name": "stderr",
     "output_type": "stream",
     "text": [
      " 66%|██████▋   | 1777/2675 [17:06<07:24,  2.02it/s]"
     ]
    },
    {
     "name": "stdout",
     "output_type": "stream",
     "text": [
      "Molecule not found\n"
     ]
    },
    {
     "name": "stderr",
     "output_type": "stream",
     "text": [
      " 66%|██████▋   | 1778/2675 [17:06<07:30,  1.99it/s]"
     ]
    },
    {
     "name": "stdout",
     "output_type": "stream",
     "text": [
      "Molecule not found\n"
     ]
    },
    {
     "name": "stderr",
     "output_type": "stream",
     "text": [
      " 67%|██████▋   | 1797/2675 [17:17<08:20,  1.75it/s]"
     ]
    },
    {
     "name": "stdout",
     "output_type": "stream",
     "text": [
      "Molecule not found\n"
     ]
    },
    {
     "name": "stderr",
     "output_type": "stream",
     "text": [
      " 67%|██████▋   | 1800/2675 [17:18<06:52,  2.12it/s]"
     ]
    },
    {
     "name": "stdout",
     "output_type": "stream",
     "text": [
      "Molecule not found\n",
      "Molecule not found\n",
      "Molecule not found\n",
      "Molecule not found\n",
      "Molecule not found\n"
     ]
    },
    {
     "name": "stderr",
     "output_type": "stream",
     "text": [
      " 68%|██████▊   | 1806/2675 [17:19<03:06,  4.66it/s]"
     ]
    },
    {
     "name": "stdout",
     "output_type": "stream",
     "text": [
      "Molecule not found\n"
     ]
    },
    {
     "name": "stderr",
     "output_type": "stream",
     "text": [
      " 68%|██████▊   | 1820/2675 [17:27<08:27,  1.68it/s]"
     ]
    },
    {
     "name": "stdout",
     "output_type": "stream",
     "text": [
      "Molecule not found\n"
     ]
    },
    {
     "name": "stderr",
     "output_type": "stream",
     "text": [
      " 68%|██████▊   | 1828/2675 [17:31<07:18,  1.93it/s]"
     ]
    },
    {
     "name": "stdout",
     "output_type": "stream",
     "text": [
      "Molecule not found\n",
      "Molecule not found\n"
     ]
    },
    {
     "name": "stderr",
     "output_type": "stream",
     "text": [
      " 68%|██████▊   | 1831/2675 [17:32<06:00,  2.34it/s]"
     ]
    },
    {
     "name": "stdout",
     "output_type": "stream",
     "text": [
      "Molecule not found\n"
     ]
    },
    {
     "name": "stderr",
     "output_type": "stream",
     "text": [
      " 69%|██████▊   | 1833/2675 [17:33<06:37,  2.12it/s]"
     ]
    },
    {
     "name": "stdout",
     "output_type": "stream",
     "text": [
      "Molecule not found\n",
      "Molecule not found\n"
     ]
    },
    {
     "name": "stderr",
     "output_type": "stream",
     "text": [
      " 69%|██████▉   | 1847/2675 [17:40<07:44,  1.78it/s]"
     ]
    },
    {
     "name": "stdout",
     "output_type": "stream",
     "text": [
      "Molecule not found\n",
      "Molecule not found\n",
      "Molecule not found\n"
     ]
    },
    {
     "name": "stderr",
     "output_type": "stream",
     "text": [
      " 69%|██████▉   | 1850/2675 [17:41<04:46,  2.88it/s]"
     ]
    },
    {
     "name": "stdout",
     "output_type": "stream",
     "text": [
      "Molecule not found\n"
     ]
    },
    {
     "name": "stderr",
     "output_type": "stream",
     "text": [
      " 70%|██████▉   | 1864/2675 [17:48<07:24,  1.82it/s]"
     ]
    },
    {
     "name": "stdout",
     "output_type": "stream",
     "text": [
      "Molecule not found\n"
     ]
    },
    {
     "name": "stderr",
     "output_type": "stream",
     "text": [
      " 70%|██████▉   | 1868/2675 [17:50<06:28,  2.07it/s]"
     ]
    },
    {
     "name": "stdout",
     "output_type": "stream",
     "text": [
      "Molecule not found\n"
     ]
    },
    {
     "name": "stderr",
     "output_type": "stream",
     "text": [
      " 70%|██████▉   | 1870/2675 [17:50<05:11,  2.58it/s]"
     ]
    },
    {
     "name": "stdout",
     "output_type": "stream",
     "text": [
      "Molecule not found\n"
     ]
    },
    {
     "name": "stderr",
     "output_type": "stream",
     "text": [
      " 70%|███████   | 1875/2675 [17:53<06:11,  2.15it/s]"
     ]
    },
    {
     "name": "stdout",
     "output_type": "stream",
     "text": [
      "Molecule not found\n"
     ]
    },
    {
     "name": "stderr",
     "output_type": "stream",
     "text": [
      " 70%|███████   | 1879/2675 [17:54<06:00,  2.21it/s]"
     ]
    },
    {
     "name": "stdout",
     "output_type": "stream",
     "text": [
      "Molecule not found\n"
     ]
    },
    {
     "name": "stderr",
     "output_type": "stream",
     "text": [
      " 70%|███████   | 1883/2675 [17:56<06:46,  1.95it/s]"
     ]
    },
    {
     "name": "stdout",
     "output_type": "stream",
     "text": [
      "Molecule not found\n"
     ]
    },
    {
     "name": "stderr",
     "output_type": "stream",
     "text": [
      " 71%|███████   | 1896/2675 [18:04<07:08,  1.82it/s]"
     ]
    },
    {
     "name": "stdout",
     "output_type": "stream",
     "text": [
      "Molecule not found\n"
     ]
    },
    {
     "name": "stderr",
     "output_type": "stream",
     "text": [
      " 72%|███████▏  | 1922/2675 [18:18<07:41,  1.63it/s]"
     ]
    },
    {
     "name": "stdout",
     "output_type": "stream",
     "text": [
      "Molecule not found\n",
      "Molecule not found\n"
     ]
    },
    {
     "name": "stderr",
     "output_type": "stream",
     "text": [
      " 72%|███████▏  | 1925/2675 [18:18<04:37,  2.71it/s]"
     ]
    },
    {
     "name": "stdout",
     "output_type": "stream",
     "text": [
      "Molecule not found\n"
     ]
    },
    {
     "name": "stderr",
     "output_type": "stream",
     "text": [
      " 72%|███████▏  | 1933/2675 [18:22<06:20,  1.95it/s]"
     ]
    },
    {
     "name": "stdout",
     "output_type": "stream",
     "text": [
      "Molecule not found\n"
     ]
    },
    {
     "name": "stderr",
     "output_type": "stream",
     "text": [
      " 72%|███████▏  | 1935/2675 [18:23<04:55,  2.51it/s]"
     ]
    },
    {
     "name": "stdout",
     "output_type": "stream",
     "text": [
      "Molecule not found\n",
      "Molecule not found\n"
     ]
    },
    {
     "name": "stderr",
     "output_type": "stream",
     "text": [
      " 73%|███████▎  | 1943/2675 [18:26<06:00,  2.03it/s]"
     ]
    },
    {
     "name": "stdout",
     "output_type": "stream",
     "text": [
      "Molecule not found\n",
      "Molecule not found\n"
     ]
    },
    {
     "name": "stderr",
     "output_type": "stream",
     "text": [
      " 73%|███████▎  | 1948/2675 [18:27<04:53,  2.48it/s]"
     ]
    },
    {
     "name": "stdout",
     "output_type": "stream",
     "text": [
      "Molecule not found\n",
      "Molecule not found\n",
      "Molecule not found\n",
      "Molecule not found\n",
      "Molecule not found\n"
     ]
    },
    {
     "name": "stderr",
     "output_type": "stream",
     "text": [
      " 73%|███████▎  | 1954/2675 [18:28<02:26,  4.91it/s]"
     ]
    },
    {
     "name": "stdout",
     "output_type": "stream",
     "text": [
      "Molecule not found\n"
     ]
    },
    {
     "name": "stderr",
     "output_type": "stream",
     "text": [
      " 73%|███████▎  | 1960/2675 [18:31<05:00,  2.38it/s]"
     ]
    },
    {
     "name": "stdout",
     "output_type": "stream",
     "text": [
      "Molecule not found\n",
      "Molecule not found\n",
      "Molecule not found\n"
     ]
    },
    {
     "name": "stderr",
     "output_type": "stream",
     "text": [
      " 73%|███████▎  | 1966/2675 [18:33<05:23,  2.19it/s]"
     ]
    },
    {
     "name": "stdout",
     "output_type": "stream",
     "text": [
      "Molecule not found\n"
     ]
    },
    {
     "name": "stderr",
     "output_type": "stream",
     "text": [
      " 74%|███████▍  | 1973/2675 [18:37<05:42,  2.05it/s]"
     ]
    },
    {
     "name": "stdout",
     "output_type": "stream",
     "text": [
      "Molecule not found\n"
     ]
    },
    {
     "name": "stderr",
     "output_type": "stream",
     "text": [
      " 74%|███████▍  | 1979/2675 [18:40<06:14,  1.86it/s]"
     ]
    },
    {
     "name": "stdout",
     "output_type": "stream",
     "text": [
      "Molecule not found\n",
      "Molecule not found\n"
     ]
    },
    {
     "name": "stderr",
     "output_type": "stream",
     "text": [
      " 74%|███████▍  | 1982/2675 [18:40<03:59,  2.89it/s]"
     ]
    },
    {
     "name": "stdout",
     "output_type": "stream",
     "text": [
      "Molecule not found\n",
      "Molecule not found\n"
     ]
    },
    {
     "name": "stderr",
     "output_type": "stream",
     "text": [
      " 74%|███████▍  | 1985/2675 [18:41<03:24,  3.37it/s]"
     ]
    },
    {
     "name": "stdout",
     "output_type": "stream",
     "text": [
      "Molecule not found\n"
     ]
    },
    {
     "name": "stderr",
     "output_type": "stream",
     "text": [
      " 74%|███████▍  | 1987/2675 [18:41<03:17,  3.48it/s]"
     ]
    },
    {
     "name": "stdout",
     "output_type": "stream",
     "text": [
      "Molecule not found\n"
     ]
    },
    {
     "name": "stderr",
     "output_type": "stream",
     "text": [
      " 74%|███████▍  | 1989/2675 [18:42<03:13,  3.55it/s]"
     ]
    },
    {
     "name": "stdout",
     "output_type": "stream",
     "text": [
      "Molecule not found\n"
     ]
    },
    {
     "name": "stderr",
     "output_type": "stream",
     "text": [
      " 74%|███████▍  | 1992/2675 [18:43<03:38,  3.12it/s]"
     ]
    },
    {
     "name": "stdout",
     "output_type": "stream",
     "text": [
      "Molecule not found\n"
     ]
    },
    {
     "name": "stderr",
     "output_type": "stream",
     "text": [
      " 75%|███████▍  | 1997/2675 [18:45<04:45,  2.38it/s]"
     ]
    },
    {
     "name": "stdout",
     "output_type": "stream",
     "text": [
      "Molecule not found\n"
     ]
    },
    {
     "name": "stderr",
     "output_type": "stream",
     "text": [
      " 75%|███████▍  | 1999/2675 [18:46<04:01,  2.80it/s]"
     ]
    },
    {
     "name": "stdout",
     "output_type": "stream",
     "text": [
      "Molecule not found\n"
     ]
    },
    {
     "name": "stderr",
     "output_type": "stream",
     "text": [
      " 75%|███████▌  | 2007/2675 [18:49<05:41,  1.96it/s]"
     ]
    },
    {
     "name": "stdout",
     "output_type": "stream",
     "text": [
      "Molecule not found\n"
     ]
    },
    {
     "name": "stderr",
     "output_type": "stream",
     "text": [
      " 75%|███████▌  | 2009/2675 [18:50<04:27,  2.49it/s]"
     ]
    },
    {
     "name": "stdout",
     "output_type": "stream",
     "text": [
      "Molecule not found\n"
     ]
    },
    {
     "name": "stderr",
     "output_type": "stream",
     "text": [
      " 75%|███████▌  | 2011/2675 [18:50<03:50,  2.88it/s]"
     ]
    },
    {
     "name": "stdout",
     "output_type": "stream",
     "text": [
      "Molecule not found\n"
     ]
    },
    {
     "name": "stderr",
     "output_type": "stream",
     "text": [
      " 75%|███████▌  | 2014/2675 [18:52<04:11,  2.63it/s]"
     ]
    },
    {
     "name": "stdout",
     "output_type": "stream",
     "text": [
      "Molecule not found\n"
     ]
    },
    {
     "name": "stderr",
     "output_type": "stream",
     "text": [
      " 75%|███████▌  | 2019/2675 [18:54<04:58,  2.20it/s]"
     ]
    },
    {
     "name": "stdout",
     "output_type": "stream",
     "text": [
      "Molecule not found\n"
     ]
    },
    {
     "name": "stderr",
     "output_type": "stream",
     "text": [
      " 76%|███████▌  | 2022/2675 [18:55<04:33,  2.39it/s]"
     ]
    },
    {
     "name": "stdout",
     "output_type": "stream",
     "text": [
      "Molecule not found\n"
     ]
    },
    {
     "name": "stderr",
     "output_type": "stream",
     "text": [
      " 76%|███████▌  | 2025/2675 [18:56<04:30,  2.40it/s]"
     ]
    },
    {
     "name": "stdout",
     "output_type": "stream",
     "text": [
      "Molecule not found\n"
     ]
    },
    {
     "name": "stderr",
     "output_type": "stream",
     "text": [
      " 76%|███████▌  | 2028/2675 [18:57<04:16,  2.52it/s]"
     ]
    },
    {
     "name": "stdout",
     "output_type": "stream",
     "text": [
      "Molecule not found\n",
      "Molecule not found\n"
     ]
    },
    {
     "name": "stderr",
     "output_type": "stream",
     "text": [
      " 76%|███████▌  | 2032/2675 [18:58<03:38,  2.95it/s]"
     ]
    },
    {
     "name": "stdout",
     "output_type": "stream",
     "text": [
      "Molecule not found\n"
     ]
    },
    {
     "name": "stderr",
     "output_type": "stream",
     "text": [
      " 76%|███████▌  | 2039/2675 [19:02<05:29,  1.93it/s]"
     ]
    },
    {
     "name": "stdout",
     "output_type": "stream",
     "text": [
      "Molecule not found\n",
      "Molecule not found\n"
     ]
    },
    {
     "name": "stderr",
     "output_type": "stream",
     "text": [
      " 76%|███████▋  | 2043/2675 [19:04<05:03,  2.08it/s]"
     ]
    },
    {
     "name": "stdout",
     "output_type": "stream",
     "text": [
      "Molecule not found\n",
      "Molecule not found\n"
     ]
    },
    {
     "name": "stderr",
     "output_type": "stream",
     "text": [
      " 76%|███████▋  | 2046/2675 [19:04<03:21,  3.13it/s]"
     ]
    },
    {
     "name": "stdout",
     "output_type": "stream",
     "text": [
      "Molecule not found\n"
     ]
    },
    {
     "name": "stderr",
     "output_type": "stream",
     "text": [
      " 77%|███████▋  | 2048/2675 [19:05<04:11,  2.49it/s]"
     ]
    },
    {
     "name": "stdout",
     "output_type": "stream",
     "text": [
      "Molecule not found\n",
      "Molecule not found\n"
     ]
    },
    {
     "name": "stderr",
     "output_type": "stream",
     "text": [
      " 77%|███████▋  | 2054/2675 [19:07<04:15,  2.43it/s]"
     ]
    },
    {
     "name": "stdout",
     "output_type": "stream",
     "text": [
      "Molecule not found\n"
     ]
    },
    {
     "name": "stderr",
     "output_type": "stream",
     "text": [
      " 77%|███████▋  | 2056/2675 [19:08<03:38,  2.83it/s]"
     ]
    },
    {
     "name": "stdout",
     "output_type": "stream",
     "text": [
      "Molecule not found\n",
      "Molecule not found\n"
     ]
    },
    {
     "name": "stderr",
     "output_type": "stream",
     "text": [
      " 77%|███████▋  | 2059/2675 [19:09<03:00,  3.40it/s]"
     ]
    },
    {
     "name": "stdout",
     "output_type": "stream",
     "text": [
      "Molecule not found\n"
     ]
    },
    {
     "name": "stderr",
     "output_type": "stream",
     "text": [
      " 77%|███████▋  | 2061/2675 [19:09<02:56,  3.48it/s]"
     ]
    },
    {
     "name": "stdout",
     "output_type": "stream",
     "text": [
      "Molecule not found\n",
      "Molecule not found\n"
     ]
    },
    {
     "name": "stderr",
     "output_type": "stream",
     "text": [
      " 77%|███████▋  | 2064/2675 [19:10<02:30,  4.07it/s]"
     ]
    },
    {
     "name": "stdout",
     "output_type": "stream",
     "text": [
      "Molecule not found\n",
      "Molecule not found\n"
     ]
    },
    {
     "name": "stderr",
     "output_type": "stream",
     "text": [
      " 77%|███████▋  | 2068/2675 [19:11<02:48,  3.60it/s]"
     ]
    },
    {
     "name": "stdout",
     "output_type": "stream",
     "text": [
      "Molecule not found\n",
      "Molecule not found\n"
     ]
    },
    {
     "name": "stderr",
     "output_type": "stream",
     "text": [
      " 78%|███████▊  | 2075/2675 [19:15<05:10,  1.93it/s]"
     ]
    },
    {
     "name": "stdout",
     "output_type": "stream",
     "text": [
      "Molecule not found\n"
     ]
    },
    {
     "name": "stderr",
     "output_type": "stream",
     "text": [
      " 78%|███████▊  | 2079/2675 [19:16<04:44,  2.09it/s]"
     ]
    },
    {
     "name": "stdout",
     "output_type": "stream",
     "text": [
      "Molecule not found\n"
     ]
    },
    {
     "name": "stderr",
     "output_type": "stream",
     "text": [
      " 78%|███████▊  | 2081/2675 [19:17<04:38,  2.13it/s]"
     ]
    },
    {
     "name": "stdout",
     "output_type": "stream",
     "text": [
      "Molecule not found\n",
      "Molecule not found\n"
     ]
    },
    {
     "name": "stderr",
     "output_type": "stream",
     "text": [
      " 78%|███████▊  | 2086/2675 [19:19<04:35,  2.14it/s]"
     ]
    },
    {
     "name": "stdout",
     "output_type": "stream",
     "text": [
      "Molecule not found\n"
     ]
    },
    {
     "name": "stderr",
     "output_type": "stream",
     "text": [
      " 78%|███████▊  | 2093/2675 [19:22<04:47,  2.02it/s]"
     ]
    },
    {
     "name": "stdout",
     "output_type": "stream",
     "text": [
      "Molecule not found\n",
      "Molecule not found\n",
      "Molecule not found\n"
     ]
    },
    {
     "name": "stderr",
     "output_type": "stream",
     "text": [
      " 78%|███████▊  | 2097/2675 [19:23<02:53,  3.32it/s]"
     ]
    },
    {
     "name": "stdout",
     "output_type": "stream",
     "text": [
      "Molecule not found\n"
     ]
    },
    {
     "name": "stderr",
     "output_type": "stream",
     "text": [
      " 78%|███████▊  | 2099/2675 [19:24<03:17,  2.92it/s]"
     ]
    },
    {
     "name": "stdout",
     "output_type": "stream",
     "text": [
      "Molecule not found\n"
     ]
    },
    {
     "name": "stderr",
     "output_type": "stream",
     "text": [
      " 79%|███████▊  | 2101/2675 [19:25<03:12,  2.98it/s]"
     ]
    },
    {
     "name": "stdout",
     "output_type": "stream",
     "text": [
      "Molecule not found\n"
     ]
    },
    {
     "name": "stderr",
     "output_type": "stream",
     "text": [
      " 79%|███████▊  | 2105/2675 [19:29<06:29,  1.46it/s]"
     ]
    },
    {
     "name": "stdout",
     "output_type": "stream",
     "text": [
      "Molecule not found\n"
     ]
    },
    {
     "name": "stderr",
     "output_type": "stream",
     "text": [
      " 79%|███████▉  | 2108/2675 [19:30<04:51,  1.95it/s]"
     ]
    },
    {
     "name": "stdout",
     "output_type": "stream",
     "text": [
      "Molecule not found\n"
     ]
    },
    {
     "name": "stderr",
     "output_type": "stream",
     "text": [
      " 79%|███████▉  | 2111/2675 [19:31<04:05,  2.30it/s]"
     ]
    },
    {
     "name": "stdout",
     "output_type": "stream",
     "text": [
      "Molecule not found\n"
     ]
    },
    {
     "name": "stderr",
     "output_type": "stream",
     "text": [
      " 79%|███████▉  | 2116/2675 [19:33<04:42,  1.98it/s]"
     ]
    },
    {
     "name": "stdout",
     "output_type": "stream",
     "text": [
      "Molecule not found\n",
      "Molecule not found\n",
      "Molecule not found\n",
      "Molecule not found\n"
     ]
    },
    {
     "name": "stderr",
     "output_type": "stream",
     "text": [
      " 79%|███████▉  | 2121/2675 [19:34<02:20,  3.95it/s]"
     ]
    },
    {
     "name": "stdout",
     "output_type": "stream",
     "text": [
      "Molecule not found\n"
     ]
    },
    {
     "name": "stderr",
     "output_type": "stream",
     "text": [
      " 80%|███████▉  | 2135/2675 [19:42<04:59,  1.81it/s]"
     ]
    },
    {
     "name": "stdout",
     "output_type": "stream",
     "text": [
      "Molecule not found\n",
      "Molecule not found\n"
     ]
    },
    {
     "name": "stderr",
     "output_type": "stream",
     "text": [
      " 80%|████████  | 2149/2675 [19:49<05:50,  1.50it/s]"
     ]
    },
    {
     "name": "stdout",
     "output_type": "stream",
     "text": [
      "Molecule not found\n"
     ]
    },
    {
     "name": "stderr",
     "output_type": "stream",
     "text": [
      " 80%|████████  | 2151/2675 [19:50<04:15,  2.05it/s]"
     ]
    },
    {
     "name": "stdout",
     "output_type": "stream",
     "text": [
      "Molecule not found\n"
     ]
    },
    {
     "name": "stderr",
     "output_type": "stream",
     "text": [
      " 81%|████████  | 2161/2675 [19:55<04:37,  1.85it/s]"
     ]
    },
    {
     "name": "stdout",
     "output_type": "stream",
     "text": [
      "Molecule not found\n"
     ]
    },
    {
     "name": "stderr",
     "output_type": "stream",
     "text": [
      " 81%|████████  | 2163/2675 [19:56<04:39,  1.83it/s]"
     ]
    },
    {
     "name": "stdout",
     "output_type": "stream",
     "text": [
      "Molecule not found\n",
      "Molecule not found\n"
     ]
    },
    {
     "name": "stderr",
     "output_type": "stream",
     "text": [
      " 82%|████████▏ | 2181/2675 [20:05<04:21,  1.89it/s]"
     ]
    },
    {
     "name": "stdout",
     "output_type": "stream",
     "text": [
      "Molecule not found\n"
     ]
    },
    {
     "name": "stderr",
     "output_type": "stream",
     "text": [
      " 84%|████████▎ | 2239/2675 [20:44<04:03,  1.79it/s]"
     ]
    },
    {
     "name": "stdout",
     "output_type": "stream",
     "text": [
      "Molecule not found\n"
     ]
    },
    {
     "name": "stderr",
     "output_type": "stream",
     "text": [
      " 84%|████████▍ | 2250/2675 [20:51<05:16,  1.34it/s]"
     ]
    },
    {
     "name": "stdout",
     "output_type": "stream",
     "text": [
      "Molecule not found\n"
     ]
    },
    {
     "name": "stderr",
     "output_type": "stream",
     "text": [
      " 84%|████████▍ | 2254/2675 [20:53<04:10,  1.68it/s]"
     ]
    },
    {
     "name": "stdout",
     "output_type": "stream",
     "text": [
      "Molecule not found\n"
     ]
    },
    {
     "name": "stderr",
     "output_type": "stream",
     "text": [
      " 85%|████████▍ | 2262/2675 [20:57<03:31,  1.95it/s]"
     ]
    },
    {
     "name": "stdout",
     "output_type": "stream",
     "text": [
      "Molecule not found\n"
     ]
    },
    {
     "name": "stderr",
     "output_type": "stream",
     "text": [
      " 85%|████████▍ | 2273/2675 [21:03<03:40,  1.83it/s]"
     ]
    },
    {
     "name": "stdout",
     "output_type": "stream",
     "text": [
      "Molecule not found\n"
     ]
    },
    {
     "name": "stderr",
     "output_type": "stream",
     "text": [
      " 87%|████████▋ | 2316/2675 [21:30<03:52,  1.54it/s]"
     ]
    },
    {
     "name": "stdout",
     "output_type": "stream",
     "text": [
      "Molecule not found\n"
     ]
    },
    {
     "name": "stderr",
     "output_type": "stream",
     "text": [
      " 87%|████████▋ | 2322/2675 [21:34<03:24,  1.73it/s]"
     ]
    },
    {
     "name": "stdout",
     "output_type": "stream",
     "text": [
      "Molecule not found\n"
     ]
    },
    {
     "name": "stderr",
     "output_type": "stream",
     "text": [
      " 87%|████████▋ | 2333/2675 [21:39<03:08,  1.82it/s]"
     ]
    },
    {
     "name": "stdout",
     "output_type": "stream",
     "text": [
      "Molecule not found\n"
     ]
    },
    {
     "name": "stderr",
     "output_type": "stream",
     "text": [
      " 87%|████████▋ | 2340/2675 [21:43<02:58,  1.88it/s]"
     ]
    },
    {
     "name": "stdout",
     "output_type": "stream",
     "text": [
      "Molecule not found\n"
     ]
    },
    {
     "name": "stderr",
     "output_type": "stream",
     "text": [
      " 88%|████████▊ | 2344/2675 [21:47<04:29,  1.23it/s]"
     ]
    },
    {
     "name": "stdout",
     "output_type": "stream",
     "text": [
      "Molecule not found\n"
     ]
    },
    {
     "name": "stderr",
     "output_type": "stream",
     "text": [
      " 89%|████████▉ | 2384/2675 [22:11<02:50,  1.71it/s]"
     ]
    },
    {
     "name": "stdout",
     "output_type": "stream",
     "text": [
      "Molecule not found\n",
      "Molecule not found\n"
     ]
    },
    {
     "name": "stderr",
     "output_type": "stream",
     "text": [
      " 89%|████████▉ | 2392/2675 [22:14<02:15,  2.09it/s]"
     ]
    },
    {
     "name": "stdout",
     "output_type": "stream",
     "text": [
      "Molecule not found\n"
     ]
    },
    {
     "name": "stderr",
     "output_type": "stream",
     "text": [
      " 90%|████████▉ | 2397/2675 [22:16<02:10,  2.13it/s]"
     ]
    },
    {
     "name": "stdout",
     "output_type": "stream",
     "text": [
      "Molecule not found\n",
      "Molecule not found\n"
     ]
    },
    {
     "name": "stderr",
     "output_type": "stream",
     "text": [
      " 90%|█████████ | 2414/2675 [22:25<02:27,  1.77it/s]"
     ]
    },
    {
     "name": "stdout",
     "output_type": "stream",
     "text": [
      "Molecule not found\n"
     ]
    },
    {
     "name": "stderr",
     "output_type": "stream",
     "text": [
      " 91%|█████████ | 2437/2675 [22:41<02:16,  1.74it/s]"
     ]
    },
    {
     "name": "stdout",
     "output_type": "stream",
     "text": [
      "Molecule not found\n"
     ]
    },
    {
     "name": "stderr",
     "output_type": "stream",
     "text": [
      " 92%|█████████▏| 2455/2675 [22:51<01:58,  1.85it/s]"
     ]
    },
    {
     "name": "stdout",
     "output_type": "stream",
     "text": [
      "Molecule not found\n"
     ]
    },
    {
     "name": "stderr",
     "output_type": "stream",
     "text": [
      " 92%|█████████▏| 2464/2675 [22:55<01:52,  1.88it/s]"
     ]
    },
    {
     "name": "stdout",
     "output_type": "stream",
     "text": [
      "Molecule not found\n"
     ]
    },
    {
     "name": "stderr",
     "output_type": "stream",
     "text": [
      " 92%|█████████▏| 2474/2675 [23:00<02:09,  1.56it/s]"
     ]
    },
    {
     "name": "stdout",
     "output_type": "stream",
     "text": [
      "Molecule not found\n",
      "Molecule not found\n"
     ]
    },
    {
     "name": "stderr",
     "output_type": "stream",
     "text": [
      " 93%|█████████▎| 2483/2675 [23:04<01:46,  1.81it/s]"
     ]
    },
    {
     "name": "stdout",
     "output_type": "stream",
     "text": [
      "Molecule not found\n"
     ]
    },
    {
     "name": "stderr",
     "output_type": "stream",
     "text": [
      " 93%|█████████▎| 2494/2675 [23:10<01:42,  1.77it/s]"
     ]
    },
    {
     "name": "stdout",
     "output_type": "stream",
     "text": [
      "Molecule not found\n"
     ]
    },
    {
     "name": "stderr",
     "output_type": "stream",
     "text": [
      " 94%|█████████▎| 2502/2675 [23:14<01:31,  1.90it/s]"
     ]
    },
    {
     "name": "stdout",
     "output_type": "stream",
     "text": [
      "Molecule not found\n",
      "Molecule not found\n"
     ]
    },
    {
     "name": "stderr",
     "output_type": "stream",
     "text": [
      " 94%|█████████▍| 2509/2675 [23:16<01:16,  2.18it/s]"
     ]
    },
    {
     "name": "stdout",
     "output_type": "stream",
     "text": [
      "Molecule not found\n"
     ]
    },
    {
     "name": "stderr",
     "output_type": "stream",
     "text": [
      " 94%|█████████▍| 2518/2675 [23:21<01:23,  1.89it/s]"
     ]
    },
    {
     "name": "stdout",
     "output_type": "stream",
     "text": [
      "Molecule not found\n"
     ]
    },
    {
     "name": "stderr",
     "output_type": "stream",
     "text": [
      " 94%|█████████▍| 2527/2675 [23:25<01:16,  1.94it/s]"
     ]
    },
    {
     "name": "stdout",
     "output_type": "stream",
     "text": [
      "Molecule not found\n"
     ]
    },
    {
     "name": "stderr",
     "output_type": "stream",
     "text": [
      " 95%|█████████▍| 2529/2675 [23:26<00:58,  2.50it/s]"
     ]
    },
    {
     "name": "stdout",
     "output_type": "stream",
     "text": [
      "Molecule not found\n"
     ]
    },
    {
     "name": "stderr",
     "output_type": "stream",
     "text": [
      " 95%|█████████▍| 2541/2675 [23:32<01:25,  1.58it/s]"
     ]
    },
    {
     "name": "stdout",
     "output_type": "stream",
     "text": [
      "Molecule not found\n"
     ]
    },
    {
     "name": "stderr",
     "output_type": "stream",
     "text": [
      " 95%|█████████▌| 2546/2675 [23:38<03:02,  1.41s/it]"
     ]
    },
    {
     "name": "stdout",
     "output_type": "stream",
     "text": [
      "Molecule not found\n",
      "Molecule not found\n"
     ]
    },
    {
     "name": "stderr",
     "output_type": "stream",
     "text": [
      " 96%|█████████▌| 2565/2675 [23:51<01:09,  1.59it/s]"
     ]
    },
    {
     "name": "stdout",
     "output_type": "stream",
     "text": [
      "Molecule not found\n",
      "Molecule not found\n"
     ]
    },
    {
     "name": "stderr",
     "output_type": "stream",
     "text": [
      " 97%|█████████▋| 2588/2675 [24:03<00:56,  1.53it/s]"
     ]
    },
    {
     "name": "stdout",
     "output_type": "stream",
     "text": [
      "Molecule not found\n"
     ]
    },
    {
     "name": "stderr",
     "output_type": "stream",
     "text": [
      " 97%|█████████▋| 2591/2675 [24:05<00:44,  1.87it/s]"
     ]
    },
    {
     "name": "stdout",
     "output_type": "stream",
     "text": [
      "Molecule not found\n"
     ]
    },
    {
     "name": "stderr",
     "output_type": "stream",
     "text": [
      " 97%|█████████▋| 2597/2675 [24:08<00:40,  1.92it/s]"
     ]
    },
    {
     "name": "stdout",
     "output_type": "stream",
     "text": [
      "Molecule not found\n"
     ]
    },
    {
     "name": "stderr",
     "output_type": "stream",
     "text": [
      " 98%|█████████▊| 2618/2675 [24:19<00:31,  1.83it/s]"
     ]
    },
    {
     "name": "stdout",
     "output_type": "stream",
     "text": [
      "Molecule not found\n"
     ]
    },
    {
     "name": "stderr",
     "output_type": "stream",
     "text": [
      " 98%|█████████▊| 2624/2675 [24:21<00:24,  2.05it/s]"
     ]
    },
    {
     "name": "stdout",
     "output_type": "stream",
     "text": [
      "Molecule not found\n"
     ]
    },
    {
     "name": "stderr",
     "output_type": "stream",
     "text": [
      " 99%|█████████▉| 2643/2675 [24:31<00:17,  1.81it/s]"
     ]
    },
    {
     "name": "stdout",
     "output_type": "stream",
     "text": [
      "Molecule not found\n"
     ]
    },
    {
     "name": "stderr",
     "output_type": "stream",
     "text": [
      "100%|█████████▉| 2666/2675 [24:43<00:04,  1.86it/s]"
     ]
    },
    {
     "name": "stdout",
     "output_type": "stream",
     "text": [
      "Molecule not found\n"
     ]
    },
    {
     "name": "stderr",
     "output_type": "stream",
     "text": [
      "100%|██████████| 2675/2675 [24:49<00:00,  1.80it/s]\n"
     ]
    }
   ],
   "source": [
    "for i in tqdm(drugbank['inchi_key']):\n",
    "    try:\n",
    "        cid = pcp.get_cids(i, 'inchikey', 'compound')[0]\n",
    "        old_cid = drugbank.loc[drugbank['inchi_key'] == i]['pubchem_cid'].isna().values[0]\n",
    "        if old_cid == True:\n",
    "            drugbank.loc[drugbank['inchi_key'] == i, 'pubchem_cid'] = cid\n",
    "    except:\n",
    "        print('Molecule not found')"
   ]
  },
  {
   "cell_type": "code",
   "execution_count": 60,
   "id": "a6acb871-a55f-4bd5-b585-8a4842395d50",
   "metadata": {},
   "outputs": [
    {
     "data": {
      "text/html": [
       "<div>\n",
       "<style scoped>\n",
       "    .dataframe tbody tr th:only-of-type {\n",
       "        vertical-align: middle;\n",
       "    }\n",
       "\n",
       "    .dataframe tbody tr th {\n",
       "        vertical-align: top;\n",
       "    }\n",
       "\n",
       "    .dataframe thead th {\n",
       "        text-align: right;\n",
       "    }\n",
       "</style>\n",
       "<table border=\"1\" class=\"dataframe\">\n",
       "  <thead>\n",
       "    <tr style=\"text-align: right;\">\n",
       "      <th></th>\n",
       "      <th>drugbank_id</th>\n",
       "      <th>name</th>\n",
       "      <th>inchi_key</th>\n",
       "      <th>smiles</th>\n",
       "      <th>pubchem_cid</th>\n",
       "      <th>chembl_id</th>\n",
       "      <th>drugbank_withdrawn</th>\n",
       "      <th>dataset</th>\n",
       "      <th>chembl_withdrawn</th>\n",
       "    </tr>\n",
       "  </thead>\n",
       "  <tbody>\n",
       "    <tr>\n",
       "      <th>2444</th>\n",
       "      <td>DB13931</td>\n",
       "      <td>Netarsudil</td>\n",
       "      <td>OURRXQUGYQRVML-AREMUKBSSA-N</td>\n",
       "      <td>CC1=CC(C)=C(C=C1)C(=O)OCC1=CC=C(C=C1)[C@@H](CN...</td>\n",
       "      <td>66599893.0</td>\n",
       "      <td>NaN</td>\n",
       "      <td>0</td>\n",
       "      <td>both</td>\n",
       "      <td>missing</td>\n",
       "    </tr>\n",
       "    <tr>\n",
       "      <th>2660</th>\n",
       "      <td>DB15685</td>\n",
       "      <td>Selpercatinib</td>\n",
       "      <td>XIIOFHFUYBLOLW-UHFFFAOYSA-N</td>\n",
       "      <td>COC1=NC=C(CN2C3CC2CN(C3)C2=CC=C(C=N2)C2=CC(OCC...</td>\n",
       "      <td>134436906.0</td>\n",
       "      <td>NaN</td>\n",
       "      <td>0</td>\n",
       "      <td>both</td>\n",
       "      <td>missing</td>\n",
       "    </tr>\n",
       "  </tbody>\n",
       "</table>\n",
       "</div>"
      ],
      "text/plain": [
       "     drugbank_id           name                    inchi_key  \\\n",
       "2444     DB13931     Netarsudil  OURRXQUGYQRVML-AREMUKBSSA-N   \n",
       "2660     DB15685  Selpercatinib  XIIOFHFUYBLOLW-UHFFFAOYSA-N   \n",
       "\n",
       "                                                 smiles  pubchem_cid  \\\n",
       "2444  CC1=CC(C)=C(C=C1)C(=O)OCC1=CC=C(C=C1)[C@@H](CN...   66599893.0   \n",
       "2660  COC1=NC=C(CN2C3CC2CN(C3)C2=CC=C(C=N2)C2=CC(OCC...  134436906.0   \n",
       "\n",
       "     chembl_id  drugbank_withdrawn dataset chembl_withdrawn  \n",
       "2444       NaN                   0    both          missing  \n",
       "2660       NaN                   0    both          missing  "
      ]
     },
     "execution_count": 60,
     "metadata": {},
     "output_type": "execute_result"
    }
   ],
   "source": [
    "drugbank_in_chembl.loc[drugbank_in_chembl['chembl_id'].isna()]"
   ]
  },
  {
   "cell_type": "code",
   "execution_count": 61,
   "id": "a0996e86-a3e5-46e6-8390-a16a8ace0d0e",
   "metadata": {},
   "outputs": [],
   "source": [
    "drugbank.loc[drugbank['drugbank_id'] == 'DB13931', 'chembl_id'] = \"CHEMBL4594250\"\n",
    "drugbank.loc[drugbank['drugbank_id'] == 'DB15685', 'chembl_id'] = \"CHEMBL4559134\""
   ]
  },
  {
   "cell_type": "code",
   "execution_count": 72,
   "id": "56b55218-bbda-43c7-bfdb-ca16ea1b1186",
   "metadata": {},
   "outputs": [],
   "source": [
    "drugbank_in_chembl = drugbank.loc[drugbank['dataset'] == 'both']"
   ]
  },
  {
   "cell_type": "code",
   "execution_count": 66,
   "id": "21094899-fd88-4d3f-9128-72323df6241d",
   "metadata": {},
   "outputs": [],
   "source": [
    "drugbank_remaining = drugbank.loc[drugbank['dataset'] == 'drugbank']"
   ]
  },
  {
   "cell_type": "code",
   "execution_count": 67,
   "id": "059ddcaa-6542-4a90-b2ec-284b77588d84",
   "metadata": {},
   "outputs": [
    {
     "name": "stderr",
     "output_type": "stream",
     "text": [
      "/home/dionizije/anaconda3/envs/withdrawn/lib/python3.6/site-packages/ipykernel_launcher.py:1: FutureWarning: Sorting because non-concatenation axis is not aligned. A future version\n",
      "of pandas will change to not sort by default.\n",
      "\n",
      "To accept the future behavior, pass 'sort=False'.\n",
      "\n",
      "To retain the current behavior and silence the warning, pass 'sort=True'.\n",
      "\n",
      "  \"\"\"Entry point for launching an IPython kernel.\n"
     ]
    }
   ],
   "source": [
    "joined = pd.concat([chembl, drugbank_remaining])"
   ]
  },
  {
   "cell_type": "code",
   "execution_count": 73,
   "id": "14ae8d2e-5448-4b47-85d4-6228a1c6c40b",
   "metadata": {},
   "outputs": [],
   "source": [
    "for i in drugbank_in_chembl['chembl_id']:\n",
    "    label = drugbank_in_chembl.loc[drugbank_in_chembl['chembl_id'] == i]['drugbank_withdrawn'].values[0]\n",
    "    joined.loc[joined['chembl_id'] == i, 'drugbank_withdrawn'] = label"
   ]
  },
  {
   "cell_type": "code",
   "execution_count": 75,
   "id": "4d00a053-e0a0-47d4-9e07-e434e9a6930c",
   "metadata": {},
   "outputs": [],
   "source": [
    "joined = joined[['name', 'pubchem_cid', 'chembl_id', 'drugbank_id', 'inchi_key', 'dataset', 'smiles', 'drugbank_withdrawn', 'chembl_withdrawn']]"
   ]
  },
  {
   "cell_type": "code",
   "execution_count": 76,
   "id": "a97caa42-d929-49ac-b540-c5986e527c50",
   "metadata": {},
   "outputs": [
    {
     "data": {
      "text/html": [
       "<div>\n",
       "<style scoped>\n",
       "    .dataframe tbody tr th:only-of-type {\n",
       "        vertical-align: middle;\n",
       "    }\n",
       "\n",
       "    .dataframe tbody tr th {\n",
       "        vertical-align: top;\n",
       "    }\n",
       "\n",
       "    .dataframe thead th {\n",
       "        text-align: right;\n",
       "    }\n",
       "</style>\n",
       "<table border=\"1\" class=\"dataframe\">\n",
       "  <thead>\n",
       "    <tr style=\"text-align: right;\">\n",
       "      <th></th>\n",
       "      <th>name</th>\n",
       "      <th>pubchem_cid</th>\n",
       "      <th>chembl_id</th>\n",
       "      <th>drugbank_id</th>\n",
       "      <th>inchi_key</th>\n",
       "      <th>dataset</th>\n",
       "      <th>smiles</th>\n",
       "      <th>drugbank_withdrawn</th>\n",
       "      <th>chembl_withdrawn</th>\n",
       "    </tr>\n",
       "  </thead>\n",
       "  <tbody>\n",
       "    <tr>\n",
       "      <th>0</th>\n",
       "      <td>ebrotidine</td>\n",
       "      <td>65869</td>\n",
       "      <td>CHEMBL1742471</td>\n",
       "      <td>missing</td>\n",
       "      <td>ZQHFZHPUZXNPMF-UHFFFAOYSA-N</td>\n",
       "      <td>chembl</td>\n",
       "      <td>N=C(N)Nc1nc(CSCCN/C=N/S(=O)(=O)c2ccc(Br)cc2)cs1</td>\n",
       "      <td>missing</td>\n",
       "      <td>1</td>\n",
       "    </tr>\n",
       "    <tr>\n",
       "      <th>1</th>\n",
       "      <td>dihydroxyphosphinecarboxylic acid oxide|foscar...</td>\n",
       "      <td>3415</td>\n",
       "      <td>CHEMBL666</td>\n",
       "      <td>missing</td>\n",
       "      <td>ZJAOAACCNHFJAH-UHFFFAOYSA-N</td>\n",
       "      <td>both</td>\n",
       "      <td>O=C(O)P(=O)(O)O</td>\n",
       "      <td>0</td>\n",
       "      <td>0</td>\n",
       "    </tr>\n",
       "    <tr>\n",
       "      <th>2</th>\n",
       "      <td>ci-825|nsc-218321|nipent|pd 81565|pd-81565|pen...</td>\n",
       "      <td>439693</td>\n",
       "      <td>CHEMBL1580</td>\n",
       "      <td>missing</td>\n",
       "      <td>FPVKHBSQESCIEP-JQCXWYLXSA-N</td>\n",
       "      <td>both</td>\n",
       "      <td>OC[C@H]1O[C@@H](n2cnc3c2N=CNC[C@H]3O)C[C@@H]1O</td>\n",
       "      <td>0</td>\n",
       "      <td>0</td>\n",
       "    </tr>\n",
       "    <tr>\n",
       "      <th>3</th>\n",
       "      <td>cytotec|misoprostol|mysodelle|sc-29333|topogyne</td>\n",
       "      <td>5282381</td>\n",
       "      <td>CHEMBL606</td>\n",
       "      <td>missing</td>\n",
       "      <td>OJLOPKGSLYJEMD-URPKTTJQSA-N</td>\n",
       "      <td>both</td>\n",
       "      <td>CCCCC(C)(O)C/C=C/[C@H]1[C@H](O)CC(=O)[C@@H]1CC...</td>\n",
       "      <td>0</td>\n",
       "      <td>0</td>\n",
       "    </tr>\n",
       "    <tr>\n",
       "      <th>4</th>\n",
       "      <td>benznidazole|nsc-299972|ro 07-1051|ro-07-1051|...</td>\n",
       "      <td>31593</td>\n",
       "      <td>CHEMBL110</td>\n",
       "      <td>missing</td>\n",
       "      <td>CULUWZNBISUWAS-UHFFFAOYSA-N</td>\n",
       "      <td>both</td>\n",
       "      <td>O=C(Cn1ccnc1[N+](=O)[O-])NCc1ccccc1</td>\n",
       "      <td>0</td>\n",
       "      <td>0</td>\n",
       "    </tr>\n",
       "    <tr>\n",
       "      <th>...</th>\n",
       "      <td>...</td>\n",
       "      <td>...</td>\n",
       "      <td>...</td>\n",
       "      <td>...</td>\n",
       "      <td>...</td>\n",
       "      <td>...</td>\n",
       "      <td>...</td>\n",
       "      <td>...</td>\n",
       "      <td>...</td>\n",
       "    </tr>\n",
       "    <tr>\n",
       "      <th>2670</th>\n",
       "      <td>Ferric glycerophosphate</td>\n",
       "      <td>14765</td>\n",
       "      <td>NaN</td>\n",
       "      <td>DB15934</td>\n",
       "      <td>CBEYZWBXIPZYNH-UHFFFAOYSA-J</td>\n",
       "      <td>drugbank</td>\n",
       "      <td>[Fe++].[Fe++].OCC(O)COP([O-])([O-])=O.OCCC(CCO...</td>\n",
       "      <td>0</td>\n",
       "      <td>missing</td>\n",
       "    </tr>\n",
       "    <tr>\n",
       "      <th>2671</th>\n",
       "      <td>Sodium camphorsulfonate</td>\n",
       "      <td>5.48401e+06</td>\n",
       "      <td>NaN</td>\n",
       "      <td>DB15950</td>\n",
       "      <td>AWMAOFAHBPCBHJ-YZUKSGEXSA-M</td>\n",
       "      <td>drugbank</td>\n",
       "      <td>[Na+].[H][C@]12CC[C@@](CS([O-])(=O)=O)(C(=O)C1...</td>\n",
       "      <td>0</td>\n",
       "      <td>missing</td>\n",
       "    </tr>\n",
       "    <tr>\n",
       "      <th>2672</th>\n",
       "      <td>Berotralstat</td>\n",
       "      <td>1.37528e+08</td>\n",
       "      <td>NaN</td>\n",
       "      <td>DB15982</td>\n",
       "      <td>UXNXMBYCBRBRFD-MUUNZHRXSA-N</td>\n",
       "      <td>drugbank</td>\n",
       "      <td>NCC1=CC(=CC=C1)N1N=C(C=C1C(=O)NC1=CC(=CC=C1F)[...</td>\n",
       "      <td>0</td>\n",
       "      <td>missing</td>\n",
       "    </tr>\n",
       "    <tr>\n",
       "      <th>2673</th>\n",
       "      <td>Gallium Ga-68 gozetotide</td>\n",
       "      <td>9.18002e+07</td>\n",
       "      <td>NaN</td>\n",
       "      <td>DB16019</td>\n",
       "      <td>AEBYHKKMCWUMKX-LNTZDJBBSA-K</td>\n",
       "      <td>drugbank</td>\n",
       "      <td>[H+].[68Ga+3].OC(=O)CC[C@H](NC(=O)N[C@@H](CCCC...</td>\n",
       "      <td>0</td>\n",
       "      <td>missing</td>\n",
       "    </tr>\n",
       "    <tr>\n",
       "      <th>2674</th>\n",
       "      <td>Thenyldiamine</td>\n",
       "      <td>7066</td>\n",
       "      <td>CHEMBL2107485</td>\n",
       "      <td>DB16022</td>\n",
       "      <td>RCGYDFVCAAKKNG-UHFFFAOYSA-N</td>\n",
       "      <td>drugbank</td>\n",
       "      <td>CN(C)CCN(CC1=CSC=C1)C1=CC=CC=N1</td>\n",
       "      <td>0</td>\n",
       "      <td>missing</td>\n",
       "    </tr>\n",
       "  </tbody>\n",
       "</table>\n",
       "<p>3034 rows × 9 columns</p>\n",
       "</div>"
      ],
      "text/plain": [
       "                                                   name  pubchem_cid  \\\n",
       "0                                            ebrotidine        65869   \n",
       "1     dihydroxyphosphinecarboxylic acid oxide|foscar...         3415   \n",
       "2     ci-825|nsc-218321|nipent|pd 81565|pd-81565|pen...       439693   \n",
       "3       cytotec|misoprostol|mysodelle|sc-29333|topogyne      5282381   \n",
       "4     benznidazole|nsc-299972|ro 07-1051|ro-07-1051|...        31593   \n",
       "...                                                 ...          ...   \n",
       "2670                            Ferric glycerophosphate        14765   \n",
       "2671                            Sodium camphorsulfonate  5.48401e+06   \n",
       "2672                                       Berotralstat  1.37528e+08   \n",
       "2673                           Gallium Ga-68 gozetotide  9.18002e+07   \n",
       "2674                                      Thenyldiamine         7066   \n",
       "\n",
       "          chembl_id drugbank_id                    inchi_key   dataset  \\\n",
       "0     CHEMBL1742471     missing  ZQHFZHPUZXNPMF-UHFFFAOYSA-N    chembl   \n",
       "1         CHEMBL666     missing  ZJAOAACCNHFJAH-UHFFFAOYSA-N      both   \n",
       "2        CHEMBL1580     missing  FPVKHBSQESCIEP-JQCXWYLXSA-N      both   \n",
       "3         CHEMBL606     missing  OJLOPKGSLYJEMD-URPKTTJQSA-N      both   \n",
       "4         CHEMBL110     missing  CULUWZNBISUWAS-UHFFFAOYSA-N      both   \n",
       "...             ...         ...                          ...       ...   \n",
       "2670            NaN     DB15934  CBEYZWBXIPZYNH-UHFFFAOYSA-J  drugbank   \n",
       "2671            NaN     DB15950  AWMAOFAHBPCBHJ-YZUKSGEXSA-M  drugbank   \n",
       "2672            NaN     DB15982  UXNXMBYCBRBRFD-MUUNZHRXSA-N  drugbank   \n",
       "2673            NaN     DB16019  AEBYHKKMCWUMKX-LNTZDJBBSA-K  drugbank   \n",
       "2674  CHEMBL2107485     DB16022  RCGYDFVCAAKKNG-UHFFFAOYSA-N  drugbank   \n",
       "\n",
       "                                                 smiles drugbank_withdrawn  \\\n",
       "0       N=C(N)Nc1nc(CSCCN/C=N/S(=O)(=O)c2ccc(Br)cc2)cs1            missing   \n",
       "1                                       O=C(O)P(=O)(O)O                  0   \n",
       "2        OC[C@H]1O[C@@H](n2cnc3c2N=CNC[C@H]3O)C[C@@H]1O                  0   \n",
       "3     CCCCC(C)(O)C/C=C/[C@H]1[C@H](O)CC(=O)[C@@H]1CC...                  0   \n",
       "4                   O=C(Cn1ccnc1[N+](=O)[O-])NCc1ccccc1                  0   \n",
       "...                                                 ...                ...   \n",
       "2670  [Fe++].[Fe++].OCC(O)COP([O-])([O-])=O.OCCC(CCO...                  0   \n",
       "2671  [Na+].[H][C@]12CC[C@@](CS([O-])(=O)=O)(C(=O)C1...                  0   \n",
       "2672  NCC1=CC(=CC=C1)N1N=C(C=C1C(=O)NC1=CC(=CC=C1F)[...                  0   \n",
       "2673  [H+].[68Ga+3].OC(=O)CC[C@H](NC(=O)N[C@@H](CCCC...                  0   \n",
       "2674                    CN(C)CCN(CC1=CSC=C1)C1=CC=CC=N1                  0   \n",
       "\n",
       "     chembl_withdrawn  \n",
       "0                   1  \n",
       "1                   0  \n",
       "2                   0  \n",
       "3                   0  \n",
       "4                   0  \n",
       "...               ...  \n",
       "2670          missing  \n",
       "2671          missing  \n",
       "2672          missing  \n",
       "2673          missing  \n",
       "2674          missing  \n",
       "\n",
       "[3034 rows x 9 columns]"
      ]
     },
     "execution_count": 76,
     "metadata": {},
     "output_type": "execute_result"
    }
   ],
   "source": [
    "joined"
   ]
  },
  {
   "cell_type": "code",
   "execution_count": 80,
   "id": "27061e2c-065d-4d75-a85e-3246d26f3165",
   "metadata": {},
   "outputs": [],
   "source": [
    "joined = joined.loc[~joined['smiles'].isna()]"
   ]
  },
  {
   "cell_type": "code",
   "execution_count": 83,
   "id": "125f219f-f07d-47ea-a806-897417fb31b9",
   "metadata": {},
   "outputs": [
    {
     "name": "stderr",
     "output_type": "stream",
     "text": [
      "RDKit ERROR: [11:56:57] Explicit valence for atom # 0 N, 4, is greater than permitted\n",
      "RDKit ERROR: [11:56:57] Explicit valence for atom # 0 N, 4, is greater than permitted\n",
      "RDKit ERROR: [11:56:57] Explicit valence for atom # 0 N, 4, is greater than permitted\n",
      "RDKit ERROR: [11:56:57] Explicit valence for atom # 84 N, 4, is greater than permitted\n",
      "RDKit ERROR: [11:56:57] SMILES Parse Error: syntax error while parsing: OC1=CC=CC(=C1)C-1=C2\\CCC(=N2)\\C(=C2/N\\C(\\C=C2)=C(/C2=N/C(/C=C2)=C(\\C2=CC=C\\-1N2)C1=CC(O)=CC=C1)C1=CC(O)=CC=C1)\\C1=CC(O)=CC=C1\n",
      "RDKit ERROR: [11:56:57] SMILES Parse Error: Failed parsing SMILES 'OC1=CC=CC(=C1)C-1=C2\\CCC(=N2)\\C(=C2/N\\C(\\C=C2)=C(/C2=N/C(/C=C2)=C(\\C2=CC=C\\-1N2)C1=CC(O)=CC=C1)C1=CC(O)=CC=C1)\\C1=CC(O)=CC=C1' for input: 'OC1=CC=CC(=C1)C-1=C2\\CCC(=N2)\\C(=C2/N\\C(\\C=C2)=C(/C2=N/C(/C=C2)=C(\\C2=CC=C\\-1N2)C1=CC(O)=CC=C1)C1=CC(O)=CC=C1)\\C1=CC(O)=CC=C1'\n",
      "RDKit ERROR: [11:56:57] Explicit valence for atom # 0 N, 4, is greater than permitted\n",
      "RDKit WARNING: [11:56:57] WARNING: not removing hydrogen atom without neighbors\n"
     ]
    }
   ],
   "source": [
    "bad_valence = []\n",
    "for i in joined['smiles']:\n",
    "    try:\n",
    "        mol = MolFromSmiles(i)\n",
    "        for atom in mol.GetAtoms():\n",
    "            atom.GetFormalCharge()\n",
    "    except AttributeError:\n",
    "        bad_valence.append(i)\n",
    "    "
   ]
  },
  {
   "cell_type": "code",
   "execution_count": 85,
   "id": "a69e3342-eb4e-4f32-9791-350a16880532",
   "metadata": {},
   "outputs": [],
   "source": [
    "joined = joined.loc[~joined['smiles'].isin(bad_valence)]"
   ]
  },
  {
   "cell_type": "code",
   "execution_count": 89,
   "id": "721d14c9-3102-4124-8ea0-f73253f78e80",
   "metadata": {},
   "outputs": [],
   "source": [
    "joined.drop_duplicates(subset='pubchem_cid', inplace=True)\n",
    "joined.drop_duplicates(subset='inchi_key', inplace=True)\n",
    "joined.drop_duplicates(subset='chembl_id', inplace=True)\n",
    "joined.drop_duplicates(subset='smiles', inplace=True)"
   ]
  },
  {
   "cell_type": "code",
   "execution_count": 92,
   "id": "5e48d6a0-bf74-4a79-b525-15aa11da1f80",
   "metadata": {},
   "outputs": [],
   "source": [
    "joined.to_csv('/home/dionizije/Documents/drug_attrition_oracle/data/chembl_drugbank_p4_21_7.csv')"
   ]
  },
  {
   "cell_type": "code",
   "execution_count": 140,
   "id": "73b870ff-da15-4cae-8c26-4014d3de4ab2",
   "metadata": {},
   "outputs": [],
   "source": [
    "joined['withdrawn_chembl_+'] = joined['chembl_withdrawn']\n",
    "joined['withdrawn_drugbank_+'] = joined['drugbank_withdrawn']"
   ]
  },
  {
   "cell_type": "code",
   "execution_count": 133,
   "id": "5a2cd432-3882-4b24-9439-bbf98d4603e5",
   "metadata": {},
   "outputs": [],
   "source": [
    "chembl_withdrawn = joined.loc[joined['chembl_withdrawn'] == 1]['chembl_id'].values\n",
    "drugbank_withdrawn = joined.loc[joined['drugbank_withdrawn'] == 1]['chembl_id'].values"
   ]
  },
  {
   "cell_type": "code",
   "execution_count": 119,
   "id": "a3f3b6e4-22d9-4847-9df4-fe16a9637b05",
   "metadata": {},
   "outputs": [
    {
     "data": {
      "text/html": [
       "<div>\n",
       "<style scoped>\n",
       "    .dataframe tbody tr th:only-of-type {\n",
       "        vertical-align: middle;\n",
       "    }\n",
       "\n",
       "    .dataframe tbody tr th {\n",
       "        vertical-align: top;\n",
       "    }\n",
       "\n",
       "    .dataframe thead th {\n",
       "        text-align: right;\n",
       "    }\n",
       "</style>\n",
       "<table border=\"1\" class=\"dataframe\">\n",
       "  <thead>\n",
       "    <tr style=\"text-align: right;\">\n",
       "      <th></th>\n",
       "      <th>name</th>\n",
       "      <th>pubchem_cid</th>\n",
       "      <th>chembl_id</th>\n",
       "      <th>drugbank_id</th>\n",
       "      <th>inchi_key</th>\n",
       "      <th>dataset</th>\n",
       "      <th>smiles</th>\n",
       "      <th>drugbank_withdrawn</th>\n",
       "      <th>chembl_withdrawn</th>\n",
       "      <th>withdrawn_chembl_+</th>\n",
       "      <th>withdrawn_drugbank_+</th>\n",
       "    </tr>\n",
       "  </thead>\n",
       "  <tbody>\n",
       "    <tr>\n",
       "      <th>0</th>\n",
       "      <td>ebrotidine</td>\n",
       "      <td>65869</td>\n",
       "      <td>CHEMBL1742471</td>\n",
       "      <td>missing</td>\n",
       "      <td>ZQHFZHPUZXNPMF-UHFFFAOYSA-N</td>\n",
       "      <td>chembl</td>\n",
       "      <td>N=C(N)Nc1nc(CSCCN/C=N/S(=O)(=O)c2ccc(Br)cc2)cs1</td>\n",
       "      <td>missing</td>\n",
       "      <td>1</td>\n",
       "      <td>1</td>\n",
       "      <td>missing</td>\n",
       "    </tr>\n",
       "    <tr>\n",
       "      <th>1</th>\n",
       "      <td>dihydroxyphosphinecarboxylic acid oxide|foscar...</td>\n",
       "      <td>3415</td>\n",
       "      <td>CHEMBL666</td>\n",
       "      <td>missing</td>\n",
       "      <td>ZJAOAACCNHFJAH-UHFFFAOYSA-N</td>\n",
       "      <td>both</td>\n",
       "      <td>O=C(O)P(=O)(O)O</td>\n",
       "      <td>0</td>\n",
       "      <td>0</td>\n",
       "      <td>0</td>\n",
       "      <td>0</td>\n",
       "    </tr>\n",
       "    <tr>\n",
       "      <th>2</th>\n",
       "      <td>ci-825|nsc-218321|nipent|pd 81565|pd-81565|pen...</td>\n",
       "      <td>439693</td>\n",
       "      <td>CHEMBL1580</td>\n",
       "      <td>missing</td>\n",
       "      <td>FPVKHBSQESCIEP-JQCXWYLXSA-N</td>\n",
       "      <td>both</td>\n",
       "      <td>OC[C@H]1O[C@@H](n2cnc3c2N=CNC[C@H]3O)C[C@@H]1O</td>\n",
       "      <td>0</td>\n",
       "      <td>0</td>\n",
       "      <td>0</td>\n",
       "      <td>0</td>\n",
       "    </tr>\n",
       "    <tr>\n",
       "      <th>3</th>\n",
       "      <td>cytotec|misoprostol|mysodelle|sc-29333|topogyne</td>\n",
       "      <td>5282381</td>\n",
       "      <td>CHEMBL606</td>\n",
       "      <td>missing</td>\n",
       "      <td>OJLOPKGSLYJEMD-URPKTTJQSA-N</td>\n",
       "      <td>both</td>\n",
       "      <td>CCCCC(C)(O)C/C=C/[C@H]1[C@H](O)CC(=O)[C@@H]1CC...</td>\n",
       "      <td>0</td>\n",
       "      <td>0</td>\n",
       "      <td>0</td>\n",
       "      <td>0</td>\n",
       "    </tr>\n",
       "    <tr>\n",
       "      <th>4</th>\n",
       "      <td>benznidazole|nsc-299972|ro 07-1051|ro-07-1051|...</td>\n",
       "      <td>31593</td>\n",
       "      <td>CHEMBL110</td>\n",
       "      <td>missing</td>\n",
       "      <td>CULUWZNBISUWAS-UHFFFAOYSA-N</td>\n",
       "      <td>both</td>\n",
       "      <td>O=C(Cn1ccnc1[N+](=O)[O-])NCc1ccccc1</td>\n",
       "      <td>0</td>\n",
       "      <td>0</td>\n",
       "      <td>0</td>\n",
       "      <td>0</td>\n",
       "    </tr>\n",
       "    <tr>\n",
       "      <th>...</th>\n",
       "      <td>...</td>\n",
       "      <td>...</td>\n",
       "      <td>...</td>\n",
       "      <td>...</td>\n",
       "      <td>...</td>\n",
       "      <td>...</td>\n",
       "      <td>...</td>\n",
       "      <td>...</td>\n",
       "      <td>...</td>\n",
       "      <td>...</td>\n",
       "      <td>...</td>\n",
       "    </tr>\n",
       "    <tr>\n",
       "      <th>2663</th>\n",
       "      <td>Mebrofenin</td>\n",
       "      <td>54158</td>\n",
       "      <td>CHEMBL1605443</td>\n",
       "      <td>DB15779</td>\n",
       "      <td>MHPZZZZLAQGTHT-UHFFFAOYSA-N</td>\n",
       "      <td>drugbank</td>\n",
       "      <td>CC1=CC(C)=C(Br)C(C)=C1NC(=O)CN(CC(O)=O)CC(O)=O</td>\n",
       "      <td>0</td>\n",
       "      <td>missing</td>\n",
       "      <td>missing</td>\n",
       "      <td>0</td>\n",
       "    </tr>\n",
       "    <tr>\n",
       "      <th>2667</th>\n",
       "      <td>Acetylene</td>\n",
       "      <td>6326</td>\n",
       "      <td>CHEMBL116336</td>\n",
       "      <td>DB15906</td>\n",
       "      <td>HSFWRNGVRCDJHI-UHFFFAOYSA-N</td>\n",
       "      <td>drugbank</td>\n",
       "      <td>C#C</td>\n",
       "      <td>0</td>\n",
       "      <td>missing</td>\n",
       "      <td>missing</td>\n",
       "      <td>0</td>\n",
       "    </tr>\n",
       "    <tr>\n",
       "      <th>2668</th>\n",
       "      <td>Anethole</td>\n",
       "      <td>637563</td>\n",
       "      <td>CHEMBL452630</td>\n",
       "      <td>DB15916</td>\n",
       "      <td>RUVINXPYWBROJD-ONEGZZNKSA-N</td>\n",
       "      <td>drugbank</td>\n",
       "      <td>COC1=CC=C(\\C=C\\C)C=C1</td>\n",
       "      <td>0</td>\n",
       "      <td>missing</td>\n",
       "      <td>missing</td>\n",
       "      <td>0</td>\n",
       "    </tr>\n",
       "    <tr>\n",
       "      <th>2669</th>\n",
       "      <td>Ammonium carbonate</td>\n",
       "      <td>10480</td>\n",
       "      <td>CHEMBL2105849</td>\n",
       "      <td>DB15926</td>\n",
       "      <td>PRKQVKDSMLBJBJ-UHFFFAOYSA-N</td>\n",
       "      <td>drugbank</td>\n",
       "      <td>[NH4+].[NH4+].[O-]C([O-])=O</td>\n",
       "      <td>0</td>\n",
       "      <td>missing</td>\n",
       "      <td>missing</td>\n",
       "      <td>0</td>\n",
       "    </tr>\n",
       "    <tr>\n",
       "      <th>2674</th>\n",
       "      <td>Thenyldiamine</td>\n",
       "      <td>7066</td>\n",
       "      <td>CHEMBL2107485</td>\n",
       "      <td>DB16022</td>\n",
       "      <td>RCGYDFVCAAKKNG-UHFFFAOYSA-N</td>\n",
       "      <td>drugbank</td>\n",
       "      <td>CN(C)CCN(CC1=CSC=C1)C1=CC=CC=N1</td>\n",
       "      <td>0</td>\n",
       "      <td>missing</td>\n",
       "      <td>missing</td>\n",
       "      <td>0</td>\n",
       "    </tr>\n",
       "  </tbody>\n",
       "</table>\n",
       "<p>2635 rows × 11 columns</p>\n",
       "</div>"
      ],
      "text/plain": [
       "                                                   name pubchem_cid  \\\n",
       "0                                            ebrotidine       65869   \n",
       "1     dihydroxyphosphinecarboxylic acid oxide|foscar...        3415   \n",
       "2     ci-825|nsc-218321|nipent|pd 81565|pd-81565|pen...      439693   \n",
       "3       cytotec|misoprostol|mysodelle|sc-29333|topogyne     5282381   \n",
       "4     benznidazole|nsc-299972|ro 07-1051|ro-07-1051|...       31593   \n",
       "...                                                 ...         ...   \n",
       "2663                                         Mebrofenin       54158   \n",
       "2667                                          Acetylene        6326   \n",
       "2668                                           Anethole      637563   \n",
       "2669                                 Ammonium carbonate       10480   \n",
       "2674                                      Thenyldiamine        7066   \n",
       "\n",
       "          chembl_id drugbank_id                    inchi_key   dataset  \\\n",
       "0     CHEMBL1742471     missing  ZQHFZHPUZXNPMF-UHFFFAOYSA-N    chembl   \n",
       "1         CHEMBL666     missing  ZJAOAACCNHFJAH-UHFFFAOYSA-N      both   \n",
       "2        CHEMBL1580     missing  FPVKHBSQESCIEP-JQCXWYLXSA-N      both   \n",
       "3         CHEMBL606     missing  OJLOPKGSLYJEMD-URPKTTJQSA-N      both   \n",
       "4         CHEMBL110     missing  CULUWZNBISUWAS-UHFFFAOYSA-N      both   \n",
       "...             ...         ...                          ...       ...   \n",
       "2663  CHEMBL1605443     DB15779  MHPZZZZLAQGTHT-UHFFFAOYSA-N  drugbank   \n",
       "2667   CHEMBL116336     DB15906  HSFWRNGVRCDJHI-UHFFFAOYSA-N  drugbank   \n",
       "2668   CHEMBL452630     DB15916  RUVINXPYWBROJD-ONEGZZNKSA-N  drugbank   \n",
       "2669  CHEMBL2105849     DB15926  PRKQVKDSMLBJBJ-UHFFFAOYSA-N  drugbank   \n",
       "2674  CHEMBL2107485     DB16022  RCGYDFVCAAKKNG-UHFFFAOYSA-N  drugbank   \n",
       "\n",
       "                                                 smiles drugbank_withdrawn  \\\n",
       "0       N=C(N)Nc1nc(CSCCN/C=N/S(=O)(=O)c2ccc(Br)cc2)cs1            missing   \n",
       "1                                       O=C(O)P(=O)(O)O                  0   \n",
       "2        OC[C@H]1O[C@@H](n2cnc3c2N=CNC[C@H]3O)C[C@@H]1O                  0   \n",
       "3     CCCCC(C)(O)C/C=C/[C@H]1[C@H](O)CC(=O)[C@@H]1CC...                  0   \n",
       "4                   O=C(Cn1ccnc1[N+](=O)[O-])NCc1ccccc1                  0   \n",
       "...                                                 ...                ...   \n",
       "2663     CC1=CC(C)=C(Br)C(C)=C1NC(=O)CN(CC(O)=O)CC(O)=O                  0   \n",
       "2667                                                C#C                  0   \n",
       "2668                              COC1=CC=C(\\C=C\\C)C=C1                  0   \n",
       "2669                        [NH4+].[NH4+].[O-]C([O-])=O                  0   \n",
       "2674                    CN(C)CCN(CC1=CSC=C1)C1=CC=CC=N1                  0   \n",
       "\n",
       "     chembl_withdrawn withdrawn_chembl_+ withdrawn_drugbank_+  \n",
       "0                   1                  1              missing  \n",
       "1                   0                  0                    0  \n",
       "2                   0                  0                    0  \n",
       "3                   0                  0                    0  \n",
       "4                   0                  0                    0  \n",
       "...               ...                ...                  ...  \n",
       "2663          missing            missing                    0  \n",
       "2667          missing            missing                    0  \n",
       "2668          missing            missing                    0  \n",
       "2669          missing            missing                    0  \n",
       "2674          missing            missing                    0  \n",
       "\n",
       "[2635 rows x 11 columns]"
      ]
     },
     "execution_count": 119,
     "metadata": {},
     "output_type": "execute_result"
    }
   ],
   "source": [
    "joined"
   ]
  },
  {
   "cell_type": "code",
   "execution_count": 149,
   "id": "78503fba-2de3-400b-a6f8-9bed04255139",
   "metadata": {},
   "outputs": [],
   "source": [
    "if name in drugbank_withdrawn:\n",
    "    print(True)"
   ]
  },
  {
   "cell_type": "code",
   "execution_count": 151,
   "id": "1772fcbb-1198-41d6-80a3-41b352907a61",
   "metadata": {},
   "outputs": [],
   "source": [
    "for index, row in joined.iterrows():\n",
    "    name = row['chembl_id']\n",
    "    if row['withdrawn_chembl_+'] == 'missing':\n",
    "        if name in drugbank_withdrawn:\n",
    "            joined.loc[joined['chembl_id'] == name, 'withdrawn_chembl_+'] = 1\n",
    "        else:\n",
    "            joined.loc[joined['chembl_id'] == name, 'withdrawn_chembl_+'] = 0\n",
    "    if row['withdrawn_drugbank_+'] == 'missing':\n",
    "        if name in chembl_withdrawn:\n",
    "            joined.loc[joined['chembl_id'] == name, 'withdrawn_drugbank_+'] = 1\n",
    "        else:\n",
    "            joined.loc[joined['chembl_id'] == name, 'withdrawn_drugbank_+'] = 0"
   ]
  },
  {
   "cell_type": "code",
   "execution_count": 154,
   "id": "48d531a8-d60d-4606-83d8-e9e8ea041766",
   "metadata": {},
   "outputs": [
    {
     "data": {
      "text/html": [
       "<div>\n",
       "<style scoped>\n",
       "    .dataframe tbody tr th:only-of-type {\n",
       "        vertical-align: middle;\n",
       "    }\n",
       "\n",
       "    .dataframe tbody tr th {\n",
       "        vertical-align: top;\n",
       "    }\n",
       "\n",
       "    .dataframe thead th {\n",
       "        text-align: right;\n",
       "    }\n",
       "</style>\n",
       "<table border=\"1\" class=\"dataframe\">\n",
       "  <thead>\n",
       "    <tr style=\"text-align: right;\">\n",
       "      <th></th>\n",
       "      <th>name</th>\n",
       "      <th>pubchem_cid</th>\n",
       "      <th>chembl_id</th>\n",
       "      <th>drugbank_id</th>\n",
       "      <th>inchi_key</th>\n",
       "      <th>dataset</th>\n",
       "      <th>smiles</th>\n",
       "      <th>drugbank_withdrawn</th>\n",
       "      <th>chembl_withdrawn</th>\n",
       "      <th>withdrawn_chembl_+</th>\n",
       "      <th>withdrawn_drugbank_+</th>\n",
       "    </tr>\n",
       "  </thead>\n",
       "  <tbody>\n",
       "    <tr>\n",
       "      <th>0</th>\n",
       "      <td>ebrotidine</td>\n",
       "      <td>65869</td>\n",
       "      <td>CHEMBL1742471</td>\n",
       "      <td>missing</td>\n",
       "      <td>ZQHFZHPUZXNPMF-UHFFFAOYSA-N</td>\n",
       "      <td>chembl</td>\n",
       "      <td>N=C(N)Nc1nc(CSCCN/C=N/S(=O)(=O)c2ccc(Br)cc2)cs1</td>\n",
       "      <td>missing</td>\n",
       "      <td>1</td>\n",
       "      <td>1</td>\n",
       "      <td>1</td>\n",
       "    </tr>\n",
       "    <tr>\n",
       "      <th>1</th>\n",
       "      <td>dihydroxyphosphinecarboxylic acid oxide|foscar...</td>\n",
       "      <td>3415</td>\n",
       "      <td>CHEMBL666</td>\n",
       "      <td>missing</td>\n",
       "      <td>ZJAOAACCNHFJAH-UHFFFAOYSA-N</td>\n",
       "      <td>both</td>\n",
       "      <td>O=C(O)P(=O)(O)O</td>\n",
       "      <td>0</td>\n",
       "      <td>0</td>\n",
       "      <td>0</td>\n",
       "      <td>0</td>\n",
       "    </tr>\n",
       "    <tr>\n",
       "      <th>2</th>\n",
       "      <td>ci-825|nsc-218321|nipent|pd 81565|pd-81565|pen...</td>\n",
       "      <td>439693</td>\n",
       "      <td>CHEMBL1580</td>\n",
       "      <td>missing</td>\n",
       "      <td>FPVKHBSQESCIEP-JQCXWYLXSA-N</td>\n",
       "      <td>both</td>\n",
       "      <td>OC[C@H]1O[C@@H](n2cnc3c2N=CNC[C@H]3O)C[C@@H]1O</td>\n",
       "      <td>0</td>\n",
       "      <td>0</td>\n",
       "      <td>0</td>\n",
       "      <td>0</td>\n",
       "    </tr>\n",
       "    <tr>\n",
       "      <th>3</th>\n",
       "      <td>cytotec|misoprostol|mysodelle|sc-29333|topogyne</td>\n",
       "      <td>5282381</td>\n",
       "      <td>CHEMBL606</td>\n",
       "      <td>missing</td>\n",
       "      <td>OJLOPKGSLYJEMD-URPKTTJQSA-N</td>\n",
       "      <td>both</td>\n",
       "      <td>CCCCC(C)(O)C/C=C/[C@H]1[C@H](O)CC(=O)[C@@H]1CC...</td>\n",
       "      <td>0</td>\n",
       "      <td>0</td>\n",
       "      <td>0</td>\n",
       "      <td>0</td>\n",
       "    </tr>\n",
       "    <tr>\n",
       "      <th>4</th>\n",
       "      <td>benznidazole|nsc-299972|ro 07-1051|ro-07-1051|...</td>\n",
       "      <td>31593</td>\n",
       "      <td>CHEMBL110</td>\n",
       "      <td>missing</td>\n",
       "      <td>CULUWZNBISUWAS-UHFFFAOYSA-N</td>\n",
       "      <td>both</td>\n",
       "      <td>O=C(Cn1ccnc1[N+](=O)[O-])NCc1ccccc1</td>\n",
       "      <td>0</td>\n",
       "      <td>0</td>\n",
       "      <td>0</td>\n",
       "      <td>0</td>\n",
       "    </tr>\n",
       "    <tr>\n",
       "      <th>...</th>\n",
       "      <td>...</td>\n",
       "      <td>...</td>\n",
       "      <td>...</td>\n",
       "      <td>...</td>\n",
       "      <td>...</td>\n",
       "      <td>...</td>\n",
       "      <td>...</td>\n",
       "      <td>...</td>\n",
       "      <td>...</td>\n",
       "      <td>...</td>\n",
       "      <td>...</td>\n",
       "    </tr>\n",
       "    <tr>\n",
       "      <th>2663</th>\n",
       "      <td>Mebrofenin</td>\n",
       "      <td>54158</td>\n",
       "      <td>CHEMBL1605443</td>\n",
       "      <td>DB15779</td>\n",
       "      <td>MHPZZZZLAQGTHT-UHFFFAOYSA-N</td>\n",
       "      <td>drugbank</td>\n",
       "      <td>CC1=CC(C)=C(Br)C(C)=C1NC(=O)CN(CC(O)=O)CC(O)=O</td>\n",
       "      <td>0</td>\n",
       "      <td>missing</td>\n",
       "      <td>0</td>\n",
       "      <td>0</td>\n",
       "    </tr>\n",
       "    <tr>\n",
       "      <th>2667</th>\n",
       "      <td>Acetylene</td>\n",
       "      <td>6326</td>\n",
       "      <td>CHEMBL116336</td>\n",
       "      <td>DB15906</td>\n",
       "      <td>HSFWRNGVRCDJHI-UHFFFAOYSA-N</td>\n",
       "      <td>drugbank</td>\n",
       "      <td>C#C</td>\n",
       "      <td>0</td>\n",
       "      <td>missing</td>\n",
       "      <td>0</td>\n",
       "      <td>0</td>\n",
       "    </tr>\n",
       "    <tr>\n",
       "      <th>2668</th>\n",
       "      <td>Anethole</td>\n",
       "      <td>637563</td>\n",
       "      <td>CHEMBL452630</td>\n",
       "      <td>DB15916</td>\n",
       "      <td>RUVINXPYWBROJD-ONEGZZNKSA-N</td>\n",
       "      <td>drugbank</td>\n",
       "      <td>COC1=CC=C(\\C=C\\C)C=C1</td>\n",
       "      <td>0</td>\n",
       "      <td>missing</td>\n",
       "      <td>0</td>\n",
       "      <td>0</td>\n",
       "    </tr>\n",
       "    <tr>\n",
       "      <th>2669</th>\n",
       "      <td>Ammonium carbonate</td>\n",
       "      <td>10480</td>\n",
       "      <td>CHEMBL2105849</td>\n",
       "      <td>DB15926</td>\n",
       "      <td>PRKQVKDSMLBJBJ-UHFFFAOYSA-N</td>\n",
       "      <td>drugbank</td>\n",
       "      <td>[NH4+].[NH4+].[O-]C([O-])=O</td>\n",
       "      <td>0</td>\n",
       "      <td>missing</td>\n",
       "      <td>0</td>\n",
       "      <td>0</td>\n",
       "    </tr>\n",
       "    <tr>\n",
       "      <th>2674</th>\n",
       "      <td>Thenyldiamine</td>\n",
       "      <td>7066</td>\n",
       "      <td>CHEMBL2107485</td>\n",
       "      <td>DB16022</td>\n",
       "      <td>RCGYDFVCAAKKNG-UHFFFAOYSA-N</td>\n",
       "      <td>drugbank</td>\n",
       "      <td>CN(C)CCN(CC1=CSC=C1)C1=CC=CC=N1</td>\n",
       "      <td>0</td>\n",
       "      <td>missing</td>\n",
       "      <td>0</td>\n",
       "      <td>0</td>\n",
       "    </tr>\n",
       "  </tbody>\n",
       "</table>\n",
       "<p>2635 rows × 11 columns</p>\n",
       "</div>"
      ],
      "text/plain": [
       "                                                   name pubchem_cid  \\\n",
       "0                                            ebrotidine       65869   \n",
       "1     dihydroxyphosphinecarboxylic acid oxide|foscar...        3415   \n",
       "2     ci-825|nsc-218321|nipent|pd 81565|pd-81565|pen...      439693   \n",
       "3       cytotec|misoprostol|mysodelle|sc-29333|topogyne     5282381   \n",
       "4     benznidazole|nsc-299972|ro 07-1051|ro-07-1051|...       31593   \n",
       "...                                                 ...         ...   \n",
       "2663                                         Mebrofenin       54158   \n",
       "2667                                          Acetylene        6326   \n",
       "2668                                           Anethole      637563   \n",
       "2669                                 Ammonium carbonate       10480   \n",
       "2674                                      Thenyldiamine        7066   \n",
       "\n",
       "          chembl_id drugbank_id                    inchi_key   dataset  \\\n",
       "0     CHEMBL1742471     missing  ZQHFZHPUZXNPMF-UHFFFAOYSA-N    chembl   \n",
       "1         CHEMBL666     missing  ZJAOAACCNHFJAH-UHFFFAOYSA-N      both   \n",
       "2        CHEMBL1580     missing  FPVKHBSQESCIEP-JQCXWYLXSA-N      both   \n",
       "3         CHEMBL606     missing  OJLOPKGSLYJEMD-URPKTTJQSA-N      both   \n",
       "4         CHEMBL110     missing  CULUWZNBISUWAS-UHFFFAOYSA-N      both   \n",
       "...             ...         ...                          ...       ...   \n",
       "2663  CHEMBL1605443     DB15779  MHPZZZZLAQGTHT-UHFFFAOYSA-N  drugbank   \n",
       "2667   CHEMBL116336     DB15906  HSFWRNGVRCDJHI-UHFFFAOYSA-N  drugbank   \n",
       "2668   CHEMBL452630     DB15916  RUVINXPYWBROJD-ONEGZZNKSA-N  drugbank   \n",
       "2669  CHEMBL2105849     DB15926  PRKQVKDSMLBJBJ-UHFFFAOYSA-N  drugbank   \n",
       "2674  CHEMBL2107485     DB16022  RCGYDFVCAAKKNG-UHFFFAOYSA-N  drugbank   \n",
       "\n",
       "                                                 smiles drugbank_withdrawn  \\\n",
       "0       N=C(N)Nc1nc(CSCCN/C=N/S(=O)(=O)c2ccc(Br)cc2)cs1            missing   \n",
       "1                                       O=C(O)P(=O)(O)O                  0   \n",
       "2        OC[C@H]1O[C@@H](n2cnc3c2N=CNC[C@H]3O)C[C@@H]1O                  0   \n",
       "3     CCCCC(C)(O)C/C=C/[C@H]1[C@H](O)CC(=O)[C@@H]1CC...                  0   \n",
       "4                   O=C(Cn1ccnc1[N+](=O)[O-])NCc1ccccc1                  0   \n",
       "...                                                 ...                ...   \n",
       "2663     CC1=CC(C)=C(Br)C(C)=C1NC(=O)CN(CC(O)=O)CC(O)=O                  0   \n",
       "2667                                                C#C                  0   \n",
       "2668                              COC1=CC=C(\\C=C\\C)C=C1                  0   \n",
       "2669                        [NH4+].[NH4+].[O-]C([O-])=O                  0   \n",
       "2674                    CN(C)CCN(CC1=CSC=C1)C1=CC=CC=N1                  0   \n",
       "\n",
       "     chembl_withdrawn withdrawn_chembl_+ withdrawn_drugbank_+  \n",
       "0                   1                  1                    1  \n",
       "1                   0                  0                    0  \n",
       "2                   0                  0                    0  \n",
       "3                   0                  0                    0  \n",
       "4                   0                  0                    0  \n",
       "...               ...                ...                  ...  \n",
       "2663          missing                  0                    0  \n",
       "2667          missing                  0                    0  \n",
       "2668          missing                  0                    0  \n",
       "2669          missing                  0                    0  \n",
       "2674          missing                  0                    0  \n",
       "\n",
       "[2635 rows x 11 columns]"
      ]
     },
     "execution_count": 154,
     "metadata": {},
     "output_type": "execute_result"
    }
   ],
   "source": [
    "j"
   ]
  }
 ],
 "metadata": {
  "kernelspec": {
   "display_name": "DAO",
   "language": "python",
   "name": "dao"
  },
  "language_info": {
   "codemirror_mode": {
    "name": "ipython",
    "version": 3
   },
   "file_extension": ".py",
   "mimetype": "text/x-python",
   "name": "python",
   "nbconvert_exporter": "python",
   "pygments_lexer": "ipython3",
   "version": "3.6.13"
  }
 },
 "nbformat": 4,
 "nbformat_minor": 5
}
