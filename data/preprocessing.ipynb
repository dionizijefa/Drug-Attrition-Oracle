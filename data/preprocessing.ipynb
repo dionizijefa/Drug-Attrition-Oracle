{
 "cells": [
  {
   "cell_type": "code",
   "execution_count": 1,
   "id": "7a595d9b-ab0c-466e-97ec-158903eaa9ed",
   "metadata": {},
   "outputs": [],
   "source": [
    "import pandas as pd\n",
    "from rdkit.Chem.PandasTools import LoadSDF\n",
    "import pubchempy as pcp\n",
    "from tqdm import tqdm\n",
    "from chembl_webresource_client.new_client import new_client\n",
    "import numpy as np"
   ]
  },
  {
   "cell_type": "code",
   "execution_count": 2,
   "id": "8d24428f-67f7-45ae-afcb-3226007d3717",
   "metadata": {},
   "outputs": [],
   "source": [
    "data = pd.read_csv('chembl.csv', sep=';', error_bad_lines=True)\n",
    "withdrawn = LoadSDF('withdrawn_withdrawn.sdf')"
   ]
  },
  {
   "cell_type": "markdown",
   "id": "dec9df38-dcb0-4ab7-91ba-6e2a94653317",
   "metadata": {},
   "source": [
    "* Download Pubchem for Chembl"
   ]
  },
  {
   "cell_type": "markdown",
   "id": "b0273614-8d21-4b47-974c-4e0d60f995b3",
   "metadata": {},
   "source": [
    "* Process chembl:\n",
    "    1. Drop polymers\n",
    "    2. Drop compounds without smiles"
   ]
  },
  {
   "cell_type": "code",
   "execution_count": 3,
   "id": "b31c30b2-9585-4df3-9020-896c97807dd9",
   "metadata": {},
   "outputs": [],
   "source": [
    "data = data.loc[data['Drug Type'] != \"10:Polymer\"]\n",
    "data = data.loc[data['Drug Type'] != \"9:Inorganic\"]\n",
    "data = data.loc[data['Phase'] >= 4]"
   ]
  },
  {
   "cell_type": "code",
   "execution_count": 4,
   "id": "a033e39a-77af-4325-b150-df4a3947e48a",
   "metadata": {},
   "outputs": [],
   "source": [
    "data = data[['Parent Molecule', 'Synonyms', 'Phase', 'ATC Codes', 'Level 4 ATC Codes', 'Level 3 ATC Codes', 'Level 2 ATC Codes', 'Level 1 ATC Codes',\n",
    "            'Drug Type', 'Passes Rule of Five', 'Chirality', 'Prodrug', 'Oral', 'Parenteral', 'Topical', 'Black Box', 'Availability Type', 'Withdrawn Year',\n",
    "            'Withdrawn Reason', 'Withdrawn Country', 'Withdrawn Class', 'Smiles']]"
   ]
  },
  {
   "cell_type": "code",
   "execution_count": 5,
   "id": "68ee97a4-113e-4fe9-9e84-4e7ea204c001",
   "metadata": {},
   "outputs": [],
   "source": [
    "data.rename(columns = {'Parent Molecule': 'chembl_id',\n",
    "                      'Synonyms': 'synonyms',\n",
    "                      'Phase': 'max_phase',\n",
    "                      'ATC Codes': 'atc_codes',\n",
    "                      'Level 4 ATC Codes': 'level_4_atc',\n",
    "                      'Level 3 ATC Codes': 'level_3_atc',\n",
    "                      'Level 2 ATC Codes': 'level_2_atc',\n",
    "                      'Level 1 ATC Codes': 'levle_1_atc',\n",
    "                      'Drug Type': 'drug_type',\n",
    "                      'Passes Rule of Five': 'passes_ro5',\n",
    "                      'Chirality': 'chirality',\n",
    "                      'Prodrug': 'prodrug',\n",
    "                      'Oral': 'oral',\n",
    "                      'Parenteral': 'parenteral',\n",
    "                      'Topical': 'topical',\n",
    "                      'Black Box': 'black_box',\n",
    "                      'Availability Type': 'availability_type',\n",
    "                      'Withdrawn Year': 'withdrawn_year',\n",
    "                      'Withdrawn Reason': 'withdrawn_reason',\n",
    "                      'Withdrawn Country': 'withdrawn_country',\n",
    "                      'Withdrawn Class': 'withdrawn_class',\n",
    "                      'Smiles': 'smiles'}, inplace=True)"
   ]
  },
  {
   "cell_type": "code",
   "execution_count": 6,
   "id": "15760758-2f51-49a1-b2dc-ff79065d58b4",
   "metadata": {},
   "outputs": [],
   "source": [
    "list_of_features = ['molecule_type', 'structure_type', 'therapeutic_flag']\n",
    "list_of_properties = ['alogp', 'aromatic_rings', 'cx_logd', 'cx_logp', 'cx_most_apka', 'cx_most_bpka', 'full_mwt', 'hba', 'hba_lipinski',\n",
    "                     'hbd', 'hbd_lipinski', 'heavy_atoms', 'molecular_species', 'mw_freebase', 'mw_monoisotopic', 'num_lipinski_ro5_violations',\n",
    "                     'num_ro5_violations', 'psa', 'qed_weighted', 'ro3_pass', 'rtb']"
   ]
  },
  {
   "cell_type": "code",
   "execution_count": 7,
   "id": "89e7ba07-a711-4465-9e59-57dc7a70c51a",
   "metadata": {},
   "outputs": [],
   "source": [
    "molecule = new_client.molecule"
   ]
  },
  {
   "cell_type": "code",
   "execution_count": 8,
   "id": "55865f9c-37ce-43df-ba45-918f6cf7c8f7",
   "metadata": {},
   "outputs": [],
   "source": [
    "data['smiles'] = data['smiles'].fillna('missing')"
   ]
  },
  {
   "cell_type": "code",
   "execution_count": 9,
   "id": "070477f5-25ff-47ae-8608-35358e8fbade",
   "metadata": {},
   "outputs": [],
   "source": [
    "for i in list_of_features:\n",
    "    data[i] = 'missing'\n",
    "for i in list_of_properties:\n",
    "    data[i] = 'missing'\n",
    "    \n",
    "data['parent_chembl_id'] = 'missing'\n",
    "data['parent_smiles'] = 'missing'\n",
    "data['inchi_key'] = 'missing'\n",
    "data['parent_inchi_key'] = 'missing'"
   ]
  },
  {
   "cell_type": "code",
   "execution_count": 10,
   "id": "47be37ff-504e-4875-b589-81d8cf4124ac",
   "metadata": {
    "scrolled": true,
    "tags": []
   },
   "outputs": [
    {
     "name": "stderr",
     "output_type": "stream",
     "text": [
      "  1%|          | 26/2260 [00:00<00:17, 125.36it/s]"
     ]
    },
    {
     "name": "stdout",
     "output_type": "stream",
     "text": [
      "No smiles for molecule CHEMBL1201301\n",
      "No parent smiles for molecule CHEMBL1201301\n",
      "No properties for molecule CHEMBL1201466\n",
      "No smiles for molecule CHEMBL1201466\n",
      "No parent smiles for molecule CHEMBL1201466\n",
      "No properties for molecule CHEMBL1201649\n",
      "No smiles for molecule CHEMBL1201649\n",
      "No parent smiles for molecule CHEMBL1201649\n",
      "No smiles for molecule CHEMBL2110554\n",
      "No smiles for molecule CHEMBL2110563\n",
      "No parent smiles for molecule CHEMBL2110563\n",
      "No smiles for molecule CHEMBL2110565\n",
      "No smiles for molecule CHEMBL2110570\n",
      "No smiles for molecule CHEMBL2110572\n",
      "No smiles for molecule CHEMBL1200640\n",
      "No parent smiles for molecule CHEMBL1200640\n",
      "No smiles for molecule CHEMBL1366\n",
      "No parent smiles for molecule CHEMBL1366\n",
      "No smiles for molecule CHEMBL306043\n",
      "No parent smiles for molecule CHEMBL306043\n",
      "No properties for molecule CHEMBL1201441\n",
      "No smiles for molecule CHEMBL1201441\n",
      "No parent smiles for molecule CHEMBL1201441\n",
      "No properties for molecule CHEMBL1201467\n",
      "No smiles for molecule CHEMBL1201467\n",
      "No parent smiles for molecule CHEMBL1201467\n",
      "No properties for molecule CHEMBL1201469\n",
      "No smiles for molecule CHEMBL1201469\n",
      "No parent smiles for molecule CHEMBL1201469\n",
      "No properties for molecule CHEMBL1201485\n",
      "No smiles for molecule CHEMBL1201485\n",
      "No parent smiles for molecule CHEMBL1201485\n",
      "No smiles for molecule CHEMBL1200823\n",
      "No parent smiles for molecule CHEMBL1200823\n",
      "No smiles for molecule CHEMBL1200457\n",
      "No parent smiles for molecule CHEMBL1200457\n",
      "No properties for molecule CHEMBL2108558\n",
      "No smiles for molecule CHEMBL2108558\n",
      "No parent smiles for molecule CHEMBL2108558\n",
      "No smiles for molecule CHEMBL2103737\n",
      "No parent smiles for molecule CHEMBL2103737\n",
      "No properties for molecule CHEMBL2108834\n",
      "No smiles for molecule CHEMBL2108834\n",
      "No parent smiles for molecule CHEMBL2108834\n",
      "No smiles for molecule CHEMBL2354773\n",
      "No parent smiles for molecule CHEMBL2354773\n",
      "No smiles for molecule CHEMBL2218860\n",
      "No parent smiles for molecule CHEMBL2218860\n",
      "No smiles for molecule CHEMBL508338\n",
      "No parent smiles for molecule CHEMBL508338\n",
      "No properties for molecule CHEMBL2108247\n",
      "No smiles for molecule CHEMBL2108247\n",
      "No parent smiles for molecule CHEMBL2108247\n",
      "No smiles for molecule CHEMBL1200346\n",
      "No parent smiles for molecule CHEMBL1200346\n"
     ]
    },
    {
     "name": "stderr",
     "output_type": "stream",
     "text": [
      "  2%|▏         | 53/2260 [00:00<00:17, 123.27it/s]"
     ]
    },
    {
     "name": "stdout",
     "output_type": "stream",
     "text": [
      "No smiles for molecule CHEMBL3833364\n",
      "No parent smiles for molecule CHEMBL3833364\n",
      "No smiles for molecule CHEMBL3833381\n",
      "No parent smiles for molecule CHEMBL3833381\n",
      "No properties for molecule CHEMBL2109005\n",
      "No smiles for molecule CHEMBL2109005\n",
      "No parent smiles for molecule CHEMBL2109005\n",
      "No properties for molecule CHEMBL2109152\n",
      "No smiles for molecule CHEMBL2109152\n",
      "No parent smiles for molecule CHEMBL2109152\n"
     ]
    },
    {
     "name": "stderr",
     "output_type": "stream",
     "text": [
      "  4%|▎         | 81/2260 [00:00<00:17, 124.28it/s]"
     ]
    },
    {
     "name": "stdout",
     "output_type": "stream",
     "text": [
      "No properties for molecule CHEMBL2108265\n",
      "No smiles for molecule CHEMBL2108265\n",
      "No parent smiles for molecule CHEMBL2108265\n",
      "No smiles for molecule CHEMBL2219415\n",
      "No parent smiles for molecule CHEMBL2219415\n",
      "No smiles for molecule CHEMBL4597194\n",
      "No smiles for molecule CHEMBL3991035\n",
      "No smiles for molecule CHEMBL1727605\n",
      "No parent smiles for molecule CHEMBL1727605\n",
      "No properties for molecule CHEMBL3559672\n",
      "No smiles for molecule CHEMBL3559672\n",
      "No parent smiles for molecule CHEMBL3559672\n",
      "No smiles for molecule CHEMBL1908843\n",
      "No parent smiles for molecule CHEMBL1908843\n"
     ]
    },
    {
     "name": "stderr",
     "output_type": "stream",
     "text": [
      "  5%|▌         | 122/2260 [00:01<00:18, 116.35it/s]"
     ]
    },
    {
     "name": "stdout",
     "output_type": "stream",
     "text": [
      "No smiles for molecule CHEMBL1200943\n",
      "No parent smiles for molecule CHEMBL1200943\n",
      "No properties for molecule CHEMBL1201458\n",
      "No smiles for molecule CHEMBL1201458\n",
      "No parent smiles for molecule CHEMBL1201458\n",
      "No properties for molecule CHEMBL1201444\n",
      "No smiles for molecule CHEMBL1201444\n",
      "No parent smiles for molecule CHEMBL1201444\n",
      "No properties for molecule CHEMBL1201454\n",
      "No smiles for molecule CHEMBL1201454\n",
      "No parent smiles for molecule CHEMBL1201454\n",
      "No properties for molecule CHEMBL1201658\n",
      "No smiles for molecule CHEMBL1201658\n",
      "No parent smiles for molecule CHEMBL1201658\n",
      "No properties for molecule CHEMBL1201603\n",
      "No smiles for molecule CHEMBL1201603\n",
      "No parent smiles for molecule CHEMBL1201603\n",
      "No smiles for molecule CHEMBL2110551\n",
      "No smiles for molecule CHEMBL2110553\n",
      "No parent smiles for molecule CHEMBL2110553\n",
      "No smiles for molecule CHEMBL2110561\n",
      "No smiles for molecule CHEMBL2110564\n",
      "No smiles for molecule CHEMBL2111018\n"
     ]
    },
    {
     "name": "stderr",
     "output_type": "stream",
     "text": [
      "  6%|▋         | 146/2260 [00:01<00:18, 115.82it/s]"
     ]
    },
    {
     "name": "stdout",
     "output_type": "stream",
     "text": [
      "No smiles for molecule CHEMBL2096629\n",
      "No parent smiles for molecule CHEMBL2096629\n",
      "No smiles for molecule CHEMBL2096647\n",
      "No parent smiles for molecule CHEMBL2096647\n",
      "No properties for molecule CHEMBL2107910\n",
      "No smiles for molecule CHEMBL2107910\n",
      "No parent smiles for molecule CHEMBL2107910\n",
      "No smiles for molecule CHEMBL2110575\n",
      "No smiles for molecule CHEMBL1200431\n",
      "No parent smiles for molecule CHEMBL1200431\n"
     ]
    },
    {
     "name": "stderr",
     "output_type": "stream",
     "text": [
      "  8%|▊         | 170/2260 [00:01<00:18, 113.69it/s]"
     ]
    },
    {
     "name": "stdout",
     "output_type": "stream",
     "text": [
      "No smiles for molecule CHEMBL1200662\n",
      "No parent smiles for molecule CHEMBL1200662\n",
      "No smiles for molecule CHEMBL1592101\n",
      "No parent smiles for molecule CHEMBL1592101\n",
      "No smiles for molecule CHEMBL1705709\n",
      "No parent smiles for molecule CHEMBL1705709\n"
     ]
    },
    {
     "name": "stderr",
     "output_type": "stream",
     "text": [
      " 10%|▉         | 224/2260 [00:01<00:17, 119.56it/s]"
     ]
    },
    {
     "name": "stdout",
     "output_type": "stream",
     "text": [
      "No properties for molecule CHEMBL4594244\n",
      "No smiles for molecule CHEMBL4594244\n",
      "No parent smiles for molecule CHEMBL4594244\n",
      "No properties for molecule CHEMBL1201531\n",
      "No smiles for molecule CHEMBL1201531\n",
      "No parent smiles for molecule CHEMBL1201531\n",
      "No smiles for molecule CHEMBL2359370\n",
      "No parent smiles for molecule CHEMBL2359370\n",
      "No smiles for molecule CHEMBL1200443\n",
      "No parent smiles for molecule CHEMBL1200443\n"
     ]
    },
    {
     "name": "stderr",
     "output_type": "stream",
     "text": [
      " 11%|█         | 251/2260 [00:02<00:16, 122.10it/s]"
     ]
    },
    {
     "name": "stdout",
     "output_type": "stream",
     "text": [
      "No smiles for molecule CHEMBL1200593\n",
      "No parent smiles for molecule CHEMBL1200593\n",
      "No smiles for molecule CHEMBL1351\n",
      "No parent smiles for molecule CHEMBL1351\n",
      "No properties for molecule CHEMBL414804\n",
      "No smiles for molecule CHEMBL414804\n",
      "No parent smiles for molecule CHEMBL414804\n"
     ]
    },
    {
     "name": "stderr",
     "output_type": "stream",
     "text": [
      " 12%|█▏        | 276/2260 [00:02<00:17, 110.60it/s]"
     ]
    },
    {
     "name": "stdout",
     "output_type": "stream",
     "text": [
      "No smiles for molecule CHEMBL3707232\n",
      "No parent smiles for molecule CHEMBL3707232\n"
     ]
    },
    {
     "name": "stderr",
     "output_type": "stream",
     "text": [
      " 14%|█▍        | 313/2260 [00:02<00:16, 116.68it/s]"
     ]
    },
    {
     "name": "stdout",
     "output_type": "stream",
     "text": [
      "No properties for molecule CHEMBL3989727\n",
      "No smiles for molecule CHEMBL3989727\n",
      "No parent smiles for molecule CHEMBL3989727\n",
      "No smiles for molecule CHEMBL3991241\n"
     ]
    },
    {
     "name": "stderr",
     "output_type": "stream",
     "text": [
      " 15%|█▌        | 342/2260 [00:02<00:15, 121.94it/s]"
     ]
    },
    {
     "name": "stdout",
     "output_type": "stream",
     "text": [
      "No properties for molecule CHEMBL3989751\n",
      "No smiles for molecule CHEMBL3989751\n",
      "No parent smiles for molecule CHEMBL3989751\n",
      "No smiles for molecule CHEMBL4297285\n",
      "No parent smiles for molecule CHEMBL4297285\n",
      "No smiles for molecule CHEMBL4594284\n",
      "No parent smiles for molecule CHEMBL4594284\n",
      "No properties for molecule CHEMBL2108750\n",
      "No smiles for molecule CHEMBL2108750\n",
      "No parent smiles for molecule CHEMBL2108750\n"
     ]
    },
    {
     "name": "stderr",
     "output_type": "stream",
     "text": [
      " 16%|█▌        | 367/2260 [00:03<00:16, 113.50it/s]"
     ]
    },
    {
     "name": "stdout",
     "output_type": "stream",
     "text": [
      "No smiles for molecule CHEMBL1120\n",
      "No parent smiles for molecule CHEMBL1120\n"
     ]
    },
    {
     "name": "stderr",
     "output_type": "stream",
     "text": [
      " 20%|█▉        | 446/2260 [00:03<00:14, 124.75it/s]"
     ]
    },
    {
     "name": "stdout",
     "output_type": "stream",
     "text": [
      "No smiles for molecule CHEMBL3991443\n"
     ]
    },
    {
     "name": "stderr",
     "output_type": "stream",
     "text": [
      " 23%|██▎       | 518/2260 [00:04<00:16, 106.08it/s]"
     ]
    },
    {
     "name": "stdout",
     "output_type": "stream",
     "text": [
      "No smiles for molecule CHEMBL3707208\n",
      "No parent smiles for molecule CHEMBL3707208\n",
      "No smiles for molecule CHEMBL1200571\n",
      "No parent smiles for molecule CHEMBL1200571\n",
      "No smiles for molecule CHEMBL1201186\n",
      "No parent smiles for molecule CHEMBL1201186\n",
      "No properties for molecule CHEMBL1201660\n",
      "No smiles for molecule CHEMBL1201660\n",
      "No parent smiles for molecule CHEMBL1201660\n",
      "No smiles for molecule CHEMBL4594619\n",
      "No properties for molecule CHEMBL1201468\n",
      "No smiles for molecule CHEMBL1201468\n",
      "No parent smiles for molecule CHEMBL1201468\n"
     ]
    },
    {
     "name": "stderr",
     "output_type": "stream",
     "text": [
      " 28%|██▊       | 622/2260 [00:05<00:17, 93.54it/s] "
     ]
    },
    {
     "name": "stdout",
     "output_type": "stream",
     "text": [
      "No smiles for molecule CHEMBL2097081\n",
      "No parent smiles for molecule CHEMBL2097081\n",
      "No smiles for molecule CHEMBL2221312\n",
      "No parent smiles for molecule CHEMBL2221312\n",
      "No smiles for molecule CHEMBL2111129\n",
      "No properties for molecule CHEMBL2108234\n",
      "No smiles for molecule CHEMBL2108234\n",
      "No parent smiles for molecule CHEMBL2108234\n",
      "No smiles for molecule CHEMBL2110914\n",
      "No smiles for molecule CHEMBL2110562\n",
      "No parent smiles for molecule CHEMBL2110562\n",
      "No smiles for molecule CHEMBL2110576\n"
     ]
    },
    {
     "name": "stderr",
     "output_type": "stream",
     "text": [
      " 39%|███▊      | 874/2260 [00:08<00:18, 75.86it/s] "
     ]
    },
    {
     "name": "stdout",
     "output_type": "stream",
     "text": [
      "No smiles for molecule CHEMBL4597794\n"
     ]
    },
    {
     "name": "stderr",
     "output_type": "stream",
     "text": [
      " 41%|████      | 921/2260 [00:09<00:16, 82.70it/s]"
     ]
    },
    {
     "name": "stdout",
     "output_type": "stream",
     "text": [
      "No smiles for molecule CHEMBL1744033\n",
      "No parent smiles for molecule CHEMBL1744033\n",
      "No smiles for molecule CHEMBL3833317\n",
      "No parent smiles for molecule CHEMBL3833317\n",
      "No smiles for molecule CHEMBL3833337\n",
      "No parent smiles for molecule CHEMBL3833337\n"
     ]
    },
    {
     "name": "stderr",
     "output_type": "stream",
     "text": [
      " 41%|████      | 931/2260 [00:09<00:16, 82.55it/s]"
     ]
    },
    {
     "name": "stdout",
     "output_type": "stream",
     "text": [
      "No properties for molecule CHEMBL3989769\n",
      "No smiles for molecule CHEMBL3989769\n",
      "No parent smiles for molecule CHEMBL3989769\n"
     ]
    },
    {
     "name": "stderr",
     "output_type": "stream",
     "text": [
      " 45%|████▍     | 1013/2260 [00:10<00:12, 102.86it/s]"
     ]
    },
    {
     "name": "stdout",
     "output_type": "stream",
     "text": [
      "No smiles for molecule CHEMBL2110566\n",
      "No smiles for molecule CHEMBL2110555\n",
      "No smiles for molecule CHEMBL2110560\n",
      "No smiles for molecule CHEMBL2110573\n",
      "No properties for molecule CHEMBL2108758\n",
      "No smiles for molecule CHEMBL2108758\n",
      "No parent smiles for molecule CHEMBL2108758\n",
      "No smiles for molecule CHEMBL4298110\n"
     ]
    },
    {
     "name": "stderr",
     "output_type": "stream",
     "text": [
      " 46%|████▌     | 1040/2260 [00:10<00:10, 115.73it/s]"
     ]
    },
    {
     "name": "stdout",
     "output_type": "stream",
     "text": [
      "No parent smiles for molecule CHEMBL4298110\n",
      "No smiles for molecule CHEMBL4301175\n"
     ]
    },
    {
     "name": "stderr",
     "output_type": "stream",
     "text": [
      "100%|██████████| 2260/2260 [00:22<00:00, 98.92it/s] \n"
     ]
    }
   ],
   "source": [
    "for mol in tqdm(list(data['chembl_id']), position=0, leave=True):\n",
    "    try:\n",
    "        res = molecule.get(mol)\n",
    "\n",
    "        # add features\n",
    "        if mol == res['molecule_chembl_id']:\n",
    "            index = data.loc[data['chembl_id'] == mol].index.values[0]\n",
    "            for feature in list_of_features:\n",
    "                if feature == 'atc_classifications' and not res[feature]:\n",
    "                    data.at[index, feature] = None\n",
    "                elif feature == 'atc_classifications' and res[feature]:\n",
    "                    data.at[index, feature] = '+'.join(res[feature])\n",
    "                else:\n",
    "                    data.at[index, feature] = res[feature]\n",
    "\n",
    "            # add properties       \n",
    "            try:\n",
    "                for prop in list_of_properties:\n",
    "                    data.at[index, prop] = res['molecule_properties'][prop]\n",
    "            except TypeError:\n",
    "                print('No properties for molecule {}'.format(mol))\n",
    "\n",
    "            # try to add smiles if exists\n",
    "            try:\n",
    "                if data.loc[data['chembl_id'] == mol]['smiles'].values[0] == 'missing':\n",
    "                    smiles = res['molecule_structures']['canonical_smiles']\n",
    "                    inchi_key = res['molecule_structures']['standard_inchi_key']\n",
    "                    data.at[index, 'canonical_smiles'] = smiles\n",
    "                    data.at[index, 'inchi_key'] = inchi_key\n",
    "                else:\n",
    "                    inchi_key = res['molecule_structures']['standard_inchi_key']\n",
    "                    data.at[index, 'inchi_key'] = inchi_key\n",
    "            except TypeError:\n",
    "                print('No smiles for molecule {}'.format(mol))\n",
    "\n",
    "            #add parent molecule \n",
    "            try:\n",
    "                parent_mol = res['molecule_hierarchy']['parent_chembl_id']\n",
    "                data.at[index, 'parent_chembl_id'] = parent_mol\n",
    "            except TypeError:\n",
    "                continue\n",
    "            #check if parent has smiles\n",
    "            try:\n",
    "                parent_res = molecule.get(parent_mol)\n",
    "                parent_smiles = parent_res['molecule_structures']['canonical_smiles']\n",
    "                parent_inchi_key = parent_res['molecule_structures']['standard_inchi_key']\n",
    "                data.at[index, 'parent_smiles'] = parent_smiles\n",
    "                data.at[index, 'parent_inchi_key'] = parent_inchi_key\n",
    "            except:\n",
    "                print('No parent smiles for molecule {}'.format(mol))\n",
    "            \n",
    "    except Exception as e:\n",
    "            print(e)\n",
    "            print(\"Molecule {} doesn't exist\".format(mol))"
   ]
  },
  {
   "cell_type": "code",
   "execution_count": 11,
   "id": "1cab54f5-5179-4b0a-b08e-1cb2a89f1037",
   "metadata": {},
   "outputs": [],
   "source": [
    "data = data.loc[~((data['smiles'] == 'missing') & (data['parent_smiles'] == 'missing'))]"
   ]
  },
  {
   "cell_type": "code",
   "execution_count": 19,
   "id": "2f481f4f-432b-4f82-bd0a-0008039d26d7",
   "metadata": {},
   "outputs": [
    {
     "data": {
      "text/plain": [
       "Index(['chembl_id', 'synonyms', 'max_phase', 'atc_codes', 'level_4_atc',\n",
       "       'level_3_atc', 'level_2_atc', 'levle_1_atc', 'drug_type', 'passes_ro5',\n",
       "       'chirality', 'prodrug', 'oral', 'parenteral', 'topical', 'black_box',\n",
       "       'availability_type', 'withdrawn_year', 'withdrawn_reason',\n",
       "       'withdrawn_country', 'withdrawn_class', 'smiles', 'molecule_type',\n",
       "       'structure_type', 'therapeutic_flag', 'alogp', 'aromatic_rings',\n",
       "       'cx_logd', 'cx_logp', 'cx_most_apka', 'cx_most_bpka', 'full_mwt', 'hba',\n",
       "       'hba_lipinski', 'hbd', 'hbd_lipinski', 'heavy_atoms',\n",
       "       'molecular_species', 'mw_freebase', 'mw_monoisotopic',\n",
       "       'num_lipinski_ro5_violations', 'num_ro5_violations', 'psa',\n",
       "       'qed_weighted', 'ro3_pass', 'rtb', 'parent_chembl_id', 'parent_smiles',\n",
       "       'inchi_key', 'parent_inchi_key'],\n",
       "      dtype='object')"
      ]
     },
     "execution_count": 19,
     "metadata": {},
     "output_type": "execute_result"
    }
   ],
   "source": [
    "data.columns"
   ]
  },
  {
   "cell_type": "code",
   "execution_count": 35,
   "id": "9f672dcc-cb43-4583-b0fd-c3a89fed4bb3",
   "metadata": {},
   "outputs": [],
   "source": [
    "toxic_carcinogenic = ['CHEMBL103','CHEMBL1200430','CHEMBL1200686','CHEMBL1200973',\n",
    " 'CHEMBL1201314', 'CHEMBL1201572', 'CHEMBL1201581', 'CHEMBL1201866',\n",
    " 'CHEMBL1220', 'CHEMBL135', 'CHEMBL137', 'CHEMBL1393', 'CHEMBL1456',\n",
    " 'CHEMBL1479', 'CHEMBL1511', 'CHEMBL152', 'CHEMBL1542', 'CHEMBL1554',\n",
    " 'CHEMBL160', 'CHEMBL1643', 'CHEMBL1651906', 'CHEMBL1742990', 'CHEMBL182',\n",
    " 'CHEMBL2107841', 'CHEMBL2107857', 'CHEMBL2108027', 'CHEMBL2108078',\n",
    " 'CHEMBL2108724', 'CHEMBL221959', 'CHEMBL269732', 'CHEMBL3301581',\n",
    " 'CHEMBL34259', 'CHEMBL413', 'CHEMBL414357', 'CHEMBL416', 'CHEMBL417',\n",
    " 'CHEMBL467', 'CHEMBL476', 'CHEMBL494753', 'CHEMBL515', 'CHEMBL53463',\n",
    " 'CHEMBL671', 'CHEMBL717', 'CHEMBL83', 'CHEMBL866']\n",
    "toxic_cardio = ['CHEMBL118', 'CHEMBL121', 'CHEMBL479', 'CHEMBL1020', 'CHEMBL103', 'CHEMBL1070',\n",
    " 'CHEMBL1071', 'CHEMBL1098', 'CHEMBL1108', 'CHEMBL1117', 'CHEMBL11359',\n",
    " 'CHEMBL1164729', 'CHEMBL1171837', 'CHEMBL1200430', 'CHEMBL1200973',\n",
    " 'CHEMBL1201336', 'CHEMBL1201577', 'CHEMBL1201824', 'CHEMBL1276308',\n",
    " 'CHEMBL1294', 'CHEMBL1297', 'CHEMBL13', 'CHEMBL134', 'CHEMBL135', 'CHEMBL139',\n",
    " 'CHEMBL1431', 'CHEMBL1511', 'CHEMBL154', 'CHEMBL154111', 'CHEMBL157101',\n",
    " 'CHEMBL15770', 'CHEMBL16', 'CHEMBL1655', 'CHEMBL1663', 'CHEMBL1743047',\n",
    " 'CHEMBL1760', 'CHEMBL178', 'CHEMBL2007641', 'CHEMBL2108676', 'CHEMBL24',\n",
    " 'CHEMBL24828', 'CHEMBL27', 'CHEMBL405', 'CHEMBL417', 'CHEMBL42', 'CHEMBL469',\n",
    " 'CHEMBL471', 'CHEMBL473', 'CHEMBL494753', 'CHEMBL499', 'CHEMBL517',\n",
    " 'CHEMBL521', 'CHEMBL527', 'CHEMBL533', 'CHEMBL53463', 'CHEMBL558', 'CHEMBL563',\n",
    " 'CHEMBL571', 'CHEMBL58', 'CHEMBL595', 'CHEMBL599', 'CHEMBL6', 'CHEMBL622',\n",
    " 'CHEMBL633', 'CHEMBL640', 'CHEMBL649', 'CHEMBL651', 'CHEMBL652', 'CHEMBL686',\n",
    " 'CHEMBL717', 'CHEMBL802', 'CHEMBL898',\n",
    "]\n",
    "toxic_dermis = ['CHEMBL108', 'CHEMBL1200431', 'CHEMBL1201589', 'CHEMBL1201824', 'CHEMBL1366',\n",
    " 'CHEMBL2108676', 'CHEMBL34259', 'CHEMBL428647', 'CHEMBL57', 'CHEMBL741',\n",
    " 'CHEMBL92',\n",
    "]\n",
    "toxic_gastro = ['CHEMBL118', 'CHEMBL1020', 'CHEMBL1070', 'CHEMBL1071', 'CHEMBL109',\n",
    " 'CHEMBL1110', 'CHEMBL11359', 'CHEMBL1201289', 'CHEMBL1297', 'CHEMBL1351',\n",
    " 'CHEMBL139', 'CHEMBL1447', 'CHEMBL1460', 'CHEMBL154', 'CHEMBL154111',\n",
    " 'CHEMBL15770', 'CHEMBL1651906', 'CHEMBL1742982', 'CHEMBL1753',\n",
    " 'CHEMBL2108676', 'CHEMBL2216870', 'CHEMBL3184512', 'CHEMBL34259', 'CHEMBL469',\n",
    " 'CHEMBL481', 'CHEMBL521', 'CHEMBL527', 'CHEMBL550348', 'CHEMBL563',\n",
    " 'CHEMBL571', 'CHEMBL599', 'CHEMBL6', 'CHEMBL622', 'CHEMBL64', 'CHEMBL686',\n",
    " 'CHEMBL803', 'CHEMBL898', 'CHEMBL92', \n",
    "]\n",
    "toxic_hema = ['CHEMBL1024', 'CHEMBL105', 'CHEMBL108', 'CHEMBL1094', 'CHEMBL1096882',\n",
    " 'CHEMBL1117', 'CHEMBL11359', 'CHEMBL1161681', 'CHEMBL1201281',\n",
    " 'CHEMBL1201314', 'CHEMBL1276308', 'CHEMBL129', 'CHEMBL1351', 'CHEMBL1366',\n",
    " 'CHEMBL152', 'CHEMBL1542', 'CHEMBL1643', 'CHEMBL1651906', 'CHEMBL170',\n",
    " 'CHEMBL178', 'CHEMBL182', 'CHEMBL34259', 'CHEMBL38', 'CHEMBL417', 'CHEMBL42',\n",
    " 'CHEMBL428647','CHEMBL44657', 'CHEMBL467', 'CHEMBL476', 'CHEMBL481',\n",
    " 'CHEMBL514', 'CHEMBL515', 'CHEMBL53463', 'CHEMBL553025', 'CHEMBL58',\n",
    " 'CHEMBL640', 'CHEMBL671', 'CHEMBL70927','CHEMBL803', 'CHEMBL820', 'CHEMBL833',\n",
    " 'CHEMBL84', 'CHEMBL852', 'CHEMBL92']\n",
    "toxic_hepa = ['CHEMBL1077', 'CHEMBL1201506', 'CHEMBL1324', 'CHEMBL109', 'CHEMBL1094',\n",
    " 'CHEMBL112', 'CHEMBL1131', 'CHEMBL1171837', 'CHEMBL1200436', 'CHEMBL1201187',\n",
    " 'CHEMBL1201288', 'CHEMBL1237044', 'CHEMBL129', 'CHEMBL1380', 'CHEMBL141',\n",
    " 'CHEMBL1460', 'CHEMBL1479', 'CHEMBL1518', 'CHEMBL1538', 'CHEMBL157101',\n",
    " 'CHEMBL1651906', 'CHEMBL2107825', 'CHEMBL2108611', 'CHEMBL2216870',\n",
    " 'CHEMBL222559', 'CHEMBL34259', 'CHEMBL344159', 'CHEMBL354541', 'CHEMBL461101',\n",
    " 'CHEMBL471', 'CHEMBL476', 'CHEMBL53463', 'CHEMBL535', 'CHEMBL550348',\n",
    " 'CHEMBL558', 'CHEMBL57', 'CHEMBL623', 'CHEMBL633', 'CHEMBL64', 'CHEMBL713',\n",
    " 'CHEMBL803', 'CHEMBL806', 'CHEMBL885', 'CHEMBL92', 'CHEMBL922', 'CHEMBL957',\n",
    " 'CHEMBL960', 'CHEMBL973', 'CHEMBL991']\n",
    "toxic_immune = ['CHEMBL11359', 'CHEMBL1201544', 'CHEMBL1201589', 'CHEMBL1201595',\n",
    " 'CHEMBL1201824', 'CHEMBL1201826', 'CHEMBL1201837', 'CHEMBL1237025',\n",
    " 'CHEMBL1351', 'CHEMBL1374379', 'CHEMBL1380', 'CHEMBL1456', 'CHEMBL1460',\n",
    " 'CHEMBL1542', 'CHEMBL1550', 'CHEMBL160', 'CHEMBL1742990', 'CHEMBL2108676',\n",
    " 'CHEMBL269732', 'CHEMBL3137342', 'CHEMBL3544926', 'CHEMBL413', 'CHEMBL414804',\n",
    " 'CHEMBL428647', 'CHEMBL469', 'CHEMBL57', 'CHEMBL643', 'CHEMBL852', 'CHEMBL866'\n",
    " 'CHEMBL92',    \n",
    "]\n",
    "infections = ['CHEMBL479', 'CHEMBL1201289', 'CHEMBL1201572', 'CHEMBL1201581',\n",
    " 'CHEMBL1201607', 'CHEMBL1201828', 'CHEMBL1276308', 'CHEMBL1447', 'CHEMBL1456',\n",
    " 'CHEMBL160', 'CHEMBL1742990', 'CHEMBL1753', 'CHEMBL2107857', 'CHEMBL2216870',\n",
    " 'CHEMBL221959', 'CHEMBL269732', 'CHEMBL3184512', 'CHEMBL34259', 'CHEMBL413',\n",
    " 'CHEMBL553025', 'CHEMBL643', 'CHEMBL866',\n",
    "]\n",
    "toxic_metabolism = ['CHEMBL129', 'CHEMBL1380', 'CHEMBL141', 'CHEMBL1429', 'CHEMBL1431',\n",
    " 'CHEMBL1460', 'CHEMBL1743047', 'CHEMBL1760', 'CHEMBL585', 'CHEMBL713',\n",
    " 'CHEMBL922', 'CHEMBL945', 'CHEMBL991',   \n",
    "]\n",
    "toxic_muscoskelet = ['CHEMBL129', 'CHEMBL32', 'CHEMBL33', 'CHEMBL4', 'CHEMBL640', 'CHEMBL701',\n",
    " 'CHEMBL717', 'CHEMBL8']\n",
    "\n",
    "toxic_nephro = ['CHEMBL1024', 'CHEMBL105', 'CHEMBL1072', 'CHEMBL11359', 'CHEMBL1200558',\n",
    " 'CHEMBL1366', 'CHEMBL152', 'CHEMBL160', 'CHEMBL1651906', 'CHEMBL1747',\n",
    " 'CHEMBL177', 'CHEMBL2105720', 'CHEMBL3039597', 'CHEMBL34259', 'CHEMBL3989769',\n",
    " 'CHEMBL507870', 'CHEMBL550348', 'CHEMBL666', 'CHEMBL922']\n",
    "\n",
    "toxic_neuro = ['CHEMBL118', 'CHEMBL646', 'CHEMBL1020', 'CHEMBL1024', 'CHEMBL103',\n",
    " 'CHEMBL1070', 'CHEMBL1071', 'CHEMBL1096882', 'CHEMBL1098', 'CHEMBL11359',\n",
    " 'CHEMBL1171837', 'CHEMBL1200430', 'CHEMBL1200973', 'CHEMBL1201112',\n",
    " 'CHEMBL1297', 'CHEMBL1342', 'CHEMBL135', 'CHEMBL139', 'CHEMBL1479',\n",
    " 'CHEMBL1511', 'CHEMBL154', 'CHEMBL154111', 'CHEMBL15770', 'CHEMBL1619',\n",
    " 'CHEMBL1747', 'CHEMBL177', 'CHEMBL1795072', 'CHEMBL3039597', 'CHEMBL3137342',\n",
    " 'CHEMBL32', 'CHEMBL33', 'CHEMBL3989738', 'CHEMBL3989769', 'CHEMBL4',\n",
    " 'CHEMBL407', 'CHEMBL42', 'CHEMBL469', 'CHEMBL494753', 'CHEMBL521', 'CHEMBL527',\n",
    " 'CHEMBL539697', 'CHEMBL563', 'CHEMBL571', 'CHEMBL599', 'CHEMBL6', 'CHEMBL622',\n",
    " 'CHEMBL666', 'CHEMBL686', 'CHEMBL701', 'CHEMBL717', 'CHEMBL8', 'CHEMBL81',\n",
    " 'CHEMBL83', 'CHEMBL86', 'CHEMBL898'\n",
    "    ]\n",
    "toxic_psyche = ['CHEMBL646', 'CHEMBL1089', 'CHEMBL11', 'CHEMBL1112', 'CHEMBL1113',\n",
    " 'CHEMBL1118', 'CHEMBL1175', 'CHEMBL117785', 'CHEMBL1200854', 'CHEMBL1200986',\n",
    " 'CHEMBL1201', 'CHEMBL1201168', 'CHEMBL1237021', 'CHEMBL14376', 'CHEMBL1508',\n",
    " 'CHEMBL1621', 'CHEMBL1628227', 'CHEMBL1795072' ,'CHEMBL2104993',\n",
    " 'CHEMBL2105760', 'CHEMBL21731', 'CHEMBL259209', 'CHEMBL3989843', 'CHEMBL41',\n",
    " 'CHEMBL415', 'CHEMBL416956', 'CHEMBL439849', 'CHEMBL445', 'CHEMBL490',\n",
    " 'CHEMBL549', 'CHEMBL567', 'CHEMBL621', 'CHEMBL623', 'CHEMBL629', 'CHEMBL637',\n",
    " 'CHEMBL644', 'CHEMBL654', 'CHEMBL668', 'CHEMBL701', 'CHEMBL716', 'CHEMBL72',\n",
    " 'CHEMBL809', 'CHEMBL814', 'CHEMBL894', 'CHEMBL972', 'CHEMBL99946',\n",
    "]\n",
    "toxic_respiratory = ['CHEMBL656', 'CHEMBL103', 'CHEMBL11359', 'CHEMBL1200973', 'CHEMBL1201589',\n",
    " 'CHEMBL1201776', 'CHEMBL1201824', 'CHEMBL1201826', 'CHEMBL1237044',\n",
    " 'CHEMBL1263', 'CHEMBL1274', 'CHEMBL1342', 'CHEMBL135', 'CHEMBL1374379',\n",
    " 'CHEMBL1431', 'CHEMBL1511', 'CHEMBL1643', 'CHEMBL177', 'CHEMBL2108676',\n",
    " 'CHEMBL2216870', 'CHEMBL33986', 'CHEMBL34259', 'CHEMBL398707', 'CHEMBL403664',\n",
    " 'CHEMBL469', 'CHEMBL494753', 'CHEMBL511142', 'CHEMBL592', 'CHEMBL596',\n",
    " 'CHEMBL607', 'CHEMBL633', 'CHEMBL643', 'CHEMBL651', 'CHEMBL655', 'CHEMBL70',\n",
    " 'CHEMBL717', 'CHEMBL780', 'CHEMBL81', 'CHEMBL83', 'CHEMBL895', 'CHEMBL92',\n",
    " 'CHEMBL963']\n",
    "toxic_teratogen = ['CHEMBL1014', 'CHEMBL1017', 'CHEMBL1023', 'CHEMBL1069', 'CHEMBL109',\n",
    " 'CHEMBL1111', 'CHEMBL1131', 'CHEMBL1165', 'CHEMBL1168', 'CHEMBL1200692',\n",
    " 'CHEMBL1201314', 'CHEMBL1237', 'CHEMBL125', 'CHEMBL1456', 'CHEMBL1479',\n",
    " 'CHEMBL1513', 'CHEMBL1519', 'CHEMBL152', 'CHEMBL1542' ,'CHEMBL1554',\n",
    " 'CHEMBL1560', 'CHEMBL1581', 'CHEMBL1592', 'CHEMBL1619', 'CHEMBL1639',\n",
    " 'CHEMBL1643', 'CHEMBL1747', 'CHEMBL182', 'CHEMBL191', 'CHEMBL2007641',\n",
    " 'CHEMBL2028661', 'CHEMBL2103873', 'CHEMBL2105737', 'CHEMBL2107834',\n",
    " 'CHEMBL262777', 'CHEMBL3039597', 'CHEMBL3039598', 'CHEMBL34259', 'CHEMBL38',\n",
    " 'CHEMBL473417', 'CHEMBL476', 'CHEMBL507870', 'CHEMBL515', 'CHEMBL547',\n",
    " 'CHEMBL577', 'CHEMBL578', 'CHEMBL606', 'CHEMBL717', 'CHEMBL813', 'CHEMBL838',\n",
    " 'CHEMBL866', 'CHEMBL957', 'CHEMBL960', 'CHEMBL973',\n",
    "]\n",
    "toxic_vascular = ['CHEMBL103', 'CHEMBL11359', 'CHEMBL1161681', 'CHEMBL1171837', 'CHEMBL1200430',\n",
    " 'CHEMBL1200973', 'CHEMBL1201202', 'CHEMBL1201212', 'CHEMBL1201336',\n",
    " 'CHEMBL1201438', 'CHEMBL1201476', 'CHEMBL1201589', 'CHEMBL1201651',\n",
    " 'CHEMBL1201772', 'CHEMBL1201824', 'CHEMBL1201826', 'CHEMBL134', 'CHEMBL135',\n",
    " 'CHEMBL136478', 'CHEMBL1374379', 'CHEMBL1431', 'CHEMBL1464', 'CHEMBL1479',\n",
    " 'CHEMBL1511', 'CHEMBL1550', 'CHEMBL16', 'CHEMBL160', 'CHEMBL1742982',\n",
    " 'CHEMBL1760', 'CHEMBL198362', 'CHEMBL2103827', 'CHEMBL2108676',\n",
    " 'CHEMBL221959', 'CHEMBL231779', 'CHEMBL34259', 'CHEMBL42', 'CHEMBL428647',\n",
    " 'CHEMBL469', 'CHEMBL481', 'CHEMBL494753', 'CHEMBL512351', 'CHEMBL53463',\n",
    " 'CHEMBL539697', 'CHEMBL550348', 'CHEMBL643', 'CHEMBL717', 'CHEMBL81',\n",
    " 'CHEMBL83', 'CHEMBL92']"
   ]
  },
  {
   "cell_type": "code",
   "execution_count": 36,
   "id": "dcddcf03-20e5-4707-9a6f-58c8ee926035",
   "metadata": {},
   "outputs": [],
   "source": [
    "toxic_dict = {\"toxic_carcinogenic\": toxic_carcinogenic, \"toxic_cardio\": toxic_cardio, \"toxic_dermis\": toxic_dermis, \"toxic_gastro\": toxic_gastro,\n",
    "              \"toxic_hema\": toxic_hema, \"toxic_hepa\": toxic_hepa, \"toxic_immune\": toxic_immune, \"infections\": infections, \n",
    "              \"toxic_metabolism\": toxic_metabolism, \"toxic_muscoskelet\": toxic_muscoskelet, \"toxic_nephro\": toxic_nephro, \n",
    "              \"toxic_neuro\": toxic_neuro, \"toxic_psyche\": toxic_psyche, \"toxic_respiratory\": toxic_respiratory, \n",
    "              \"toxic_teratogen\": toxic_teratogen, \"toxic_vascular\": toxic_vascular}"
   ]
  },
  {
   "cell_type": "code",
   "execution_count": null,
   "id": "16fe85af-ee5a-4d41-9644-0118fa1ca114",
   "metadata": {},
   "outputs": [],
   "source": [
    "data['chembl_tox'] = 'Safe'\n",
    "for effect in toxic_dict:\n",
    "    for molecule in toxic_dict[effect]:\n",
    "        try:\n",
    "            old_label = data.loc[data['chembl_id'] == molecule]['chembl_tox'].values[0]\n",
    "        except IndexError:\n",
    "            print('Mol {} not in the set'.format(molecule))\n",
    "        if old_label == 'Safe':\n",
    "            data.loc[data['chembl_id'] == molecule, 'chembl_tox'] = effect\n",
    "        else:\n",
    "            data.loc[data['chembl_id'] == molecule, 'chembl_tox'] = '{}+{}'.format(old_label, effect)"
   ]
  },
  {
   "cell_type": "code",
   "execution_count": 96,
   "id": "28d928ee-51dd-4c73-8bd6-84b629424798",
   "metadata": {},
   "outputs": [],
   "source": [
    "data['action_type'] = 'missing'\n",
    "data['direct_interaction'] = 'missing'\n",
    "data['disease_efficacy'] = 'missing'\n",
    "data['molecular_mechanism'] = 'missing'\n",
    "data['target_chembl_id'] = 'missing'"
   ]
  },
  {
   "cell_type": "code",
   "execution_count": 91,
   "id": "3a4ebd89-f193-4598-9f92-3ab9505791f3",
   "metadata": {},
   "outputs": [],
   "source": [
    "mechanism_list = ['action_type', 'direct_interaction', 'disease_efficacy', 'molecular_mechanism', 'target_chembl_id']"
   ]
  },
  {
   "cell_type": "code",
   "execution_count": 98,
   "id": "b821020a-2c1f-43ed-b80b-b008d439621c",
   "metadata": {},
   "outputs": [
    {
     "name": "stderr",
     "output_type": "stream",
     "text": [
      "100%|██████████| 2164/2164 [20:37<00:00,  1.75it/s]\n"
     ]
    }
   ],
   "source": [
    "for molecule in tqdm(list(data['chembl_id'])):\n",
    "    for mechanism in new_client.mechanism.filter(molecule_chembl_id=molecule):\n",
    "        if mechanism['max_phase'] == 4:\n",
    "            for i in mechanism_list:\n",
    "                if data.loc[data['chembl_id'] == molecule][i].values[0] == 'missing':\n",
    "                    data.loc[data['chembl_id'] == molecule, i] = mechanism[i]\n",
    "                else:\n",
    "                    old_label = data.loc[data['chembl_id'] == molecule][i].values[0]\n",
    "                    data.loc[data['chembl_id'] == molecule, i] = '{}+{}'.format(old_label, mechanism[i])"
   ]
  },
  {
   "cell_type": "code",
   "execution_count": 144,
   "id": "f4e5dab1-9d98-4d48-8aec-edda2af9cff5",
   "metadata": {
    "scrolled": true,
    "tags": []
   },
   "outputs": [
    {
     "name": "stderr",
     "output_type": "stream",
     "text": [
      "  1%|          | 20/2164 [00:11<20:14,  1.77it/s]"
     ]
    },
    {
     "name": "stdout",
     "output_type": "stream",
     "text": [
      "Molecule not found\n"
     ]
    },
    {
     "name": "stderr",
     "output_type": "stream",
     "text": [
      "  1%|          | 21/2164 [00:11<20:20,  1.76it/s]"
     ]
    },
    {
     "name": "stdout",
     "output_type": "stream",
     "text": [
      "Molecule not found\n"
     ]
    },
    {
     "name": "stderr",
     "output_type": "stream",
     "text": [
      "  4%|▍         | 90/2164 [00:56<22:29,  1.54it/s]"
     ]
    },
    {
     "name": "stdout",
     "output_type": "stream",
     "text": [
      "Molecule not found\n"
     ]
    },
    {
     "name": "stderr",
     "output_type": "stream",
     "text": [
      "  4%|▍         | 97/2164 [01:00<21:05,  1.63it/s]"
     ]
    },
    {
     "name": "stdout",
     "output_type": "stream",
     "text": [
      "Molecule not found\n"
     ]
    },
    {
     "name": "stderr",
     "output_type": "stream",
     "text": [
      "  9%|▉         | 192/2164 [01:57<17:31,  1.88it/s]"
     ]
    },
    {
     "name": "stdout",
     "output_type": "stream",
     "text": [
      "Molecule not found\n"
     ]
    },
    {
     "name": "stderr",
     "output_type": "stream",
     "text": [
      " 10%|█         | 221/2164 [02:13<19:32,  1.66it/s]"
     ]
    },
    {
     "name": "stdout",
     "output_type": "stream",
     "text": [
      "Molecule not found\n"
     ]
    },
    {
     "name": "stderr",
     "output_type": "stream",
     "text": [
      " 13%|█▎        | 271/2164 [02:42<17:02,  1.85it/s]"
     ]
    },
    {
     "name": "stdout",
     "output_type": "stream",
     "text": [
      "Molecule not found\n"
     ]
    },
    {
     "name": "stderr",
     "output_type": "stream",
     "text": [
      " 13%|█▎        | 273/2164 [02:44<18:02,  1.75it/s]"
     ]
    },
    {
     "name": "stdout",
     "output_type": "stream",
     "text": [
      "Molecule not found\n"
     ]
    },
    {
     "name": "stderr",
     "output_type": "stream",
     "text": [
      " 14%|█▎        | 295/2164 [02:58<19:29,  1.60it/s]"
     ]
    },
    {
     "name": "stdout",
     "output_type": "stream",
     "text": [
      "Molecule not found\n"
     ]
    },
    {
     "name": "stderr",
     "output_type": "stream",
     "text": [
      " 14%|█▍        | 303/2164 [03:03<18:17,  1.70it/s]"
     ]
    },
    {
     "name": "stdout",
     "output_type": "stream",
     "text": [
      "Molecule not found\n"
     ]
    },
    {
     "name": "stderr",
     "output_type": "stream",
     "text": [
      " 17%|█▋        | 362/2164 [03:36<17:32,  1.71it/s]"
     ]
    },
    {
     "name": "stdout",
     "output_type": "stream",
     "text": [
      "Molecule not found\n"
     ]
    },
    {
     "name": "stderr",
     "output_type": "stream",
     "text": [
      " 18%|█▊        | 384/2164 [03:49<17:57,  1.65it/s]"
     ]
    },
    {
     "name": "stdout",
     "output_type": "stream",
     "text": [
      "Molecule not found\n"
     ]
    },
    {
     "name": "stderr",
     "output_type": "stream",
     "text": [
      " 18%|█▊        | 396/2164 [03:58<26:04,  1.13it/s]"
     ]
    },
    {
     "name": "stdout",
     "output_type": "stream",
     "text": [
      "Molecule not found\n"
     ]
    },
    {
     "name": "stderr",
     "output_type": "stream",
     "text": [
      " 21%|██        | 445/2164 [04:27<16:19,  1.75it/s]"
     ]
    },
    {
     "name": "stdout",
     "output_type": "stream",
     "text": [
      "Molecule not found\n"
     ]
    },
    {
     "name": "stderr",
     "output_type": "stream",
     "text": [
      " 21%|██▏       | 465/2164 [04:38<16:04,  1.76it/s]"
     ]
    },
    {
     "name": "stdout",
     "output_type": "stream",
     "text": [
      "Molecule not found\n"
     ]
    },
    {
     "name": "stderr",
     "output_type": "stream",
     "text": [
      " 23%|██▎       | 493/2164 [04:55<15:33,  1.79it/s]"
     ]
    },
    {
     "name": "stdout",
     "output_type": "stream",
     "text": [
      "Molecule not found\n"
     ]
    },
    {
     "name": "stderr",
     "output_type": "stream",
     "text": [
      " 27%|██▋       | 580/2164 [05:48<16:46,  1.57it/s]"
     ]
    },
    {
     "name": "stdout",
     "output_type": "stream",
     "text": [
      "Molecule not found\n"
     ]
    },
    {
     "name": "stderr",
     "output_type": "stream",
     "text": [
      " 32%|███▏      | 696/2164 [06:57<14:59,  1.63it/s]"
     ]
    },
    {
     "name": "stdout",
     "output_type": "stream",
     "text": [
      "Molecule not found\n"
     ]
    },
    {
     "name": "stderr",
     "output_type": "stream",
     "text": [
      " 33%|███▎      | 718/2164 [07:12<15:25,  1.56it/s]"
     ]
    },
    {
     "name": "stdout",
     "output_type": "stream",
     "text": [
      "Molecule not found\n"
     ]
    },
    {
     "name": "stderr",
     "output_type": "stream",
     "text": [
      " 34%|███▍      | 744/2164 [07:27<14:10,  1.67it/s]"
     ]
    },
    {
     "name": "stdout",
     "output_type": "stream",
     "text": [
      "Molecule not found\n"
     ]
    },
    {
     "name": "stderr",
     "output_type": "stream",
     "text": [
      " 35%|███▍      | 747/2164 [07:28<14:01,  1.68it/s]"
     ]
    },
    {
     "name": "stdout",
     "output_type": "stream",
     "text": [
      "Molecule not found\n"
     ]
    },
    {
     "name": "stderr",
     "output_type": "stream",
     "text": [
      " 36%|███▌      | 775/2164 [07:45<14:13,  1.63it/s]"
     ]
    },
    {
     "name": "stdout",
     "output_type": "stream",
     "text": [
      "Molecule not found\n"
     ]
    },
    {
     "name": "stderr",
     "output_type": "stream",
     "text": [
      " 39%|███▊      | 834/2164 [08:20<14:42,  1.51it/s]"
     ]
    },
    {
     "name": "stdout",
     "output_type": "stream",
     "text": [
      "Molecule not found\n"
     ]
    },
    {
     "name": "stderr",
     "output_type": "stream",
     "text": [
      " 40%|████      | 875/2164 [08:44<12:05,  1.78it/s]"
     ]
    },
    {
     "name": "stdout",
     "output_type": "stream",
     "text": [
      "Molecule not found\n"
     ]
    },
    {
     "name": "stderr",
     "output_type": "stream",
     "text": [
      " 41%|████▏     | 896/2164 [08:57<13:58,  1.51it/s]"
     ]
    },
    {
     "name": "stdout",
     "output_type": "stream",
     "text": [
      "Molecule not found\n"
     ]
    },
    {
     "name": "stderr",
     "output_type": "stream",
     "text": [
      " 42%|████▏     | 909/2164 [09:06<13:02,  1.60it/s]"
     ]
    },
    {
     "name": "stdout",
     "output_type": "stream",
     "text": [
      "Molecule not found\n"
     ]
    },
    {
     "name": "stderr",
     "output_type": "stream",
     "text": [
      " 43%|████▎     | 934/2164 [09:22<13:22,  1.53it/s]"
     ]
    },
    {
     "name": "stdout",
     "output_type": "stream",
     "text": [
      "Molecule not found\n"
     ]
    },
    {
     "name": "stderr",
     "output_type": "stream",
     "text": [
      " 47%|████▋     | 1007/2164 [10:10<11:52,  1.62it/s]"
     ]
    },
    {
     "name": "stdout",
     "output_type": "stream",
     "text": [
      "Molecule not found\n"
     ]
    },
    {
     "name": "stderr",
     "output_type": "stream",
     "text": [
      " 47%|████▋     | 1009/2164 [10:11<11:01,  1.75it/s]"
     ]
    },
    {
     "name": "stdout",
     "output_type": "stream",
     "text": [
      "Molecule not found\n"
     ]
    },
    {
     "name": "stderr",
     "output_type": "stream",
     "text": [
      " 48%|████▊     | 1028/2164 [10:22<10:38,  1.78it/s]"
     ]
    },
    {
     "name": "stdout",
     "output_type": "stream",
     "text": [
      "Molecule not found\n"
     ]
    },
    {
     "name": "stderr",
     "output_type": "stream",
     "text": [
      " 48%|████▊     | 1034/2164 [10:26<10:53,  1.73it/s]"
     ]
    },
    {
     "name": "stdout",
     "output_type": "stream",
     "text": [
      "Molecule not found\n"
     ]
    },
    {
     "name": "stderr",
     "output_type": "stream",
     "text": [
      " 50%|████▉     | 1080/2164 [10:54<11:17,  1.60it/s]"
     ]
    },
    {
     "name": "stdout",
     "output_type": "stream",
     "text": [
      "Molecule not found\n"
     ]
    },
    {
     "name": "stderr",
     "output_type": "stream",
     "text": [
      " 52%|█████▏    | 1126/2164 [11:25<10:13,  1.69it/s]"
     ]
    },
    {
     "name": "stdout",
     "output_type": "stream",
     "text": [
      "Molecule not found\n"
     ]
    },
    {
     "name": "stderr",
     "output_type": "stream",
     "text": [
      " 52%|█████▏    | 1131/2164 [11:27<10:09,  1.70it/s]"
     ]
    },
    {
     "name": "stdout",
     "output_type": "stream",
     "text": [
      "Molecule not found\n"
     ]
    },
    {
     "name": "stderr",
     "output_type": "stream",
     "text": [
      " 53%|█████▎    | 1139/2164 [11:33<10:57,  1.56it/s]"
     ]
    },
    {
     "name": "stdout",
     "output_type": "stream",
     "text": [
      "Molecule not found\n"
     ]
    },
    {
     "name": "stderr",
     "output_type": "stream",
     "text": [
      " 53%|█████▎    | 1152/2164 [11:42<10:55,  1.54it/s]"
     ]
    },
    {
     "name": "stdout",
     "output_type": "stream",
     "text": [
      "Molecule not found\n"
     ]
    },
    {
     "name": "stderr",
     "output_type": "stream",
     "text": [
      " 57%|█████▋    | 1233/2164 [12:30<08:43,  1.78it/s]"
     ]
    },
    {
     "name": "stdout",
     "output_type": "stream",
     "text": [
      "Molecule not found\n"
     ]
    },
    {
     "name": "stderr",
     "output_type": "stream",
     "text": [
      " 57%|█████▋    | 1244/2164 [12:37<10:21,  1.48it/s]"
     ]
    },
    {
     "name": "stdout",
     "output_type": "stream",
     "text": [
      "Molecule not found\n"
     ]
    },
    {
     "name": "stderr",
     "output_type": "stream",
     "text": [
      " 59%|█████▉    | 1280/2164 [12:58<08:34,  1.72it/s]"
     ]
    },
    {
     "name": "stdout",
     "output_type": "stream",
     "text": [
      "Molecule not found\n"
     ]
    },
    {
     "name": "stderr",
     "output_type": "stream",
     "text": [
      " 60%|█████▉    | 1293/2164 [13:05<07:59,  1.82it/s]"
     ]
    },
    {
     "name": "stdout",
     "output_type": "stream",
     "text": [
      "Molecule not found\n"
     ]
    },
    {
     "name": "stderr",
     "output_type": "stream",
     "text": [
      " 60%|██████    | 1309/2164 [13:14<07:57,  1.79it/s]"
     ]
    },
    {
     "name": "stdout",
     "output_type": "stream",
     "text": [
      "Molecule not found\n"
     ]
    },
    {
     "name": "stderr",
     "output_type": "stream",
     "text": [
      " 61%|██████    | 1317/2164 [13:18<07:45,  1.82it/s]"
     ]
    },
    {
     "name": "stdout",
     "output_type": "stream",
     "text": [
      "Molecule not found\n"
     ]
    },
    {
     "name": "stderr",
     "output_type": "stream",
     "text": [
      " 63%|██████▎   | 1368/2164 [13:49<07:32,  1.76it/s]"
     ]
    },
    {
     "name": "stdout",
     "output_type": "stream",
     "text": [
      "Molecule not found\n"
     ]
    },
    {
     "name": "stderr",
     "output_type": "stream",
     "text": [
      " 65%|██████▍   | 1402/2164 [14:09<07:16,  1.74it/s]"
     ]
    },
    {
     "name": "stdout",
     "output_type": "stream",
     "text": [
      "Molecule not found\n"
     ]
    },
    {
     "name": "stderr",
     "output_type": "stream",
     "text": [
      " 66%|██████▌   | 1422/2164 [14:22<08:33,  1.45it/s]"
     ]
    },
    {
     "name": "stdout",
     "output_type": "stream",
     "text": [
      "Molecule not found\n"
     ]
    },
    {
     "name": "stderr",
     "output_type": "stream",
     "text": [
      " 69%|██████▉   | 1489/2164 [15:01<06:27,  1.74it/s]"
     ]
    },
    {
     "name": "stdout",
     "output_type": "stream",
     "text": [
      "Molecule not found\n"
     ]
    },
    {
     "name": "stderr",
     "output_type": "stream",
     "text": [
      " 73%|███████▎  | 1581/2164 [15:57<05:43,  1.70it/s]"
     ]
    },
    {
     "name": "stdout",
     "output_type": "stream",
     "text": [
      "Molecule not found\n"
     ]
    },
    {
     "name": "stderr",
     "output_type": "stream",
     "text": [
      " 74%|███████▍  | 1605/2164 [16:14<09:22,  1.01s/it]"
     ]
    },
    {
     "name": "stdout",
     "output_type": "stream",
     "text": [
      "Molecule not found\n"
     ]
    },
    {
     "name": "stderr",
     "output_type": "stream",
     "text": [
      " 80%|███████▉  | 1728/2164 [17:30<04:13,  1.72it/s]"
     ]
    },
    {
     "name": "stdout",
     "output_type": "stream",
     "text": [
      "Molecule not found\n"
     ]
    },
    {
     "name": "stderr",
     "output_type": "stream",
     "text": [
      " 84%|████████▍ | 1820/2164 [18:27<03:17,  1.74it/s]"
     ]
    },
    {
     "name": "stdout",
     "output_type": "stream",
     "text": [
      "Molecule not found\n"
     ]
    },
    {
     "name": "stderr",
     "output_type": "stream",
     "text": [
      " 87%|████████▋ | 1889/2164 [19:09<02:39,  1.73it/s]"
     ]
    },
    {
     "name": "stdout",
     "output_type": "stream",
     "text": [
      "Molecule not found\n"
     ]
    },
    {
     "name": "stderr",
     "output_type": "stream",
     "text": [
      " 93%|█████████▎| 2011/2164 [20:22<01:30,  1.69it/s]"
     ]
    },
    {
     "name": "stdout",
     "output_type": "stream",
     "text": [
      "Molecule not found\n"
     ]
    },
    {
     "name": "stderr",
     "output_type": "stream",
     "text": [
      " 95%|█████████▍| 2050/2164 [20:46<01:08,  1.66it/s]"
     ]
    },
    {
     "name": "stdout",
     "output_type": "stream",
     "text": [
      "Molecule not found\n"
     ]
    },
    {
     "name": "stderr",
     "output_type": "stream",
     "text": [
      " 99%|█████████▉| 2138/2164 [21:42<00:15,  1.63it/s]"
     ]
    },
    {
     "name": "stdout",
     "output_type": "stream",
     "text": [
      "Molecule not found\n"
     ]
    },
    {
     "name": "stderr",
     "output_type": "stream",
     "text": [
      " 99%|█████████▉| 2139/2164 [21:42<00:14,  1.67it/s]"
     ]
    },
    {
     "name": "stdout",
     "output_type": "stream",
     "text": [
      "Molecule not found\n"
     ]
    },
    {
     "name": "stderr",
     "output_type": "stream",
     "text": [
      "100%|█████████▉| 2162/2164 [22:02<00:01,  1.55it/s]"
     ]
    },
    {
     "name": "stdout",
     "output_type": "stream",
     "text": [
      "Molecule not found\n"
     ]
    },
    {
     "name": "stderr",
     "output_type": "stream",
     "text": [
      "100%|██████████| 2164/2164 [22:03<00:00,  1.63it/s]\n"
     ]
    }
   ],
   "source": [
    "data['pubchem_cid'] = 'missing'\n",
    "for i in tqdm(list(data['inchi_key'])):\n",
    "    try:\n",
    "        cid = pcp.get_cids(i, \"inchikey\")[0]\n",
    "        data.loc[data['inchi_key'] == i, 'pubchem_cid'] = cid\n",
    "    except:\n",
    "        print(\"Molecule not found\")"
   ]
  },
  {
   "cell_type": "code",
   "execution_count": 118,
   "id": "c36f95fe-73a6-4582-a54b-3b90115f436f",
   "metadata": {},
   "outputs": [],
   "source": [
    "data['withdrawn'] = 0"
   ]
  },
  {
   "cell_type": "code",
   "execution_count": 119,
   "id": "4a03eecd-e0c7-4cf7-ad3a-a55ad03f110d",
   "metadata": {},
   "outputs": [],
   "source": [
    "data.loc[data['availability_type'] == 'Withdrawn', 'withdrawn'] = 1"
   ]
  },
  {
   "cell_type": "code",
   "execution_count": 147,
   "id": "4d14ca5d-e562-4cee-9340-b6088e1fa61b",
   "metadata": {},
   "outputs": [],
   "source": [
    "data.to_csv('/home/dionizije/Documents/DAO/data/not_from_script/chembl_4_full.csv')"
   ]
  },
  {
   "cell_type": "code",
   "execution_count": 291,
   "id": "bde0d365-2904-48aa-9e4d-06e981696298",
   "metadata": {},
   "outputs": [],
   "source": [
    "data[['chembl_id', 'pubchem_cid', 'smiles', 'parent_smiles', 'chembl_tox', 'withdrawn']].to_csv('/home/dionizije/Documents/DAO/data/not_from_script/chembl_4_smiles.csv')"
   ]
  },
  {
   "cell_type": "markdown",
   "id": "c984312e-00f6-4871-bcfb-5466d9075186",
   "metadata": {},
   "source": [
    "# Process DrugBank data"
   ]
  },
  {
   "cell_type": "code",
   "execution_count": 272,
   "id": "339b6d83-2c4c-41f0-9e01-0dcec99a47ae",
   "metadata": {},
   "outputs": [],
   "source": [
    "drugbank = pd.read_csv('structure links.csv')"
   ]
  },
  {
   "cell_type": "code",
   "execution_count": 273,
   "id": "9274a492-0815-412d-b4ab-880b574fe6c5",
   "metadata": {},
   "outputs": [],
   "source": [
    "drugbank = drugbank.loc[~drugbank['InChIKey'].isin(data['inchi_key'])]"
   ]
  },
  {
   "cell_type": "code",
   "execution_count": 274,
   "id": "3b88948e-e124-470d-aa75-78c1ce1f09fd",
   "metadata": {},
   "outputs": [],
   "source": [
    "drugbank = drugbank[['DrugBank ID', 'InChIKey', 'Drug Groups', 'SMILES', 'Name']]"
   ]
  },
  {
   "cell_type": "code",
   "execution_count": 275,
   "id": "2408a751-ee40-4955-90f7-a8151b680066",
   "metadata": {},
   "outputs": [],
   "source": [
    "drugbank.rename(columns = {'DrugBank ID': 'drugbank_id',\n",
    "                          'InChIKey': 'inchi_key',\n",
    "                          'Drug Groups': 'drug_groups',\n",
    "                          'SMILES': 'smiles',\n",
    "                          'Name': 'synonyms'}, inplace=True)"
   ]
  },
  {
   "cell_type": "code",
   "execution_count": 276,
   "id": "0f8397da-c011-4134-afa5-44da3c16f812",
   "metadata": {},
   "outputs": [],
   "source": [
    "drugbank_list_of_features = ['molecule_type', 'structure_type', 'therapeutic_flag', 'molecule_chembl_id', 'max_phase', 'atc_classifications', \n",
    "                             'chirality', 'prodrug', 'oral', 'parenteral', 'topical', 'black_box_warning', 'availability_type', 'withdrawn_year',\n",
    "                    'withdrawn_reason', 'withdrawn_country', 'withdrawn_class', 'molecule_type', 'structure_type', 'therapeutic_flag']\n",
    "drugbank_list_of_properties = ['alogp', 'aromatic_rings', 'cx_logd', 'cx_logp', 'cx_most_apka', 'cx_most_bpka', 'full_mwt', 'hba', 'hba_lipinski',\n",
    "                             'hbd', 'hbd_lipinski', 'heavy_atoms', 'molecular_species', 'mw_freebase', 'mw_monoisotopic', 'num_lipinski_ro5_violations',\n",
    "                             'num_ro5_violations', 'psa', 'qed_weighted', 'ro3_pass', 'rtb']"
   ]
  },
  {
   "cell_type": "code",
   "execution_count": 277,
   "id": "d89167ba-3bc1-420c-b783-20c745fd2343",
   "metadata": {},
   "outputs": [],
   "source": [
    "for i in drugbank_list_of_features:\n",
    "    drugbank[i] = 'missing'\n",
    "for i in list_of_properties:\n",
    "    drugbank[i] = 'missing'"
   ]
  },
  {
   "cell_type": "code",
   "execution_count": 278,
   "id": "63b8ad17-f13c-4b6b-a9ee-ee49be186544",
   "metadata": {},
   "outputs": [],
   "source": [
    "drugbank['parent_chembl_id'] = 'missing'\n",
    "drugbank['parent_smiles'] = 'missing'\n",
    "drugbank['parent_inchi_key'] = 'missing'"
   ]
  },
  {
   "cell_type": "code",
   "execution_count": 279,
   "id": "344e4520-567d-4404-8bfb-fcaa451305f2",
   "metadata": {
    "scrolled": true,
    "tags": []
   },
   "outputs": [
    {
     "name": "stderr",
     "output_type": "stream",
     "text": [
      "  0%|          | 0/887 [00:00<?, ?it/s]"
     ]
    },
    {
     "name": "stdout",
     "output_type": "stream",
     "text": [
      "No parent smiles for molecule OIRCOABEOLEUMC-GEJPAHFPSA-N\n",
      "No parent smiles for molecule GFIJNRVAKGFPGQ-LIJARHBVSA-N\n",
      "No parent smiles for molecule BLCLNMBMMGCOAS-URPVMXJPSA-N\n",
      "No parent smiles for molecule NDAYQJDHGXTBJL-MWWSRJDJSA-N\n",
      "No parent smiles for molecule NFLWUMRGJYTJIN-PNIOQBSNSA-N\n",
      "No parent smiles for molecule SBNPWPIBESPSIF-MHWMIDJBSA-N\n"
     ]
    },
    {
     "name": "stderr",
     "output_type": "stream",
     "text": [
      "  1%|          | 7/887 [00:12<26:44,  1.82s/it]"
     ]
    },
    {
     "name": "stdout",
     "output_type": "stream",
     "text": [
      "HTTPSConnectionPool(host='www.ebi.ac.uk', port=443): Max retries exceeded with url: /chembl/api/data/molecule/JLTCWSBVQSZVLT-UHFFFAOYSA-N (Caused by ResponseError('too many 404 error responses',))\n",
      "Molecule JLTCWSBVQSZVLT-UHFFFAOYSA-N doesn't exist\n"
     ]
    },
    {
     "name": "stderr",
     "output_type": "stream",
     "text": [
      "  1%|          | 8/887 [00:25<53:47,  3.67s/it]"
     ]
    },
    {
     "name": "stdout",
     "output_type": "stream",
     "text": [
      "HTTPSConnectionPool(host='www.ebi.ac.uk', port=443): Max retries exceeded with url: /chembl/api/data/molecule/DOAKLVKFURWEDJ-QCMAZARJSA-N (Caused by ResponseError('too many 404 error responses',))\n",
      "Molecule DOAKLVKFURWEDJ-QCMAZARJSA-N doesn't exist\n",
      "No parent smiles for molecule PMATZTZNYRCHOR-CGLBZJNRSA-N\n",
      "No parent smiles for molecule DEQANNDTNATYII-OULOTJBUSA-N\n",
      "No parent smiles for molecule AIWRTTMUVOZGPW-HSPKUQOVSA-N\n",
      "No parent smiles for molecule NGVDGCNFYWLIFO-UHFFFAOYSA-N\n"
     ]
    },
    {
     "name": "stderr",
     "output_type": "stream",
     "text": [
      "  1%|▏         | 13/887 [00:39<46:35,  3.20s/it]"
     ]
    },
    {
     "name": "stdout",
     "output_type": "stream",
     "text": [
      "HTTPSConnectionPool(host='www.ebi.ac.uk', port=443): Max retries exceeded with url: /chembl/api/data/molecule/RMRCNWBMXRMIRW-WZHZPDAFSA-L (Caused by ResponseError('too many 404 error responses',))\n",
      "Molecule RMRCNWBMXRMIRW-WZHZPDAFSA-L doesn't exist\n",
      "No parent smiles for molecule LCTONWCANYUPML-UHFFFAOYSA-N\n",
      "No parent smiles for molecule COLNVLDHVKWLRT-QMMMGPOBSA-N\n",
      "No parent smiles for molecule OEYIOHPDSNJKLS-UHFFFAOYSA-N\n",
      "No parent smiles for molecule CKLJMWTZIZZHCS-REOHCLBHSA-N\n",
      "No parent smiles for molecule AHLPHDHHMVZTML-BYPYZUCNSA-N\n",
      "No parent smiles for molecule DTOSIQBPPRVQHS-PDBXOOCHSA-N\n",
      "No parent smiles for molecule KBPHJBAIARWVSC-RGZFRNHPSA-N\n",
      "No parent smiles for molecule KDYFGRWQOYBRFD-UHFFFAOYSA-N\n",
      "No parent smiles for molecule MBLBDJOUHNCFQT-LXGUWJNJSA-N\n",
      "No parent smiles for molecule WHUUTDBJXJRKMK-VKHMYHEASA-N\n",
      "No parent smiles for molecule RWSXRVCMGQZWBV-WDSKDSINSA-N\n",
      "No parent smiles for molecule CVSVTCORWBXHQV-UHFFFAOYSA-N\n",
      "No parent smiles for molecule AYFVYJQAPQTCCC-GBXIJSLDSA-N\n",
      "No parent smiles for molecule BOPGDPNILDQYTO-NNYOXOHSSA-N\n",
      "No parent smiles for molecule JAZBEHYOTPTENJ-JLNKQSITSA-N\n",
      "No parent smiles for molecule KZSNJWFQEVHDMF-BYPYZUCNSA-N\n",
      "No parent smiles for molecule GVJHHUAWPYXKBD-IEOSBIPESA-N\n",
      "No parent smiles for molecule AGBQKNBQESQNJD-SSDOTTSWSA-N\n",
      "No parent smiles for molecule GFFGJBXGBJISGV-UHFFFAOYSA-N\n",
      "No parent smiles for molecule DCXYFEDJOCDNAF-REOHCLBHSA-N\n"
     ]
    },
    {
     "name": "stderr",
     "output_type": "stream",
     "text": [
      "  4%|▍         | 34/887 [00:52<17:11,  1.21s/it]"
     ]
    },
    {
     "name": "stdout",
     "output_type": "stream",
     "text": [
      "HTTPSConnectionPool(host='www.ebi.ac.uk', port=443): Max retries exceeded with url: /chembl/api/data/molecule/WUTYZMFRCNBCHQ-LHIURRSHSA-N (Caused by ResponseError('too many 404 error responses',))\n",
      "Molecule WUTYZMFRCNBCHQ-LHIURRSHSA-N doesn't exist\n",
      "No parent smiles for molecule TVYLLZQTGLZFBW-ZBFHGGJFSA-N\n"
     ]
    },
    {
     "name": "stderr",
     "output_type": "stream",
     "text": [
      "  4%|▍         | 36/887 [01:04<24:03,  1.70s/it]"
     ]
    },
    {
     "name": "stdout",
     "output_type": "stream",
     "text": [
      "HTTPSConnectionPool(host='www.ebi.ac.uk', port=443): Max retries exceeded with url: /chembl/api/data/molecule/YOZNUFWCRFCGIH-WZHZPDAFSA-K (Caused by ResponseError('too many 404 error responses',))\n",
      "Molecule YOZNUFWCRFCGIH-WZHZPDAFSA-K doesn't exist\n"
     ]
    },
    {
     "name": "stderr",
     "output_type": "stream",
     "text": [
      "  4%|▍         | 37/887 [01:17<33:54,  2.39s/it]"
     ]
    },
    {
     "name": "stdout",
     "output_type": "stream",
     "text": [
      "HTTPSConnectionPool(host='www.ebi.ac.uk', port=443): Max retries exceeded with url: /chembl/api/data/molecule/WXURHACBFYSXBI-XHIJKXOTSA-N (Caused by ResponseError('too many 404 error responses',))\n",
      "Molecule WXURHACBFYSXBI-XHIJKXOTSA-N doesn't exist\n"
     ]
    },
    {
     "name": "stderr",
     "output_type": "stream",
     "text": [
      "  4%|▍         | 38/887 [01:30<46:08,  3.26s/it]"
     ]
    },
    {
     "name": "stdout",
     "output_type": "stream",
     "text": [
      "HTTPSConnectionPool(host='www.ebi.ac.uk', port=443): Max retries exceeded with url: /chembl/api/data/molecule/HZHFFEYYPYZMNU-UHFFFAOYSA-K (Caused by ResponseError('too many 404 error responses',))\n",
      "Molecule HZHFFEYYPYZMNU-UHFFFAOYSA-K doesn't exist\n",
      "No parent smiles for molecule FJXOGVLKCZQRDN-PHCHRAKRSA-N\n",
      "No parent smiles for molecule VTRAEEWXHOVJFV-UHFFFAOYSA-N\n"
     ]
    },
    {
     "name": "stderr",
     "output_type": "stream",
     "text": [
      "  5%|▍         | 42/887 [01:43<45:51,  3.26s/it]"
     ]
    },
    {
     "name": "stdout",
     "output_type": "stream",
     "text": [
      "HTTPSConnectionPool(host='www.ebi.ac.uk', port=443): Max retries exceeded with url: /chembl/api/data/molecule/CEMXHAPUFJOOSV-XGWNLRGSSA-N (Caused by ResponseError('too many 404 error responses',))\n",
      "Molecule CEMXHAPUFJOOSV-XGWNLRGSSA-N doesn't exist\n"
     ]
    },
    {
     "name": "stderr",
     "output_type": "stream",
     "text": [
      "  5%|▍         | 43/887 [01:58<1:02:10,  4.42s/it]"
     ]
    },
    {
     "name": "stdout",
     "output_type": "stream",
     "text": [
      "HTTPSConnectionPool(host='www.ebi.ac.uk', port=443): Max retries exceeded with url: /chembl/api/data/molecule/nan (Caused by ResponseError('too many 404 error responses',))\n",
      "Molecule nan doesn't exist\n"
     ]
    },
    {
     "name": "stderr",
     "output_type": "stream",
     "text": [
      "  5%|▍         | 44/887 [02:11<1:17:32,  5.52s/it]"
     ]
    },
    {
     "name": "stdout",
     "output_type": "stream",
     "text": [
      "HTTPSConnectionPool(host='www.ebi.ac.uk', port=443): Max retries exceeded with url: /chembl/api/data/molecule/OYVAGSVQBOHSSS-WXFSZRTFSA-O (Caused by ResponseError('too many 404 error responses',))\n",
      "Molecule OYVAGSVQBOHSSS-WXFSZRTFSA-O doesn't exist\n"
     ]
    },
    {
     "name": "stderr",
     "output_type": "stream",
     "text": [
      "  5%|▌         | 45/887 [02:23<1:32:56,  6.62s/it]"
     ]
    },
    {
     "name": "stdout",
     "output_type": "stream",
     "text": [
      "HTTPSConnectionPool(host='www.ebi.ac.uk', port=443): Max retries exceeded with url: /chembl/api/data/molecule/VCOPTHOUUNAYKQ-WBTCAYNUSA-N (Caused by ResponseError('too many 404 error responses',))\n",
      "Molecule VCOPTHOUUNAYKQ-WBTCAYNUSA-N doesn't exist\n"
     ]
    },
    {
     "name": "stderr",
     "output_type": "stream",
     "text": [
      "  5%|▌         | 46/887 [02:36<1:48:26,  7.74s/it]"
     ]
    },
    {
     "name": "stdout",
     "output_type": "stream",
     "text": [
      "HTTPSConnectionPool(host='www.ebi.ac.uk', port=443): Max retries exceeded with url: /chembl/api/data/molecule/ASPOIVQEUUCDQT-UHFFFAOYSA-N (Caused by ResponseError('too many 404 error responses',))\n",
      "Molecule ASPOIVQEUUCDQT-UHFFFAOYSA-N doesn't exist\n"
     ]
    },
    {
     "name": "stderr",
     "output_type": "stream",
     "text": [
      "  5%|▌         | 47/887 [02:49<2:02:29,  8.75s/it]"
     ]
    },
    {
     "name": "stdout",
     "output_type": "stream",
     "text": [
      "HTTPSConnectionPool(host='www.ebi.ac.uk', port=443): Max retries exceeded with url: /chembl/api/data/molecule/IPLJAZDIICJQEL-JTJNLBSYSA-A (Caused by ResponseError('too many 404 error responses',))\n",
      "Molecule IPLJAZDIICJQEL-JTJNLBSYSA-A doesn't exist\n"
     ]
    },
    {
     "name": "stderr",
     "output_type": "stream",
     "text": [
      "  5%|▌         | 48/887 [03:01<2:15:12,  9.67s/it]"
     ]
    },
    {
     "name": "stdout",
     "output_type": "stream",
     "text": [
      "HTTPSConnectionPool(host='www.ebi.ac.uk', port=443): Max retries exceeded with url: /chembl/api/data/molecule/nan (Caused by ResponseError('too many 404 error responses',))\n",
      "Molecule nan doesn't exist\n",
      "No parent smiles for molecule DLNKOYKMWOXYQA-CBAPKCEASA-N\n",
      "No parent smiles for molecule YRALAIOMGQZKOW-HYAOXDFASA-N\n"
     ]
    },
    {
     "name": "stderr",
     "output_type": "stream",
     "text": [
      "  6%|▌         | 51/887 [03:14<1:37:16,  6.98s/it]"
     ]
    },
    {
     "name": "stdout",
     "output_type": "stream",
     "text": [
      "HTTPSConnectionPool(host='www.ebi.ac.uk', port=443): Max retries exceeded with url: /chembl/api/data/molecule/nan (Caused by ResponseError('too many 404 error responses',))\n",
      "Molecule nan doesn't exist\n",
      "No parent smiles for molecule DIGFQJFCDPKEPF-OIUSMDOTSA-L\n",
      "No parent smiles for molecule ZSJLQEPLLKMAKR-GKHCUFPYSA-N\n",
      "No parent smiles for molecule UMMADZJLZAPZAW-XOWPVRJPSA-N\n",
      "No parent smiles for molecule PGBHMTALBVVCIT-VCIWKGPPSA-N\n",
      "No parent smiles for molecule YTZALCGQUPRCGW-MXVXOLGGSA-N\n",
      "No parent smiles for molecule CXYRUNPLKGGUJF-RAFJPFSSSA-M\n",
      "No parent smiles for molecule FVEFRICMTUKAML-UHFFFAOYSA-M\n",
      "No parent smiles for molecule REEUVFCVXKWOFE-UHFFFAOYSA-K\n",
      "No parent smiles for molecule GECBBEABIDMGGL-RTBURBONSA-N\n"
     ]
    },
    {
     "name": "stderr",
     "output_type": "stream",
     "text": [
      "  7%|▋         | 61/887 [03:27<41:03,  2.98s/it]  "
     ]
    },
    {
     "name": "stdout",
     "output_type": "stream",
     "text": [
      "HTTPSConnectionPool(host='www.ebi.ac.uk', port=443): Max retries exceeded with url: /chembl/api/data/molecule/BIDNLKIUORFRQP-FLODCBCLSA-N (Caused by ResponseError('too many 404 error responses',))\n",
      "Molecule BIDNLKIUORFRQP-FLODCBCLSA-N doesn't exist\n"
     ]
    },
    {
     "name": "stderr",
     "output_type": "stream",
     "text": [
      "  7%|▋         | 62/887 [03:40<53:06,  3.86s/it]"
     ]
    },
    {
     "name": "stdout",
     "output_type": "stream",
     "text": [
      "HTTPSConnectionPool(host='www.ebi.ac.uk', port=443): Max retries exceeded with url: /chembl/api/data/molecule/LXZZYRPGZAFOLE-UHFFFAOYSA-L (Caused by ResponseError('too many 404 error responses',))\n",
      "Molecule LXZZYRPGZAFOLE-UHFFFAOYSA-L doesn't exist\n"
     ]
    },
    {
     "name": "stderr",
     "output_type": "stream",
     "text": [
      "  7%|▋         | 63/887 [03:52<1:07:08,  4.89s/it]"
     ]
    },
    {
     "name": "stdout",
     "output_type": "stream",
     "text": [
      "HTTPSConnectionPool(host='www.ebi.ac.uk', port=443): Max retries exceeded with url: /chembl/api/data/molecule/nan (Caused by ResponseError('too many 404 error responses',))\n",
      "Molecule nan doesn't exist\n"
     ]
    },
    {
     "name": "stderr",
     "output_type": "stream",
     "text": [
      "  7%|▋         | 64/887 [04:05<1:22:09,  5.99s/it]"
     ]
    },
    {
     "name": "stdout",
     "output_type": "stream",
     "text": [
      "HTTPSConnectionPool(host='www.ebi.ac.uk', port=443): Max retries exceeded with url: /chembl/api/data/molecule/QSFKGMJOKUZAJM-UHFFFAOYSA-M (Caused by ResponseError('too many 404 error responses',))\n",
      "Molecule QSFKGMJOKUZAJM-UHFFFAOYSA-M doesn't exist\n"
     ]
    },
    {
     "name": "stderr",
     "output_type": "stream",
     "text": [
      "  7%|▋         | 65/887 [04:18<1:37:12,  7.10s/it]"
     ]
    },
    {
     "name": "stdout",
     "output_type": "stream",
     "text": [
      "HTTPSConnectionPool(host='www.ebi.ac.uk', port=443): Max retries exceeded with url: /chembl/api/data/molecule/JYIKNQVWKBUSNH-WVDDFWQHSA-N (Caused by ResponseError('too many 404 error responses',))\n",
      "Molecule JYIKNQVWKBUSNH-WVDDFWQHSA-N doesn't exist\n"
     ]
    },
    {
     "name": "stderr",
     "output_type": "stream",
     "text": [
      "  7%|▋         | 66/887 [04:30<1:52:24,  8.22s/it]"
     ]
    },
    {
     "name": "stdout",
     "output_type": "stream",
     "text": [
      "HTTPSConnectionPool(host='www.ebi.ac.uk', port=443): Max retries exceeded with url: /chembl/api/data/molecule/ZROHGHOFXNOHSO-BNTLRKBRSA-L (Caused by ResponseError('too many 404 error responses',))\n",
      "Molecule ZROHGHOFXNOHSO-BNTLRKBRSA-L doesn't exist\n"
     ]
    },
    {
     "name": "stderr",
     "output_type": "stream",
     "text": [
      "  8%|▊         | 67/887 [04:43<2:05:40,  9.20s/it]"
     ]
    },
    {
     "name": "stdout",
     "output_type": "stream",
     "text": [
      "HTTPSConnectionPool(host='www.ebi.ac.uk', port=443): Max retries exceeded with url: /chembl/api/data/molecule/BJFGVYCULWBXKF-UHFFFAOYSA-M (Caused by ResponseError('too many 404 error responses',))\n",
      "Molecule BJFGVYCULWBXKF-UHFFFAOYSA-M doesn't exist\n"
     ]
    },
    {
     "name": "stderr",
     "output_type": "stream",
     "text": [
      "  8%|▊         | 68/887 [04:56<2:17:30, 10.07s/it]"
     ]
    },
    {
     "name": "stdout",
     "output_type": "stream",
     "text": [
      "HTTPSConnectionPool(host='www.ebi.ac.uk', port=443): Max retries exceeded with url: /chembl/api/data/molecule/HBEAOBRDTOXWRZ-UHFFFAOYSA-K (Caused by ResponseError('too many 404 error responses',))\n",
      "Molecule HBEAOBRDTOXWRZ-UHFFFAOYSA-K doesn't exist\n",
      "No parent smiles for molecule OGWKCGZFUXNPDA-CFWMRBGOSA-N\n",
      "No parent smiles for molecule KANJSNBRCNMZMV-ABRZTLGGSA-N\n",
      "No parent smiles for molecule LEHFPXVYPMWYQD-XHIJKXOTSA-N\n"
     ]
    },
    {
     "name": "stderr",
     "output_type": "stream",
     "text": [
      "  8%|▊         | 72/887 [05:09<1:23:13,  6.13s/it]"
     ]
    },
    {
     "name": "stdout",
     "output_type": "stream",
     "text": [
      "HTTPSConnectionPool(host='www.ebi.ac.uk', port=443): Max retries exceeded with url: /chembl/api/data/molecule/DPNNNPAKRZOSMO-UHFFFAOYSA-K (Caused by ResponseError('too many 404 error responses',))\n",
      "Molecule DPNNNPAKRZOSMO-UHFFFAOYSA-K doesn't exist\n"
     ]
    },
    {
     "name": "stderr",
     "output_type": "stream",
     "text": [
      "  8%|▊         | 73/887 [05:22<1:38:09,  7.23s/it]"
     ]
    },
    {
     "name": "stdout",
     "output_type": "stream",
     "text": [
      "HTTPSConnectionPool(host='www.ebi.ac.uk', port=443): Max retries exceeded with url: /chembl/api/data/molecule/SPBDXSGPUHCETR-CVSKBELMSA-N (Caused by ResponseError('too many 404 error responses',))\n",
      "Molecule SPBDXSGPUHCETR-CVSKBELMSA-N doesn't exist\n",
      "No parent smiles for molecule DCSUBABJRXZOMT-IRLDBZIGSA-N\n",
      "No parent smiles for molecule CLKOFPXJLQSYAH-ABRJDSQDSA-N\n"
     ]
    },
    {
     "name": "stderr",
     "output_type": "stream",
     "text": [
      "  9%|▊         | 76/887 [05:34<1:20:27,  5.95s/it]"
     ]
    },
    {
     "name": "stdout",
     "output_type": "stream",
     "text": [
      "HTTPSConnectionPool(host='www.ebi.ac.uk', port=443): Max retries exceeded with url: /chembl/api/data/molecule/JYJIGFIDKWBXDU-MNNPPOADSA-N (Caused by ResponseError('too many 404 error responses',))\n",
      "Molecule JYJIGFIDKWBXDU-MNNPPOADSA-N doesn't exist\n",
      "No parent smiles for molecule XLXSAKCOAKORKW-UHFFFAOYSA-N\n"
     ]
    },
    {
     "name": "stderr",
     "output_type": "stream",
     "text": [
      "  9%|▉         | 78/887 [05:47<1:21:39,  6.06s/it]"
     ]
    },
    {
     "name": "stdout",
     "output_type": "stream",
     "text": [
      "HTTPSConnectionPool(host='www.ebi.ac.uk', port=443): Max retries exceeded with url: /chembl/api/data/molecule/VQOXZBDYSJBXMA-RKEBNKJGSA-N (Caused by ResponseError('too many 404 error responses',))\n",
      "Molecule VQOXZBDYSJBXMA-RKEBNKJGSA-N doesn't exist\n",
      "No parent smiles for molecule VOKSWYLNZZRQPF-GDIGMMSISA-N\n",
      "No parent smiles for molecule CSNNHWWHGAXBCP-UHFFFAOYSA-L\n",
      "No parent smiles for molecule WXURHACBFYSXBI-GQKYHHCASA-N\n"
     ]
    },
    {
     "name": "stderr",
     "output_type": "stream",
     "text": [
      "  9%|▉         | 82/887 [06:00<1:04:10,  4.78s/it]"
     ]
    },
    {
     "name": "stdout",
     "output_type": "stream",
     "text": [
      "HTTPSConnectionPool(host='www.ebi.ac.uk', port=443): Max retries exceeded with url: /chembl/api/data/molecule/RWHUEXWOYVBUCI-ITQXDASVSA-N (Caused by ResponseError('too many 404 error responses',))\n",
      "Molecule RWHUEXWOYVBUCI-ITQXDASVSA-N doesn't exist\n",
      "No parent smiles for molecule FCCNSUIJIOOXEZ-SJYYZXOBSA-N\n",
      "No parent smiles for molecule AAXVEMMRQDVLJB-BULBTXNYSA-N\n",
      "No parent smiles for molecule GNBHRKFJIUUOQI-UHFFFAOYSA-N\n"
     ]
    },
    {
     "name": "stderr",
     "output_type": "stream",
     "text": [
      " 10%|▉         | 86/887 [06:13<55:38,  4.17s/it]  "
     ]
    },
    {
     "name": "stdout",
     "output_type": "stream",
     "text": [
      "HTTPSConnectionPool(host='www.ebi.ac.uk', port=443): Max retries exceeded with url: /chembl/api/data/molecule/nan (Caused by ResponseError('too many 404 error responses',))\n",
      "Molecule nan doesn't exist\n"
     ]
    },
    {
     "name": "stderr",
     "output_type": "stream",
     "text": [
      " 10%|▉         | 87/887 [06:25<1:09:37,  5.22s/it]"
     ]
    },
    {
     "name": "stdout",
     "output_type": "stream",
     "text": [
      "HTTPSConnectionPool(host='www.ebi.ac.uk', port=443): Max retries exceeded with url: /chembl/api/data/molecule/nan (Caused by ResponseError('too many 404 error responses',))\n",
      "Molecule nan doesn't exist\n",
      "No parent smiles for molecule ACSIXWWBWUQEHA-UHFFFAOYSA-N\n"
     ]
    },
    {
     "name": "stderr",
     "output_type": "stream",
     "text": [
      " 10%|█         | 89/887 [06:38<1:13:44,  5.54s/it]"
     ]
    },
    {
     "name": "stdout",
     "output_type": "stream",
     "text": [
      "HTTPSConnectionPool(host='www.ebi.ac.uk', port=443): Max retries exceeded with url: /chembl/api/data/molecule/FUFVKLQESJNNAN-UHFFFAOYSA-M (Caused by ResponseError('too many 404 error responses',))\n",
      "Molecule FUFVKLQESJNNAN-UHFFFAOYSA-M doesn't exist\n",
      "No parent smiles for molecule XXZSQOVSEBAPGS-UHFFFAOYSA-L\n"
     ]
    },
    {
     "name": "stderr",
     "output_type": "stream",
     "text": [
      " 10%|█         | 91/887 [06:51<1:16:35,  5.77s/it]"
     ]
    },
    {
     "name": "stdout",
     "output_type": "stream",
     "text": [
      "HTTPSConnectionPool(host='www.ebi.ac.uk', port=443): Max retries exceeded with url: /chembl/api/data/molecule/MXZROTBGJUUXID-UHFFFAOYSA-K (Caused by ResponseError('too many 404 error responses',))\n",
      "Molecule MXZROTBGJUUXID-UHFFFAOYSA-K doesn't exist\n",
      "No parent smiles for molecule AELCINSCMGFISI-UHFFFAOYSA-N\n",
      "No parent smiles for molecule WCUXLLCKKVVCTQ-UHFFFAOYSA-M\n"
     ]
    },
    {
     "name": "stderr",
     "output_type": "stream",
     "text": [
      " 11%|█         | 94/887 [07:04<1:08:59,  5.22s/it]"
     ]
    },
    {
     "name": "stdout",
     "output_type": "stream",
     "text": [
      "HTTPSConnectionPool(host='www.ebi.ac.uk', port=443): Max retries exceeded with url: /chembl/api/data/molecule/HOOSGZJRQIVJSZ-NNBUQUNQSA-N (Caused by ResponseError('too many 404 error responses',))\n",
      "Molecule HOOSGZJRQIVJSZ-NNBUQUNQSA-N doesn't exist\n"
     ]
    },
    {
     "name": "stderr",
     "output_type": "stream",
     "text": [
      " 11%|█         | 95/887 [07:17<1:23:53,  6.36s/it]"
     ]
    },
    {
     "name": "stdout",
     "output_type": "stream",
     "text": [
      "HTTPSConnectionPool(host='www.ebi.ac.uk', port=443): Max retries exceeded with url: /chembl/api/data/molecule/nan (Caused by ResponseError('too many 404 error responses',))\n",
      "Molecule nan doesn't exist\n"
     ]
    },
    {
     "name": "stderr",
     "output_type": "stream",
     "text": [
      " 11%|█         | 96/887 [07:29<1:38:34,  7.48s/it]"
     ]
    },
    {
     "name": "stdout",
     "output_type": "stream",
     "text": [
      "HTTPSConnectionPool(host='www.ebi.ac.uk', port=443): Max retries exceeded with url: /chembl/api/data/molecule/IZOOGPBRAOKZFK-UHFFFAOYSA-K (Caused by ResponseError('too many 404 error responses',))\n",
      "Molecule IZOOGPBRAOKZFK-UHFFFAOYSA-K doesn't exist\n",
      "No parent smiles for molecule CEAZRRDELHUEMR-UHFFFAOYSA-N\n"
     ]
    },
    {
     "name": "stderr",
     "output_type": "stream",
     "text": [
      " 11%|█         | 98/887 [07:43<1:36:05,  7.31s/it]"
     ]
    },
    {
     "name": "stdout",
     "output_type": "stream",
     "text": [
      "HTTPSConnectionPool(host='www.ebi.ac.uk', port=443): Max retries exceeded with url: /chembl/api/data/molecule/YKQOSKADJPQZHB-BRLOSWAASA-N (Caused by ResponseError('too many 404 error responses',))\n",
      "Molecule YKQOSKADJPQZHB-BRLOSWAASA-N doesn't exist\n",
      "No parent smiles for molecule SIQPXVQCUCHWDI-UHFFFAOYSA-N\n",
      "No parent smiles for molecule NOOLISFMXDJSKH-KXUCPTDWSA-N\n"
     ]
    },
    {
     "name": "stderr",
     "output_type": "stream",
     "text": [
      " 11%|█▏        | 101/887 [07:56<1:19:14,  6.05s/it]"
     ]
    },
    {
     "name": "stdout",
     "output_type": "stream",
     "text": [
      "HTTPSConnectionPool(host='www.ebi.ac.uk', port=443): Max retries exceeded with url: /chembl/api/data/molecule/YMTMADLUXIRMGX-RFPWEZLHSA-N (Caused by ResponseError('too many 404 error responses',))\n",
      "Molecule YMTMADLUXIRMGX-RFPWEZLHSA-N doesn't exist\n"
     ]
    },
    {
     "name": "stderr",
     "output_type": "stream",
     "text": [
      " 11%|█▏        | 102/887 [08:09<1:33:21,  7.14s/it]"
     ]
    },
    {
     "name": "stdout",
     "output_type": "stream",
     "text": [
      "HTTPSConnectionPool(host='www.ebi.ac.uk', port=443): Max retries exceeded with url: /chembl/api/data/molecule/nan (Caused by ResponseError('too many 404 error responses',))\n",
      "Molecule nan doesn't exist\n",
      "No parent smiles for molecule MXOAEAUPQDYUQM-UHFFFAOYSA-N\n",
      "No parent smiles for molecule IOVGROKTTNBUGK-SJCJKPOMSA-N\n",
      "No parent smiles for molecule NJMYODHXAKYRHW-DVZOWYKESA-N\n",
      "No parent smiles for molecule MFWNKCLOYSRHCJ-BTTYYORXSA-N\n"
     ]
    },
    {
     "name": "stderr",
     "output_type": "stream",
     "text": [
      " 12%|█▏        | 107/887 [08:22<1:00:55,  4.69s/it]"
     ]
    },
    {
     "name": "stdout",
     "output_type": "stream",
     "text": [
      "HTTPSConnectionPool(host='www.ebi.ac.uk', port=443): Max retries exceeded with url: /chembl/api/data/molecule/nan (Caused by ResponseError('too many 404 error responses',))\n",
      "Molecule nan doesn't exist\n"
     ]
    },
    {
     "name": "stderr",
     "output_type": "stream",
     "text": [
      " 12%|█▏        | 108/887 [08:35<1:15:23,  5.81s/it]"
     ]
    },
    {
     "name": "stdout",
     "output_type": "stream",
     "text": [
      "HTTPSConnectionPool(host='www.ebi.ac.uk', port=443): Max retries exceeded with url: /chembl/api/data/molecule/IMPVZRLKKKXMKQ-SGDOCVTFSA-N (Caused by ResponseError('too many 404 error responses',))\n",
      "Molecule IMPVZRLKKKXMKQ-SGDOCVTFSA-N doesn't exist\n",
      "No parent smiles for molecule RMRJXGBAOAMLHD-IHFGGWKQSA-N\n",
      "No parent smiles for molecule WHXMKTBCFHIYNQ-SECBINFHSA-N\n"
     ]
    },
    {
     "name": "stderr",
     "output_type": "stream",
     "text": [
      " 13%|█▎        | 111/887 [08:48<1:08:29,  5.30s/it]"
     ]
    },
    {
     "name": "stdout",
     "output_type": "stream",
     "text": [
      "HTTPSConnectionPool(host='www.ebi.ac.uk', port=443): Max retries exceeded with url: /chembl/api/data/molecule/nan (Caused by ResponseError('too many 404 error responses',))\n",
      "Molecule nan doesn't exist\n"
     ]
    },
    {
     "name": "stderr",
     "output_type": "stream",
     "text": [
      " 13%|█▎        | 112/887 [09:01<1:22:44,  6.41s/it]"
     ]
    },
    {
     "name": "stdout",
     "output_type": "stream",
     "text": [
      "HTTPSConnectionPool(host='www.ebi.ac.uk', port=443): Max retries exceeded with url: /chembl/api/data/molecule/OLESAACUTLOWQZ-UHFFFAOYSA-L (Caused by ResponseError('too many 404 error responses',))\n",
      "Molecule OLESAACUTLOWQZ-UHFFFAOYSA-L doesn't exist\n"
     ]
    },
    {
     "name": "stderr",
     "output_type": "stream",
     "text": [
      " 13%|█▎        | 113/887 [09:14<1:36:42,  7.50s/it]"
     ]
    },
    {
     "name": "stdout",
     "output_type": "stream",
     "text": [
      "HTTPSConnectionPool(host='www.ebi.ac.uk', port=443): Max retries exceeded with url: /chembl/api/data/molecule/nan (Caused by ResponseError('too many 404 error responses',))\n",
      "Molecule nan doesn't exist\n",
      "No parent smiles for molecule RJURFGZVJUQBHK-IIXSONLDSA-N\n",
      "No parent smiles for molecule JNMWHTHYDQTDQZ-UHFFFAOYSA-N\n",
      "No parent smiles for molecule KCXVZYZYPLLWCC-UHFFFAOYSA-N\n"
     ]
    },
    {
     "name": "stderr",
     "output_type": "stream",
     "text": [
      " 13%|█▎        | 117/887 [09:27<1:08:53,  5.37s/it]"
     ]
    },
    {
     "name": "stdout",
     "output_type": "stream",
     "text": [
      "HTTPSConnectionPool(host='www.ebi.ac.uk', port=443): Max retries exceeded with url: /chembl/api/data/molecule/nan (Caused by ResponseError('too many 404 error responses',))\n",
      "Molecule nan doesn't exist\n"
     ]
    },
    {
     "name": "stderr",
     "output_type": "stream",
     "text": [
      " 13%|█▎        | 118/887 [09:39<1:22:56,  6.47s/it]"
     ]
    },
    {
     "name": "stdout",
     "output_type": "stream",
     "text": [
      "HTTPSConnectionPool(host='www.ebi.ac.uk', port=443): Max retries exceeded with url: /chembl/api/data/molecule/AUJRCFUBUPVWSZ-XTZHGVARSA-M (Caused by ResponseError('too many 404 error responses',))\n",
      "Molecule AUJRCFUBUPVWSZ-XTZHGVARSA-M doesn't exist\n"
     ]
    },
    {
     "name": "stderr",
     "output_type": "stream",
     "text": [
      " 13%|█▎        | 119/887 [09:52<1:37:08,  7.59s/it]"
     ]
    },
    {
     "name": "stdout",
     "output_type": "stream",
     "text": [
      "HTTPSConnectionPool(host='www.ebi.ac.uk', port=443): Max retries exceeded with url: /chembl/api/data/molecule/nan (Caused by ResponseError('too many 404 error responses',))\n",
      "Molecule nan doesn't exist\n",
      "No parent smiles for molecule KMIPKYQIOVAHOP-YLGJWRNMSA-N\n",
      "No parent smiles for molecule HBUBKKRHXORPQB-FJFJXFQQSA-N\n",
      "No parent smiles for molecule FJLGEFLZQAZZCD-JUFISIKESA-N\n"
     ]
    },
    {
     "name": "stderr",
     "output_type": "stream",
     "text": [
      " 14%|█▍        | 123/887 [10:05<1:09:15,  5.44s/it]"
     ]
    },
    {
     "name": "stdout",
     "output_type": "stream",
     "text": [
      "HTTPSConnectionPool(host='www.ebi.ac.uk', port=443): Max retries exceeded with url: /chembl/api/data/molecule/nan (Caused by ResponseError('too many 404 error responses',))\n",
      "Molecule nan doesn't exist\n"
     ]
    },
    {
     "name": "stderr",
     "output_type": "stream",
     "text": [
      " 14%|█▍        | 124/887 [10:20<1:27:53,  6.91s/it]"
     ]
    },
    {
     "name": "stdout",
     "output_type": "stream",
     "text": [
      "HTTPSConnectionPool(host='www.ebi.ac.uk', port=443): Max retries exceeded with url: /chembl/api/data/molecule/BSSIRFLGSWHWDE-UHFFFAOYSA-I (Caused by ResponseError('too many 404 error responses',))\n",
      "Molecule BSSIRFLGSWHWDE-UHFFFAOYSA-I doesn't exist\n"
     ]
    },
    {
     "name": "stderr",
     "output_type": "stream",
     "text": [
      " 14%|█▍        | 125/887 [10:33<1:41:10,  7.97s/it]"
     ]
    },
    {
     "name": "stdout",
     "output_type": "stream",
     "text": [
      "HTTPSConnectionPool(host='www.ebi.ac.uk', port=443): Max retries exceeded with url: /chembl/api/data/molecule/BOVGTQGAOIONJV-BETUJISGSA-N (Caused by ResponseError('too many 404 error responses',))\n",
      "Molecule BOVGTQGAOIONJV-BETUJISGSA-N doesn't exist\n",
      "No parent smiles for molecule WDLWHQDACQUCJR-ZAMMOSSLSA-N\n",
      "No parent smiles for molecule IYGXEHDCSOYNKY-RZHHZEQLSA-N\n",
      "No parent smiles for molecule UXVMQQNJUSDDNG-UHFFFAOYSA-L\n",
      "No parent smiles for molecule VHVPQPYKVGDNFY-ZPGVKDDISA-N\n",
      "No parent smiles for molecule IKWTVSLWAPBBKU-UHFFFAOYSA-N\n"
     ]
    },
    {
     "name": "stderr",
     "output_type": "stream",
     "text": [
      " 15%|█▍        | 131/887 [10:46<55:56,  4.44s/it]  "
     ]
    },
    {
     "name": "stdout",
     "output_type": "stream",
     "text": [
      "HTTPSConnectionPool(host='www.ebi.ac.uk', port=443): Max retries exceeded with url: /chembl/api/data/molecule/IWRUDYQZPTVTPA-UHFFFAOYSA-N (Caused by ResponseError('too many 404 error responses',))\n",
      "Molecule IWRUDYQZPTVTPA-UHFFFAOYSA-N doesn't exist\n",
      "No parent smiles for molecule FRPJXPJMRWBBIH-RBRWEJTLSA-N\n",
      "No parent smiles for molecule FQPFAHBPWDRTLU-UHFFFAOYSA-N\n"
     ]
    },
    {
     "name": "stderr",
     "output_type": "stream",
     "text": [
      " 15%|█▌        | 134/887 [10:59<54:56,  4.38s/it]"
     ]
    },
    {
     "name": "stdout",
     "output_type": "stream",
     "text": [
      "HTTPSConnectionPool(host='www.ebi.ac.uk', port=443): Max retries exceeded with url: /chembl/api/data/molecule/nan (Caused by ResponseError('too many 404 error responses',))\n",
      "Molecule nan doesn't exist\n",
      "No parent smiles for molecule NBQNWMBBSKPBAY-UHFFFAOYSA-N\n"
     ]
    },
    {
     "name": "stderr",
     "output_type": "stream",
     "text": [
      " 15%|█▌        | 136/887 [11:12<1:01:29,  4.91s/it]"
     ]
    },
    {
     "name": "stdout",
     "output_type": "stream",
     "text": [
      "HTTPSConnectionPool(host='www.ebi.ac.uk', port=443): Max retries exceeded with url: /chembl/api/data/molecule/nan (Caused by ResponseError('too many 404 error responses',))\n",
      "Molecule nan doesn't exist\n",
      "No parent smiles for molecule TZIRZGBAFTZREM-MKAGXXMWSA-N\n",
      "No parent smiles for molecule NSTRIRCPWQHTIA-DTRKZRJBSA-N\n",
      "No parent smiles for molecule ZOEFCCMDUURGSE-SQKVDDBVSA-N\n"
     ]
    },
    {
     "name": "stderr",
     "output_type": "stream",
     "text": [
      " 16%|█▌        | 140/887 [11:26<53:42,  4.31s/it]  "
     ]
    },
    {
     "name": "stdout",
     "output_type": "stream",
     "text": [
      "HTTPSConnectionPool(host='www.ebi.ac.uk', port=443): Max retries exceeded with url: /chembl/api/data/molecule/ZREIPSZUJIFJNP-UHFFFAOYSA-K (Caused by ResponseError('too many 404 error responses',))\n",
      "Molecule ZREIPSZUJIFJNP-UHFFFAOYSA-K doesn't exist\n",
      "No parent smiles for molecule HMEYVGGHISAPJR-IAHYZSEUSA-N\n",
      "No parent smiles for molecule RLANKEDHRWMNRO-UHFFFAOYSA-M\n"
     ]
    },
    {
     "name": "stderr",
     "output_type": "stream",
     "text": [
      " 16%|█▌        | 143/887 [11:40<54:39,  4.41s/it]"
     ]
    },
    {
     "name": "stdout",
     "output_type": "stream",
     "text": [
      "HTTPSConnectionPool(host='www.ebi.ac.uk', port=443): Max retries exceeded with url: /chembl/api/data/molecule/OMNGEVNATYFZGG-BQYQJAHWSA-N (Caused by ResponseError('too many 404 error responses',))\n",
      "Molecule OMNGEVNATYFZGG-BQYQJAHWSA-N doesn't exist\n"
     ]
    },
    {
     "name": "stderr",
     "output_type": "stream",
     "text": [
      " 16%|█▌        | 144/887 [11:53<1:07:45,  5.47s/it]"
     ]
    },
    {
     "name": "stdout",
     "output_type": "stream",
     "text": [
      "HTTPSConnectionPool(host='www.ebi.ac.uk', port=443): Max retries exceeded with url: /chembl/api/data/molecule/nan (Caused by ResponseError('too many 404 error responses',))\n",
      "Molecule nan doesn't exist\n"
     ]
    },
    {
     "name": "stderr",
     "output_type": "stream",
     "text": [
      " 16%|█▋        | 145/887 [12:05<1:20:54,  6.54s/it]"
     ]
    },
    {
     "name": "stdout",
     "output_type": "stream",
     "text": [
      "HTTPSConnectionPool(host='www.ebi.ac.uk', port=443): Max retries exceeded with url: /chembl/api/data/molecule/nan (Caused by ResponseError('too many 404 error responses',))\n",
      "Molecule nan doesn't exist\n"
     ]
    },
    {
     "name": "stderr",
     "output_type": "stream",
     "text": [
      " 16%|█▋        | 146/887 [12:18<1:34:06,  7.62s/it]"
     ]
    },
    {
     "name": "stdout",
     "output_type": "stream",
     "text": [
      "HTTPSConnectionPool(host='www.ebi.ac.uk', port=443): Max retries exceeded with url: /chembl/api/data/molecule/NPYPAHLBTDXSSS-UHFFFAOYSA-N (Caused by ResponseError('too many 404 error responses',))\n",
      "Molecule NPYPAHLBTDXSSS-UHFFFAOYSA-N doesn't exist\n"
     ]
    },
    {
     "name": "stderr",
     "output_type": "stream",
     "text": [
      " 17%|█▋        | 147/887 [12:47<2:26:26, 11.87s/it]"
     ]
    },
    {
     "name": "stdout",
     "output_type": "stream",
     "text": [
      "HTTPSConnectionPool(host='www.ebi.ac.uk', port=443): Max retries exceeded with url: /chembl/api/data/molecule/YHRUERMOPBDCFD-UHFFFAOYSA-N (Caused by ResponseError('too many 404 error responses',))\n",
      "Molecule YHRUERMOPBDCFD-UHFFFAOYSA-N doesn't exist\n",
      "No parent smiles for molecule FKNXQNWAXFXVNW-BLLLJJGKSA-N\n"
     ]
    },
    {
     "name": "stderr",
     "output_type": "stream",
     "text": [
      " 17%|█▋        | 149/887 [13:13<2:31:07, 12.29s/it]"
     ]
    },
    {
     "name": "stdout",
     "output_type": "stream",
     "text": [
      "HTTPSConnectionPool(host='www.ebi.ac.uk', port=443): Max retries exceeded with url: /chembl/api/data/molecule/XAGFODPZIPBFFR-UHFFFAOYSA-N (Caused by ResponseError('too many 404 error responses',))\n",
      "Molecule XAGFODPZIPBFFR-UHFFFAOYSA-N doesn't exist\n"
     ]
    },
    {
     "name": "stderr",
     "output_type": "stream",
     "text": [
      " 17%|█▋        | 150/887 [13:28<2:37:01, 12.78s/it]"
     ]
    },
    {
     "name": "stdout",
     "output_type": "stream",
     "text": [
      "HTTPSConnectionPool(host='www.ebi.ac.uk', port=443): Max retries exceeded with url: /chembl/api/data/molecule/AXZKOIWUVFPNLO-UHFFFAOYSA-N (Caused by ResponseError('too many 404 error responses',))\n",
      "Molecule AXZKOIWUVFPNLO-UHFFFAOYSA-N doesn't exist\n"
     ]
    },
    {
     "name": "stderr",
     "output_type": "stream",
     "text": [
      " 17%|█▋        | 151/887 [13:40<2:36:48, 12.78s/it]"
     ]
    },
    {
     "name": "stdout",
     "output_type": "stream",
     "text": [
      "HTTPSConnectionPool(host='www.ebi.ac.uk', port=443): Max retries exceeded with url: /chembl/api/data/molecule/JLVVSXFLKOJNIY-UHFFFAOYSA-N (Caused by ResponseError('too many 404 error responses',))\n",
      "Molecule JLVVSXFLKOJNIY-UHFFFAOYSA-N doesn't exist\n",
      "No parent smiles for molecule IAKHMKGGTNLKSZ-UHFFFAOYSA-N\n"
     ]
    },
    {
     "name": "stderr",
     "output_type": "stream",
     "text": [
      " 17%|█▋        | 153/887 [13:53<2:05:19, 10.24s/it]"
     ]
    },
    {
     "name": "stdout",
     "output_type": "stream",
     "text": [
      "HTTPSConnectionPool(host='www.ebi.ac.uk', port=443): Max retries exceeded with url: /chembl/api/data/molecule/FQCQGOZEWWPOKI-UHFFFAOYSA-K (Caused by ResponseError('too many 404 error responses',))\n",
      "Molecule FQCQGOZEWWPOKI-UHFFFAOYSA-K doesn't exist\n"
     ]
    },
    {
     "name": "stderr",
     "output_type": "stream",
     "text": [
      " 17%|█▋        | 154/887 [14:06<2:11:54, 10.80s/it]"
     ]
    },
    {
     "name": "stdout",
     "output_type": "stream",
     "text": [
      "HTTPSConnectionPool(host='www.ebi.ac.uk', port=443): Max retries exceeded with url: /chembl/api/data/molecule/nan (Caused by ResponseError('too many 404 error responses',))\n",
      "Molecule nan doesn't exist\n",
      "No parent smiles for molecule CJDRUOGAGYHKKD-HEFSZTOGSA-N\n"
     ]
    },
    {
     "name": "stderr",
     "output_type": "stream",
     "text": [
      " 18%|█▊        | 156/887 [14:19<1:50:55,  9.10s/it]"
     ]
    },
    {
     "name": "stdout",
     "output_type": "stream",
     "text": [
      "HTTPSConnectionPool(host='www.ebi.ac.uk', port=443): Max retries exceeded with url: /chembl/api/data/molecule/nan (Caused by ResponseError('too many 404 error responses',))\n",
      "Molecule nan doesn't exist\n",
      "No parent smiles for molecule ATKXDQOHNICLQW-UHFFFAOYSA-N\n"
     ]
    },
    {
     "name": "stderr",
     "output_type": "stream",
     "text": [
      " 18%|█▊        | 158/887 [14:31<1:38:55,  8.14s/it]"
     ]
    },
    {
     "name": "stdout",
     "output_type": "stream",
     "text": [
      "HTTPSConnectionPool(host='www.ebi.ac.uk', port=443): Max retries exceeded with url: /chembl/api/data/molecule/IXWIAFSBWGYQOE-UHFFFAOYSA-M (Caused by ResponseError('too many 404 error responses',))\n",
      "Molecule IXWIAFSBWGYQOE-UHFFFAOYSA-M doesn't exist\n"
     ]
    },
    {
     "name": "stderr",
     "output_type": "stream",
     "text": [
      " 18%|█▊        | 159/887 [14:45<1:51:33,  9.19s/it]"
     ]
    },
    {
     "name": "stdout",
     "output_type": "stream",
     "text": [
      "HTTPSConnectionPool(host='www.ebi.ac.uk', port=443): Max retries exceeded with url: /chembl/api/data/molecule/KGOIAFZMMLWXLM-UHFFFAOYSA-N (Caused by ResponseError('too many 404 error responses',))\n",
      "Molecule KGOIAFZMMLWXLM-UHFFFAOYSA-N doesn't exist\n"
     ]
    },
    {
     "name": "stderr",
     "output_type": "stream",
     "text": [
      " 18%|█▊        | 160/887 [14:57<2:00:37,  9.96s/it]"
     ]
    },
    {
     "name": "stdout",
     "output_type": "stream",
     "text": [
      "HTTPSConnectionPool(host='www.ebi.ac.uk', port=443): Max retries exceeded with url: /chembl/api/data/molecule/LKYWLLWWYBVUPP-XOCLESOZSA-L (Caused by ResponseError('too many 404 error responses',))\n",
      "Molecule LKYWLLWWYBVUPP-XOCLESOZSA-L doesn't exist\n"
     ]
    },
    {
     "name": "stderr",
     "output_type": "stream",
     "text": [
      " 18%|█▊        | 161/887 [15:10<2:08:50, 10.65s/it]"
     ]
    },
    {
     "name": "stdout",
     "output_type": "stream",
     "text": [
      "HTTPSConnectionPool(host='www.ebi.ac.uk', port=443): Max retries exceeded with url: /chembl/api/data/molecule/XEEYBQQBJWHFJM-UHFFFAOYSA-N (Caused by ResponseError('too many 404 error responses',))\n",
      "Molecule XEEYBQQBJWHFJM-UHFFFAOYSA-N doesn't exist\n",
      "No parent smiles for molecule HCHKCACWOHOZIP-UHFFFAOYSA-N\n",
      "No parent smiles for molecule CSDTZUBPSYWZDX-UHFFFAOYSA-N\n",
      "No parent smiles for molecule SNFOERUNNSHUGP-ZXZARUISSA-N\n",
      "No parent smiles for molecule JOMHSQGEWSNUKU-UHFFFAOYSA-N\n",
      "No parent smiles for molecule WFPIAZLQTJBIFN-DVZOWYKESA-N\n"
     ]
    },
    {
     "name": "stderr",
     "output_type": "stream",
     "text": [
      " 19%|█▉        | 168/887 [15:23<52:33,  4.39s/it]  "
     ]
    },
    {
     "name": "stdout",
     "output_type": "stream",
     "text": [
      "HTTPSConnectionPool(host='www.ebi.ac.uk', port=443): Max retries exceeded with url: /chembl/api/data/molecule/PQGCEDQWHSBAJP-TXICZTDVSA-N (Caused by ResponseError('too many 404 error responses',))\n",
      "Molecule PQGCEDQWHSBAJP-TXICZTDVSA-N doesn't exist\n",
      "No parent smiles for molecule IKGXIBQEEMLURG-NVPNHPEKSA-N\n",
      "No parent smiles for molecule RLGQACBPNDBWTB-UHFFFAOYSA-N\n",
      "No parent smiles for molecule DNIAPMSPPWPWGF-UHFFFAOYSA-N\n",
      "No parent smiles for molecule GZCGUPFRVQAUEE-SLPGGIOYSA-N\n",
      "No parent smiles for molecule AYEKOFBPNLCAJY-UHFFFAOYSA-N\n",
      "No parent smiles for molecule BTCSSZJGUNDROE-UHFFFAOYSA-N\n",
      "No parent smiles for molecule BENFXAYNYRLAIU-QSVFAHTRSA-N\n",
      "No parent smiles for molecule ORNBQBCIOKFOEO-QGVNFLHTSA-N\n",
      "No parent smiles for molecule FFEARJCKVFRZRR-SCSAIBSYSA-N\n",
      "No parent smiles for molecule POULHZVOKOAJMA-UHFFFAOYSA-N\n",
      "No parent smiles for molecule AEMRFAOFKBGASW-UHFFFAOYSA-N\n",
      "No parent smiles for molecule ODHCTXKNWHHXJC-VKHMYHEASA-N\n",
      "No parent smiles for molecule VWWQXMAJTJZDQX-UYBVJOGSSA-N\n",
      "No parent smiles for molecule BDERNNFJNOPAEC-UHFFFAOYSA-N\n",
      "No parent smiles for molecule QIQXTHQIDYTFRH-UHFFFAOYSA-N\n",
      "No parent smiles for molecule RYYCJUAHISIHTL-UHFFFAOYSA-N\n",
      "No parent smiles for molecule ODZBBRURCPAEIQ-PIXDULNESA-N\n"
     ]
    },
    {
     "name": "stderr",
     "output_type": "stream",
     "text": [
      " 21%|██        | 186/887 [15:35<20:09,  1.73s/it]"
     ]
    },
    {
     "name": "stdout",
     "output_type": "stream",
     "text": [
      "HTTPSConnectionPool(host='www.ebi.ac.uk', port=443): Max retries exceeded with url: /chembl/api/data/molecule/JEWJRMKHSMTXPP-WZHZPDAFSA-L (Caused by ResponseError('too many 404 error responses',))\n",
      "Molecule JEWJRMKHSMTXPP-WZHZPDAFSA-L doesn't exist\n",
      "No parent smiles for molecule NSKGQURZWSPSBC-VVPCINPTSA-N\n",
      "No parent smiles for molecule MBMBGCFOFBJSGT-KUBAVDMBSA-N\n",
      "No parent smiles for molecule XBDQKXXYIPTUBI-UHFFFAOYSA-N\n",
      "No parent smiles for molecule IPCSVZSSVZVIGE-UHFFFAOYSA-N\n",
      "No parent smiles for molecule MTCFGRXMJLQNBG-UWTATZPHSA-N\n",
      "No parent smiles for molecule DNVPQKQSNYMLRS-APGDWVJJSA-N\n",
      "No parent smiles for molecule YBHILYKTIRIUTE-UHFFFAOYSA-N\n",
      "No parent smiles for molecule XPPKVPWEQAFLFU-UHFFFAOYSA-N\n"
     ]
    },
    {
     "name": "stderr",
     "output_type": "stream",
     "text": [
      " 22%|██▏       | 195/887 [15:48<18:38,  1.62s/it]"
     ]
    },
    {
     "name": "stdout",
     "output_type": "stream",
     "text": [
      "HTTPSConnectionPool(host='www.ebi.ac.uk', port=443): Max retries exceeded with url: /chembl/api/data/molecule/RFSUNEUAIZKAJO-AZGQCCRYSA-N (Caused by ResponseError('too many 404 error responses',))\n",
      "Molecule RFSUNEUAIZKAJO-AZGQCCRYSA-N doesn't exist\n",
      "No parent smiles for molecule JGFDZZLUDWMUQH-UHFFFAOYSA-N\n",
      "No parent smiles for molecule ZQPPMHVWECSIRJ-MDZDMXLPSA-N\n",
      "No parent smiles for molecule WBWWGRHZICKQGZ-HZAMXZRMSA-N\n"
     ]
    },
    {
     "name": "stderr",
     "output_type": "stream",
     "text": [
      " 22%|██▏       | 199/887 [16:01<21:39,  1.89s/it]"
     ]
    },
    {
     "name": "stdout",
     "output_type": "stream",
     "text": [
      "HTTPSConnectionPool(host='www.ebi.ac.uk', port=443): Max retries exceeded with url: /chembl/api/data/molecule/GUBGYTABKSRVRQ-QKKXKWKRSA-N (Caused by ResponseError('too many 404 error responses',))\n",
      "Molecule GUBGYTABKSRVRQ-QKKXKWKRSA-N doesn't exist\n",
      "No parent smiles for molecule GYSSRZJIHXQEHQ-UHFFFAOYSA-N\n",
      "No parent smiles for molecule QUQPHWDTPGMPEX-QJBIFVCTSA-N\n",
      "No parent smiles for molecule IQADUMSPOQKAAO-UHFFFAOYSA-N\n",
      "No parent smiles for molecule ZRJBHWIHUMBLCN-YQEJDHNASA-N\n"
     ]
    },
    {
     "name": "stderr",
     "output_type": "stream",
     "text": [
      " 23%|██▎       | 204/887 [16:13<23:19,  2.05s/it]"
     ]
    },
    {
     "name": "stdout",
     "output_type": "stream",
     "text": [
      "HTTPSConnectionPool(host='www.ebi.ac.uk', port=443): Max retries exceeded with url: /chembl/api/data/molecule/YWGDOWXRIALTES-UHFFFAOYSA-N (Caused by ResponseError('too many 404 error responses',))\n",
      "Molecule YWGDOWXRIALTES-UHFFFAOYSA-N doesn't exist\n",
      "No parent smiles for molecule VHFGEBVPHAGQPI-LXKZPTCJSA-N\n",
      "No parent smiles for molecule VOAZJEPQLGBXGO-SDAWRPRTSA-N\n",
      "No parent smiles for molecule UAHFGYDRQSXQEB-LEBBXHLNSA-N\n"
     ]
    },
    {
     "name": "stderr",
     "output_type": "stream",
     "text": [
      " 23%|██▎       | 208/887 [16:26<25:52,  2.29s/it]"
     ]
    },
    {
     "name": "stdout",
     "output_type": "stream",
     "text": [
      "HTTPSConnectionPool(host='www.ebi.ac.uk', port=443): Max retries exceeded with url: /chembl/api/data/molecule/nan (Caused by ResponseError('too many 404 error responses',))\n",
      "Molecule nan doesn't exist\n"
     ]
    },
    {
     "name": "stderr",
     "output_type": "stream",
     "text": [
      " 24%|██▎       | 209/887 [16:39<34:35,  3.06s/it]"
     ]
    },
    {
     "name": "stdout",
     "output_type": "stream",
     "text": [
      "HTTPSConnectionPool(host='www.ebi.ac.uk', port=443): Max retries exceeded with url: /chembl/api/data/molecule/VDJHFHXMUKFKET-UXMMOKKRSA-N (Caused by ResponseError('too many 404 error responses',))\n",
      "Molecule VDJHFHXMUKFKET-UXMMOKKRSA-N doesn't exist\n",
      "No parent smiles for molecule UEJSSZHHYBHCEL-UHFFFAOYSA-N\n"
     ]
    },
    {
     "name": "stderr",
     "output_type": "stream",
     "text": [
      " 24%|██▍       | 211/887 [16:52<40:49,  3.62s/it]"
     ]
    },
    {
     "name": "stdout",
     "output_type": "stream",
     "text": [
      "HTTPSConnectionPool(host='www.ebi.ac.uk', port=443): Max retries exceeded with url: /chembl/api/data/molecule/CHPZKNULDCNCBW-UHFFFAOYSA-N (Caused by ResponseError('too many 404 error responses',))\n",
      "Molecule CHPZKNULDCNCBW-UHFFFAOYSA-N doesn't exist\n"
     ]
    },
    {
     "name": "stderr",
     "output_type": "stream",
     "text": [
      " 24%|██▍       | 212/887 [17:05<51:56,  4.62s/it]"
     ]
    },
    {
     "name": "stdout",
     "output_type": "stream",
     "text": [
      "HTTPSConnectionPool(host='www.ebi.ac.uk', port=443): Max retries exceeded with url: /chembl/api/data/molecule/JSTADIGKFYFAIY-GJNDDOAHSA-K (Caused by ResponseError('too many 404 error responses',))\n",
      "Molecule JSTADIGKFYFAIY-GJNDDOAHSA-K doesn't exist\n",
      "No parent smiles for molecule VOWOEBADKMXUBU-UHFFFAOYSA-J\n",
      "No parent smiles for molecule BBAWEDCPNXPBQM-GDEBMMAJSA-N\n"
     ]
    },
    {
     "name": "stderr",
     "output_type": "stream",
     "text": [
      " 24%|██▍       | 215/887 [17:18<50:57,  4.55s/it]"
     ]
    },
    {
     "name": "stdout",
     "output_type": "stream",
     "text": [
      "HTTPSConnectionPool(host='www.ebi.ac.uk', port=443): Max retries exceeded with url: /chembl/api/data/molecule/XLTMQWVJFPYGMC-QVKFEXRMSA-N (Caused by ResponseError('too many 404 error responses',))\n",
      "Molecule XLTMQWVJFPYGMC-QVKFEXRMSA-N doesn't exist\n"
     ]
    },
    {
     "name": "stderr",
     "output_type": "stream",
     "text": [
      " 24%|██▍       | 216/887 [17:31<1:02:48,  5.62s/it]"
     ]
    },
    {
     "name": "stdout",
     "output_type": "stream",
     "text": [
      "HTTPSConnectionPool(host='www.ebi.ac.uk', port=443): Max retries exceeded with url: /chembl/api/data/molecule/YQDGWZZYGYKDLR-UZVLBLASSA-K (Caused by ResponseError('too many 404 error responses',))\n",
      "Molecule YQDGWZZYGYKDLR-UZVLBLASSA-K doesn't exist\n",
      "No parent smiles for molecule HUNGUWOZPQBXGX-UHFFFAOYSA-N\n"
     ]
    },
    {
     "name": "stderr",
     "output_type": "stream",
     "text": [
      " 25%|██▍       | 218/887 [17:43<1:04:47,  5.81s/it]"
     ]
    },
    {
     "name": "stdout",
     "output_type": "stream",
     "text": [
      "HTTPSConnectionPool(host='www.ebi.ac.uk', port=443): Max retries exceeded with url: /chembl/api/data/molecule/ACTOXUHEUCPTEW-KWBWCIJSSA-N (Caused by ResponseError('too many 404 error responses',))\n",
      "Molecule ACTOXUHEUCPTEW-KWBWCIJSSA-N doesn't exist\n"
     ]
    },
    {
     "name": "stderr",
     "output_type": "stream",
     "text": [
      " 25%|██▍       | 219/887 [17:56<1:17:07,  6.93s/it]"
     ]
    },
    {
     "name": "stdout",
     "output_type": "stream",
     "text": [
      "HTTPSConnectionPool(host='www.ebi.ac.uk', port=443): Max retries exceeded with url: /chembl/api/data/molecule/nan (Caused by ResponseError('too many 404 error responses',))\n",
      "Molecule nan doesn't exist\n",
      "No parent smiles for molecule PTGXAUBQBSGPKF-UHFFFAOYSA-N\n",
      "No parent smiles for molecule FIADGNVRKBPQEU-UHFFFAOYSA-N\n",
      "No parent smiles for molecule OHRURASPPZQGQM-GCCNXGTGSA-N\n",
      "No parent smiles for molecule QURWXBZNHXJZBE-SKXRKSCCSA-N\n"
     ]
    },
    {
     "name": "stderr",
     "output_type": "stream",
     "text": [
      " 25%|██▌       | 224/887 [18:09<50:30,  4.57s/it]  "
     ]
    },
    {
     "name": "stdout",
     "output_type": "stream",
     "text": [
      "HTTPSConnectionPool(host='www.ebi.ac.uk', port=443): Max retries exceeded with url: /chembl/api/data/molecule/WHRODDIHRRDWEW-VTHZAVIASA-N (Caused by ResponseError('too many 404 error responses',))\n",
      "Molecule WHRODDIHRRDWEW-VTHZAVIASA-N doesn't exist\n",
      "No parent smiles for molecule GYHCTFXIZSNGJT-XMMPIXPASA-N\n"
     ]
    },
    {
     "name": "stderr",
     "output_type": "stream",
     "text": [
      " 25%|██▌       | 226/887 [18:21<54:55,  4.99s/it]"
     ]
    },
    {
     "name": "stdout",
     "output_type": "stream",
     "text": [
      "HTTPSConnectionPool(host='www.ebi.ac.uk', port=443): Max retries exceeded with url: /chembl/api/data/molecule/WTFXARWRTYJXII-UHFFFAOYSA-N (Caused by ResponseError('too many 404 error responses',))\n",
      "Molecule WTFXARWRTYJXII-UHFFFAOYSA-N doesn't exist\n",
      "No parent smiles for molecule GMDCDXMAFMEDAG-BTJKTKAUSA-N\n"
     ]
    },
    {
     "name": "stderr",
     "output_type": "stream",
     "text": [
      " 26%|██▌       | 228/887 [18:34<58:37,  5.34s/it]"
     ]
    },
    {
     "name": "stdout",
     "output_type": "stream",
     "text": [
      "HTTPSConnectionPool(host='www.ebi.ac.uk', port=443): Max retries exceeded with url: /chembl/api/data/molecule/nan (Caused by ResponseError('too many 404 error responses',))\n",
      "Molecule nan doesn't exist\n",
      "No parent smiles for molecule MCGDSOGUHLTADD-UHFFFAOYSA-N\n",
      "No parent smiles for molecule IYFNEFQTYQPVOC-UHFFFAOYSA-N\n"
     ]
    },
    {
     "name": "stderr",
     "output_type": "stream",
     "text": [
      " 26%|██▌       | 231/887 [18:47<54:11,  4.96s/it]"
     ]
    },
    {
     "name": "stdout",
     "output_type": "stream",
     "text": [
      "HTTPSConnectionPool(host='www.ebi.ac.uk', port=443): Max retries exceeded with url: /chembl/api/data/molecule/nan (Caused by ResponseError('too many 404 error responses',))\n",
      "Molecule nan doesn't exist\n"
     ]
    },
    {
     "name": "stderr",
     "output_type": "stream",
     "text": [
      " 26%|██▌       | 232/887 [18:59<1:05:58,  6.04s/it]"
     ]
    },
    {
     "name": "stdout",
     "output_type": "stream",
     "text": [
      "HTTPSConnectionPool(host='www.ebi.ac.uk', port=443): Max retries exceeded with url: /chembl/api/data/molecule/nan (Caused by ResponseError('too many 404 error responses',))\n",
      "Molecule nan doesn't exist\n"
     ]
    },
    {
     "name": "stderr",
     "output_type": "stream",
     "text": [
      " 26%|██▋       | 233/887 [19:12<1:18:02,  7.16s/it]"
     ]
    },
    {
     "name": "stdout",
     "output_type": "stream",
     "text": [
      "HTTPSConnectionPool(host='www.ebi.ac.uk', port=443): Max retries exceeded with url: /chembl/api/data/molecule/nan (Caused by ResponseError('too many 404 error responses',))\n",
      "Molecule nan doesn't exist\n",
      "No parent smiles for molecule DHMTURDWPRKSOA-RUZDIDTESA-N\n",
      "No parent smiles for molecule VMZMNAABQBOLAK-DBILLSOUSA-N\n",
      "No parent smiles for molecule MEUCPCLKGZSHTA-XYAYPHGZSA-N\n"
     ]
    },
    {
     "name": "stderr",
     "output_type": "stream",
     "text": [
      " 27%|██▋       | 237/887 [19:25<56:26,  5.21s/it]  "
     ]
    },
    {
     "name": "stdout",
     "output_type": "stream",
     "text": [
      "HTTPSConnectionPool(host='www.ebi.ac.uk', port=443): Max retries exceeded with url: /chembl/api/data/molecule/ZPDFIIGFYAHNSK-YYLIZZNMSA-K (Caused by ResponseError('too many 404 error responses',))\n",
      "Molecule ZPDFIIGFYAHNSK-YYLIZZNMSA-K doesn't exist\n"
     ]
    },
    {
     "name": "stderr",
     "output_type": "stream",
     "text": [
      " 27%|██▋       | 238/887 [19:38<1:08:27,  6.33s/it]"
     ]
    },
    {
     "name": "stdout",
     "output_type": "stream",
     "text": [
      "HTTPSConnectionPool(host='www.ebi.ac.uk', port=443): Max retries exceeded with url: /chembl/api/data/molecule/XGOSYNSWSRUASG-UHFFFAOYSA-H (Caused by ResponseError('too many 404 error responses',))\n",
      "Molecule XGOSYNSWSRUASG-UHFFFAOYSA-H doesn't exist\n",
      "No parent smiles for molecule FAIIFDPAEUKBEP-UHFFFAOYSA-N\n"
     ]
    },
    {
     "name": "stderr",
     "output_type": "stream",
     "text": [
      " 27%|██▋       | 240/887 [19:50<1:08:12,  6.33s/it]"
     ]
    },
    {
     "name": "stdout",
     "output_type": "stream",
     "text": [
      "HTTPSConnectionPool(host='www.ebi.ac.uk', port=443): Max retries exceeded with url: /chembl/api/data/molecule/ISHXLNHNDMZNMC-XUDSTZEESA-N (Caused by ResponseError('too many 404 error responses',))\n",
      "Molecule ISHXLNHNDMZNMC-XUDSTZEESA-N doesn't exist\n",
      "No parent smiles for molecule JCRIVQIOJSSCQD-UHFFFAOYSA-N\n",
      "No parent smiles for molecule NLKNQRATVPKPDG-UHFFFAOYSA-M\n",
      "No parent smiles for molecule WNROFYMDJYEPJX-UHFFFAOYSA-K\n",
      "No parent smiles for molecule JBDGDEWWOUBZPM-XYPYZODXSA-N\n",
      "No parent smiles for molecule OMFNSKIUKYOYRG-MOSHPQCFSA-N\n"
     ]
    },
    {
     "name": "stderr",
     "output_type": "stream",
     "text": [
      " 28%|██▊       | 246/887 [20:03<42:13,  3.95s/it]  "
     ]
    },
    {
     "name": "stdout",
     "output_type": "stream",
     "text": [
      "HTTPSConnectionPool(host='www.ebi.ac.uk', port=443): Max retries exceeded with url: /chembl/api/data/molecule/nan (Caused by ResponseError('too many 404 error responses',))\n",
      "Molecule nan doesn't exist\n",
      "No parent smiles for molecule KWIUHFFTVRNATP-UHFFFAOYSA-N\n"
     ]
    },
    {
     "name": "stderr",
     "output_type": "stream",
     "text": [
      " 28%|██▊       | 248/887 [20:18<50:00,  4.70s/it]"
     ]
    },
    {
     "name": "stdout",
     "output_type": "stream",
     "text": [
      "HTTPSConnectionPool(host='www.ebi.ac.uk', port=443): Max retries exceeded with url: /chembl/api/data/molecule/WAEMQWOKJMHJLA-UHFFFAOYSA-N (Caused by ResponseError('too many 404 error responses',))\n",
      "Molecule WAEMQWOKJMHJLA-UHFFFAOYSA-N doesn't exist\n"
     ]
    },
    {
     "name": "stderr",
     "output_type": "stream",
     "text": [
      " 28%|██▊       | 249/887 [20:31<1:02:29,  5.88s/it]"
     ]
    },
    {
     "name": "stdout",
     "output_type": "stream",
     "text": [
      "HTTPSConnectionPool(host='www.ebi.ac.uk', port=443): Max retries exceeded with url: /chembl/api/data/molecule/nan (Caused by ResponseError('too many 404 error responses',))\n",
      "Molecule nan doesn't exist\n"
     ]
    },
    {
     "name": "stderr",
     "output_type": "stream",
     "text": [
      " 28%|██▊       | 250/887 [20:47<1:18:56,  7.44s/it]"
     ]
    },
    {
     "name": "stdout",
     "output_type": "stream",
     "text": [
      "HTTPSConnectionPool(host='www.ebi.ac.uk', port=443): Max retries exceeded with url: /chembl/api/data/molecule/ARUVKPQLZAKDPS-UHFFFAOYSA-L (Caused by ResponseError('too many 404 error responses',))\n",
      "Molecule ARUVKPQLZAKDPS-UHFFFAOYSA-L doesn't exist\n"
     ]
    },
    {
     "name": "stderr",
     "output_type": "stream",
     "text": [
      " 28%|██▊       | 251/887 [21:18<2:03:41, 11.67s/it]"
     ]
    },
    {
     "name": "stdout",
     "output_type": "stream",
     "text": [
      "HTTPSConnectionPool(host='www.ebi.ac.uk', port=443): Max retries exceeded with url: /chembl/api/data/molecule/nan (Caused by ResponseError('too many 404 error responses',))\n",
      "Molecule nan doesn't exist\n"
     ]
    },
    {
     "name": "stderr",
     "output_type": "stream",
     "text": [
      " 28%|██▊       | 252/887 [21:31<2:06:37, 11.96s/it]"
     ]
    },
    {
     "name": "stdout",
     "output_type": "stream",
     "text": [
      "HTTPSConnectionPool(host='www.ebi.ac.uk', port=443): Max retries exceeded with url: /chembl/api/data/molecule/DNMNDNSFJMUUFM-UHFFFAOYSA-N (Caused by ResponseError('too many 404 error responses',))\n",
      "Molecule DNMNDNSFJMUUFM-UHFFFAOYSA-N doesn't exist\n"
     ]
    },
    {
     "name": "stderr",
     "output_type": "stream",
     "text": [
      " 29%|██▊       | 253/887 [21:53<2:32:19, 14.42s/it]"
     ]
    },
    {
     "name": "stdout",
     "output_type": "stream",
     "text": [
      "HTTPSConnectionPool(host='www.ebi.ac.uk', port=443): Max retries exceeded with url: /chembl/api/data/molecule/YEEGWNXDUZONAA-RYDPDVNUSA-K (Caused by ResponseError('too many 404 error responses',))\n",
      "Molecule YEEGWNXDUZONAA-RYDPDVNUSA-K doesn't exist\n",
      "No parent smiles for molecule GJNXBNATEDXMAK-PFLSVRRQSA-N\n"
     ]
    },
    {
     "name": "stderr",
     "output_type": "stream",
     "text": [
      " 29%|██▊       | 255/887 [22:06<1:58:13, 11.22s/it]"
     ]
    },
    {
     "name": "stdout",
     "output_type": "stream",
     "text": [
      "HTTPSConnectionPool(host='www.ebi.ac.uk', port=443): Max retries exceeded with url: /chembl/api/data/molecule/BKEMVGVBBDMHKL-VYFXDUNUSA-N (Caused by ResponseError('too many 404 error responses',))\n",
      "Molecule BKEMVGVBBDMHKL-VYFXDUNUSA-N doesn't exist\n"
     ]
    },
    {
     "name": "stderr",
     "output_type": "stream",
     "text": [
      " 29%|██▉       | 256/887 [22:19<2:02:20, 11.63s/it]"
     ]
    },
    {
     "name": "stdout",
     "output_type": "stream",
     "text": [
      "HTTPSConnectionPool(host='www.ebi.ac.uk', port=443): Max retries exceeded with url: /chembl/api/data/molecule/PUDHBTGHUJUUFI-UHFFFAOYSA-N (Caused by ResponseError('too many 404 error responses',))\n",
      "Molecule PUDHBTGHUJUUFI-UHFFFAOYSA-N doesn't exist\n"
     ]
    },
    {
     "name": "stderr",
     "output_type": "stream",
     "text": [
      " 29%|██▉       | 257/887 [22:32<2:04:46, 11.88s/it]"
     ]
    },
    {
     "name": "stdout",
     "output_type": "stream",
     "text": [
      "HTTPSConnectionPool(host='www.ebi.ac.uk', port=443): Max retries exceeded with url: /chembl/api/data/molecule/NZPIUJUFIFZSPW-UHFFFAOYSA-H (Caused by ResponseError('too many 404 error responses',))\n",
      "Molecule NZPIUJUFIFZSPW-UHFFFAOYSA-H doesn't exist\n"
     ]
    },
    {
     "name": "stderr",
     "output_type": "stream",
     "text": [
      " 29%|██▉       | 258/887 [22:45<2:06:58, 12.11s/it]"
     ]
    },
    {
     "name": "stdout",
     "output_type": "stream",
     "text": [
      "HTTPSConnectionPool(host='www.ebi.ac.uk', port=443): Max retries exceeded with url: /chembl/api/data/molecule/CXFKOLCMCRBYPL-UHFFFAOYSA-L (Caused by ResponseError('too many 404 error responses',))\n",
      "Molecule CXFKOLCMCRBYPL-UHFFFAOYSA-L doesn't exist\n"
     ]
    },
    {
     "name": "stderr",
     "output_type": "stream",
     "text": [
      " 29%|██▉       | 259/887 [22:57<2:08:09, 12.24s/it]"
     ]
    },
    {
     "name": "stdout",
     "output_type": "stream",
     "text": [
      "HTTPSConnectionPool(host='www.ebi.ac.uk', port=443): Max retries exceeded with url: /chembl/api/data/molecule/JVLBPIPGETUEET-WIXLDOGYSA-O (Caused by ResponseError('too many 404 error responses',))\n",
      "Molecule JVLBPIPGETUEET-WIXLDOGYSA-O doesn't exist\n",
      "No parent smiles for molecule CFCUWKMKBJTWLW-BKHRDMLASA-N\n"
     ]
    },
    {
     "name": "stderr",
     "output_type": "stream",
     "text": [
      " 29%|██▉       | 261/887 [23:10<1:40:53,  9.67s/it]"
     ]
    },
    {
     "name": "stdout",
     "output_type": "stream",
     "text": [
      "HTTPSConnectionPool(host='www.ebi.ac.uk', port=443): Max retries exceeded with url: /chembl/api/data/molecule/nan (Caused by ResponseError('too many 404 error responses',))\n",
      "Molecule nan doesn't exist\n",
      "No parent smiles for molecule FGVVTMRZYROCTH-UHFFFAOYSA-N\n"
     ]
    },
    {
     "name": "stderr",
     "output_type": "stream",
     "text": [
      " 30%|██▉       | 263/887 [23:23<1:27:54,  8.45s/it]"
     ]
    },
    {
     "name": "stdout",
     "output_type": "stream",
     "text": [
      "HTTPSConnectionPool(host='www.ebi.ac.uk', port=443): Max retries exceeded with url: /chembl/api/data/molecule/nan (Caused by ResponseError('too many 404 error responses',))\n",
      "Molecule nan doesn't exist\n",
      "No parent smiles for molecule VXKHXGOKWPXYNA-PGBVPBMZSA-N\n",
      "No parent smiles for molecule TVHAZVBUYQMHBC-SNHXEXRGSA-N\n",
      "No parent smiles for molecule GXFAIFRPOKBQRV-GHXCTMGLSA-N\n",
      "No parent smiles for molecule VHBFFQKBGNRLFZ-UHFFFAOYSA-N\n",
      "No parent smiles for molecule SKZKKFZAGNVIMN-UHFFFAOYSA-N\n",
      "No parent smiles for molecule JXTHNDFMNIQAHM-UHFFFAOYSA-N\n"
     ]
    },
    {
     "name": "stderr",
     "output_type": "stream",
     "text": [
      " 30%|███       | 270/887 [23:36<42:09,  4.10s/it]  "
     ]
    },
    {
     "name": "stdout",
     "output_type": "stream",
     "text": [
      "HTTPSConnectionPool(host='www.ebi.ac.uk', port=443): Max retries exceeded with url: /chembl/api/data/molecule/nan (Caused by ResponseError('too many 404 error responses',))\n",
      "Molecule nan doesn't exist\n",
      "No parent smiles for molecule RMWVZGDJPAKBDE-UHFFFAOYSA-N\n"
     ]
    },
    {
     "name": "stderr",
     "output_type": "stream",
     "text": [
      " 31%|███       | 272/887 [23:48<46:47,  4.56s/it]"
     ]
    },
    {
     "name": "stdout",
     "output_type": "stream",
     "text": [
      "HTTPSConnectionPool(host='www.ebi.ac.uk', port=443): Max retries exceeded with url: /chembl/api/data/molecule/KIUKXJAPPMFGSW-MNSSHETKSA-N (Caused by ResponseError('too many 404 error responses',))\n",
      "Molecule KIUKXJAPPMFGSW-MNSSHETKSA-N doesn't exist\n",
      "No parent smiles for molecule JFLRKDZMHNBDQS-SGSTVUCESA-N\n",
      "No parent smiles for molecule HXWLAJVUJSVENX-HFIFKADTSA-N\n"
     ]
    },
    {
     "name": "stderr",
     "output_type": "stream",
     "text": [
      " 31%|███       | 275/887 [24:01<45:30,  4.46s/it]"
     ]
    },
    {
     "name": "stdout",
     "output_type": "stream",
     "text": [
      "HTTPSConnectionPool(host='www.ebi.ac.uk', port=443): Max retries exceeded with url: /chembl/api/data/molecule/nan (Caused by ResponseError('too many 404 error responses',))\n",
      "Molecule nan doesn't exist\n"
     ]
    },
    {
     "name": "stderr",
     "output_type": "stream",
     "text": [
      " 31%|███       | 276/887 [24:14<56:16,  5.53s/it]"
     ]
    },
    {
     "name": "stdout",
     "output_type": "stream",
     "text": [
      "HTTPSConnectionPool(host='www.ebi.ac.uk', port=443): Max retries exceeded with url: /chembl/api/data/molecule/LAJJBLZKAIOLRM-YHAVXTEWSA-N (Caused by ResponseError('too many 404 error responses',))\n",
      "Molecule LAJJBLZKAIOLRM-YHAVXTEWSA-N doesn't exist\n"
     ]
    },
    {
     "name": "stderr",
     "output_type": "stream",
     "text": [
      " 31%|███       | 277/887 [24:27<1:07:56,  6.68s/it]"
     ]
    },
    {
     "name": "stdout",
     "output_type": "stream",
     "text": [
      "HTTPSConnectionPool(host='www.ebi.ac.uk', port=443): Max retries exceeded with url: /chembl/api/data/molecule/PCZHWPSNPWAQNF-LMOVPXPDSA-K (Caused by ResponseError('too many 404 error responses',))\n",
      "Molecule PCZHWPSNPWAQNF-LMOVPXPDSA-K doesn't exist\n",
      "No parent smiles for molecule BLMPQMFVWMYDKT-NZTKNTHTSA-N\n",
      "No parent smiles for molecule KXGCNMMJRFDFNR-WDRJZQOASA-N\n",
      "No parent smiles for molecule RWRDJVNMSZYMDV-SIUYXFDKSA-L\n"
     ]
    },
    {
     "name": "stderr",
     "output_type": "stream",
     "text": [
      " 32%|███▏      | 281/887 [24:39<50:51,  5.03s/it]  "
     ]
    },
    {
     "name": "stdout",
     "output_type": "stream",
     "text": [
      "HTTPSConnectionPool(host='www.ebi.ac.uk', port=443): Max retries exceeded with url: /chembl/api/data/molecule/nan (Caused by ResponseError('too many 404 error responses',))\n",
      "Molecule nan doesn't exist\n",
      "No parent smiles for molecule WFNAKBGANONZEQ-UHFFFAOYSA-N\n",
      "No parent smiles for molecule SPPNVMTVMQOKSC-UHFFFAOYSA-A\n"
     ]
    },
    {
     "name": "stderr",
     "output_type": "stream",
     "text": [
      " 32%|███▏      | 284/887 [24:52<47:55,  4.77s/it]"
     ]
    },
    {
     "name": "stdout",
     "output_type": "stream",
     "text": [
      "HTTPSConnectionPool(host='www.ebi.ac.uk', port=443): Max retries exceeded with url: /chembl/api/data/molecule/BMUKKTUHUDJSNZ-HBUWYVDXSA-N (Caused by ResponseError('too many 404 error responses',))\n",
      "Molecule BMUKKTUHUDJSNZ-HBUWYVDXSA-N doesn't exist\n"
     ]
    },
    {
     "name": "stderr",
     "output_type": "stream",
     "text": [
      " 32%|███▏      | 285/887 [25:05<58:43,  5.85s/it]"
     ]
    },
    {
     "name": "stdout",
     "output_type": "stream",
     "text": [
      "HTTPSConnectionPool(host='www.ebi.ac.uk', port=443): Max retries exceeded with url: /chembl/api/data/molecule/WFLSCFISQHLEED-GOEBONIOSA-N (Caused by ResponseError('too many 404 error responses',))\n",
      "Molecule WFLSCFISQHLEED-GOEBONIOSA-N doesn't exist\n",
      "No parent smiles for molecule MFZCIDXOLLEMOO-GYSGTQPESA-N\n"
     ]
    },
    {
     "name": "stderr",
     "output_type": "stream",
     "text": [
      " 32%|███▏      | 287/887 [25:17<59:57,  6.00s/it]"
     ]
    },
    {
     "name": "stdout",
     "output_type": "stream",
     "text": [
      "HTTPSConnectionPool(host='www.ebi.ac.uk', port=443): Max retries exceeded with url: /chembl/api/data/molecule/MIZMDSVSLSIMSC-OGLSAIDSSA-N (Caused by ResponseError('too many 404 error responses',))\n",
      "Molecule MIZMDSVSLSIMSC-OGLSAIDSSA-N doesn't exist\n",
      "No parent smiles for molecule APQPGQGAWABJLN-UHFFFAOYSA-N\n",
      "No parent smiles for molecule WGJHHMKQBWSQIY-UHFFFAOYSA-N\n"
     ]
    },
    {
     "name": "stderr",
     "output_type": "stream",
     "text": [
      " 33%|███▎      | 290/887 [25:30<53:08,  5.34s/it]"
     ]
    },
    {
     "name": "stdout",
     "output_type": "stream",
     "text": [
      "HTTPSConnectionPool(host='www.ebi.ac.uk', port=443): Max retries exceeded with url: /chembl/api/data/molecule/nan (Caused by ResponseError('too many 404 error responses',))\n",
      "Molecule nan doesn't exist\n",
      "No parent smiles for molecule VWXRQYYUEIYXCZ-OBIMUBPZSA-N\n",
      "No parent smiles for molecule QEEJLLNYQOBRRM-KSHGRFHLSA-N\n",
      "No parent smiles for molecule XYGBKMMCQDZQOZ-UHFFFAOYSA-M\n"
     ]
    },
    {
     "name": "stderr",
     "output_type": "stream",
     "text": [
      " 33%|███▎      | 294/887 [25:43<43:44,  4.43s/it]"
     ]
    },
    {
     "name": "stdout",
     "output_type": "stream",
     "text": [
      "HTTPSConnectionPool(host='www.ebi.ac.uk', port=443): Max retries exceeded with url: /chembl/api/data/molecule/VMHWZDULLBLUMS-UHFFFAOYSA-N (Caused by ResponseError('too many 404 error responses',))\n",
      "Molecule VMHWZDULLBLUMS-UHFFFAOYSA-N doesn't exist\n",
      "No parent smiles for molecule RRAFCDWBNXTKKO-UHFFFAOYSA-N\n"
     ]
    },
    {
     "name": "stderr",
     "output_type": "stream",
     "text": [
      " 33%|███▎      | 296/887 [25:55<47:47,  4.85s/it]"
     ]
    },
    {
     "name": "stdout",
     "output_type": "stream",
     "text": [
      "HTTPSConnectionPool(host='www.ebi.ac.uk', port=443): Max retries exceeded with url: /chembl/api/data/molecule/GRLPQNLYRHEGIJ-UHFFFAOYSA-J (Caused by ResponseError('too many 404 error responses',))\n",
      "Molecule GRLPQNLYRHEGIJ-UHFFFAOYSA-J doesn't exist\n",
      "No parent smiles for molecule FDMBBCOBEAVDAO-UHFFFAOYSA-N\n",
      "No parent smiles for molecule LORDFXWUHHSAQU-UHFFFAOYSA-N\n"
     ]
    },
    {
     "name": "stderr",
     "output_type": "stream",
     "text": [
      " 34%|███▎      | 299/887 [26:08<45:28,  4.64s/it]"
     ]
    },
    {
     "name": "stdout",
     "output_type": "stream",
     "text": [
      "HTTPSConnectionPool(host='www.ebi.ac.uk', port=443): Max retries exceeded with url: /chembl/api/data/molecule/YWDBSCORAARPPF-VWUMJDOOSA-N (Caused by ResponseError('too many 404 error responses',))\n",
      "Molecule YWDBSCORAARPPF-VWUMJDOOSA-N doesn't exist\n"
     ]
    },
    {
     "name": "stderr",
     "output_type": "stream",
     "text": [
      " 34%|███▍      | 300/887 [26:21<56:07,  5.74s/it]"
     ]
    },
    {
     "name": "stdout",
     "output_type": "stream",
     "text": [
      "HTTPSConnectionPool(host='www.ebi.ac.uk', port=443): Max retries exceeded with url: /chembl/api/data/molecule/KOUZYZCESNTXJO-UHFFFAOYSA-N (Caused by ResponseError('too many 404 error responses',))\n",
      "Molecule KOUZYZCESNTXJO-UHFFFAOYSA-N doesn't exist\n",
      "No parent smiles for molecule GDFGTRDCCWFXTG-ZIFCJYIRSA-N\n",
      "No parent smiles for molecule NHXLMOGPVYXJNR-ATOGVRKGSA-N\n",
      "No parent smiles for molecule VTHJTEIRLNZDEV-UHFFFAOYSA-L\n"
     ]
    },
    {
     "name": "stderr",
     "output_type": "stream",
     "text": [
      " 34%|███▍      | 304/887 [26:33<44:48,  4.61s/it]"
     ]
    },
    {
     "name": "stdout",
     "output_type": "stream",
     "text": [
      "HTTPSConnectionPool(host='www.ebi.ac.uk', port=443): Max retries exceeded with url: /chembl/api/data/molecule/nan (Caused by ResponseError('too many 404 error responses',))\n",
      "Molecule nan doesn't exist\n"
     ]
    },
    {
     "name": "stderr",
     "output_type": "stream",
     "text": [
      " 34%|███▍      | 305/887 [26:46<55:14,  5.69s/it]"
     ]
    },
    {
     "name": "stdout",
     "output_type": "stream",
     "text": [
      "HTTPSConnectionPool(host='www.ebi.ac.uk', port=443): Max retries exceeded with url: /chembl/api/data/molecule/nan (Caused by ResponseError('too many 404 error responses',))\n",
      "Molecule nan doesn't exist\n",
      "No parent smiles for molecule UXZFQZANDVDGMM-UHFFFAOYSA-N\n",
      "No parent smiles for molecule MYFXBBAEXORJNB-UHFFFAOYSA-N\n",
      "No parent smiles for molecule YKPUWZUDDOIDPM-VURMDHGXSA-N\n"
     ]
    },
    {
     "name": "stderr",
     "output_type": "stream",
     "text": [
      " 35%|███▍      | 309/887 [26:59<44:20,  4.60s/it]"
     ]
    },
    {
     "name": "stdout",
     "output_type": "stream",
     "text": [
      "HTTPSConnectionPool(host='www.ebi.ac.uk', port=443): Max retries exceeded with url: /chembl/api/data/molecule/XHVAWZZCDCWGBK-WYRLRVFGSA-M (Caused by ResponseError('too many 404 error responses',))\n",
      "Molecule XHVAWZZCDCWGBK-WYRLRVFGSA-M doesn't exist\n"
     ]
    },
    {
     "name": "stderr",
     "output_type": "stream",
     "text": [
      " 35%|███▍      | 310/887 [27:11<54:40,  5.69s/it]"
     ]
    },
    {
     "name": "stdout",
     "output_type": "stream",
     "text": [
      "HTTPSConnectionPool(host='www.ebi.ac.uk', port=443): Max retries exceeded with url: /chembl/api/data/molecule/QSWDMMVNRMROPK-UHFFFAOYSA-K (Caused by ResponseError('too many 404 error responses',))\n",
      "Molecule QSWDMMVNRMROPK-UHFFFAOYSA-K doesn't exist\n"
     ]
    },
    {
     "name": "stderr",
     "output_type": "stream",
     "text": [
      " 35%|███▌      | 311/887 [27:24<1:05:25,  6.82s/it]"
     ]
    },
    {
     "name": "stdout",
     "output_type": "stream",
     "text": [
      "HTTPSConnectionPool(host='www.ebi.ac.uk', port=443): Max retries exceeded with url: /chembl/api/data/molecule/RYGMFSIKBFXOCR-UHFFFAOYSA-N (Caused by ResponseError('too many 404 error responses',))\n",
      "Molecule RYGMFSIKBFXOCR-UHFFFAOYSA-N doesn't exist\n"
     ]
    },
    {
     "name": "stderr",
     "output_type": "stream",
     "text": [
      " 35%|███▌      | 312/887 [27:37<1:16:30,  7.98s/it]"
     ]
    },
    {
     "name": "stdout",
     "output_type": "stream",
     "text": [
      "HTTPSConnectionPool(host='www.ebi.ac.uk', port=443): Max retries exceeded with url: /chembl/api/data/molecule/ORTQZVOHEJQUHG-UHFFFAOYSA-L (Caused by ResponseError('too many 404 error responses',))\n",
      "Molecule ORTQZVOHEJQUHG-UHFFFAOYSA-L doesn't exist\n"
     ]
    },
    {
     "name": "stderr",
     "output_type": "stream",
     "text": [
      " 35%|███▌      | 313/887 [27:50<1:25:58,  8.99s/it]"
     ]
    },
    {
     "name": "stdout",
     "output_type": "stream",
     "text": [
      "HTTPSConnectionPool(host='www.ebi.ac.uk', port=443): Max retries exceeded with url: /chembl/api/data/molecule/GFSTXYOTEVLASN-UHFFFAOYSA-K (Caused by ResponseError('too many 404 error responses',))\n",
      "Molecule GFSTXYOTEVLASN-UHFFFAOYSA-K doesn't exist\n"
     ]
    },
    {
     "name": "stderr",
     "output_type": "stream",
     "text": [
      " 35%|███▌      | 314/887 [28:02<1:34:03,  9.85s/it]"
     ]
    },
    {
     "name": "stdout",
     "output_type": "stream",
     "text": [
      "HTTPSConnectionPool(host='www.ebi.ac.uk', port=443): Max retries exceeded with url: /chembl/api/data/molecule/YFKDCGWIINMRQY-UHFFFAOYSA-O (Caused by ResponseError('too many 404 error responses',))\n",
      "Molecule YFKDCGWIINMRQY-UHFFFAOYSA-O doesn't exist\n"
     ]
    },
    {
     "name": "stderr",
     "output_type": "stream",
     "text": [
      " 36%|███▌      | 315/887 [28:16<1:41:48, 10.68s/it]"
     ]
    },
    {
     "name": "stdout",
     "output_type": "stream",
     "text": [
      "HTTPSConnectionPool(host='www.ebi.ac.uk', port=443): Max retries exceeded with url: /chembl/api/data/molecule/JLJSYHOPCNWUNE-UHFFFAOYSA-N (Caused by ResponseError('too many 404 error responses',))\n",
      "Molecule JLJSYHOPCNWUNE-UHFFFAOYSA-N doesn't exist\n"
     ]
    },
    {
     "name": "stderr",
     "output_type": "stream",
     "text": [
      " 36%|███▌      | 316/887 [28:28<1:46:29, 11.19s/it]"
     ]
    },
    {
     "name": "stdout",
     "output_type": "stream",
     "text": [
      "HTTPSConnectionPool(host='www.ebi.ac.uk', port=443): Max retries exceeded with url: /chembl/api/data/molecule/IUPNVOAUFBLQME-SGNQUONSSA-J (Caused by ResponseError('too many 404 error responses',))\n",
      "Molecule IUPNVOAUFBLQME-SGNQUONSSA-J doesn't exist\n"
     ]
    },
    {
     "name": "stderr",
     "output_type": "stream",
     "text": [
      " 36%|███▌      | 317/887 [28:41<1:50:27, 11.63s/it]"
     ]
    },
    {
     "name": "stdout",
     "output_type": "stream",
     "text": [
      "HTTPSConnectionPool(host='www.ebi.ac.uk', port=443): Max retries exceeded with url: /chembl/api/data/molecule/SIJNDWFHVBDXDY-NLQOEHMXSA-N (Caused by ResponseError('too many 404 error responses',))\n",
      "Molecule SIJNDWFHVBDXDY-NLQOEHMXSA-N doesn't exist\n",
      "No parent smiles for molecule IZTQOLKUZKXIRV-YRVFCXMDSA-N\n"
     ]
    },
    {
     "name": "stderr",
     "output_type": "stream",
     "text": [
      " 36%|███▌      | 319/887 [28:54<1:28:25,  9.34s/it]"
     ]
    },
    {
     "name": "stdout",
     "output_type": "stream",
     "text": [
      "HTTPSConnectionPool(host='www.ebi.ac.uk', port=443): Max retries exceeded with url: /chembl/api/data/molecule/FWZTTZUKDVJDCM-CEJAUHOTSA-M (Caused by ResponseError('too many 404 error responses',))\n",
      "Molecule FWZTTZUKDVJDCM-CEJAUHOTSA-M doesn't exist\n",
      "No parent smiles for molecule NCWZOASIUQVOFA-FWZJPQCDSA-N\n",
      "No parent smiles for molecule YNDIAUKFXKEXSV-CRYLGTRXSA-N\n",
      "No parent smiles for molecule VVECGOCJFKTUAX-HUYCHCPVSA-N\n",
      "No parent smiles for molecule FAPWRFPIFSIZLT-UHFFFAOYSA-M\n",
      "No parent smiles for molecule SWQJXJOGLNCZEY-UHFFFAOYSA-N\n",
      "No parent smiles for molecule CURLTUGMZLYLDI-UHFFFAOYSA-N\n"
     ]
    },
    {
     "name": "stderr",
     "output_type": "stream",
     "text": [
      " 37%|███▋      | 326/887 [29:07<38:57,  4.17s/it]  "
     ]
    },
    {
     "name": "stdout",
     "output_type": "stream",
     "text": [
      "HTTPSConnectionPool(host='www.ebi.ac.uk', port=443): Max retries exceeded with url: /chembl/api/data/molecule/HBJYDUADMKVTGP-RCUQKECRSA-N (Caused by ResponseError('too many 404 error responses',))\n",
      "Molecule HBJYDUADMKVTGP-RCUQKECRSA-N doesn't exist\n"
     ]
    },
    {
     "name": "stderr",
     "output_type": "stream",
     "text": [
      " 37%|███▋      | 327/887 [29:19<48:32,  5.20s/it]"
     ]
    },
    {
     "name": "stdout",
     "output_type": "stream",
     "text": [
      "HTTPSConnectionPool(host='www.ebi.ac.uk', port=443): Max retries exceeded with url: /chembl/api/data/molecule/ZBTQTVSNLRPJHI-UHFFFAOYSA-N (Caused by ResponseError('too many 404 error responses',))\n",
      "Molecule ZBTQTVSNLRPJHI-UHFFFAOYSA-N doesn't exist\n"
     ]
    },
    {
     "name": "stderr",
     "output_type": "stream",
     "text": [
      " 37%|███▋      | 328/887 [29:32<58:46,  6.31s/it]"
     ]
    },
    {
     "name": "stdout",
     "output_type": "stream",
     "text": [
      "HTTPSConnectionPool(host='www.ebi.ac.uk', port=443): Max retries exceeded with url: /chembl/api/data/molecule/nan (Caused by ResponseError('too many 404 error responses',))\n",
      "Molecule nan doesn't exist\n"
     ]
    },
    {
     "name": "stderr",
     "output_type": "stream",
     "text": [
      " 37%|███▋      | 329/887 [29:45<1:09:16,  7.45s/it]"
     ]
    },
    {
     "name": "stdout",
     "output_type": "stream",
     "text": [
      "HTTPSConnectionPool(host='www.ebi.ac.uk', port=443): Max retries exceeded with url: /chembl/api/data/molecule/JNJYQGLIZTUSCW-NLQOEHMXSA-N (Caused by ResponseError('too many 404 error responses',))\n",
      "Molecule JNJYQGLIZTUSCW-NLQOEHMXSA-N doesn't exist\n"
     ]
    },
    {
     "name": "stderr",
     "output_type": "stream",
     "text": [
      " 37%|███▋      | 330/887 [29:57<1:19:01,  8.51s/it]"
     ]
    },
    {
     "name": "stdout",
     "output_type": "stream",
     "text": [
      "HTTPSConnectionPool(host='www.ebi.ac.uk', port=443): Max retries exceeded with url: /chembl/api/data/molecule/OOGKGVXDDGJCPO-NLQOEHMXSA-J (Caused by ResponseError('too many 404 error responses',))\n",
      "Molecule OOGKGVXDDGJCPO-NLQOEHMXSA-J doesn't exist\n"
     ]
    },
    {
     "name": "stderr",
     "output_type": "stream",
     "text": [
      " 37%|███▋      | 331/887 [30:10<1:27:28,  9.44s/it]"
     ]
    },
    {
     "name": "stdout",
     "output_type": "stream",
     "text": [
      "HTTPSConnectionPool(host='www.ebi.ac.uk', port=443): Max retries exceeded with url: /chembl/api/data/molecule/BNRMWKUVWLKDQJ-YJBOKZPZSA-N (Caused by ResponseError('too many 404 error responses',))\n",
      "Molecule BNRMWKUVWLKDQJ-YJBOKZPZSA-N doesn't exist\n",
      "No parent smiles for molecule YMBXTVYHTMGZDW-UHFFFAOYSA-N\n"
     ]
    },
    {
     "name": "stderr",
     "output_type": "stream",
     "text": [
      " 38%|███▊      | 333/887 [30:23<1:15:55,  8.22s/it]"
     ]
    },
    {
     "name": "stdout",
     "output_type": "stream",
     "text": [
      "HTTPSConnectionPool(host='www.ebi.ac.uk', port=443): Max retries exceeded with url: /chembl/api/data/molecule/BPKUDUSVDVLOPY-UHFFFAOYSA-N (Caused by ResponseError('too many 404 error responses',))\n",
      "Molecule BPKUDUSVDVLOPY-UHFFFAOYSA-N doesn't exist\n",
      "No parent smiles for molecule ANEBWFXPVPTEET-UHFFFAOYSA-N\n",
      "No parent smiles for molecule CXKWCBBOMKCUKX-UHFFFAOYSA-M\n"
     ]
    },
    {
     "name": "stderr",
     "output_type": "stream",
     "text": [
      " 38%|███▊      | 336/887 [30:35<58:54,  6.41s/it]  "
     ]
    },
    {
     "name": "stdout",
     "output_type": "stream",
     "text": [
      "HTTPSConnectionPool(host='www.ebi.ac.uk', port=443): Max retries exceeded with url: /chembl/api/data/molecule/nan (Caused by ResponseError('too many 404 error responses',))\n",
      "Molecule nan doesn't exist\n",
      "No parent smiles for molecule ZPLQIPFOCGIIHV-UHFFFAOYSA-N\n"
     ]
    },
    {
     "name": "stderr",
     "output_type": "stream",
     "text": [
      " 38%|███▊      | 338/887 [30:48<58:31,  6.40s/it]"
     ]
    },
    {
     "name": "stdout",
     "output_type": "stream",
     "text": [
      "HTTPSConnectionPool(host='www.ebi.ac.uk', port=443): Max retries exceeded with url: /chembl/api/data/molecule/nan (Caused by ResponseError('too many 404 error responses',))\n",
      "Molecule nan doesn't exist\n"
     ]
    },
    {
     "name": "stderr",
     "output_type": "stream",
     "text": [
      " 38%|███▊      | 339/887 [31:01<1:08:56,  7.55s/it]"
     ]
    },
    {
     "name": "stdout",
     "output_type": "stream",
     "text": [
      "HTTPSConnectionPool(host='www.ebi.ac.uk', port=443): Max retries exceeded with url: /chembl/api/data/molecule/nan (Caused by ResponseError('too many 404 error responses',))\n",
      "Molecule nan doesn't exist\n"
     ]
    },
    {
     "name": "stderr",
     "output_type": "stream",
     "text": [
      " 38%|███▊      | 340/887 [31:14<1:18:15,  8.59s/it]"
     ]
    },
    {
     "name": "stdout",
     "output_type": "stream",
     "text": [
      "HTTPSConnectionPool(host='www.ebi.ac.uk', port=443): Max retries exceeded with url: /chembl/api/data/molecule/nan (Caused by ResponseError('too many 404 error responses',))\n",
      "Molecule nan doesn't exist\n"
     ]
    },
    {
     "name": "stderr",
     "output_type": "stream",
     "text": [
      " 38%|███▊      | 341/887 [31:26<1:26:26,  9.50s/it]"
     ]
    },
    {
     "name": "stdout",
     "output_type": "stream",
     "text": [
      "HTTPSConnectionPool(host='www.ebi.ac.uk', port=443): Max retries exceeded with url: /chembl/api/data/molecule/nan (Caused by ResponseError('too many 404 error responses',))\n",
      "Molecule nan doesn't exist\n"
     ]
    },
    {
     "name": "stderr",
     "output_type": "stream",
     "text": [
      " 39%|███▊      | 342/887 [31:39<1:33:14, 10.26s/it]"
     ]
    },
    {
     "name": "stdout",
     "output_type": "stream",
     "text": [
      "HTTPSConnectionPool(host='www.ebi.ac.uk', port=443): Max retries exceeded with url: /chembl/api/data/molecule/nan (Caused by ResponseError('too many 404 error responses',))\n",
      "Molecule nan doesn't exist\n"
     ]
    },
    {
     "name": "stderr",
     "output_type": "stream",
     "text": [
      " 39%|███▊      | 343/887 [31:52<1:38:41, 10.89s/it]"
     ]
    },
    {
     "name": "stdout",
     "output_type": "stream",
     "text": [
      "HTTPSConnectionPool(host='www.ebi.ac.uk', port=443): Max retries exceeded with url: /chembl/api/data/molecule/XVVOERDUTLJJHN-IAEQDCLQSA-N (Caused by ResponseError('too many 404 error responses',))\n",
      "Molecule XVVOERDUTLJJHN-IAEQDCLQSA-N doesn't exist\n"
     ]
    },
    {
     "name": "stderr",
     "output_type": "stream",
     "text": [
      " 39%|███▉      | 344/887 [32:04<1:43:00, 11.38s/it]"
     ]
    },
    {
     "name": "stdout",
     "output_type": "stream",
     "text": [
      "HTTPSConnectionPool(host='www.ebi.ac.uk', port=443): Max retries exceeded with url: /chembl/api/data/molecule/nan (Caused by ResponseError('too many 404 error responses',))\n",
      "Molecule nan doesn't exist\n",
      "No parent smiles for molecule XXUZFRDUEGQHOV-UHFFFAOYSA-J\n",
      "No parent smiles for molecule WLJVXDMOQOGPHL-UHFFFAOYSA-N\n",
      "No parent smiles for molecule ACTIUHUUMQJHFO-UPTCCGCDSA-N\n"
     ]
    },
    {
     "name": "stderr",
     "output_type": "stream",
     "text": [
      " 39%|███▉      | 348/887 [32:17<57:54,  6.45s/it]  "
     ]
    },
    {
     "name": "stdout",
     "output_type": "stream",
     "text": [
      "HTTPSConnectionPool(host='www.ebi.ac.uk', port=443): Max retries exceeded with url: /chembl/api/data/molecule/YDDTTXDPCSCLKY-UHFFFAOYSA-H (Caused by ResponseError('too many 404 error responses',))\n",
      "Molecule YDDTTXDPCSCLKY-UHFFFAOYSA-H doesn't exist\n"
     ]
    },
    {
     "name": "stderr",
     "output_type": "stream",
     "text": [
      " 39%|███▉      | 349/887 [32:30<1:07:39,  7.55s/it]"
     ]
    },
    {
     "name": "stdout",
     "output_type": "stream",
     "text": [
      "HTTPSConnectionPool(host='www.ebi.ac.uk', port=443): Max retries exceeded with url: /chembl/api/data/molecule/VXIHRIQNJCRFQX-UHFFFAOYSA-K (Caused by ResponseError('too many 404 error responses',))\n",
      "Molecule VXIHRIQNJCRFQX-UHFFFAOYSA-K doesn't exist\n",
      "No parent smiles for molecule SGMZJAMFUVOLNK-ULWFUOSBSA-M\n",
      "No parent smiles for molecule OKTJSMMVPCPJKN-UHFFFAOYSA-N\n",
      "No parent smiles for molecule GXGAKHNRMVGRPK-UHFFFAOYSA-N\n"
     ]
    },
    {
     "name": "stderr",
     "output_type": "stream",
     "text": [
      " 40%|███▉      | 353/887 [32:43<47:34,  5.35s/it]  "
     ]
    },
    {
     "name": "stdout",
     "output_type": "stream",
     "text": [
      "HTTPSConnectionPool(host='www.ebi.ac.uk', port=443): Max retries exceeded with url: /chembl/api/data/molecule/nan (Caused by ResponseError('too many 404 error responses',))\n",
      "Molecule nan doesn't exist\n"
     ]
    },
    {
     "name": "stderr",
     "output_type": "stream",
     "text": [
      " 40%|███▉      | 354/887 [32:55<57:43,  6.50s/it]"
     ]
    },
    {
     "name": "stdout",
     "output_type": "stream",
     "text": [
      "HTTPSConnectionPool(host='www.ebi.ac.uk', port=443): Max retries exceeded with url: /chembl/api/data/molecule/XMBWDFGMSWQBCA-RNFDNDRNSA-M (Caused by ResponseError('too many 404 error responses',))\n",
      "Molecule XMBWDFGMSWQBCA-RNFDNDRNSA-M doesn't exist\n"
     ]
    },
    {
     "name": "stderr",
     "output_type": "stream",
     "text": [
      " 40%|████      | 355/887 [33:08<1:07:21,  7.60s/it]"
     ]
    },
    {
     "name": "stdout",
     "output_type": "stream",
     "text": [
      "HTTPSConnectionPool(host='www.ebi.ac.uk', port=443): Max retries exceeded with url: /chembl/api/data/molecule/nan (Caused by ResponseError('too many 404 error responses',))\n",
      "Molecule nan doesn't exist\n"
     ]
    },
    {
     "name": "stderr",
     "output_type": "stream",
     "text": [
      " 40%|████      | 356/887 [33:21<1:16:19,  8.63s/it]"
     ]
    },
    {
     "name": "stdout",
     "output_type": "stream",
     "text": [
      "HTTPSConnectionPool(host='www.ebi.ac.uk', port=443): Max retries exceeded with url: /chembl/api/data/molecule/ZTFPRNKAHXDALS-RCUQKECRSA-N (Caused by ResponseError('too many 404 error responses',))\n",
      "Molecule ZTFPRNKAHXDALS-RCUQKECRSA-N doesn't exist\n",
      "No parent smiles for molecule FHNFHKCVQCLJFQ-NJFSPNSNSA-N\n"
     ]
    },
    {
     "name": "stderr",
     "output_type": "stream",
     "text": [
      " 40%|████      | 358/887 [33:33<1:08:27,  7.76s/it]"
     ]
    },
    {
     "name": "stdout",
     "output_type": "stream",
     "text": [
      "HTTPSConnectionPool(host='www.ebi.ac.uk', port=443): Max retries exceeded with url: /chembl/api/data/molecule/GBECUEIQVRDUKB-UHFFFAOYSA-M (Caused by ResponseError('too many 404 error responses',))\n",
      "Molecule GBECUEIQVRDUKB-UHFFFAOYSA-M doesn't exist\n"
     ]
    },
    {
     "name": "stderr",
     "output_type": "stream",
     "text": [
      " 40%|████      | 359/887 [33:46<1:17:08,  8.77s/it]"
     ]
    },
    {
     "name": "stdout",
     "output_type": "stream",
     "text": [
      "HTTPSConnectionPool(host='www.ebi.ac.uk', port=443): Max retries exceeded with url: /chembl/api/data/molecule/nan (Caused by ResponseError('too many 404 error responses',))\n",
      "Molecule nan doesn't exist\n"
     ]
    },
    {
     "name": "stderr",
     "output_type": "stream",
     "text": [
      " 41%|████      | 360/887 [33:59<1:24:43,  9.65s/it]"
     ]
    },
    {
     "name": "stdout",
     "output_type": "stream",
     "text": [
      "HTTPSConnectionPool(host='www.ebi.ac.uk', port=443): Max retries exceeded with url: /chembl/api/data/molecule/nan (Caused by ResponseError('too many 404 error responses',))\n",
      "Molecule nan doesn't exist\n"
     ]
    },
    {
     "name": "stderr",
     "output_type": "stream",
     "text": [
      " 41%|████      | 361/887 [34:11<1:31:20, 10.42s/it]"
     ]
    },
    {
     "name": "stdout",
     "output_type": "stream",
     "text": [
      "HTTPSConnectionPool(host='www.ebi.ac.uk', port=443): Max retries exceeded with url: /chembl/api/data/molecule/XLOMVQKBTHCTTD-UHFFFAOYSA-N (Caused by ResponseError('too many 404 error responses',))\n",
      "Molecule XLOMVQKBTHCTTD-UHFFFAOYSA-N doesn't exist\n",
      "No parent smiles for molecule NWONKYPBYAMBJT-UHFFFAOYSA-L\n",
      "No parent smiles for molecule PUZPDOWCWNUUKD-UHFFFAOYSA-M\n",
      "No parent smiles for molecule QGZKDVFQNNGYKY-BJUDXGSMSA-N\n"
     ]
    },
    {
     "name": "stderr",
     "output_type": "stream",
     "text": [
      " 41%|████      | 365/887 [34:24<53:44,  6.18s/it]  "
     ]
    },
    {
     "name": "stdout",
     "output_type": "stream",
     "text": [
      "HTTPSConnectionPool(host='www.ebi.ac.uk', port=443): Max retries exceeded with url: /chembl/api/data/molecule/DHMYGZIEILLVNR-UHFFFAOYSA-N (Caused by ResponseError('too many 404 error responses',))\n",
      "Molecule DHMYGZIEILLVNR-UHFFFAOYSA-N doesn't exist\n"
     ]
    },
    {
     "name": "stderr",
     "output_type": "stream",
     "text": [
      " 41%|████▏     | 366/887 [34:37<1:03:16,  7.29s/it]"
     ]
    },
    {
     "name": "stdout",
     "output_type": "stream",
     "text": [
      "HTTPSConnectionPool(host='www.ebi.ac.uk', port=443): Max retries exceeded with url: /chembl/api/data/molecule/GZBACHSOZNEZOG-UHFFFAOYSA-J (Caused by ResponseError('too many 404 error responses',))\n",
      "Molecule GZBACHSOZNEZOG-UHFFFAOYSA-J doesn't exist\n"
     ]
    },
    {
     "name": "stderr",
     "output_type": "stream",
     "text": [
      " 41%|████▏     | 368/887 [34:49<1:00:12,  6.96s/it]"
     ]
    },
    {
     "name": "stdout",
     "output_type": "stream",
     "text": [
      "HTTPSConnectionPool(host='www.ebi.ac.uk', port=443): Max retries exceeded with url: /chembl/api/data/molecule/nan (Caused by ResponseError('too many 404 error responses',))\n",
      "Molecule nan doesn't exist\n"
     ]
    },
    {
     "name": "stderr",
     "output_type": "stream",
     "text": [
      " 42%|████▏     | 369/887 [35:02<1:10:00,  8.11s/it]"
     ]
    },
    {
     "name": "stdout",
     "output_type": "stream",
     "text": [
      "HTTPSConnectionPool(host='www.ebi.ac.uk', port=443): Max retries exceeded with url: /chembl/api/data/molecule/nan (Caused by ResponseError('too many 404 error responses',))\n",
      "Molecule nan doesn't exist\n"
     ]
    },
    {
     "name": "stderr",
     "output_type": "stream",
     "text": [
      " 42%|████▏     | 370/887 [35:15<1:18:17,  9.09s/it]"
     ]
    },
    {
     "name": "stdout",
     "output_type": "stream",
     "text": [
      "HTTPSConnectionPool(host='www.ebi.ac.uk', port=443): Max retries exceeded with url: /chembl/api/data/molecule/nan (Caused by ResponseError('too many 404 error responses',))\n",
      "Molecule nan doesn't exist\n"
     ]
    },
    {
     "name": "stderr",
     "output_type": "stream",
     "text": [
      " 42%|████▏     | 371/887 [35:28<1:25:25,  9.93s/it]"
     ]
    },
    {
     "name": "stdout",
     "output_type": "stream",
     "text": [
      "HTTPSConnectionPool(host='www.ebi.ac.uk', port=443): Max retries exceeded with url: /chembl/api/data/molecule/JLQNHALFVCURHW-UHFFFAOYSA-N (Caused by ResponseError('too many 404 error responses',))\n",
      "Molecule JLQNHALFVCURHW-UHFFFAOYSA-N doesn't exist\n"
     ]
    },
    {
     "name": "stderr",
     "output_type": "stream",
     "text": [
      " 42%|████▏     | 372/887 [35:40<1:31:28, 10.66s/it]"
     ]
    },
    {
     "name": "stdout",
     "output_type": "stream",
     "text": [
      "HTTPSConnectionPool(host='www.ebi.ac.uk', port=443): Max retries exceeded with url: /chembl/api/data/molecule/XRCLWOYOVQUZLE-UHFFFAOYSA-M (Caused by ResponseError('too many 404 error responses',))\n",
      "Molecule XRCLWOYOVQUZLE-UHFFFAOYSA-M doesn't exist\n"
     ]
    },
    {
     "name": "stderr",
     "output_type": "stream",
     "text": [
      " 42%|████▏     | 373/887 [35:53<1:35:51, 11.19s/it]"
     ]
    },
    {
     "name": "stdout",
     "output_type": "stream",
     "text": [
      "HTTPSConnectionPool(host='www.ebi.ac.uk', port=443): Max retries exceeded with url: /chembl/api/data/molecule/nan (Caused by ResponseError('too many 404 error responses',))\n",
      "Molecule nan doesn't exist\n",
      "No parent smiles for molecule BNIILDVGGAEEIG-JCIGTKTHSA-L\n"
     ]
    },
    {
     "name": "stderr",
     "output_type": "stream",
     "text": [
      " 42%|████▏     | 375/887 [36:06<1:18:07,  9.15s/it]"
     ]
    },
    {
     "name": "stdout",
     "output_type": "stream",
     "text": [
      "HTTPSConnectionPool(host='www.ebi.ac.uk', port=443): Max retries exceeded with url: /chembl/api/data/molecule/LRBQNJMCXXYXIU-YIILYMKVSA-N (Caused by ResponseError('too many 404 error responses',))\n",
      "Molecule LRBQNJMCXXYXIU-YIILYMKVSA-N doesn't exist\n"
     ]
    },
    {
     "name": "stderr",
     "output_type": "stream",
     "text": [
      " 42%|████▏     | 376/887 [36:19<1:25:42, 10.06s/it]"
     ]
    },
    {
     "name": "stdout",
     "output_type": "stream",
     "text": [
      "HTTPSConnectionPool(host='www.ebi.ac.uk', port=443): Max retries exceeded with url: /chembl/api/data/molecule/nan (Caused by ResponseError('too many 404 error responses',))\n",
      "Molecule nan doesn't exist\n",
      "No parent smiles for molecule BDBMLMBYCXNVMC-UHFFFAOYSA-O\n"
     ]
    },
    {
     "name": "stderr",
     "output_type": "stream",
     "text": [
      " 43%|████▎     | 378/887 [36:32<1:12:59,  8.60s/it]"
     ]
    },
    {
     "name": "stdout",
     "output_type": "stream",
     "text": [
      "HTTPSConnectionPool(host='www.ebi.ac.uk', port=443): Max retries exceeded with url: /chembl/api/data/molecule/nan (Caused by ResponseError('too many 404 error responses',))\n",
      "Molecule nan doesn't exist\n"
     ]
    },
    {
     "name": "stderr",
     "output_type": "stream",
     "text": [
      " 43%|████▎     | 379/887 [36:44<1:20:27,  9.50s/it]"
     ]
    },
    {
     "name": "stdout",
     "output_type": "stream",
     "text": [
      "HTTPSConnectionPool(host='www.ebi.ac.uk', port=443): Max retries exceeded with url: /chembl/api/data/molecule/OSCJJMKLQGAGML-UHFFFAOYSA-N (Caused by ResponseError('too many 404 error responses',))\n",
      "Molecule OSCJJMKLQGAGML-UHFFFAOYSA-N doesn't exist\n"
     ]
    },
    {
     "name": "stderr",
     "output_type": "stream",
     "text": [
      " 43%|████▎     | 380/887 [36:57<1:26:37, 10.25s/it]"
     ]
    },
    {
     "name": "stdout",
     "output_type": "stream",
     "text": [
      "HTTPSConnectionPool(host='www.ebi.ac.uk', port=443): Max retries exceeded with url: /chembl/api/data/molecule/PXLIDIMHPNPGMH-PJWPDVOUSA-N (Caused by ResponseError('too many 404 error responses',))\n",
      "Molecule PXLIDIMHPNPGMH-PJWPDVOUSA-N doesn't exist\n"
     ]
    },
    {
     "name": "stderr",
     "output_type": "stream",
     "text": [
      " 43%|████▎     | 381/887 [37:10<1:32:03, 10.92s/it]"
     ]
    },
    {
     "name": "stdout",
     "output_type": "stream",
     "text": [
      "HTTPSConnectionPool(host='www.ebi.ac.uk', port=443): Max retries exceeded with url: /chembl/api/data/molecule/nan (Caused by ResponseError('too many 404 error responses',))\n",
      "Molecule nan doesn't exist\n",
      "No parent smiles for molecule XYITYKDGJLHYPW-UDYUCQKZSA-M\n"
     ]
    },
    {
     "name": "stderr",
     "output_type": "stream",
     "text": [
      " 43%|████▎     | 383/887 [37:22<1:15:13,  8.95s/it]"
     ]
    },
    {
     "name": "stdout",
     "output_type": "stream",
     "text": [
      "HTTPSConnectionPool(host='www.ebi.ac.uk', port=443): Max retries exceeded with url: /chembl/api/data/molecule/FSCKVFYFBCQWRU-LFHMENBZSA-L (Caused by ResponseError('too many 404 error responses',))\n",
      "Molecule FSCKVFYFBCQWRU-LFHMENBZSA-L doesn't exist\n"
     ]
    },
    {
     "name": "stderr",
     "output_type": "stream",
     "text": [
      " 43%|████▎     | 384/887 [37:35<1:22:25,  9.83s/it]"
     ]
    },
    {
     "name": "stdout",
     "output_type": "stream",
     "text": [
      "HTTPSConnectionPool(host='www.ebi.ac.uk', port=443): Max retries exceeded with url: /chembl/api/data/molecule/WWYNJERNGUHSAO-UHFFFAOYSA-N (Caused by ResponseError('too many 404 error responses',))\n",
      "Molecule WWYNJERNGUHSAO-UHFFFAOYSA-N doesn't exist\n"
     ]
    },
    {
     "name": "stderr",
     "output_type": "stream",
     "text": [
      " 43%|████▎     | 385/887 [37:48<1:28:14, 10.55s/it]"
     ]
    },
    {
     "name": "stdout",
     "output_type": "stream",
     "text": [
      "HTTPSConnectionPool(host='www.ebi.ac.uk', port=443): Max retries exceeded with url: /chembl/api/data/molecule/FJTPHHNWVXNMEK-NLQOEHMXSA-N (Caused by ResponseError('too many 404 error responses',))\n",
      "Molecule FJTPHHNWVXNMEK-NLQOEHMXSA-N doesn't exist\n"
     ]
    },
    {
     "name": "stderr",
     "output_type": "stream",
     "text": [
      " 44%|████▎     | 386/887 [38:01<1:32:40, 11.10s/it]"
     ]
    },
    {
     "name": "stdout",
     "output_type": "stream",
     "text": [
      "HTTPSConnectionPool(host='www.ebi.ac.uk', port=443): Max retries exceeded with url: /chembl/api/data/molecule/KRHYYFGTRYWZRS-BJUDXGSMSA-M (Caused by ResponseError('too many 404 error responses',))\n",
      "Molecule KRHYYFGTRYWZRS-BJUDXGSMSA-M doesn't exist\n",
      "No parent smiles for molecule RJFAYQIBOAGBLC-ZEMBQCNESA-N\n",
      "No parent smiles for molecule XKPKPGCRSHFTKM-UHFFFAOYSA-L\n",
      "No parent smiles for molecule GNSKLFRGEWLPPA-UHFFFAOYSA-M\n",
      "No parent smiles for molecule ZPWVASYFFYYZEW-UHFFFAOYSA-L\n",
      "No parent smiles for molecule YLMGFJXSLBMXHK-UHFFFAOYSA-M\n",
      "No parent smiles for molecule PYMYPHUHKUWMLA-VPENINKCSA-N\n"
     ]
    },
    {
     "name": "stderr",
     "output_type": "stream",
     "text": [
      " 44%|████▍     | 394/887 [38:13<32:40,  3.98s/it]  "
     ]
    },
    {
     "name": "stdout",
     "output_type": "stream",
     "text": [
      "HTTPSConnectionPool(host='www.ebi.ac.uk', port=443): Max retries exceeded with url: /chembl/api/data/molecule/XMBWDFGMSWQBCA-AHCXROLUSA-M (Caused by ResponseError('too many 404 error responses',))\n",
      "Molecule XMBWDFGMSWQBCA-AHCXROLUSA-M doesn't exist\n",
      "No parent smiles for molecule XNSAINXGIQZQOO-SRVKXCTJSA-N\n"
     ]
    },
    {
     "name": "stderr",
     "output_type": "stream",
     "text": [
      " 45%|████▍     | 396/887 [38:26<36:41,  4.48s/it]"
     ]
    },
    {
     "name": "stdout",
     "output_type": "stream",
     "text": [
      "HTTPSConnectionPool(host='www.ebi.ac.uk', port=443): Max retries exceeded with url: /chembl/api/data/molecule/nan (Caused by ResponseError('too many 404 error responses',))\n",
      "Molecule nan doesn't exist\n"
     ]
    },
    {
     "name": "stderr",
     "output_type": "stream",
     "text": [
      " 45%|████▍     | 397/887 [38:39<45:27,  5.57s/it]"
     ]
    },
    {
     "name": "stdout",
     "output_type": "stream",
     "text": [
      "HTTPSConnectionPool(host='www.ebi.ac.uk', port=443): Max retries exceeded with url: /chembl/api/data/molecule/BLALCKLYSDDAOC-JWFOFJTQSA-K (Caused by ResponseError('too many 404 error responses',))\n",
      "Molecule BLALCKLYSDDAOC-JWFOFJTQSA-K doesn't exist\n",
      "No parent smiles for molecule DNNSSWSSYDEUBZ-OIOBTWANSA-N\n",
      "No parent smiles for molecule XYITYKDGJLHYPW-TWDNZPFZSA-M\n",
      "No parent smiles for molecule AJPJDKMHJJGVTQ-UHFFFAOYSA-M\n",
      "No parent smiles for molecule FHNFHKCVQCLJFQ-AHCXROLUSA-N\n",
      "No parent smiles for molecule PMZURENOXWZQFD-UHFFFAOYSA-L\n"
     ]
    },
    {
     "name": "stderr",
     "output_type": "stream",
     "text": [
      " 45%|████▌     | 403/887 [38:51<30:06,  3.73s/it]"
     ]
    },
    {
     "name": "stdout",
     "output_type": "stream",
     "text": [
      "HTTPSConnectionPool(host='www.ebi.ac.uk', port=443): Max retries exceeded with url: /chembl/api/data/molecule/AEGSYIKLTCZUEZ-FZTWWWDYSA-K (Caused by ResponseError('too many 404 error responses',))\n",
      "Molecule AEGSYIKLTCZUEZ-FZTWWWDYSA-K doesn't exist\n"
     ]
    },
    {
     "name": "stderr",
     "output_type": "stream",
     "text": [
      " 46%|████▌     | 404/887 [39:04<38:13,  4.75s/it]"
     ]
    },
    {
     "name": "stdout",
     "output_type": "stream",
     "text": [
      "HTTPSConnectionPool(host='www.ebi.ac.uk', port=443): Max retries exceeded with url: /chembl/api/data/molecule/NCCSSGKUIKYAJD-OIOBTWANSA-N (Caused by ResponseError('too many 404 error responses',))\n",
      "Molecule NCCSSGKUIKYAJD-OIOBTWANSA-N doesn't exist\n"
     ]
    },
    {
     "name": "stderr",
     "output_type": "stream",
     "text": [
      " 46%|████▌     | 405/887 [39:17<46:51,  5.83s/it]"
     ]
    },
    {
     "name": "stdout",
     "output_type": "stream",
     "text": [
      "HTTPSConnectionPool(host='www.ebi.ac.uk', port=443): Max retries exceeded with url: /chembl/api/data/molecule/ISEHJSHTIVKELA-DCWJVSPSSA-N (Caused by ResponseError('too many 404 error responses',))\n",
      "Molecule ISEHJSHTIVKELA-DCWJVSPSSA-N doesn't exist\n",
      "No parent smiles for molecule BFDWBSRJQZPEEB-UHFFFAOYSA-L\n",
      "No parent smiles for molecule XUHXFSYUBXNTHU-UHFFFAOYSA-N\n"
     ]
    },
    {
     "name": "stderr",
     "output_type": "stream",
     "text": [
      " 46%|████▌     | 408/887 [39:29<41:43,  5.23s/it]"
     ]
    },
    {
     "name": "stdout",
     "output_type": "stream",
     "text": [
      "HTTPSConnectionPool(host='www.ebi.ac.uk', port=443): Max retries exceeded with url: /chembl/api/data/molecule/PSCMQHVBLHHWTO-FZTWWWDYSA-K (Caused by ResponseError('too many 404 error responses',))\n",
      "Molecule PSCMQHVBLHHWTO-FZTWWWDYSA-K doesn't exist\n",
      "No parent smiles for molecule YBGZDTIWKVFICR-JLHYYAGUSA-N\n",
      "No parent smiles for molecule AHBGXTDRMVNFER-FCHARDOESA-L\n"
     ]
    },
    {
     "name": "stderr",
     "output_type": "stream",
     "text": [
      " 46%|████▋     | 411/887 [39:42<38:47,  4.89s/it]"
     ]
    },
    {
     "name": "stdout",
     "output_type": "stream",
     "text": [
      "HTTPSConnectionPool(host='www.ebi.ac.uk', port=443): Max retries exceeded with url: /chembl/api/data/molecule/FRHBOQMZUOWXQL-UHFFFAOYSA-N (Caused by ResponseError('too many 404 error responses',))\n",
      "Molecule FRHBOQMZUOWXQL-UHFFFAOYSA-N doesn't exist\n",
      "No parent smiles for molecule AOYNUTHNTBLRMT-MXWOLSILSA-N\n"
     ]
    },
    {
     "name": "stderr",
     "output_type": "stream",
     "text": [
      " 47%|████▋     | 413/887 [39:55<41:34,  5.26s/it]"
     ]
    },
    {
     "name": "stdout",
     "output_type": "stream",
     "text": [
      "HTTPSConnectionPool(host='www.ebi.ac.uk', port=443): Max retries exceeded with url: /chembl/api/data/molecule/nan (Caused by ResponseError('too many 404 error responses',))\n",
      "Molecule nan doesn't exist\n"
     ]
    },
    {
     "name": "stderr",
     "output_type": "stream",
     "text": [
      " 47%|████▋     | 414/887 [40:08<50:15,  6.37s/it]"
     ]
    },
    {
     "name": "stdout",
     "output_type": "stream",
     "text": [
      "HTTPSConnectionPool(host='www.ebi.ac.uk', port=443): Max retries exceeded with url: /chembl/api/data/molecule/nan (Caused by ResponseError('too many 404 error responses',))\n",
      "Molecule nan doesn't exist\n",
      "No parent smiles for molecule XSQUKJJJFZCRTK-OUBTZVSYSA-N\n"
     ]
    },
    {
     "name": "stderr",
     "output_type": "stream",
     "text": [
      " 47%|████▋     | 416/887 [40:20<50:04,  6.38s/it]"
     ]
    },
    {
     "name": "stdout",
     "output_type": "stream",
     "text": [
      "HTTPSConnectionPool(host='www.ebi.ac.uk', port=443): Max retries exceeded with url: /chembl/api/data/molecule/nan (Caused by ResponseError('too many 404 error responses',))\n",
      "Molecule nan doesn't exist\n"
     ]
    },
    {
     "name": "stderr",
     "output_type": "stream",
     "text": [
      " 47%|████▋     | 417/887 [40:33<58:33,  7.48s/it]"
     ]
    },
    {
     "name": "stdout",
     "output_type": "stream",
     "text": [
      "HTTPSConnectionPool(host='www.ebi.ac.uk', port=443): Max retries exceeded with url: /chembl/api/data/molecule/AMTWCFIAVKBGOD-UHFFFAOYSA-N (Caused by ResponseError('too many 404 error responses',))\n",
      "Molecule AMTWCFIAVKBGOD-UHFFFAOYSA-N doesn't exist\n",
      "No parent smiles for molecule XSQUKJJJFZCRTK-NJFSPNSNSA-N\n"
     ]
    },
    {
     "name": "stderr",
     "output_type": "stream",
     "text": [
      " 47%|████▋     | 419/887 [40:46<55:22,  7.10s/it]"
     ]
    },
    {
     "name": "stdout",
     "output_type": "stream",
     "text": [
      "HTTPSConnectionPool(host='www.ebi.ac.uk', port=443): Max retries exceeded with url: /chembl/api/data/molecule/MQBDAEHWGRMADS-XNHLMZCASA-M (Caused by ResponseError('too many 404 error responses',))\n",
      "Molecule MQBDAEHWGRMADS-XNHLMZCASA-M doesn't exist\n"
     ]
    },
    {
     "name": "stderr",
     "output_type": "stream",
     "text": [
      " 47%|████▋     | 420/887 [40:58<1:03:27,  8.15s/it]"
     ]
    },
    {
     "name": "stdout",
     "output_type": "stream",
     "text": [
      "HTTPSConnectionPool(host='www.ebi.ac.uk', port=443): Max retries exceeded with url: /chembl/api/data/molecule/nan (Caused by ResponseError('too many 404 error responses',))\n",
      "Molecule nan doesn't exist\n"
     ]
    },
    {
     "name": "stderr",
     "output_type": "stream",
     "text": [
      " 47%|████▋     | 421/887 [41:11<1:10:51,  9.12s/it]"
     ]
    },
    {
     "name": "stdout",
     "output_type": "stream",
     "text": [
      "HTTPSConnectionPool(host='www.ebi.ac.uk', port=443): Max retries exceeded with url: /chembl/api/data/molecule/GWEVSGVZZGPLCZ-UHFFFAOYSA-N (Caused by ResponseError('too many 404 error responses',))\n",
      "Molecule GWEVSGVZZGPLCZ-UHFFFAOYSA-N doesn't exist\n"
     ]
    },
    {
     "name": "stderr",
     "output_type": "stream",
     "text": [
      " 48%|████▊     | 422/887 [41:24<1:17:10,  9.96s/it]"
     ]
    },
    {
     "name": "stdout",
     "output_type": "stream",
     "text": [
      "HTTPSConnectionPool(host='www.ebi.ac.uk', port=443): Max retries exceeded with url: /chembl/api/data/molecule/nan (Caused by ResponseError('too many 404 error responses',))\n",
      "Molecule nan doesn't exist\n"
     ]
    },
    {
     "name": "stderr",
     "output_type": "stream",
     "text": [
      " 48%|████▊     | 423/887 [41:36<1:22:11, 10.63s/it]"
     ]
    },
    {
     "name": "stdout",
     "output_type": "stream",
     "text": [
      "HTTPSConnectionPool(host='www.ebi.ac.uk', port=443): Max retries exceeded with url: /chembl/api/data/molecule/nan (Caused by ResponseError('too many 404 error responses',))\n",
      "Molecule nan doesn't exist\n",
      "No parent smiles for molecule XNACDNPGABUBFR-FKNPGSCZSA-N\n",
      "No parent smiles for molecule DBAKFASWICGISY-DASCVMRKSA-N\n"
     ]
    },
    {
     "name": "stderr",
     "output_type": "stream",
     "text": [
      " 48%|████▊     | 426/887 [41:49<56:14,  7.32s/it]  "
     ]
    },
    {
     "name": "stdout",
     "output_type": "stream",
     "text": [
      "HTTPSConnectionPool(host='www.ebi.ac.uk', port=443): Max retries exceeded with url: /chembl/api/data/molecule/GEKBIENFFVFKRG-UHFFFAOYSA-L (Caused by ResponseError('too many 404 error responses',))\n",
      "Molecule GEKBIENFFVFKRG-UHFFFAOYSA-L doesn't exist\n"
     ]
    },
    {
     "name": "stderr",
     "output_type": "stream",
     "text": [
      " 48%|████▊     | 427/887 [42:02<1:04:24,  8.40s/it]"
     ]
    },
    {
     "name": "stdout",
     "output_type": "stream",
     "text": [
      "HTTPSConnectionPool(host='www.ebi.ac.uk', port=443): Max retries exceeded with url: /chembl/api/data/molecule/OEYIOHPDSNJKLS-BJUDXGSMSA-N (Caused by ResponseError('too many 404 error responses',))\n",
      "Molecule OEYIOHPDSNJKLS-BJUDXGSMSA-N doesn't exist\n"
     ]
    },
    {
     "name": "stderr",
     "output_type": "stream",
     "text": [
      " 48%|████▊     | 428/887 [42:14<1:11:26,  9.34s/it]"
     ]
    },
    {
     "name": "stdout",
     "output_type": "stream",
     "text": [
      "HTTPSConnectionPool(host='www.ebi.ac.uk', port=443): Max retries exceeded with url: /chembl/api/data/molecule/nan (Caused by ResponseError('too many 404 error responses',))\n",
      "Molecule nan doesn't exist\n"
     ]
    },
    {
     "name": "stderr",
     "output_type": "stream",
     "text": [
      " 48%|████▊     | 429/887 [42:27<1:17:27, 10.15s/it]"
     ]
    },
    {
     "name": "stdout",
     "output_type": "stream",
     "text": [
      "HTTPSConnectionPool(host='www.ebi.ac.uk', port=443): Max retries exceeded with url: /chembl/api/data/molecule/nan (Caused by ResponseError('too many 404 error responses',))\n",
      "Molecule nan doesn't exist\n",
      "No parent smiles for molecule MYWUZJCMWCOHBA-SECBINFHSA-N\n"
     ]
    },
    {
     "name": "stderr",
     "output_type": "stream",
     "text": [
      " 49%|████▊     | 431/887 [42:40<1:05:32,  8.62s/it]"
     ]
    },
    {
     "name": "stdout",
     "output_type": "stream",
     "text": [
      "HTTPSConnectionPool(host='www.ebi.ac.uk', port=443): Max retries exceeded with url: /chembl/api/data/molecule/AXZWODMDQAVCJE-UHFFFAOYSA-L (Caused by ResponseError('too many 404 error responses',))\n",
      "Molecule AXZWODMDQAVCJE-UHFFFAOYSA-L doesn't exist\n"
     ]
    },
    {
     "name": "stderr",
     "output_type": "stream",
     "text": [
      " 49%|████▊     | 432/887 [42:53<1:12:27,  9.56s/it]"
     ]
    },
    {
     "name": "stdout",
     "output_type": "stream",
     "text": [
      "HTTPSConnectionPool(host='www.ebi.ac.uk', port=443): Max retries exceeded with url: /chembl/api/data/molecule/nan (Caused by ResponseError('too many 404 error responses',))\n",
      "Molecule nan doesn't exist\n"
     ]
    },
    {
     "name": "stderr",
     "output_type": "stream",
     "text": [
      " 49%|████▉     | 433/887 [43:05<1:17:54, 10.30s/it]"
     ]
    },
    {
     "name": "stdout",
     "output_type": "stream",
     "text": [
      "HTTPSConnectionPool(host='www.ebi.ac.uk', port=443): Max retries exceeded with url: /chembl/api/data/molecule/nan (Caused by ResponseError('too many 404 error responses',))\n",
      "Molecule nan doesn't exist\n"
     ]
    },
    {
     "name": "stderr",
     "output_type": "stream",
     "text": [
      " 49%|████▉     | 434/887 [43:18<1:22:15, 10.89s/it]"
     ]
    },
    {
     "name": "stdout",
     "output_type": "stream",
     "text": [
      "HTTPSConnectionPool(host='www.ebi.ac.uk', port=443): Max retries exceeded with url: /chembl/api/data/molecule/nan (Caused by ResponseError('too many 404 error responses',))\n",
      "Molecule nan doesn't exist\n"
     ]
    },
    {
     "name": "stderr",
     "output_type": "stream",
     "text": [
      " 49%|████▉     | 435/887 [43:31<1:26:13, 11.45s/it]"
     ]
    },
    {
     "name": "stdout",
     "output_type": "stream",
     "text": [
      "HTTPSConnectionPool(host='www.ebi.ac.uk', port=443): Max retries exceeded with url: /chembl/api/data/molecule/nan (Caused by ResponseError('too many 404 error responses',))\n",
      "Molecule nan doesn't exist\n"
     ]
    },
    {
     "name": "stderr",
     "output_type": "stream",
     "text": [
      " 49%|████▉     | 436/887 [43:43<1:28:30, 11.77s/it]"
     ]
    },
    {
     "name": "stdout",
     "output_type": "stream",
     "text": [
      "HTTPSConnectionPool(host='www.ebi.ac.uk', port=443): Max retries exceeded with url: /chembl/api/data/molecule/nan (Caused by ResponseError('too many 404 error responses',))\n",
      "Molecule nan doesn't exist\n",
      "No parent smiles for molecule FMRHJJZUHUTGKE-UHFFFAOYSA-N\n"
     ]
    },
    {
     "name": "stderr",
     "output_type": "stream",
     "text": [
      " 49%|████▉     | 438/887 [43:56<1:10:09,  9.37s/it]"
     ]
    },
    {
     "name": "stdout",
     "output_type": "stream",
     "text": [
      "HTTPSConnectionPool(host='www.ebi.ac.uk', port=443): Max retries exceeded with url: /chembl/api/data/molecule/nan (Caused by ResponseError('too many 404 error responses',))\n",
      "Molecule nan doesn't exist\n",
      "No parent smiles for molecule WSSJONWNBBTCMG-UHFFFAOYSA-N\n",
      "No parent smiles for molecule QYHFIVBSNOWOCQ-UHFFFAOYSA-N\n",
      "No parent smiles for molecule ZQBAKBUEJOMQEX-UHFFFAOYSA-N\n",
      "No parent smiles for molecule KRHYYFGTRYWZRS-UHFFFAOYSA-N\n"
     ]
    },
    {
     "name": "stderr",
     "output_type": "stream",
     "text": [
      " 50%|████▉     | 443/887 [44:09<38:37,  5.22s/it]  "
     ]
    },
    {
     "name": "stdout",
     "output_type": "stream",
     "text": [
      "HTTPSConnectionPool(host='www.ebi.ac.uk', port=443): Max retries exceeded with url: /chembl/api/data/molecule/nan (Caused by ResponseError('too many 404 error responses',))\n",
      "Molecule nan doesn't exist\n"
     ]
    },
    {
     "name": "stderr",
     "output_type": "stream",
     "text": [
      " 50%|█████     | 444/887 [44:22<46:44,  6.33s/it]"
     ]
    },
    {
     "name": "stdout",
     "output_type": "stream",
     "text": [
      "HTTPSConnectionPool(host='www.ebi.ac.uk', port=443): Max retries exceeded with url: /chembl/api/data/molecule/nan (Caused by ResponseError('too many 404 error responses',))\n",
      "Molecule nan doesn't exist\n"
     ]
    },
    {
     "name": "stderr",
     "output_type": "stream",
     "text": [
      " 50%|█████     | 445/887 [44:35<54:59,  7.47s/it]"
     ]
    },
    {
     "name": "stdout",
     "output_type": "stream",
     "text": [
      "HTTPSConnectionPool(host='www.ebi.ac.uk', port=443): Max retries exceeded with url: /chembl/api/data/molecule/nan (Caused by ResponseError('too many 404 error responses',))\n",
      "Molecule nan doesn't exist\n",
      "No parent smiles for molecule UEVAMYPIMMOEFW-UHFFFAOYSA-N\n",
      "No parent smiles for molecule SQGYOTSLMSWVJD-UHFFFAOYSA-N\n",
      "No parent smiles for molecule VSCWAEJMTAWNJL-UHFFFAOYSA-K\n"
     ]
    },
    {
     "name": "stderr",
     "output_type": "stream",
     "text": [
      " 51%|█████     | 449/887 [44:47<38:52,  5.33s/it]"
     ]
    },
    {
     "name": "stdout",
     "output_type": "stream",
     "text": [
      "HTTPSConnectionPool(host='www.ebi.ac.uk', port=443): Max retries exceeded with url: /chembl/api/data/molecule/nan (Caused by ResponseError('too many 404 error responses',))\n",
      "Molecule nan doesn't exist\n",
      "No parent smiles for molecule FGIUAXJPYTZDNR-UHFFFAOYSA-N\n"
     ]
    },
    {
     "name": "stderr",
     "output_type": "stream",
     "text": [
      " 51%|█████     | 451/887 [45:00<40:46,  5.61s/it]"
     ]
    },
    {
     "name": "stdout",
     "output_type": "stream",
     "text": [
      "HTTPSConnectionPool(host='www.ebi.ac.uk', port=443): Max retries exceeded with url: /chembl/api/data/molecule/ANOBYBYXJXCGBS-UHFFFAOYSA-L (Caused by ResponseError('too many 404 error responses',))\n",
      "Molecule ANOBYBYXJXCGBS-UHFFFAOYSA-L doesn't exist\n"
     ]
    },
    {
     "name": "stderr",
     "output_type": "stream",
     "text": [
      " 51%|█████     | 452/887 [45:13<48:43,  6.72s/it]"
     ]
    },
    {
     "name": "stdout",
     "output_type": "stream",
     "text": [
      "HTTPSConnectionPool(host='www.ebi.ac.uk', port=443): Max retries exceeded with url: /chembl/api/data/molecule/nan (Caused by ResponseError('too many 404 error responses',))\n",
      "Molecule nan doesn't exist\n",
      "No parent smiles for molecule SOXAGEOHPCXXIO-UHFFFAOYSA-N\n",
      "No parent smiles for molecule POJWUDADGALRAB-UHFFFAOYSA-N\n",
      "No parent smiles for molecule CAHKINHBCWCHCF-JTQLQIEISA-N\n",
      "No parent smiles for molecule SFZCNBIFKDRMGX-UHFFFAOYSA-N\n"
     ]
    },
    {
     "name": "stderr",
     "output_type": "stream",
     "text": [
      " 52%|█████▏    | 457/887 [45:26<32:19,  4.51s/it]"
     ]
    },
    {
     "name": "stdout",
     "output_type": "stream",
     "text": [
      "HTTPSConnectionPool(host='www.ebi.ac.uk', port=443): Max retries exceeded with url: /chembl/api/data/molecule/nan (Caused by ResponseError('too many 404 error responses',))\n",
      "Molecule nan doesn't exist\n"
     ]
    },
    {
     "name": "stderr",
     "output_type": "stream",
     "text": [
      " 52%|█████▏    | 458/887 [45:38<39:53,  5.58s/it]"
     ]
    },
    {
     "name": "stdout",
     "output_type": "stream",
     "text": [
      "HTTPSConnectionPool(host='www.ebi.ac.uk', port=443): Max retries exceeded with url: /chembl/api/data/molecule/nan (Caused by ResponseError('too many 404 error responses',))\n",
      "Molecule nan doesn't exist\n"
     ]
    },
    {
     "name": "stderr",
     "output_type": "stream",
     "text": [
      " 52%|█████▏    | 459/887 [45:51<47:48,  6.70s/it]"
     ]
    },
    {
     "name": "stdout",
     "output_type": "stream",
     "text": [
      "HTTPSConnectionPool(host='www.ebi.ac.uk', port=443): Max retries exceeded with url: /chembl/api/data/molecule/nan (Caused by ResponseError('too many 404 error responses',))\n",
      "Molecule nan doesn't exist\n"
     ]
    },
    {
     "name": "stderr",
     "output_type": "stream",
     "text": [
      " 52%|█████▏    | 460/887 [46:04<55:41,  7.83s/it]"
     ]
    },
    {
     "name": "stdout",
     "output_type": "stream",
     "text": [
      "HTTPSConnectionPool(host='www.ebi.ac.uk', port=443): Max retries exceeded with url: /chembl/api/data/molecule/nan (Caused by ResponseError('too many 404 error responses',))\n",
      "Molecule nan doesn't exist\n",
      "No parent smiles for molecule UVCJGUGAGLDPAA-UHFFFAOYSA-N\n"
     ]
    },
    {
     "name": "stderr",
     "output_type": "stream",
     "text": [
      " 52%|█████▏    | 462/887 [46:16<51:48,  7.31s/it]"
     ]
    },
    {
     "name": "stdout",
     "output_type": "stream",
     "text": [
      "HTTPSConnectionPool(host='www.ebi.ac.uk', port=443): Max retries exceeded with url: /chembl/api/data/molecule/nan (Caused by ResponseError('too many 404 error responses',))\n",
      "Molecule nan doesn't exist\n",
      "No parent smiles for molecule FRPZMMHWLSIFAZ-UHFFFAOYSA-N\n"
     ]
    },
    {
     "name": "stderr",
     "output_type": "stream",
     "text": [
      " 52%|█████▏    | 464/887 [46:29<49:15,  6.99s/it]"
     ]
    },
    {
     "name": "stdout",
     "output_type": "stream",
     "text": [
      "HTTPSConnectionPool(host='www.ebi.ac.uk', port=443): Max retries exceeded with url: /chembl/api/data/molecule/nan (Caused by ResponseError('too many 404 error responses',))\n",
      "Molecule nan doesn't exist\n",
      "No parent smiles for molecule FVAUCKIRQBBSSJ-UHFFFAOYSA-M\n"
     ]
    },
    {
     "name": "stderr",
     "output_type": "stream",
     "text": [
      " 53%|█████▎    | 466/887 [46:42<47:32,  6.78s/it]"
     ]
    },
    {
     "name": "stdout",
     "output_type": "stream",
     "text": [
      "HTTPSConnectionPool(host='www.ebi.ac.uk', port=443): Max retries exceeded with url: /chembl/api/data/molecule/nan (Caused by ResponseError('too many 404 error responses',))\n",
      "Molecule nan doesn't exist\n"
     ]
    },
    {
     "name": "stderr",
     "output_type": "stream",
     "text": [
      " 53%|█████▎    | 467/887 [46:54<55:14,  7.89s/it]"
     ]
    },
    {
     "name": "stdout",
     "output_type": "stream",
     "text": [
      "HTTPSConnectionPool(host='www.ebi.ac.uk', port=443): Max retries exceeded with url: /chembl/api/data/molecule/WQYVRQLZKVEZGA-UHFFFAOYSA-N (Caused by ResponseError('too many 404 error responses',))\n",
      "Molecule WQYVRQLZKVEZGA-UHFFFAOYSA-N doesn't exist\n"
     ]
    },
    {
     "name": "stderr",
     "output_type": "stream",
     "text": [
      " 53%|█████▎    | 468/887 [47:07<1:02:09,  8.90s/it]"
     ]
    },
    {
     "name": "stdout",
     "output_type": "stream",
     "text": [
      "HTTPSConnectionPool(host='www.ebi.ac.uk', port=443): Max retries exceeded with url: /chembl/api/data/molecule/nan (Caused by ResponseError('too many 404 error responses',))\n",
      "Molecule nan doesn't exist\n",
      "No parent smiles for molecule SIYLLGKDQZGJHK-UHFFFAOYSA-N\n",
      "No parent smiles for molecule MCAHWIHFGHIESP-UHFFFAOYSA-N\n",
      "No parent smiles for molecule AQLJVWUFPCUVLO-UHFFFAOYSA-N\n"
     ]
    },
    {
     "name": "stderr",
     "output_type": "stream",
     "text": [
      " 53%|█████▎    | 472/887 [47:20<39:56,  5.77s/it]  "
     ]
    },
    {
     "name": "stdout",
     "output_type": "stream",
     "text": [
      "HTTPSConnectionPool(host='www.ebi.ac.uk', port=443): Max retries exceeded with url: /chembl/api/data/molecule/nan (Caused by ResponseError('too many 404 error responses',))\n",
      "Molecule nan doesn't exist\n",
      "No parent smiles for molecule VYPSYNLAJGMNEJ-UHFFFAOYSA-N\n"
     ]
    },
    {
     "name": "stderr",
     "output_type": "stream",
     "text": [
      " 53%|█████▎    | 474/887 [47:33<40:54,  5.94s/it]"
     ]
    },
    {
     "name": "stdout",
     "output_type": "stream",
     "text": [
      "HTTPSConnectionPool(host='www.ebi.ac.uk', port=443): Max retries exceeded with url: /chembl/api/data/molecule/nan (Caused by ResponseError('too many 404 error responses',))\n",
      "Molecule nan doesn't exist\n"
     ]
    },
    {
     "name": "stderr",
     "output_type": "stream",
     "text": [
      " 54%|█████▎    | 475/887 [47:45<48:37,  7.08s/it]"
     ]
    },
    {
     "name": "stdout",
     "output_type": "stream",
     "text": [
      "HTTPSConnectionPool(host='www.ebi.ac.uk', port=443): Max retries exceeded with url: /chembl/api/data/molecule/KKCXRELNMOYFLS-UHFFFAOYSA-N (Caused by ResponseError('too many 404 error responses',))\n",
      "Molecule KKCXRELNMOYFLS-UHFFFAOYSA-N doesn't exist\n"
     ]
    },
    {
     "name": "stderr",
     "output_type": "stream",
     "text": [
      " 54%|█████▎    | 476/887 [47:58<55:51,  8.16s/it]"
     ]
    },
    {
     "name": "stdout",
     "output_type": "stream",
     "text": [
      "HTTPSConnectionPool(host='www.ebi.ac.uk', port=443): Max retries exceeded with url: /chembl/api/data/molecule/BUGBHKTXTAQXES-UHFFFAOYSA-N (Caused by ResponseError('too many 404 error responses',))\n",
      "Molecule BUGBHKTXTAQXES-UHFFFAOYSA-N doesn't exist\n"
     ]
    },
    {
     "name": "stderr",
     "output_type": "stream",
     "text": [
      " 54%|█████▍    | 477/887 [48:11<1:02:21,  9.13s/it]"
     ]
    },
    {
     "name": "stdout",
     "output_type": "stream",
     "text": [
      "HTTPSConnectionPool(host='www.ebi.ac.uk', port=443): Max retries exceeded with url: /chembl/api/data/molecule/VYZAMTAEIAYCRO-UHFFFAOYSA-N (Caused by ResponseError('too many 404 error responses',))\n",
      "Molecule VYZAMTAEIAYCRO-UHFFFAOYSA-N doesn't exist\n"
     ]
    },
    {
     "name": "stderr",
     "output_type": "stream",
     "text": [
      " 54%|█████▍    | 478/887 [48:24<1:09:32, 10.20s/it]"
     ]
    },
    {
     "name": "stdout",
     "output_type": "stream",
     "text": [
      "HTTPSConnectionPool(host='www.ebi.ac.uk', port=443): Max retries exceeded with url: /chembl/api/data/molecule/ZOKXTWBITQBERF-UHFFFAOYSA-N (Caused by ResponseError('too many 404 error responses',))\n",
      "Molecule ZOKXTWBITQBERF-UHFFFAOYSA-N doesn't exist\n"
     ]
    },
    {
     "name": "stderr",
     "output_type": "stream",
     "text": [
      " 54%|█████▍    | 479/887 [48:37<1:13:36, 10.82s/it]"
     ]
    },
    {
     "name": "stdout",
     "output_type": "stream",
     "text": [
      "HTTPSConnectionPool(host='www.ebi.ac.uk', port=443): Max retries exceeded with url: /chembl/api/data/molecule/VYZAMTAEIAYCRO-BJUDXGSMSA-N (Caused by ResponseError('too many 404 error responses',))\n",
      "Molecule VYZAMTAEIAYCRO-BJUDXGSMSA-N doesn't exist\n"
     ]
    },
    {
     "name": "stderr",
     "output_type": "stream",
     "text": [
      " 54%|█████▍    | 480/887 [48:50<1:16:55, 11.34s/it]"
     ]
    },
    {
     "name": "stdout",
     "output_type": "stream",
     "text": [
      "HTTPSConnectionPool(host='www.ebi.ac.uk', port=443): Max retries exceeded with url: /chembl/api/data/molecule/OXHQNTSSPHKCPB-IYEMJOQQSA-L (Caused by ResponseError('too many 404 error responses',))\n",
      "Molecule OXHQNTSSPHKCPB-IYEMJOQQSA-L doesn't exist\n"
     ]
    },
    {
     "name": "stderr",
     "output_type": "stream",
     "text": [
      " 54%|█████▍    | 481/887 [49:02<1:19:19, 11.72s/it]"
     ]
    },
    {
     "name": "stdout",
     "output_type": "stream",
     "text": [
      "HTTPSConnectionPool(host='www.ebi.ac.uk', port=443): Max retries exceeded with url: /chembl/api/data/molecule/nan (Caused by ResponseError('too many 404 error responses',))\n",
      "Molecule nan doesn't exist\n",
      "No parent smiles for molecule MCJGNVYPOGVAJF-UHFFFAOYSA-N\n"
     ]
    },
    {
     "name": "stderr",
     "output_type": "stream",
     "text": [
      " 54%|█████▍    | 483/887 [49:15<1:02:56,  9.35s/it]"
     ]
    },
    {
     "name": "stdout",
     "output_type": "stream",
     "text": [
      "HTTPSConnectionPool(host='www.ebi.ac.uk', port=443): Max retries exceeded with url: /chembl/api/data/molecule/nan (Caused by ResponseError('too many 404 error responses',))\n",
      "Molecule nan doesn't exist\n"
     ]
    },
    {
     "name": "stderr",
     "output_type": "stream",
     "text": [
      " 55%|█████▍    | 484/887 [49:28<1:08:10, 10.15s/it]"
     ]
    },
    {
     "name": "stdout",
     "output_type": "stream",
     "text": [
      "HTTPSConnectionPool(host='www.ebi.ac.uk', port=443): Max retries exceeded with url: /chembl/api/data/molecule/nan (Caused by ResponseError('too many 404 error responses',))\n",
      "Molecule nan doesn't exist\n",
      "No parent smiles for molecule TZCXTZWJZNENPQ-UHFFFAOYSA-L\n",
      "No parent smiles for molecule HEMHJVSKTPXQMS-UHFFFAOYSA-M\n"
     ]
    },
    {
     "name": "stderr",
     "output_type": "stream",
     "text": [
      " 55%|█████▍    | 487/887 [49:40<47:36,  7.14s/it]  "
     ]
    },
    {
     "name": "stdout",
     "output_type": "stream",
     "text": [
      "HTTPSConnectionPool(host='www.ebi.ac.uk', port=443): Max retries exceeded with url: /chembl/api/data/molecule/nan (Caused by ResponseError('too many 404 error responses',))\n",
      "Molecule nan doesn't exist\n",
      "No parent smiles for molecule KWYUFKZDYYNOTN-UHFFFAOYSA-M\n"
     ]
    },
    {
     "name": "stderr",
     "output_type": "stream",
     "text": [
      " 55%|█████▌    | 489/887 [49:53<45:48,  6.91s/it]"
     ]
    },
    {
     "name": "stdout",
     "output_type": "stream",
     "text": [
      "HTTPSConnectionPool(host='www.ebi.ac.uk', port=443): Max retries exceeded with url: /chembl/api/data/molecule/nan (Caused by ResponseError('too many 404 error responses',))\n",
      "Molecule nan doesn't exist\n",
      "No parent smiles for molecule GRVFOGOEDUUMBP-UHFFFAOYSA-N\n",
      "No parent smiles for molecule IZRPKIZLIFYYKR-UHFFFAOYSA-N\n"
     ]
    },
    {
     "name": "stderr",
     "output_type": "stream",
     "text": [
      " 55%|█████▌    | 492/887 [50:06<38:29,  5.85s/it]"
     ]
    },
    {
     "name": "stdout",
     "output_type": "stream",
     "text": [
      "HTTPSConnectionPool(host='www.ebi.ac.uk', port=443): Max retries exceeded with url: /chembl/api/data/molecule/nan (Caused by ResponseError('too many 404 error responses',))\n",
      "Molecule nan doesn't exist\n"
     ]
    },
    {
     "name": "stderr",
     "output_type": "stream",
     "text": [
      " 56%|█████▌    | 493/887 [50:19<45:48,  6.97s/it]"
     ]
    },
    {
     "name": "stdout",
     "output_type": "stream",
     "text": [
      "HTTPSConnectionPool(host='www.ebi.ac.uk', port=443): Max retries exceeded with url: /chembl/api/data/molecule/RZQNBTMGBODDSK-UWVGGRQHSA-N (Caused by ResponseError('too many 404 error responses',))\n",
      "Molecule RZQNBTMGBODDSK-UWVGGRQHSA-N doesn't exist\n"
     ]
    },
    {
     "name": "stderr",
     "output_type": "stream",
     "text": [
      " 56%|█████▌    | 494/887 [50:32<52:43,  8.05s/it]"
     ]
    },
    {
     "name": "stdout",
     "output_type": "stream",
     "text": [
      "HTTPSConnectionPool(host='www.ebi.ac.uk', port=443): Max retries exceeded with url: /chembl/api/data/molecule/ZJXGOFZGZFVRHK-BALCVSAKSA-L (Caused by ResponseError('too many 404 error responses',))\n",
      "Molecule ZJXGOFZGZFVRHK-BALCVSAKSA-L doesn't exist\n"
     ]
    },
    {
     "name": "stderr",
     "output_type": "stream",
     "text": [
      " 56%|█████▌    | 495/887 [50:44<58:58,  9.03s/it]"
     ]
    },
    {
     "name": "stdout",
     "output_type": "stream",
     "text": [
      "HTTPSConnectionPool(host='www.ebi.ac.uk', port=443): Max retries exceeded with url: /chembl/api/data/molecule/nan (Caused by ResponseError('too many 404 error responses',))\n",
      "Molecule nan doesn't exist\n"
     ]
    },
    {
     "name": "stderr",
     "output_type": "stream",
     "text": [
      " 56%|█████▌    | 496/887 [50:58<1:05:20, 10.03s/it]"
     ]
    },
    {
     "name": "stdout",
     "output_type": "stream",
     "text": [
      "HTTPSConnectionPool(host='www.ebi.ac.uk', port=443): Max retries exceeded with url: /chembl/api/data/molecule/YHGPYBQVSJBGHH-UHFFFAOYSA-H (Caused by ResponseError('too many 404 error responses',))\n",
      "Molecule YHGPYBQVSJBGHH-UHFFFAOYSA-H doesn't exist\n",
      "No parent smiles for molecule JKQXZKUSFCKOGQ-QAYBQHTQSA-N\n"
     ]
    },
    {
     "name": "stderr",
     "output_type": "stream",
     "text": [
      " 56%|█████▌    | 498/887 [51:10<55:40,  8.59s/it]  "
     ]
    },
    {
     "name": "stdout",
     "output_type": "stream",
     "text": [
      "HTTPSConnectionPool(host='www.ebi.ac.uk', port=443): Max retries exceeded with url: /chembl/api/data/molecule/nan (Caused by ResponseError('too many 404 error responses',))\n",
      "Molecule nan doesn't exist\n"
     ]
    },
    {
     "name": "stderr",
     "output_type": "stream",
     "text": [
      " 56%|█████▋    | 499/887 [51:23<1:01:22,  9.49s/it]"
     ]
    },
    {
     "name": "stdout",
     "output_type": "stream",
     "text": [
      "HTTPSConnectionPool(host='www.ebi.ac.uk', port=443): Max retries exceeded with url: /chembl/api/data/molecule/nan (Caused by ResponseError('too many 404 error responses',))\n",
      "Molecule nan doesn't exist\n",
      "No parent smiles for molecule QCWJONLQSHEGEJ-UHFFFAOYSA-N\n"
     ]
    },
    {
     "name": "stderr",
     "output_type": "stream",
     "text": [
      " 56%|█████▋    | 501/887 [51:36<53:19,  8.29s/it]  "
     ]
    },
    {
     "name": "stdout",
     "output_type": "stream",
     "text": [
      "HTTPSConnectionPool(host='www.ebi.ac.uk', port=443): Max retries exceeded with url: /chembl/api/data/molecule/DGOBMKYRQHEFGQ-UHFFFAOYSA-L (Caused by ResponseError('too many 404 error responses',))\n",
      "Molecule DGOBMKYRQHEFGQ-UHFFFAOYSA-L doesn't exist\n",
      "No parent smiles for molecule DEGAKNSWVGKMLS-UHFFFAOYSA-N\n"
     ]
    },
    {
     "name": "stderr",
     "output_type": "stream",
     "text": [
      " 57%|█████▋    | 503/887 [51:48<48:27,  7.57s/it]"
     ]
    },
    {
     "name": "stdout",
     "output_type": "stream",
     "text": [
      "HTTPSConnectionPool(host='www.ebi.ac.uk', port=443): Max retries exceeded with url: /chembl/api/data/molecule/AACACXATQSKRQG-UHFFFAOYSA-L (Caused by ResponseError('too many 404 error responses',))\n",
      "Molecule AACACXATQSKRQG-UHFFFAOYSA-L doesn't exist\n",
      "No parent smiles for molecule DJWYOLJPSHDSAL-ROUUACIJSA-N\n"
     ]
    },
    {
     "name": "stderr",
     "output_type": "stream",
     "text": [
      " 57%|█████▋    | 505/887 [52:01<45:34,  7.16s/it]"
     ]
    },
    {
     "name": "stdout",
     "output_type": "stream",
     "text": [
      "HTTPSConnectionPool(host='www.ebi.ac.uk', port=443): Max retries exceeded with url: /chembl/api/data/molecule/ZIHHMGTYZOSFRC-OUCXYWSSSA-L (Caused by ResponseError('too many 404 error responses',))\n",
      "Molecule ZIHHMGTYZOSFRC-OUCXYWSSSA-L doesn't exist\n"
     ]
    },
    {
     "name": "stderr",
     "output_type": "stream",
     "text": [
      " 57%|█████▋    | 506/887 [52:14<52:16,  8.23s/it]"
     ]
    },
    {
     "name": "stdout",
     "output_type": "stream",
     "text": [
      "HTTPSConnectionPool(host='www.ebi.ac.uk', port=443): Max retries exceeded with url: /chembl/api/data/molecule/nan (Caused by ResponseError('too many 404 error responses',))\n",
      "Molecule nan doesn't exist\n"
     ]
    },
    {
     "name": "stderr",
     "output_type": "stream",
     "text": [
      " 57%|█████▋    | 507/887 [52:26<58:11,  9.19s/it]"
     ]
    },
    {
     "name": "stdout",
     "output_type": "stream",
     "text": [
      "HTTPSConnectionPool(host='www.ebi.ac.uk', port=443): Max retries exceeded with url: /chembl/api/data/molecule/NIBOCUPOPAKNJE-NVKWYWNSSA-L (Caused by ResponseError('too many 404 error responses',))\n",
      "Molecule NIBOCUPOPAKNJE-NVKWYWNSSA-L doesn't exist\n"
     ]
    },
    {
     "name": "stderr",
     "output_type": "stream",
     "text": [
      " 57%|█████▋    | 508/887 [52:39<1:03:21, 10.03s/it]"
     ]
    },
    {
     "name": "stdout",
     "output_type": "stream",
     "text": [
      "HTTPSConnectionPool(host='www.ebi.ac.uk', port=443): Max retries exceeded with url: /chembl/api/data/molecule/WYANSMZYIOPJFV-UHFFFAOYSA-L (Caused by ResponseError('too many 404 error responses',))\n",
      "Molecule WYANSMZYIOPJFV-UHFFFAOYSA-L doesn't exist\n"
     ]
    },
    {
     "name": "stderr",
     "output_type": "stream",
     "text": [
      " 57%|█████▋    | 509/887 [52:52<1:08:04, 10.81s/it]"
     ]
    },
    {
     "name": "stdout",
     "output_type": "stream",
     "text": [
      "HTTPSConnectionPool(host='www.ebi.ac.uk', port=443): Max retries exceeded with url: /chembl/api/data/molecule/SJOXEWUZWQYCGL-DVOMOZLQSA-N (Caused by ResponseError('too many 404 error responses',))\n",
      "Molecule SJOXEWUZWQYCGL-DVOMOZLQSA-N doesn't exist\n"
     ]
    },
    {
     "name": "stderr",
     "output_type": "stream",
     "text": [
      " 57%|█████▋    | 510/887 [53:05<1:11:30, 11.38s/it]"
     ]
    },
    {
     "name": "stdout",
     "output_type": "stream",
     "text": [
      "HTTPSConnectionPool(host='www.ebi.ac.uk', port=443): Max retries exceeded with url: /chembl/api/data/molecule/nan (Caused by ResponseError('too many 404 error responses',))\n",
      "Molecule nan doesn't exist\n"
     ]
    },
    {
     "name": "stderr",
     "output_type": "stream",
     "text": [
      " 58%|█████▊    | 511/887 [53:18<1:13:37, 11.75s/it]"
     ]
    },
    {
     "name": "stdout",
     "output_type": "stream",
     "text": [
      "HTTPSConnectionPool(host='www.ebi.ac.uk', port=443): Max retries exceeded with url: /chembl/api/data/molecule/nan (Caused by ResponseError('too many 404 error responses',))\n",
      "Molecule nan doesn't exist\n"
     ]
    },
    {
     "name": "stderr",
     "output_type": "stream",
     "text": [
      " 58%|█████▊    | 512/887 [53:31<1:15:07, 12.02s/it]"
     ]
    },
    {
     "name": "stdout",
     "output_type": "stream",
     "text": [
      "HTTPSConnectionPool(host='www.ebi.ac.uk', port=443): Max retries exceeded with url: /chembl/api/data/molecule/IMZDRXBSGZPLDE-UHFFFAOYSA-H (Caused by ResponseError('too many 404 error responses',))\n",
      "Molecule IMZDRXBSGZPLDE-UHFFFAOYSA-H doesn't exist\n",
      "No parent smiles for molecule XVAMCHGMPYWHNL-UHFFFAOYSA-N\n",
      "No parent smiles for molecule UBNYRXMKIIGMKK-RMKNXTFCSA-N\n"
     ]
    },
    {
     "name": "stderr",
     "output_type": "stream",
     "text": [
      " 58%|█████▊    | 515/887 [53:44<48:16,  7.79s/it]  "
     ]
    },
    {
     "name": "stdout",
     "output_type": "stream",
     "text": [
      "HTTPSConnectionPool(host='www.ebi.ac.uk', port=443): Max retries exceeded with url: /chembl/api/data/molecule/nan (Caused by ResponseError('too many 404 error responses',))\n",
      "Molecule nan doesn't exist\n"
     ]
    },
    {
     "name": "stderr",
     "output_type": "stream",
     "text": [
      " 58%|█████▊    | 516/887 [53:56<54:18,  8.78s/it]"
     ]
    },
    {
     "name": "stdout",
     "output_type": "stream",
     "text": [
      "HTTPSConnectionPool(host='www.ebi.ac.uk', port=443): Max retries exceeded with url: /chembl/api/data/molecule/nan (Caused by ResponseError('too many 404 error responses',))\n",
      "Molecule nan doesn't exist\n"
     ]
    },
    {
     "name": "stderr",
     "output_type": "stream",
     "text": [
      " 58%|█████▊    | 517/887 [54:09<59:34,  9.66s/it]"
     ]
    },
    {
     "name": "stdout",
     "output_type": "stream",
     "text": [
      "HTTPSConnectionPool(host='www.ebi.ac.uk', port=443): Max retries exceeded with url: /chembl/api/data/molecule/GIPOFCXYHMWROH-UHFFFAOYSA-L (Caused by ResponseError('too many 404 error responses',))\n",
      "Molecule GIPOFCXYHMWROH-UHFFFAOYSA-L doesn't exist\n",
      "No parent smiles for molecule BJRNKVDFDLYUGJ-RMPHRYRLSA-N\n",
      "No parent smiles for molecule HEOCBCNFKCOKBX-SDNWHVSQSA-N\n",
      "No parent smiles for molecule MEZZCSHVIGVWFI-UHFFFAOYSA-N\n"
     ]
    },
    {
     "name": "stderr",
     "output_type": "stream",
     "text": [
      " 59%|█████▊    | 521/887 [54:21<36:29,  5.98s/it]"
     ]
    },
    {
     "name": "stdout",
     "output_type": "stream",
     "text": [
      "HTTPSConnectionPool(host='www.ebi.ac.uk', port=443): Max retries exceeded with url: /chembl/api/data/molecule/nan (Caused by ResponseError('too many 404 error responses',))\n",
      "Molecule nan doesn't exist\n"
     ]
    },
    {
     "name": "stderr",
     "output_type": "stream",
     "text": [
      " 59%|█████▉    | 522/887 [54:34<43:11,  7.10s/it]"
     ]
    },
    {
     "name": "stdout",
     "output_type": "stream",
     "text": [
      "HTTPSConnectionPool(host='www.ebi.ac.uk', port=443): Max retries exceeded with url: /chembl/api/data/molecule/WAJCJDLRJVDSSD-UHFFFAOYSA-N (Caused by ResponseError('too many 404 error responses',))\n",
      "Molecule WAJCJDLRJVDSSD-UHFFFAOYSA-N doesn't exist\n"
     ]
    },
    {
     "name": "stderr",
     "output_type": "stream",
     "text": [
      " 59%|█████▉    | 523/887 [54:47<49:38,  8.18s/it]"
     ]
    },
    {
     "name": "stdout",
     "output_type": "stream",
     "text": [
      "HTTPSConnectionPool(host='www.ebi.ac.uk', port=443): Max retries exceeded with url: /chembl/api/data/molecule/nan (Caused by ResponseError('too many 404 error responses',))\n",
      "Molecule nan doesn't exist\n"
     ]
    },
    {
     "name": "stderr",
     "output_type": "stream",
     "text": [
      " 59%|█████▉    | 524/887 [55:00<55:49,  9.23s/it]"
     ]
    },
    {
     "name": "stdout",
     "output_type": "stream",
     "text": [
      "HTTPSConnectionPool(host='www.ebi.ac.uk', port=443): Max retries exceeded with url: /chembl/api/data/molecule/nan (Caused by ResponseError('too many 404 error responses',))\n",
      "Molecule nan doesn't exist\n",
      "No parent smiles for molecule OAIJSZIZWZSQBC-GYZMGTAESA-N\n"
     ]
    },
    {
     "name": "stderr",
     "output_type": "stream",
     "text": [
      " 59%|█████▉    | 526/887 [55:13<49:35,  8.24s/it]"
     ]
    },
    {
     "name": "stdout",
     "output_type": "stream",
     "text": [
      "HTTPSConnectionPool(host='www.ebi.ac.uk', port=443): Max retries exceeded with url: /chembl/api/data/molecule/nan (Caused by ResponseError('too many 404 error responses',))\n",
      "Molecule nan doesn't exist\n",
      "No parent smiles for molecule GULNIHOSWFYMRN-UHFFFAOYSA-N\n"
     ]
    },
    {
     "name": "stderr",
     "output_type": "stream",
     "text": [
      " 60%|█████▉    | 528/887 [55:26<45:22,  7.58s/it]"
     ]
    },
    {
     "name": "stdout",
     "output_type": "stream",
     "text": [
      "HTTPSConnectionPool(host='www.ebi.ac.uk', port=443): Max retries exceeded with url: /chembl/api/data/molecule/nan (Caused by ResponseError('too many 404 error responses',))\n",
      "Molecule nan doesn't exist\n"
     ]
    },
    {
     "name": "stderr",
     "output_type": "stream",
     "text": [
      " 60%|█████▉    | 529/887 [55:39<51:44,  8.67s/it]"
     ]
    },
    {
     "name": "stdout",
     "output_type": "stream",
     "text": [
      "HTTPSConnectionPool(host='www.ebi.ac.uk', port=443): Max retries exceeded with url: /chembl/api/data/molecule/nan (Caused by ResponseError('too many 404 error responses',))\n",
      "Molecule nan doesn't exist\n"
     ]
    },
    {
     "name": "stderr",
     "output_type": "stream",
     "text": [
      " 60%|█████▉    | 531/887 [55:51<46:23,  7.82s/it]"
     ]
    },
    {
     "name": "stdout",
     "output_type": "stream",
     "text": [
      "HTTPSConnectionPool(host='www.ebi.ac.uk', port=443): Max retries exceeded with url: /chembl/api/data/molecule/nan (Caused by ResponseError('too many 404 error responses',))\n",
      "Molecule nan doesn't exist\n"
     ]
    },
    {
     "name": "stderr",
     "output_type": "stream",
     "text": [
      " 60%|█████▉    | 532/887 [56:04<52:29,  8.87s/it]"
     ]
    },
    {
     "name": "stdout",
     "output_type": "stream",
     "text": [
      "HTTPSConnectionPool(host='www.ebi.ac.uk', port=443): Max retries exceeded with url: /chembl/api/data/molecule/nan (Caused by ResponseError('too many 404 error responses',))\n",
      "Molecule nan doesn't exist\n"
     ]
    },
    {
     "name": "stderr",
     "output_type": "stream",
     "text": [
      " 60%|██████    | 533/887 [56:17<58:03,  9.84s/it]"
     ]
    },
    {
     "name": "stdout",
     "output_type": "stream",
     "text": [
      "HTTPSConnectionPool(host='www.ebi.ac.uk', port=443): Max retries exceeded with url: /chembl/api/data/molecule/OCUCCJIRFHNWBP-IYEMJOQQSA-L (Caused by ResponseError('too many 404 error responses',))\n",
      "Molecule OCUCCJIRFHNWBP-IYEMJOQQSA-L doesn't exist\n",
      "No parent smiles for molecule WHMDKBIGKVEYHS-IYEMJOQQSA-L\n"
     ]
    },
    {
     "name": "stderr",
     "output_type": "stream",
     "text": [
      " 60%|██████    | 535/887 [56:30<49:34,  8.45s/it]"
     ]
    },
    {
     "name": "stdout",
     "output_type": "stream",
     "text": [
      "HTTPSConnectionPool(host='www.ebi.ac.uk', port=443): Max retries exceeded with url: /chembl/api/data/molecule/nan (Caused by ResponseError('too many 404 error responses',))\n",
      "Molecule nan doesn't exist\n"
     ]
    },
    {
     "name": "stderr",
     "output_type": "stream",
     "text": [
      " 60%|██████    | 536/887 [56:43<54:55,  9.39s/it]"
     ]
    },
    {
     "name": "stdout",
     "output_type": "stream",
     "text": [
      "HTTPSConnectionPool(host='www.ebi.ac.uk', port=443): Max retries exceeded with url: /chembl/api/data/molecule/nan (Caused by ResponseError('too many 404 error responses',))\n",
      "Molecule nan doesn't exist\n"
     ]
    },
    {
     "name": "stderr",
     "output_type": "stream",
     "text": [
      " 61%|██████    | 537/887 [56:56<59:39, 10.23s/it]"
     ]
    },
    {
     "name": "stdout",
     "output_type": "stream",
     "text": [
      "HTTPSConnectionPool(host='www.ebi.ac.uk', port=443): Max retries exceeded with url: /chembl/api/data/molecule/CBDQOLKNTOMMTL-UHFFFAOYSA-K (Caused by ResponseError('too many 404 error responses',))\n",
      "Molecule CBDQOLKNTOMMTL-UHFFFAOYSA-K doesn't exist\n"
     ]
    },
    {
     "name": "stderr",
     "output_type": "stream",
     "text": [
      " 61%|██████    | 538/887 [57:09<1:03:27, 10.91s/it]"
     ]
    },
    {
     "name": "stdout",
     "output_type": "stream",
     "text": [
      "HTTPSConnectionPool(host='www.ebi.ac.uk', port=443): Max retries exceeded with url: /chembl/api/data/molecule/KRHYYFGTRYWZRS-UHFFFAOYSA-M (Caused by ResponseError('too many 404 error responses',))\n",
      "Molecule KRHYYFGTRYWZRS-UHFFFAOYSA-M doesn't exist\n",
      "No parent smiles for molecule JPYYWXPAHJBKJX-VWSFRBHVSA-N\n"
     ]
    },
    {
     "name": "stderr",
     "output_type": "stream",
     "text": [
      " 61%|██████    | 540/887 [57:21<52:03,  9.00s/it]  "
     ]
    },
    {
     "name": "stdout",
     "output_type": "stream",
     "text": [
      "HTTPSConnectionPool(host='www.ebi.ac.uk', port=443): Max retries exceeded with url: /chembl/api/data/molecule/nan (Caused by ResponseError('too many 404 error responses',))\n",
      "Molecule nan doesn't exist\n",
      "No parent smiles for molecule FQUNFJULCYSSOP-UHFFFAOYSA-N\n",
      "No parent smiles for molecule HSTZMXCBWJGKHG-CUYWLFDKSA-N\n",
      "No parent smiles for molecule UHHRFSOMMCWGSO-UHFFFAOYSA-L\n"
     ]
    },
    {
     "name": "stderr",
     "output_type": "stream",
     "text": [
      " 61%|██████▏   | 544/887 [57:34<33:26,  5.85s/it]"
     ]
    },
    {
     "name": "stdout",
     "output_type": "stream",
     "text": [
      "HTTPSConnectionPool(host='www.ebi.ac.uk', port=443): Max retries exceeded with url: /chembl/api/data/molecule/nan (Caused by ResponseError('too many 404 error responses',))\n",
      "Molecule nan doesn't exist\n"
     ]
    },
    {
     "name": "stderr",
     "output_type": "stream",
     "text": [
      " 61%|██████▏   | 545/887 [57:47<39:47,  6.98s/it]"
     ]
    },
    {
     "name": "stdout",
     "output_type": "stream",
     "text": [
      "HTTPSConnectionPool(host='www.ebi.ac.uk', port=443): Max retries exceeded with url: /chembl/api/data/molecule/FDATWRLUYRHCJE-UHFFFAOYSA-N (Caused by ResponseError('too many 404 error responses',))\n",
      "Molecule FDATWRLUYRHCJE-UHFFFAOYSA-N doesn't exist\n"
     ]
    },
    {
     "name": "stderr",
     "output_type": "stream",
     "text": [
      " 62%|██████▏   | 546/887 [58:00<46:04,  8.11s/it]"
     ]
    },
    {
     "name": "stdout",
     "output_type": "stream",
     "text": [
      "HTTPSConnectionPool(host='www.ebi.ac.uk', port=443): Max retries exceeded with url: /chembl/api/data/molecule/nan (Caused by ResponseError('too many 404 error responses',))\n",
      "Molecule nan doesn't exist\n"
     ]
    },
    {
     "name": "stderr",
     "output_type": "stream",
     "text": [
      " 62%|██████▏   | 547/887 [58:13<51:47,  9.14s/it]"
     ]
    },
    {
     "name": "stdout",
     "output_type": "stream",
     "text": [
      "HTTPSConnectionPool(host='www.ebi.ac.uk', port=443): Max retries exceeded with url: /chembl/api/data/molecule/nan (Caused by ResponseError('too many 404 error responses',))\n",
      "Molecule nan doesn't exist\n",
      "No parent smiles for molecule PBUNVLRHZGSROC-VTIMJTGVSA-N\n",
      "No parent smiles for molecule SBFXHXZNBNFPHV-PXXBSISHSA-N\n"
     ]
    },
    {
     "name": "stderr",
     "output_type": "stream",
     "text": [
      " 62%|██████▏   | 551/887 [58:26<32:55,  5.88s/it]"
     ]
    },
    {
     "name": "stdout",
     "output_type": "stream",
     "text": [
      "HTTPSConnectionPool(host='www.ebi.ac.uk', port=443): Max retries exceeded with url: /chembl/api/data/molecule/nan (Caused by ResponseError('too many 404 error responses',))\n",
      "Molecule nan doesn't exist\n",
      "No parent smiles for molecule FMCGSUUBYTWNDP-ONGXEEELSA-N\n",
      "No parent smiles for molecule HXCILVUBKWANLN-UHFFFAOYSA-N\n",
      "No parent smiles for molecule CITHEXJVPOWHKC-UHFFFAOYSA-N\n"
     ]
    },
    {
     "name": "stderr",
     "output_type": "stream",
     "text": [
      " 63%|██████▎   | 555/887 [58:38<25:55,  4.68s/it]"
     ]
    },
    {
     "name": "stdout",
     "output_type": "stream",
     "text": [
      "HTTPSConnectionPool(host='www.ebi.ac.uk', port=443): Max retries exceeded with url: /chembl/api/data/molecule/BPHQZTVXXXJVHI-UHFFFAOYSA-N (Caused by ResponseError('too many 404 error responses',))\n",
      "Molecule BPHQZTVXXXJVHI-UHFFFAOYSA-N doesn't exist\n",
      "No parent smiles for molecule ATJVZXXHKSYELS-FNORWQNLSA-N\n"
     ]
    },
    {
     "name": "stderr",
     "output_type": "stream",
     "text": [
      " 63%|██████▎   | 557/887 [58:51<27:57,  5.08s/it]"
     ]
    },
    {
     "name": "stdout",
     "output_type": "stream",
     "text": [
      "HTTPSConnectionPool(host='www.ebi.ac.uk', port=443): Max retries exceeded with url: /chembl/api/data/molecule/nan (Caused by ResponseError('too many 404 error responses',))\n",
      "Molecule nan doesn't exist\n"
     ]
    },
    {
     "name": "stderr",
     "output_type": "stream",
     "text": [
      " 63%|██████▎   | 558/887 [59:04<34:21,  6.27s/it]"
     ]
    },
    {
     "name": "stdout",
     "output_type": "stream",
     "text": [
      "HTTPSConnectionPool(host='www.ebi.ac.uk', port=443): Max retries exceeded with url: /chembl/api/data/molecule/nan (Caused by ResponseError('too many 404 error responses',))\n",
      "Molecule nan doesn't exist\n"
     ]
    },
    {
     "name": "stderr",
     "output_type": "stream",
     "text": [
      " 63%|██████▎   | 559/887 [59:17<40:11,  7.35s/it]"
     ]
    },
    {
     "name": "stdout",
     "output_type": "stream",
     "text": [
      "HTTPSConnectionPool(host='www.ebi.ac.uk', port=443): Max retries exceeded with url: /chembl/api/data/molecule/nan (Caused by ResponseError('too many 404 error responses',))\n",
      "Molecule nan doesn't exist\n"
     ]
    },
    {
     "name": "stderr",
     "output_type": "stream",
     "text": [
      " 63%|██████▎   | 560/887 [59:30<45:49,  8.41s/it]"
     ]
    },
    {
     "name": "stdout",
     "output_type": "stream",
     "text": [
      "HTTPSConnectionPool(host='www.ebi.ac.uk', port=443): Max retries exceeded with url: /chembl/api/data/molecule/VLDFMKOUUQYFGF-UHFFFAOYSA-N (Caused by ResponseError('too many 404 error responses',))\n",
      "Molecule VLDFMKOUUQYFGF-UHFFFAOYSA-N doesn't exist\n"
     ]
    },
    {
     "name": "stderr",
     "output_type": "stream",
     "text": [
      " 63%|██████▎   | 561/887 [59:42<50:46,  9.34s/it]"
     ]
    },
    {
     "name": "stdout",
     "output_type": "stream",
     "text": [
      "HTTPSConnectionPool(host='www.ebi.ac.uk', port=443): Max retries exceeded with url: /chembl/api/data/molecule/nan (Caused by ResponseError('too many 404 error responses',))\n",
      "Molecule nan doesn't exist\n"
     ]
    },
    {
     "name": "stderr",
     "output_type": "stream",
     "text": [
      " 63%|██████▎   | 562/887 [59:55<55:02, 10.16s/it]"
     ]
    },
    {
     "name": "stdout",
     "output_type": "stream",
     "text": [
      "HTTPSConnectionPool(host='www.ebi.ac.uk', port=443): Max retries exceeded with url: /chembl/api/data/molecule/nan (Caused by ResponseError('too many 404 error responses',))\n",
      "Molecule nan doesn't exist\n",
      "No parent smiles for molecule LVYLCBNXHHHPSB-UHFFFAOYSA-N\n",
      "No parent smiles for molecule KGBXLFKZBHKPEV-UHFFFAOYSA-N\n",
      "No parent smiles for molecule ZHDBTKPXEJDTTQ-UHFFFAOYSA-N\n"
     ]
    },
    {
     "name": "stderr",
     "output_type": "stream",
     "text": [
      " 64%|██████▍   | 566/887 [1:00:08<32:51,  6.14s/it]"
     ]
    },
    {
     "name": "stdout",
     "output_type": "stream",
     "text": [
      "HTTPSConnectionPool(host='www.ebi.ac.uk', port=443): Max retries exceeded with url: /chembl/api/data/molecule/nan (Caused by ResponseError('too many 404 error responses',))\n",
      "Molecule nan doesn't exist\n"
     ]
    },
    {
     "name": "stderr",
     "output_type": "stream",
     "text": [
      " 64%|██████▍   | 567/887 [1:00:21<38:55,  7.30s/it]"
     ]
    },
    {
     "name": "stdout",
     "output_type": "stream",
     "text": [
      "HTTPSConnectionPool(host='www.ebi.ac.uk', port=443): Max retries exceeded with url: /chembl/api/data/molecule/PAZGBAOHGQRCBP-DDDNOICHSA-N (Caused by ResponseError('too many 404 error responses',))\n",
      "Molecule PAZGBAOHGQRCBP-DDDNOICHSA-N doesn't exist\n",
      "No parent smiles for molecule QSIRXSYRKZHJHX-TWXHAJHVSA-N\n"
     ]
    },
    {
     "name": "stderr",
     "output_type": "stream",
     "text": [
      " 64%|██████▍   | 569/887 [1:00:33<36:57,  6.97s/it]"
     ]
    },
    {
     "name": "stdout",
     "output_type": "stream",
     "text": [
      "HTTPSConnectionPool(host='www.ebi.ac.uk', port=443): Max retries exceeded with url: /chembl/api/data/molecule/nan (Caused by ResponseError('too many 404 error responses',))\n",
      "Molecule nan doesn't exist\n",
      "No parent smiles for molecule QANMHLXAZMSUEX-UHFFFAOYSA-N\n"
     ]
    },
    {
     "name": "stderr",
     "output_type": "stream",
     "text": [
      " 64%|██████▍   | 571/887 [1:00:46<35:45,  6.79s/it]"
     ]
    },
    {
     "name": "stdout",
     "output_type": "stream",
     "text": [
      "HTTPSConnectionPool(host='www.ebi.ac.uk', port=443): Max retries exceeded with url: /chembl/api/data/molecule/QNTNKSLOFHEFPK-UPTCCGCDSA-N (Caused by ResponseError('too many 404 error responses',))\n",
      "Molecule QNTNKSLOFHEFPK-UPTCCGCDSA-N doesn't exist\n"
     ]
    },
    {
     "name": "stderr",
     "output_type": "stream",
     "text": [
      " 64%|██████▍   | 572/887 [1:00:59<41:48,  7.96s/it]"
     ]
    },
    {
     "name": "stdout",
     "output_type": "stream",
     "text": [
      "HTTPSConnectionPool(host='www.ebi.ac.uk', port=443): Max retries exceeded with url: /chembl/api/data/molecule/nan (Caused by ResponseError('too many 404 error responses',))\n",
      "Molecule nan doesn't exist\n"
     ]
    },
    {
     "name": "stderr",
     "output_type": "stream",
     "text": [
      " 65%|██████▍   | 573/887 [1:01:12<46:47,  8.94s/it]"
     ]
    },
    {
     "name": "stdout",
     "output_type": "stream",
     "text": [
      "HTTPSConnectionPool(host='www.ebi.ac.uk', port=443): Max retries exceeded with url: /chembl/api/data/molecule/PNEYBMLMFCGWSK-UHFFFAOYSA-N (Caused by ResponseError('too many 404 error responses',))\n",
      "Molecule PNEYBMLMFCGWSK-UHFFFAOYSA-N doesn't exist\n"
     ]
    },
    {
     "name": "stderr",
     "output_type": "stream",
     "text": [
      " 65%|██████▍   | 574/887 [1:01:25<51:09,  9.81s/it]"
     ]
    },
    {
     "name": "stdout",
     "output_type": "stream",
     "text": [
      "HTTPSConnectionPool(host='www.ebi.ac.uk', port=443): Max retries exceeded with url: /chembl/api/data/molecule/SCPYDCQAZCOKTP-UHFFFAOYSA-N (Caused by ResponseError('too many 404 error responses',))\n",
      "Molecule SCPYDCQAZCOKTP-UHFFFAOYSA-N doesn't exist\n",
      "No parent smiles for molecule IGLNJRXAVVLDKE-UHFFFAOYSA-N\n",
      "No parent smiles for molecule QORWJWZARLRLPR-UHFFFAOYSA-H\n"
     ]
    },
    {
     "name": "stderr",
     "output_type": "stream",
     "text": [
      " 65%|██████▌   | 577/887 [1:01:38<36:38,  7.09s/it]"
     ]
    },
    {
     "name": "stdout",
     "output_type": "stream",
     "text": [
      "HTTPSConnectionPool(host='www.ebi.ac.uk', port=443): Max retries exceeded with url: /chembl/api/data/molecule/nan (Caused by ResponseError('too many 404 error responses',))\n",
      "Molecule nan doesn't exist\n"
     ]
    },
    {
     "name": "stderr",
     "output_type": "stream",
     "text": [
      " 65%|██████▌   | 578/887 [1:01:51<42:26,  8.24s/it]"
     ]
    },
    {
     "name": "stdout",
     "output_type": "stream",
     "text": [
      "HTTPSConnectionPool(host='www.ebi.ac.uk', port=443): Max retries exceeded with url: /chembl/api/data/molecule/nan (Caused by ResponseError('too many 404 error responses',))\n",
      "Molecule nan doesn't exist\n"
     ]
    },
    {
     "name": "stderr",
     "output_type": "stream",
     "text": [
      " 65%|██████▌   | 579/887 [1:02:04<47:24,  9.24s/it]"
     ]
    },
    {
     "name": "stdout",
     "output_type": "stream",
     "text": [
      "HTTPSConnectionPool(host='www.ebi.ac.uk', port=443): Max retries exceeded with url: /chembl/api/data/molecule/nan (Caused by ResponseError('too many 404 error responses',))\n",
      "Molecule nan doesn't exist\n"
     ]
    },
    {
     "name": "stderr",
     "output_type": "stream",
     "text": [
      " 65%|██████▌   | 580/887 [1:02:16<51:22, 10.04s/it]"
     ]
    },
    {
     "name": "stdout",
     "output_type": "stream",
     "text": [
      "HTTPSConnectionPool(host='www.ebi.ac.uk', port=443): Max retries exceeded with url: /chembl/api/data/molecule/nan (Caused by ResponseError('too many 404 error responses',))\n",
      "Molecule nan doesn't exist\n",
      "No parent smiles for molecule LHGVFZTZFXWLCP-UHFFFAOYSA-N\n"
     ]
    },
    {
     "name": "stderr",
     "output_type": "stream",
     "text": [
      " 66%|██████▌   | 582/887 [1:02:29<43:38,  8.59s/it]"
     ]
    },
    {
     "name": "stdout",
     "output_type": "stream",
     "text": [
      "HTTPSConnectionPool(host='www.ebi.ac.uk', port=443): Max retries exceeded with url: /chembl/api/data/molecule/nan (Caused by ResponseError('too many 404 error responses',))\n",
      "Molecule nan doesn't exist\n",
      "No parent smiles for molecule YXIWHUQXZSMYRE-UHFFFAOYSA-N\n"
     ]
    },
    {
     "name": "stderr",
     "output_type": "stream",
     "text": [
      " 66%|██████▌   | 584/887 [1:02:42<39:18,  7.78s/it]"
     ]
    },
    {
     "name": "stdout",
     "output_type": "stream",
     "text": [
      "HTTPSConnectionPool(host='www.ebi.ac.uk', port=443): Max retries exceeded with url: /chembl/api/data/molecule/ZLVPDILYQLCEJO-UHFFFAOYSA-H (Caused by ResponseError('too many 404 error responses',))\n",
      "Molecule ZLVPDILYQLCEJO-UHFFFAOYSA-H doesn't exist\n",
      "No parent smiles for molecule CFZXDJWFRVEWSR-BUHFOSPRSA-N\n"
     ]
    },
    {
     "name": "stderr",
     "output_type": "stream",
     "text": [
      " 66%|██████▌   | 586/887 [1:02:55<36:33,  7.29s/it]"
     ]
    },
    {
     "name": "stdout",
     "output_type": "stream",
     "text": [
      "HTTPSConnectionPool(host='www.ebi.ac.uk', port=443): Max retries exceeded with url: /chembl/api/data/molecule/nan (Caused by ResponseError('too many 404 error responses',))\n",
      "Molecule nan doesn't exist\n"
     ]
    },
    {
     "name": "stderr",
     "output_type": "stream",
     "text": [
      " 66%|██████▌   | 587/887 [1:03:07<41:49,  8.36s/it]"
     ]
    },
    {
     "name": "stdout",
     "output_type": "stream",
     "text": [
      "HTTPSConnectionPool(host='www.ebi.ac.uk', port=443): Max retries exceeded with url: /chembl/api/data/molecule/nan (Caused by ResponseError('too many 404 error responses',))\n",
      "Molecule nan doesn't exist\n",
      "No parent smiles for molecule QDYLMAYUEZBUFO-UHFFFAOYSA-N\n",
      "No parent smiles for molecule XSWHNYGMWWVAIE-UHFFFAOYSA-N\n"
     ]
    },
    {
     "name": "stderr",
     "output_type": "stream",
     "text": [
      " 67%|██████▋   | 590/887 [1:03:20<31:58,  6.46s/it]"
     ]
    },
    {
     "name": "stdout",
     "output_type": "stream",
     "text": [
      "HTTPSConnectionPool(host='www.ebi.ac.uk', port=443): Max retries exceeded with url: /chembl/api/data/molecule/HUVYTMDMDZRHBN-UHFFFAOYSA-N (Caused by ResponseError('too many 404 error responses',))\n",
      "Molecule HUVYTMDMDZRHBN-UHFFFAOYSA-N doesn't exist\n",
      "No parent smiles for molecule XRWSZZJLZRKHHD-WVWIJVSJSA-N\n"
     ]
    },
    {
     "name": "stderr",
     "output_type": "stream",
     "text": [
      " 67%|██████▋   | 592/887 [1:03:33<31:40,  6.44s/it]"
     ]
    },
    {
     "name": "stdout",
     "output_type": "stream",
     "text": [
      "HTTPSConnectionPool(host='www.ebi.ac.uk', port=443): Max retries exceeded with url: /chembl/api/data/molecule/IRVLBORJKFZWMI-JQWIXIFHSA-N (Caused by ResponseError('too many 404 error responses',))\n",
      "Molecule IRVLBORJKFZWMI-JQWIXIFHSA-N doesn't exist\n",
      "No parent smiles for molecule UGFAIRIUMAVXCW-UHFFFAOYSA-N\n"
     ]
    },
    {
     "name": "stderr",
     "output_type": "stream",
     "text": [
      " 67%|██████▋   | 594/887 [1:03:45<31:15,  6.40s/it]"
     ]
    },
    {
     "name": "stdout",
     "output_type": "stream",
     "text": [
      "HTTPSConnectionPool(host='www.ebi.ac.uk', port=443): Max retries exceeded with url: /chembl/api/data/molecule/GKAOGPIIYCISHV-UHFFFAOYSA-N (Caused by ResponseError('too many 404 error responses',))\n",
      "Molecule GKAOGPIIYCISHV-UHFFFAOYSA-N doesn't exist\n"
     ]
    },
    {
     "name": "stderr",
     "output_type": "stream",
     "text": [
      " 67%|██████▋   | 595/887 [1:03:58<36:37,  7.53s/it]"
     ]
    },
    {
     "name": "stdout",
     "output_type": "stream",
     "text": [
      "HTTPSConnectionPool(host='www.ebi.ac.uk', port=443): Max retries exceeded with url: /chembl/api/data/molecule/RTKIYNMVFMVABJ-UHFFFAOYSA-L (Caused by ResponseError('too many 404 error responses',))\n",
      "Molecule RTKIYNMVFMVABJ-UHFFFAOYSA-L doesn't exist\n"
     ]
    },
    {
     "name": "stderr",
     "output_type": "stream",
     "text": [
      " 67%|██████▋   | 596/887 [1:04:11<41:32,  8.57s/it]"
     ]
    },
    {
     "name": "stdout",
     "output_type": "stream",
     "text": [
      "HTTPSConnectionPool(host='www.ebi.ac.uk', port=443): Max retries exceeded with url: /chembl/api/data/molecule/nan (Caused by ResponseError('too many 404 error responses',))\n",
      "Molecule nan doesn't exist\n"
     ]
    },
    {
     "name": "stderr",
     "output_type": "stream",
     "text": [
      " 67%|██████▋   | 597/887 [1:04:23<45:47,  9.48s/it]"
     ]
    },
    {
     "name": "stdout",
     "output_type": "stream",
     "text": [
      "HTTPSConnectionPool(host='www.ebi.ac.uk', port=443): Max retries exceeded with url: /chembl/api/data/molecule/DFJVHKAPIXJTSC-UHFFFAOYSA-N (Caused by ResponseError('too many 404 error responses',))\n",
      "Molecule DFJVHKAPIXJTSC-UHFFFAOYSA-N doesn't exist\n"
     ]
    },
    {
     "name": "stderr",
     "output_type": "stream",
     "text": [
      " 67%|██████▋   | 598/887 [1:04:36<49:17, 10.23s/it]"
     ]
    },
    {
     "name": "stdout",
     "output_type": "stream",
     "text": [
      "HTTPSConnectionPool(host='www.ebi.ac.uk', port=443): Max retries exceeded with url: /chembl/api/data/molecule/nan (Caused by ResponseError('too many 404 error responses',))\n",
      "Molecule nan doesn't exist\n",
      "No parent smiles for molecule WCJFBSYALHQBSK-UHFFFAOYSA-N\n",
      "No parent smiles for molecule OXFGTKPPFSCSMA-XVKPBYJWSA-N\n",
      "No parent smiles for molecule WUZYKBABMWJHDL-UHFFFAOYSA-N\n",
      "No parent smiles for molecule NXFFJDQHYLNEJK-CYBMUJFWSA-N\n",
      "No parent smiles for molecule LYPFDBRUNKHDGX-LWQDQPMZSA-N\n"
     ]
    },
    {
     "name": "stderr",
     "output_type": "stream",
     "text": [
      " 68%|██████▊   | 604/887 [1:04:49<22:23,  4.75s/it]"
     ]
    },
    {
     "name": "stdout",
     "output_type": "stream",
     "text": [
      "HTTPSConnectionPool(host='www.ebi.ac.uk', port=443): Max retries exceeded with url: /chembl/api/data/molecule/nan (Caused by ResponseError('too many 404 error responses',))\n",
      "Molecule nan doesn't exist\n"
     ]
    },
    {
     "name": "stderr",
     "output_type": "stream",
     "text": [
      " 68%|██████▊   | 605/887 [1:05:01<27:25,  5.83s/it]"
     ]
    },
    {
     "name": "stdout",
     "output_type": "stream",
     "text": [
      "HTTPSConnectionPool(host='www.ebi.ac.uk', port=443): Max retries exceeded with url: /chembl/api/data/molecule/nan (Caused by ResponseError('too many 404 error responses',))\n",
      "Molecule nan doesn't exist\n",
      "No parent smiles for molecule FFHBJDQSGDNCIV-MFVUMRCOSA-N\n",
      "No parent smiles for molecule ALLWOAVDORUJLA-UHFFFAOYSA-N\n",
      "No parent smiles for molecule VFLDPWHFBUODDF-FCXRPNKRSA-N\n",
      "No parent smiles for molecule HDHDTKMUACZDAA-PHNIDTBTSA-N\n",
      "No parent smiles for molecule NJKDOADNQSYQEV-UHFFFAOYSA-N\n"
     ]
    },
    {
     "name": "stderr",
     "output_type": "stream",
     "text": [
      " 69%|██████▉   | 611/887 [1:05:14<17:41,  3.84s/it]"
     ]
    },
    {
     "name": "stdout",
     "output_type": "stream",
     "text": [
      "HTTPSConnectionPool(host='www.ebi.ac.uk', port=443): Max retries exceeded with url: /chembl/api/data/molecule/GZCGUPFRVQAUEE-KCDKBNATSA-N (Caused by ResponseError('too many 404 error responses',))\n",
      "Molecule GZCGUPFRVQAUEE-KCDKBNATSA-N doesn't exist\n",
      "No parent smiles for molecule CQXADFVORZEARL-UHFFFAOYSA-N\n",
      "No parent smiles for molecule MJJALKDDGIKVBE-UHFFFAOYSA-N\n",
      "No parent smiles for molecule BTNNPSLJPBRMLZ-LGMDPLHJSA-N\n",
      "No parent smiles for molecule FCSHDIVRCWTZOX-DVTGEIKXSA-N\n",
      "No parent smiles for molecule WCWSTNLSLKSJPK-LKFCYVNXSA-N\n"
     ]
    },
    {
     "name": "stderr",
     "output_type": "stream",
     "text": [
      " 70%|██████▉   | 617/887 [1:05:27<13:54,  3.09s/it]"
     ]
    },
    {
     "name": "stdout",
     "output_type": "stream",
     "text": [
      "HTTPSConnectionPool(host='www.ebi.ac.uk', port=443): Max retries exceeded with url: /chembl/api/data/molecule/PJFGPJQBWSEWKX-UHFFFAOYSA-N (Caused by ResponseError('too many 404 error responses',))\n",
      "Molecule PJFGPJQBWSEWKX-UHFFFAOYSA-N doesn't exist\n",
      "No parent smiles for molecule NTNWOCRCBQPEKQ-YFKPBYRVSA-N\n"
     ]
    },
    {
     "name": "stderr",
     "output_type": "stream",
     "text": [
      " 70%|██████▉   | 619/887 [1:05:40<16:18,  3.65s/it]"
     ]
    },
    {
     "name": "stdout",
     "output_type": "stream",
     "text": [
      "HTTPSConnectionPool(host='www.ebi.ac.uk', port=443): Max retries exceeded with url: /chembl/api/data/molecule/ZKZPXKKVDJOAIS-JWFOFJTQSA-J (Caused by ResponseError('too many 404 error responses',))\n",
      "Molecule ZKZPXKKVDJOAIS-JWFOFJTQSA-J doesn't exist\n",
      "No parent smiles for molecule CZGUSIXMZVURDU-JZXHSEFVSA-N\n",
      "No parent smiles for molecule AOMXMOCNKJTRQP-UHFFFAOYSA-N\n",
      "No parent smiles for molecule MZBLZLWXUBZHSL-FZNJKFJKSA-N\n"
     ]
    },
    {
     "name": "stderr",
     "output_type": "stream",
     "text": [
      " 70%|███████   | 623/887 [1:05:52<15:24,  3.50s/it]"
     ]
    },
    {
     "name": "stdout",
     "output_type": "stream",
     "text": [
      "HTTPSConnectionPool(host='www.ebi.ac.uk', port=443): Max retries exceeded with url: /chembl/api/data/molecule/UIWYJDYFSGRHKR-UHFFFAOYSA-N (Caused by ResponseError('too many 404 error responses',))\n",
      "Molecule UIWYJDYFSGRHKR-UHFFFAOYSA-N doesn't exist\n"
     ]
    },
    {
     "name": "stderr",
     "output_type": "stream",
     "text": [
      " 70%|███████   | 624/887 [1:06:05<19:35,  4.47s/it]"
     ]
    },
    {
     "name": "stdout",
     "output_type": "stream",
     "text": [
      "HTTPSConnectionPool(host='www.ebi.ac.uk', port=443): Max retries exceeded with url: /chembl/api/data/molecule/ODOISJJCWUVNDJ-WCTZXXKLSA-N (Caused by ResponseError('too many 404 error responses',))\n",
      "Molecule ODOISJJCWUVNDJ-WCTZXXKLSA-N doesn't exist\n",
      "No parent smiles for molecule RZZPDXZPRHQOCG-OJAKKHQRSA-N\n"
     ]
    },
    {
     "name": "stderr",
     "output_type": "stream",
     "text": [
      " 71%|███████   | 626/887 [1:06:18<21:22,  4.91s/it]"
     ]
    },
    {
     "name": "stdout",
     "output_type": "stream",
     "text": [
      "HTTPSConnectionPool(host='www.ebi.ac.uk', port=443): Max retries exceeded with url: /chembl/api/data/molecule/MKJIEFSOBYUXJB-WEZHFFAMSA-N (Caused by ResponseError('too many 404 error responses',))\n",
      "Molecule MKJIEFSOBYUXJB-WEZHFFAMSA-N doesn't exist\n"
     ]
    },
    {
     "name": "stderr",
     "output_type": "stream",
     "text": [
      " 71%|███████   | 627/887 [1:06:31<26:11,  6.04s/it]"
     ]
    },
    {
     "name": "stdout",
     "output_type": "stream",
     "text": [
      "HTTPSConnectionPool(host='www.ebi.ac.uk', port=443): Max retries exceeded with url: /chembl/api/data/molecule/nan (Caused by ResponseError('too many 404 error responses',))\n",
      "Molecule nan doesn't exist\n"
     ]
    },
    {
     "name": "stderr",
     "output_type": "stream",
     "text": [
      " 71%|███████   | 628/887 [1:06:44<31:09,  7.22s/it]"
     ]
    },
    {
     "name": "stdout",
     "output_type": "stream",
     "text": [
      "HTTPSConnectionPool(host='www.ebi.ac.uk', port=443): Max retries exceeded with url: /chembl/api/data/molecule/nan (Caused by ResponseError('too many 404 error responses',))\n",
      "Molecule nan doesn't exist\n",
      "No parent smiles for molecule BAJQRLZAPXASRD-UHFFFAOYSA-N\n",
      "No parent smiles for molecule BVCKFLJARNKCSS-DWPRYXJFSA-N\n"
     ]
    },
    {
     "name": "stderr",
     "output_type": "stream",
     "text": [
      " 71%|███████   | 631/887 [1:06:56<25:28,  5.97s/it]"
     ]
    },
    {
     "name": "stdout",
     "output_type": "stream",
     "text": [
      "HTTPSConnectionPool(host='www.ebi.ac.uk', port=443): Max retries exceeded with url: /chembl/api/data/molecule/WYMDDFRYORANCC-UHFFFAOYSA-N (Caused by ResponseError('too many 404 error responses',))\n",
      "Molecule WYMDDFRYORANCC-UHFFFAOYSA-N doesn't exist\n",
      "No parent smiles for molecule YLPBXIKWXNRACS-UHFFFAOYSA-N\n"
     ]
    },
    {
     "name": "stderr",
     "output_type": "stream",
     "text": [
      " 71%|███████▏  | 633/887 [1:07:09<25:45,  6.08s/it]"
     ]
    },
    {
     "name": "stdout",
     "output_type": "stream",
     "text": [
      "HTTPSConnectionPool(host='www.ebi.ac.uk', port=443): Max retries exceeded with url: /chembl/api/data/molecule/OMHUCGDTACNQEX-OSHKXICASA-N (Caused by ResponseError('too many 404 error responses',))\n",
      "Molecule OMHUCGDTACNQEX-OSHKXICASA-N doesn't exist\n",
      "No parent smiles for molecule ZCGNOVWYSGBHAU-UHFFFAOYSA-N\n",
      "No parent smiles for molecule YNVGQYHLRCDXFQ-XGXHKTLJSA-N\n",
      "No parent smiles for molecule IHEHEFLXQFOQJO-UHFFFAOYSA-N\n"
     ]
    },
    {
     "name": "stderr",
     "output_type": "stream",
     "text": [
      " 72%|███████▏  | 637/887 [1:07:22<19:56,  4.79s/it]"
     ]
    },
    {
     "name": "stdout",
     "output_type": "stream",
     "text": [
      "HTTPSConnectionPool(host='www.ebi.ac.uk', port=443): Max retries exceeded with url: /chembl/api/data/molecule/IOVCWXUNBOPUCH-UHFFFAOYSA-M (Caused by ResponseError('too many 404 error responses',))\n",
      "Molecule IOVCWXUNBOPUCH-UHFFFAOYSA-M doesn't exist\n",
      "No parent smiles for molecule FTLDJPRFCGDUFH-UHFFFAOYSA-N\n",
      "No parent smiles for molecule SVUOLADPCWQTTE-UHFFFAOYSA-N\n"
     ]
    },
    {
     "name": "stderr",
     "output_type": "stream",
     "text": [
      " 72%|███████▏  | 640/887 [1:07:35<18:58,  4.61s/it]"
     ]
    },
    {
     "name": "stdout",
     "output_type": "stream",
     "text": [
      "HTTPSConnectionPool(host='www.ebi.ac.uk', port=443): Max retries exceeded with url: /chembl/api/data/molecule/CNLWNYCFDMAZCB-HUVROIHYSA-N (Caused by ResponseError('too many 404 error responses',))\n",
      "Molecule CNLWNYCFDMAZCB-HUVROIHYSA-N doesn't exist\n",
      "No parent smiles for molecule WEYVCQFUGFRXOM-UHFFFAOYSA-N\n",
      "No parent smiles for molecule MGNFYQILYYYUBS-UHFFFAOYSA-N\n"
     ]
    },
    {
     "name": "stderr",
     "output_type": "stream",
     "text": [
      " 72%|███████▏  | 643/887 [1:07:48<18:23,  4.52s/it]"
     ]
    },
    {
     "name": "stdout",
     "output_type": "stream",
     "text": [
      "HTTPSConnectionPool(host='www.ebi.ac.uk', port=443): Max retries exceeded with url: /chembl/api/data/molecule/XMBWDFGMSWQBCA-UHFFFAOYSA-M (Caused by ResponseError('too many 404 error responses',))\n",
      "Molecule XMBWDFGMSWQBCA-UHFFFAOYSA-M doesn't exist\n",
      "No parent smiles for molecule BYZQBCIYLALLPA-NOPGXMAYSA-N\n",
      "No parent smiles for molecule WYEMLYFITZORAB-UHFFFAOYSA-N\n",
      "No parent smiles for molecule KAVGMUDTWQVPDF-UHFFFAOYSA-N\n"
     ]
    },
    {
     "name": "stderr",
     "output_type": "stream",
     "text": [
      " 73%|███████▎  | 647/887 [1:08:01<16:15,  4.06s/it]"
     ]
    },
    {
     "name": "stdout",
     "output_type": "stream",
     "text": [
      "HTTPSConnectionPool(host='www.ebi.ac.uk', port=443): Max retries exceeded with url: /chembl/api/data/molecule/KPVIXBKIJXZQJX-CSOZIWFHSA-N (Caused by ResponseError('too many 404 error responses',))\n",
      "Molecule KPVIXBKIJXZQJX-CSOZIWFHSA-N doesn't exist\n"
     ]
    },
    {
     "name": "stderr",
     "output_type": "stream",
     "text": [
      " 73%|███████▎  | 648/887 [1:08:14<20:16,  5.09s/it]"
     ]
    },
    {
     "name": "stdout",
     "output_type": "stream",
     "text": [
      "HTTPSConnectionPool(host='www.ebi.ac.uk', port=443): Max retries exceeded with url: /chembl/api/data/molecule/NPOCDVAOUKODSQ-ZDUSSCGKSA-N (Caused by ResponseError('too many 404 error responses',))\n",
      "Molecule NPOCDVAOUKODSQ-ZDUSSCGKSA-N doesn't exist\n",
      "No parent smiles for molecule ANIAZGVDEUQPRI-ZJQCGQFWSA-N\n",
      "No parent smiles for molecule IZJRISIINLJVBU-UHFFFAOYSA-N\n",
      "No parent smiles for molecule OYIKARCXOQLFHF-UHFFFAOYSA-N\n",
      "No parent smiles for molecule VQKLRVZQQYVIJW-UHFFFAOYSA-N\n"
     ]
    },
    {
     "name": "stderr",
     "output_type": "stream",
     "text": [
      " 74%|███████▎  | 653/887 [1:08:27<15:23,  3.95s/it]"
     ]
    },
    {
     "name": "stdout",
     "output_type": "stream",
     "text": [
      "HTTPSConnectionPool(host='www.ebi.ac.uk', port=443): Max retries exceeded with url: /chembl/api/data/molecule/SVYCRJXQZUCUND-PQXSVQADSA-N (Caused by ResponseError('too many 404 error responses',))\n",
      "Molecule SVYCRJXQZUCUND-PQXSVQADSA-N doesn't exist\n",
      "No parent smiles for molecule ODKYYBOHSVLGNU-IAGONARPSA-N\n"
     ]
    },
    {
     "name": "stderr",
     "output_type": "stream",
     "text": [
      " 74%|███████▍  | 655/887 [1:08:40<17:18,  4.48s/it]"
     ]
    },
    {
     "name": "stdout",
     "output_type": "stream",
     "text": [
      "HTTPSConnectionPool(host='www.ebi.ac.uk', port=443): Max retries exceeded with url: /chembl/api/data/molecule/BQCADISMDOOEFD-UHFFFAOYSA-N (Caused by ResponseError('too many 404 error responses',))\n",
      "Molecule BQCADISMDOOEFD-UHFFFAOYSA-N doesn't exist\n"
     ]
    },
    {
     "name": "stderr",
     "output_type": "stream",
     "text": [
      " 74%|███████▍  | 656/887 [1:08:53<21:24,  5.56s/it]"
     ]
    },
    {
     "name": "stdout",
     "output_type": "stream",
     "text": [
      "HTTPSConnectionPool(host='www.ebi.ac.uk', port=443): Max retries exceeded with url: /chembl/api/data/molecule/XUIMIQQOPSSXEZ-UHFFFAOYSA-N (Caused by ResponseError('too many 404 error responses',))\n",
      "Molecule XUIMIQQOPSSXEZ-UHFFFAOYSA-N doesn't exist\n",
      "No parent smiles for molecule KTEXNACQROZXEV-SLXBATTESA-N\n"
     ]
    },
    {
     "name": "stderr",
     "output_type": "stream",
     "text": [
      " 74%|███████▍  | 658/887 [1:09:05<22:03,  5.78s/it]"
     ]
    },
    {
     "name": "stdout",
     "output_type": "stream",
     "text": [
      "HTTPSConnectionPool(host='www.ebi.ac.uk', port=443): Max retries exceeded with url: /chembl/api/data/molecule/VWQVUPCCIRVNHF-OUBTZVSYSA-N (Caused by ResponseError('too many 404 error responses',))\n",
      "Molecule VWQVUPCCIRVNHF-OUBTZVSYSA-N doesn't exist\n"
     ]
    },
    {
     "name": "stderr",
     "output_type": "stream",
     "text": [
      " 74%|███████▍  | 659/887 [1:09:18<26:16,  6.92s/it]"
     ]
    },
    {
     "name": "stdout",
     "output_type": "stream",
     "text": [
      "HTTPSConnectionPool(host='www.ebi.ac.uk', port=443): Max retries exceeded with url: /chembl/api/data/molecule/nan (Caused by ResponseError('too many 404 error responses',))\n",
      "Molecule nan doesn't exist\n",
      "No parent smiles for molecule XNCOSPRUTUOJCJ-UHFFFAOYSA-N\n",
      "No parent smiles for molecule ZPMKQFOGINQDAM-UHFFFAOYSA-N\n",
      "No parent smiles for molecule LVGUZGTVOIAKKC-UHFFFAOYSA-N\n"
     ]
    },
    {
     "name": "stderr",
     "output_type": "stream",
     "text": [
      " 75%|███████▍  | 663/887 [1:09:31<19:20,  5.18s/it]"
     ]
    },
    {
     "name": "stdout",
     "output_type": "stream",
     "text": [
      "HTTPSConnectionPool(host='www.ebi.ac.uk', port=443): Max retries exceeded with url: /chembl/api/data/molecule/MSSNHSVIGIHOJA-UHFFFAOYSA-N (Caused by ResponseError('too many 404 error responses',))\n",
      "Molecule MSSNHSVIGIHOJA-UHFFFAOYSA-N doesn't exist\n"
     ]
    },
    {
     "name": "stderr",
     "output_type": "stream",
     "text": [
      " 75%|███████▍  | 664/887 [1:09:44<23:23,  6.29s/it]"
     ]
    },
    {
     "name": "stdout",
     "output_type": "stream",
     "text": [
      "HTTPSConnectionPool(host='www.ebi.ac.uk', port=443): Max retries exceeded with url: /chembl/api/data/molecule/GYAVMUDJCHAASE-UHFFFAOYSA-M (Caused by ResponseError('too many 404 error responses',))\n",
      "Molecule GYAVMUDJCHAASE-UHFFFAOYSA-M doesn't exist\n",
      "No parent smiles for molecule NTEDWGYJNHZKQW-DGMDOPGDSA-N\n",
      "No parent smiles for molecule RGZSQWQPBWRIAQ-CABCVRRESA-N\n",
      "No parent smiles for molecule WXNZTHHGJRFXKQ-UHFFFAOYSA-N\n",
      "No parent smiles for molecule XHCADAYNFIFUHF-TVKJYDDYSA-N\n"
     ]
    },
    {
     "name": "stderr",
     "output_type": "stream",
     "text": [
      " 75%|███████▌  | 669/887 [1:09:57<15:54,  4.38s/it]"
     ]
    },
    {
     "name": "stdout",
     "output_type": "stream",
     "text": [
      "HTTPSConnectionPool(host='www.ebi.ac.uk', port=443): Max retries exceeded with url: /chembl/api/data/molecule/YLDCUKJMEKGGFI-KSIULYHRSA-N (Caused by ResponseError('too many 404 error responses',))\n",
      "Molecule YLDCUKJMEKGGFI-KSIULYHRSA-N doesn't exist\n"
     ]
    },
    {
     "name": "stderr",
     "output_type": "stream",
     "text": [
      " 76%|███████▌  | 670/887 [1:10:09<19:39,  5.44s/it]"
     ]
    },
    {
     "name": "stdout",
     "output_type": "stream",
     "text": [
      "HTTPSConnectionPool(host='www.ebi.ac.uk', port=443): Max retries exceeded with url: /chembl/api/data/molecule/UAJTZZNRJCKXJN-UHFFFAOYSA-M (Caused by ResponseError('too many 404 error responses',))\n",
      "Molecule UAJTZZNRJCKXJN-UHFFFAOYSA-M doesn't exist\n"
     ]
    },
    {
     "name": "stderr",
     "output_type": "stream",
     "text": [
      " 76%|███████▌  | 671/887 [1:10:22<23:38,  6.57s/it]"
     ]
    },
    {
     "name": "stdout",
     "output_type": "stream",
     "text": [
      "HTTPSConnectionPool(host='www.ebi.ac.uk', port=443): Max retries exceeded with url: /chembl/api/data/molecule/XXIFVOHLGBURIG-OZCCCYNHSA-N (Caused by ResponseError('too many 404 error responses',))\n",
      "Molecule XXIFVOHLGBURIG-OZCCCYNHSA-N doesn't exist\n"
     ]
    },
    {
     "name": "stderr",
     "output_type": "stream",
     "text": [
      " 76%|███████▌  | 672/887 [1:10:35<27:34,  7.69s/it]"
     ]
    },
    {
     "name": "stdout",
     "output_type": "stream",
     "text": [
      "HTTPSConnectionPool(host='www.ebi.ac.uk', port=443): Max retries exceeded with url: /chembl/api/data/molecule/JGKJMBOJWVAMIJ-OFAZAQPOSA-N (Caused by ResponseError('too many 404 error responses',))\n",
      "Molecule JGKJMBOJWVAMIJ-OFAZAQPOSA-N doesn't exist\n",
      "No parent smiles for molecule IAIDUHCBNLFXEF-MNEFBYGVSA-N\n",
      "No parent smiles for molecule NSPHQWLKCGGCQR-DLJDZFDSSA-N\n",
      "No parent smiles for molecule CDAISMWEOUEBRE-GPIVLXJGSA-N\n",
      "No parent smiles for molecule RGHNJXZEOKUKBD-SQOUGZDYSA-N\n"
     ]
    },
    {
     "name": "stderr",
     "output_type": "stream",
     "text": [
      " 76%|███████▋  | 677/887 [1:10:48<16:50,  4.81s/it]"
     ]
    },
    {
     "name": "stdout",
     "output_type": "stream",
     "text": [
      "HTTPSConnectionPool(host='www.ebi.ac.uk', port=443): Max retries exceeded with url: /chembl/api/data/molecule/QGWDKKHSDXWPET-UHFFFAOYSA-E (Caused by ResponseError('too many 404 error responses',))\n",
      "Molecule QGWDKKHSDXWPET-UHFFFAOYSA-E doesn't exist\n",
      "No parent smiles for molecule HIUVKVDQFXDZHU-UHFFFAOYSA-N\n",
      "No parent smiles for molecule DVLBYTMYSMAKHP-UHFFFAOYSA-N\n",
      "No parent smiles for molecule IDCHQQSVJAAUQQ-UHFFFAOYSA-N\n",
      "No parent smiles for molecule QNMGHBMGNRQPNL-UHFFFAOYSA-N\n",
      "No parent smiles for molecule KSUUMAWCGDNLFK-UHFFFAOYSA-N\n",
      "No parent smiles for molecule JMOVFFLYGIQXMM-UHFFFAOYSA-N\n"
     ]
    },
    {
     "name": "stderr",
     "output_type": "stream",
     "text": [
      " 77%|███████▋  | 684/887 [1:11:01<10:56,  3.23s/it]"
     ]
    },
    {
     "name": "stdout",
     "output_type": "stream",
     "text": [
      "HTTPSConnectionPool(host='www.ebi.ac.uk', port=443): Max retries exceeded with url: /chembl/api/data/molecule/PEYVWSJAZONVQK-UHFFFAOYSA-N (Caused by ResponseError('too many 404 error responses',))\n",
      "Molecule PEYVWSJAZONVQK-UHFFFAOYSA-N doesn't exist\n",
      "No parent smiles for molecule KUAZQDVKQLNFPE-UHFFFAOYSA-N\n",
      "No parent smiles for molecule JCBQCKFFSPGEDY-UHFFFAOYSA-N\n",
      "No parent smiles for molecule ZULJGOSFKWFVRX-UHFFFAOYSA-N\n"
     ]
    },
    {
     "name": "stderr",
     "output_type": "stream",
     "text": [
      " 78%|███████▊  | 688/887 [1:11:14<10:43,  3.23s/it]"
     ]
    },
    {
     "name": "stdout",
     "output_type": "stream",
     "text": [
      "HTTPSConnectionPool(host='www.ebi.ac.uk', port=443): Max retries exceeded with url: /chembl/api/data/molecule/ZADYMNAVLSWLEQ-UHFFFAOYSA-N (Caused by ResponseError('too many 404 error responses',))\n",
      "Molecule ZADYMNAVLSWLEQ-UHFFFAOYSA-N doesn't exist\n"
     ]
    },
    {
     "name": "stderr",
     "output_type": "stream",
     "text": [
      " 78%|███████▊  | 689/887 [1:11:27<13:45,  4.17s/it]"
     ]
    },
    {
     "name": "stdout",
     "output_type": "stream",
     "text": [
      "HTTPSConnectionPool(host='www.ebi.ac.uk', port=443): Max retries exceeded with url: /chembl/api/data/molecule/BAUYGSIQEAFULO-UHFFFAOYSA-L (Caused by ResponseError('too many 404 error responses',))\n",
      "Molecule BAUYGSIQEAFULO-UHFFFAOYSA-L doesn't exist\n",
      "No parent smiles for molecule QTRALMGDQMIVFF-UHFFFAOYSA-N\n",
      "No parent smiles for molecule WRJPSSPFHGNBMG-UHFFFAOYSA-N\n",
      "No parent smiles for molecule KRQAMFQCSAJCRH-UHFFFAOYSA-N\n",
      "No parent smiles for molecule ZBNBQISDCFIEQC-UHFFFAOYSA-N\n",
      "No parent smiles for molecule JJCQSGDBDPYCEO-XVZSLQNASA-N\n",
      "No parent smiles for molecule UNRHXEPDKXPRTM-UHFFFAOYSA-N\n",
      "No parent smiles for molecule DNYGXMICFMACRA-XHEDQWPISA-N\n",
      "No parent smiles for molecule KLOIYEQEVSIOOO-UHFFFAOYSA-N\n",
      "No parent smiles for molecule CYDRXTMLKJDRQH-UHFFFAOYSA-N\n",
      "No parent smiles for molecule FNQQBFNIYODEMB-UHFFFAOYSA-N\n",
      "No parent smiles for molecule FLWFHHFTIRLFPV-UHFFFAOYSA-N\n",
      "No parent smiles for molecule UXQDWARBDDDTKG-UHFFFAOYSA-N\n",
      "No parent smiles for molecule NZLVRVYNQYGMAB-UHFFFAOYSA-N\n"
     ]
    },
    {
     "name": "stderr",
     "output_type": "stream",
     "text": [
      " 79%|███████▉  | 703/887 [1:11:39<06:11,  2.02s/it]"
     ]
    },
    {
     "name": "stdout",
     "output_type": "stream",
     "text": [
      "HTTPSConnectionPool(host='www.ebi.ac.uk', port=443): Max retries exceeded with url: /chembl/api/data/molecule/nan (Caused by ResponseError('too many 404 error responses',))\n",
      "Molecule nan doesn't exist\n"
     ]
    },
    {
     "name": "stderr",
     "output_type": "stream",
     "text": [
      " 79%|███████▉  | 704/887 [1:11:52<08:13,  2.70s/it]"
     ]
    },
    {
     "name": "stdout",
     "output_type": "stream",
     "text": [
      "HTTPSConnectionPool(host='www.ebi.ac.uk', port=443): Max retries exceeded with url: /chembl/api/data/molecule/nan (Caused by ResponseError('too many 404 error responses',))\n",
      "Molecule nan doesn't exist\n"
     ]
    },
    {
     "name": "stderr",
     "output_type": "stream",
     "text": [
      " 79%|███████▉  | 705/887 [1:12:05<10:43,  3.53s/it]"
     ]
    },
    {
     "name": "stdout",
     "output_type": "stream",
     "text": [
      "HTTPSConnectionPool(host='www.ebi.ac.uk', port=443): Max retries exceeded with url: /chembl/api/data/molecule/BEBILBPAQKONJS-UHFFFAOYSA-L (Caused by ResponseError('too many 404 error responses',))\n",
      "Molecule BEBILBPAQKONJS-UHFFFAOYSA-L doesn't exist\n",
      "No parent smiles for molecule DEQITUUQPICUMR-HJPBWRTMSA-N\n"
     ]
    },
    {
     "name": "stderr",
     "output_type": "stream",
     "text": [
      " 80%|███████▉  | 707/887 [1:12:18<12:11,  4.07s/it]"
     ]
    },
    {
     "name": "stdout",
     "output_type": "stream",
     "text": [
      "HTTPSConnectionPool(host='www.ebi.ac.uk', port=443): Max retries exceeded with url: /chembl/api/data/molecule/nan (Caused by ResponseError('too many 404 error responses',))\n",
      "Molecule nan doesn't exist\n"
     ]
    },
    {
     "name": "stderr",
     "output_type": "stream",
     "text": [
      " 80%|███████▉  | 708/887 [1:12:30<15:16,  5.12s/it]"
     ]
    },
    {
     "name": "stdout",
     "output_type": "stream",
     "text": [
      "HTTPSConnectionPool(host='www.ebi.ac.uk', port=443): Max retries exceeded with url: /chembl/api/data/molecule/MKWYFZFMAMBPQK-UHFFFAOYSA-J (Caused by ResponseError('too many 404 error responses',))\n",
      "Molecule MKWYFZFMAMBPQK-UHFFFAOYSA-J doesn't exist\n",
      "No parent smiles for molecule XACKNLSZYYIACO-DJLDLDEBSA-N\n",
      "No parent smiles for molecule OLAOYPRJVHUHCF-UHFFFAOYSA-N\n"
     ]
    },
    {
     "name": "stderr",
     "output_type": "stream",
     "text": [
      " 80%|████████  | 711/887 [1:12:43<14:10,  4.83s/it]"
     ]
    },
    {
     "name": "stdout",
     "output_type": "stream",
     "text": [
      "HTTPSConnectionPool(host='www.ebi.ac.uk', port=443): Max retries exceeded with url: /chembl/api/data/molecule/nan (Caused by ResponseError('too many 404 error responses',))\n",
      "Molecule nan doesn't exist\n"
     ]
    },
    {
     "name": "stderr",
     "output_type": "stream",
     "text": [
      " 80%|████████  | 712/887 [1:12:56<17:16,  5.92s/it]"
     ]
    },
    {
     "name": "stdout",
     "output_type": "stream",
     "text": [
      "HTTPSConnectionPool(host='www.ebi.ac.uk', port=443): Max retries exceeded with url: /chembl/api/data/molecule/nan (Caused by ResponseError('too many 404 error responses',))\n",
      "Molecule nan doesn't exist\n"
     ]
    },
    {
     "name": "stderr",
     "output_type": "stream",
     "text": [
      " 80%|████████  | 713/887 [1:13:09<20:28,  7.06s/it]"
     ]
    },
    {
     "name": "stdout",
     "output_type": "stream",
     "text": [
      "HTTPSConnectionPool(host='www.ebi.ac.uk', port=443): Max retries exceeded with url: /chembl/api/data/molecule/XFKLULFTFNRQOX-UHFFFAOYSA-N (Caused by ResponseError('too many 404 error responses',))\n",
      "Molecule XFKLULFTFNRQOX-UHFFFAOYSA-N doesn't exist\n"
     ]
    },
    {
     "name": "stderr",
     "output_type": "stream",
     "text": [
      " 80%|████████  | 714/887 [1:13:22<23:36,  8.19s/it]"
     ]
    },
    {
     "name": "stdout",
     "output_type": "stream",
     "text": [
      "HTTPSConnectionPool(host='www.ebi.ac.uk', port=443): Max retries exceeded with url: /chembl/api/data/molecule/NGIYLSFJGRLEMI-MHTUOZSYSA-M (Caused by ResponseError('too many 404 error responses',))\n",
      "Molecule NGIYLSFJGRLEMI-MHTUOZSYSA-M doesn't exist\n",
      "No parent smiles for molecule NUVBSKCKDOMJSU-UHFFFAOYSA-N\n",
      "No parent smiles for molecule HELHAJAZNSDZJO-OLXYHTOASA-L\n"
     ]
    },
    {
     "name": "stderr",
     "output_type": "stream",
     "text": [
      " 81%|████████  | 717/887 [1:13:34<18:06,  6.39s/it]"
     ]
    },
    {
     "name": "stdout",
     "output_type": "stream",
     "text": [
      "HTTPSConnectionPool(host='www.ebi.ac.uk', port=443): Max retries exceeded with url: /chembl/api/data/molecule/KZNBHWLDPGWJMM-UHFFFAOYSA-J (Caused by ResponseError('too many 404 error responses',))\n",
      "Molecule KZNBHWLDPGWJMM-UHFFFAOYSA-J doesn't exist\n"
     ]
    },
    {
     "name": "stderr",
     "output_type": "stream",
     "text": [
      " 81%|████████  | 718/887 [1:13:47<21:15,  7.55s/it]"
     ]
    },
    {
     "name": "stdout",
     "output_type": "stream",
     "text": [
      "HTTPSConnectionPool(host='www.ebi.ac.uk', port=443): Max retries exceeded with url: /chembl/api/data/molecule/nan (Caused by ResponseError('too many 404 error responses',))\n",
      "Molecule nan doesn't exist\n",
      "No parent smiles for molecule HJWFTNWQKDPLAS-SYAJEJNSSA-L\n",
      "No parent smiles for molecule LPLVUJXQOOQHMX-QWBHMCJMSA-N\n"
     ]
    },
    {
     "name": "stderr",
     "output_type": "stream",
     "text": [
      " 81%|████████▏ | 721/887 [1:14:00<16:53,  6.11s/it]"
     ]
    },
    {
     "name": "stdout",
     "output_type": "stream",
     "text": [
      "HTTPSConnectionPool(host='www.ebi.ac.uk', port=443): Max retries exceeded with url: /chembl/api/data/molecule/APKDPOQXVKRLEP-UHFFFAOYSA-L (Caused by ResponseError('too many 404 error responses',))\n",
      "Molecule APKDPOQXVKRLEP-UHFFFAOYSA-L doesn't exist\n",
      "No parent smiles for molecule PAXWQORCRCBOCU-RPDRGXCHSA-N\n",
      "No parent smiles for molecule KYLIZBIRMBGUOP-UHFFFAOYSA-N\n",
      "No parent smiles for molecule MGNNYOODZCAHBA-GQKYHHCASA-N\n"
     ]
    },
    {
     "name": "stderr",
     "output_type": "stream",
     "text": [
      " 82%|████████▏ | 725/887 [1:14:12<12:55,  4.79s/it]"
     ]
    },
    {
     "name": "stdout",
     "output_type": "stream",
     "text": [
      "HTTPSConnectionPool(host='www.ebi.ac.uk', port=443): Max retries exceeded with url: /chembl/api/data/molecule/nan (Caused by ResponseError('too many 404 error responses',))\n",
      "Molecule nan doesn't exist\n"
     ]
    },
    {
     "name": "stderr",
     "output_type": "stream",
     "text": [
      " 82%|████████▏ | 726/887 [1:14:25<15:50,  5.91s/it]"
     ]
    },
    {
     "name": "stdout",
     "output_type": "stream",
     "text": [
      "HTTPSConnectionPool(host='www.ebi.ac.uk', port=443): Max retries exceeded with url: /chembl/api/data/molecule/JAONZGLTYYUPCT-UHFFFAOYSA-K (Caused by ResponseError('too many 404 error responses',))\n",
      "Molecule JAONZGLTYYUPCT-UHFFFAOYSA-K doesn't exist\n"
     ]
    },
    {
     "name": "stderr",
     "output_type": "stream",
     "text": [
      " 82%|████████▏ | 727/887 [1:14:38<18:49,  7.06s/it]"
     ]
    },
    {
     "name": "stdout",
     "output_type": "stream",
     "text": [
      "HTTPSConnectionPool(host='www.ebi.ac.uk', port=443): Max retries exceeded with url: /chembl/api/data/molecule/YZDVVHSLIPLZLO-UHFFFAOYSA-K (Caused by ResponseError('too many 404 error responses',))\n",
      "Molecule YZDVVHSLIPLZLO-UHFFFAOYSA-K doesn't exist\n",
      "No parent smiles for molecule GVKCHTBDSMQENH-UHFFFAOYSA-L\n"
     ]
    },
    {
     "name": "stderr",
     "output_type": "stream",
     "text": [
      " 82%|████████▏ | 729/887 [1:14:51<18:00,  6.84s/it]"
     ]
    },
    {
     "name": "stdout",
     "output_type": "stream",
     "text": [
      "HTTPSConnectionPool(host='www.ebi.ac.uk', port=443): Max retries exceeded with url: /chembl/api/data/molecule/XBJPSVQFCQFGDC-WSCOIBMGSA-K (Caused by ResponseError('too many 404 error responses',))\n",
      "Molecule XBJPSVQFCQFGDC-WSCOIBMGSA-K doesn't exist\n",
      "No parent smiles for molecule DLSWIYLPEUIQAV-CCUURXOWSA-N\n"
     ]
    },
    {
     "name": "stderr",
     "output_type": "stream",
     "text": [
      " 82%|████████▏ | 731/887 [1:15:04<17:21,  6.68s/it]"
     ]
    },
    {
     "name": "stdout",
     "output_type": "stream",
     "text": [
      "HTTPSConnectionPool(host='www.ebi.ac.uk', port=443): Max retries exceeded with url: /chembl/api/data/molecule/PTVXYACXDYZNID-JKXGKYMWSA-N (Caused by ResponseError('too many 404 error responses',))\n",
      "Molecule PTVXYACXDYZNID-JKXGKYMWSA-N doesn't exist\n"
     ]
    },
    {
     "name": "stderr",
     "output_type": "stream",
     "text": [
      " 83%|████████▎ | 732/887 [1:15:16<20:11,  7.82s/it]"
     ]
    },
    {
     "name": "stdout",
     "output_type": "stream",
     "text": [
      "HTTPSConnectionPool(host='www.ebi.ac.uk', port=443): Max retries exceeded with url: /chembl/api/data/molecule/VTLYFUHAOXGGBS-UHFFFAOYSA-N (Caused by ResponseError('too many 404 error responses',))\n",
      "Molecule VTLYFUHAOXGGBS-UHFFFAOYSA-N doesn't exist\n"
     ]
    },
    {
     "name": "stderr",
     "output_type": "stream",
     "text": [
      " 83%|████████▎ | 733/887 [1:15:30<22:59,  8.96s/it]"
     ]
    },
    {
     "name": "stdout",
     "output_type": "stream",
     "text": [
      "HTTPSConnectionPool(host='www.ebi.ac.uk', port=443): Max retries exceeded with url: /chembl/api/data/molecule/OVAHZPTYWMWNKO-CAHAWPIUSA-N (Caused by ResponseError('too many 404 error responses',))\n",
      "Molecule OVAHZPTYWMWNKO-CAHAWPIUSA-N doesn't exist\n"
     ]
    },
    {
     "name": "stderr",
     "output_type": "stream",
     "text": [
      " 83%|████████▎ | 734/887 [1:15:43<25:14,  9.90s/it]"
     ]
    },
    {
     "name": "stdout",
     "output_type": "stream",
     "text": [
      "HTTPSConnectionPool(host='www.ebi.ac.uk', port=443): Max retries exceeded with url: /chembl/api/data/molecule/nan (Caused by ResponseError('too many 404 error responses',))\n",
      "Molecule nan doesn't exist\n",
      "No parent smiles for molecule LVDKZNITIUWNER-UHFFFAOYSA-N\n",
      "No parent smiles for molecule UGZVNIRNPPEDHM-SBBOJQDXSA-L\n",
      "No parent smiles for molecule AXISYYRBXTVTFY-UHFFFAOYSA-N\n"
     ]
    },
    {
     "name": "stderr",
     "output_type": "stream",
     "text": [
      " 83%|████████▎ | 738/887 [1:15:56<15:06,  6.08s/it]"
     ]
    },
    {
     "name": "stdout",
     "output_type": "stream",
     "text": [
      "HTTPSConnectionPool(host='www.ebi.ac.uk', port=443): Max retries exceeded with url: /chembl/api/data/molecule/DHAHKSQXIXFZJB-UHFFFAOYSA-O (Caused by ResponseError('too many 404 error responses',))\n",
      "Molecule DHAHKSQXIXFZJB-UHFFFAOYSA-O doesn't exist\n",
      "No parent smiles for molecule MELGLHXCBHKVJG-UHFFFAOYSA-N\n"
     ]
    },
    {
     "name": "stderr",
     "output_type": "stream",
     "text": [
      " 83%|████████▎ | 740/887 [1:16:08<15:08,  6.18s/it]"
     ]
    },
    {
     "name": "stdout",
     "output_type": "stream",
     "text": [
      "HTTPSConnectionPool(host='www.ebi.ac.uk', port=443): Max retries exceeded with url: /chembl/api/data/molecule/LEONUFNNVUYDNQ-UHFFFAOYSA-N (Caused by ResponseError('too many 404 error responses',))\n",
      "Molecule LEONUFNNVUYDNQ-UHFFFAOYSA-N doesn't exist\n",
      "No parent smiles for molecule FFEARJCKVFRZRR-UHFFFAOYSA-N\n",
      "No parent smiles for molecule BWHMMNNQKKPAPP-UHFFFAOYSA-L\n"
     ]
    },
    {
     "name": "stderr",
     "output_type": "stream",
     "text": [
      " 84%|████████▍ | 743/887 [1:16:21<13:02,  5.43s/it]"
     ]
    },
    {
     "name": "stdout",
     "output_type": "stream",
     "text": [
      "HTTPSConnectionPool(host='www.ebi.ac.uk', port=443): Max retries exceeded with url: /chembl/api/data/molecule/nan (Caused by ResponseError('too many 404 error responses',))\n",
      "Molecule nan doesn't exist\n",
      "No parent smiles for molecule IIVBFTNIGYRNQY-YQLZSBIMSA-N\n"
     ]
    },
    {
     "name": "stderr",
     "output_type": "stream",
     "text": [
      " 84%|████████▍ | 745/887 [1:16:34<13:25,  5.67s/it]"
     ]
    },
    {
     "name": "stdout",
     "output_type": "stream",
     "text": [
      "HTTPSConnectionPool(host='www.ebi.ac.uk', port=443): Max retries exceeded with url: /chembl/api/data/molecule/OHSVLFRHMCKCQY-NJFSPNSNSA-N (Caused by ResponseError('too many 404 error responses',))\n",
      "Molecule OHSVLFRHMCKCQY-NJFSPNSNSA-N doesn't exist\n"
     ]
    },
    {
     "name": "stderr",
     "output_type": "stream",
     "text": [
      " 84%|████████▍ | 746/887 [1:16:47<16:01,  6.82s/it]"
     ]
    },
    {
     "name": "stdout",
     "output_type": "stream",
     "text": [
      "HTTPSConnectionPool(host='www.ebi.ac.uk', port=443): Max retries exceeded with url: /chembl/api/data/molecule/MXDPZUIOZWKRAA-PRDSJKGBSA-K (Caused by ResponseError('too many 404 error responses',))\n",
      "Molecule MXDPZUIOZWKRAA-PRDSJKGBSA-K doesn't exist\n",
      "No parent smiles for molecule AHBGXTDRMVNFER-UHFFFAOYSA-L\n"
     ]
    },
    {
     "name": "stderr",
     "output_type": "stream",
     "text": [
      " 84%|████████▍ | 748/887 [1:16:59<15:26,  6.67s/it]"
     ]
    },
    {
     "name": "stdout",
     "output_type": "stream",
     "text": [
      "HTTPSConnectionPool(host='www.ebi.ac.uk', port=443): Max retries exceeded with url: /chembl/api/data/molecule/SXAWSYZURCZSDX-UHFFFAOYSA-B (Caused by ResponseError('too many 404 error responses',))\n",
      "Molecule SXAWSYZURCZSDX-UHFFFAOYSA-B doesn't exist\n",
      "No parent smiles for molecule IELOKBJPULMYRW-NJQVLOCASA-N\n",
      "No parent smiles for molecule ZAKOWWREFLAJOT-CEFNRUSXSA-N\n"
     ]
    },
    {
     "name": "stderr",
     "output_type": "stream",
     "text": [
      " 85%|████████▍ | 751/887 [1:17:12<12:54,  5.69s/it]"
     ]
    },
    {
     "name": "stdout",
     "output_type": "stream",
     "text": [
      "HTTPSConnectionPool(host='www.ebi.ac.uk', port=443): Max retries exceeded with url: /chembl/api/data/molecule/nan (Caused by ResponseError('too many 404 error responses',))\n",
      "Molecule nan doesn't exist\n"
     ]
    },
    {
     "name": "stderr",
     "output_type": "stream",
     "text": [
      " 85%|████████▍ | 752/887 [1:17:25<15:21,  6.83s/it]"
     ]
    },
    {
     "name": "stdout",
     "output_type": "stream",
     "text": [
      "HTTPSConnectionPool(host='www.ebi.ac.uk', port=443): Max retries exceeded with url: /chembl/api/data/molecule/nan (Caused by ResponseError('too many 404 error responses',))\n",
      "Molecule nan doesn't exist\n",
      "No parent smiles for molecule DWAQJAXMDSEUJJ-UHFFFAOYSA-M\n",
      "No parent smiles for molecule SKTFQHRVFFOHTQ-UHFFFAOYSA-N\n"
     ]
    },
    {
     "name": "stderr",
     "output_type": "stream",
     "text": [
      " 85%|████████▌ | 755/887 [1:17:37<12:40,  5.76s/it]"
     ]
    },
    {
     "name": "stdout",
     "output_type": "stream",
     "text": [
      "HTTPSConnectionPool(host='www.ebi.ac.uk', port=443): Max retries exceeded with url: /chembl/api/data/molecule/nan (Caused by ResponseError('too many 404 error responses',))\n",
      "Molecule nan doesn't exist\n"
     ]
    },
    {
     "name": "stderr",
     "output_type": "stream",
     "text": [
      " 85%|████████▌ | 756/887 [1:17:50<15:09,  6.94s/it]"
     ]
    },
    {
     "name": "stdout",
     "output_type": "stream",
     "text": [
      "HTTPSConnectionPool(host='www.ebi.ac.uk', port=443): Max retries exceeded with url: /chembl/api/data/molecule/ARVUQMBOTBOHPL-UHFFFAOYSA-N (Caused by ResponseError('too many 404 error responses',))\n",
      "Molecule ARVUQMBOTBOHPL-UHFFFAOYSA-N doesn't exist\n",
      "No parent smiles for molecule ZCTXEAQXZGPWFG-UHFFFAOYSA-N\n",
      "No parent smiles for molecule MBKDYNNUVRNNRF-UHFFFAOYSA-N\n",
      "No parent smiles for molecule VDPYMEBVIDZKMD-UHFFFAOYSA-N\n",
      "No parent smiles for molecule LCFVJGUPQDGYKZ-UHFFFAOYSA-N\n",
      "No parent smiles for molecule QFOHBWFCKVYLES-UHFFFAOYSA-N\n",
      "No parent smiles for molecule ACTRVOBWPAIOHC-UHFFFAOYSA-N\n"
     ]
    },
    {
     "name": "stderr",
     "output_type": "stream",
     "text": [
      " 86%|████████▌ | 763/887 [1:18:03<07:47,  3.77s/it]"
     ]
    },
    {
     "name": "stdout",
     "output_type": "stream",
     "text": [
      "HTTPSConnectionPool(host='www.ebi.ac.uk', port=443): Max retries exceeded with url: /chembl/api/data/molecule/WQVNGJIIARFEJV-XSLFZJRCSA-N (Caused by ResponseError('too many 404 error responses',))\n",
      "Molecule WQVNGJIIARFEJV-XSLFZJRCSA-N doesn't exist\n",
      "No parent smiles for molecule NRJAVPSFFCBXDT-UHFFFAOYSA-N\n"
     ]
    },
    {
     "name": "stderr",
     "output_type": "stream",
     "text": [
      " 86%|████████▌ | 765/887 [1:18:16<08:43,  4.29s/it]"
     ]
    },
    {
     "name": "stdout",
     "output_type": "stream",
     "text": [
      "HTTPSConnectionPool(host='www.ebi.ac.uk', port=443): Max retries exceeded with url: /chembl/api/data/molecule/nan (Caused by ResponseError('too many 404 error responses',))\n",
      "Molecule nan doesn't exist\n",
      "No parent smiles for molecule OYHQOLUKZRVURQ-HZJYTTRNSA-N\n"
     ]
    },
    {
     "name": "stderr",
     "output_type": "stream",
     "text": [
      " 86%|████████▋ | 767/887 [1:18:29<09:37,  4.81s/it]"
     ]
    },
    {
     "name": "stdout",
     "output_type": "stream",
     "text": [
      "HTTPSConnectionPool(host='www.ebi.ac.uk', port=443): Max retries exceeded with url: /chembl/api/data/molecule/LDWIWSHBGAIIMV-ODZMYOIVSA-M (Caused by ResponseError('too many 404 error responses',))\n",
      "Molecule LDWIWSHBGAIIMV-ODZMYOIVSA-M doesn't exist\n"
     ]
    },
    {
     "name": "stderr",
     "output_type": "stream",
     "text": [
      " 87%|████████▋ | 768/887 [1:18:43<11:59,  6.04s/it]"
     ]
    },
    {
     "name": "stdout",
     "output_type": "stream",
     "text": [
      "HTTPSConnectionPool(host='www.ebi.ac.uk', port=443): Max retries exceeded with url: /chembl/api/data/molecule/WJRFSUVOHUMYAO-UHFFFAOYSA-N (Caused by ResponseError('too many 404 error responses',))\n",
      "Molecule WJRFSUVOHUMYAO-UHFFFAOYSA-N doesn't exist\n",
      "No parent smiles for molecule BJRNKVDFDLYUGJ-ZIQFBCGOSA-N\n",
      "No parent smiles for molecule PUPZLCDOIYMWBV-UHFFFAOYSA-N\n"
     ]
    },
    {
     "name": "stderr",
     "output_type": "stream",
     "text": [
      " 87%|████████▋ | 771/887 [1:18:56<10:24,  5.39s/it]"
     ]
    },
    {
     "name": "stdout",
     "output_type": "stream",
     "text": [
      "HTTPSConnectionPool(host='www.ebi.ac.uk', port=443): Max retries exceeded with url: /chembl/api/data/molecule/JAUGGEIKQIHSMF-UHFFFAOYSA-N (Caused by ResponseError('too many 404 error responses',))\n",
      "Molecule JAUGGEIKQIHSMF-UHFFFAOYSA-N doesn't exist\n",
      "No parent smiles for molecule PQSXNIMHIHYFEE-UHFFFAOYSA-N\n"
     ]
    },
    {
     "name": "stderr",
     "output_type": "stream",
     "text": [
      " 87%|████████▋ | 773/887 [1:19:08<10:43,  5.64s/it]"
     ]
    },
    {
     "name": "stdout",
     "output_type": "stream",
     "text": [
      "HTTPSConnectionPool(host='www.ebi.ac.uk', port=443): Max retries exceeded with url: /chembl/api/data/molecule/nan (Caused by ResponseError('too many 404 error responses',))\n",
      "Molecule nan doesn't exist\n"
     ]
    },
    {
     "name": "stderr",
     "output_type": "stream",
     "text": [
      " 87%|████████▋ | 774/887 [1:19:21<12:44,  6.77s/it]"
     ]
    },
    {
     "name": "stdout",
     "output_type": "stream",
     "text": [
      "HTTPSConnectionPool(host='www.ebi.ac.uk', port=443): Max retries exceeded with url: /chembl/api/data/molecule/nan (Caused by ResponseError('too many 404 error responses',))\n",
      "Molecule nan doesn't exist\n",
      "No parent smiles for molecule CBCKQZAAMUWICA-UHFFFAOYSA-N\n"
     ]
    },
    {
     "name": "stderr",
     "output_type": "stream",
     "text": [
      " 87%|████████▋ | 776/887 [1:19:35<12:35,  6.81s/it]"
     ]
    },
    {
     "name": "stdout",
     "output_type": "stream",
     "text": [
      "HTTPSConnectionPool(host='www.ebi.ac.uk', port=443): Max retries exceeded with url: /chembl/api/data/molecule/OGQYPPBGSLZBEG-UHFFFAOYSA-N (Caused by ResponseError('too many 404 error responses',))\n",
      "Molecule OGQYPPBGSLZBEG-UHFFFAOYSA-N doesn't exist\n",
      "No parent smiles for molecule XTEGARKTQYYJKE-UHFFFAOYSA-N\n"
     ]
    },
    {
     "name": "stderr",
     "output_type": "stream",
     "text": [
      " 88%|████████▊ | 778/887 [1:19:48<12:13,  6.73s/it]"
     ]
    },
    {
     "name": "stdout",
     "output_type": "stream",
     "text": [
      "HTTPSConnectionPool(host='www.ebi.ac.uk', port=443): Max retries exceeded with url: /chembl/api/data/molecule/OAICVXFJPJFONN-UHFFFAOYSA-N (Caused by ResponseError('too many 404 error responses',))\n",
      "Molecule OAICVXFJPJFONN-UHFFFAOYSA-N doesn't exist\n",
      "No parent smiles for molecule DSSYKIVIOFKYAU-UHFFFAOYSA-N\n"
     ]
    },
    {
     "name": "stderr",
     "output_type": "stream",
     "text": [
      " 88%|████████▊ | 780/887 [1:20:01<11:51,  6.65s/it]"
     ]
    },
    {
     "name": "stdout",
     "output_type": "stream",
     "text": [
      "HTTPSConnectionPool(host='www.ebi.ac.uk', port=443): Max retries exceeded with url: /chembl/api/data/molecule/nan (Caused by ResponseError('too many 404 error responses',))\n",
      "Molecule nan doesn't exist\n",
      "No parent smiles for molecule HJZKOAYDRQLPME-UHFFFAOYSA-N\n",
      "No parent smiles for molecule SOROIESOUPGGFO-UHFFFAOYSA-N\n",
      "No parent smiles for molecule KNBRWWCHBRQLNY-UHFFFAOYSA-N\n",
      "No parent smiles for molecule HMKKIXGYKWDQSV-KAMYIIQDSA-N\n",
      "No parent smiles for molecule MOZDKDIOPSPTBH-UHFFFAOYSA-N\n",
      "No parent smiles for molecule QELSKZZBTMNZEB-UHFFFAOYSA-N\n",
      "No parent smiles for molecule REQPQFUJGGOFQL-UHFFFAOYSA-N\n"
     ]
    },
    {
     "name": "stderr",
     "output_type": "stream",
     "text": [
      " 89%|████████▉ | 788/887 [1:20:14<05:41,  3.45s/it]"
     ]
    },
    {
     "name": "stdout",
     "output_type": "stream",
     "text": [
      "HTTPSConnectionPool(host='www.ebi.ac.uk', port=443): Max retries exceeded with url: /chembl/api/data/molecule/LGQLOGILCSXPEA-UHFFFAOYSA-L (Caused by ResponseError('too many 404 error responses',))\n",
      "Molecule LGQLOGILCSXPEA-UHFFFAOYSA-L doesn't exist\n"
     ]
    },
    {
     "name": "stderr",
     "output_type": "stream",
     "text": [
      " 89%|████████▉ | 789/887 [1:20:27<07:10,  4.39s/it]"
     ]
    },
    {
     "name": "stdout",
     "output_type": "stream",
     "text": [
      "HTTPSConnectionPool(host='www.ebi.ac.uk', port=443): Max retries exceeded with url: /chembl/api/data/molecule/nan (Caused by ResponseError('too many 404 error responses',))\n",
      "Molecule nan doesn't exist\n"
     ]
    },
    {
     "name": "stderr",
     "output_type": "stream",
     "text": [
      " 89%|████████▉ | 790/887 [1:20:39<08:49,  5.46s/it]"
     ]
    },
    {
     "name": "stdout",
     "output_type": "stream",
     "text": [
      "HTTPSConnectionPool(host='www.ebi.ac.uk', port=443): Max retries exceeded with url: /chembl/api/data/molecule/SOCTUWSJJQCPFX-UHFFFAOYSA-N (Caused by ResponseError('too many 404 error responses',))\n",
      "Molecule SOCTUWSJJQCPFX-UHFFFAOYSA-N doesn't exist\n",
      "No parent smiles for molecule GLZPCOQZEFWAFX-JXMROGBWSA-N\n",
      "No parent smiles for molecule KJPRLNWUNMBNBZ-QPJJXVBHSA-N\n",
      "No parent smiles for molecule OOCCDEMITAIZTP-QPJJXVBHSA-N\n",
      "No parent smiles for molecule WPFVBOQKRVRMJB-UHFFFAOYSA-N\n",
      "No parent smiles for molecule BJIOGJUNALELMI-UHFFFAOYSA-N\n",
      "No parent smiles for molecule PIICEJLVQHRZGT-UHFFFAOYSA-N\n"
     ]
    },
    {
     "name": "stderr",
     "output_type": "stream",
     "text": [
      " 90%|████████▉ | 797/887 [1:20:52<05:07,  3.42s/it]"
     ]
    },
    {
     "name": "stdout",
     "output_type": "stream",
     "text": [
      "HTTPSConnectionPool(host='www.ebi.ac.uk', port=443): Max retries exceeded with url: /chembl/api/data/molecule/nan (Caused by ResponseError('too many 404 error responses',))\n",
      "Molecule nan doesn't exist\n",
      "No parent smiles for molecule OWRCNXZUPFZXOS-UHFFFAOYSA-N\n"
     ]
    },
    {
     "name": "stderr",
     "output_type": "stream",
     "text": [
      " 90%|█████████ | 799/887 [1:21:05<05:51,  3.99s/it]"
     ]
    },
    {
     "name": "stdout",
     "output_type": "stream",
     "text": [
      "HTTPSConnectionPool(host='www.ebi.ac.uk', port=443): Max retries exceeded with url: /chembl/api/data/molecule/nan (Caused by ResponseError('too many 404 error responses',))\n",
      "Molecule nan doesn't exist\n",
      "No parent smiles for molecule RKQOSDAEEGPRER-UHFFFAOYSA-L\n",
      "No parent smiles for molecule BOXSVZNGTQTENJ-UHFFFAOYSA-L\n",
      "No parent smiles for molecule OUBMGJOQLXMSNT-UHFFFAOYSA-N\n"
     ]
    },
    {
     "name": "stderr",
     "output_type": "stream",
     "text": [
      " 91%|█████████ | 803/887 [1:21:18<05:10,  3.70s/it]"
     ]
    },
    {
     "name": "stdout",
     "output_type": "stream",
     "text": [
      "HTTPSConnectionPool(host='www.ebi.ac.uk', port=443): Max retries exceeded with url: /chembl/api/data/molecule/ZRMMVODKVLXCBB-UHFFFAOYSA-N (Caused by ResponseError('too many 404 error responses',))\n",
      "Molecule ZRMMVODKVLXCBB-UHFFFAOYSA-N doesn't exist\n",
      "No parent smiles for molecule DHNRXBZYEKSXIM-UHFFFAOYSA-N\n"
     ]
    },
    {
     "name": "stderr",
     "output_type": "stream",
     "text": [
      " 91%|█████████ | 805/887 [1:21:30<05:46,  4.23s/it]"
     ]
    },
    {
     "name": "stdout",
     "output_type": "stream",
     "text": [
      "HTTPSConnectionPool(host='www.ebi.ac.uk', port=443): Max retries exceeded with url: /chembl/api/data/molecule/UKHVLWKBNNSRRR-UHFFFAOYSA-M (Caused by ResponseError('too many 404 error responses',))\n",
      "Molecule UKHVLWKBNNSRRR-UHFFFAOYSA-M doesn't exist\n",
      "No parent smiles for molecule DHVLDKHFGIVEIP-UHFFFAOYSA-N\n",
      "No parent smiles for molecule DEQZTKGFXNUBJL-UHFFFAOYSA-N\n",
      "No parent smiles for molecule AFZSMODLJJCVPP-UHFFFAOYSA-N\n",
      "No parent smiles for molecule MHKLKWCYGIBEQF-UHFFFAOYSA-N\n"
     ]
    },
    {
     "name": "stderr",
     "output_type": "stream",
     "text": [
      " 91%|█████████▏| 810/887 [1:21:43<04:31,  3.53s/it]"
     ]
    },
    {
     "name": "stdout",
     "output_type": "stream",
     "text": [
      "HTTPSConnectionPool(host='www.ebi.ac.uk', port=443): Max retries exceeded with url: /chembl/api/data/molecule/UIHYHADQHHUIOF-WUKNDPDISA-N (Caused by ResponseError('too many 404 error responses',))\n",
      "Molecule UIHYHADQHHUIOF-WUKNDPDISA-N doesn't exist\n"
     ]
    },
    {
     "name": "stderr",
     "output_type": "stream",
     "text": [
      " 91%|█████████▏| 811/887 [1:21:56<05:43,  4.52s/it]"
     ]
    },
    {
     "name": "stdout",
     "output_type": "stream",
     "text": [
      "HTTPSConnectionPool(host='www.ebi.ac.uk', port=443): Max retries exceeded with url: /chembl/api/data/molecule/GVPFVAHMJGGAJG-UHFFFAOYSA-L (Caused by ResponseError('too many 404 error responses',))\n",
      "Molecule GVPFVAHMJGGAJG-UHFFFAOYSA-L doesn't exist\n",
      "No parent smiles for molecule LXCFILQKKLGQFO-UHFFFAOYSA-N\n",
      "No parent smiles for molecule JVTAAEKCZFNVCJ-REOHCLBHSA-N\n",
      "No parent smiles for molecule GVJHHUAWPYXKBD-UHFFFAOYSA-N\n"
     ]
    },
    {
     "name": "stderr",
     "output_type": "stream",
     "text": [
      " 92%|█████████▏| 815/887 [1:22:09<04:49,  4.02s/it]"
     ]
    },
    {
     "name": "stdout",
     "output_type": "stream",
     "text": [
      "HTTPSConnectionPool(host='www.ebi.ac.uk', port=443): Max retries exceeded with url: /chembl/api/data/molecule/nan (Caused by ResponseError('too many 404 error responses',))\n",
      "Molecule nan doesn't exist\n"
     ]
    },
    {
     "name": "stderr",
     "output_type": "stream",
     "text": [
      " 92%|█████████▏| 816/887 [1:22:22<06:00,  5.08s/it]"
     ]
    },
    {
     "name": "stdout",
     "output_type": "stream",
     "text": [
      "HTTPSConnectionPool(host='www.ebi.ac.uk', port=443): Max retries exceeded with url: /chembl/api/data/molecule/nan (Caused by ResponseError('too many 404 error responses',))\n",
      "Molecule nan doesn't exist\n"
     ]
    },
    {
     "name": "stderr",
     "output_type": "stream",
     "text": [
      " 92%|█████████▏| 817/887 [1:22:34<07:13,  6.19s/it]"
     ]
    },
    {
     "name": "stdout",
     "output_type": "stream",
     "text": [
      "HTTPSConnectionPool(host='www.ebi.ac.uk', port=443): Max retries exceeded with url: /chembl/api/data/molecule/XAAHAAMILDNBPS-UHFFFAOYSA-L (Caused by ResponseError('too many 404 error responses',))\n",
      "Molecule XAAHAAMILDNBPS-UHFFFAOYSA-L doesn't exist\n",
      "No parent smiles for molecule BLORRZQTHNGFTI-ZZMNMWMASA-L\n"
     ]
    },
    {
     "name": "stderr",
     "output_type": "stream",
     "text": [
      " 92%|█████████▏| 819/887 [1:22:47<07:07,  6.28s/it]"
     ]
    },
    {
     "name": "stdout",
     "output_type": "stream",
     "text": [
      "HTTPSConnectionPool(host='www.ebi.ac.uk', port=443): Max retries exceeded with url: /chembl/api/data/molecule/AIOKQVJVNPDJKA-ZZMNMWMASA-L (Caused by ResponseError('too many 404 error responses',))\n",
      "Molecule AIOKQVJVNPDJKA-ZZMNMWMASA-L doesn't exist\n"
     ]
    },
    {
     "name": "stderr",
     "output_type": "stream",
     "text": [
      " 92%|█████████▏| 820/887 [1:23:01<08:24,  7.52s/it]"
     ]
    },
    {
     "name": "stdout",
     "output_type": "stream",
     "text": [
      "HTTPSConnectionPool(host='www.ebi.ac.uk', port=443): Max retries exceeded with url: /chembl/api/data/molecule/WWRJFSIRMWUMAE-ZZMNMWMASA-L (Caused by ResponseError('too many 404 error responses',))\n",
      "Molecule WWRJFSIRMWUMAE-ZZMNMWMASA-L doesn't exist\n"
     ]
    },
    {
     "name": "stderr",
     "output_type": "stream",
     "text": [
      " 93%|█████████▎| 821/887 [1:23:14<09:32,  8.68s/it]"
     ]
    },
    {
     "name": "stdout",
     "output_type": "stream",
     "text": [
      "HTTPSConnectionPool(host='www.ebi.ac.uk', port=443): Max retries exceeded with url: /chembl/api/data/molecule/JMORAWFVNMGOKQ-MGMRMFRLSA-N (Caused by ResponseError('too many 404 error responses',))\n",
      "Molecule JMORAWFVNMGOKQ-MGMRMFRLSA-N doesn't exist\n"
     ]
    },
    {
     "name": "stderr",
     "output_type": "stream",
     "text": [
      " 93%|█████████▎| 822/887 [1:23:27<10:23,  9.59s/it]"
     ]
    },
    {
     "name": "stdout",
     "output_type": "stream",
     "text": [
      "HTTPSConnectionPool(host='www.ebi.ac.uk', port=443): Max retries exceeded with url: /chembl/api/data/molecule/VRIVJOXICYMTAG-IYEMJOQQSA-L (Caused by ResponseError('too many 404 error responses',))\n",
      "Molecule VRIVJOXICYMTAG-IYEMJOQQSA-L doesn't exist\n"
     ]
    },
    {
     "name": "stderr",
     "output_type": "stream",
     "text": [
      " 93%|█████████▎| 823/887 [1:23:40<11:03, 10.37s/it]"
     ]
    },
    {
     "name": "stdout",
     "output_type": "stream",
     "text": [
      "HTTPSConnectionPool(host='www.ebi.ac.uk', port=443): Max retries exceeded with url: /chembl/api/data/molecule/MDXRFOWKIZPNTA-UHFFFAOYSA-L (Caused by ResponseError('too many 404 error responses',))\n",
      "Molecule MDXRFOWKIZPNTA-UHFFFAOYSA-L doesn't exist\n"
     ]
    },
    {
     "name": "stderr",
     "output_type": "stream",
     "text": [
      " 93%|█████████▎| 824/887 [1:23:53<11:31, 10.98s/it]"
     ]
    },
    {
     "name": "stdout",
     "output_type": "stream",
     "text": [
      "HTTPSConnectionPool(host='www.ebi.ac.uk', port=443): Max retries exceeded with url: /chembl/api/data/molecule/RFBYLSCVRUTUSB-ZZMNMWMASA-L (Caused by ResponseError('too many 404 error responses',))\n",
      "Molecule RFBYLSCVRUTUSB-ZZMNMWMASA-L doesn't exist\n"
     ]
    },
    {
     "name": "stderr",
     "output_type": "stream",
     "text": [
      " 93%|█████████▎| 825/887 [1:24:06<11:53, 11.50s/it]"
     ]
    },
    {
     "name": "stdout",
     "output_type": "stream",
     "text": [
      "HTTPSConnectionPool(host='www.ebi.ac.uk', port=443): Max retries exceeded with url: /chembl/api/data/molecule/PMVSDNDAUGGCCE-TYYBGVCCSA-L (Caused by ResponseError('too many 404 error responses',))\n",
      "Molecule PMVSDNDAUGGCCE-TYYBGVCCSA-L doesn't exist\n"
     ]
    },
    {
     "name": "stderr",
     "output_type": "stream",
     "text": [
      " 93%|█████████▎| 826/887 [1:24:18<12:02, 11.84s/it]"
     ]
    },
    {
     "name": "stdout",
     "output_type": "stream",
     "text": [
      "HTTPSConnectionPool(host='www.ebi.ac.uk', port=443): Max retries exceeded with url: /chembl/api/data/molecule/TVXXNOYZHKPKGW-UHFFFAOYSA-N (Caused by ResponseError('too many 404 error responses',))\n",
      "Molecule TVXXNOYZHKPKGW-UHFFFAOYSA-N doesn't exist\n",
      "No parent smiles for molecule OTYBMLCTZGSZBG-UHFFFAOYSA-L\n"
     ]
    },
    {
     "name": "stderr",
     "output_type": "stream",
     "text": [
      " 93%|█████████▎| 828/887 [1:24:31<09:15,  9.42s/it]"
     ]
    },
    {
     "name": "stdout",
     "output_type": "stream",
     "text": [
      "HTTPSConnectionPool(host='www.ebi.ac.uk', port=443): Max retries exceeded with url: /chembl/api/data/molecule/NTTOTNSKUYCDAV-UHFFFAOYSA-N (Caused by ResponseError('too many 404 error responses',))\n",
      "Molecule NTTOTNSKUYCDAV-UHFFFAOYSA-N doesn't exist\n"
     ]
    },
    {
     "name": "stderr",
     "output_type": "stream",
     "text": [
      " 93%|█████████▎| 829/887 [1:24:44<09:50, 10.19s/it]"
     ]
    },
    {
     "name": "stdout",
     "output_type": "stream",
     "text": [
      "HTTPSConnectionPool(host='www.ebi.ac.uk', port=443): Max retries exceeded with url: /chembl/api/data/molecule/YJYOLOWXCPIBSY-UHFFFAOYSA-L (Caused by ResponseError('too many 404 error responses',))\n",
      "Molecule YJYOLOWXCPIBSY-UHFFFAOYSA-L doesn't exist\n",
      "No parent smiles for molecule BNIILDVGGAEEIG-UHFFFAOYSA-L\n"
     ]
    },
    {
     "name": "stderr",
     "output_type": "stream",
     "text": [
      " 94%|█████████▎| 831/887 [1:24:56<08:03,  8.63s/it]"
     ]
    },
    {
     "name": "stdout",
     "output_type": "stream",
     "text": [
      "HTTPSConnectionPool(host='www.ebi.ac.uk', port=443): Max retries exceeded with url: /chembl/api/data/molecule/nan (Caused by ResponseError('too many 404 error responses',))\n",
      "Molecule nan doesn't exist\n"
     ]
    },
    {
     "name": "stderr",
     "output_type": "stream",
     "text": [
      " 94%|█████████▍| 832/887 [1:25:09<08:45,  9.56s/it]"
     ]
    },
    {
     "name": "stdout",
     "output_type": "stream",
     "text": [
      "HTTPSConnectionPool(host='www.ebi.ac.uk', port=443): Max retries exceeded with url: /chembl/api/data/molecule/nan (Caused by ResponseError('too many 404 error responses',))\n",
      "Molecule nan doesn't exist\n"
     ]
    },
    {
     "name": "stderr",
     "output_type": "stream",
     "text": [
      " 94%|█████████▍| 833/887 [1:25:22<09:16, 10.30s/it]"
     ]
    },
    {
     "name": "stdout",
     "output_type": "stream",
     "text": [
      "HTTPSConnectionPool(host='www.ebi.ac.uk', port=443): Max retries exceeded with url: /chembl/api/data/molecule/UQGFMSUEHSUPRD-UHFFFAOYSA-N (Caused by ResponseError('too many 404 error responses',))\n",
      "Molecule UQGFMSUEHSUPRD-UHFFFAOYSA-N doesn't exist\n"
     ]
    },
    {
     "name": "stderr",
     "output_type": "stream",
     "text": [
      " 94%|█████████▍| 834/887 [1:25:34<09:38, 10.91s/it]"
     ]
    },
    {
     "name": "stdout",
     "output_type": "stream",
     "text": [
      "HTTPSConnectionPool(host='www.ebi.ac.uk', port=443): Max retries exceeded with url: /chembl/api/data/molecule/WMFOQBRAJBCJND-UHFFFAOYSA-M (Caused by ResponseError('too many 404 error responses',))\n",
      "Molecule WMFOQBRAJBCJND-UHFFFAOYSA-M doesn't exist\n",
      "No parent smiles for molecule RSHAOIXHUHAZPM-UHFFFAOYSA-N\n",
      "No parent smiles for molecule ILRRQNADMUWWFW-UHFFFAOYSA-K\n"
     ]
    },
    {
     "name": "stderr",
     "output_type": "stream",
     "text": [
      " 94%|█████████▍| 837/887 [1:25:47<06:09,  7.40s/it]"
     ]
    },
    {
     "name": "stdout",
     "output_type": "stream",
     "text": [
      "HTTPSConnectionPool(host='www.ebi.ac.uk', port=443): Max retries exceeded with url: /chembl/api/data/molecule/UISKQNNAQKPSDO-UHFFFAOYSA-E (Caused by ResponseError('too many 404 error responses',))\n",
      "Molecule UISKQNNAQKPSDO-UHFFFAOYSA-E doesn't exist\n"
     ]
    },
    {
     "name": "stderr",
     "output_type": "stream",
     "text": [
      " 94%|█████████▍| 838/887 [1:26:00<06:54,  8.46s/it]"
     ]
    },
    {
     "name": "stdout",
     "output_type": "stream",
     "text": [
      "HTTPSConnectionPool(host='www.ebi.ac.uk', port=443): Max retries exceeded with url: /chembl/api/data/molecule/PHFQLYPOURZARY-UHFFFAOYSA-N (Caused by ResponseError('too many 404 error responses',))\n",
      "Molecule PHFQLYPOURZARY-UHFFFAOYSA-N doesn't exist\n"
     ]
    },
    {
     "name": "stderr",
     "output_type": "stream",
     "text": [
      " 95%|█████████▍| 839/887 [1:26:13<07:32,  9.43s/it]"
     ]
    },
    {
     "name": "stdout",
     "output_type": "stream",
     "text": [
      "HTTPSConnectionPool(host='www.ebi.ac.uk', port=443): Max retries exceeded with url: /chembl/api/data/molecule/ANPGUZATXCGJJH-OPDGVEILSA-K (Caused by ResponseError('too many 404 error responses',))\n",
      "Molecule ANPGUZATXCGJJH-OPDGVEILSA-K doesn't exist\n"
     ]
    },
    {
     "name": "stderr",
     "output_type": "stream",
     "text": [
      " 95%|█████████▍| 840/887 [1:26:25<08:00, 10.21s/it]"
     ]
    },
    {
     "name": "stdout",
     "output_type": "stream",
     "text": [
      "HTTPSConnectionPool(host='www.ebi.ac.uk', port=443): Max retries exceeded with url: /chembl/api/data/molecule/MSPQQAUTCRWLGR-UHFFFAOYSA-K (Caused by ResponseError('too many 404 error responses',))\n",
      "Molecule MSPQQAUTCRWLGR-UHFFFAOYSA-K doesn't exist\n"
     ]
    },
    {
     "name": "stderr",
     "output_type": "stream",
     "text": [
      " 95%|█████████▍| 841/887 [1:26:38<08:17, 10.82s/it]"
     ]
    },
    {
     "name": "stdout",
     "output_type": "stream",
     "text": [
      "HTTPSConnectionPool(host='www.ebi.ac.uk', port=443): Max retries exceeded with url: /chembl/api/data/molecule/RYPRIXSYXLDSOA-UHFFFAOYSA-L (Caused by ResponseError('too many 404 error responses',))\n",
      "Molecule RYPRIXSYXLDSOA-UHFFFAOYSA-L doesn't exist\n",
      "No parent smiles for molecule JIAARYAFYJHUJI-UHFFFAOYSA-L\n"
     ]
    },
    {
     "name": "stderr",
     "output_type": "stream",
     "text": [
      " 95%|█████████▌| 843/887 [1:26:51<06:33,  8.95s/it]"
     ]
    },
    {
     "name": "stdout",
     "output_type": "stream",
     "text": [
      "HTTPSConnectionPool(host='www.ebi.ac.uk', port=443): Max retries exceeded with url: /chembl/api/data/molecule/nan (Caused by ResponseError('too many 404 error responses',))\n",
      "Molecule nan doesn't exist\n"
     ]
    },
    {
     "name": "stderr",
     "output_type": "stream",
     "text": [
      " 95%|█████████▌| 844/887 [1:27:03<07:03,  9.84s/it]"
     ]
    },
    {
     "name": "stdout",
     "output_type": "stream",
     "text": [
      "HTTPSConnectionPool(host='www.ebi.ac.uk', port=443): Max retries exceeded with url: /chembl/api/data/molecule/UPWPDUACHOATKO-MPZFSRPWSA-K (Caused by ResponseError('too many 404 error responses',))\n",
      "Molecule UPWPDUACHOATKO-MPZFSRPWSA-K doesn't exist\n",
      "No parent smiles for molecule QVFLVLMYXXNJDT-CSBVGUNJSA-N\n"
     ]
    },
    {
     "name": "stderr",
     "output_type": "stream",
     "text": [
      " 95%|█████████▌| 846/887 [1:27:16<05:46,  8.46s/it]"
     ]
    },
    {
     "name": "stdout",
     "output_type": "stream",
     "text": [
      "HTTPSConnectionPool(host='www.ebi.ac.uk', port=443): Max retries exceeded with url: /chembl/api/data/molecule/nan (Caused by ResponseError('too many 404 error responses',))\n",
      "Molecule nan doesn't exist\n"
     ]
    },
    {
     "name": "stderr",
     "output_type": "stream",
     "text": [
      " 95%|█████████▌| 847/887 [1:27:29<06:17,  9.43s/it]"
     ]
    },
    {
     "name": "stdout",
     "output_type": "stream",
     "text": [
      "HTTPSConnectionPool(host='www.ebi.ac.uk', port=443): Max retries exceeded with url: /chembl/api/data/molecule/GUTLYIVDDKVIGB-UHFFFAOYSA-N (Caused by ResponseError('too many 404 error responses',))\n",
      "Molecule GUTLYIVDDKVIGB-UHFFFAOYSA-N doesn't exist\n"
     ]
    },
    {
     "name": "stderr",
     "output_type": "stream",
     "text": [
      " 96%|█████████▌| 848/887 [1:27:42<06:41, 10.31s/it]"
     ]
    },
    {
     "name": "stdout",
     "output_type": "stream",
     "text": [
      "HTTPSConnectionPool(host='www.ebi.ac.uk', port=443): Max retries exceeded with url: /chembl/api/data/molecule/nan (Caused by ResponseError('too many 404 error responses',))\n",
      "Molecule nan doesn't exist\n"
     ]
    },
    {
     "name": "stderr",
     "output_type": "stream",
     "text": [
      " 96%|█████████▌| 849/887 [1:27:55<07:00, 11.07s/it]"
     ]
    },
    {
     "name": "stdout",
     "output_type": "stream",
     "text": [
      "HTTPSConnectionPool(host='www.ebi.ac.uk', port=443): Max retries exceeded with url: /chembl/api/data/molecule/YPZVAYHNBBHPTO-MXRBDKCISA-N (Caused by ResponseError('too many 404 error responses',))\n",
      "Molecule YPZVAYHNBBHPTO-MXRBDKCISA-N doesn't exist\n",
      "No parent smiles for molecule BJFIDCADFRDPIO-DZCXQCEKSA-N\n",
      "No parent smiles for molecule MOVRKLZUVNCBIP-RFZYENFJSA-N\n"
     ]
    },
    {
     "name": "stderr",
     "output_type": "stream",
     "text": [
      " 96%|█████████▌| 852/887 [1:28:08<04:22,  7.49s/it]"
     ]
    },
    {
     "name": "stdout",
     "output_type": "stream",
     "text": [
      "HTTPSConnectionPool(host='www.ebi.ac.uk', port=443): Max retries exceeded with url: /chembl/api/data/molecule/nan (Caused by ResponseError('too many 404 error responses',))\n",
      "Molecule nan doesn't exist\n"
     ]
    },
    {
     "name": "stderr",
     "output_type": "stream",
     "text": [
      " 96%|█████████▌| 853/887 [1:28:21<04:51,  8.58s/it]"
     ]
    },
    {
     "name": "stdout",
     "output_type": "stream",
     "text": [
      "HTTPSConnectionPool(host='www.ebi.ac.uk', port=443): Max retries exceeded with url: /chembl/api/data/molecule/CMZUMMUJMWNLFH-UHFFFAOYSA-N (Caused by ResponseError('too many 404 error responses',))\n",
      "Molecule CMZUMMUJMWNLFH-UHFFFAOYSA-N doesn't exist\n"
     ]
    },
    {
     "name": "stderr",
     "output_type": "stream",
     "text": [
      " 96%|█████████▋| 855/887 [1:28:34<04:08,  7.77s/it]"
     ]
    },
    {
     "name": "stdout",
     "output_type": "stream",
     "text": [
      "HTTPSConnectionPool(host='www.ebi.ac.uk', port=443): Max retries exceeded with url: /chembl/api/data/molecule/WQVJHHACXVLGBL-BPJDFBQWSA-N (Caused by ResponseError('too many 404 error responses',))\n",
      "Molecule WQVJHHACXVLGBL-BPJDFBQWSA-N doesn't exist\n"
     ]
    },
    {
     "name": "stderr",
     "output_type": "stream",
     "text": [
      " 97%|█████████▋| 856/887 [1:28:46<04:32,  8.78s/it]"
     ]
    },
    {
     "name": "stdout",
     "output_type": "stream",
     "text": [
      "HTTPSConnectionPool(host='www.ebi.ac.uk', port=443): Max retries exceeded with url: /chembl/api/data/molecule/nan (Caused by ResponseError('too many 404 error responses',))\n",
      "Molecule nan doesn't exist\n",
      "No parent smiles for molecule RWWYLEGWBNMMLJ-YSOARWBDSA-N\n",
      "No parent smiles for molecule QMNFFXRFOJIOKZ-UHFFFAOYSA-N\n",
      "No parent smiles for molecule RIJLVEAXPNLDTC-UHFFFAOYSA-N\n",
      "No parent smiles for molecule DJXRIQMCROIRCZ-XOEOCAAJSA-N\n",
      "No parent smiles for molecule GETAAWDSFUCLBS-SJPDSGJFSA-N\n"
     ]
    },
    {
     "name": "stderr",
     "output_type": "stream",
     "text": [
      " 97%|█████████▋| 862/887 [1:28:59<01:53,  4.52s/it]"
     ]
    },
    {
     "name": "stdout",
     "output_type": "stream",
     "text": [
      "HTTPSConnectionPool(host='www.ebi.ac.uk', port=443): Max retries exceeded with url: /chembl/api/data/molecule/nan (Caused by ResponseError('too many 404 error responses',))\n",
      "Molecule nan doesn't exist\n",
      "No parent smiles for molecule AFHJQYHRLPMKHU-CGISPIQUSA-N\n"
     ]
    },
    {
     "name": "stderr",
     "output_type": "stream",
     "text": [
      " 97%|█████████▋| 864/887 [1:29:12<01:54,  4.96s/it]"
     ]
    },
    {
     "name": "stdout",
     "output_type": "stream",
     "text": [
      "HTTPSConnectionPool(host='www.ebi.ac.uk', port=443): Max retries exceeded with url: /chembl/api/data/molecule/BLKLTTCUAPDQEG-UHFFFAOYSA-L (Caused by ResponseError('too many 404 error responses',))\n",
      "Molecule BLKLTTCUAPDQEG-UHFFFAOYSA-L doesn't exist\n",
      "No parent smiles for molecule ZZPKZRHERLGEKA-UHFFFAOYSA-N\n"
     ]
    },
    {
     "name": "stderr",
     "output_type": "stream",
     "text": [
      " 98%|█████████▊| 866/887 [1:29:25<01:51,  5.31s/it]"
     ]
    },
    {
     "name": "stdout",
     "output_type": "stream",
     "text": [
      "HTTPSConnectionPool(host='www.ebi.ac.uk', port=443): Max retries exceeded with url: /chembl/api/data/molecule/PZBPHYLKIMOZPR-FIYGWYQWSA-K (Caused by ResponseError('too many 404 error responses',))\n",
      "Molecule PZBPHYLKIMOZPR-FIYGWYQWSA-K doesn't exist\n",
      "No parent smiles for molecule PRGILOMAMBLWNG-UHFFFAOYSA-N\n"
     ]
    },
    {
     "name": "stderr",
     "output_type": "stream",
     "text": [
      " 98%|█████████▊| 868/887 [1:29:38<01:46,  5.63s/it]"
     ]
    },
    {
     "name": "stdout",
     "output_type": "stream",
     "text": [
      "HTTPSConnectionPool(host='www.ebi.ac.uk', port=443): Max retries exceeded with url: /chembl/api/data/molecule/MZRDSGWDVDESRC-VNWQTDIGSA-L (Caused by ResponseError('too many 404 error responses',))\n",
      "Molecule MZRDSGWDVDESRC-VNWQTDIGSA-L doesn't exist\n",
      "No parent smiles for molecule GYCKQBWUSACYIF-UHFFFAOYSA-N\n",
      "No parent smiles for molecule RWVGQQGBQSJDQV-UHFFFAOYSA-M\n"
     ]
    },
    {
     "name": "stderr",
     "output_type": "stream",
     "text": [
      " 98%|█████████▊| 871/887 [1:29:50<01:21,  5.12s/it]"
     ]
    },
    {
     "name": "stdout",
     "output_type": "stream",
     "text": [
      "HTTPSConnectionPool(host='www.ebi.ac.uk', port=443): Max retries exceeded with url: /chembl/api/data/molecule/AHPWLYJHTFAWKI-UHFFFAOYSA-K (Caused by ResponseError('too many 404 error responses',))\n",
      "Molecule AHPWLYJHTFAWKI-UHFFFAOYSA-K doesn't exist\n"
     ]
    },
    {
     "name": "stderr",
     "output_type": "stream",
     "text": [
      " 98%|█████████▊| 872/887 [1:30:03<01:33,  6.23s/it]"
     ]
    },
    {
     "name": "stdout",
     "output_type": "stream",
     "text": [
      "HTTPSConnectionPool(host='www.ebi.ac.uk', port=443): Max retries exceeded with url: /chembl/api/data/molecule/JTQTXQSGPZRXJF-DOJSGGEQSA-N (Caused by ResponseError('too many 404 error responses',))\n",
      "Molecule JTQTXQSGPZRXJF-DOJSGGEQSA-N doesn't exist\n",
      "No parent smiles for molecule CLOKKBBIKHZGNX-UHFFFAOYSA-L\n",
      "No parent smiles for molecule HQQUTGFAWJNQIP-UHFFFAOYSA-K\n",
      "No parent smiles for molecule KDLLNMRYZGUVMA-ZYMZXAKXSA-N\n",
      "No parent smiles for molecule MHPZZZZLAQGTHT-UHFFFAOYSA-N\n"
     ]
    },
    {
     "name": "stderr",
     "output_type": "stream",
     "text": [
      " 99%|█████████▉| 877/887 [1:30:16<00:43,  4.36s/it]"
     ]
    },
    {
     "name": "stdout",
     "output_type": "stream",
     "text": [
      "HTTPSConnectionPool(host='www.ebi.ac.uk', port=443): Max retries exceeded with url: /chembl/api/data/molecule/ZNVKGUVDRSSWHV-UHFFFAOYSA-L (Caused by ResponseError('too many 404 error responses',))\n",
      "Molecule ZNVKGUVDRSSWHV-UHFFFAOYSA-L doesn't exist\n"
     ]
    },
    {
     "name": "stderr",
     "output_type": "stream",
     "text": [
      " 99%|█████████▉| 878/887 [1:30:29<00:48,  5.43s/it]"
     ]
    },
    {
     "name": "stdout",
     "output_type": "stream",
     "text": [
      "HTTPSConnectionPool(host='www.ebi.ac.uk', port=443): Max retries exceeded with url: /chembl/api/data/molecule/GBLBJPZSROAGMF-BATDWUPUSA-N (Caused by ResponseError('too many 404 error responses',))\n",
      "Molecule GBLBJPZSROAGMF-BATDWUPUSA-N doesn't exist\n"
     ]
    },
    {
     "name": "stderr",
     "output_type": "stream",
     "text": [
      " 99%|█████████▉| 879/887 [1:30:42<00:52,  6.61s/it]"
     ]
    },
    {
     "name": "stdout",
     "output_type": "stream",
     "text": [
      "HTTPSConnectionPool(host='www.ebi.ac.uk', port=443): Max retries exceeded with url: /chembl/api/data/molecule/IJRLLVFQGCCPPI-NVGRTJHCSA-L (Caused by ResponseError('too many 404 error responses',))\n",
      "Molecule IJRLLVFQGCCPPI-NVGRTJHCSA-L doesn't exist\n",
      "No parent smiles for molecule HSFWRNGVRCDJHI-UHFFFAOYSA-N\n",
      "No parent smiles for molecule RUVINXPYWBROJD-ONEGZZNKSA-N\n",
      "No parent smiles for molecule PRKQVKDSMLBJBJ-UHFFFAOYSA-N\n"
     ]
    },
    {
     "name": "stderr",
     "output_type": "stream",
     "text": [
      "100%|█████████▉| 883/887 [1:30:54<00:20,  5.01s/it]"
     ]
    },
    {
     "name": "stdout",
     "output_type": "stream",
     "text": [
      "HTTPSConnectionPool(host='www.ebi.ac.uk', port=443): Max retries exceeded with url: /chembl/api/data/molecule/CBEYZWBXIPZYNH-UHFFFAOYSA-J (Caused by ResponseError('too many 404 error responses',))\n",
      "Molecule CBEYZWBXIPZYNH-UHFFFAOYSA-J doesn't exist\n"
     ]
    },
    {
     "name": "stderr",
     "output_type": "stream",
     "text": [
      "100%|█████████▉| 884/887 [1:31:07<00:18,  6.10s/it]"
     ]
    },
    {
     "name": "stdout",
     "output_type": "stream",
     "text": [
      "HTTPSConnectionPool(host='www.ebi.ac.uk', port=443): Max retries exceeded with url: /chembl/api/data/molecule/AWMAOFAHBPCBHJ-YZUKSGEXSA-M (Caused by ResponseError('too many 404 error responses',))\n",
      "Molecule AWMAOFAHBPCBHJ-YZUKSGEXSA-M doesn't exist\n"
     ]
    },
    {
     "name": "stderr",
     "output_type": "stream",
     "text": [
      "100%|█████████▉| 885/887 [1:31:20<00:14,  7.25s/it]"
     ]
    },
    {
     "name": "stdout",
     "output_type": "stream",
     "text": [
      "HTTPSConnectionPool(host='www.ebi.ac.uk', port=443): Max retries exceeded with url: /chembl/api/data/molecule/UXNXMBYCBRBRFD-MUUNZHRXSA-N (Caused by ResponseError('too many 404 error responses',))\n",
      "Molecule UXNXMBYCBRBRFD-MUUNZHRXSA-N doesn't exist\n"
     ]
    },
    {
     "name": "stderr",
     "output_type": "stream",
     "text": [
      "100%|██████████| 887/887 [1:31:33<00:00,  6.19s/it]"
     ]
    },
    {
     "name": "stdout",
     "output_type": "stream",
     "text": [
      "HTTPSConnectionPool(host='www.ebi.ac.uk', port=443): Max retries exceeded with url: /chembl/api/data/molecule/AEBYHKKMCWUMKX-LNTZDJBBSA-K (Caused by ResponseError('too many 404 error responses',))\n",
      "Molecule AEBYHKKMCWUMKX-LNTZDJBBSA-K doesn't exist\n",
      "No parent smiles for molecule RCGYDFVCAAKKNG-UHFFFAOYSA-N\n"
     ]
    },
    {
     "name": "stderr",
     "output_type": "stream",
     "text": [
      "\n"
     ]
    }
   ],
   "source": [
    "for mol in tqdm(list(drugbank['inchi_key']), position=0, leave=True):\n",
    "    try:\n",
    "        res = new_client.molecule.get(mol)\n",
    "\n",
    "        # add features\n",
    "        if mol == res['molecule_structures']['standard_inchi_key']:\n",
    "            index = drugbank.loc[drugbank['inchi_key'] == mol].index.values[0]\n",
    "            for feature in drugbank_list_of_features:\n",
    "                if feature == 'atc_classifications' and not res[feature]:\n",
    "                    drugbank.at[index, feature] = None\n",
    "                elif feature == 'atc_classifications' and res[feature]:\n",
    "                    drugbank.at[index, feature] = '+'.join(res[feature])\n",
    "                else:\n",
    "                    drugbank.at[index, feature] = res[feature]\n",
    "\n",
    "            # add properties\n",
    "            try:\n",
    "                for prop in drugbank_list_of_properties:\n",
    "                    drugbank.at[index, prop] = res['molecule_properties'][prop]\n",
    "            except TypeError:\n",
    "                print('No properties for molecule {}'.format(mol))\n",
    "\n",
    "            # try to add smiles if exists\n",
    "            try:\n",
    "                if drugbank.loc[drugbank['inchi_key'] == mol]['smiles'].values[0] == 'missing':\n",
    "                    smiles = res['molecule_structures']['canonical_smiles']\n",
    "                    drugbank.at[index, 'canonical_smiles'] = smiles\n",
    "            except TypeError:\n",
    "                print('No smiles for molecule {}'.format(mol))\n",
    "\n",
    "            # add parent molecule\n",
    "            try:\n",
    "                parent_mol = res['molecule_hierarchy']['parent_chembl_id']\n",
    "                drugbank.at[index, 'parent_chembl_id'] = parent_mol\n",
    "            except TypeError:\n",
    "                continue\n",
    "            # check if parent has smiles\n",
    "            try:\n",
    "                parent_res = molecule.get(parent_mol)\n",
    "                parent_smiles = parent_res['molecule_structures']['canonical_smiles']\n",
    "                parent_inchi_key = parent_res['molecule_structures']['standard_inchi_key']\n",
    "                drugbank.at[index, 'parent_smiles'] = parent_smiles\n",
    "                drugbank.at[index, 'parent_inchi_key'] = parent_inchi_key\n",
    "            except:\n",
    "                print('No parent smiles for molecule {}'.format(mol))\n",
    "\n",
    "    except Exception as e:\n",
    "        print(e)\n",
    "        print(\"Molecule {} doesn't exist\".format(mol))"
   ]
  },
  {
   "cell_type": "code",
   "execution_count": 281,
   "id": "0f6107a4-6846-4b0e-b2df-4fdd20efcaa6",
   "metadata": {},
   "outputs": [],
   "source": [
    "drugbank['action_type'] = 'missing'\n",
    "drugbank['direct_interaction'] = 'missing'\n",
    "drugbank['disease_efficacy'] = 'missing'\n",
    "drugbank['molecular_mechanism'] = 'missing'\n",
    "drugbank['target_chembl_id'] = 'missing'"
   ]
  },
  {
   "cell_type": "code",
   "execution_count": 283,
   "id": "5ff8a794-8fe0-4b78-9165-3cf71bec68b2",
   "metadata": {},
   "outputs": [
    {
     "name": "stderr",
     "output_type": "stream",
     "text": [
      "100%|██████████| 887/887 [05:32<00:00,  2.67it/s]\n"
     ]
    }
   ],
   "source": [
    "for molecule in tqdm(list(drugbank['molecule_chembl_id'])):\n",
    "    for mechanism in new_client.mechanism.filter(molecule_chembl_id=molecule):\n",
    "        if mechanism['max_phase'] == 4:\n",
    "            for i in mechanism_list:\n",
    "                if drugbank.loc[drugbank['molecule_chembl_id'] == molecule][i].values[0] == 'missing':\n",
    "                    drugbank.loc[drugbank['molecule_chembl_id'] == molecule, i] = mechanism[i]\n",
    "                else:\n",
    "                    old_label = drugbank.loc[drugbank['molecule_chembl_id'] == molecule][i].values[0]\n",
    "                    drugbank.loc[drugbank['molecule_chembl_id'] == molecule, i] = '{}+{}'.format(old_label, mechanism[i])"
   ]
  },
  {
   "cell_type": "code",
   "execution_count": 315,
   "id": "cd386680-6c5d-4e81-b8c0-b3c86683fb3a",
   "metadata": {},
   "outputs": [],
   "source": [
    "drugbank = drugbank.loc[(drugbank['max_phase'] == 'missing') | (drugbank['max_phase'] == 4)]"
   ]
  },
  {
   "cell_type": "code",
   "execution_count": 295,
   "id": "2654a825-404a-4c8f-9425-bdb75ae70e41",
   "metadata": {
    "scrolled": true,
    "tags": []
   },
   "outputs": [
    {
     "name": "stdout",
     "output_type": "stream",
     "text": [
      "Mol CHEMBL103 not in the set\n",
      "Mol CHEMBL1200430 not in the set\n",
      "Mol CHEMBL1200686 not in the set\n",
      "Mol CHEMBL1200973 not in the set\n",
      "Mol CHEMBL1201314 not in the set\n",
      "Mol CHEMBL1201572 not in the set\n",
      "Mol CHEMBL1201581 not in the set\n",
      "Mol CHEMBL1201866 not in the set\n",
      "Mol CHEMBL1220 not in the set\n",
      "Mol CHEMBL135 not in the set\n",
      "Mol CHEMBL137 not in the set\n",
      "Mol CHEMBL1393 not in the set\n",
      "Mol CHEMBL1456 not in the set\n",
      "Mol CHEMBL1479 not in the set\n",
      "Mol CHEMBL1511 not in the set\n",
      "Mol CHEMBL152 not in the set\n",
      "Mol CHEMBL1542 not in the set\n",
      "Mol CHEMBL1643 not in the set\n",
      "Mol CHEMBL1651906 not in the set\n",
      "Mol CHEMBL1742990 not in the set\n",
      "Mol CHEMBL182 not in the set\n",
      "Mol CHEMBL2107841 not in the set\n",
      "Mol CHEMBL2107857 not in the set\n",
      "Mol CHEMBL2108027 not in the set\n",
      "Mol CHEMBL2108078 not in the set\n",
      "Mol CHEMBL2108724 not in the set\n",
      "Mol CHEMBL221959 not in the set\n",
      "Mol CHEMBL269732 not in the set\n",
      "Mol CHEMBL3301581 not in the set\n",
      "Mol CHEMBL34259 not in the set\n",
      "Mol CHEMBL413 not in the set\n",
      "Mol CHEMBL414357 not in the set\n",
      "Mol CHEMBL416 not in the set\n",
      "Mol CHEMBL417 not in the set\n",
      "Mol CHEMBL467 not in the set\n",
      "Mol CHEMBL476 not in the set\n",
      "Mol CHEMBL494753 not in the set\n",
      "Mol CHEMBL515 not in the set\n",
      "Mol CHEMBL53463 not in the set\n",
      "Mol CHEMBL671 not in the set\n",
      "Mol CHEMBL717 not in the set\n",
      "Mol CHEMBL83 not in the set\n",
      "Mol CHEMBL866 not in the set\n",
      "Mol CHEMBL118 not in the set\n",
      "Mol CHEMBL121 not in the set\n",
      "Mol CHEMBL479 not in the set\n",
      "Mol CHEMBL1020 not in the set\n",
      "Mol CHEMBL103 not in the set\n",
      "Mol CHEMBL1070 not in the set\n",
      "Mol CHEMBL1071 not in the set\n",
      "Mol CHEMBL1098 not in the set\n",
      "Mol CHEMBL1108 not in the set\n",
      "Mol CHEMBL1117 not in the set\n",
      "Mol CHEMBL11359 not in the set\n",
      "Mol CHEMBL1164729 not in the set\n",
      "Mol CHEMBL1171837 not in the set\n",
      "Mol CHEMBL1200430 not in the set\n",
      "Mol CHEMBL1200973 not in the set\n",
      "Mol CHEMBL1201336 not in the set\n",
      "Mol CHEMBL1201577 not in the set\n",
      "Mol CHEMBL1201824 not in the set\n",
      "Mol CHEMBL1276308 not in the set\n",
      "Mol CHEMBL1294 not in the set\n",
      "Mol CHEMBL1297 not in the set\n",
      "Mol CHEMBL13 not in the set\n",
      "Mol CHEMBL134 not in the set\n",
      "Mol CHEMBL135 not in the set\n",
      "Mol CHEMBL139 not in the set\n",
      "Mol CHEMBL1431 not in the set\n",
      "Mol CHEMBL1511 not in the set\n",
      "Mol CHEMBL154 not in the set\n",
      "Mol CHEMBL154111 not in the set\n",
      "Mol CHEMBL157101 not in the set\n",
      "Mol CHEMBL15770 not in the set\n",
      "Mol CHEMBL16 not in the set\n",
      "Mol CHEMBL1655 not in the set\n",
      "Mol CHEMBL1663 not in the set\n",
      "Mol CHEMBL1743047 not in the set\n",
      "Mol CHEMBL1760 not in the set\n",
      "Mol CHEMBL178 not in the set\n",
      "Mol CHEMBL2007641 not in the set\n",
      "Mol CHEMBL2108676 not in the set\n",
      "Mol CHEMBL24 not in the set\n",
      "Mol CHEMBL24828 not in the set\n",
      "Mol CHEMBL27 not in the set\n",
      "Mol CHEMBL405 not in the set\n",
      "Mol CHEMBL417 not in the set\n",
      "Mol CHEMBL42 not in the set\n",
      "Mol CHEMBL469 not in the set\n",
      "Mol CHEMBL471 not in the set\n",
      "Mol CHEMBL473 not in the set\n",
      "Mol CHEMBL494753 not in the set\n",
      "Mol CHEMBL499 not in the set\n",
      "Mol CHEMBL517 not in the set\n",
      "Mol CHEMBL521 not in the set\n",
      "Mol CHEMBL527 not in the set\n",
      "Mol CHEMBL533 not in the set\n",
      "Mol CHEMBL53463 not in the set\n",
      "Mol CHEMBL558 not in the set\n",
      "Mol CHEMBL563 not in the set\n",
      "Mol CHEMBL571 not in the set\n",
      "Mol CHEMBL58 not in the set\n",
      "Mol CHEMBL595 not in the set\n",
      "Mol CHEMBL599 not in the set\n",
      "Mol CHEMBL6 not in the set\n",
      "Mol CHEMBL622 not in the set\n",
      "Mol CHEMBL633 not in the set\n",
      "Mol CHEMBL640 not in the set\n",
      "Mol CHEMBL649 not in the set\n",
      "Mol CHEMBL651 not in the set\n",
      "Mol CHEMBL652 not in the set\n",
      "Mol CHEMBL686 not in the set\n",
      "Mol CHEMBL717 not in the set\n",
      "Mol CHEMBL802 not in the set\n",
      "Mol CHEMBL898 not in the set\n",
      "Mol CHEMBL108 not in the set\n",
      "Mol CHEMBL1200431 not in the set\n",
      "Mol CHEMBL1201589 not in the set\n",
      "Mol CHEMBL1201824 not in the set\n",
      "Mol CHEMBL1366 not in the set\n",
      "Mol CHEMBL2108676 not in the set\n",
      "Mol CHEMBL34259 not in the set\n",
      "Mol CHEMBL428647 not in the set\n",
      "Mol CHEMBL57 not in the set\n",
      "Mol CHEMBL741 not in the set\n",
      "Mol CHEMBL92 not in the set\n",
      "Mol CHEMBL118 not in the set\n",
      "Mol CHEMBL1020 not in the set\n",
      "Mol CHEMBL1070 not in the set\n",
      "Mol CHEMBL1071 not in the set\n",
      "Mol CHEMBL109 not in the set\n",
      "Mol CHEMBL1110 not in the set\n",
      "Mol CHEMBL11359 not in the set\n",
      "Mol CHEMBL1201289 not in the set\n",
      "Mol CHEMBL1297 not in the set\n",
      "Mol CHEMBL1351 not in the set\n",
      "Mol CHEMBL139 not in the set\n",
      "Mol CHEMBL1447 not in the set\n",
      "Mol CHEMBL1460 not in the set\n",
      "Mol CHEMBL154 not in the set\n",
      "Mol CHEMBL154111 not in the set\n",
      "Mol CHEMBL15770 not in the set\n",
      "Mol CHEMBL1651906 not in the set\n",
      "Mol CHEMBL1742982 not in the set\n",
      "Mol CHEMBL1753 not in the set\n",
      "Mol CHEMBL2108676 not in the set\n",
      "Mol CHEMBL2216870 not in the set\n",
      "Mol CHEMBL3184512 not in the set\n",
      "Mol CHEMBL34259 not in the set\n",
      "Mol CHEMBL469 not in the set\n",
      "Mol CHEMBL481 not in the set\n",
      "Mol CHEMBL521 not in the set\n",
      "Mol CHEMBL527 not in the set\n",
      "Mol CHEMBL550348 not in the set\n",
      "Mol CHEMBL563 not in the set\n",
      "Mol CHEMBL571 not in the set\n",
      "Mol CHEMBL599 not in the set\n",
      "Mol CHEMBL6 not in the set\n",
      "Mol CHEMBL622 not in the set\n",
      "Mol CHEMBL64 not in the set\n",
      "Mol CHEMBL686 not in the set\n",
      "Mol CHEMBL803 not in the set\n",
      "Mol CHEMBL898 not in the set\n",
      "Mol CHEMBL92 not in the set\n",
      "Mol CHEMBL1024 not in the set\n",
      "Mol CHEMBL105 not in the set\n",
      "Mol CHEMBL108 not in the set\n",
      "Mol CHEMBL1094 not in the set\n",
      "Mol CHEMBL1096882 not in the set\n",
      "Mol CHEMBL1117 not in the set\n",
      "Mol CHEMBL11359 not in the set\n",
      "Mol CHEMBL1161681 not in the set\n",
      "Mol CHEMBL1201281 not in the set\n",
      "Mol CHEMBL1201314 not in the set\n",
      "Mol CHEMBL1276308 not in the set\n",
      "Mol CHEMBL129 not in the set\n",
      "Mol CHEMBL1351 not in the set\n",
      "Mol CHEMBL1366 not in the set\n",
      "Mol CHEMBL152 not in the set\n",
      "Mol CHEMBL1542 not in the set\n",
      "Mol CHEMBL1643 not in the set\n",
      "Mol CHEMBL1651906 not in the set\n",
      "Mol CHEMBL170 not in the set\n",
      "Mol CHEMBL178 not in the set\n",
      "Mol CHEMBL182 not in the set\n",
      "Mol CHEMBL34259 not in the set\n",
      "Mol CHEMBL38 not in the set\n",
      "Mol CHEMBL417 not in the set\n",
      "Mol CHEMBL42 not in the set\n",
      "Mol CHEMBL428647 not in the set\n",
      "Mol CHEMBL44657 not in the set\n",
      "Mol CHEMBL467 not in the set\n",
      "Mol CHEMBL476 not in the set\n",
      "Mol CHEMBL481 not in the set\n",
      "Mol CHEMBL514 not in the set\n",
      "Mol CHEMBL515 not in the set\n",
      "Mol CHEMBL53463 not in the set\n",
      "Mol CHEMBL553025 not in the set\n",
      "Mol CHEMBL58 not in the set\n",
      "Mol CHEMBL640 not in the set\n",
      "Mol CHEMBL671 not in the set\n",
      "Mol CHEMBL70927 not in the set\n",
      "Mol CHEMBL803 not in the set\n",
      "Mol CHEMBL820 not in the set\n",
      "Mol CHEMBL833 not in the set\n",
      "Mol CHEMBL84 not in the set\n",
      "Mol CHEMBL852 not in the set\n",
      "Mol CHEMBL92 not in the set\n",
      "Mol CHEMBL1077 not in the set\n",
      "Mol CHEMBL1201506 not in the set\n",
      "Mol CHEMBL1324 not in the set\n",
      "Mol CHEMBL109 not in the set\n",
      "Mol CHEMBL1094 not in the set\n",
      "Mol CHEMBL112 not in the set\n",
      "Mol CHEMBL1131 not in the set\n",
      "Mol CHEMBL1171837 not in the set\n",
      "Mol CHEMBL1200436 not in the set\n",
      "Mol CHEMBL1201187 not in the set\n",
      "Mol CHEMBL1201288 not in the set\n",
      "Mol CHEMBL1237044 not in the set\n",
      "Mol CHEMBL129 not in the set\n",
      "Mol CHEMBL1380 not in the set\n",
      "Mol CHEMBL141 not in the set\n",
      "Mol CHEMBL1460 not in the set\n",
      "Mol CHEMBL1479 not in the set\n",
      "Mol CHEMBL1518 not in the set\n",
      "Mol CHEMBL1538 not in the set\n",
      "Mol CHEMBL157101 not in the set\n",
      "Mol CHEMBL1651906 not in the set\n",
      "Mol CHEMBL2107825 not in the set\n",
      "Mol CHEMBL2108611 not in the set\n",
      "Mol CHEMBL2216870 not in the set\n",
      "Mol CHEMBL222559 not in the set\n",
      "Mol CHEMBL34259 not in the set\n",
      "Mol CHEMBL344159 not in the set\n",
      "Mol CHEMBL354541 not in the set\n",
      "Mol CHEMBL461101 not in the set\n",
      "Mol CHEMBL471 not in the set\n",
      "Mol CHEMBL476 not in the set\n",
      "Mol CHEMBL53463 not in the set\n",
      "Mol CHEMBL535 not in the set\n",
      "Mol CHEMBL550348 not in the set\n",
      "Mol CHEMBL558 not in the set\n",
      "Mol CHEMBL57 not in the set\n",
      "Mol CHEMBL623 not in the set\n",
      "Mol CHEMBL633 not in the set\n",
      "Mol CHEMBL64 not in the set\n",
      "Mol CHEMBL713 not in the set\n",
      "Mol CHEMBL803 not in the set\n",
      "Mol CHEMBL806 not in the set\n",
      "Mol CHEMBL885 not in the set\n",
      "Mol CHEMBL92 not in the set\n",
      "Mol CHEMBL922 not in the set\n",
      "Mol CHEMBL957 not in the set\n",
      "Mol CHEMBL960 not in the set\n",
      "Mol CHEMBL973 not in the set\n",
      "Mol CHEMBL991 not in the set\n",
      "Mol CHEMBL11359 not in the set\n",
      "Mol CHEMBL1201544 not in the set\n",
      "Mol CHEMBL1201589 not in the set\n",
      "Mol CHEMBL1201595 not in the set\n",
      "Mol CHEMBL1201824 not in the set\n",
      "Mol CHEMBL1201826 not in the set\n",
      "Mol CHEMBL1201837 not in the set\n",
      "Mol CHEMBL1237025 not in the set\n",
      "Mol CHEMBL1351 not in the set\n",
      "Mol CHEMBL1374379 not in the set\n",
      "Mol CHEMBL1380 not in the set\n",
      "Mol CHEMBL1456 not in the set\n",
      "Mol CHEMBL1460 not in the set\n",
      "Mol CHEMBL1542 not in the set\n",
      "Mol CHEMBL1550 not in the set\n",
      "Mol CHEMBL1742990 not in the set\n",
      "Mol CHEMBL2108676 not in the set\n",
      "Mol CHEMBL269732 not in the set\n",
      "Mol CHEMBL3137342 not in the set\n",
      "Mol CHEMBL3544926 not in the set\n",
      "Mol CHEMBL413 not in the set\n",
      "Mol CHEMBL414804 not in the set\n",
      "Mol CHEMBL428647 not in the set\n",
      "Mol CHEMBL469 not in the set\n",
      "Mol CHEMBL57 not in the set\n",
      "Mol CHEMBL643 not in the set\n",
      "Mol CHEMBL852 not in the set\n",
      "Mol CHEMBL866CHEMBL92 not in the set\n",
      "Mol CHEMBL479 not in the set\n",
      "Mol CHEMBL1201289 not in the set\n",
      "Mol CHEMBL1201572 not in the set\n",
      "Mol CHEMBL1201581 not in the set\n",
      "Mol CHEMBL1201607 not in the set\n",
      "Mol CHEMBL1201828 not in the set\n",
      "Mol CHEMBL1276308 not in the set\n",
      "Mol CHEMBL1447 not in the set\n",
      "Mol CHEMBL1456 not in the set\n",
      "Mol CHEMBL1742990 not in the set\n",
      "Mol CHEMBL1753 not in the set\n",
      "Mol CHEMBL2107857 not in the set\n",
      "Mol CHEMBL2216870 not in the set\n",
      "Mol CHEMBL221959 not in the set\n",
      "Mol CHEMBL269732 not in the set\n",
      "Mol CHEMBL3184512 not in the set\n",
      "Mol CHEMBL34259 not in the set\n",
      "Mol CHEMBL413 not in the set\n",
      "Mol CHEMBL553025 not in the set\n",
      "Mol CHEMBL643 not in the set\n",
      "Mol CHEMBL866 not in the set\n",
      "Mol CHEMBL129 not in the set\n",
      "Mol CHEMBL1380 not in the set\n",
      "Mol CHEMBL141 not in the set\n",
      "Mol CHEMBL1431 not in the set\n",
      "Mol CHEMBL1460 not in the set\n",
      "Mol CHEMBL1743047 not in the set\n",
      "Mol CHEMBL1760 not in the set\n",
      "Mol CHEMBL585 not in the set\n",
      "Mol CHEMBL713 not in the set\n",
      "Mol CHEMBL922 not in the set\n",
      "Mol CHEMBL945 not in the set\n",
      "Mol CHEMBL991 not in the set\n",
      "Mol CHEMBL129 not in the set\n",
      "Mol CHEMBL32 not in the set\n",
      "Mol CHEMBL33 not in the set\n",
      "Mol CHEMBL4 not in the set\n",
      "Mol CHEMBL640 not in the set\n",
      "Mol CHEMBL701 not in the set\n",
      "Mol CHEMBL717 not in the set\n",
      "Mol CHEMBL8 not in the set\n",
      "Mol CHEMBL1024 not in the set\n",
      "Mol CHEMBL105 not in the set\n",
      "Mol CHEMBL1072 not in the set\n",
      "Mol CHEMBL11359 not in the set\n",
      "Mol CHEMBL1366 not in the set\n",
      "Mol CHEMBL152 not in the set\n",
      "Mol CHEMBL1651906 not in the set\n",
      "Mol CHEMBL1747 not in the set\n",
      "Mol CHEMBL177 not in the set\n",
      "Mol CHEMBL2105720 not in the set\n",
      "Mol CHEMBL3039597 not in the set\n",
      "Mol CHEMBL34259 not in the set\n",
      "Mol CHEMBL3989769 not in the set\n",
      "Mol CHEMBL507870 not in the set\n",
      "Mol CHEMBL550348 not in the set\n",
      "Mol CHEMBL666 not in the set\n",
      "Mol CHEMBL922 not in the set\n",
      "Mol CHEMBL118 not in the set\n",
      "Mol CHEMBL646 not in the set\n",
      "Mol CHEMBL1020 not in the set\n",
      "Mol CHEMBL1024 not in the set\n",
      "Mol CHEMBL103 not in the set\n",
      "Mol CHEMBL1070 not in the set\n",
      "Mol CHEMBL1071 not in the set\n",
      "Mol CHEMBL1096882 not in the set\n",
      "Mol CHEMBL1098 not in the set\n",
      "Mol CHEMBL11359 not in the set\n",
      "Mol CHEMBL1171837 not in the set\n",
      "Mol CHEMBL1200430 not in the set\n",
      "Mol CHEMBL1200973 not in the set\n",
      "Mol CHEMBL1201112 not in the set\n",
      "Mol CHEMBL1297 not in the set\n",
      "Mol CHEMBL1342 not in the set\n",
      "Mol CHEMBL135 not in the set\n",
      "Mol CHEMBL139 not in the set\n",
      "Mol CHEMBL1479 not in the set\n",
      "Mol CHEMBL1511 not in the set\n",
      "Mol CHEMBL154 not in the set\n",
      "Mol CHEMBL154111 not in the set\n",
      "Mol CHEMBL15770 not in the set\n",
      "Mol CHEMBL1619 not in the set\n",
      "Mol CHEMBL1747 not in the set\n",
      "Mol CHEMBL177 not in the set\n",
      "Mol CHEMBL1795072 not in the set\n",
      "Mol CHEMBL3039597 not in the set\n",
      "Mol CHEMBL3137342 not in the set\n",
      "Mol CHEMBL32 not in the set\n",
      "Mol CHEMBL33 not in the set\n",
      "Mol CHEMBL3989738 not in the set\n",
      "Mol CHEMBL3989769 not in the set\n",
      "Mol CHEMBL4 not in the set\n",
      "Mol CHEMBL407 not in the set\n",
      "Mol CHEMBL42 not in the set\n",
      "Mol CHEMBL469 not in the set\n",
      "Mol CHEMBL494753 not in the set\n",
      "Mol CHEMBL521 not in the set\n",
      "Mol CHEMBL527 not in the set\n",
      "Mol CHEMBL539697 not in the set\n",
      "Mol CHEMBL563 not in the set\n",
      "Mol CHEMBL571 not in the set\n",
      "Mol CHEMBL599 not in the set\n",
      "Mol CHEMBL6 not in the set\n",
      "Mol CHEMBL622 not in the set\n",
      "Mol CHEMBL666 not in the set\n",
      "Mol CHEMBL686 not in the set\n",
      "Mol CHEMBL701 not in the set\n",
      "Mol CHEMBL717 not in the set\n",
      "Mol CHEMBL8 not in the set\n",
      "Mol CHEMBL81 not in the set\n",
      "Mol CHEMBL83 not in the set\n",
      "Mol CHEMBL86 not in the set\n",
      "Mol CHEMBL898 not in the set\n",
      "Mol CHEMBL646 not in the set\n",
      "Mol CHEMBL1089 not in the set\n",
      "Mol CHEMBL11 not in the set\n",
      "Mol CHEMBL1112 not in the set\n",
      "Mol CHEMBL1113 not in the set\n",
      "Mol CHEMBL1118 not in the set\n",
      "Mol CHEMBL1175 not in the set\n",
      "Mol CHEMBL117785 not in the set\n",
      "Mol CHEMBL1200854 not in the set\n",
      "Mol CHEMBL1200986 not in the set\n",
      "Mol CHEMBL1201 not in the set\n",
      "Mol CHEMBL1201168 not in the set\n",
      "Mol CHEMBL1237021 not in the set\n",
      "Mol CHEMBL14376 not in the set\n",
      "Mol CHEMBL1508 not in the set\n",
      "Mol CHEMBL1621 not in the set\n",
      "Mol CHEMBL1628227 not in the set\n",
      "Mol CHEMBL1795072 not in the set\n",
      "Mol CHEMBL2104993 not in the set\n",
      "Mol CHEMBL2105760 not in the set\n",
      "Mol CHEMBL21731 not in the set\n",
      "Mol CHEMBL259209 not in the set\n",
      "Mol CHEMBL3989843 not in the set\n",
      "Mol CHEMBL41 not in the set\n",
      "Mol CHEMBL415 not in the set\n",
      "Mol CHEMBL416956 not in the set\n",
      "Mol CHEMBL439849 not in the set\n",
      "Mol CHEMBL445 not in the set\n",
      "Mol CHEMBL490 not in the set\n",
      "Mol CHEMBL549 not in the set\n",
      "Mol CHEMBL567 not in the set\n",
      "Mol CHEMBL621 not in the set\n",
      "Mol CHEMBL623 not in the set\n",
      "Mol CHEMBL629 not in the set\n",
      "Mol CHEMBL637 not in the set\n",
      "Mol CHEMBL644 not in the set\n",
      "Mol CHEMBL654 not in the set\n",
      "Mol CHEMBL668 not in the set\n",
      "Mol CHEMBL701 not in the set\n",
      "Mol CHEMBL716 not in the set\n",
      "Mol CHEMBL72 not in the set\n",
      "Mol CHEMBL809 not in the set\n",
      "Mol CHEMBL814 not in the set\n",
      "Mol CHEMBL894 not in the set\n",
      "Mol CHEMBL972 not in the set\n",
      "Mol CHEMBL99946 not in the set\n",
      "Mol CHEMBL656 not in the set\n",
      "Mol CHEMBL103 not in the set\n",
      "Mol CHEMBL11359 not in the set\n",
      "Mol CHEMBL1200973 not in the set\n",
      "Mol CHEMBL1201589 not in the set\n",
      "Mol CHEMBL1201776 not in the set\n",
      "Mol CHEMBL1201824 not in the set\n",
      "Mol CHEMBL1201826 not in the set\n",
      "Mol CHEMBL1237044 not in the set\n",
      "Mol CHEMBL1263 not in the set\n",
      "Mol CHEMBL1274 not in the set\n",
      "Mol CHEMBL1342 not in the set\n",
      "Mol CHEMBL135 not in the set\n",
      "Mol CHEMBL1374379 not in the set\n",
      "Mol CHEMBL1431 not in the set\n",
      "Mol CHEMBL1511 not in the set\n",
      "Mol CHEMBL1643 not in the set\n",
      "Mol CHEMBL177 not in the set\n",
      "Mol CHEMBL2108676 not in the set\n",
      "Mol CHEMBL2216870 not in the set\n",
      "Mol CHEMBL33986 not in the set\n",
      "Mol CHEMBL34259 not in the set\n",
      "Mol CHEMBL398707 not in the set\n",
      "Mol CHEMBL403664 not in the set\n",
      "Mol CHEMBL469 not in the set\n",
      "Mol CHEMBL494753 not in the set\n",
      "Mol CHEMBL511142 not in the set\n",
      "Mol CHEMBL592 not in the set\n",
      "Mol CHEMBL596 not in the set\n",
      "Mol CHEMBL607 not in the set\n",
      "Mol CHEMBL633 not in the set\n",
      "Mol CHEMBL643 not in the set\n",
      "Mol CHEMBL651 not in the set\n",
      "Mol CHEMBL655 not in the set\n",
      "Mol CHEMBL70 not in the set\n",
      "Mol CHEMBL717 not in the set\n",
      "Mol CHEMBL780 not in the set\n",
      "Mol CHEMBL81 not in the set\n",
      "Mol CHEMBL83 not in the set\n",
      "Mol CHEMBL895 not in the set\n",
      "Mol CHEMBL92 not in the set\n",
      "Mol CHEMBL963 not in the set\n",
      "Mol CHEMBL1014 not in the set\n",
      "Mol CHEMBL1017 not in the set\n",
      "Mol CHEMBL1023 not in the set\n",
      "Mol CHEMBL1069 not in the set\n",
      "Mol CHEMBL109 not in the set\n",
      "Mol CHEMBL1111 not in the set\n",
      "Mol CHEMBL1131 not in the set\n",
      "Mol CHEMBL1165 not in the set\n",
      "Mol CHEMBL1168 not in the set\n",
      "Mol CHEMBL1200692 not in the set\n",
      "Mol CHEMBL1201314 not in the set\n",
      "Mol CHEMBL1237 not in the set\n",
      "Mol CHEMBL125 not in the set\n",
      "Mol CHEMBL1456 not in the set\n",
      "Mol CHEMBL1479 not in the set\n",
      "Mol CHEMBL1513 not in the set\n",
      "Mol CHEMBL1519 not in the set\n",
      "Mol CHEMBL152 not in the set\n",
      "Mol CHEMBL1542 not in the set\n",
      "Mol CHEMBL1560 not in the set\n",
      "Mol CHEMBL1581 not in the set\n",
      "Mol CHEMBL1592 not in the set\n",
      "Mol CHEMBL1619 not in the set\n",
      "Mol CHEMBL1639 not in the set\n",
      "Mol CHEMBL1643 not in the set\n",
      "Mol CHEMBL1747 not in the set\n",
      "Mol CHEMBL182 not in the set\n",
      "Mol CHEMBL191 not in the set\n",
      "Mol CHEMBL2007641 not in the set\n",
      "Mol CHEMBL2028661 not in the set\n",
      "Mol CHEMBL2103873 not in the set\n",
      "Mol CHEMBL2105737 not in the set\n",
      "Mol CHEMBL2107834 not in the set\n",
      "Mol CHEMBL262777 not in the set\n",
      "Mol CHEMBL3039597 not in the set\n",
      "Mol CHEMBL3039598 not in the set\n",
      "Mol CHEMBL34259 not in the set\n",
      "Mol CHEMBL38 not in the set\n",
      "Mol CHEMBL473417 not in the set\n",
      "Mol CHEMBL476 not in the set\n",
      "Mol CHEMBL507870 not in the set\n",
      "Mol CHEMBL515 not in the set\n",
      "Mol CHEMBL547 not in the set\n",
      "Mol CHEMBL577 not in the set\n",
      "Mol CHEMBL578 not in the set\n",
      "Mol CHEMBL606 not in the set\n",
      "Mol CHEMBL717 not in the set\n",
      "Mol CHEMBL813 not in the set\n",
      "Mol CHEMBL838 not in the set\n",
      "Mol CHEMBL866 not in the set\n",
      "Mol CHEMBL957 not in the set\n",
      "Mol CHEMBL960 not in the set\n",
      "Mol CHEMBL973 not in the set\n",
      "Mol CHEMBL103 not in the set\n",
      "Mol CHEMBL11359 not in the set\n",
      "Mol CHEMBL1161681 not in the set\n",
      "Mol CHEMBL1171837 not in the set\n",
      "Mol CHEMBL1200430 not in the set\n",
      "Mol CHEMBL1200973 not in the set\n",
      "Mol CHEMBL1201212 not in the set\n",
      "Mol CHEMBL1201336 not in the set\n",
      "Mol CHEMBL1201438 not in the set\n",
      "Mol CHEMBL1201476 not in the set\n",
      "Mol CHEMBL1201589 not in the set\n",
      "Mol CHEMBL1201651 not in the set\n",
      "Mol CHEMBL1201772 not in the set\n",
      "Mol CHEMBL1201824 not in the set\n",
      "Mol CHEMBL1201826 not in the set\n",
      "Mol CHEMBL134 not in the set\n",
      "Mol CHEMBL135 not in the set\n",
      "Mol CHEMBL136478 not in the set\n",
      "Mol CHEMBL1374379 not in the set\n",
      "Mol CHEMBL1431 not in the set\n",
      "Mol CHEMBL1464 not in the set\n",
      "Mol CHEMBL1479 not in the set\n",
      "Mol CHEMBL1511 not in the set\n",
      "Mol CHEMBL1550 not in the set\n",
      "Mol CHEMBL16 not in the set\n",
      "Mol CHEMBL1742982 not in the set\n",
      "Mol CHEMBL1760 not in the set\n",
      "Mol CHEMBL198362 not in the set\n",
      "Mol CHEMBL2103827 not in the set\n",
      "Mol CHEMBL2108676 not in the set\n",
      "Mol CHEMBL221959 not in the set\n",
      "Mol CHEMBL231779 not in the set\n",
      "Mol CHEMBL34259 not in the set\n",
      "Mol CHEMBL42 not in the set\n",
      "Mol CHEMBL428647 not in the set\n",
      "Mol CHEMBL469 not in the set\n",
      "Mol CHEMBL481 not in the set\n",
      "Mol CHEMBL494753 not in the set\n",
      "Mol CHEMBL512351 not in the set\n",
      "Mol CHEMBL53463 not in the set\n",
      "Mol CHEMBL539697 not in the set\n",
      "Mol CHEMBL550348 not in the set\n",
      "Mol CHEMBL643 not in the set\n",
      "Mol CHEMBL717 not in the set\n",
      "Mol CHEMBL81 not in the set\n",
      "Mol CHEMBL83 not in the set\n",
      "Mol CHEMBL92 not in the set\n"
     ]
    }
   ],
   "source": [
    "drugbank['chembl_tox'] = 'Safe'\n",
    "for effect in toxic_dict:\n",
    "    for molecule in toxic_dict[effect]:\n",
    "        try:\n",
    "            old_label = drugbank.loc[drugbank['molecule_chembl_id'] == molecule]['chembl_tox'].values[0]\n",
    "        except IndexError:\n",
    "            print('Mol {} not in the set'.format(molecule))\n",
    "        if old_label == 'Safe':\n",
    "            drugbank.loc[drugbank['molecule_chembl_id'] == molecule, 'chembl_tox'] = effect\n",
    "        else:\n",
    "            drugbank.loc[drugbank['molecule_chembl_id'] == molecule, 'chembl_tox'] = '{}+{}'.format(old_label, effect)"
   ]
  },
  {
   "cell_type": "code",
   "execution_count": 298,
   "id": "6b44a11c-3342-45ea-9561-a1f15002a43a",
   "metadata": {},
   "outputs": [],
   "source": [
    "drugbank['withdrawn'] = 0"
   ]
  },
  {
   "cell_type": "code",
   "execution_count": 302,
   "id": "070a2fe1-3642-4d6f-b731-8e827fb13510",
   "metadata": {},
   "outputs": [],
   "source": [
    "drugbank.loc[drugbank['drug_groups'].str.contains('withdrawn'), 'withdrawn'] = 1"
   ]
  },
  {
   "cell_type": "code",
   "execution_count": 308,
   "id": "4f63489f-5d75-4997-a06d-397265409366",
   "metadata": {},
   "outputs": [],
   "source": [
    "drugbank = drugbank.loc[~drugbank['smiles'].isna()]"
   ]
  },
  {
   "cell_type": "code",
   "execution_count": 316,
   "id": "b6d32d6f-5852-4d7e-a9ef-57178a874614",
   "metadata": {},
   "outputs": [],
   "source": [
    "drugbank.to_csv('/home/dionizije/Documents/DAO/data/not_from_script/drugbank_4_full.csv')"
   ]
  },
  {
   "cell_type": "code",
   "execution_count": 319,
   "id": "2a90bdd3-cbb0-4764-8438-07f85298cc27",
   "metadata": {},
   "outputs": [],
   "source": [
    "drugbank[['molecule_chembl_id', 'smiles', 'drug_groups', 'parent_smiles', 'chembl_tox', 'withdrawn']].to_csv('/home/dionizije/Documents/DAO/data/not_from_script/drugbank_4_smiles.csv')"
   ]
  }
 ],
 "metadata": {
  "kernelspec": {
   "display_name": "DAO",
   "language": "python",
   "name": "dao"
  },
  "language_info": {
   "codemirror_mode": {
    "name": "ipython",
    "version": 3
   },
   "file_extension": ".py",
   "mimetype": "text/x-python",
   "name": "python",
   "nbconvert_exporter": "python",
   "pygments_lexer": "ipython3",
   "version": "3.6.13"
  }
 },
 "nbformat": 4,
 "nbformat_minor": 5
}
