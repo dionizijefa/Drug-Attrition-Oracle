{
 "cells": [
  {
   "cell_type": "code",
   "execution_count": 490,
   "id": "75733a7b-abe1-43cd-9bfc-493a9d4a943c",
   "metadata": {},
   "outputs": [],
   "source": [
    "from sklearn.model_selection import StratifiedShuffleSplit, StratifiedKFold\n",
    "from torch.utils.data import ConcatDataset, Subset, DataLoader\n",
    "from featurization.data_utils import load_data_from_smiles, construct_loader\n",
    "import pandas as pd\n",
    "from pytorch_lightning.callbacks import ModelCheckpoint, EarlyStopping\n",
    "from pytorch_lightning.loggers import TensorBoardLogger\n",
    "from pytorch_lightning.metrics.functional import average_precision, auroc\n",
    "import pytorch_lightning as pl\n",
    "from torch.optim.lr_scheduler import ReduceLROnPlateau\n",
    "from torch.optim import Adam\n",
    "import torch.nn as nn"
   ]
  },
  {
   "cell_type": "code",
   "execution_count": 8,
   "id": "2c7f57c6-5149-4115-8193-49407b90808a",
   "metadata": {},
   "outputs": [],
   "source": [
    "chembl_4_smiles = pd.read_csv('/home/dionizije/Documents/DAO/data/chembl_4_smiles.csv')[['smiles', 'withdrawn']]"
   ]
  },
  {
   "cell_type": "code",
   "execution_count": 66,
   "id": "9b84a10a-b23c-47da-87a1-de8f72c8ceeb",
   "metadata": {},
   "outputs": [],
   "source": [
    "chembl_4_smiles = chembl_4_smiles.sample(frac=1, random_state=0)"
   ]
  },
  {
   "cell_type": "code",
   "execution_count": 35,
   "id": "70ef6928-4283-4552-88c1-81ae41d88ac5",
   "metadata": {
    "scrolled": true,
    "tags": []
   },
   "outputs": [
    {
     "name": "stderr",
     "output_type": "stream",
     "text": [
      "RDKit ERROR: [09:49:53] UFFTYPER: Unrecognized charge state for atom: 14\n",
      "RDKit ERROR: [09:49:53] UFFTYPER: Unrecognized charge state for atom: 14\n",
      "RDKit ERROR: [09:49:57] UFFTYPER: Unrecognized atom type: Ca (0)\n",
      "RDKit ERROR: [09:49:57] UFFTYPER: Unrecognized atom type: Ca (30)\n",
      "RDKit ERROR: [09:49:57] UFFTYPER: Unrecognized charge state for atom: 21\n",
      "RDKit ERROR: [09:49:57] UFFTYPER: Unrecognized charge state for atom: 21\n",
      "RDKit ERROR: [09:49:59] UFFTYPER: Unrecognized charge state for atom: 5\n",
      "RDKit ERROR: [09:49:59] UFFTYPER: Unrecognized charge state for atom: 5\n",
      "RDKit ERROR: [09:50:02] UFFTYPER: Unrecognized charge state for atom: 12\n",
      "RDKit ERROR: [09:50:02] UFFTYPER: Unrecognized charge state for atom: 12\n",
      "RDKit ERROR: [10:03:18] UFFTYPER: Unrecognized charge state for atom: 8\n",
      "RDKit ERROR: [10:03:18] UFFTYPER: Unrecognized charge state for atom: 8\n",
      "RDKit ERROR: [10:03:31] UFFTYPER: Unrecognized charge state for atom: 8\n",
      "RDKit ERROR: [10:03:31] UFFTYPER: Unrecognized charge state for atom: 8\n",
      "RDKit WARNING: [10:03:38] UFFTYPER: Warning: hybridization set to SP3 for atom 0\n",
      "RDKit ERROR: [10:03:38] UFFTYPER: Unrecognized charge state for atom: 0\n",
      "RDKit WARNING: [10:03:38] UFFTYPER: Warning: hybridization set to SP3 for atom 0\n",
      "RDKit ERROR: [10:03:38] UFFTYPER: Unrecognized charge state for atom: 0\n",
      "RDKit WARNING: [10:03:38] UFFTYPER: Warning: hybridization set to SP3 for atom 0\n",
      "RDKit ERROR: [10:03:38] UFFTYPER: Unrecognized charge state for atom: 0\n",
      "RDKit WARNING: [10:03:38] UFFTYPER: Warning: hybridization set to SP3 for atom 0\n",
      "RDKit ERROR: [10:03:38] UFFTYPER: Unrecognized charge state for atom: 0\n",
      "RDKit WARNING: [10:03:38] UFFTYPER: Warning: hybridization set to SP3 for atom 0\n",
      "RDKit ERROR: [10:03:38] UFFTYPER: Unrecognized charge state for atom: 0\n",
      "RDKit WARNING: [10:03:38] UFFTYPER: Warning: hybridization set to SP3 for atom 0\n",
      "RDKit ERROR: [10:03:38] UFFTYPER: Unrecognized charge state for atom: 0\n",
      "RDKit WARNING: [10:03:38] UFFTYPER: Warning: hybridization set to SP3 for atom 0\n",
      "RDKit ERROR: [10:03:38] UFFTYPER: Unrecognized charge state for atom: 0\n",
      "RDKit WARNING: [10:03:38] UFFTYPER: Warning: hybridization set to SP3 for atom 0\n",
      "RDKit ERROR: [10:03:38] UFFTYPER: Unrecognized charge state for atom: 0\n",
      "RDKit WARNING: [10:03:38] UFFTYPER: Warning: hybridization set to SP3 for atom 4\n",
      "RDKit ERROR: [10:03:38] UFFTYPER: Unrecognized charge state for atom: 4\n",
      "RDKit WARNING: [10:03:38] UFFTYPER: Warning: hybridization set to SP3 for atom 5\n",
      "RDKit ERROR: [10:03:38] UFFTYPER: Unrecognized charge state for atom: 5\n",
      "RDKit WARNING: [10:03:38] UFFTYPER: Warning: hybridization set to SP3 for atom 6\n",
      "RDKit ERROR: [10:03:38] UFFTYPER: Unrecognized charge state for atom: 6\n",
      "RDKit WARNING: [10:03:38] UFFTYPER: Warning: hybridization set to SP3 for atom 7\n",
      "RDKit ERROR: [10:03:38] UFFTYPER: Unrecognized charge state for atom: 7\n",
      "RDKit WARNING: [10:03:38] UFFTYPER: Warning: hybridization set to SP3 for atom 8\n",
      "RDKit ERROR: [10:03:38] UFFTYPER: Unrecognized charge state for atom: 8\n",
      "RDKit WARNING: [10:03:38] UFFTYPER: Warning: hybridization set to SP3 for atom 9\n",
      "RDKit ERROR: [10:03:38] UFFTYPER: Unrecognized charge state for atom: 9\n",
      "RDKit WARNING: [10:03:38] UFFTYPER: Warning: hybridization set to SP3 for atom 10\n",
      "RDKit ERROR: [10:03:38] UFFTYPER: Unrecognized charge state for atom: 10\n",
      "RDKit WARNING: [10:03:38] UFFTYPER: Warning: hybridization set to SP3 for atom 11\n",
      "RDKit ERROR: [10:03:38] UFFTYPER: Unrecognized charge state for atom: 11\n",
      "RDKit ERROR: [10:03:42] UFFTYPER: Unrecognized charge state for atom: 7\n",
      "RDKit ERROR: [10:03:42] UFFTYPER: Unrecognized charge state for atom: 7\n",
      "RDKit ERROR: [10:03:44] UFFTYPER: Unrecognized charge state for atom: 12\n",
      "RDKit ERROR: [10:03:44] UFFTYPER: Unrecognized charge state for atom: 12\n",
      "RDKit ERROR: [10:11:55] UFFTYPER: Unrecognized charge state for atom: 1\n",
      "RDKit ERROR: [10:11:55] UFFTYPER: Unrecognized charge state for atom: 38\n",
      "RDKit ERROR: [10:12:08] UFFTYPER: Unrecognized charge state for atom: 20\n",
      "RDKit ERROR: [10:12:08] UFFTYPER: Unrecognized charge state for atom: 20\n",
      "RDKit ERROR: [10:12:09] UFFTYPER: Unrecognized charge state for atom: 4\n",
      "RDKit ERROR: [10:12:09] UFFTYPER: Unrecognized charge state for atom: 4\n",
      "RDKit ERROR: [10:12:12] UFFTYPER: Unrecognized atom type: Ca (0)\n",
      "RDKit ERROR: [10:12:12] UFFTYPER: Unrecognized atom type: Ca (37)\n",
      "RDKit ERROR: [10:12:14] UFFTYPER: Unrecognized charge state for atom: 1\n",
      "RDKit ERROR: [10:12:14] UFFTYPER: Unrecognized charge state for atom: 1\n",
      "RDKit ERROR: [10:12:17] UFFTYPER: Unrecognized charge state for atom: 0\n",
      "RDKit ERROR: [10:12:17] UFFTYPER: Unrecognized charge state for atom: 0\n",
      "RDKit WARNING: [10:12:20] UFFTYPER: Warning: hybridization set to SP3 for atom 0\n",
      "RDKit ERROR: [10:12:20] UFFTYPER: Unrecognized charge state for atom: 0\n",
      "RDKit WARNING: [10:12:21] UFFTYPER: Warning: hybridization set to SP3 for atom 26\n",
      "RDKit ERROR: [10:12:21] UFFTYPER: Unrecognized charge state for atom: 26\n",
      "RDKit WARNING: [10:16:15] UFFTYPER: Warning: hybridization set to SP3 for atom 0\n",
      "RDKit ERROR: [10:16:15] UFFTYPER: Unrecognized charge state for atom: 0\n",
      "RDKit WARNING: [10:16:15] UFFTYPER: Warning: hybridization set to SP3 for atom 4\n",
      "RDKit ERROR: [10:16:15] UFFTYPER: Unrecognized charge state for atom: 4\n",
      "RDKit ERROR: [10:16:15] UFFTYPER: Unrecognized charge state for atom: 0\n",
      "RDKit ERROR: [10:16:15] UFFTYPER: Unrecognized atom type: Zn+2 (0)\n",
      "RDKit ERROR: [10:16:15] UFFTYPER: Unrecognized charge state for atom: 8\n",
      "RDKit ERROR: [10:16:15] UFFTYPER: Unrecognized atom type: Zn+2 (8)\n",
      "RDKit ERROR: [10:16:20] UFFTYPER: Unrecognized atom type: Ca (0)\n",
      "RDKit ERROR: [10:16:20] UFFTYPER: Unrecognized atom type: Ca (12)\n",
      "RDKit ERROR: [10:16:22] UFFTYPER: Unrecognized charge state for atom: 14\n",
      "RDKit ERROR: [10:16:22] UFFTYPER: Unrecognized charge state for atom: 14\n",
      "RDKit ERROR: [10:16:32] UFFTYPER: Unrecognized charge state for atom: 1\n",
      "RDKit ERROR: [10:16:32] UFFTYPER: Unrecognized charge state for atom: 1\n",
      "RDKit ERROR: [10:16:41] UFFTYPER: Unrecognized charge state for atom: 0\n",
      "RDKit ERROR: [10:16:41] UFFTYPER: Unrecognized atom type: Zn+2 (0)\n",
      "RDKit ERROR: [10:16:41] UFFTYPER: Unrecognized charge state for atom: 40\n",
      "RDKit ERROR: [10:16:41] UFFTYPER: Unrecognized atom type: Zn+2 (40)\n",
      "RDKit ERROR: [10:17:27] UFFTYPER: Unrecognized charge state for atom: 54\n",
      "RDKit ERROR: [10:17:29] UFFTYPER: Unrecognized charge state for atom: 54\n",
      "RDKit ERROR: [10:17:32] UFFTYPER: Unrecognized atom type: Ca (0)\n",
      "RDKit ERROR: [10:17:32] UFFTYPER: Unrecognized atom type: Ca (4)\n",
      "RDKit ERROR: [10:18:02] UFFTYPER: Unrecognized charge state for atom: 23\n",
      "RDKit ERROR: [10:18:03] UFFTYPER: Unrecognized charge state for atom: 23\n",
      "RDKit ERROR: [10:18:07] UFFTYPER: Unrecognized charge state for atom: 8\n",
      "RDKit ERROR: [10:18:07] UFFTYPER: Unrecognized charge state for atom: 8\n",
      "RDKit WARNING: [10:18:40] UFFTYPER: Warning: hybridization set to SP3 for atom 0\n",
      "RDKit ERROR: [10:18:40] UFFTYPER: Unrecognized charge state for atom: 0\n",
      "RDKit WARNING: [10:18:40] UFFTYPER: Warning: hybridization set to SP3 for atom 22\n",
      "RDKit ERROR: [10:18:40] UFFTYPER: Unrecognized charge state for atom: 22\n",
      "RDKit WARNING: [10:19:04] UFFTYPER: Warning: hybridization set to SP3 for atom 0\n",
      "RDKit ERROR: [10:19:04] UFFTYPER: Unrecognized charge state for atom: 0\n",
      "RDKit WARNING: [10:19:04] UFFTYPER: Warning: hybridization set to SP3 for atom 12\n",
      "RDKit ERROR: [10:19:04] UFFTYPER: Unrecognized charge state for atom: 12\n",
      "RDKit ERROR: [10:19:15] UFFTYPER: Unrecognized atom type: Ca (0)\n",
      "RDKit ERROR: [10:19:15] UFFTYPER: Unrecognized atom type: Ca (26)\n",
      "RDKit WARNING: [10:19:20] UFFTYPER: Warning: hybridization set to SP3 for atom 0\n",
      "RDKit ERROR: [10:19:20] UFFTYPER: Unrecognized charge state for atom: 0\n",
      "RDKit WARNING: [10:19:20] UFFTYPER: Warning: hybridization set to SP3 for atom 12\n",
      "RDKit ERROR: [10:19:20] UFFTYPER: Unrecognized charge state for atom: 12\n",
      "RDKit ERROR: [10:19:48] UFFTYPER: Unrecognized atom type: Ca (0)\n",
      "RDKit ERROR: [10:19:48] UFFTYPER: Unrecognized atom type: Ca (8)\n",
      "RDKit WARNING: [10:24:54] UFFTYPER: Warning: hybridization set to SP3 for atom 0\n",
      "RDKit ERROR: [10:24:54] UFFTYPER: Unrecognized charge state for atom: 0\n",
      "RDKit WARNING: [10:24:54] UFFTYPER: Warning: hybridization set to SP3 for atom 0\n",
      "RDKit ERROR: [10:24:54] UFFTYPER: Unrecognized charge state for atom: 0\n",
      "RDKit WARNING: [10:24:54] UFFTYPER: Warning: hybridization set to SP3 for atom 0\n",
      "RDKit ERROR: [10:24:54] UFFTYPER: Unrecognized charge state for atom: 0\n",
      "RDKit WARNING: [10:24:54] UFFTYPER: Warning: hybridization set to SP3 for atom 26\n",
      "RDKit ERROR: [10:24:54] UFFTYPER: Unrecognized charge state for atom: 26\n",
      "RDKit WARNING: [10:24:54] UFFTYPER: Warning: hybridization set to SP3 for atom 27\n",
      "RDKit ERROR: [10:24:54] UFFTYPER: Unrecognized charge state for atom: 27\n",
      "RDKit WARNING: [10:24:54] UFFTYPER: Warning: hybridization set to SP3 for atom 28\n",
      "RDKit ERROR: [10:24:54] UFFTYPER: Unrecognized charge state for atom: 28\n",
      "RDKit ERROR: [10:25:01] UFFTYPER: Unrecognized atom type: Ca (0)\n",
      "RDKit ERROR: [10:25:01] UFFTYPER: Unrecognized atom type: Ca (20)\n",
      "RDKit WARNING: [10:25:12] UFFTYPER: Warning: hybridization set to SP3 for atom 0\n",
      "RDKit ERROR: [10:25:12] UFFTYPER: Unrecognized charge state for atom: 0\n",
      "RDKit WARNING: [10:25:12] UFFTYPER: Warning: hybridization set to SP3 for atom 8\n",
      "RDKit ERROR: [10:25:12] UFFTYPER: Unrecognized charge state for atom: 8\n",
      "RDKit ERROR: [10:25:15] UFFTYPER: Unrecognized charge state for atom: 4\n",
      "RDKit ERROR: [10:25:15] UFFTYPER: Unrecognized charge state for atom: 4\n",
      "RDKit ERROR: [10:25:18] UFFTYPER: Unrecognized atom type: Ca (0)\n",
      "RDKit ERROR: [10:25:18] UFFTYPER: Unrecognized atom type: Ca (0)\n",
      "RDKit ERROR: [10:25:18] UFFTYPER: Unrecognized atom type: Ca (0)\n",
      "RDKit ERROR: [10:25:18] UFFTYPER: Unrecognized atom type: Ca (26)\n",
      "RDKit ERROR: [10:25:18] UFFTYPER: Unrecognized atom type: Ca (27)\n",
      "RDKit ERROR: [10:25:18] UFFTYPER: Unrecognized atom type: Ca (28)\n",
      "RDKit ERROR: [10:25:23] UFFTYPER: Unrecognized charge state for atom: 4\n",
      "RDKit ERROR: [10:25:23] UFFTYPER: Unrecognized charge state for atom: 4\n"
     ]
    }
   ],
   "source": [
    "X, y = load_data_from_smiles(chembl_4_smiles['smiles'], chembl_4_smiles['withdrawn'])"
   ]
  },
  {
   "cell_type": "code",
   "execution_count": 294,
   "id": "226bdc81-aeb5-4abb-957f-90cade6df891",
   "metadata": {},
   "outputs": [],
   "source": [
    "data_loader = construct_loader(X, y, batch_size=12)"
   ]
  },
  {
   "cell_type": "code",
   "execution_count": 491,
   "id": "f29228b1-52b6-4d2c-9a51-748d207e0cb8",
   "metadata": {},
   "outputs": [
    {
     "name": "stderr",
     "output_type": "stream",
     "text": [
      "/home/dionizije/anaconda3/envs/withdrawn/lib/python3.6/site-packages/sklearn/model_selection/_split.py:297: FutureWarning: Setting a random_state has no effect since shuffle is False. This will raise an error in 0.24. You should leave random_state to its default (None), or set shuffle=True.\n",
      "  FutureWarning\n"
     ]
    }
   ],
   "source": [
    "train_test_splitter = StratifiedKFold(n_splits=5, random_state=0)\n",
    "train_val_splitter = StratifiedShuffleSplit(n_splits=1, test_size=0.15, random_state=0)"
   ]
  },
  {
   "cell_type": "code",
   "execution_count": 492,
   "id": "0c5bba70-8d5a-40e6-b963-d9b7beb209fe",
   "metadata": {},
   "outputs": [],
   "source": [
    "for k, (train_index, test_index) in enumerate(train_test_splitter.split(data_loader.dataset, y)):\n",
    "    test_data_loader = DataLoader(Subset(data_loader.dataset, test_index.tolist()))\n",
    "    test_data_labels = [i.y[0] for i in test_data_loader.dataset]\n",
    "    train_data_loader = DataLoader(Subset(data_loader.dataset, train_index.tolist()))\n",
    "    train_labels = [i.y[0] for i in train_data_loader.dataset]\n",
    "    \n",
    "    for train_index, val_index in train_val_splitter.split(train_data_loader.dataset, train_labels):\n",
    "        train_data_loader = DataLoader(Subset(train_data_loader.dataset, train_index.tolist()))\n",
    "        val_data_loader = DataLoader(Subset(train_data_loader.dataset, val_index.tolist()))"
   ]
  },
  {
   "cell_type": "code",
   "execution_count": null,
   "id": "be164513-c74b-4ea6-a228-b889c565ef23",
   "metadata": {},
   "outputs": [],
   "source": []
  }
 ],
 "metadata": {
  "kernelspec": {
   "display_name": "DAO",
   "language": "python",
   "name": "dao"
  },
  "language_info": {
   "codemirror_mode": {
    "name": "ipython",
    "version": 3
   },
   "file_extension": ".py",
   "mimetype": "text/x-python",
   "name": "python",
   "nbconvert_exporter": "python",
   "pygments_lexer": "ipython3",
   "version": "3.6.13"
  }
 },
 "nbformat": 4,
 "nbformat_minor": 5
}
