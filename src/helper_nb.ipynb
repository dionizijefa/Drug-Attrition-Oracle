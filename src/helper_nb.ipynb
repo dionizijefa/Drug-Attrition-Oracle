{
 "cells": [
  {
   "cell_type": "code",
   "execution_count": 2,
   "id": "2fb33a0b-5d28-4367-9d22-a80a52eca3ac",
   "metadata": {},
   "outputs": [
    {
     "name": "stdout",
     "output_type": "stream",
     "text": [
      "The autoreload extension is already loaded. To reload it, use:\n",
      "  %reload_ext autoreload\n"
     ]
    }
   ],
   "source": [
    "%load_ext autoreload"
   ]
  },
  {
   "cell_type": "code",
   "execution_count": 3,
   "id": "8b6faf00-c048-4e5b-94d5-0437982c41f8",
   "metadata": {},
   "outputs": [],
   "source": [
    "%autoreload 2"
   ]
  },
  {
   "cell_type": "code",
   "execution_count": 4,
   "id": "7ac3bbba-a0f9-45a7-ba33-d22cc17b3ded",
   "metadata": {},
   "outputs": [
    {
     "name": "stderr",
     "output_type": "stream",
     "text": [
      "WARNING:root:No normalization for BCUT2D_MWHI\n",
      "WARNING:root:No normalization for BCUT2D_MWLOW\n",
      "WARNING:root:No normalization for BCUT2D_CHGHI\n",
      "WARNING:root:No normalization for BCUT2D_CHGLO\n",
      "WARNING:root:No normalization for BCUT2D_LOGPHI\n",
      "WARNING:root:No normalization for BCUT2D_LOGPLOW\n",
      "WARNING:root:No normalization for BCUT2D_MRHI\n",
      "WARNING:root:No normalization for BCUT2D_MRLOW\n"
     ]
    }
   ],
   "source": [
    "import pandas as pd\n",
    "from descriptors.dataset import MoleculesDataset, mol_collate_func\n",
    "from torch.utils.data import DataLoader\n",
    "from descriptastorus.descriptors.DescriptorGenerator import MakeGenerator\n",
    "from tqdm import tqdm"
   ]
  },
  {
   "cell_type": "code",
   "execution_count": 54,
   "id": "464c1910-603a-4838-83fe-ccc44913cf6a",
   "metadata": {},
   "outputs": [],
   "source": [
    "chembl = pd.read_csv('/home/dionizije/Documents/drug_attrition_oracle/data/chembl_4_smiles.csv',\n",
    "                    index_col=0)"
   ]
  },
  {
   "cell_type": "code",
   "execution_count": 55,
   "id": "6e78ee06-ddcf-4131-abc6-0de5179c03be",
   "metadata": {},
   "outputs": [
    {
     "name": "stderr",
     "output_type": "stream",
     "text": [
      "\n",
      "0it [00:00, ?it/s]\u001b[A\n",
      "566it [00:00, 5658.14it/s]\u001b[A\n",
      "1132it [00:00, 3535.09it/s]\u001b[A\n",
      "2164it [00:00, 4051.64it/s]\u001b[A\n"
     ]
    }
   ],
   "source": [
    "all_toxs = []\n",
    "\n",
    "for index, row in tqdm(chembl.iterrows()):\n",
    "    for i in row['chembl_tox'].split('+'):\n",
    "        all_toxs.append(i)"
   ]
  },
  {
   "cell_type": "code",
   "execution_count": 38,
   "id": "9d460689-8152-464c-9b07-0c5dba01a2ee",
   "metadata": {},
   "outputs": [],
   "source": [
    "all_tox = list(set(all_toxs))"
   ]
  },
  {
   "cell_type": "code",
   "execution_count": 39,
   "id": "585d1486-3561-408e-979c-e0166c80890a",
   "metadata": {},
   "outputs": [
    {
     "data": {
      "text/plain": [
       "'Safe'"
      ]
     },
     "execution_count": 39,
     "metadata": {},
     "output_type": "execute_result"
    }
   ],
   "source": [
    "all_tox.pop(15)"
   ]
  },
  {
   "cell_type": "code",
   "execution_count": 53,
   "id": "b97cad27-5676-40e5-80e5-2aa51c218152",
   "metadata": {},
   "outputs": [
    {
     "data": {
      "text/plain": [
       "['toxic_hepa',\n",
       " 'toxic_carcinogenic',\n",
       " 'toxic_gastro',\n",
       " 'toxic_immune',\n",
       " 'toxic_neuro',\n",
       " 'toxic_muscoskelet',\n",
       " 'toxic_teratogen',\n",
       " 'toxic_cardio',\n",
       " 'toxic_dermis',\n",
       " 'toxic_nephro',\n",
       " 'toxic_hema',\n",
       " 'toxic_metabolism',\n",
       " 'toxic_psyche',\n",
       " 'toxic_respiratory',\n",
       " 'toxic_vascular',\n",
       " 'infections']"
      ]
     },
     "execution_count": 53,
     "metadata": {},
     "output_type": "execute_result"
    }
   ],
   "source": [
    "all_tox"
   ]
  },
  {
   "cell_type": "code",
   "execution_count": 57,
   "id": "9709a9de-a6a9-4d24-b4d2-0ea753ca42b5",
   "metadata": {},
   "outputs": [],
   "source": [
    "chembl['chembl_toxicity_updated'] = 'Safe'"
   ]
  },
  {
   "cell_type": "code",
   "execution_count": 74,
   "id": "668bc3a8-965f-419e-808f-503ab847a0c0",
   "metadata": {},
   "outputs": [
    {
     "name": "stderr",
     "output_type": "stream",
     "text": [
      "2164it [00:06, 328.82it/s]\n"
     ]
    }
   ],
   "source": [
    "for index, row in tqdm(chembl.iterrows()):\n",
    "    molecule = row['chembl_id']\n",
    "    if len(row['chembl_tox'].split('+')) > 1:\n",
    "        chembl.loc[chembl['chembl_id'] == molecule, 'chembl_toxicity_updated'] = 'multiple'\n",
    "    else:\n",
    "        chembl.loc[chembl['chembl_id'] == molecule, 'chembl_toxicity_updated'] = row['chembl_tox']"
   ]
  },
  {
   "cell_type": "code",
   "execution_count": 76,
   "id": "7e489800-be6c-4ac0-9403-0c97894a5c75",
   "metadata": {},
   "outputs": [
    {
     "data": {
      "text/plain": [
       "Safe                  1894\n",
       "multiple               118\n",
       "toxic_psyche            42\n",
       "toxic_teratogen         30\n",
       "toxic_cardio            19\n",
       "toxic_respiratory       16\n",
       "toxic_hepa              16\n",
       "toxic_hema               8\n",
       "toxic_vascular           7\n",
       "toxic_carcinogenic       5\n",
       "toxic_neuro              3\n",
       "toxic_nephro             2\n",
       "toxic_metabolism         2\n",
       "toxic_gastro             1\n",
       "toxic_dermis             1\n",
       "Name: chembl_toxicity_updated, dtype: int64"
      ]
     },
     "execution_count": 76,
     "metadata": {},
     "output_type": "execute_result"
    }
   ],
   "source": [
    "chembl['chembl_toxicity_updated'].value_counts()"
   ]
  },
  {
   "cell_type": "code",
   "execution_count": 77,
   "id": "64582f21-2b3b-4afe-aacf-91423d0fefd6",
   "metadata": {},
   "outputs": [
    {
     "data": {
      "text/html": [
       "<div>\n",
       "<style scoped>\n",
       "    .dataframe tbody tr th:only-of-type {\n",
       "        vertical-align: middle;\n",
       "    }\n",
       "\n",
       "    .dataframe tbody tr th {\n",
       "        vertical-align: top;\n",
       "    }\n",
       "\n",
       "    .dataframe thead th {\n",
       "        text-align: right;\n",
       "    }\n",
       "</style>\n",
       "<table border=\"1\" class=\"dataframe\">\n",
       "  <thead>\n",
       "    <tr style=\"text-align: right;\">\n",
       "      <th></th>\n",
       "      <th>chembl_id</th>\n",
       "      <th>pubchem_cid</th>\n",
       "      <th>smiles</th>\n",
       "      <th>parent_smiles</th>\n",
       "      <th>chembl_tox</th>\n",
       "      <th>withdrawn</th>\n",
       "      <th>chembl_toxicity_updated</th>\n",
       "    </tr>\n",
       "  </thead>\n",
       "  <tbody>\n",
       "    <tr>\n",
       "      <th>258</th>\n",
       "      <td>CHEMBL1742471</td>\n",
       "      <td>65869</td>\n",
       "      <td>N=C(N)Nc1nc(CSCCN/C=N/S(=O)(=O)c2ccc(Br)cc2)cs1</td>\n",
       "      <td>N=C(N)Nc1nc(CSCCN/C=N/S(=O)(=O)c2ccc(Br)cc2)cs1</td>\n",
       "      <td>Safe</td>\n",
       "      <td>1</td>\n",
       "      <td>Safe</td>\n",
       "    </tr>\n",
       "    <tr>\n",
       "      <th>276</th>\n",
       "      <td>CHEMBL666</td>\n",
       "      <td>3415</td>\n",
       "      <td>O=C(O)P(=O)(O)O</td>\n",
       "      <td>O=C(O)P(=O)(O)O</td>\n",
       "      <td>toxic_nephro+toxic_neuro</td>\n",
       "      <td>0</td>\n",
       "      <td>multiple</td>\n",
       "    </tr>\n",
       "    <tr>\n",
       "      <th>280</th>\n",
       "      <td>CHEMBL1580</td>\n",
       "      <td>439693</td>\n",
       "      <td>OC[C@H]1O[C@@H](n2cnc3c2N=CNC[C@H]3O)C[C@@H]1O</td>\n",
       "      <td>OC[C@H]1O[C@@H](n2cnc3c2N=CNC[C@H]3O)C[C@@H]1O</td>\n",
       "      <td>Safe</td>\n",
       "      <td>0</td>\n",
       "      <td>Safe</td>\n",
       "    </tr>\n",
       "    <tr>\n",
       "      <th>281</th>\n",
       "      <td>CHEMBL606</td>\n",
       "      <td>5282381</td>\n",
       "      <td>CCCCC(C)(O)C/C=C/[C@H]1[C@H](O)CC(=O)[C@@H]1CC...</td>\n",
       "      <td>CCCCC(C)(O)C/C=C/[C@H]1[C@H](O)CC(=O)[C@@H]1CC...</td>\n",
       "      <td>toxic_teratogen</td>\n",
       "      <td>0</td>\n",
       "      <td>toxic_teratogen</td>\n",
       "    </tr>\n",
       "    <tr>\n",
       "      <th>303</th>\n",
       "      <td>CHEMBL110</td>\n",
       "      <td>31593</td>\n",
       "      <td>O=C(Cn1ccnc1[N+](=O)[O-])NCc1ccccc1</td>\n",
       "      <td>O=C(Cn1ccnc1[N+](=O)[O-])NCc1ccccc1</td>\n",
       "      <td>Safe</td>\n",
       "      <td>0</td>\n",
       "      <td>Safe</td>\n",
       "    </tr>\n",
       "    <tr>\n",
       "      <th>...</th>\n",
       "      <td>...</td>\n",
       "      <td>...</td>\n",
       "      <td>...</td>\n",
       "      <td>...</td>\n",
       "      <td>...</td>\n",
       "      <td>...</td>\n",
       "      <td>...</td>\n",
       "    </tr>\n",
       "    <tr>\n",
       "      <th>10666</th>\n",
       "      <td>CHEMBL1089318</td>\n",
       "      <td>135565903</td>\n",
       "      <td>Cc1c(Cl)c(C)[n+]([O-])c(Cl)c1-c1noc(-c2cc(O)c(...</td>\n",
       "      <td>Cc1c(Cl)c(C)[n+]([O-])c(Cl)c1-c1noc(-c2cc(O)c(...</td>\n",
       "      <td>Safe</td>\n",
       "      <td>0</td>\n",
       "      <td>Safe</td>\n",
       "    </tr>\n",
       "    <tr>\n",
       "      <th>10667</th>\n",
       "      <td>CHEMBL1200624</td>\n",
       "      <td>9270</td>\n",
       "      <td>C#C[C@]1(OC(C)=O)CC[C@H]2[C@@H]3CCC4=C[C@@H](O...</td>\n",
       "      <td>C#C[C@]1(OC(C)=O)CC[C@H]2[C@@H]3CCC4=C[C@@H](O...</td>\n",
       "      <td>Safe</td>\n",
       "      <td>0</td>\n",
       "      <td>Safe</td>\n",
       "    </tr>\n",
       "    <tr>\n",
       "      <th>10672</th>\n",
       "      <td>CHEMBL15891</td>\n",
       "      <td>missing</td>\n",
       "      <td>Cl[C@H]1[C@H](Cl)[C@@H](Cl)[C@@H](Cl)[C@H](Cl)...</td>\n",
       "      <td>Cl[C@H]1[C@H](Cl)[C@@H](Cl)[C@@H](Cl)[C@H](Cl)...</td>\n",
       "      <td>Safe</td>\n",
       "      <td>0</td>\n",
       "      <td>Safe</td>\n",
       "    </tr>\n",
       "    <tr>\n",
       "      <th>10677</th>\n",
       "      <td>CHEMBL90</td>\n",
       "      <td>774</td>\n",
       "      <td>NCCc1c[nH]cn1</td>\n",
       "      <td>NCCc1c[nH]cn1</td>\n",
       "      <td>Safe</td>\n",
       "      <td>0</td>\n",
       "      <td>Safe</td>\n",
       "    </tr>\n",
       "    <tr>\n",
       "      <th>10679</th>\n",
       "      <td>CHEMBL1200969</td>\n",
       "      <td>6918296</td>\n",
       "      <td>C[C@]12CC[C@H]3[C@@H](CC[C@H]4NC(=O)C=C[C@]34C...</td>\n",
       "      <td>C[C@]12CC[C@H]3[C@@H](CC[C@H]4NC(=O)C=C[C@]34C...</td>\n",
       "      <td>Safe</td>\n",
       "      <td>0</td>\n",
       "      <td>Safe</td>\n",
       "    </tr>\n",
       "  </tbody>\n",
       "</table>\n",
       "<p>2164 rows × 7 columns</p>\n",
       "</div>"
      ],
      "text/plain": [
       "           chembl_id pubchem_cid  \\\n",
       "258    CHEMBL1742471       65869   \n",
       "276        CHEMBL666        3415   \n",
       "280       CHEMBL1580      439693   \n",
       "281        CHEMBL606     5282381   \n",
       "303        CHEMBL110       31593   \n",
       "...              ...         ...   \n",
       "10666  CHEMBL1089318   135565903   \n",
       "10667  CHEMBL1200624        9270   \n",
       "10672    CHEMBL15891     missing   \n",
       "10677       CHEMBL90         774   \n",
       "10679  CHEMBL1200969     6918296   \n",
       "\n",
       "                                                  smiles  \\\n",
       "258      N=C(N)Nc1nc(CSCCN/C=N/S(=O)(=O)c2ccc(Br)cc2)cs1   \n",
       "276                                      O=C(O)P(=O)(O)O   \n",
       "280       OC[C@H]1O[C@@H](n2cnc3c2N=CNC[C@H]3O)C[C@@H]1O   \n",
       "281    CCCCC(C)(O)C/C=C/[C@H]1[C@H](O)CC(=O)[C@@H]1CC...   \n",
       "303                  O=C(Cn1ccnc1[N+](=O)[O-])NCc1ccccc1   \n",
       "...                                                  ...   \n",
       "10666  Cc1c(Cl)c(C)[n+]([O-])c(Cl)c1-c1noc(-c2cc(O)c(...   \n",
       "10667  C#C[C@]1(OC(C)=O)CC[C@H]2[C@@H]3CCC4=C[C@@H](O...   \n",
       "10672  Cl[C@H]1[C@H](Cl)[C@@H](Cl)[C@@H](Cl)[C@H](Cl)...   \n",
       "10677                                      NCCc1c[nH]cn1   \n",
       "10679  C[C@]12CC[C@H]3[C@@H](CC[C@H]4NC(=O)C=C[C@]34C...   \n",
       "\n",
       "                                           parent_smiles  \\\n",
       "258      N=C(N)Nc1nc(CSCCN/C=N/S(=O)(=O)c2ccc(Br)cc2)cs1   \n",
       "276                                      O=C(O)P(=O)(O)O   \n",
       "280       OC[C@H]1O[C@@H](n2cnc3c2N=CNC[C@H]3O)C[C@@H]1O   \n",
       "281    CCCCC(C)(O)C/C=C/[C@H]1[C@H](O)CC(=O)[C@@H]1CC...   \n",
       "303                  O=C(Cn1ccnc1[N+](=O)[O-])NCc1ccccc1   \n",
       "...                                                  ...   \n",
       "10666  Cc1c(Cl)c(C)[n+]([O-])c(Cl)c1-c1noc(-c2cc(O)c(...   \n",
       "10667  C#C[C@]1(OC(C)=O)CC[C@H]2[C@@H]3CCC4=C[C@@H](O...   \n",
       "10672  Cl[C@H]1[C@H](Cl)[C@@H](Cl)[C@@H](Cl)[C@H](Cl)...   \n",
       "10677                                      NCCc1c[nH]cn1   \n",
       "10679  C[C@]12CC[C@H]3[C@@H](CC[C@H]4NC(=O)C=C[C@]34C...   \n",
       "\n",
       "                     chembl_tox  withdrawn chembl_toxicity_updated  \n",
       "258                        Safe          1                    Safe  \n",
       "276    toxic_nephro+toxic_neuro          0                multiple  \n",
       "280                        Safe          0                    Safe  \n",
       "281             toxic_teratogen          0         toxic_teratogen  \n",
       "303                        Safe          0                    Safe  \n",
       "...                         ...        ...                     ...  \n",
       "10666                      Safe          0                    Safe  \n",
       "10667                      Safe          0                    Safe  \n",
       "10672                      Safe          0                    Safe  \n",
       "10677                      Safe          0                    Safe  \n",
       "10679                      Safe          0                    Safe  \n",
       "\n",
       "[2164 rows x 7 columns]"
      ]
     },
     "execution_count": 77,
     "metadata": {},
     "output_type": "execute_result"
    }
   ],
   "source": [
    "chembl"
   ]
  },
  {
   "cell_type": "code",
   "execution_count": 99,
   "id": "8922644d-96c5-4b7b-abef-a6425c577a51",
   "metadata": {},
   "outputs": [],
   "source": [
    "chembl_plus = pd.read_csv('/home/dionizije/Documents/drug_attrition_oracle/data/chembl_drugbank_p4_21_7_+missing_labels.csv', index_col=0)"
   ]
  },
  {
   "cell_type": "code",
   "execution_count": 100,
   "id": "48ee83b3-5109-4818-b164-ece7391d9b3f",
   "metadata": {},
   "outputs": [],
   "source": [
    "withdrawn = pd.read_csv('/home/dionizije/Documents/drug_attrition_oracle/data/raw/withdrawn.csv')"
   ]
  },
  {
   "cell_type": "code",
   "execution_count": 101,
   "id": "6d631622-4350-429d-82f6-8ad48704230f",
   "metadata": {},
   "outputs": [],
   "source": [
    "chembl_plus = chembl_plus.merge(withdrawn[['CHEMBLID', 'Toxicity type']], how='left', left_on='chembl_id', right_on='CHEMBLID')"
   ]
  },
  {
   "cell_type": "code",
   "execution_count": 104,
   "id": "eb821eee-7bad-4ed6-b4ca-bcc8a3ac4f65",
   "metadata": {},
   "outputs": [],
   "source": [
    "chembl_plus['Toxicity type'] = chembl_plus['Toxicity type'].fillna('Safe')"
   ]
  },
  {
   "cell_type": "code",
   "execution_count": 105,
   "id": "b50732e2-8780-413f-8903-a9cbdaa36e57",
   "metadata": {},
   "outputs": [
    {
     "data": {
      "text/plain": [
       "Safe                                                  2442\n",
       "toxic_hepa                                              56\n",
       "toxic_cardio                                            50\n",
       "toxic_neuro                                             29\n",
       "toxic_hema                                              28\n",
       "toxic_carcinogenic                                      23\n",
       "toxic_systemic                                          21\n",
       "toxic_dermis                                            16\n",
       "toxic_nephro                                            13\n",
       "toxic_teratogen                                          9\n",
       "toxic_respiratory                                        8\n",
       "toxic_opthalmic                                          4\n",
       "toxic_muscoskelet                                        4\n",
       "toxic_gastro                                             2\n",
       "toxic_hepa, toxic_nephro, toxic_dermis, toxic_hema       1\n",
       "carinogenicity                                           1\n",
       "toxic_carcinogenic, toxic_nephro                         1\n",
       "toxic_carcinogenic, toxic_gastro                         1\n",
       "toxic_respiratory, toxic_cardio                          1\n",
       "toxic_hepa, toxic_dermis                                 1\n",
       "toxic_neuro, toxic_dermis                                1\n",
       "toxic_hema; toxic_systemic                               1\n",
       "toxic_dermis, toxic_opthalmic                            1\n",
       "toxic_hepa, toxic_gastro                                 1\n",
       "toxic_carcinogenic, toxic_dermis                         1\n",
       "toxic_dermis, toxic_hema, toxic_hepa                     1\n",
       "toxic_systemic; toxic_dermis                             1\n",
       "toxic_hema, toxic_hepa                                   1\n",
       "toxic_systemic; toxic_gastro                             1\n",
       "toxic_nephro, toxic_hema                                 1\n",
       "toxic_hepa, toxic_nephro                                 1\n",
       "Name: Toxicity type, dtype: int64"
      ]
     },
     "execution_count": 105,
     "metadata": {},
     "output_type": "execute_result"
    }
   ],
   "source": [
    "chembl_plus['Toxicity type'].value_counts()"
   ]
  },
  {
   "cell_type": "code",
   "execution_count": 134,
   "id": "2ce89715-d9c1-40f9-ac30-9ba0456ab1f9",
   "metadata": {},
   "outputs": [
    {
     "name": "stderr",
     "output_type": "stream",
     "text": [
      "2722it [00:00, 4918.62it/s]\n"
     ]
    }
   ],
   "source": [
    "rows = []\n",
    "for index, row in tqdm(chembl_plus.iterrows()):\n",
    "    toxicities = []\n",
    "    if len(row['Toxicity type'].split(', ')) > 1:\n",
    "        for i in row['Toxicity type'].split(', '):\n",
    "            toxicities.append(i)\n",
    "    else:\n",
    "        toxicities.append(row['Toxicity type'])\n",
    "    \n",
    "    row1 = row\n",
    "    row2 = row\n",
    "    row3 = row\n",
    "    row4 = row\n",
    "    new_rows = [row1, row2, row3, row4]\n",
    "    for i in range(len(toxicities)):\n",
    "        new_rows[i]['Toxicity type'] = toxicities[i]\n",
    "        rows.append(new_rows[i])"
   ]
  },
  {
   "cell_type": "code",
   "execution_count": 140,
   "id": "55f41839-5811-40f9-83d6-95d369d637e6",
   "metadata": {},
   "outputs": [],
   "source": [
    "chembl_plus = pd.DataFrame(rows)"
   ]
  },
  {
   "cell_type": "code",
   "execution_count": 141,
   "id": "41711714-7c2a-46f8-b401-487deda26ddc",
   "metadata": {},
   "outputs": [],
   "source": [
    "chembl_plus.rename(columns={'Toxicty type': 'withdrawn_toxicity'}, inplace=True)"
   ]
  },
  {
   "cell_type": "code",
   "execution_count": 142,
   "id": "31866995-d92a-4093-a83b-7904eae92d79",
   "metadata": {},
   "outputs": [],
   "source": [
    "chembl_plus.drop_duplicates(inplace=True)"
   ]
  },
  {
   "cell_type": "code",
   "execution_count": 143,
   "id": "232da29b-c4e3-47e8-8166-a2067a8ceee1",
   "metadata": {},
   "outputs": [],
   "source": [
    "chembl_plus.to_csv('/home/dionizije/Documents/drug_attrition_oracle/data/chembl_drugbank_p4_21_7_+missing_labels+withdrawn_tox.csv')"
   ]
  }
 ],
 "metadata": {
  "kernelspec": {
   "display_name": "withdrawn",
   "language": "python",
   "name": "withdrawn"
  },
  "language_info": {
   "codemirror_mode": {
    "name": "ipython",
    "version": 3
   },
   "file_extension": ".py",
   "mimetype": "text/x-python",
   "name": "python",
   "nbconvert_exporter": "python",
   "pygments_lexer": "ipython3",
   "version": "3.6.13"
  }
 },
 "nbformat": 4,
 "nbformat_minor": 5
}
