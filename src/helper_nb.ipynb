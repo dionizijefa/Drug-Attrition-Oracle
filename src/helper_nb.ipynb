{
 "cells": [
  {
   "cell_type": "code",
   "execution_count": 1,
   "id": "2fb33a0b-5d28-4367-9d22-a80a52eca3ac",
   "metadata": {},
   "outputs": [],
   "source": [
    "%load_ext autoreload"
   ]
  },
  {
   "cell_type": "code",
   "execution_count": 2,
   "id": "8b6faf00-c048-4e5b-94d5-0437982c41f8",
   "metadata": {},
   "outputs": [],
   "source": [
    "%autoreload 2"
   ]
  },
  {
   "cell_type": "code",
   "execution_count": 3,
   "id": "7ac3bbba-a0f9-45a7-ba33-d22cc17b3ded",
   "metadata": {},
   "outputs": [
    {
     "name": "stderr",
     "output_type": "stream",
     "text": [
      "WARNING:root:No normalization for BCUT2D_MWHI\n",
      "WARNING:root:No normalization for BCUT2D_MWLOW\n",
      "WARNING:root:No normalization for BCUT2D_CHGHI\n",
      "WARNING:root:No normalization for BCUT2D_CHGLO\n",
      "WARNING:root:No normalization for BCUT2D_LOGPHI\n",
      "WARNING:root:No normalization for BCUT2D_LOGPLOW\n",
      "WARNING:root:No normalization for BCUT2D_MRHI\n",
      "WARNING:root:No normalization for BCUT2D_MRLOW\n"
     ]
    }
   ],
   "source": [
    "import pandas as pd\n",
    "from descriptors.dataset import MoleculesDataset, mol_collate_func\n",
    "from torch.utils.data import DataLoader\n",
    "from descriptastorus.descriptors.DescriptorGenerator import MakeGenerator\n",
    "from tqdm import tqdm\n",
    "from smiles_only_multilabel.data_utils import construct_dataset_multilabel, load_data_from_smiles, mol_collate_func\n",
    "from sklearn.preprocessing import LabelBinarizer"
   ]
  },
  {
   "cell_type": "code",
   "execution_count": 4,
   "id": "8f80ec48-1997-41ab-9223-aabaa15ec7ad",
   "metadata": {},
   "outputs": [],
   "source": [
    "data = pd.read_csv(\n",
    "    '/home/dionizije/Documents/drug_attrition_oracle/data/chembl_drugbank_p4_21_7_+missing_labels+withdrawn_tox.csv'\n",
    ")[['smiles', 'withdrawn_label', 'Toxicity type']]\n",
    "data = data.sample(frac=1, random_state=0)"
   ]
  },
  {
   "cell_type": "code",
   "execution_count": 5,
   "id": "d7f186f2-f973-41cc-bc42-69c35328349b",
   "metadata": {},
   "outputs": [
    {
     "data": {
      "text/html": [
       "<div>\n",
       "<style scoped>\n",
       "    .dataframe tbody tr th:only-of-type {\n",
       "        vertical-align: middle;\n",
       "    }\n",
       "\n",
       "    .dataframe tbody tr th {\n",
       "        vertical-align: top;\n",
       "    }\n",
       "\n",
       "    .dataframe thead th {\n",
       "        text-align: right;\n",
       "    }\n",
       "</style>\n",
       "<table border=\"1\" class=\"dataframe\">\n",
       "  <thead>\n",
       "    <tr style=\"text-align: right;\">\n",
       "      <th></th>\n",
       "      <th>smiles</th>\n",
       "      <th>withdrawn_label</th>\n",
       "      <th>Toxicity type</th>\n",
       "    </tr>\n",
       "  </thead>\n",
       "  <tbody>\n",
       "    <tr>\n",
       "      <th>1854</th>\n",
       "      <td>N=S(=O)(O)Cc1noc2ccccc12</td>\n",
       "      <td>0</td>\n",
       "      <td>Safe</td>\n",
       "    </tr>\n",
       "    <tr>\n",
       "      <th>2620</th>\n",
       "      <td>O[C@@H]([C@H]1CC[C@@H](CC2=CC=C(NC(=O)[C@@H]3C...</td>\n",
       "      <td>0</td>\n",
       "      <td>Safe</td>\n",
       "    </tr>\n",
       "    <tr>\n",
       "      <th>252</th>\n",
       "      <td>OCCN1C[C@H](O)[C@@H](O)[C@H](O)[C@H]1CO</td>\n",
       "      <td>0</td>\n",
       "      <td>Safe</td>\n",
       "    </tr>\n",
       "    <tr>\n",
       "      <th>991</th>\n",
       "      <td>CC(C)OC(=O)CCC/C=C\\C[C@H]1[C@@H](O)C[C@@H](O)[...</td>\n",
       "      <td>0</td>\n",
       "      <td>Safe</td>\n",
       "    </tr>\n",
       "    <tr>\n",
       "      <th>1739</th>\n",
       "      <td>CC(N)Cc1ccc(O)cc1</td>\n",
       "      <td>0</td>\n",
       "      <td>Safe</td>\n",
       "    </tr>\n",
       "    <tr>\n",
       "      <th>...</th>\n",
       "      <td>...</td>\n",
       "      <td>...</td>\n",
       "      <td>...</td>\n",
       "    </tr>\n",
       "    <tr>\n",
       "      <th>1731</th>\n",
       "      <td>CN1CCC(OC(c2ccccc2)c2ccccc2)CC1</td>\n",
       "      <td>0</td>\n",
       "      <td>Safe</td>\n",
       "    </tr>\n",
       "    <tr>\n",
       "      <th>763</th>\n",
       "      <td>C[C@]12C[C@H](O)[C@H]3[C@@H](CCC4=CC(=O)CC[C@@...</td>\n",
       "      <td>0</td>\n",
       "      <td>Safe</td>\n",
       "    </tr>\n",
       "    <tr>\n",
       "      <th>835</th>\n",
       "      <td>O=C(O)CCCO</td>\n",
       "      <td>0</td>\n",
       "      <td>Safe</td>\n",
       "    </tr>\n",
       "    <tr>\n",
       "      <th>1653</th>\n",
       "      <td>O=c1ccc2ccccc2o1</td>\n",
       "      <td>1</td>\n",
       "      <td>toxic_hepa</td>\n",
       "    </tr>\n",
       "    <tr>\n",
       "      <th>2607</th>\n",
       "      <td>[MgH2]</td>\n",
       "      <td>0</td>\n",
       "      <td>Safe</td>\n",
       "    </tr>\n",
       "  </tbody>\n",
       "</table>\n",
       "<p>2722 rows × 3 columns</p>\n",
       "</div>"
      ],
      "text/plain": [
       "                                                 smiles  withdrawn_label  \\\n",
       "1854                           N=S(=O)(O)Cc1noc2ccccc12                0   \n",
       "2620  O[C@@H]([C@H]1CC[C@@H](CC2=CC=C(NC(=O)[C@@H]3C...                0   \n",
       "252             OCCN1C[C@H](O)[C@@H](O)[C@H](O)[C@H]1CO                0   \n",
       "991   CC(C)OC(=O)CCC/C=C\\C[C@H]1[C@@H](O)C[C@@H](O)[...                0   \n",
       "1739                                  CC(N)Cc1ccc(O)cc1                0   \n",
       "...                                                 ...              ...   \n",
       "1731                    CN1CCC(OC(c2ccccc2)c2ccccc2)CC1                0   \n",
       "763   C[C@]12C[C@H](O)[C@H]3[C@@H](CCC4=CC(=O)CC[C@@...                0   \n",
       "835                                          O=C(O)CCCO                0   \n",
       "1653                                   O=c1ccc2ccccc2o1                1   \n",
       "2607                                             [MgH2]                0   \n",
       "\n",
       "     Toxicity type  \n",
       "1854          Safe  \n",
       "2620          Safe  \n",
       "252           Safe  \n",
       "991           Safe  \n",
       "1739          Safe  \n",
       "...            ...  \n",
       "1731          Safe  \n",
       "763           Safe  \n",
       "835           Safe  \n",
       "1653    toxic_hepa  \n",
       "2607          Safe  \n",
       "\n",
       "[2722 rows x 3 columns]"
      ]
     },
     "execution_count": 5,
     "metadata": {},
     "output_type": "execute_result"
    }
   ],
   "source": [
    "data"
   ]
  },
  {
   "cell_type": "code",
   "execution_count": 6,
   "id": "2ad7cedb-770d-4c38-ae77-9ffbf835bb7b",
   "metadata": {},
   "outputs": [],
   "source": [
    "labels = LabelBinarizer().fit_transform(data['Toxicity type'])"
   ]
  },
  {
   "cell_type": "code",
   "execution_count": 27,
   "id": "3fe3634d-076a-4fe0-b3b5-fc8f3925a054",
   "metadata": {},
   "outputs": [],
   "source": [
    "test_data = data"
   ]
  },
  {
   "cell_type": "code",
   "execution_count": 8,
   "id": "006943a6-fb34-4714-8e84-6f659e041218",
   "metadata": {},
   "outputs": [
    {
     "data": {
      "text/plain": [
       "array([[1, 0, 0, 0, 0, 0, 0, 0, 0, 0, 0, 0, 0, 0, 0, 0, 0, 0]])"
      ]
     },
     "execution_count": 8,
     "metadata": {},
     "output_type": "execute_result"
    }
   ],
   "source": [
    "labels[:1]"
   ]
  },
  {
   "cell_type": "code",
   "execution_count": 9,
   "id": "31552220-e1f5-43c6-bc60-f4e92d4aea78",
   "metadata": {},
   "outputs": [],
   "source": [
    "X_test, y_test = load_data_from_smiles(test_data['smiles'],\n",
    "                                       test_data['withdrawn_label'],\n",
    "                                       one_hot_formal_charge=True)"
   ]
  },
  {
   "cell_type": "code",
   "execution_count": 10,
   "id": "ff0bc2a6-8b88-4147-9e3b-6367d8ebf1c5",
   "metadata": {},
   "outputs": [],
   "source": [
    "y2_test = labels[:1]"
   ]
  },
  {
   "cell_type": "code",
   "execution_count": 11,
   "id": "927d10c8-07fd-4330-800e-5616e13036b2",
   "metadata": {},
   "outputs": [],
   "source": [
    "test_dataset = construct_dataset_multilabel(X_test, y_test, y2_test)"
   ]
  },
  {
   "cell_type": "code",
   "execution_count": 12,
   "id": "9ceaf157-44d2-4693-91a8-389e0da8a195",
   "metadata": {},
   "outputs": [],
   "source": [
    "test_loader = DataLoader(test_dataset, num_workers=0, collate_fn=mol_collate_func, batch_size=1)"
   ]
  },
  {
   "cell_type": "code",
   "execution_count": 20,
   "id": "4c352ef6-280c-484f-be2b-057a9be323a0",
   "metadata": {},
   "outputs": [],
   "source": [
    "train_test_splitter = StratifiedKFold(n_splits=5)"
   ]
  },
  {
   "cell_type": "code",
   "execution_count": 19,
   "id": "e3fed8cb-e2b0-433c-a52d-0f9595053881",
   "metadata": {},
   "outputs": [],
   "source": [
    "from sklearn.model_selection import StratifiedKFold"
   ]
  },
  {
   "cell_type": "code",
   "execution_count": 25,
   "id": "0af83427-67b6-48f3-ab9f-05bc73c6deb8",
   "metadata": {},
   "outputs": [],
   "source": [
    "for k, (train_index, test_index) in enumerate(\n",
    "            train_test_splitter.split(data, data['withdrawn_label'], data['Toxicity type'])\n",
    "    ):\n",
    "    y2_test = labels[test_index]"
   ]
  },
  {
   "cell_type": "code",
   "execution_count": 24,
   "id": "abc07316-c5df-4914-9190-8b3c15292361",
   "metadata": {},
   "outputs": [
    {
     "data": {
      "text/plain": [
       "544"
      ]
     },
     "execution_count": 24,
     "metadata": {},
     "output_type": "execute_result"
    }
   ],
   "source": [
    "len(y2_test)"
   ]
  },
  {
   "cell_type": "code",
   "execution_count": 32,
   "id": "6e9858c9-b4bf-40d7-8d46-a560b4661351",
   "metadata": {},
   "outputs": [],
   "source": [
    "from sklearn.utils.class_weight import compute_class_weight"
   ]
  },
  {
   "cell_type": "code",
   "execution_count": 40,
   "id": "6120e65e-c133-4c4d-b310-0e17b737e171",
   "metadata": {},
   "outputs": [
    {
     "data": {
      "text/plain": [
       "array(['Safe', 'toxic_neuro', 'toxic_cardio', 'toxic_teratogen',\n",
       "       'toxic_respiratory', 'toxic_systemic', 'toxic_gastro',\n",
       "       'toxic_carcinogenic', 'toxic_hepa', 'toxic_dermis', 'toxic_hema',\n",
       "       'toxic_opthalmic', 'toxic_nephro', 'toxic_muscoskelet',\n",
       "       'carinogenicity', 'toxic_systemic; toxic_dermis',\n",
       "       'toxic_systemic; toxic_gastro', 'toxic_hema; toxic_systemic'],\n",
       "      dtype=object)"
      ]
     },
     "execution_count": 40,
     "metadata": {},
     "output_type": "execute_result"
    }
   ],
   "source": [
    "list(data['Toxicity type'].unique()"
   ]
  },
  {
   "cell_type": "code",
   "execution_count": 51,
   "id": "9d6a8471-0b40-4b4b-91ea-a80535529a79",
   "metadata": {},
   "outputs": [],
   "source": [
    "import torch"
   ]
  },
  {
   "cell_type": "code",
   "execution_count": 53,
   "id": "b16c2e4f-fdfd-4497-9d4b-2ea36720093b",
   "metadata": {},
   "outputs": [
    {
     "data": {
      "text/plain": [
       "torch.Size([18])"
      ]
     },
     "execution_count": 53,
     "metadata": {},
     "output_type": "execute_result"
    }
   ],
   "source": [
    "torch.Tensor(compute_class_weight(classes=data['Toxicity type'].unique(), y=data['Toxicity type'], class_weight='balanced')).size()"
   ]
  }
 ],
 "metadata": {
  "kernelspec": {
   "display_name": "withdrawn",
   "language": "python",
   "name": "withdrawn"
  },
  "language_info": {
   "codemirror_mode": {
    "name": "ipython",
    "version": 3
   },
   "file_extension": ".py",
   "mimetype": "text/x-python",
   "name": "python",
   "nbconvert_exporter": "python",
   "pygments_lexer": "ipython3",
   "version": "3.6.13"
  }
 },
 "nbformat": 4,
 "nbformat_minor": 5
}
