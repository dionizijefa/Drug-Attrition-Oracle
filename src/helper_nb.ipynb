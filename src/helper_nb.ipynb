{
 "cells": [
  {
   "cell_type": "code",
   "execution_count": 19,
   "id": "14462191-1382-42e5-9e94-69e6356c690b",
   "metadata": {},
   "outputs": [],
   "source": [
    "%load_ext autoreload"
   ]
  },
  {
   "cell_type": "code",
   "execution_count": 20,
   "id": "b9d860aa-45d7-4939-8fe5-8472664353bf",
   "metadata": {},
   "outputs": [],
   "source": [
    "%autoreload 2"
   ]
  },
  {
   "cell_type": "code",
   "execution_count": 4,
   "id": "40e906be-5eee-4b19-917f-340daec1e7cd",
   "metadata": {},
   "outputs": [],
   "source": [
    "import pandas as pd\n",
    "from sklearn.ensemble import RandomForestClassifier\n",
    "from sklearn.model_selection import StratifiedKFold, train_test_split, StratifiedShuffleSplit\n",
    "from sklearn.metrics import average_precision_score, roc_auc_score\n",
    "import numpy as np\n",
    "from sklearn import tree\n",
    "from deslib.des.knora_e import KNORAE\n",
    "from sklearn.preprocessing import StandardScaler\n",
    "from skopt import BayesSearchCV\n",
    "from skopt.space import Real, Categorical, Integer\n",
    "from sklearn.experimental import enable_hist_gradient_boosting\n",
    "from sklearn.ensemble import HistGradientBoostingClassifier\n",
    "import torch"
   ]
  },
  {
   "cell_type": "code",
   "execution_count": 336,
   "id": "48638fd4-f5fe-4de7-9d71-da48a1afcec3",
   "metadata": {},
   "outputs": [],
   "source": [
    "chembl = pd.read_csv('/home/dionizije/Documents/drug_attrition_oracle/data/chembl_4_smiles.csv', index_col=0)"
   ]
  },
  {
   "cell_type": "code",
   "execution_count": 40,
   "id": "dbd18c14-92ee-41e6-be16-e41f197ca7d6",
   "metadata": {},
   "outputs": [
    {
     "data": {
      "text/html": [
       "<div>\n",
       "<style scoped>\n",
       "    .dataframe tbody tr th:only-of-type {\n",
       "        vertical-align: middle;\n",
       "    }\n",
       "\n",
       "    .dataframe tbody tr th {\n",
       "        vertical-align: top;\n",
       "    }\n",
       "\n",
       "    .dataframe thead th {\n",
       "        text-align: right;\n",
       "    }\n",
       "</style>\n",
       "<table border=\"1\" class=\"dataframe\">\n",
       "  <thead>\n",
       "    <tr style=\"text-align: right;\">\n",
       "      <th></th>\n",
       "      <th>chembl_id</th>\n",
       "      <th>pubchem_cid</th>\n",
       "      <th>smiles</th>\n",
       "      <th>parent_smiles</th>\n",
       "      <th>chembl_tox</th>\n",
       "      <th>withdrawn</th>\n",
       "    </tr>\n",
       "  </thead>\n",
       "  <tbody>\n",
       "    <tr>\n",
       "      <th>464</th>\n",
       "      <td>CHEMBL1237066</td>\n",
       "      <td>62859</td>\n",
       "      <td>O=C([O-])C(O)[C@H](O)[C@@H](O)[C@H](O)[C@H](O)...</td>\n",
       "      <td>O=C([O-])C(O)[C@H](O)[C@@H](O)[C@H](O)[C@H](O)...</td>\n",
       "      <td>Safe</td>\n",
       "      <td>0</td>\n",
       "    </tr>\n",
       "    <tr>\n",
       "      <th>700</th>\n",
       "      <td>CHEMBL2010412</td>\n",
       "      <td>452192</td>\n",
       "      <td>C[n+]1c2cc(N)ccc2cc2ccc(N)cc21.Nc1ccc2cc3ccc(N...</td>\n",
       "      <td>missing</td>\n",
       "      <td>Safe</td>\n",
       "      <td>0</td>\n",
       "    </tr>\n",
       "    <tr>\n",
       "      <th>842</th>\n",
       "      <td>CHEMBL1200747</td>\n",
       "      <td>62358</td>\n",
       "      <td>CC(O)C(=O)O.N</td>\n",
       "      <td>CC(O)C(=O)O.N</td>\n",
       "      <td>Safe</td>\n",
       "      <td>0</td>\n",
       "    </tr>\n",
       "    <tr>\n",
       "      <th>1376</th>\n",
       "      <td>CHEMBL2106975</td>\n",
       "      <td>61102</td>\n",
       "      <td>O=C([O-])O.[K+]</td>\n",
       "      <td>O=C([O-])O.[K+]</td>\n",
       "      <td>Safe</td>\n",
       "      <td>0</td>\n",
       "    </tr>\n",
       "    <tr>\n",
       "      <th>1409</th>\n",
       "      <td>CHEMBL1255943</td>\n",
       "      <td>2723891</td>\n",
       "      <td>Cl.N[C@@H](CCC(=O)O)C(=O)O</td>\n",
       "      <td>Cl.N[C@@H](CCC(=O)O)C(=O)O</td>\n",
       "      <td>Safe</td>\n",
       "      <td>0</td>\n",
       "    </tr>\n",
       "    <tr>\n",
       "      <th>...</th>\n",
       "      <td>...</td>\n",
       "      <td>...</td>\n",
       "      <td>...</td>\n",
       "      <td>...</td>\n",
       "      <td>...</td>\n",
       "      <td>...</td>\n",
       "    </tr>\n",
       "    <tr>\n",
       "      <th>10391</th>\n",
       "      <td>CHEMBL1200691</td>\n",
       "      <td>8896</td>\n",
       "      <td>CC(=O)[O-].CC(=O)[O-].[Mg+2]</td>\n",
       "      <td>CC(=O)[O-].CC(=O)[O-].[Mg+2]</td>\n",
       "      <td>Safe</td>\n",
       "      <td>0</td>\n",
       "    </tr>\n",
       "    <tr>\n",
       "      <th>10524</th>\n",
       "      <td>CHEMBL2106123</td>\n",
       "      <td>13136</td>\n",
       "      <td>O=C([O-])CC(O)(CC(=O)[O-])C(=O)[O-].O=C([O-])C...</td>\n",
       "      <td>O=C([O-])CC(O)(CC(=O)[O-])C(=O)[O-].O=C([O-])C...</td>\n",
       "      <td>Safe</td>\n",
       "      <td>0</td>\n",
       "    </tr>\n",
       "    <tr>\n",
       "      <th>10531</th>\n",
       "      <td>CHEMBL2364968</td>\n",
       "      <td>90661668</td>\n",
       "      <td>CC(C)C[C@H]1C(=O)N2CCC[C@H]2[C@]2(O)O[C@](NC(=...</td>\n",
       "      <td>missing</td>\n",
       "      <td>Safe</td>\n",
       "      <td>0</td>\n",
       "    </tr>\n",
       "    <tr>\n",
       "      <th>10560</th>\n",
       "      <td>CHEMBL261772</td>\n",
       "      <td>missing</td>\n",
       "      <td>C=C1c2c(Cl)ccc(O)c2C(=O)C2=C(O)[C@]3(O)C(=O)C(...</td>\n",
       "      <td>C=C1c2c(Cl)ccc(O)c2C(=O)C2=C(O)[C@]3(O)C(=O)C(...</td>\n",
       "      <td>Safe</td>\n",
       "      <td>0</td>\n",
       "    </tr>\n",
       "    <tr>\n",
       "      <th>10571</th>\n",
       "      <td>CHEMBL282468</td>\n",
       "      <td>6209</td>\n",
       "      <td>C[N+](C)(C)CCO.[Cl-]</td>\n",
       "      <td>C[N+](C)(C)CCO.[Cl-]</td>\n",
       "      <td>Safe</td>\n",
       "      <td>0</td>\n",
       "    </tr>\n",
       "  </tbody>\n",
       "</table>\n",
       "<p>77 rows × 6 columns</p>\n",
       "</div>"
      ],
      "text/plain": [
       "           chembl_id pubchem_cid  \\\n",
       "464    CHEMBL1237066       62859   \n",
       "700    CHEMBL2010412      452192   \n",
       "842    CHEMBL1200747       62358   \n",
       "1376   CHEMBL2106975       61102   \n",
       "1409   CHEMBL1255943     2723891   \n",
       "...              ...         ...   \n",
       "10391  CHEMBL1200691        8896   \n",
       "10524  CHEMBL2106123       13136   \n",
       "10531  CHEMBL2364968    90661668   \n",
       "10560   CHEMBL261772     missing   \n",
       "10571   CHEMBL282468        6209   \n",
       "\n",
       "                                                  smiles  \\\n",
       "464    O=C([O-])C(O)[C@H](O)[C@@H](O)[C@H](O)[C@H](O)...   \n",
       "700    C[n+]1c2cc(N)ccc2cc2ccc(N)cc21.Nc1ccc2cc3ccc(N...   \n",
       "842                                        CC(O)C(=O)O.N   \n",
       "1376                                     O=C([O-])O.[K+]   \n",
       "1409                          Cl.N[C@@H](CCC(=O)O)C(=O)O   \n",
       "...                                                  ...   \n",
       "10391                       CC(=O)[O-].CC(=O)[O-].[Mg+2]   \n",
       "10524  O=C([O-])CC(O)(CC(=O)[O-])C(=O)[O-].O=C([O-])C...   \n",
       "10531  CC(C)C[C@H]1C(=O)N2CCC[C@H]2[C@]2(O)O[C@](NC(=...   \n",
       "10560  C=C1c2c(Cl)ccc(O)c2C(=O)C2=C(O)[C@]3(O)C(=O)C(...   \n",
       "10571                               C[N+](C)(C)CCO.[Cl-]   \n",
       "\n",
       "                                           parent_smiles chembl_tox  withdrawn  \n",
       "464    O=C([O-])C(O)[C@H](O)[C@@H](O)[C@H](O)[C@H](O)...       Safe          0  \n",
       "700                                              missing       Safe          0  \n",
       "842                                        CC(O)C(=O)O.N       Safe          0  \n",
       "1376                                     O=C([O-])O.[K+]       Safe          0  \n",
       "1409                          Cl.N[C@@H](CCC(=O)O)C(=O)O       Safe          0  \n",
       "...                                                  ...        ...        ...  \n",
       "10391                       CC(=O)[O-].CC(=O)[O-].[Mg+2]       Safe          0  \n",
       "10524  O=C([O-])CC(O)(CC(=O)[O-])C(=O)[O-].O=C([O-])C...       Safe          0  \n",
       "10531                                            missing       Safe          0  \n",
       "10560  C=C1c2c(Cl)ccc(O)c2C(=O)C2=C(O)[C@]3(O)C(=O)C(...       Safe          0  \n",
       "10571                               C[N+](C)(C)CCO.[Cl-]       Safe          0  \n",
       "\n",
       "[77 rows x 6 columns]"
      ]
     },
     "execution_count": 40,
     "metadata": {},
     "output_type": "execute_result"
    }
   ],
   "source": [
    "chembl.loc[chembl['smiles'].str.contains('\\.')]"
   ]
  },
  {
   "cell_type": "code",
   "execution_count": 338,
   "id": "f919e4fd-74dc-4753-a14f-c12fd6992254",
   "metadata": {},
   "outputs": [
    {
     "ename": "AttributeError",
     "evalue": "'StringMethods' object has no attribute 'unique'",
     "output_type": "error",
     "traceback": [
      "\u001b[0;31m---------------------------------------------------------------------------\u001b[0m",
      "\u001b[0;31mAttributeError\u001b[0m                            Traceback (most recent call last)",
      "\u001b[0;32m<ipython-input-338-52353bb62938>\u001b[0m in \u001b[0;36m<module>\u001b[0;34m\u001b[0m\n\u001b[0;32m----> 1\u001b[0;31m \u001b[0mchembl\u001b[0m\u001b[0;34m[\u001b[0m\u001b[0;34m'smiles'\u001b[0m\u001b[0;34m]\u001b[0m\u001b[0;34m.\u001b[0m\u001b[0mstr\u001b[0m\u001b[0;34m.\u001b[0m\u001b[0munique\u001b[0m\u001b[0;34m(\u001b[0m\u001b[0;34m)\u001b[0m\u001b[0;34m\u001b[0m\u001b[0;34m\u001b[0m\u001b[0m\n\u001b[0m",
      "\u001b[0;31mAttributeError\u001b[0m: 'StringMethods' object has no attribute 'unique'"
     ]
    }
   ],
   "source": [
    "chembl['smiles'].str.unique()"
   ]
  },
  {
   "cell_type": "markdown",
   "id": "835fc64f-29d4-408b-8c36-abefdf9afb2b",
   "metadata": {},
   "source": [
    "# Models"
   ]
  },
  {
   "cell_type": "code",
   "execution_count": 125,
   "id": "6c85504a-10f7-4c11-aacc-cb6e5d4b54e9",
   "metadata": {},
   "outputs": [],
   "source": [
    "search_space = { # values for boostrap can be either True or False # values of max_depth are integers from 6 to 20\n",
    "        \"max_iter\": Integer(10, 1000),\n",
    "        \"learning_rate\": Real(0.001, 1),  \n",
    "        \"min_samples_leaf\": Integer(1, 30)\n",
    "    }"
   ]
  },
  {
   "cell_type": "code",
   "execution_count": 119,
   "id": "ddef17c8-6c9e-42ad-8689-639bd7a33fca",
   "metadata": {},
   "outputs": [],
   "source": [
    "forest_clf = HistGradientBoostingClassifier(early_stopping=True, validation_fraction=0.15)"
   ]
  },
  {
   "cell_type": "code",
   "execution_count": 126,
   "id": "9e1869c8-fe88-4038-87bc-35f9baabde1d",
   "metadata": {},
   "outputs": [],
   "source": [
    "forest_bayes_search = BayesSearchCV(forest_clf, search_space, n_iter=32, # specify how many iterations\n",
    "                                    scoring=\"roc_auc\", n_jobs=-1, cv=5)"
   ]
  },
  {
   "cell_type": "code",
   "execution_count": 127,
   "id": "a9ec70b8-83c7-4c7e-905c-ae1ceee4c4fc",
   "metadata": {},
   "outputs": [
    {
     "data": {
      "text/plain": [
       "BayesSearchCV(cv=5,\n",
       "              estimator=HistGradientBoostingClassifier(early_stopping=True,\n",
       "                                                       validation_fraction=0.15),\n",
       "              n_iter=32, n_jobs=-1, scoring='roc_auc',\n",
       "              search_spaces={'learning_rate': Real(low=0.001, high=1, prior='uniform', transform='identity'),\n",
       "                             'max_iter': Integer(low=10, high=1000, prior='uniform', transform='identity'),\n",
       "                             'min_samples_leaf': Integer(low=1, high=30, prior='uniform', transform='identity')})"
      ]
     },
     "execution_count": 127,
     "metadata": {},
     "output_type": "execute_result"
    }
   ],
   "source": [
    "forest_bayes_search.fit(X, y)"
   ]
  },
  {
   "cell_type": "code",
   "execution_count": 128,
   "id": "a13c6eab-8df0-4674-a076-e9b205b514ac",
   "metadata": {},
   "outputs": [
    {
     "data": {
      "text/plain": [
       "HistGradientBoostingClassifier(early_stopping=True,\n",
       "                               learning_rate=0.01619991660275452, max_iter=25,\n",
       "                               min_samples_leaf=12, validation_fraction=0.15)"
      ]
     },
     "execution_count": 128,
     "metadata": {},
     "output_type": "execute_result"
    }
   ],
   "source": [
    "forest_bayes_search.best_estimator_"
   ]
  },
  {
   "cell_type": "markdown",
   "id": "0c87f2bd-3fe1-4085-926c-73f0e32bf9b5",
   "metadata": {},
   "source": [
    "# AP"
   ]
  },
  {
   "cell_type": "code",
   "execution_count": 129,
   "id": "f1f0c8fc-b331-4da2-8ea5-e0723ebee397",
   "metadata": {},
   "outputs": [
    {
     "data": {
      "text/plain": [
       "0.6878546912287747"
      ]
     },
     "execution_count": 129,
     "metadata": {},
     "output_type": "execute_result"
    }
   ],
   "source": [
    "forest_bayes_search.best_score_"
   ]
  },
  {
   "cell_type": "markdown",
   "id": "b4391b20-5a8f-4d43-9ad8-9d118d146d46",
   "metadata": {},
   "source": [
    "# ROC auc"
   ]
  },
  {
   "cell_type": "code",
   "execution_count": 104,
   "id": "34387ada-0467-41fb-adf3-6465bc36b13a",
   "metadata": {},
   "outputs": [
    {
     "data": {
      "text/plain": [
       "0.6895023895534506"
      ]
     },
     "execution_count": 104,
     "metadata": {},
     "output_type": "execute_result"
    }
   ],
   "source": [
    "forest_bayes_search.best_score_"
   ]
  },
  {
   "cell_type": "code",
   "execution_count": 79,
   "id": "a30d355e-13f3-4076-9282-cbb28cb4379c",
   "metadata": {},
   "outputs": [],
   "source": [
    "aps = []\n",
    "aucs = []\n",
    "for train_index, test_index in skf.split(X, y):\n",
    "    scaler = StandardScaler()\n",
    "    X_train, X_test = X.iloc[train_index], X.iloc[test_index]\n",
    "    y_train, y_test = y.iloc[train_index], y.iloc[test_index]\n",
    "    \n",
    "    X_train = scaler.fit_transform(X_train)\n",
    "    X_test = scaler.transform(X_test)\n",
    "    \n",
    "    clf.fit(X_train, y_train)\n",
    "    #knorae = KNORAE(pool_classifiers)\n",
    "    #knorae.fit()\n",
    "    log_probs = clf.predict_proba(X_test)[:, 1]\n",
    "    ap = average_precision_score(y_test, log_probs)\n",
    "    roc_auc = roc_auc_score(y_test, log_probs)\n",
    "    aps.append(ap)\n",
    "    aucs.append(roc_auc)"
   ]
  },
  {
   "cell_type": "code",
   "execution_count": 85,
   "id": "93c90e3d-7c1c-4c12-ad21-b0dac32eca9e",
   "metadata": {},
   "outputs": [
    {
     "data": {
      "text/plain": [
       "0.14099473491817066"
      ]
     },
     "execution_count": 85,
     "metadata": {},
     "output_type": "execute_result"
    }
   ],
   "source": [
    "np.mean(aps)"
   ]
  },
  {
   "cell_type": "code",
   "execution_count": 87,
   "id": "2398445c-106a-4dbe-bc7c-6562d4d87d69",
   "metadata": {},
   "outputs": [
    {
     "data": {
      "text/plain": [
       "0.6449456398734204"
      ]
     },
     "execution_count": 87,
     "metadata": {},
     "output_type": "execute_result"
    }
   ],
   "source": [
    "np.mean(aucs)"
   ]
  },
  {
   "cell_type": "markdown",
   "id": "94e85aa7-901c-4d1e-9fbd-1149d3d83aef",
   "metadata": {},
   "source": [
    "# Knora"
   ]
  },
  {
   "cell_type": "code",
   "execution_count": 107,
   "id": "ff9967e8-de0f-4bb5-8730-aa989b77d5c0",
   "metadata": {},
   "outputs": [],
   "source": [
    "aps = []\n",
    "aucs = []\n",
    "for train_index, test_index in skf.split(X, y):\n",
    "    scaler = StandardScaler()\n",
    "    X_train, X_test = X.iloc[train_index], X.iloc[test_index]\n",
    "    y_train, y_test = y.iloc[train_index], y.iloc[test_index]\n",
    "    \n",
    "    X_train, X_dsel, y_train, y_dsel = train_test_split(X_train, y_train, test_size=0.5)\n",
    "    \n",
    "    clf = forest_bayes_search.best_estimator_\n",
    "    clf.fit(X_train, y_train)\n",
    "    knorae = KNORAE(clf)\n",
    "    knorae.fit(X_dsel, y_dsel)\n",
    "    \n",
    "    log_probs = clf.predict_proba(X_test)[:, 1]\n",
    "    ap = average_precision_score(y_test, log_probs)\n",
    "    roc_auc = roc_auc_score(y_test, log_probs)\n",
    "    aps.append(ap)\n",
    "    aucs.append(roc_auc)"
   ]
  },
  {
   "cell_type": "code",
   "execution_count": 110,
   "id": "a3b4acc3-b1c2-4b80-9573-0ad9bda0d34e",
   "metadata": {},
   "outputs": [
    {
     "data": {
      "text/plain": [
       "0.1549412394889774"
      ]
     },
     "execution_count": 110,
     "metadata": {},
     "output_type": "execute_result"
    }
   ],
   "source": [
    "np.mean(aps)"
   ]
  },
  {
   "cell_type": "code",
   "execution_count": 111,
   "id": "5598ccce-4a2c-478f-b852-d89b9c0dcb52",
   "metadata": {},
   "outputs": [
    {
     "data": {
      "text/plain": [
       "0.6263718833458845"
      ]
     },
     "execution_count": 111,
     "metadata": {},
     "output_type": "execute_result"
    }
   ],
   "source": [
    "np.mean(aucs)"
   ]
  },
  {
   "cell_type": "markdown",
   "id": "41e600fa-1750-42f4-8764-d1cfb1e29064",
   "metadata": {},
   "source": [
    "# GNN Explainer"
   ]
  },
  {
   "cell_type": "code",
   "execution_count": 126,
   "id": "8ef34d13-43f4-47d0-b384-0ca260b97788",
   "metadata": {},
   "outputs": [
    {
     "ename": "ImportError",
     "evalue": "cannot import name 'EGConvNet'",
     "output_type": "error",
     "traceback": [
      "\u001b[0;31m---------------------------------------------------------------------------\u001b[0m",
      "\u001b[0;31mImportError\u001b[0m                               Traceback (most recent call last)",
      "\u001b[0;32m<ipython-input-126-8aa7f29aea1b>\u001b[0m in \u001b[0;36m<module>\u001b[0;34m\u001b[0m\n\u001b[1;32m      3\u001b[0m \u001b[0;32mfrom\u001b[0m \u001b[0mtorch_geometric\u001b[0m\u001b[0;34m.\u001b[0m\u001b[0mnn\u001b[0m \u001b[0;32mimport\u001b[0m \u001b[0mGNNExplainer\u001b[0m\u001b[0;34m\u001b[0m\u001b[0;34m\u001b[0m\u001b[0m\n\u001b[1;32m      4\u001b[0m \u001b[0;32mfrom\u001b[0m \u001b[0mtyping\u001b[0m \u001b[0;32mimport\u001b[0m \u001b[0mDict\u001b[0m\u001b[0;34m,\u001b[0m \u001b[0mOptional\u001b[0m\u001b[0;34m\u001b[0m\u001b[0;34m\u001b[0m\u001b[0m\n\u001b[0;32m----> 5\u001b[0;31m \u001b[0;32mfrom\u001b[0m \u001b[0msmiles_only\u001b[0m\u001b[0;34m.\u001b[0m\u001b[0mEGConv\u001b[0m \u001b[0;32mimport\u001b[0m \u001b[0mEGConvNet\u001b[0m\u001b[0;34m,\u001b[0m \u001b[0mAtomEncoder\u001b[0m\u001b[0;34m\u001b[0m\u001b[0;34m\u001b[0m\u001b[0m\n\u001b[0m\u001b[1;32m      6\u001b[0m \u001b[0;32mfrom\u001b[0m \u001b[0mtorch_geometric\u001b[0m\u001b[0;34m.\u001b[0m\u001b[0mutils\u001b[0m \u001b[0;32mimport\u001b[0m \u001b[0mto_networkx\u001b[0m\u001b[0;34m\u001b[0m\u001b[0;34m\u001b[0m\u001b[0m\n\u001b[1;32m      7\u001b[0m \u001b[0;32mimport\u001b[0m \u001b[0mmatplotlib\u001b[0m\u001b[0;34m.\u001b[0m\u001b[0mpyplot\u001b[0m \u001b[0;32mas\u001b[0m \u001b[0mpyplot\u001b[0m\u001b[0;34m\u001b[0m\u001b[0;34m\u001b[0m\u001b[0m\n",
      "\u001b[0;31mImportError\u001b[0m: cannot import name 'EGConvNet'"
     ]
    }
   ],
   "source": [
    "from smiles_only.data_utils import smiles2graph\n",
    "from torch_geometric.data import DataLoader, Data\n",
    "from torch_geometric.nn import GNNExplainer\n",
    "from typing import Dict, Optional\n",
    "from smiles_only.EGConv import EGConvNet, AtomEncoder\n",
    "from torch_geometric.utils import to_networkx\n",
    "import matplotlib.pyplot as pyplot\n",
    "import networkx as nx"
   ]
  },
  {
   "cell_type": "code",
   "execution_count": 50,
   "id": "dbc2d17b-5e73-4340-b2a2-6fab55712f10",
   "metadata": {},
   "outputs": [],
   "source": [
    "train = pd.read_csv('/home/dionizije/Documents/drug_attrition_oracle/data/chembl_train.csv', index_col=0)"
   ]
  },
  {
   "cell_type": "code",
   "execution_count": 51,
   "id": "2383e26a-991e-4051-95c6-2a6b3e73bc03",
   "metadata": {},
   "outputs": [
    {
     "data": {
      "text/html": [
       "<div>\n",
       "<style scoped>\n",
       "    .dataframe tbody tr th:only-of-type {\n",
       "        vertical-align: middle;\n",
       "    }\n",
       "\n",
       "    .dataframe tbody tr th {\n",
       "        vertical-align: top;\n",
       "    }\n",
       "\n",
       "    .dataframe thead th {\n",
       "        text-align: right;\n",
       "    }\n",
       "</style>\n",
       "<table border=\"1\" class=\"dataframe\">\n",
       "  <thead>\n",
       "    <tr style=\"text-align: right;\">\n",
       "      <th></th>\n",
       "      <th>chembl_id</th>\n",
       "      <th>pubchem_cid</th>\n",
       "      <th>smiles</th>\n",
       "      <th>parent_smiles</th>\n",
       "      <th>chembl_tox</th>\n",
       "      <th>withdrawn</th>\n",
       "    </tr>\n",
       "  </thead>\n",
       "  <tbody>\n",
       "    <tr>\n",
       "      <th>7833</th>\n",
       "      <td>CHEMBL710</td>\n",
       "      <td>57363</td>\n",
       "      <td>CC(C)(C)NC(=O)[C@H]1CC[C@H]2[C@@H]3CC[C@H]4NC(...</td>\n",
       "      <td>CC(C)(C)NC(=O)[C@H]1CC[C@H]2[C@@H]3CC[C@H]4NC(...</td>\n",
       "      <td>Safe</td>\n",
       "      <td>0</td>\n",
       "    </tr>\n",
       "    <tr>\n",
       "      <th>7511</th>\n",
       "      <td>CHEMBL1770248</td>\n",
       "      <td>44814423</td>\n",
       "      <td>CCOc1ccc(Cc2cc([C@]34OC[C@](CO)(O3)[C@@H](O)[C...</td>\n",
       "      <td>CCOc1ccc(Cc2cc([C@]34OC[C@](CO)(O3)[C@@H](O)[C...</td>\n",
       "      <td>Safe</td>\n",
       "      <td>0</td>\n",
       "    </tr>\n",
       "    <tr>\n",
       "      <th>6030</th>\n",
       "      <td>CHEMBL3989949</td>\n",
       "      <td>11962412</td>\n",
       "      <td>NC(=O)O[C@@H](Cn1ncnn1)c1ccccc1Cl</td>\n",
       "      <td>NC(=O)O[C@@H](Cn1ncnn1)c1ccccc1Cl</td>\n",
       "      <td>Safe</td>\n",
       "      <td>0</td>\n",
       "    </tr>\n",
       "    <tr>\n",
       "      <th>10493</th>\n",
       "      <td>CHEMBL844</td>\n",
       "      <td>2435</td>\n",
       "      <td>Brc1c(NC2=NCCN2)ccc2nccnc12</td>\n",
       "      <td>Brc1c(NC2=NCCN2)ccc2nccnc12</td>\n",
       "      <td>Safe</td>\n",
       "      <td>0</td>\n",
       "    </tr>\n",
       "    <tr>\n",
       "      <th>2262</th>\n",
       "      <td>CHEMBL833</td>\n",
       "      <td>5472</td>\n",
       "      <td>Clc1ccccc1CN1CCc2sccc2C1</td>\n",
       "      <td>Clc1ccccc1CN1CCc2sccc2C1</td>\n",
       "      <td>toxic_hema</td>\n",
       "      <td>0</td>\n",
       "    </tr>\n",
       "    <tr>\n",
       "      <th>...</th>\n",
       "      <td>...</td>\n",
       "      <td>...</td>\n",
       "      <td>...</td>\n",
       "      <td>...</td>\n",
       "      <td>...</td>\n",
       "      <td>...</td>\n",
       "    </tr>\n",
       "    <tr>\n",
       "      <th>8166</th>\n",
       "      <td>CHEMBL1201760</td>\n",
       "      <td>10178705</td>\n",
       "      <td>N[C@@H]1CCCCN(c2c(F)cc3c(=O)c(C(=O)O)cn(C4CC4)...</td>\n",
       "      <td>N[C@@H]1CCCCN(c2c(F)cc3c(=O)c(C(=O)O)cn(C4CC4)...</td>\n",
       "      <td>Safe</td>\n",
       "      <td>0</td>\n",
       "    </tr>\n",
       "    <tr>\n",
       "      <th>10183</th>\n",
       "      <td>CHEMBL1697782</td>\n",
       "      <td>63019</td>\n",
       "      <td>CCC(=O)O[C@]1(C(=O)COC(C)=O)CC[C@H]2[C@@H]3C[C...</td>\n",
       "      <td>CCC(=O)O[C@]1(C(=O)COC(C)=O)CC[C@H]2[C@@H]3C[C...</td>\n",
       "      <td>Safe</td>\n",
       "      <td>0</td>\n",
       "    </tr>\n",
       "    <tr>\n",
       "      <th>886</th>\n",
       "      <td>CHEMBL1480</td>\n",
       "      <td>3333</td>\n",
       "      <td>CCOC(=O)C1=C(C)NC(C)=C(C(=O)OC)C1c1cccc(Cl)c1Cl</td>\n",
       "      <td>CCOC(=O)C1=C(C)NC(C)=C(C(=O)OC)C1c1cccc(Cl)c1Cl</td>\n",
       "      <td>Safe</td>\n",
       "      <td>0</td>\n",
       "    </tr>\n",
       "    <tr>\n",
       "      <th>1950</th>\n",
       "      <td>CHEMBL3545432</td>\n",
       "      <td>56844015</td>\n",
       "      <td>CC(C)C[C@H](NC(=O)CNC(=O)c1cc(Cl)ccc1Cl)B1OC(=...</td>\n",
       "      <td>CC(C)C[C@H](NC(=O)CNC(=O)c1cc(Cl)ccc1Cl)B1OC(=...</td>\n",
       "      <td>Safe</td>\n",
       "      <td>0</td>\n",
       "    </tr>\n",
       "    <tr>\n",
       "      <th>1201</th>\n",
       "      <td>CHEMBL256087</td>\n",
       "      <td>1254</td>\n",
       "      <td>CC1CCC(C(C)C)C(O)C1</td>\n",
       "      <td>CC1CCC(C(C)C)C(O)C1</td>\n",
       "      <td>Safe</td>\n",
       "      <td>0</td>\n",
       "    </tr>\n",
       "  </tbody>\n",
       "</table>\n",
       "<p>1839 rows × 6 columns</p>\n",
       "</div>"
      ],
      "text/plain": [
       "           chembl_id pubchem_cid  \\\n",
       "7833       CHEMBL710       57363   \n",
       "7511   CHEMBL1770248    44814423   \n",
       "6030   CHEMBL3989949    11962412   \n",
       "10493      CHEMBL844        2435   \n",
       "2262       CHEMBL833        5472   \n",
       "...              ...         ...   \n",
       "8166   CHEMBL1201760    10178705   \n",
       "10183  CHEMBL1697782       63019   \n",
       "886       CHEMBL1480        3333   \n",
       "1950   CHEMBL3545432    56844015   \n",
       "1201    CHEMBL256087        1254   \n",
       "\n",
       "                                                  smiles  \\\n",
       "7833   CC(C)(C)NC(=O)[C@H]1CC[C@H]2[C@@H]3CC[C@H]4NC(...   \n",
       "7511   CCOc1ccc(Cc2cc([C@]34OC[C@](CO)(O3)[C@@H](O)[C...   \n",
       "6030                   NC(=O)O[C@@H](Cn1ncnn1)c1ccccc1Cl   \n",
       "10493                        Brc1c(NC2=NCCN2)ccc2nccnc12   \n",
       "2262                            Clc1ccccc1CN1CCc2sccc2C1   \n",
       "...                                                  ...   \n",
       "8166   N[C@@H]1CCCCN(c2c(F)cc3c(=O)c(C(=O)O)cn(C4CC4)...   \n",
       "10183  CCC(=O)O[C@]1(C(=O)COC(C)=O)CC[C@H]2[C@@H]3C[C...   \n",
       "886      CCOC(=O)C1=C(C)NC(C)=C(C(=O)OC)C1c1cccc(Cl)c1Cl   \n",
       "1950   CC(C)C[C@H](NC(=O)CNC(=O)c1cc(Cl)ccc1Cl)B1OC(=...   \n",
       "1201                                 CC1CCC(C(C)C)C(O)C1   \n",
       "\n",
       "                                           parent_smiles  chembl_tox  \\\n",
       "7833   CC(C)(C)NC(=O)[C@H]1CC[C@H]2[C@@H]3CC[C@H]4NC(...        Safe   \n",
       "7511   CCOc1ccc(Cc2cc([C@]34OC[C@](CO)(O3)[C@@H](O)[C...        Safe   \n",
       "6030                   NC(=O)O[C@@H](Cn1ncnn1)c1ccccc1Cl        Safe   \n",
       "10493                        Brc1c(NC2=NCCN2)ccc2nccnc12        Safe   \n",
       "2262                            Clc1ccccc1CN1CCc2sccc2C1  toxic_hema   \n",
       "...                                                  ...         ...   \n",
       "8166   N[C@@H]1CCCCN(c2c(F)cc3c(=O)c(C(=O)O)cn(C4CC4)...        Safe   \n",
       "10183  CCC(=O)O[C@]1(C(=O)COC(C)=O)CC[C@H]2[C@@H]3C[C...        Safe   \n",
       "886      CCOC(=O)C1=C(C)NC(C)=C(C(=O)OC)C1c1cccc(Cl)c1Cl        Safe   \n",
       "1950   CC(C)C[C@H](NC(=O)CNC(=O)c1cc(Cl)ccc1Cl)B1OC(=...        Safe   \n",
       "1201                                 CC1CCC(C(C)C)C(O)C1        Safe   \n",
       "\n",
       "       withdrawn  \n",
       "7833           0  \n",
       "7511           0  \n",
       "6030           0  \n",
       "10493          0  \n",
       "2262           0  \n",
       "...          ...  \n",
       "8166           0  \n",
       "10183          0  \n",
       "886            0  \n",
       "1950           0  \n",
       "1201           0  \n",
       "\n",
       "[1839 rows x 6 columns]"
      ]
     },
     "execution_count": 51,
     "metadata": {},
     "output_type": "execute_result"
    }
   ],
   "source": [
    "train"
   ]
  },
  {
   "cell_type": "code",
   "execution_count": 45,
   "id": "3b2e2fb3-86e2-4930-929c-c81511374c15",
   "metadata": {},
   "outputs": [],
   "source": [
    "test = pd.read_csv('/home/dionizije/Documents/drug_attrition_oracle/data/chembl_test.csv', index_col=0)"
   ]
  },
  {
   "cell_type": "code",
   "execution_count": 52,
   "id": "f0730ca9-2c40-4687-8acc-cdf6a94b8d28",
   "metadata": {},
   "outputs": [
    {
     "data": {
      "text/plain": [
       "0    0.929231\n",
       "1    0.070769\n",
       "Name: withdrawn, dtype: float64"
      ]
     },
     "execution_count": 52,
     "metadata": {},
     "output_type": "execute_result"
    }
   ],
   "source": [
    "test['withdrawn'].value_counts(normalize=True)"
   ]
  },
  {
   "cell_type": "code",
   "execution_count": 7,
   "id": "94f35f8d-b0a7-4b7e-96cf-ef996d2fbf6a",
   "metadata": {},
   "outputs": [],
   "source": [
    "test_data_list = []\n",
    "for index, row in test.iterrows():\n",
    "    test_data_list.append(smiles2graph(row, 'withdrawn'))"
   ]
  },
  {
   "cell_type": "code",
   "execution_count": 8,
   "id": "16ee4b7d-9fd4-4906-9d97-448a1d350439",
   "metadata": {},
   "outputs": [
    {
     "data": {
      "text/plain": [
       "torch.Size([29, 27])"
      ]
     },
     "execution_count": 8,
     "metadata": {},
     "output_type": "execute_result"
    }
   ],
   "source": [
    "test_data_list[13].x.size()"
   ]
  },
  {
   "cell_type": "code",
   "execution_count": 15,
   "id": "f220c0d1-9faa-4071-8fbe-1e948ecd30c8",
   "metadata": {},
   "outputs": [],
   "source": [
    "model = EGConvNet(512, 7, 2, 4, aggregator=['sum', 'mean', 'max'])"
   ]
  },
  {
   "cell_type": "code",
   "execution_count": 16,
   "id": "09bc95ea-176b-47af-a996-b3d75b866e5d",
   "metadata": {},
   "outputs": [],
   "source": [
    "state_dict = torch.load('/home/dionizije/epoch=36-step=3625.ckpt', map_location=torch.device('cpu'))['state_dict']"
   ]
  },
  {
   "cell_type": "code",
   "execution_count": 17,
   "id": "ab49af55-4fe6-4336-bc81-f04bb28fcd29",
   "metadata": {},
   "outputs": [],
   "source": [
    "for _ in range(len(state_dict)):\n",
    "    k, v = state_dict.popitem(False)\n",
    "    k = k.split('model.')[1]\n",
    "    state_dict[k] = v"
   ]
  },
  {
   "cell_type": "code",
   "execution_count": 18,
   "id": "2cdb206f-512b-46bc-937a-14a4621c9193",
   "metadata": {},
   "outputs": [
    {
     "data": {
      "text/plain": [
       "<All keys matched successfully>"
      ]
     },
     "execution_count": 18,
     "metadata": {},
     "output_type": "execute_result"
    }
   ],
   "source": [
    "model.load_state_dict(state_dict)"
   ]
  },
  {
   "cell_type": "code",
   "execution_count": 19,
   "id": "28d8f7c8-4635-4afe-8739-1d1520d9bad0",
   "metadata": {},
   "outputs": [
    {
     "data": {
      "text/plain": [
       "EGConvNet(\n",
       "  (lin1): Linear(in_features=27, out_features=512, bias=True)\n",
       "  (norm1): BatchNorm1d(512, eps=1e-05, momentum=0.1, affine=True, track_running_stats=True)\n",
       "  (convs): ModuleList(\n",
       "    (0): EGConv(512, 512, aggregators=['sum', 'mean', 'max'])\n",
       "    (1): EGConv(512, 512, aggregators=['sum', 'mean', 'max'])\n",
       "    (2): EGConv(512, 512, aggregators=['sum', 'mean', 'max'])\n",
       "    (3): EGConv(512, 512, aggregators=['sum', 'mean', 'max'])\n",
       "    (4): EGConv(512, 512, aggregators=['sum', 'mean', 'max'])\n",
       "    (5): EGConv(512, 512, aggregators=['sum', 'mean', 'max'])\n",
       "    (6): EGConv(512, 512, aggregators=['sum', 'mean', 'max'])\n",
       "  )\n",
       "  (norms): ModuleList(\n",
       "    (0): BatchNorm1d(512, eps=1e-05, momentum=0.1, affine=True, track_running_stats=True)\n",
       "    (1): BatchNorm1d(512, eps=1e-05, momentum=0.1, affine=True, track_running_stats=True)\n",
       "    (2): BatchNorm1d(512, eps=1e-05, momentum=0.1, affine=True, track_running_stats=True)\n",
       "    (3): BatchNorm1d(512, eps=1e-05, momentum=0.1, affine=True, track_running_stats=True)\n",
       "    (4): BatchNorm1d(512, eps=1e-05, momentum=0.1, affine=True, track_running_stats=True)\n",
       "    (5): BatchNorm1d(512, eps=1e-05, momentum=0.1, affine=True, track_running_stats=True)\n",
       "    (6): BatchNorm1d(512, eps=1e-05, momentum=0.1, affine=True, track_running_stats=True)\n",
       "  )\n",
       "  (mlp): Sequential(\n",
       "    (0): Linear(in_features=512, out_features=256, bias=False)\n",
       "    (1): BatchNorm1d(256, eps=1e-05, momentum=0.1, affine=True, track_running_stats=True)\n",
       "    (2): ReLU(inplace=True)\n",
       "    (3): Linear(in_features=256, out_features=128, bias=False)\n",
       "    (4): BatchNorm1d(128, eps=1e-05, momentum=0.1, affine=True, track_running_stats=True)\n",
       "    (5): ReLU(inplace=True)\n",
       "    (6): Linear(in_features=128, out_features=1, bias=True)\n",
       "  )\n",
       ")"
      ]
     },
     "execution_count": 19,
     "metadata": {},
     "output_type": "execute_result"
    }
   ],
   "source": [
    "model.eval()"
   ]
  },
  {
   "cell_type": "code",
   "execution_count": 36,
   "id": "327b9e6d-e87a-4ba0-b26f-1e23dab1fa55",
   "metadata": {},
   "outputs": [],
   "source": [
    "def explain_molecule(data, epochs):\n",
    "    explainer = GNNExplainer(model, epochs=epochs)\n",
    "    node_feat_mask, edge_mask = explainer.explain_graph(data.x, data.edge_index)\n",
    "    print(node_feat_mask)\n",
    "    edge_mask = edge_mask.detach().numpy()\n",
    "    edge_mask = edge_mask / edge_mask.max()\n",
    "    viridis = pyplot.cm.get_cmap('YlOrRd')\n",
    "    color_map = []\n",
    "    for i in edge_mask:\n",
    "        color = viridis(i)\n",
    "        color_map.append(color)\n",
    "    #edge_mask = np.where(edge_mask > 0.80, 1, 0)\n",
    "    viridis = pyplot.cm.get_cmap('YlOrRd')\n",
    "    graph = Data(x=data.x, edge_index=data.edge_index, edge_attrs=color_map) \n",
    "    g = to_networkx(graph, to_undirected=True, edge_attrs=['edge_attrs'])\n",
    "    pos = nx.planar_layout(g)\n",
    "    pos = nx.spring_layout(g, pos=pos)\n",
    "    widths = [x * 10 for x in edge_mask]\n",
    "    nx.draw(g, pos=pos, width=widths,edge_color=color_map)"
   ]
  },
  {
   "cell_type": "code",
   "execution_count": 38,
   "id": "a658c655-07c3-4109-9be9-3aa9b6702dae",
   "metadata": {},
   "outputs": [
    {
     "name": "stderr",
     "output_type": "stream",
     "text": [
      "Explain graph: 100%|██████████| 50/50 [00:03<00:00, 12.98it/s]\n"
     ]
    },
    {
     "name": "stdout",
     "output_type": "stream",
     "text": [
      "tensor([0.4015, 0.4401, 0.3781, 0.5820, 0.3592, 0.3665, 0.3601, 0.3905, 0.3603,\n",
      "        0.3386, 0.3446, 0.4182, 0.6427, 0.4095, 0.4021, 0.3925, 0.3907, 0.3901,\n",
      "        0.6092, 0.6097, 0.4101, 0.4042, 0.3963, 0.5981, 0.3489, 0.3975, 0.3738])\n"
     ]
    },
    {
     "data": {
      "image/png": "[encoded data removed]",
      "text/plain": [
       "<Figure size 432x288 with 1 Axes>"
      ]
     },
     "metadata": {},
     "output_type": "display_data"
    }
   ],
   "source": [
    "explain_molecule(test_data_list[2], epochs=50)"
   ]
  },
  {
   "cell_type": "code",
   "execution_count": 127,
   "id": "e2f52c10-db2e-4d5d-97bc-9c290ba74653",
   "metadata": {},
   "outputs": [],
   "source": [
    "from standardiser import standardise\n",
    "from tqdm import tqdm\n",
    "from rdkit.Chem.Scaffolds.MurckoScaffold import MakeScaffoldGeneric\n",
    "from rdkit.Chem import MolToSmiles, MolFromSmiles"
   ]
  },
  {
   "cell_type": "code",
   "execution_count": 155,
   "id": "4b63de01-6376-438e-9aaf-f8073b8119bf",
   "metadata": {},
   "outputs": [],
   "source": [
    "data = pd.read_csv('/home/dionizije/Documents/drug_attrition_oracle/data/chembl_4_smiles.csv', index_col=0)"
   ]
  },
  {
   "cell_type": "code",
   "execution_count": 157,
   "id": "282adf72-6a52-4263-a04f-1a3c629d64c7",
   "metadata": {
    "scrolled": true,
    "tags": []
   },
   "outputs": [
    {
     "name": "stdout",
     "output_type": "stream",
     "text": [
      "No non-salt/solvate components\n",
      "No non-salt/solvate components\n",
      "Multiple non-salt/solvate components\n",
      "No non-salt/solvate components\n",
      "No non-salt/solvate components\n",
      "No non-salt/solvate components\n",
      "No non-salt/solvate components\n",
      "No non-salt/solvate components\n",
      "No non-salt/solvate components\n",
      "No non-salt/solvate components\n",
      "No non-salt/solvate components\n",
      "No non-salt/solvate components\n",
      "No non-salt/solvate components\n",
      "No non-salt/solvate components\n",
      "Multiple non-salt/solvate components\n",
      "No non-salt/solvate components\n",
      "No non-salt/solvate components\n",
      "No non-salt/solvate components\n",
      "No non-salt/solvate components\n",
      "Multiple non-salt/solvate components\n",
      "Multiple non-salt/solvate components\n",
      "No non-salt/solvate components\n",
      "No non-salt/solvate components\n",
      "No non-salt/solvate components\n",
      "Multiple non-salt/solvate components\n",
      "No non-salt/solvate components\n",
      "No non-salt/solvate components\n",
      "No non-salt/solvate components\n",
      "Multiple non-salt/solvate components\n"
     ]
    },
    {
     "name": "stderr",
     "output_type": "stream",
     "text": [
      "RDKit ERROR: [11:14:53] Can't kekulize mol.  Unkekulized atoms: 3 10\n",
      "RDKit ERROR: \n"
     ]
    },
    {
     "name": "stdout",
     "output_type": "stream",
     "text": [
      "No non-salt/solvate components\n",
      "Multiple non-salt/solvate components\n",
      "No non-salt/solvate components\n",
      "No non-salt/solvate components\n",
      "No non-salt/solvate components\n",
      "No non-salt/solvate components\n",
      "No non-salt/solvate components\n",
      "No non-salt/solvate components\n",
      "No non-salt/solvate components\n",
      "Multiple non-salt/solvate components\n",
      "No non-salt/solvate components\n"
     ]
    },
    {
     "name": "stderr",
     "output_type": "stream",
     "text": [
      "RDKit ERROR: [11:14:55] Can't kekulize mol.  Unkekulized atoms: 0 2 4 6 7 9\n",
      "RDKit ERROR: \n"
     ]
    },
    {
     "name": "stdout",
     "output_type": "stream",
     "text": [
      "No non-salt/solvate components\n",
      "No non-salt/solvate components\n",
      "Multiple non-salt/solvate components\n",
      "Multiple non-salt/solvate components\n",
      "No non-salt/solvate components\n",
      "No non-salt/solvate components\n",
      "No non-salt/solvate components\n",
      "Multiple non-salt/solvate components\n",
      "No non-salt/solvate components\n",
      "No non-salt/solvate components\n",
      "No non-salt/solvate components\n",
      "Multiple non-salt/solvate components\n",
      "Multiple non-salt/solvate components\n",
      "Multiple non-salt/solvate components\n",
      "No non-salt/solvate components\n",
      "No non-salt/solvate components\n",
      "No non-salt/solvate components\n",
      "No non-salt/solvate components\n",
      "No non-salt/solvate components\n",
      "Multiple non-salt/solvate components\n",
      "Multiple non-salt/solvate components\n",
      "Multiple non-salt/solvate components\n",
      "Multiple non-salt/solvate components\n",
      "Multiple non-salt/solvate components\n",
      "Multiple non-salt/solvate components\n",
      "Multiple non-salt/solvate components\n",
      "No non-salt/solvate components\n",
      "No non-salt/solvate components\n",
      "Multiple non-salt/solvate components\n",
      "No non-salt/solvate components\n",
      "No non-salt/solvate components\n",
      "Multiple non-salt/solvate components\n",
      "No non-salt/solvate components\n",
      "No non-salt/solvate components\n",
      "No non-salt/solvate components\n",
      "No non-salt/solvate components\n",
      "No non-salt/solvate components\n",
      "No non-salt/solvate components\n",
      "No non-salt/solvate components\n",
      "No non-salt/solvate components\n",
      "No non-salt/solvate components\n",
      "No non-salt/solvate components\n",
      "No non-salt/solvate components\n",
      "No non-salt/solvate components\n",
      "No non-salt/solvate components\n",
      "No non-salt/solvate components\n",
      "No non-salt/solvate components\n",
      "Multiple non-salt/solvate components\n",
      "No non-salt/solvate components\n",
      "No non-salt/solvate components\n",
      "No non-salt/solvate components\n",
      "No non-salt/solvate components\n",
      "No non-salt/solvate components\n",
      "No non-salt/solvate components\n",
      "Multiple non-salt/solvate components\n",
      "No non-salt/solvate components\n",
      "Multiple non-salt/solvate components\n",
      "No non-salt/solvate components\n",
      "No non-salt/solvate components\n",
      "No non-salt/solvate components\n",
      "Multiple non-salt/solvate components\n",
      "Multiple non-salt/solvate components\n",
      "No non-salt/solvate components\n"
     ]
    }
   ],
   "source": [
    "standardised_mols = []\n",
    "scaffolds = []\n",
    "scaffolds_generic = []\n",
    "for i in data['smiles']:\n",
    "    try:\n",
    "        new_mol = standardise.run(i)\n",
    "        standardised_mols.append(new_mol)\n",
    "        scaffolds_generic.append(MolToSmiles(MakeScaffoldGeneric(MolFromSmiles(new_mol))))\n",
    "    except Exception as e:\n",
    "        print(e)\n",
    "        scaffolds_generic.append(0)\n",
    "        standardised_mols.append(0)"
   ]
  },
  {
   "cell_type": "code",
   "execution_count": 158,
   "id": "21e144cb-3198-4ff6-8bec-3233af2083e6",
   "metadata": {},
   "outputs": [],
   "source": [
    "data['generic_scaffolds'] = scaffolds_generic\n",
    "data['standardised_smiles'] = standardised_mols"
   ]
  },
  {
   "cell_type": "markdown",
   "id": "e20bbcca-92b6-4e62-9734-5d15c552974d",
   "metadata": {},
   "source": [
    "# Kernel density estimate"
   ]
  },
  {
   "cell_type": "code",
   "execution_count": 764,
   "id": "334d079e-69f9-4c72-977d-275b6d6444f5",
   "metadata": {},
   "outputs": [],
   "source": [
    "from rdkit import Chem, DataStructs\n",
    "import umap\n",
    "from sklearn.model_selection import GridSearchCV\n",
    "from sklearn.neighbors import KernelDensity\n",
    "import seaborn as sns\n",
    "from sklearn.preprocessing import LabelEncoder\n",
    "from smiles_only.data_utils import smiles2graph"
   ]
  },
  {
   "cell_type": "code",
   "execution_count": null,
   "id": "8f693169-558a-410d-b77a-6ef0a2888431",
   "metadata": {},
   "outputs": [],
   "source": [
    "data = pd.read_csv()"
   ]
  },
  {
   "cell_type": "code",
   "execution_count": 567,
   "id": "30cf8d5d-fdf2-4a9b-88d7-ff13dbad850d",
   "metadata": {},
   "outputs": [],
   "source": [
    "scaffolds_df = pd.DataFrame(data['scaffolds'].value_counts())\n",
    "unique_scaffolds = list(scaffolds_df.loc[scaffolds_df['scaffolds'] == 1].index)"
   ]
  },
  {
   "cell_type": "code",
   "execution_count": 699,
   "id": "ce5f3d03-0938-4975-8df2-7632cb7c5a89",
   "metadata": {},
   "outputs": [
    {
     "data": {
      "text/plain": [
       "CC(C)C                                        7\n",
       "CC(C)CCCC1C2CCCCC2CCC2CCCCC21                 5\n",
       "CC                                            5\n",
       "CC(C)CCC(C1CCCCC1)C1CCC(C)CC1                 5\n",
       "CC(C)C1C(C)CCC2C(CC(C)C(C)C3CCCCC3)C(C)C21    4\n",
       "                                             ..\n",
       "CCCCCC(C)CC(C)(C)C1CCC(C)CC1                  1\n",
       "CC(C)C1CCC(C)C1CC1CCCC2CCCC21                 1\n",
       "CC(C)CC(C)(C)C                                1\n",
       "CCC1CC(C)(CC)C(C)C1C                          1\n",
       "CC1CCC2CC3CCCCC3C3CC(C)CC3C2C1                1\n",
       "Name: scaffolds, Length: 1910, dtype: int64"
      ]
     },
     "execution_count": 699,
     "metadata": {},
     "output_type": "execute_result"
    }
   ],
   "source": [
    "scaffolds_df['scaffolds']"
   ]
  },
  {
   "cell_type": "code",
   "execution_count": 577,
   "id": "714075be-1dee-4d80-9217-6c6bd4898e5d",
   "metadata": {},
   "outputs": [],
   "source": [
    "train, test = train_test_split(data_unique_scaffolds, test_size=0.20, stratify=data_unique_scaffolds['wd_consensus_1'])"
   ]
  },
  {
   "cell_type": "code",
   "execution_count": 589,
   "id": "92686e58-99e4-4cd2-b238-19cb820d8f48",
   "metadata": {},
   "outputs": [],
   "source": [
    "train_fps = []\n",
    "for i in train['standardized_smiles']:\n",
    "    mol = Chem.MolFromSmiles(i)\n",
    "    fp = Chem.AllChem.GetMorganFingerprintAsBitVect(mol, 2, nBits=1024)\n",
    "    array = np.zeros((0, ), dtype=np.int8)\n",
    "    DataStructs.ConvertToNumpyArray(fp, array)\n",
    "    train_fps.append(array)"
   ]
  },
  {
   "cell_type": "code",
   "execution_count": 684,
   "id": "92ae8143-9154-4c55-a2fb-b4325110facb",
   "metadata": {
    "scrolled": true,
    "tags": []
   },
   "outputs": [
    {
     "name": "stderr",
     "output_type": "stream",
     "text": [
      "/home/dionizije/anaconda3/envs/withdrawn/lib/python3.6/site-packages/umap/umap_.py:1762: UserWarning: gradient function is not yet implemented for jaccard distance metric; inverse_transform will be unavailable\n",
      "  \"inverse_transform will be unavailable\".format(self.metric)\n"
     ]
    }
   ],
   "source": [
    "scores = []\n",
    "n_components = []\n",
    "umapper = umap.UMAP(\n",
    "n_components=2,\n",
    "metric='jaccard',\n",
    "learning_rate=0.5,\n",
    "low_memory=True,\n",
    "transform_seed=42,\n",
    "random_state=42,\n",
    "n_neighbors=200,\n",
    ")\n",
    "umap_embeddings = umapper.fit_transform(train_fps)\n",
    "params = {'bandwidth': np.logspace(-1 , 1, 20)}\n",
    "grid = GridSearchCV(KernelDensity(), params, n_jobs=-1)\n",
    "grid.fit(\n",
    "    umap_embeddings\n",
    "    )\n",
    "scores.append(grid.best_estimator_.score(umap_embeddings))"
   ]
  },
  {
   "cell_type": "code",
   "execution_count": 694,
   "id": "57a36af4-e20c-411b-8a39-8d82358dfcae",
   "metadata": {},
   "outputs": [],
   "source": [
    "first_quartile = train['kde_prob'].describe()['25%']\n",
    "second_quartile = train['kde_prob'].describe()['50%']\n",
    "third_quartile = train['kde_prob'].describe()['75%']"
   ]
  },
  {
   "cell_type": "code",
   "execution_count": 690,
   "id": "a8fe10a8-98a5-402a-be81-a3a288406bc2",
   "metadata": {},
   "outputs": [
    {
     "name": "stderr",
     "output_type": "stream",
     "text": [
      "/home/dionizije/anaconda3/envs/withdrawn/lib/python3.6/site-packages/ipykernel_launcher.py:1: SettingWithCopyWarning: \n",
      "A value is trying to be set on a copy of a slice from a DataFrame.\n",
      "Try using .loc[row_indexer,col_indexer] = value instead\n",
      "\n",
      "See the caveats in the documentation: https://pandas.pydata.org/pandas-docs/stable/user_guide/indexing.html#returning-a-view-versus-a-copy\n",
      "  \"\"\"Entry point for launching an IPython kernel.\n"
     ]
    }
   ],
   "source": [
    "train['kde_prob'] = np.exp(grid.best_estimator_.score_samples(umap_embeddings))"
   ]
  },
  {
   "cell_type": "code",
   "execution_count": 686,
   "id": "96f2b864-2d8e-4464-aa0d-4f7a8584abfa",
   "metadata": {},
   "outputs": [
    {
     "name": "stderr",
     "output_type": "stream",
     "text": [
      "/home/dionizije/anaconda3/envs/withdrawn/lib/python3.6/site-packages/seaborn/_decorators.py:43: FutureWarning: Pass the following variable as a keyword arg: y. From version 0.12, the only valid positional argument will be `data`, and passing other arguments without an explicit keyword will result in an error or misinterpretation.\n",
      "  FutureWarning\n",
      "/home/dionizije/anaconda3/envs/withdrawn/lib/python3.6/site-packages/seaborn/distributions.py:1676: UserWarning: `shade_lowest` is now deprecated in favor of `thresh`. Setting `thresh=0`, but please update your code.\n",
      "  warnings.warn(msg, UserWarning)\n"
     ]
    },
    {
     "data": {
      "text/plain": [
       "<AxesSubplot:>"
      ]
     },
     "execution_count": 686,
     "metadata": {},
     "output_type": "execute_result"
    },
    {
     "data": {
      "image/png": "[encoded data removed]",
      "text/plain": [
       "<Figure size 432x288 with 1 Axes>"
      ]
     },
     "metadata": {
      "needs_background": "light"
     },
     "output_type": "display_data"
    }
   ],
   "source": [
    "sns.kdeplot(umap_embeddings[:, 0], umap_embeddings[:, 1], fill=True, shade_lowest=True)"
   ]
  },
  {
   "cell_type": "code",
   "execution_count": 736,
   "id": "3bb450ac-40d6-4b80-8d63-12273effcc07",
   "metadata": {},
   "outputs": [],
   "source": [
    "data = train"
   ]
  },
  {
   "cell_type": "code",
   "execution_count": 760,
   "id": "fbf926f1-02be-48df-ad8f-8913a92ecfef",
   "metadata": {},
   "outputs": [
    {
     "name": "stderr",
     "output_type": "stream",
     "text": [
      "/home/dionizije/anaconda3/envs/withdrawn/lib/python3.6/site-packages/ipykernel_launcher.py:1: SettingWithCopyWarning: \n",
      "A value is trying to be set on a copy of a slice from a DataFrame.\n",
      "Try using .loc[row_indexer,col_indexer] = value instead\n",
      "\n",
      "See the caveats in the documentation: https://pandas.pydata.org/pandas-docs/stable/user_guide/indexing.html#returning-a-view-versus-a-copy\n",
      "  \"\"\"Entry point for launching an IPython kernel.\n"
     ]
    }
   ],
   "source": [
    "data_unique_scaffolds['stratify_label'] = data_unique_scaffolds['wd_consensus_1'].astype(str) + data_unique_scaffolds['kde_quartile']"
   ]
  },
  {
   "cell_type": "code",
   "execution_count": 757,
   "id": "0d7cf513-8388-4d2b-bc1b-d7e9f8ef714b",
   "metadata": {},
   "outputs": [
    {
     "data": {
      "text/plain": [
       "9295    0second\n",
       "2722     0third\n",
       "6826    0fourth\n",
       "819      0first\n",
       "4609    0fourth\n",
       "         ...   \n",
       "8316     0third\n",
       "7238     0third\n",
       "6358     0third\n",
       "1815     0third\n",
       "1912    0fourth\n",
       "Name: stratify_label, Length: 1398, dtype: object"
      ]
     },
     "execution_count": 757,
     "metadata": {},
     "output_type": "execute_result"
    }
   ],
   "source": [
    "data_unique_scaffolds['stratify_label']"
   ]
  },
  {
   "cell_type": "code",
   "execution_count": 769,
   "id": "ce890425-b1c1-4678-8292-b74a704ccec2",
   "metadata": {
    "scrolled": true,
    "tags": []
   },
   "outputs": [
    {
     "name": "stdout",
     "output_type": "stream",
     "text": [
      "Performing UMAP and KDE grid search CV to stratify the chemical space across folds\n"
     ]
    },
    {
     "name": "stderr",
     "output_type": "stream",
     "text": [
      "/home/dionizije/anaconda3/envs/withdrawn/lib/python3.6/site-packages/umap/umap_.py:1762: UserWarning: gradient function is not yet implemented for jaccard distance metric; inverse_transform will be unavailable\n",
      "  \"inverse_transform will be unavailable\".format(self.metric)\n",
      "/home/dionizije/anaconda3/envs/withdrawn/lib/python3.6/site-packages/sklearn/model_selection/_split.py:297: FutureWarning: Setting a random_state has no effect since shuffle is False. This will raise an error in 0.24. You should leave random_state to its default (None), or set shuffle=True.\n",
      "  FutureWarning\n"
     ]
    },
    {
     "ename": "KeyError",
     "evalue": "3",
     "output_type": "error",
     "traceback": [
      "\u001b[0;31m---------------------------------------------------------------------------\u001b[0m",
      "\u001b[0;31mKeyError\u001b[0m                                  Traceback (most recent call last)",
      "\u001b[0;32m~/anaconda3/envs/withdrawn/lib/python3.6/site-packages/pandas/core/indexes/base.py\u001b[0m in \u001b[0;36mget_loc\u001b[0;34m(self, key, method, tolerance)\u001b[0m\n\u001b[1;32m   2897\u001b[0m             \u001b[0;32mtry\u001b[0m\u001b[0;34m:\u001b[0m\u001b[0;34m\u001b[0m\u001b[0;34m\u001b[0m\u001b[0m\n\u001b[0;32m-> 2898\u001b[0;31m                 \u001b[0;32mreturn\u001b[0m \u001b[0mself\u001b[0m\u001b[0;34m.\u001b[0m\u001b[0m_engine\u001b[0m\u001b[0;34m.\u001b[0m\u001b[0mget_loc\u001b[0m\u001b[0;34m(\u001b[0m\u001b[0mcasted_key\u001b[0m\u001b[0;34m)\u001b[0m\u001b[0;34m\u001b[0m\u001b[0;34m\u001b[0m\u001b[0m\n\u001b[0m\u001b[1;32m   2899\u001b[0m             \u001b[0;32mexcept\u001b[0m \u001b[0mKeyError\u001b[0m \u001b[0;32mas\u001b[0m \u001b[0merr\u001b[0m\u001b[0;34m:\u001b[0m\u001b[0;34m\u001b[0m\u001b[0;34m\u001b[0m\u001b[0m\n",
      "\u001b[0;32mpandas/_libs/index.pyx\u001b[0m in \u001b[0;36mpandas._libs.index.IndexEngine.get_loc\u001b[0;34m()\u001b[0m\n",
      "\u001b[0;32mpandas/_libs/index.pyx\u001b[0m in \u001b[0;36mpandas._libs.index.IndexEngine.get_loc\u001b[0;34m()\u001b[0m\n",
      "\u001b[0;32mpandas/_libs/index.pyx\u001b[0m in \u001b[0;36mpandas._libs.index.IndexEngine._get_loc_duplicates\u001b[0;34m()\u001b[0m\n",
      "\u001b[0;32mpandas/_libs/index_class_helper.pxi\u001b[0m in \u001b[0;36mpandas._libs.index.Int64Engine._maybe_get_bool_indexer\u001b[0;34m()\u001b[0m\n",
      "\u001b[0;32mpandas/_libs/index.pyx\u001b[0m in \u001b[0;36mpandas._libs.index.IndexEngine._unpack_bool_indexer\u001b[0;34m()\u001b[0m\n",
      "\u001b[0;31mKeyError\u001b[0m: 3",
      "\nThe above exception was the direct cause of the following exception:\n",
      "\u001b[0;31mKeyError\u001b[0m                                  Traceback (most recent call last)",
      "\u001b[0;32m<ipython-input-769-5b57a5b0e770>\u001b[0m in \u001b[0;36m<module>\u001b[0;34m\u001b[0m\n\u001b[1;32m     80\u001b[0m         \u001b[0mclass_sample_count\u001b[0m \u001b[0;34m=\u001b[0m \u001b[0;34m[\u001b[0m\u001b[0mapproved\u001b[0m\u001b[0;34m,\u001b[0m \u001b[0mwithdrawn\u001b[0m\u001b[0;34m]\u001b[0m\u001b[0;34m\u001b[0m\u001b[0;34m\u001b[0m\u001b[0m\n\u001b[1;32m     81\u001b[0m         \u001b[0mweights\u001b[0m \u001b[0;34m=\u001b[0m \u001b[0;36m1\u001b[0m \u001b[0;34m/\u001b[0m \u001b[0mtorch\u001b[0m\u001b[0;34m.\u001b[0m\u001b[0mTensor\u001b[0m\u001b[0;34m(\u001b[0m\u001b[0mclass_sample_count\u001b[0m\u001b[0;34m)\u001b[0m\u001b[0;34m\u001b[0m\u001b[0;34m\u001b[0m\u001b[0m\n\u001b[0;32m---> 82\u001b[0;31m         \u001b[0msamples_weights\u001b[0m \u001b[0;34m=\u001b[0m \u001b[0mweights\u001b[0m\u001b[0;34m[\u001b[0m\u001b[0mtrain\u001b[0m\u001b[0;34m[\u001b[0m\u001b[0mwithdrawn_col\u001b[0m\u001b[0;34m]\u001b[0m\u001b[0;34m]\u001b[0m\u001b[0;34m\u001b[0m\u001b[0;34m\u001b[0m\u001b[0m\n\u001b[0m\u001b[1;32m     83\u001b[0m \u001b[0;34m\u001b[0m\u001b[0m\n\u001b[1;32m     84\u001b[0m         \u001b[0mprint\u001b[0m\u001b[0;34m(\u001b[0m\u001b[0merror\u001b[0m\u001b[0;34m)\u001b[0m\u001b[0;34m\u001b[0m\u001b[0;34m\u001b[0m\u001b[0m\n",
      "\u001b[0;32m~/anaconda3/envs/withdrawn/lib/python3.6/site-packages/pandas/core/series.py\u001b[0m in \u001b[0;36m__getitem__\u001b[0;34m(self, key)\u001b[0m\n\u001b[1;32m    880\u001b[0m \u001b[0;34m\u001b[0m\u001b[0m\n\u001b[1;32m    881\u001b[0m         \u001b[0;32melif\u001b[0m \u001b[0mkey_is_scalar\u001b[0m\u001b[0;34m:\u001b[0m\u001b[0;34m\u001b[0m\u001b[0;34m\u001b[0m\u001b[0m\n\u001b[0;32m--> 882\u001b[0;31m             \u001b[0;32mreturn\u001b[0m \u001b[0mself\u001b[0m\u001b[0;34m.\u001b[0m\u001b[0m_get_value\u001b[0m\u001b[0;34m(\u001b[0m\u001b[0mkey\u001b[0m\u001b[0;34m)\u001b[0m\u001b[0;34m\u001b[0m\u001b[0;34m\u001b[0m\u001b[0m\n\u001b[0m\u001b[1;32m    883\u001b[0m \u001b[0;34m\u001b[0m\u001b[0m\n\u001b[1;32m    884\u001b[0m         \u001b[0;32mif\u001b[0m \u001b[0mis_hashable\u001b[0m\u001b[0;34m(\u001b[0m\u001b[0mkey\u001b[0m\u001b[0;34m)\u001b[0m\u001b[0;34m:\u001b[0m\u001b[0;34m\u001b[0m\u001b[0;34m\u001b[0m\u001b[0m\n",
      "\u001b[0;32m~/anaconda3/envs/withdrawn/lib/python3.6/site-packages/pandas/core/series.py\u001b[0m in \u001b[0;36m_get_value\u001b[0;34m(self, label, takeable)\u001b[0m\n\u001b[1;32m    988\u001b[0m \u001b[0;34m\u001b[0m\u001b[0m\n\u001b[1;32m    989\u001b[0m         \u001b[0;31m# Similar to Index.get_value, but we do not fall back to positional\u001b[0m\u001b[0;34m\u001b[0m\u001b[0;34m\u001b[0m\u001b[0;34m\u001b[0m\u001b[0m\n\u001b[0;32m--> 990\u001b[0;31m         \u001b[0mloc\u001b[0m \u001b[0;34m=\u001b[0m \u001b[0mself\u001b[0m\u001b[0;34m.\u001b[0m\u001b[0mindex\u001b[0m\u001b[0;34m.\u001b[0m\u001b[0mget_loc\u001b[0m\u001b[0;34m(\u001b[0m\u001b[0mlabel\u001b[0m\u001b[0;34m)\u001b[0m\u001b[0;34m\u001b[0m\u001b[0;34m\u001b[0m\u001b[0m\n\u001b[0m\u001b[1;32m    991\u001b[0m         \u001b[0;32mreturn\u001b[0m \u001b[0mself\u001b[0m\u001b[0;34m.\u001b[0m\u001b[0mindex\u001b[0m\u001b[0;34m.\u001b[0m\u001b[0m_get_values_for_loc\u001b[0m\u001b[0;34m(\u001b[0m\u001b[0mself\u001b[0m\u001b[0;34m,\u001b[0m \u001b[0mloc\u001b[0m\u001b[0;34m,\u001b[0m \u001b[0mlabel\u001b[0m\u001b[0;34m)\u001b[0m\u001b[0;34m\u001b[0m\u001b[0;34m\u001b[0m\u001b[0m\n\u001b[1;32m    992\u001b[0m \u001b[0;34m\u001b[0m\u001b[0m\n",
      "\u001b[0;32m~/anaconda3/envs/withdrawn/lib/python3.6/site-packages/pandas/core/indexes/base.py\u001b[0m in \u001b[0;36mget_loc\u001b[0;34m(self, key, method, tolerance)\u001b[0m\n\u001b[1;32m   2898\u001b[0m                 \u001b[0;32mreturn\u001b[0m \u001b[0mself\u001b[0m\u001b[0;34m.\u001b[0m\u001b[0m_engine\u001b[0m\u001b[0;34m.\u001b[0m\u001b[0mget_loc\u001b[0m\u001b[0;34m(\u001b[0m\u001b[0mcasted_key\u001b[0m\u001b[0;34m)\u001b[0m\u001b[0;34m\u001b[0m\u001b[0;34m\u001b[0m\u001b[0m\n\u001b[1;32m   2899\u001b[0m             \u001b[0;32mexcept\u001b[0m \u001b[0mKeyError\u001b[0m \u001b[0;32mas\u001b[0m \u001b[0merr\u001b[0m\u001b[0;34m:\u001b[0m\u001b[0;34m\u001b[0m\u001b[0;34m\u001b[0m\u001b[0m\n\u001b[0;32m-> 2900\u001b[0;31m                 \u001b[0;32mraise\u001b[0m \u001b[0mKeyError\u001b[0m\u001b[0;34m(\u001b[0m\u001b[0mkey\u001b[0m\u001b[0;34m)\u001b[0m \u001b[0;32mfrom\u001b[0m \u001b[0merr\u001b[0m\u001b[0;34m\u001b[0m\u001b[0;34m\u001b[0m\u001b[0m\n\u001b[0m\u001b[1;32m   2901\u001b[0m \u001b[0;34m\u001b[0m\u001b[0m\n\u001b[1;32m   2902\u001b[0m         \u001b[0;32mif\u001b[0m \u001b[0mtolerance\u001b[0m \u001b[0;32mis\u001b[0m \u001b[0;32mnot\u001b[0m \u001b[0;32mNone\u001b[0m\u001b[0;34m:\u001b[0m\u001b[0;34m\u001b[0m\u001b[0;34m\u001b[0m\u001b[0m\n",
      "\u001b[0;31mKeyError\u001b[0m: 3"
     ]
    }
   ],
   "source": [
    "data_fps = []\n",
    "for i in data['standardized_smiles']:\n",
    "    mol = Chem.MolFromSmiles(i)\n",
    "    fp = Chem.AllChem.GetMorganFingerprintAsBitVect(mol, 2, nBits=1024)\n",
    "    array = np.zeros((0,), dtype=np.int8)\n",
    "    DataStructs.ConvertToNumpyArray(fp, array)\n",
    "    data_fps.append(array)\n",
    "\n",
    "umapper = umap.UMAP(\n",
    "    n_components=2,\n",
    "    metric='jaccard',\n",
    "    learning_rate=0.5,\n",
    "    low_memory=True,\n",
    "    transform_seed=42,\n",
    "    random_state=42,\n",
    ")\n",
    "seed=0\n",
    "withdrawn_col = 'wd_consensus_1'\n",
    "print('Performing UMAP and KDE grid search CV to stratify the chemical space across folds')\n",
    "umap_embeddings = umapper.fit_transform(data_fps)\n",
    "params = {'bandwidth': np.logspace(-1, 1, 20)}\n",
    "grid = GridSearchCV(KernelDensity(), params, n_jobs=-1)\n",
    "grid.fit(\n",
    "    umap_embeddings\n",
    ")\n",
    "data['kde_prob'] = np.exp(grid.best_estimator_.score_samples(umap_embeddings))\n",
    "first_quartile = data['kde_prob'].describe()['25%']\n",
    "second_quartile = data['kde_prob'].describe()['50%']\n",
    "third_quartile = data['kde_prob'].describe()['75%']\n",
    "data['kde_quartile'] = 'first'\n",
    "data.loc[data['kde_prob'] < first_quartile, 'kde_quartile'] = 'first'\n",
    "data.loc[(data['kde_prob'] > first_quartile) &\n",
    "         (data['kde_prob'] <= second_quartile), 'kde_quartile'] = 'second'\n",
    "data.loc[(data['kde_prob'] > second_quartile) &\n",
    "         (data['kde_prob'] <= third_quartile), 'kde_quartile'] = 'third'\n",
    "data.loc[data['kde_prob'] > third_quartile, 'kde_quartile'] = 'fourth'\n",
    "\n",
    "\n",
    "data['stratify_label'] = data['wd_consensus_1'].astype(str) + data['kde_quartile']\n",
    "\n",
    "scaffolds_df = pd.DataFrame(data['scaffolds'].value_counts())\n",
    "unique_scaffolds = list(scaffolds_df.loc[scaffolds_df['scaffolds'] == 1].index)\n",
    "data_unique_scaffolds = data.loc[data['scaffolds'].isin(unique_scaffolds)]\n",
    "\n",
    "cv_splitter = StratifiedKFold(\n",
    "    n_splits=5, \n",
    "    random_state=seed,\n",
    ")\n",
    "\n",
    "fold_ap = []\n",
    "fold_auc_roc = []\n",
    "cv_fold = []\n",
    "\n",
    "for k, (train_index, test_index) in enumerate(\n",
    "    cv_splitter.split(data_unique_scaffolds, data_unique_scaffolds['stratify_label'])\n",
    "):\n",
    "        test = data_unique_scaffolds.iloc[test_index]\n",
    "        test_data_list = []\n",
    "        for index, row in test.iterrows():\n",
    "            test_data_list.append(smiles2graph(row, withdrawn_col))\n",
    "\n",
    "        train_set = data_unique_scaffolds.iloc[train_index]\n",
    "\n",
    "        train, val = train_test_split(\n",
    "            train_set,\n",
    "            test_size=0.2,\n",
    "            stratify=train_set['stratify_label'],\n",
    "            shuffle=True,\n",
    "            random_state=0)\n",
    "        # append common scaffolds to train\n",
    "        train = pd.concat([train, data.loc[~data['scaffolds'].isin(unique_scaffolds)]])\n",
    "\n",
    "        train_data_list = []\n",
    "        for index, row in train.iterrows():\n",
    "            train_data_list.append(smiles2graph(row, withdrawn_col))\n",
    "\n",
    "        # balanced sampling of the minority class\n",
    "        withdrawn = train[withdrawn_col].value_counts()[1]\n",
    "        approved = train[withdrawn_col].value_counts()[0]\n",
    "        class_sample_count = [approved, withdrawn]\n",
    "        weights = 1 / torch.Tensor(class_sample_count)\n",
    "        samples_weights = weights[train[withdrawn_col].values]"
   ]
  },
  {
   "cell_type": "markdown",
   "id": "9e0178db-c777-4d58-8b58-5064aff6c38f",
   "metadata": {},
   "source": [
    "## Butina clustering"
   ]
  },
  {
   "cell_type": "code",
   "execution_count": 134,
   "id": "ca30ff18-1976-481a-9ae7-7c574d97c7bd",
   "metadata": {},
   "outputs": [],
   "source": [
    "from sklearn.metrics import f1_score\n",
    "import numpy as np\n",
    "from tqdm import tqdm\n",
    "import seaborn as sns\n",
    "from rdkit import Chem, DataStructs\n",
    "import umap"
   ]
  },
  {
   "cell_type": "code",
   "execution_count": 215,
   "id": "876d9479-9961-4e93-b2ec-0aa966f34d6e",
   "metadata": {},
   "outputs": [],
   "source": [
    "from rdkit.ML.Cluster.Butina import ClusterData"
   ]
  },
  {
   "cell_type": "code",
   "execution_count": 315,
   "id": "79393cfe-51b8-4b26-a4fb-9293daac9c0c",
   "metadata": {},
   "outputs": [],
   "source": [
    "data = data.reset_index()"
   ]
  },
  {
   "cell_type": "code",
   "execution_count": 316,
   "id": "bfa555cf-9da4-461d-96ca-ae16be9da115",
   "metadata": {},
   "outputs": [],
   "source": [
    "data_fps = []\n",
    "for i in data['standardized_smiles']:\n",
    "    mol = Chem.MolFromSmiles(i)\n",
    "    fp = Chem.AllChem.GetMorganFingerprintAsBitVect(mol, 2, nBits=1024)\n",
    "    #array = np.zeros((0,), dtype=np.int8)\n",
    "    #DataStructs.ConvertToNumpyArray(fp, array)\n",
    "    #data_fps.append(array)\n",
    "    data_fps.append(fp)"
   ]
  },
  {
   "cell_type": "code",
   "execution_count": 317,
   "id": "742857aa-59e7-422a-af36-ecde6b5fedd3",
   "metadata": {},
   "outputs": [],
   "source": [
    "def tanimoto_distance_matrix(fp_list):\n",
    "    \"\"\"Calculate distance matrix for fingerprint list\"\"\"\n",
    "    dissimilarity_matrix = []\n",
    "    # Notice how we are deliberately skipping the first and last items in the list\n",
    "    # because we don't need to compare them against themselves\n",
    "    for i in range(1, len(fp_list)):\n",
    "        # Compare the current fingerprint against all the previous ones in the list\n",
    "        similarities = DataStructs.BulkTanimotoSimilarity(fp_list[i], fp_list[:i])\n",
    "        # Since we need a distance matrix, calculate 1-x for every element in similarity matrix\n",
    "        dissimilarity_matrix.extend([1 - x for x in similarities])\n",
    "    return dissimilarity_matrix"
   ]
  },
  {
   "cell_type": "code",
   "execution_count": 318,
   "id": "21faa40a-654c-42a5-b201-e451ca5dac6c",
   "metadata": {},
   "outputs": [],
   "source": [
    "def cluster_fingerprints(fingerprints, cutoff=0.8):\n",
    "    \"\"\"Cluster fingerprints\n",
    "    Parameters:\n",
    "        fingerprints\n",
    "        cutoff: threshold for the clustering\n",
    "    \"\"\"\n",
    "    # Calculate Tanimoto distance matrix\n",
    "    distance_matrix = tanimoto_distance_matrix(fingerprints)\n",
    "    # Now cluster the data with the implemented Butina algorithm:\n",
    "    clusters = ClusterData(distance_matrix, len(fingerprints), cutoff, isDistData=True)\n",
    "    clusters = sorted(clusters, key=len, reverse=True)\n",
    "    return clusters"
   ]
  },
  {
   "cell_type": "code",
   "execution_count": 319,
   "id": "218a453a-453a-42c3-9d3b-177a324db495",
   "metadata": {},
   "outputs": [],
   "source": [
    "clusters = cluster_fingerprints(data_fps)"
   ]
  },
  {
   "cell_type": "markdown",
   "id": "41053d83-fcd3-4612-97be-ee811754eee1",
   "metadata": {},
   "source": [
    "## Conformal"
   ]
  },
  {
   "cell_type": "code",
   "execution_count": 290,
   "id": "3a80a7bb-4553-408b-b251-a420b40be709",
   "metadata": {},
   "outputs": [],
   "source": [
    "from sklearn.metrics import average_precision_score, precision_score, recall_score\n",
    "import numpy as np\n",
    "import seaborn as sns"
   ]
  },
  {
   "cell_type": "code",
   "execution_count": 232,
   "id": "c8bd2321-f38f-4e9c-bba6-e7af562f2e72",
   "metadata": {},
   "outputs": [],
   "source": [
    "conformal = pd.read_csv('/home/dionizije/cross_conformal_predictions.csv', index_col=0)"
   ]
  },
  {
   "cell_type": "code",
   "execution_count": 268,
   "id": "7de9b0c5-a9e5-4154-ab47-dafec4905350",
   "metadata": {},
   "outputs": [
    {
     "data": {
      "text/plain": [
       "0.16105953515350785"
      ]
     },
     "execution_count": 268,
     "metadata": {},
     "output_type": "execute_result"
    }
   ],
   "source": [
    "average_precision_score(conformal['class'], conformal['probabilities'], pos_label=1)"
   ]
  },
  {
   "cell_type": "code",
   "execution_count": 284,
   "id": "58c209cb-29ff-4d96-aa8d-c955b567f9b3",
   "metadata": {},
   "outputs": [
    {
     "name": "stderr",
     "output_type": "stream",
     "text": [
      "/home/dionizije/anaconda3/envs/withdrawn/lib/python3.6/site-packages/sklearn/metrics/_ranking.py:681: RuntimeWarning: invalid value encountered in true_divide\n",
      "  recall = tps / tps[-1]\n"
     ]
    }
   ],
   "source": [
    "aps = []\n",
    "for significance in np.arange(0, 1, 0.1):\n",
    "    df = conformal.loc[(conformal['p_value_approved'] >= significance) &\n",
    "                      (conformal['p_value_withdrawn'] >= significance)]\n",
    "    aps.append(average_precision_score(df['class'], df['probabilities']))"
   ]
  },
  {
   "cell_type": "code",
   "execution_count": 285,
   "id": "5f66b95e-3092-4ae6-b280-09e807387edc",
   "metadata": {},
   "outputs": [
    {
     "data": {
      "text/plain": [
       "[0.16105953515350785,\n",
       " 0.16552905459513442,\n",
       " 0.16839237208564295,\n",
       " 0.18043940087123286,\n",
       " 0.1862442149650835,\n",
       " 0.2059446704167201,\n",
       " 0.2216218360194042,\n",
       " 0.2294871794871795,\n",
       " 0.23685897435897435,\n",
       " nan]"
      ]
     },
     "execution_count": 285,
     "metadata": {},
     "output_type": "execute_result"
    }
   ],
   "source": [
    "aps"
   ]
  },
  {
   "cell_type": "code",
   "execution_count": 288,
   "id": "08d086d7-c968-49b1-9a8f-1000d6c0b82b",
   "metadata": {},
   "outputs": [
    {
     "name": "stderr",
     "output_type": "stream",
     "text": [
      "/home/dionizije/anaconda3/envs/withdrawn/lib/python3.6/site-packages/seaborn/_decorators.py:43: FutureWarning: Pass the following variables as keyword args: x, y. From version 0.12, the only valid positional argument will be `data`, and passing other arguments without an explicit keyword will result in an error or misinterpretation.\n",
      "  FutureWarning\n"
     ]
    },
    {
     "data": {
      "text/plain": [
       "<AxesSubplot:>"
      ]
     },
     "execution_count": 288,
     "metadata": {},
     "output_type": "execute_result"
    },
    {
     "data": {
      "image/png": "[encoded data removed]",
      "text/plain": [
       "<Figure size 432x288 with 1 Axes>"
      ]
     },
     "metadata": {
      "needs_background": "light"
     },
     "output_type": "display_data"
    }
   ],
   "source": [
    "sns.scatterplot(np.arange(0, 1, 0.1), aps)"
   ]
  },
  {
   "cell_type": "code",
   "execution_count": 320,
   "id": "12a5e844-be35-4e51-a7a6-bbf4b3b7b13c",
   "metadata": {
    "scrolled": true,
    "tags": []
   },
   "outputs": [
    {
     "name": "stderr",
     "output_type": "stream",
     "text": [
      "/home/dionizije/anaconda3/envs/withdrawn/lib/python3.6/site-packages/sklearn/metrics/_classification.py:1221: UndefinedMetricWarning: Precision is ill-defined and being set to 0.0 due to no predicted samples. Use `zero_division` parameter to control this behavior.\n",
      "  _warn_prf(average, modifier, msg_start, len(result))\n",
      "/home/dionizije/anaconda3/envs/withdrawn/lib/python3.6/site-packages/sklearn/metrics/_classification.py:1221: UndefinedMetricWarning: Precision is ill-defined and being set to 0.0 due to no predicted samples. Use `zero_division` parameter to control this behavior.\n",
      "  _warn_prf(average, modifier, msg_start, len(result))\n",
      "/home/dionizije/anaconda3/envs/withdrawn/lib/python3.6/site-packages/sklearn/metrics/_classification.py:1221: UndefinedMetricWarning: Precision is ill-defined and being set to 0.0 due to no predicted samples. Use `zero_division` parameter to control this behavior.\n",
      "  _warn_prf(average, modifier, msg_start, len(result))\n",
      "/home/dionizije/anaconda3/envs/withdrawn/lib/python3.6/site-packages/sklearn/metrics/_classification.py:1221: UndefinedMetricWarning: Precision is ill-defined and being set to 0.0 due to no predicted samples. Use `zero_division` parameter to control this behavior.\n",
      "  _warn_prf(average, modifier, msg_start, len(result))\n",
      "/home/dionizije/anaconda3/envs/withdrawn/lib/python3.6/site-packages/sklearn/metrics/_classification.py:1221: UndefinedMetricWarning: Precision is ill-defined and being set to 0.0 due to no predicted samples. Use `zero_division` parameter to control this behavior.\n",
      "  _warn_prf(average, modifier, msg_start, len(result))\n",
      "/home/dionizije/anaconda3/envs/withdrawn/lib/python3.6/site-packages/sklearn/metrics/_classification.py:1221: UndefinedMetricWarning: Precision is ill-defined and being set to 0.0 due to no predicted samples. Use `zero_division` parameter to control this behavior.\n",
      "  _warn_prf(average, modifier, msg_start, len(result))\n",
      "/home/dionizije/anaconda3/envs/withdrawn/lib/python3.6/site-packages/sklearn/metrics/_classification.py:1221: UndefinedMetricWarning: Precision is ill-defined and being set to 0.0 due to no predicted samples. Use `zero_division` parameter to control this behavior.\n",
      "  _warn_prf(average, modifier, msg_start, len(result))\n",
      "/home/dionizije/anaconda3/envs/withdrawn/lib/python3.6/site-packages/sklearn/metrics/_classification.py:1221: UndefinedMetricWarning: Precision is ill-defined and being set to 0.0 due to no predicted samples. Use `zero_division` parameter to control this behavior.\n",
      "  _warn_prf(average, modifier, msg_start, len(result))\n",
      "/home/dionizije/anaconda3/envs/withdrawn/lib/python3.6/site-packages/sklearn/metrics/_classification.py:1221: UndefinedMetricWarning: Precision is ill-defined and being set to 0.0 due to no predicted samples. Use `zero_division` parameter to control this behavior.\n",
      "  _warn_prf(average, modifier, msg_start, len(result))\n",
      "/home/dionizije/anaconda3/envs/withdrawn/lib/python3.6/site-packages/sklearn/metrics/_classification.py:1221: UndefinedMetricWarning: Precision is ill-defined and being set to 0.0 due to no predicted samples. Use `zero_division` parameter to control this behavior.\n",
      "  _warn_prf(average, modifier, msg_start, len(result))\n",
      "/home/dionizije/anaconda3/envs/withdrawn/lib/python3.6/site-packages/sklearn/metrics/_classification.py:1221: UndefinedMetricWarning: Precision is ill-defined and being set to 0.0 due to no predicted samples. Use `zero_division` parameter to control this behavior.\n",
      "  _warn_prf(average, modifier, msg_start, len(result))\n",
      "/home/dionizije/anaconda3/envs/withdrawn/lib/python3.6/site-packages/sklearn/metrics/_classification.py:1221: UndefinedMetricWarning: Precision is ill-defined and being set to 0.0 due to no predicted samples. Use `zero_division` parameter to control this behavior.\n",
      "  _warn_prf(average, modifier, msg_start, len(result))\n",
      "/home/dionizije/anaconda3/envs/withdrawn/lib/python3.6/site-packages/sklearn/metrics/_classification.py:1221: UndefinedMetricWarning: Precision is ill-defined and being set to 0.0 due to no predicted samples. Use `zero_division` parameter to control this behavior.\n",
      "  _warn_prf(average, modifier, msg_start, len(result))\n",
      "/home/dionizije/anaconda3/envs/withdrawn/lib/python3.6/site-packages/sklearn/metrics/_classification.py:1221: UndefinedMetricWarning: Precision is ill-defined and being set to 0.0 due to no predicted samples. Use `zero_division` parameter to control this behavior.\n",
      "  _warn_prf(average, modifier, msg_start, len(result))\n",
      "/home/dionizije/anaconda3/envs/withdrawn/lib/python3.6/site-packages/sklearn/metrics/_classification.py:1221: UndefinedMetricWarning: Precision is ill-defined and being set to 0.0 due to no predicted samples. Use `zero_division` parameter to control this behavior.\n",
      "  _warn_prf(average, modifier, msg_start, len(result))\n",
      "/home/dionizije/anaconda3/envs/withdrawn/lib/python3.6/site-packages/sklearn/metrics/_classification.py:1221: UndefinedMetricWarning: Precision is ill-defined and being set to 0.0 due to no predicted samples. Use `zero_division` parameter to control this behavior.\n",
      "  _warn_prf(average, modifier, msg_start, len(result))\n"
     ]
    }
   ],
   "source": [
    "aps = []\n",
    "for significance in np.arange(0, 1, 0.01):\n",
    "    positives = conformal.loc[conformal['p_value_withdrawn'] >= significance]\n",
    "    positives['predicted'] = 1\n",
    "    negatives = conformal.loc[conformal['p_value_approved'] >= significance]\n",
    "    negatives['predicted'] = 0\n",
    "    df = pd.concat([positives, negatives])\n",
    "    aps.append(average_precision_score(df['class'], df))"
   ]
  },
  {
   "cell_type": "code",
   "execution_count": 658,
   "id": "be42ca95-d810-4a68-8d93-f7f31bbf850f",
   "metadata": {},
   "outputs": [],
   "source": [
    "from tdc.single_pred import ADME, Tox\n",
    "from standardiser import standardise"
   ]
  },
  {
   "cell_type": "code",
   "execution_count": 668,
   "id": "94d8fdae-3cc2-42c1-a089-d64b9bec69af",
   "metadata": {},
   "outputs": [],
   "source": [
    "    adme = ['Caco2_Wang', 'HIA_Hou', 'Pgp_Broccatelli', 'Bioavailability_Ma',\n",
    "            'Lipophilicity_AstraZeneca', 'Solubility_AqSolDB',\n",
    "            'BBB_Martins', 'PPBR_AZ', 'VDss_Lombardo', 'CYP2C19_Veith', 'CYP2D6_Veith', 'CYP3A4_Veith',\n",
    "            'CYP1A2_Veith', 'CYP2C9_Veith', 'CYP2C9_Substrate_CarbonMangels', 'CYP2D6_Substrate_CarbonMangels',\n",
    "            'CYP3A4_Substrate_CarbonMangels', 'Half_Life_Obach', 'Clearance_Hepatocyte_AZ']\n",
    "    tox = ['LD50_Zhu', 'hERG', 'AMES', 'DILI', 'Skin Reaction', 'Carcinogens_Languin', 'ClinTox']\n",
    "    tox_21 = ['nr-ar', 'nr-ar-lbd', 'nr-ahr', 'nr-aromatase', 'nr-er', 'nr-er-lbd', 'nr-ppar-gamma', 'sr-are',\n",
    "              'sr-atad5', 'sr-hse', 'sr-mmp', 'sr-p53']"
   ]
  },
  {
   "cell_type": "code",
   "execution_count": 680,
   "id": "0d4c3a36-4d2b-43d8-999b-d67bf93e9183",
   "metadata": {
    "scrolled": true,
    "tags": []
   },
   "outputs": [
    {
     "name": "stderr",
     "output_type": "stream",
     "text": [
      "Found local copy...\n",
      "Loading...\n",
      "Done!\n",
      "Found local copy...\n",
      "Loading...\n",
      "Done!\n",
      "Found local copy...\n",
      "Loading...\n",
      "Done!\n",
      "Found local copy...\n",
      "Loading...\n",
      "Done!\n",
      "Found local copy...\n",
      "Loading...\n",
      "Done!\n",
      "Found local copy...\n",
      "Loading...\n",
      "Done!\n",
      "Found local copy...\n",
      "Loading...\n",
      "Done!\n"
     ]
    }
   ],
   "source": [
    "tasks = []\n",
    "minority_class = []\n",
    "\n",
    "for task in tox:\n",
    "    data = Tox(name=task)\n",
    "    split = data.get_split()\n",
    "    train = split['train']\n",
    "    valid = split['valid']\n",
    "    test = split['test']\n",
    "    tasks.append(task)\n",
    "    try:\n",
    "        minority_class.append(train['Y'].value_counts(normalize=True)[1])\n",
    "    except:\n",
    "        minority_class.append('regression')"
   ]
  },
  {
   "cell_type": "code",
   "execution_count": 681,
   "id": "3c3918a0-3482-4c57-b609-af8d55e11862",
   "metadata": {},
   "outputs": [
    {
     "data": {
      "text/plain": [
       "['LD50_Zhu',\n",
       " 'hERG',\n",
       " 'AMES',\n",
       " 'DILI',\n",
       " 'Skin Reaction',\n",
       " 'Carcinogens_Languin',\n",
       " 'ClinTox']"
      ]
     },
     "execution_count": 681,
     "metadata": {},
     "output_type": "execute_result"
    }
   ],
   "source": [
    "tasks"
   ]
  },
  {
   "cell_type": "code",
   "execution_count": 682,
   "id": "892fc34c-9705-4a15-8b4d-1353c342288e",
   "metadata": {},
   "outputs": [
    {
     "data": {
      "text/plain": [
       "['regression',\n",
       " 0.6768558951965066,\n",
       " 0.5416175893207695,\n",
       " 0.48493975903614456,\n",
       " 0.6925795053003534,\n",
       " 0.21428571428571427,\n",
       " 0.07640232108317214]"
      ]
     },
     "execution_count": 682,
     "metadata": {},
     "output_type": "execute_result"
    }
   ],
   "source": [
    "minority_class"
   ]
  },
  {
   "cell_type": "code",
   "execution_count": 694,
   "id": "4883a340-025a-4887-be48-707a8661d15f",
   "metadata": {},
   "outputs": [
    {
     "name": "stderr",
     "output_type": "stream",
     "text": [
      "Found local copy...\n",
      "Loading...\n",
      "Done!\n"
     ]
    }
   ],
   "source": [
    "    data = Tox(name='LD50_Zhu')\n",
    "    split = data.get_split()\n",
    "    train = split['train']"
   ]
  },
  {
   "cell_type": "code",
   "execution_count": 704,
   "id": "4405c451-82bb-4268-bb1f-d4313a576cb4",
   "metadata": {},
   "outputs": [
    {
     "data": {
      "text/plain": [
       "False"
      ]
     },
     "execution_count": 704,
     "metadata": {},
     "output_type": "execute_result"
    }
   ],
   "source": [
    "(train.iloc[0]['Y'] == 0) or (train.iloc[0]['Y'] == 1)"
   ]
  }
 ],
 "metadata": {
  "kernelspec": {
   "display_name": "withdrawn",
   "language": "python",
   "name": "withdrawn"
  },
  "language_info": {
   "codemirror_mode": {
    "name": "ipython",
    "version": 3
   },
   "file_extension": ".py",
   "mimetype": "text/x-python",
   "name": "python",
   "nbconvert_exporter": "python",
   "pygments_lexer": "ipython3",
   "version": "3.6.13"
  }
 },
 "nbformat": 4,
 "nbformat_minor": 5
}
