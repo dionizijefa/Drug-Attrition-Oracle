{
 "cells": [
  {
   "cell_type": "code",
   "execution_count": 8,
   "id": "14462191-1382-42e5-9e94-69e6356c690b",
   "metadata": {},
   "outputs": [],
   "source": [
    "%load_ext autoreload"
   ]
  },
  {
   "cell_type": "code",
   "execution_count": 9,
   "id": "b9d860aa-45d7-4939-8fe5-8472664353bf",
   "metadata": {},
   "outputs": [],
   "source": [
    "%autoreload 2"
   ]
  },
  {
   "cell_type": "code",
   "execution_count": 17,
   "id": "40e906be-5eee-4b19-917f-340daec1e7cd",
   "metadata": {},
   "outputs": [],
   "source": [
    "import pandas as pd\n",
    "from sklearn.ensemble import RandomForestClassifier\n",
    "from sklearn.model_selection import StratifiedKFold, train_test_split, StratifiedShuffleSplit\n",
    "from sklearn.metrics import average_precision_score, roc_auc_score\n",
    "import numpy as np\n",
    "from sklearn import tree\n",
    "from deslib.des.knora_e import KNORAE\n",
    "from sklearn.preprocessing import StandardScaler\n",
    "from skopt import BayesSearchCV\n",
    "from skopt.space import Real, Categorical, Integer\n",
    "from sklearn.experimental import enable_hist_gradient_boosting\n",
    "from sklearn.ensemble import HistGradientBoostingClassifier\n",
    "import torch\n",
    "from time import time\n",
    "from skopt import gp_minimize\n",
    "from skopt.space import Integer, Real\n",
    "from xgboost import XGBClassifier\n",
    "from sklearn.model_selection import train_test_split, StratifiedKFold\n",
    "from sklearn.metrics import average_precision_score\n",
    "from sklearn.model_selection import RandomizedSearchCV"
   ]
  },
  {
   "cell_type": "code",
   "execution_count": 336,
   "id": "48638fd4-f5fe-4de7-9d71-da48a1afcec3",
   "metadata": {},
   "outputs": [],
   "source": [
    "chembl = pd.read_csv('/home/dionizije/Documents/drug_attrition_oracle/data/chembl_4_smiles.csv', index_col=0)"
   ]
  },
  {
   "cell_type": "code",
   "execution_count": 40,
   "id": "dbd18c14-92ee-41e6-be16-e41f197ca7d6",
   "metadata": {},
   "outputs": [
    {
     "data": {
      "text/html": [
       "<div>\n",
       "<style scoped>\n",
       "    .dataframe tbody tr th:only-of-type {\n",
       "        vertical-align: middle;\n",
       "    }\n",
       "\n",
       "    .dataframe tbody tr th {\n",
       "        vertical-align: top;\n",
       "    }\n",
       "\n",
       "    .dataframe thead th {\n",
       "        text-align: right;\n",
       "    }\n",
       "</style>\n",
       "<table border=\"1\" class=\"dataframe\">\n",
       "  <thead>\n",
       "    <tr style=\"text-align: right;\">\n",
       "      <th></th>\n",
       "      <th>chembl_id</th>\n",
       "      <th>pubchem_cid</th>\n",
       "      <th>smiles</th>\n",
       "      <th>parent_smiles</th>\n",
       "      <th>chembl_tox</th>\n",
       "      <th>withdrawn</th>\n",
       "    </tr>\n",
       "  </thead>\n",
       "  <tbody>\n",
       "    <tr>\n",
       "      <th>464</th>\n",
       "      <td>CHEMBL1237066</td>\n",
       "      <td>62859</td>\n",
       "      <td>O=C([O-])C(O)[C@H](O)[C@@H](O)[C@H](O)[C@H](O)...</td>\n",
       "      <td>O=C([O-])C(O)[C@H](O)[C@@H](O)[C@H](O)[C@H](O)...</td>\n",
       "      <td>Safe</td>\n",
       "      <td>0</td>\n",
       "    </tr>\n",
       "    <tr>\n",
       "      <th>700</th>\n",
       "      <td>CHEMBL2010412</td>\n",
       "      <td>452192</td>\n",
       "      <td>C[n+]1c2cc(N)ccc2cc2ccc(N)cc21.Nc1ccc2cc3ccc(N...</td>\n",
       "      <td>missing</td>\n",
       "      <td>Safe</td>\n",
       "      <td>0</td>\n",
       "    </tr>\n",
       "    <tr>\n",
       "      <th>842</th>\n",
       "      <td>CHEMBL1200747</td>\n",
       "      <td>62358</td>\n",
       "      <td>CC(O)C(=O)O.N</td>\n",
       "      <td>CC(O)C(=O)O.N</td>\n",
       "      <td>Safe</td>\n",
       "      <td>0</td>\n",
       "    </tr>\n",
       "    <tr>\n",
       "      <th>1376</th>\n",
       "      <td>CHEMBL2106975</td>\n",
       "      <td>61102</td>\n",
       "      <td>O=C([O-])O.[K+]</td>\n",
       "      <td>O=C([O-])O.[K+]</td>\n",
       "      <td>Safe</td>\n",
       "      <td>0</td>\n",
       "    </tr>\n",
       "    <tr>\n",
       "      <th>1409</th>\n",
       "      <td>CHEMBL1255943</td>\n",
       "      <td>2723891</td>\n",
       "      <td>Cl.N[C@@H](CCC(=O)O)C(=O)O</td>\n",
       "      <td>Cl.N[C@@H](CCC(=O)O)C(=O)O</td>\n",
       "      <td>Safe</td>\n",
       "      <td>0</td>\n",
       "    </tr>\n",
       "    <tr>\n",
       "      <th>...</th>\n",
       "      <td>...</td>\n",
       "      <td>...</td>\n",
       "      <td>...</td>\n",
       "      <td>...</td>\n",
       "      <td>...</td>\n",
       "      <td>...</td>\n",
       "    </tr>\n",
       "    <tr>\n",
       "      <th>10391</th>\n",
       "      <td>CHEMBL1200691</td>\n",
       "      <td>8896</td>\n",
       "      <td>CC(=O)[O-].CC(=O)[O-].[Mg+2]</td>\n",
       "      <td>CC(=O)[O-].CC(=O)[O-].[Mg+2]</td>\n",
       "      <td>Safe</td>\n",
       "      <td>0</td>\n",
       "    </tr>\n",
       "    <tr>\n",
       "      <th>10524</th>\n",
       "      <td>CHEMBL2106123</td>\n",
       "      <td>13136</td>\n",
       "      <td>O=C([O-])CC(O)(CC(=O)[O-])C(=O)[O-].O=C([O-])C...</td>\n",
       "      <td>O=C([O-])CC(O)(CC(=O)[O-])C(=O)[O-].O=C([O-])C...</td>\n",
       "      <td>Safe</td>\n",
       "      <td>0</td>\n",
       "    </tr>\n",
       "    <tr>\n",
       "      <th>10531</th>\n",
       "      <td>CHEMBL2364968</td>\n",
       "      <td>90661668</td>\n",
       "      <td>CC(C)C[C@H]1C(=O)N2CCC[C@H]2[C@]2(O)O[C@](NC(=...</td>\n",
       "      <td>missing</td>\n",
       "      <td>Safe</td>\n",
       "      <td>0</td>\n",
       "    </tr>\n",
       "    <tr>\n",
       "      <th>10560</th>\n",
       "      <td>CHEMBL261772</td>\n",
       "      <td>missing</td>\n",
       "      <td>C=C1c2c(Cl)ccc(O)c2C(=O)C2=C(O)[C@]3(O)C(=O)C(...</td>\n",
       "      <td>C=C1c2c(Cl)ccc(O)c2C(=O)C2=C(O)[C@]3(O)C(=O)C(...</td>\n",
       "      <td>Safe</td>\n",
       "      <td>0</td>\n",
       "    </tr>\n",
       "    <tr>\n",
       "      <th>10571</th>\n",
       "      <td>CHEMBL282468</td>\n",
       "      <td>6209</td>\n",
       "      <td>C[N+](C)(C)CCO.[Cl-]</td>\n",
       "      <td>C[N+](C)(C)CCO.[Cl-]</td>\n",
       "      <td>Safe</td>\n",
       "      <td>0</td>\n",
       "    </tr>\n",
       "  </tbody>\n",
       "</table>\n",
       "<p>77 rows × 6 columns</p>\n",
       "</div>"
      ],
      "text/plain": [
       "           chembl_id pubchem_cid  \\\n",
       "464    CHEMBL1237066       62859   \n",
       "700    CHEMBL2010412      452192   \n",
       "842    CHEMBL1200747       62358   \n",
       "1376   CHEMBL2106975       61102   \n",
       "1409   CHEMBL1255943     2723891   \n",
       "...              ...         ...   \n",
       "10391  CHEMBL1200691        8896   \n",
       "10524  CHEMBL2106123       13136   \n",
       "10531  CHEMBL2364968    90661668   \n",
       "10560   CHEMBL261772     missing   \n",
       "10571   CHEMBL282468        6209   \n",
       "\n",
       "                                                  smiles  \\\n",
       "464    O=C([O-])C(O)[C@H](O)[C@@H](O)[C@H](O)[C@H](O)...   \n",
       "700    C[n+]1c2cc(N)ccc2cc2ccc(N)cc21.Nc1ccc2cc3ccc(N...   \n",
       "842                                        CC(O)C(=O)O.N   \n",
       "1376                                     O=C([O-])O.[K+]   \n",
       "1409                          Cl.N[C@@H](CCC(=O)O)C(=O)O   \n",
       "...                                                  ...   \n",
       "10391                       CC(=O)[O-].CC(=O)[O-].[Mg+2]   \n",
       "10524  O=C([O-])CC(O)(CC(=O)[O-])C(=O)[O-].O=C([O-])C...   \n",
       "10531  CC(C)C[C@H]1C(=O)N2CCC[C@H]2[C@]2(O)O[C@](NC(=...   \n",
       "10560  C=C1c2c(Cl)ccc(O)c2C(=O)C2=C(O)[C@]3(O)C(=O)C(...   \n",
       "10571                               C[N+](C)(C)CCO.[Cl-]   \n",
       "\n",
       "                                           parent_smiles chembl_tox  withdrawn  \n",
       "464    O=C([O-])C(O)[C@H](O)[C@@H](O)[C@H](O)[C@H](O)...       Safe          0  \n",
       "700                                              missing       Safe          0  \n",
       "842                                        CC(O)C(=O)O.N       Safe          0  \n",
       "1376                                     O=C([O-])O.[K+]       Safe          0  \n",
       "1409                          Cl.N[C@@H](CCC(=O)O)C(=O)O       Safe          0  \n",
       "...                                                  ...        ...        ...  \n",
       "10391                       CC(=O)[O-].CC(=O)[O-].[Mg+2]       Safe          0  \n",
       "10524  O=C([O-])CC(O)(CC(=O)[O-])C(=O)[O-].O=C([O-])C...       Safe          0  \n",
       "10531                                            missing       Safe          0  \n",
       "10560  C=C1c2c(Cl)ccc(O)c2C(=O)C2=C(O)[C@]3(O)C(=O)C(...       Safe          0  \n",
       "10571                               C[N+](C)(C)CCO.[Cl-]       Safe          0  \n",
       "\n",
       "[77 rows x 6 columns]"
      ]
     },
     "execution_count": 40,
     "metadata": {},
     "output_type": "execute_result"
    }
   ],
   "source": [
    "chembl.loc[chembl['smiles'].str.contains('\\.')]"
   ]
  },
  {
   "cell_type": "code",
   "execution_count": 338,
   "id": "f919e4fd-74dc-4753-a14f-c12fd6992254",
   "metadata": {},
   "outputs": [
    {
     "ename": "AttributeError",
     "evalue": "'StringMethods' object has no attribute 'unique'",
     "output_type": "error",
     "traceback": [
      "\u001b[0;31m---------------------------------------------------------------------------\u001b[0m",
      "\u001b[0;31mAttributeError\u001b[0m                            Traceback (most recent call last)",
      "\u001b[0;32m<ipython-input-338-52353bb62938>\u001b[0m in \u001b[0;36m<module>\u001b[0;34m\u001b[0m\n\u001b[0;32m----> 1\u001b[0;31m \u001b[0mchembl\u001b[0m\u001b[0;34m[\u001b[0m\u001b[0;34m'smiles'\u001b[0m\u001b[0;34m]\u001b[0m\u001b[0;34m.\u001b[0m\u001b[0mstr\u001b[0m\u001b[0;34m.\u001b[0m\u001b[0munique\u001b[0m\u001b[0;34m(\u001b[0m\u001b[0;34m)\u001b[0m\u001b[0;34m\u001b[0m\u001b[0;34m\u001b[0m\u001b[0m\n\u001b[0m",
      "\u001b[0;31mAttributeError\u001b[0m: 'StringMethods' object has no attribute 'unique'"
     ]
    }
   ],
   "source": [
    "chembl['smiles'].str.unique()"
   ]
  },
  {
   "cell_type": "markdown",
   "id": "835fc64f-29d4-408b-8c36-abefdf9afb2b",
   "metadata": {},
   "source": [
    "# Models"
   ]
  },
  {
   "cell_type": "code",
   "execution_count": 125,
   "id": "6c85504a-10f7-4c11-aacc-cb6e5d4b54e9",
   "metadata": {},
   "outputs": [],
   "source": [
    "search_space = { # values for boostrap can be either True or False # values of max_depth are integers from 6 to 20\n",
    "        \"max_iter\": Integer(10, 1000),\n",
    "        \"learning_rate\": Real(0.001, 1),  \n",
    "        \"min_samples_leaf\": Integer(1, 30)\n",
    "    }"
   ]
  },
  {
   "cell_type": "code",
   "execution_count": 119,
   "id": "ddef17c8-6c9e-42ad-8689-639bd7a33fca",
   "metadata": {},
   "outputs": [],
   "source": [
    "forest_clf = HistGradientBoostingClassifier(early_stopping=True, validation_fraction=0.15)"
   ]
  },
  {
   "cell_type": "code",
   "execution_count": 126,
   "id": "9e1869c8-fe88-4038-87bc-35f9baabde1d",
   "metadata": {},
   "outputs": [],
   "source": [
    "forest_bayes_search = BayesSearchCV(forest_clf, search_space, n_iter=32, # specify how many iterations\n",
    "                                    scoring=\"roc_auc\", n_jobs=-1, cv=5)"
   ]
  },
  {
   "cell_type": "code",
   "execution_count": 127,
   "id": "a9ec70b8-83c7-4c7e-905c-ae1ceee4c4fc",
   "metadata": {},
   "outputs": [
    {
     "data": {
      "text/plain": [
       "BayesSearchCV(cv=5,\n",
       "              estimator=HistGradientBoostingClassifier(early_stopping=True,\n",
       "                                                       validation_fraction=0.15),\n",
       "              n_iter=32, n_jobs=-1, scoring='roc_auc',\n",
       "              search_spaces={'learning_rate': Real(low=0.001, high=1, prior='uniform', transform='identity'),\n",
       "                             'max_iter': Integer(low=10, high=1000, prior='uniform', transform='identity'),\n",
       "                             'min_samples_leaf': Integer(low=1, high=30, prior='uniform', transform='identity')})"
      ]
     },
     "execution_count": 127,
     "metadata": {},
     "output_type": "execute_result"
    }
   ],
   "source": [
    "forest_bayes_search.fit(X, y)"
   ]
  },
  {
   "cell_type": "code",
   "execution_count": 128,
   "id": "a13c6eab-8df0-4674-a076-e9b205b514ac",
   "metadata": {},
   "outputs": [
    {
     "data": {
      "text/plain": [
       "HistGradientBoostingClassifier(early_stopping=True,\n",
       "                               learning_rate=0.01619991660275452, max_iter=25,\n",
       "                               min_samples_leaf=12, validation_fraction=0.15)"
      ]
     },
     "execution_count": 128,
     "metadata": {},
     "output_type": "execute_result"
    }
   ],
   "source": [
    "forest_bayes_search.best_estimator_"
   ]
  },
  {
   "cell_type": "markdown",
   "id": "0c87f2bd-3fe1-4085-926c-73f0e32bf9b5",
   "metadata": {},
   "source": [
    "# AP"
   ]
  },
  {
   "cell_type": "code",
   "execution_count": 129,
   "id": "f1f0c8fc-b331-4da2-8ea5-e0723ebee397",
   "metadata": {},
   "outputs": [
    {
     "data": {
      "text/plain": [
       "0.6878546912287747"
      ]
     },
     "execution_count": 129,
     "metadata": {},
     "output_type": "execute_result"
    }
   ],
   "source": [
    "forest_bayes_search.best_score_"
   ]
  },
  {
   "cell_type": "markdown",
   "id": "b4391b20-5a8f-4d43-9ad8-9d118d146d46",
   "metadata": {},
   "source": [
    "# ROC auc"
   ]
  },
  {
   "cell_type": "code",
   "execution_count": 104,
   "id": "34387ada-0467-41fb-adf3-6465bc36b13a",
   "metadata": {},
   "outputs": [
    {
     "data": {
      "text/plain": [
       "0.6895023895534506"
      ]
     },
     "execution_count": 104,
     "metadata": {},
     "output_type": "execute_result"
    }
   ],
   "source": [
    "forest_bayes_search.best_score_"
   ]
  },
  {
   "cell_type": "code",
   "execution_count": 79,
   "id": "a30d355e-13f3-4076-9282-cbb28cb4379c",
   "metadata": {},
   "outputs": [],
   "source": [
    "aps = []\n",
    "aucs = []\n",
    "for train_index, test_index in skf.split(X, y):\n",
    "    scaler = StandardScaler()\n",
    "    X_train, X_test = X.iloc[train_index], X.iloc[test_index]\n",
    "    y_train, y_test = y.iloc[train_index], y.iloc[test_index]\n",
    "    \n",
    "    X_train = scaler.fit_transform(X_train)\n",
    "    X_test = scaler.transform(X_test)\n",
    "    \n",
    "    clf.fit(X_train, y_train)\n",
    "    #knorae = KNORAE(pool_classifiers)\n",
    "    #knorae.fit()\n",
    "    log_probs = clf.predict_proba(X_test)[:, 1]\n",
    "    ap = average_precision_score(y_test, log_probs)\n",
    "    roc_auc = roc_auc_score(y_test, log_probs)\n",
    "    aps.append(ap)\n",
    "    aucs.append(roc_auc)"
   ]
  },
  {
   "cell_type": "code",
   "execution_count": 85,
   "id": "93c90e3d-7c1c-4c12-ad21-b0dac32eca9e",
   "metadata": {},
   "outputs": [
    {
     "data": {
      "text/plain": [
       "0.14099473491817066"
      ]
     },
     "execution_count": 85,
     "metadata": {},
     "output_type": "execute_result"
    }
   ],
   "source": [
    "np.mean(aps)"
   ]
  },
  {
   "cell_type": "code",
   "execution_count": 87,
   "id": "2398445c-106a-4dbe-bc7c-6562d4d87d69",
   "metadata": {},
   "outputs": [
    {
     "data": {
      "text/plain": [
       "0.6449456398734204"
      ]
     },
     "execution_count": 87,
     "metadata": {},
     "output_type": "execute_result"
    }
   ],
   "source": [
    "np.mean(aucs)"
   ]
  },
  {
   "cell_type": "markdown",
   "id": "94e85aa7-901c-4d1e-9fbd-1149d3d83aef",
   "metadata": {},
   "source": [
    "# Knora"
   ]
  },
  {
   "cell_type": "code",
   "execution_count": 107,
   "id": "ff9967e8-de0f-4bb5-8730-aa989b77d5c0",
   "metadata": {},
   "outputs": [],
   "source": [
    "aps = []\n",
    "aucs = []\n",
    "for train_index, test_index in skf.split(X, y):\n",
    "    scaler = StandardScaler()\n",
    "    X_train, X_test = X.iloc[train_index], X.iloc[test_index]\n",
    "    y_train, y_test = y.iloc[train_index], y.iloc[test_index]\n",
    "    \n",
    "    X_train, X_dsel, y_train, y_dsel = train_test_split(X_train, y_train, test_size=0.5)\n",
    "    \n",
    "    clf = forest_bayes_search.best_estimator_\n",
    "    clf.fit(X_train, y_train)\n",
    "    knorae = KNORAE(clf)\n",
    "    knorae.fit(X_dsel, y_dsel)\n",
    "    \n",
    "    log_probs = clf.predict_proba(X_test)[:, 1]\n",
    "    ap = average_precision_score(y_test, log_probs)\n",
    "    roc_auc = roc_auc_score(y_test, log_probs)\n",
    "    aps.append(ap)\n",
    "    aucs.append(roc_auc)"
   ]
  },
  {
   "cell_type": "code",
   "execution_count": 110,
   "id": "a3b4acc3-b1c2-4b80-9573-0ad9bda0d34e",
   "metadata": {},
   "outputs": [
    {
     "data": {
      "text/plain": [
       "0.1549412394889774"
      ]
     },
     "execution_count": 110,
     "metadata": {},
     "output_type": "execute_result"
    }
   ],
   "source": [
    "np.mean(aps)"
   ]
  },
  {
   "cell_type": "code",
   "execution_count": 111,
   "id": "5598ccce-4a2c-478f-b852-d89b9c0dcb52",
   "metadata": {},
   "outputs": [
    {
     "data": {
      "text/plain": [
       "0.6263718833458845"
      ]
     },
     "execution_count": 111,
     "metadata": {},
     "output_type": "execute_result"
    }
   ],
   "source": [
    "np.mean(aucs)"
   ]
  },
  {
   "cell_type": "markdown",
   "id": "0e27c825-9db6-440a-9a3f-790cea9fd67c",
   "metadata": {},
   "source": [
    "## Complementary models"
   ]
  },
  {
   "cell_type": "code",
   "execution_count": 114,
   "id": "3f746405-9495-46cf-bdd6-f2a152d87b40",
   "metadata": {},
   "outputs": [],
   "source": [
    "from dao import DrugAttritionOracle\n",
    "import pickle\n",
    "import pandas as pd\n",
    "from sklearn.model_selection import RandomizedSearchCV\n",
    "from sklearn.metrics import f1_score\n",
    "from utils.metrics import table_metrics_trees\n",
    "from sklearn.metrics import confusion_matrix\n",
    "import shap"
   ]
  },
  {
   "cell_type": "code",
   "execution_count": 428,
   "id": "f2e71ac9-71fd-4601-9d25-f057234fca6c",
   "metadata": {},
   "outputs": [],
   "source": [
    "train = pd.read_csv('../data/processing_pipeline/TDC_predictions/train_subtasks_predictions.csv', index_col=0)\n",
    "test = pd.read_csv('../data/processing_pipeline/TDC_predictions/test_subtasks_predictions.csv', index_col=0)\n",
    "file = open('../production/complementary_model/random_forest_classifier.pkl', 'rb')\n",
    "y_train = train['wd_consensus_1']\n",
    "y_test = test['wd_consensus_1']\n",
    "X_train = train.drop(columns=['chembl_id', 'standardized_smiles', 'wd_consensus_1'])\n",
    "X_test = test.drop(columns=['chembl_id', 'standardized_smiles', 'wd_consensus_1'])\n",
    "rf = pickle.load(file)\n",
    "node_feat_importance = pd.DataFrame(data=rf.feature_importances_[np.newaxis], columns=X_train.columns, index=[0])\n",
    "#feats = list(node_feat_importance.transpose().sort_values(0, ascending=False)[:13].index)"
   ]
  },
  {
   "cell_type": "markdown",
   "id": "7e99673e-e6ae-46f4-931d-5348e46a1e33",
   "metadata": {},
   "source": [
    "## Run on subset"
   ]
  },
  {
   "cell_type": "markdown",
   "id": "d0fbc68f-6b82-4e1d-8cc4-9134ccbc519e",
   "metadata": {},
   "source": [
    "# XGBoost"
   ]
  },
  {
   "cell_type": "code",
   "execution_count": 441,
   "id": "101cdb14-171e-4b8b-a473-c4bd778adcf7",
   "metadata": {},
   "outputs": [],
   "source": [
    "params = {\n",
    " 'learning_rate' : [0.05,0.10,0.15,0.20,0.25,0.30],\n",
    " 'max_depth' : [ 3, 4, 5, 6, 8, 10, 12, 15],\n",
    " 'min_child_weight' : [ 1, 3, 5, 7 ],\n",
    " 'gamma': [ 0.0, 0.1, 0.2 , 0.3, 0.4 ],\n",
    " 'colsample_bytree' : [ 0.3, 0.4, 0.5 , 0.7 ],\n",
    " 'scale_pos_weight': [5, 10, 15, 20, 35],\n",
    "}"
   ]
  },
  {
   "cell_type": "code",
   "execution_count": 442,
   "id": "59891089-2e3f-41ac-abb6-af70560613fd",
   "metadata": {},
   "outputs": [],
   "source": [
    "import xgboost\n",
    "classifier = xgboost.XGBClassifier()"
   ]
  },
  {
   "cell_type": "code",
   "execution_count": 443,
   "id": "a7ec59e2-4050-4f9e-bee6-d9d8277c803b",
   "metadata": {},
   "outputs": [],
   "source": [
    "rs_model=RandomizedSearchCV(clbassifier,param_distributions=params,n_iter=50,scoring='average_precision',n_jobs=-1,cv=5,verbose=3)"
   ]
  },
  {
   "cell_type": "code",
   "execution_count": 567,
   "id": "7aa12a84-7e91-486d-be68-6e7c569bf778",
   "metadata": {},
   "outputs": [
    {
     "data": {
      "text/plain": [
       "{'scale_pos_weight': 10,\n",
       " 'min_child_weight': 5,\n",
       " 'max_depth': 15,\n",
       " 'learning_rate': 0.05,\n",
       " 'gamma': 0.2,\n",
       " 'colsample_bytree': 0.5}"
      ]
     },
     "execution_count": 567,
     "metadata": {},
     "output_type": "execute_result"
    }
   ],
   "source": [
    "rs_model.best_params_"
   ]
  },
  {
   "cell_type": "code",
   "execution_count": 580,
   "id": "f49fffcf-519c-4930-8e98-a714d5fa0b9c",
   "metadata": {},
   "outputs": [],
   "source": [
    "classifier = xgboost.XGBClassifier(learning_rate=rs_model.best_params_['learning_rate'])"
   ]
  },
  {
   "cell_type": "code",
   "execution_count": 581,
   "id": "efccd087-2217-45ab-805c-472f9a408263",
   "metadata": {},
   "outputs": [
    {
     "name": "stdout",
     "output_type": "stream",
     "text": [
      "[15:59:12] WARNING: /tmp/build/80754af9/xgboost-split_1619724447847/work/src/learner.cc:1061: Starting in XGBoost 1.3.0, the default evaluation metric used with the objective 'binary:logistic' was changed from 'error' to 'logloss'. Explicitly set eval_metric if you'd like to restore the old behavior.\n"
     ]
    },
    {
     "data": {
      "text/plain": [
       "XGBClassifier(base_score=0.5, booster='gbtree', colsample_bylevel=1,\n",
       "              colsample_bynode=1, colsample_bytree=1, gamma=0, gpu_id=-1,\n",
       "              importance_type='gain', interaction_constraints='',\n",
       "              learning_rate=0.05, max_delta_step=0, max_depth=6,\n",
       "              min_child_weight=1, missing=nan, monotone_constraints='()',\n",
       "              n_estimators=100, n_jobs=8, num_parallel_tree=1, random_state=0,\n",
       "              reg_alpha=0, reg_lambda=1, scale_pos_weight=1, subsample=1,\n",
       "              tree_method='exact', validate_parameters=1, verbosity=None)"
      ]
     },
     "execution_count": 581,
     "metadata": {},
     "output_type": "execute_result"
    }
   ],
   "source": [
    "classifier.fit(X_train, y_train)"
   ]
  },
  {
   "cell_type": "code",
   "execution_count": 584,
   "id": "c77321ef-5f4b-422b-9713-5183ec70105a",
   "metadata": {},
   "outputs": [
    {
     "data": {
      "text/plain": [
       "100"
      ]
     },
     "execution_count": 584,
     "metadata": {},
     "output_type": "execute_result"
    }
   ],
   "source": [
    "classifier.get_booster().best_ntree_limit"
   ]
  },
  {
   "cell_type": "code",
   "execution_count": 444,
   "id": "754e7a8b-1975-4ec6-a385-6713fb31390c",
   "metadata": {},
   "outputs": [
    {
     "name": "stdout",
     "output_type": "stream",
     "text": [
      "Fitting 5 folds for each of 50 candidates, totalling 250 fits\n"
     ]
    },
    {
     "name": "stderr",
     "output_type": "stream",
     "text": [
      "[Parallel(n_jobs=-1)]: Using backend LokyBackend with 8 concurrent workers.\n",
      "[Parallel(n_jobs=-1)]: Done  16 tasks      | elapsed:   30.0s\n",
      "[Parallel(n_jobs=-1)]: Done 112 tasks      | elapsed:  3.7min\n",
      "[Parallel(n_jobs=-1)]: Done 250 out of 250 | elapsed:  6.3min finished\n",
      "The use of label encoder in XGBClassifier is deprecated and will be removed in a future release. To remove this warning, do the following: 1) Pass option use_label_encoder=False when constructing XGBClassifier object; and 2) Encode your labels (y) as integers starting with 0, i.e. 0, 1, 2, ..., [num_class - 1].\n"
     ]
    },
    {
     "name": "stdout",
     "output_type": "stream",
     "text": [
      "[12:43:15] WARNING: /tmp/build/80754af9/xgboost-split_1619724447847/work/src/learner.cc:1061: Starting in XGBoost 1.3.0, the default evaluation metric used with the objective 'binary:logistic' was changed from 'error' to 'logloss'. Explicitly set eval_metric if you'd like to restore the old behavior.\n"
     ]
    },
    {
     "data": {
      "text/plain": [
       "RandomizedSearchCV(cv=5,\n",
       "                   estimator=XGBClassifier(base_score=None, booster=None,\n",
       "                                           colsample_bylevel=None,\n",
       "                                           colsample_bynode=None,\n",
       "                                           colsample_bytree=None, gamma=None,\n",
       "                                           gpu_id=None, importance_type='gain',\n",
       "                                           interaction_constraints=None,\n",
       "                                           learning_rate=None,\n",
       "                                           max_delta_step=None, max_depth=None,\n",
       "                                           min_child_weight=None, missing=nan,\n",
       "                                           monotone_constraints=None,\n",
       "                                           n_estimators=100,...\n",
       "                                           subsample=None, tree_method=None,\n",
       "                                           validate_parameters=None,\n",
       "                                           verbosity=None),\n",
       "                   n_iter=50, n_jobs=-1,\n",
       "                   param_distributions={'colsample_bytree': [0.3, 0.4, 0.5,\n",
       "                                                             0.7],\n",
       "                                        'gamma': [0.0, 0.1, 0.2, 0.3, 0.4],\n",
       "                                        'learning_rate': [0.05, 0.1, 0.15, 0.2,\n",
       "                                                          0.25, 0.3],\n",
       "                                        'max_depth': [3, 4, 5, 6, 8, 10, 12,\n",
       "                                                      15],\n",
       "                                        'min_child_weight': [1, 3, 5, 7],\n",
       "                                        'scale_pos_weight': [5, 10, 15, 20,\n",
       "                                                             35]},\n",
       "                   scoring='average_precision', verbose=3)"
      ]
     },
     "execution_count": 444,
     "metadata": {},
     "output_type": "execute_result"
    }
   ],
   "source": [
    "rs_model.fit(X_train,y_train)"
   ]
  },
  {
   "cell_type": "code",
   "execution_count": 562,
   "id": "87088f66-0389-4545-aa9d-e7b1dedc2308",
   "metadata": {},
   "outputs": [
    {
     "data": {
      "text/html": [
       "<div>\n",
       "<style scoped>\n",
       "    .dataframe tbody tr th:only-of-type {\n",
       "        vertical-align: middle;\n",
       "    }\n",
       "\n",
       "    .dataframe tbody tr th {\n",
       "        vertical-align: top;\n",
       "    }\n",
       "\n",
       "    .dataframe thead th {\n",
       "        text-align: right;\n",
       "    }\n",
       "</style>\n",
       "<table border=\"1\" class=\"dataframe\">\n",
       "  <thead>\n",
       "    <tr style=\"text-align: right;\">\n",
       "      <th></th>\n",
       "      <th>CYP2C9_Substrate_CarbonMangels</th>\n",
       "      <th>CYP2D6_Substrate_CarbonMangels</th>\n",
       "      <th>sr-are</th>\n",
       "      <th>CYP3A4_Veith</th>\n",
       "      <th>nr-er-lbd</th>\n",
       "      <th>nr-er</th>\n",
       "      <th>Solubility_AqSolDB</th>\n",
       "      <th>sr-atad5</th>\n",
       "      <th>Caco2_Wang</th>\n",
       "      <th>CYP2D6_Veith</th>\n",
       "      <th>...</th>\n",
       "      <th>CYP2C9_Veith</th>\n",
       "      <th>CYP1A2_Veith</th>\n",
       "      <th>HIA_Hou</th>\n",
       "      <th>nr-ppar-gamma</th>\n",
       "      <th>Clearance_Hepatocyte_AZ</th>\n",
       "      <th>Carcinogens_Languin</th>\n",
       "      <th>nr-aromatase</th>\n",
       "      <th>sr-mmp</th>\n",
       "      <th>sr-p53</th>\n",
       "      <th>predict_withdrawn</th>\n",
       "    </tr>\n",
       "  </thead>\n",
       "  <tbody>\n",
       "    <tr>\n",
       "      <th>0</th>\n",
       "      <td>0.069458</td>\n",
       "      <td>0.004521</td>\n",
       "      <td>0.506577</td>\n",
       "      <td>0.224221</td>\n",
       "      <td>0.075100</td>\n",
       "      <td>0.000071</td>\n",
       "      <td>-2.688965</td>\n",
       "      <td>0.013394</td>\n",
       "      <td>-5.617864</td>\n",
       "      <td>0.001843</td>\n",
       "      <td>...</td>\n",
       "      <td>0.036047</td>\n",
       "      <td>0.006817</td>\n",
       "      <td>0.013520</td>\n",
       "      <td>0.008847</td>\n",
       "      <td>35.181927</td>\n",
       "      <td>0.286017</td>\n",
       "      <td>0.001043</td>\n",
       "      <td>2.742608e-06</td>\n",
       "      <td>0.009950</td>\n",
       "      <td>0.470054</td>\n",
       "    </tr>\n",
       "    <tr>\n",
       "      <th>1</th>\n",
       "      <td>0.103099</td>\n",
       "      <td>0.232109</td>\n",
       "      <td>0.827061</td>\n",
       "      <td>0.226972</td>\n",
       "      <td>0.403773</td>\n",
       "      <td>0.932831</td>\n",
       "      <td>-5.085590</td>\n",
       "      <td>0.917336</td>\n",
       "      <td>-4.535133</td>\n",
       "      <td>0.156842</td>\n",
       "      <td>...</td>\n",
       "      <td>0.782207</td>\n",
       "      <td>0.921282</td>\n",
       "      <td>0.998295</td>\n",
       "      <td>0.011342</td>\n",
       "      <td>75.808525</td>\n",
       "      <td>0.374289</td>\n",
       "      <td>0.004148</td>\n",
       "      <td>9.678469e-01</td>\n",
       "      <td>0.909958</td>\n",
       "      <td>0.606440</td>\n",
       "    </tr>\n",
       "    <tr>\n",
       "      <th>2</th>\n",
       "      <td>0.340530</td>\n",
       "      <td>0.142519</td>\n",
       "      <td>0.457970</td>\n",
       "      <td>0.958183</td>\n",
       "      <td>0.235134</td>\n",
       "      <td>0.000681</td>\n",
       "      <td>-3.813414</td>\n",
       "      <td>0.002442</td>\n",
       "      <td>-4.795193</td>\n",
       "      <td>0.151132</td>\n",
       "      <td>...</td>\n",
       "      <td>0.874266</td>\n",
       "      <td>0.762396</td>\n",
       "      <td>0.996635</td>\n",
       "      <td>0.769668</td>\n",
       "      <td>33.605370</td>\n",
       "      <td>0.310629</td>\n",
       "      <td>0.000067</td>\n",
       "      <td>1.533354e-01</td>\n",
       "      <td>0.012377</td>\n",
       "      <td>0.485826</td>\n",
       "    </tr>\n",
       "    <tr>\n",
       "      <th>3</th>\n",
       "      <td>0.025499</td>\n",
       "      <td>0.010939</td>\n",
       "      <td>0.081060</td>\n",
       "      <td>0.343454</td>\n",
       "      <td>0.095015</td>\n",
       "      <td>0.014898</td>\n",
       "      <td>-3.072849</td>\n",
       "      <td>0.001167</td>\n",
       "      <td>-3.959646</td>\n",
       "      <td>0.000006</td>\n",
       "      <td>...</td>\n",
       "      <td>0.322632</td>\n",
       "      <td>0.068863</td>\n",
       "      <td>0.991903</td>\n",
       "      <td>0.148467</td>\n",
       "      <td>113.047005</td>\n",
       "      <td>0.615662</td>\n",
       "      <td>0.000727</td>\n",
       "      <td>5.591495e-04</td>\n",
       "      <td>0.049619</td>\n",
       "      <td>0.129884</td>\n",
       "    </tr>\n",
       "    <tr>\n",
       "      <th>4</th>\n",
       "      <td>0.417281</td>\n",
       "      <td>0.264848</td>\n",
       "      <td>0.112804</td>\n",
       "      <td>0.030651</td>\n",
       "      <td>0.802562</td>\n",
       "      <td>0.937043</td>\n",
       "      <td>-5.873740</td>\n",
       "      <td>0.248247</td>\n",
       "      <td>-3.773222</td>\n",
       "      <td>0.007486</td>\n",
       "      <td>...</td>\n",
       "      <td>0.841268</td>\n",
       "      <td>0.853914</td>\n",
       "      <td>0.999501</td>\n",
       "      <td>0.001056</td>\n",
       "      <td>74.288340</td>\n",
       "      <td>0.583670</td>\n",
       "      <td>0.002604</td>\n",
       "      <td>1.606945e-01</td>\n",
       "      <td>0.145084</td>\n",
       "      <td>0.681620</td>\n",
       "    </tr>\n",
       "    <tr>\n",
       "      <th>...</th>\n",
       "      <td>...</td>\n",
       "      <td>...</td>\n",
       "      <td>...</td>\n",
       "      <td>...</td>\n",
       "      <td>...</td>\n",
       "      <td>...</td>\n",
       "      <td>...</td>\n",
       "      <td>...</td>\n",
       "      <td>...</td>\n",
       "      <td>...</td>\n",
       "      <td>...</td>\n",
       "      <td>...</td>\n",
       "      <td>...</td>\n",
       "      <td>...</td>\n",
       "      <td>...</td>\n",
       "      <td>...</td>\n",
       "      <td>...</td>\n",
       "      <td>...</td>\n",
       "      <td>...</td>\n",
       "      <td>...</td>\n",
       "      <td>...</td>\n",
       "    </tr>\n",
       "    <tr>\n",
       "      <th>390</th>\n",
       "      <td>0.458754</td>\n",
       "      <td>0.308566</td>\n",
       "      <td>0.111702</td>\n",
       "      <td>0.000344</td>\n",
       "      <td>0.003962</td>\n",
       "      <td>0.715382</td>\n",
       "      <td>-0.882686</td>\n",
       "      <td>0.000556</td>\n",
       "      <td>-4.659957</td>\n",
       "      <td>0.000003</td>\n",
       "      <td>...</td>\n",
       "      <td>0.109648</td>\n",
       "      <td>0.207328</td>\n",
       "      <td>0.873437</td>\n",
       "      <td>0.005758</td>\n",
       "      <td>32.886288</td>\n",
       "      <td>0.352992</td>\n",
       "      <td>0.000028</td>\n",
       "      <td>6.340616e-07</td>\n",
       "      <td>0.007156</td>\n",
       "      <td>0.449080</td>\n",
       "    </tr>\n",
       "    <tr>\n",
       "      <th>391</th>\n",
       "      <td>0.167058</td>\n",
       "      <td>0.508774</td>\n",
       "      <td>0.665901</td>\n",
       "      <td>0.023806</td>\n",
       "      <td>0.548024</td>\n",
       "      <td>0.058295</td>\n",
       "      <td>-1.635835</td>\n",
       "      <td>0.725651</td>\n",
       "      <td>-5.748230</td>\n",
       "      <td>0.772372</td>\n",
       "      <td>...</td>\n",
       "      <td>0.330940</td>\n",
       "      <td>0.088069</td>\n",
       "      <td>0.997442</td>\n",
       "      <td>0.000385</td>\n",
       "      <td>69.781120</td>\n",
       "      <td>0.486183</td>\n",
       "      <td>0.000086</td>\n",
       "      <td>2.883503e-02</td>\n",
       "      <td>0.026883</td>\n",
       "      <td>0.631011</td>\n",
       "    </tr>\n",
       "    <tr>\n",
       "      <th>392</th>\n",
       "      <td>0.115259</td>\n",
       "      <td>0.038823</td>\n",
       "      <td>0.233657</td>\n",
       "      <td>0.000564</td>\n",
       "      <td>0.361210</td>\n",
       "      <td>0.060816</td>\n",
       "      <td>-3.895102</td>\n",
       "      <td>0.067972</td>\n",
       "      <td>-4.211524</td>\n",
       "      <td>0.011219</td>\n",
       "      <td>...</td>\n",
       "      <td>0.393423</td>\n",
       "      <td>0.027980</td>\n",
       "      <td>0.996202</td>\n",
       "      <td>0.000975</td>\n",
       "      <td>1.042210</td>\n",
       "      <td>0.252291</td>\n",
       "      <td>0.000168</td>\n",
       "      <td>1.127547e-03</td>\n",
       "      <td>0.001459</td>\n",
       "      <td>0.668740</td>\n",
       "    </tr>\n",
       "    <tr>\n",
       "      <th>393</th>\n",
       "      <td>0.234541</td>\n",
       "      <td>0.107649</td>\n",
       "      <td>0.050168</td>\n",
       "      <td>0.015203</td>\n",
       "      <td>0.033033</td>\n",
       "      <td>0.000702</td>\n",
       "      <td>-1.089897</td>\n",
       "      <td>0.025235</td>\n",
       "      <td>-4.674285</td>\n",
       "      <td>0.002292</td>\n",
       "      <td>...</td>\n",
       "      <td>0.365868</td>\n",
       "      <td>0.016981</td>\n",
       "      <td>0.859953</td>\n",
       "      <td>0.000113</td>\n",
       "      <td>8.636477</td>\n",
       "      <td>0.658230</td>\n",
       "      <td>0.000151</td>\n",
       "      <td>4.709835e-07</td>\n",
       "      <td>0.031638</td>\n",
       "      <td>0.381551</td>\n",
       "    </tr>\n",
       "    <tr>\n",
       "      <th>394</th>\n",
       "      <td>0.101601</td>\n",
       "      <td>0.354584</td>\n",
       "      <td>0.049068</td>\n",
       "      <td>0.852381</td>\n",
       "      <td>0.029996</td>\n",
       "      <td>0.000103</td>\n",
       "      <td>-1.950665</td>\n",
       "      <td>0.001679</td>\n",
       "      <td>-5.334961</td>\n",
       "      <td>0.103228</td>\n",
       "      <td>...</td>\n",
       "      <td>0.206292</td>\n",
       "      <td>0.355981</td>\n",
       "      <td>0.997504</td>\n",
       "      <td>0.000008</td>\n",
       "      <td>22.778858</td>\n",
       "      <td>0.329084</td>\n",
       "      <td>0.002449</td>\n",
       "      <td>4.625961e-04</td>\n",
       "      <td>0.000100</td>\n",
       "      <td>0.454892</td>\n",
       "    </tr>\n",
       "  </tbody>\n",
       "</table>\n",
       "<p>395 rows × 39 columns</p>\n",
       "</div>"
      ],
      "text/plain": [
       "     CYP2C9_Substrate_CarbonMangels  CYP2D6_Substrate_CarbonMangels    sr-are  \\\n",
       "0                          0.069458                        0.004521  0.506577   \n",
       "1                          0.103099                        0.232109  0.827061   \n",
       "2                          0.340530                        0.142519  0.457970   \n",
       "3                          0.025499                        0.010939  0.081060   \n",
       "4                          0.417281                        0.264848  0.112804   \n",
       "..                              ...                             ...       ...   \n",
       "390                        0.458754                        0.308566  0.111702   \n",
       "391                        0.167058                        0.508774  0.665901   \n",
       "392                        0.115259                        0.038823  0.233657   \n",
       "393                        0.234541                        0.107649  0.050168   \n",
       "394                        0.101601                        0.354584  0.049068   \n",
       "\n",
       "     CYP3A4_Veith  nr-er-lbd     nr-er  Solubility_AqSolDB  sr-atad5  \\\n",
       "0        0.224221   0.075100  0.000071           -2.688965  0.013394   \n",
       "1        0.226972   0.403773  0.932831           -5.085590  0.917336   \n",
       "2        0.958183   0.235134  0.000681           -3.813414  0.002442   \n",
       "3        0.343454   0.095015  0.014898           -3.072849  0.001167   \n",
       "4        0.030651   0.802562  0.937043           -5.873740  0.248247   \n",
       "..            ...        ...       ...                 ...       ...   \n",
       "390      0.000344   0.003962  0.715382           -0.882686  0.000556   \n",
       "391      0.023806   0.548024  0.058295           -1.635835  0.725651   \n",
       "392      0.000564   0.361210  0.060816           -3.895102  0.067972   \n",
       "393      0.015203   0.033033  0.000702           -1.089897  0.025235   \n",
       "394      0.852381   0.029996  0.000103           -1.950665  0.001679   \n",
       "\n",
       "     Caco2_Wang  CYP2D6_Veith  ...  CYP2C9_Veith  CYP1A2_Veith   HIA_Hou  \\\n",
       "0     -5.617864      0.001843  ...      0.036047      0.006817  0.013520   \n",
       "1     -4.535133      0.156842  ...      0.782207      0.921282  0.998295   \n",
       "2     -4.795193      0.151132  ...      0.874266      0.762396  0.996635   \n",
       "3     -3.959646      0.000006  ...      0.322632      0.068863  0.991903   \n",
       "4     -3.773222      0.007486  ...      0.841268      0.853914  0.999501   \n",
       "..          ...           ...  ...           ...           ...       ...   \n",
       "390   -4.659957      0.000003  ...      0.109648      0.207328  0.873437   \n",
       "391   -5.748230      0.772372  ...      0.330940      0.088069  0.997442   \n",
       "392   -4.211524      0.011219  ...      0.393423      0.027980  0.996202   \n",
       "393   -4.674285      0.002292  ...      0.365868      0.016981  0.859953   \n",
       "394   -5.334961      0.103228  ...      0.206292      0.355981  0.997504   \n",
       "\n",
       "     nr-ppar-gamma  Clearance_Hepatocyte_AZ  Carcinogens_Languin  \\\n",
       "0         0.008847                35.181927             0.286017   \n",
       "1         0.011342                75.808525             0.374289   \n",
       "2         0.769668                33.605370             0.310629   \n",
       "3         0.148467               113.047005             0.615662   \n",
       "4         0.001056                74.288340             0.583670   \n",
       "..             ...                      ...                  ...   \n",
       "390       0.005758                32.886288             0.352992   \n",
       "391       0.000385                69.781120             0.486183   \n",
       "392       0.000975                 1.042210             0.252291   \n",
       "393       0.000113                 8.636477             0.658230   \n",
       "394       0.000008                22.778858             0.329084   \n",
       "\n",
       "     nr-aromatase        sr-mmp    sr-p53  predict_withdrawn  \n",
       "0        0.001043  2.742608e-06  0.009950           0.470054  \n",
       "1        0.004148  9.678469e-01  0.909958           0.606440  \n",
       "2        0.000067  1.533354e-01  0.012377           0.485826  \n",
       "3        0.000727  5.591495e-04  0.049619           0.129884  \n",
       "4        0.002604  1.606945e-01  0.145084           0.681620  \n",
       "..            ...           ...       ...                ...  \n",
       "390      0.000028  6.340616e-07  0.007156           0.449080  \n",
       "391      0.000086  2.883503e-02  0.026883           0.631011  \n",
       "392      0.000168  1.127547e-03  0.001459           0.668740  \n",
       "393      0.000151  4.709835e-07  0.031638           0.381551  \n",
       "394      0.002449  4.625961e-04  0.000100           0.454892  \n",
       "\n",
       "[395 rows x 39 columns]"
      ]
     },
     "execution_count": 562,
     "metadata": {},
     "output_type": "execute_result"
    }
   ],
   "source": [
    "X_test"
   ]
  },
  {
   "cell_type": "code",
   "execution_count": 565,
   "id": "1d43a094-c228-4da8-b53b-ef9cc0710f8c",
   "metadata": {},
   "outputs": [],
   "source": [
    "#optimal threshold F1 withdrawn class random forest\n",
    "optimal_f1_score = []\n",
    "optimal_threshold = []\n",
    "for threshold in np.arange(0, 1, 0.01):\n",
    "    predictions_df = train_pred_df.copy()\n",
    "    predictions_df['predicted_class'] = 0\n",
    "    predictions_df.loc[predictions_df['probabilities'] > threshold, 'predicted_class'] = 1\n",
    "    optimal_f1_score.append(f1_score(\n",
    "        predictions_df['target'], predictions_df['predicted_class'], average='binary'\n",
    "    ))\n",
    "    optimal_threshold.append(threshold)\n",
    "\n",
    "optimal_f1_index = np.argmax(np.array(optimal_f1_score))\n",
    "optimal_threshold = optimal_threshold[optimal_f1_index]\n",
    "\n",
    "test_pred_df = pd.DataFrame({'probabilities': predictions[:, 1],\n",
    "                            'wd_consensus_1': y_test,\n",
    "                            \n",
    "                             'predicted_class': rs_model.best_estimator_.predict(X_test)})\n",
    "results = table_metrics_trees(test_pred_df, 'wd_consensus_1')"
   ]
  },
  {
   "cell_type": "code",
   "execution_count": 566,
   "id": "6be1e920-bb30-404b-977a-25bee0362fb8",
   "metadata": {},
   "outputs": [
    {
     "data": {
      "text/html": [
       "<div>\n",
       "<style scoped>\n",
       "    .dataframe tbody tr th:only-of-type {\n",
       "        vertical-align: middle;\n",
       "    }\n",
       "\n",
       "    .dataframe tbody tr th {\n",
       "        vertical-align: top;\n",
       "    }\n",
       "\n",
       "    .dataframe thead th {\n",
       "        text-align: right;\n",
       "    }\n",
       "</style>\n",
       "<table border=\"1\" class=\"dataframe\">\n",
       "  <thead>\n",
       "    <tr style=\"text-align: right;\">\n",
       "      <th></th>\n",
       "      <th>AP withdrawn</th>\n",
       "      <th>AP approved</th>\n",
       "      <th>AUROC withdrawn</th>\n",
       "      <th>Balanced accuracy</th>\n",
       "      <th>Precision withdrawn</th>\n",
       "      <th>Recall withdrawn</th>\n",
       "      <th>Precision approved</th>\n",
       "      <th>Recall approved</th>\n",
       "      <th>True positives</th>\n",
       "      <th>True negatives</th>\n",
       "      <th>False positives</th>\n",
       "      <th>False negatives</th>\n",
       "    </tr>\n",
       "  </thead>\n",
       "  <tbody>\n",
       "    <tr>\n",
       "      <th>0</th>\n",
       "      <td>0.397815</td>\n",
       "      <td>0.790555</td>\n",
       "      <td>0.832989</td>\n",
       "      <td>0.629392</td>\n",
       "      <td>0.5</td>\n",
       "      <td>0.292683</td>\n",
       "      <td>0.921833</td>\n",
       "      <td>0.966102</td>\n",
       "      <td>12</td>\n",
       "      <td>342</td>\n",
       "      <td>12</td>\n",
       "      <td>29</td>\n",
       "    </tr>\n",
       "  </tbody>\n",
       "</table>\n",
       "</div>"
      ],
      "text/plain": [
       "   AP withdrawn  AP approved  AUROC withdrawn  Balanced accuracy  \\\n",
       "0      0.397815     0.790555         0.832989           0.629392   \n",
       "\n",
       "   Precision withdrawn  Recall withdrawn  Precision approved  Recall approved  \\\n",
       "0                  0.5          0.292683            0.921833         0.966102   \n",
       "\n",
       "   True positives  True negatives  False positives  False negatives  \n",
       "0              12             342               12               29  "
      ]
     },
     "execution_count": 566,
     "metadata": {},
     "output_type": "execute_result"
    }
   ],
   "source": [
    "results"
   ]
  },
  {
   "cell_type": "markdown",
   "id": "0711f7ac-e0bc-4dcf-bb40-67b1ec1751ee",
   "metadata": {},
   "source": [
    "## Shap Graphs"
   ]
  },
  {
   "cell_type": "code",
   "execution_count": 18,
   "id": "dd175192-7198-431a-8a04-01554481c3c4",
   "metadata": {},
   "outputs": [],
   "source": [
    "from utils.metrics import table_metrics_trees\n",
    "import shap"
   ]
  },
  {
   "cell_type": "code",
   "execution_count": 19,
   "id": "656cb557-622e-406b-bfca-88293e5e83a3",
   "metadata": {},
   "outputs": [],
   "source": [
    "train = pd.read_csv('/home/dionizije/Documents/drug_attrition_oracle/data/processing_pipeline/TDC_predictions/train_subtasks_predictions.csv', index_col=0)\n",
    "test = pd.read_csv('/home/dionizije/Documents/drug_attrition_oracle/data/processing_pipeline/TDC_predictions/test_subtasks_predictions.csv', index_col=0)"
   ]
  },
  {
   "cell_type": "code",
   "execution_count": 20,
   "id": "7d525d34-5800-4c40-9ec5-ce81874db528",
   "metadata": {},
   "outputs": [],
   "source": [
    "classifier = XGBClassifier(learning_rate=0.1,\n",
    "        max_depth=3,\n",
    "        min_child_weight=3,\n",
    "        gamma=0.2,\n",
    "        colsample_bytree=0.4,\n",
    "        scale_pos_weight=10,\n",
    "        n_estimators=200)"
   ]
  },
  {
   "cell_type": "code",
   "execution_count": 21,
   "id": "360f5a78-6154-4683-8070-030afc3c15e8",
   "metadata": {},
   "outputs": [],
   "source": [
    "withdrawn_col = 'wd_consensus_1'"
   ]
  },
  {
   "cell_type": "code",
   "execution_count": 22,
   "id": "b34cda95-619b-40a3-83bd-55b5dfd4fd3e",
   "metadata": {},
   "outputs": [],
   "source": [
    "y_train = train[withdrawn_col]\n",
    "y_test = test[withdrawn_col]\n",
    "X_train = train.drop(columns=['chembl_id', 'standardized_smiles', withdrawn_col])\n",
    "X_test = test.drop(columns=['chembl_id', 'standardized_smiles', withdrawn_col])"
   ]
  },
  {
   "cell_type": "code",
   "execution_count": 23,
   "id": "de179698-0afd-4ef6-b19f-8ea7ecac4c41",
   "metadata": {},
   "outputs": [
    {
     "name": "stderr",
     "output_type": "stream",
     "text": [
      "The use of label encoder in XGBClassifier is deprecated and will be removed in a future release. To remove this warning, do the following: 1) Pass option use_label_encoder=False when constructing XGBClassifier object; and 2) Encode your labels (y) as integers starting with 0, i.e. 0, 1, 2, ..., [num_class - 1].\n"
     ]
    },
    {
     "name": "stdout",
     "output_type": "stream",
     "text": [
      "[10:17:10] WARNING: /tmp/build/80754af9/xgboost-split_1619724447847/work/src/learner.cc:1061: Starting in XGBoost 1.3.0, the default evaluation metric used with the objective 'binary:logistic' was changed from 'error' to 'logloss'. Explicitly set eval_metric if you'd like to restore the old behavior.\n"
     ]
    },
    {
     "data": {
      "text/plain": [
       "XGBClassifier(base_score=0.5, booster='gbtree', colsample_bylevel=1,\n",
       "              colsample_bynode=1, colsample_bytree=0.4, gamma=0.2, gpu_id=-1,\n",
       "              importance_type='gain', interaction_constraints='',\n",
       "              learning_rate=0.1, max_delta_step=0, max_depth=3,\n",
       "              min_child_weight=3, missing=nan, monotone_constraints='()',\n",
       "              n_estimators=200, n_jobs=8, num_parallel_tree=1, random_state=0,\n",
       "              reg_alpha=0, reg_lambda=1, scale_pos_weight=10, subsample=1,\n",
       "              tree_method='exact', validate_parameters=1, verbosity=None)"
      ]
     },
     "execution_count": 23,
     "metadata": {},
     "output_type": "execute_result"
    }
   ],
   "source": [
    "classifier.fit(X_train, y_train)"
   ]
  },
  {
   "cell_type": "code",
   "execution_count": 178,
   "id": "2984f4b0-cea2-42a0-a586-97244df004aa",
   "metadata": {},
   "outputs": [],
   "source": [
    "explainer = shap.TreeExplainer(classifier)\n",
    "shap_values = explainer(X_test)"
   ]
  },
  {
   "cell_type": "code",
   "execution_count": 32,
   "id": "497623c6-549c-4ec5-9362-8d97f0cfa963",
   "metadata": {},
   "outputs": [],
   "source": [
    "predictions = classifier.predict_proba(X_test, ntree_limit=classifier.get_booster().best_ntree_limit)\n",
    "test_pred_df = pd.DataFrame({'probabilities': predictions[:, 1],\n",
    "                             withdrawn_col: y_test,\n",
    "                             'predicted_class': classifier.predict(X_test, ntree_limit=classifier.get_booster().best_ntree_limit)})"
   ]
  },
  {
   "cell_type": "code",
   "execution_count": 33,
   "id": "80d83c06-838e-49a8-bb2f-70f656a09894",
   "metadata": {},
   "outputs": [],
   "source": [
    "results = table_metrics_trees(test_pred_df, withdrawn_col)"
   ]
  },
  {
   "cell_type": "code",
   "execution_count": 34,
   "id": "1f4bb632-1be6-41fa-a800-04de30aaa12f",
   "metadata": {},
   "outputs": [
    {
     "data": {
      "text/html": [
       "<div>\n",
       "<style scoped>\n",
       "    .dataframe tbody tr th:only-of-type {\n",
       "        vertical-align: middle;\n",
       "    }\n",
       "\n",
       "    .dataframe tbody tr th {\n",
       "        vertical-align: top;\n",
       "    }\n",
       "\n",
       "    .dataframe thead th {\n",
       "        text-align: right;\n",
       "    }\n",
       "</style>\n",
       "<table border=\"1\" class=\"dataframe\">\n",
       "  <thead>\n",
       "    <tr style=\"text-align: right;\">\n",
       "      <th></th>\n",
       "      <th>F1 score</th>\n",
       "      <th>AP withdrawn</th>\n",
       "      <th>AP approved</th>\n",
       "      <th>AUROC withdrawn</th>\n",
       "      <th>Balanced accuracy</th>\n",
       "      <th>Precision withdrawn</th>\n",
       "      <th>Recall withdrawn</th>\n",
       "      <th>Precision approved</th>\n",
       "      <th>Recall approved</th>\n",
       "      <th>True positives</th>\n",
       "      <th>True negatives</th>\n",
       "      <th>False positives</th>\n",
       "      <th>False negatives</th>\n",
       "    </tr>\n",
       "  </thead>\n",
       "  <tbody>\n",
       "    <tr>\n",
       "      <th>0</th>\n",
       "      <td>0.488889</td>\n",
       "      <td>0.389249</td>\n",
       "      <td>0.794605</td>\n",
       "      <td>0.806394</td>\n",
       "      <td>0.730157</td>\n",
       "      <td>0.44898</td>\n",
       "      <td>0.536585</td>\n",
       "      <td>0.945087</td>\n",
       "      <td>0.923729</td>\n",
       "      <td>22</td>\n",
       "      <td>327</td>\n",
       "      <td>27</td>\n",
       "      <td>19</td>\n",
       "    </tr>\n",
       "  </tbody>\n",
       "</table>\n",
       "</div>"
      ],
      "text/plain": [
       "   F1 score  AP withdrawn  AP approved  AUROC withdrawn  Balanced accuracy  \\\n",
       "0  0.488889      0.389249     0.794605         0.806394           0.730157   \n",
       "\n",
       "   Precision withdrawn  Recall withdrawn  Precision approved  Recall approved  \\\n",
       "0              0.44898          0.536585            0.945087         0.923729   \n",
       "\n",
       "   True positives  True negatives  False positives  False negatives  \n",
       "0              22             327               27               19  "
      ]
     },
     "execution_count": 34,
     "metadata": {},
     "output_type": "execute_result"
    }
   ],
   "source": [
    "results"
   ]
  },
  {
   "cell_type": "code",
   "execution_count": 46,
   "id": "da8b9cf7-065c-4f9a-b25d-9bede893856c",
   "metadata": {},
   "outputs": [
    {
     "data": {
      "text/html": [
       "<div>\n",
       "<style scoped>\n",
       "    .dataframe tbody tr th:only-of-type {\n",
       "        vertical-align: middle;\n",
       "    }\n",
       "\n",
       "    .dataframe tbody tr th {\n",
       "        vertical-align: top;\n",
       "    }\n",
       "\n",
       "    .dataframe thead th {\n",
       "        text-align: right;\n",
       "    }\n",
       "</style>\n",
       "<table border=\"1\" class=\"dataframe\">\n",
       "  <thead>\n",
       "    <tr style=\"text-align: right;\">\n",
       "      <th></th>\n",
       "      <th>CYP2C9_Substrate_CarbonMangels</th>\n",
       "      <th>CYP2D6_Substrate_CarbonMangels</th>\n",
       "      <th>sr-are</th>\n",
       "      <th>CYP3A4_Veith</th>\n",
       "      <th>nr-er-lbd</th>\n",
       "      <th>nr-er</th>\n",
       "      <th>Solubility_AqSolDB</th>\n",
       "      <th>sr-atad5</th>\n",
       "      <th>Caco2_Wang</th>\n",
       "      <th>CYP2D6_Veith</th>\n",
       "      <th>...</th>\n",
       "      <th>CYP2C9_Veith</th>\n",
       "      <th>CYP1A2_Veith</th>\n",
       "      <th>HIA_Hou</th>\n",
       "      <th>nr-ppar-gamma</th>\n",
       "      <th>Clearance_Hepatocyte_AZ</th>\n",
       "      <th>Carcinogens_Languin</th>\n",
       "      <th>nr-aromatase</th>\n",
       "      <th>sr-mmp</th>\n",
       "      <th>sr-p53</th>\n",
       "      <th>predict_withdrawn</th>\n",
       "    </tr>\n",
       "  </thead>\n",
       "  <tbody>\n",
       "    <tr>\n",
       "      <th>0</th>\n",
       "      <td>0.069458</td>\n",
       "      <td>0.004521</td>\n",
       "      <td>0.506577</td>\n",
       "      <td>0.224221</td>\n",
       "      <td>0.0751</td>\n",
       "      <td>0.000071</td>\n",
       "      <td>-2.688965</td>\n",
       "      <td>0.013394</td>\n",
       "      <td>-5.617864</td>\n",
       "      <td>0.001843</td>\n",
       "      <td>...</td>\n",
       "      <td>0.036047</td>\n",
       "      <td>0.006817</td>\n",
       "      <td>0.01352</td>\n",
       "      <td>0.008847</td>\n",
       "      <td>35.181927</td>\n",
       "      <td>0.286017</td>\n",
       "      <td>0.001043</td>\n",
       "      <td>0.000003</td>\n",
       "      <td>0.00995</td>\n",
       "      <td>0.470054</td>\n",
       "    </tr>\n",
       "  </tbody>\n",
       "</table>\n",
       "<p>1 rows × 39 columns</p>\n",
       "</div>"
      ],
      "text/plain": [
       "   CYP2C9_Substrate_CarbonMangels  CYP2D6_Substrate_CarbonMangels    sr-are  \\\n",
       "0                        0.069458                        0.004521  0.506577   \n",
       "\n",
       "   CYP3A4_Veith  nr-er-lbd     nr-er  Solubility_AqSolDB  sr-atad5  \\\n",
       "0      0.224221     0.0751  0.000071           -2.688965  0.013394   \n",
       "\n",
       "   Caco2_Wang  CYP2D6_Veith  ...  CYP2C9_Veith  CYP1A2_Veith  HIA_Hou  \\\n",
       "0   -5.617864      0.001843  ...      0.036047      0.006817  0.01352   \n",
       "\n",
       "   nr-ppar-gamma  Clearance_Hepatocyte_AZ  Carcinogens_Languin  nr-aromatase  \\\n",
       "0       0.008847                35.181927             0.286017      0.001043   \n",
       "\n",
       "     sr-mmp   sr-p53  predict_withdrawn  \n",
       "0  0.000003  0.00995           0.470054  \n",
       "\n",
       "[1 rows x 39 columns]"
      ]
     },
     "execution_count": 46,
     "metadata": {},
     "output_type": "execute_result"
    }
   ],
   "source": [
    "pd.DataFrame(X_test.iloc[0]).transpose()"
   ]
  },
  {
   "cell_type": "code",
   "execution_count": 47,
   "id": "66be1988-2891-441f-8f0f-32c34c8ef4c2",
   "metadata": {},
   "outputs": [],
   "source": [
    "shap_values = explainer(pd.DataFrame(X_test.iloc[0]).transpose())"
   ]
  },
  {
   "cell_type": "code",
   "execution_count": 52,
   "id": "4e2c16eb-7e0b-412f-a4c1-4c275054a525",
   "metadata": {},
   "outputs": [
    {
     "ename": "AttributeError",
     "evalue": "'Tree' object has no attribute 'base'",
     "output_type": "error",
     "traceback": [
      "\u001b[0;31m---------------------------------------------------------------------------\u001b[0m",
      "\u001b[0;31mAttributeError\u001b[0m                            Traceback (most recent call last)",
      "\u001b[0;32m<ipython-input-52-120bca46c926>\u001b[0m in \u001b[0;36m<module>\u001b[0;34m\u001b[0m\n\u001b[0;32m----> 1\u001b[0;31m \u001b[0mexplainer\u001b[0m\u001b[0;34m.\u001b[0m\u001b[0mbase\u001b[0m\u001b[0;34m\u001b[0m\u001b[0;34m\u001b[0m\u001b[0m\n\u001b[0m",
      "\u001b[0;31mAttributeError\u001b[0m: 'Tree' object has no attribute 'base'"
     ]
    }
   ],
   "source": []
  },
  {
   "cell_type": "code",
   "execution_count": 48,
   "id": "a824079b-5ab5-4ca4-86f2-18539021ba92",
   "metadata": {},
   "outputs": [
    {
     "data": {
      "text/plain": [
       ".values =\n",
       "array([[ 0.14079896, -0.03406885, -0.1329313 , -0.08487384, -0.03467364,\n",
       "        -0.37373567,  0.05098419,  0.1273895 ,  0.16156864,  0.00224801,\n",
       "         0.09745535, -0.30472565,  0.01515849, -0.02832849,  0.03659619,\n",
       "        -0.02044659, -0.18599467, -0.20645829,  0.06023289,  0.30288374,\n",
       "        -0.31204173,  0.03588797,  0.02517371, -0.3674089 , -0.11305201,\n",
       "        -0.0098564 , -0.02889552, -0.01797869, -0.00969102,  0.08541779,\n",
       "        -0.02005842, -0.30482754, -0.28543657,  0.04716998, -0.03427696,\n",
       "         0.00729414, -0.33696723, -0.17669038, -0.00174403]],\n",
       "      dtype=float32)\n",
       "\n",
       ".base_values =\n",
       "array([0.14568608], dtype=float32)\n",
       "\n",
       ".data =\n",
       "array([[ 6.94579000e-02,  4.52056100e-03,  5.06576540e-01,\n",
       "         2.24221140e-01,  7.51004740e-02,  7.07113200e-05,\n",
       "        -2.68896500e+00,  1.33937190e-02, -5.61786370e+00,\n",
       "         1.84287150e-03,  3.97796400e-01,  7.40116500e+01,\n",
       "         2.41917650e-01,  9.87183600e-03,  5.11555300e-06,\n",
       "         1.10429930e+00,  2.46580660e-01, -1.39071290e+00,\n",
       "         3.72322560e+00,  1.41595210e-02,  1.01606030e-01,\n",
       "         1.07153915e-02,  9.66570800e-01,  1.92101200e-03,\n",
       "         1.56737430e-01,  2.05459480e-01,  2.05942700e-01,\n",
       "         8.73944700e+00,  6.28624300e-03,  3.60466800e-02,\n",
       "         6.81694550e-03,  1.35196020e-02,  8.84745100e-03,\n",
       "         3.51819270e+01,  2.86017100e-01,  1.04264670e-03,\n",
       "         2.74260760e-06,  9.95011200e-03,  4.70053600e-01]])"
      ]
     },
     "execution_count": 48,
     "metadata": {},
     "output_type": "execute_result"
    }
   ],
   "source": [
    "shap_values"
   ]
  },
  {
   "cell_type": "code",
   "execution_count": 54,
   "id": "8b8b9a55-c22b-4d91-9762-d02e3aae9c65",
   "metadata": {},
   "outputs": [],
   "source": [
    "import seaborn as sns"
   ]
  },
  {
   "cell_type": "code",
   "execution_count": 72,
   "id": "2ffbfc8f-7deb-4b32-b6fc-1cf858ef62b2",
   "metadata": {},
   "outputs": [
    {
     "data": {
      "text/plain": [
       "array([[ 0.14079896, -0.03406885, -0.1329313 , -0.08487384, -0.03467364]],\n",
       "      dtype=float32)"
      ]
     },
     "execution_count": 72,
     "metadata": {},
     "output_type": "execute_result"
    }
   ],
   "source": [
    "shap_values.values[:, :5]"
   ]
  },
  {
   "cell_type": "code",
   "execution_count": 223,
   "id": "114828e7-df8e-439b-9995-888fe9ca39bd",
   "metadata": {},
   "outputs": [
    {
     "data": {
      "text/html": [
       "<div>\n",
       "<style scoped>\n",
       "    .dataframe tbody tr th:only-of-type {\n",
       "        vertical-align: middle;\n",
       "    }\n",
       "\n",
       "    .dataframe tbody tr th {\n",
       "        vertical-align: top;\n",
       "    }\n",
       "\n",
       "    .dataframe thead th {\n",
       "        text-align: right;\n",
       "    }\n",
       "</style>\n",
       "<table border=\"1\" class=\"dataframe\">\n",
       "  <thead>\n",
       "    <tr style=\"text-align: right;\">\n",
       "      <th></th>\n",
       "      <th>index</th>\n",
       "      <th>0</th>\n",
       "      <th>1</th>\n",
       "      <th>2</th>\n",
       "      <th>3</th>\n",
       "      <th>4</th>\n",
       "      <th>5</th>\n",
       "      <th>6</th>\n",
       "      <th>7</th>\n",
       "      <th>8</th>\n",
       "      <th>...</th>\n",
       "      <th>385</th>\n",
       "      <th>386</th>\n",
       "      <th>387</th>\n",
       "      <th>388</th>\n",
       "      <th>389</th>\n",
       "      <th>390</th>\n",
       "      <th>391</th>\n",
       "      <th>392</th>\n",
       "      <th>393</th>\n",
       "      <th>394</th>\n",
       "    </tr>\n",
       "  </thead>\n",
       "  <tbody>\n",
       "    <tr>\n",
       "      <th>0</th>\n",
       "      <td>CYP2C9_Substrate_CarbonMangels</td>\n",
       "      <td>0.140799</td>\n",
       "      <td>-0.046508</td>\n",
       "      <td>-0.146208</td>\n",
       "      <td>0.228336</td>\n",
       "      <td>-0.283075</td>\n",
       "      <td>-0.097380</td>\n",
       "      <td>-0.170055</td>\n",
       "      <td>-0.258452</td>\n",
       "      <td>0.174209</td>\n",
       "      <td>...</td>\n",
       "      <td>-0.012623</td>\n",
       "      <td>-0.064978</td>\n",
       "      <td>-0.108662</td>\n",
       "      <td>0.264944</td>\n",
       "      <td>-0.092699</td>\n",
       "      <td>-0.312441</td>\n",
       "      <td>-0.047134</td>\n",
       "      <td>-0.027074</td>\n",
       "      <td>0.013138</td>\n",
       "      <td>0.045320</td>\n",
       "    </tr>\n",
       "    <tr>\n",
       "      <th>1</th>\n",
       "      <td>CYP2D6_Substrate_CarbonMangels</td>\n",
       "      <td>-0.034069</td>\n",
       "      <td>0.016314</td>\n",
       "      <td>0.007724</td>\n",
       "      <td>-0.005670</td>\n",
       "      <td>0.025394</td>\n",
       "      <td>-0.004332</td>\n",
       "      <td>0.002849</td>\n",
       "      <td>0.005850</td>\n",
       "      <td>-0.012732</td>\n",
       "      <td>...</td>\n",
       "      <td>0.002480</td>\n",
       "      <td>-0.017593</td>\n",
       "      <td>0.016510</td>\n",
       "      <td>0.009448</td>\n",
       "      <td>0.015386</td>\n",
       "      <td>0.002336</td>\n",
       "      <td>0.014277</td>\n",
       "      <td>-0.038484</td>\n",
       "      <td>-0.002960</td>\n",
       "      <td>0.004089</td>\n",
       "    </tr>\n",
       "    <tr>\n",
       "      <th>2</th>\n",
       "      <td>sr-are</td>\n",
       "      <td>-0.132931</td>\n",
       "      <td>-0.118610</td>\n",
       "      <td>-0.165350</td>\n",
       "      <td>0.065518</td>\n",
       "      <td>-0.079473</td>\n",
       "      <td>-0.085480</td>\n",
       "      <td>-0.019242</td>\n",
       "      <td>-0.045149</td>\n",
       "      <td>-0.071835</td>\n",
       "      <td>...</td>\n",
       "      <td>0.073621</td>\n",
       "      <td>-0.085613</td>\n",
       "      <td>-0.068513</td>\n",
       "      <td>-0.106870</td>\n",
       "      <td>-0.045186</td>\n",
       "      <td>-0.090290</td>\n",
       "      <td>-0.000400</td>\n",
       "      <td>-0.130050</td>\n",
       "      <td>0.162986</td>\n",
       "      <td>0.273678</td>\n",
       "    </tr>\n",
       "    <tr>\n",
       "      <th>3</th>\n",
       "      <td>CYP3A4_Veith</td>\n",
       "      <td>-0.084874</td>\n",
       "      <td>-0.025734</td>\n",
       "      <td>0.124890</td>\n",
       "      <td>-0.024047</td>\n",
       "      <td>-0.058583</td>\n",
       "      <td>-0.065799</td>\n",
       "      <td>-0.101873</td>\n",
       "      <td>-0.074767</td>\n",
       "      <td>-0.032110</td>\n",
       "      <td>...</td>\n",
       "      <td>-0.112895</td>\n",
       "      <td>-0.046872</td>\n",
       "      <td>0.008964</td>\n",
       "      <td>0.030448</td>\n",
       "      <td>-0.030846</td>\n",
       "      <td>0.047032</td>\n",
       "      <td>-0.046983</td>\n",
       "      <td>0.034936</td>\n",
       "      <td>-0.023365</td>\n",
       "      <td>-0.039875</td>\n",
       "    </tr>\n",
       "    <tr>\n",
       "      <th>4</th>\n",
       "      <td>nr-er-lbd</td>\n",
       "      <td>-0.034674</td>\n",
       "      <td>0.020215</td>\n",
       "      <td>0.001993</td>\n",
       "      <td>-0.067147</td>\n",
       "      <td>0.016179</td>\n",
       "      <td>0.056575</td>\n",
       "      <td>0.006169</td>\n",
       "      <td>-0.087414</td>\n",
       "      <td>0.048805</td>\n",
       "      <td>...</td>\n",
       "      <td>-0.055399</td>\n",
       "      <td>-0.038269</td>\n",
       "      <td>0.054525</td>\n",
       "      <td>-0.047861</td>\n",
       "      <td>-0.036698</td>\n",
       "      <td>-0.161187</td>\n",
       "      <td>0.036251</td>\n",
       "      <td>0.015349</td>\n",
       "      <td>-0.027335</td>\n",
       "      <td>-0.002174</td>\n",
       "    </tr>\n",
       "  </tbody>\n",
       "</table>\n",
       "<p>5 rows × 396 columns</p>\n",
       "</div>"
      ],
      "text/plain": [
       "                            index         0         1         2         3  \\\n",
       "0  CYP2C9_Substrate_CarbonMangels  0.140799 -0.046508 -0.146208  0.228336   \n",
       "1  CYP2D6_Substrate_CarbonMangels -0.034069  0.016314  0.007724 -0.005670   \n",
       "2                          sr-are -0.132931 -0.118610 -0.165350  0.065518   \n",
       "3                    CYP3A4_Veith -0.084874 -0.025734  0.124890 -0.024047   \n",
       "4                       nr-er-lbd -0.034674  0.020215  0.001993 -0.067147   \n",
       "\n",
       "          4         5         6         7         8  ...       385       386  \\\n",
       "0 -0.283075 -0.097380 -0.170055 -0.258452  0.174209  ... -0.012623 -0.064978   \n",
       "1  0.025394 -0.004332  0.002849  0.005850 -0.012732  ...  0.002480 -0.017593   \n",
       "2 -0.079473 -0.085480 -0.019242 -0.045149 -0.071835  ...  0.073621 -0.085613   \n",
       "3 -0.058583 -0.065799 -0.101873 -0.074767 -0.032110  ... -0.112895 -0.046872   \n",
       "4  0.016179  0.056575  0.006169 -0.087414  0.048805  ... -0.055399 -0.038269   \n",
       "\n",
       "        387       388       389       390       391       392       393  \\\n",
       "0 -0.108662  0.264944 -0.092699 -0.312441 -0.047134 -0.027074  0.013138   \n",
       "1  0.016510  0.009448  0.015386  0.002336  0.014277 -0.038484 -0.002960   \n",
       "2 -0.068513 -0.106870 -0.045186 -0.090290 -0.000400 -0.130050  0.162986   \n",
       "3  0.008964  0.030448 -0.030846  0.047032 -0.046983  0.034936 -0.023365   \n",
       "4  0.054525 -0.047861 -0.036698 -0.161187  0.036251  0.015349 -0.027335   \n",
       "\n",
       "        394  \n",
       "0  0.045320  \n",
       "1  0.004089  \n",
       "2  0.273678  \n",
       "3 -0.039875  \n",
       "4 -0.002174  \n",
       "\n",
       "[5 rows x 396 columns]"
      ]
     },
     "execution_count": 223,
     "metadata": {},
     "output_type": "execute_result"
    }
   ],
   "source": [
    "plot_values = pd.DataFrame(columns=X_test.columns[:5], data=shap_values.values[:, :5]).transpose().reset_index()\n",
    "plot_values"
   ]
  },
  {
   "cell_type": "code",
   "execution_count": null,
   "id": "b0aeb98b-2130-4734-b97d-961873ace678",
   "metadata": {},
   "outputs": [],
   "source": [
    "plo"
   ]
  },
  {
   "cell_type": "code",
   "execution_count": 100,
   "id": "b51a516a-925c-4f15-8e23-317172ac1d22",
   "metadata": {},
   "outputs": [],
   "source": [
    "series = plot_values[0]\n",
    "color = (series > 0).apply(lambda x: [225, 42, 42] if x else [0, 128, 55])"
   ]
  },
  {
   "cell_type": "code",
   "execution_count": null,
   "id": "a128d2de-57ad-4b74-a659-81678becc470",
   "metadata": {},
   "outputs": [],
   "source": [
    "px = 1 / plt.rcParams['figure.dpi']\n",
    "fig, ax = plt.subplots(figsize=(300*px, 500*px))\n",
    "ax = sns.barplot(data=plot_values, x=0, y='index')\n",
    "ax.set_xlabel(\"SHAP value\")\n",
    "ax.set_ylabel(\"\")\n",
    "\n",
    "for rect in ax.patches:\n",
    "    if rect.get_width() < 0:\n",
    "        rect.set_color(\"#1E90FF\") \n",
    "    else:\n",
    "        rect.set_color(\"#DC143C\")\n",
    "ax.set_box_aspect(3/len(ax.patches))"
   ]
  },
  {
   "cell_type": "code",
   "execution_count": 326,
   "id": "20e6d368-b452-4707-88fa-94c99304c7cd",
   "metadata": {},
   "outputs": [
    {
     "ename": "AttributeError",
     "evalue": "module 'matplotlib.pyplot' has no attribute 'bar_label'",
     "output_type": "error",
     "traceback": [
      "\u001b[0;31m---------------------------------------------------------------------------\u001b[0m",
      "\u001b[0;31mAttributeError\u001b[0m                            Traceback (most recent call last)",
      "\u001b[0;32m<ipython-input-326-3449e0980374>\u001b[0m in \u001b[0;36m<module>\u001b[0;34m\u001b[0m\n\u001b[0;32m----> 1\u001b[0;31m \u001b[0mplt\u001b[0m\u001b[0;34m.\u001b[0m\u001b[0mbar_label\u001b[0m\u001b[0;34m(\u001b[0m\u001b[0max\u001b[0m\u001b[0;34m.\u001b[0m\u001b[0mcontainers\u001b[0m\u001b[0;34m[\u001b[0m\u001b[0;36m0\u001b[0m\u001b[0;34m]\u001b[0m\u001b[0;34m,\u001b[0m \u001b[0msize\u001b[0m\u001b[0;34m=\u001b[0m\u001b[0;36m16\u001b[0m\u001b[0;34m)\u001b[0m\u001b[0;34m\u001b[0m\u001b[0;34m\u001b[0m\u001b[0m\n\u001b[0m",
      "\u001b[0;31mAttributeError\u001b[0m: module 'matplotlib.pyplot' has no attribute 'bar_label'"
     ]
    }
   ],
   "source": [
    "plt.bar_label(ax.containers[0], size=16)"
   ]
  },
  {
   "cell_type": "code",
   "execution_count": 176,
   "id": "24fc9103-2c0d-441c-aba4-dfc4a9ed9d55",
   "metadata": {},
   "outputs": [
    {
     "data": {
      "text/plain": [
       "array([ 0.14079896, -0.03406885, -0.1329313 , -0.08487384, -0.03467364,\n",
       "       -0.37373567,  0.05098419,  0.1273895 ,  0.16156864,  0.00224801,\n",
       "        0.09745535, -0.30472565,  0.01515849, -0.02832849,  0.03659619,\n",
       "       -0.02044659, -0.18599467, -0.20645829,  0.06023289,  0.30288374,\n",
       "       -0.31204173,  0.03588797,  0.02517371, -0.3674089 , -0.11305201,\n",
       "       -0.0098564 , -0.02889552, -0.01797869, -0.00969102,  0.08541779,\n",
       "       -0.02005842, -0.30482754, -0.28543657,  0.04716998, -0.03427696,\n",
       "        0.00729414, -0.33696723, -0.17669038, -0.00174403], dtype=float32)"
      ]
     },
     "execution_count": 176,
     "metadata": {},
     "output_type": "execute_result"
    }
   ],
   "source": [
    "shap_values[0].values"
   ]
  },
  {
   "cell_type": "code",
   "execution_count": 1,
   "id": "62595ef1-4e39-48d1-8c8f-c9fa54be992d",
   "metadata": {},
   "outputs": [],
   "source": [
    "from tdc.single_pred import ADME"
   ]
  },
  {
   "cell_type": "code",
   "execution_count": 24,
   "id": "df20f419-3984-4ac2-8945-961b84e7dea8",
   "metadata": {},
   "outputs": [
    {
     "name": "stderr",
     "output_type": "stream",
     "text": [
      "Found local copy...\n",
      "Loading...\n",
      "Done!\n"
     ]
    }
   ],
   "source": [
    "data = ADME(name = 'Bioavailability_Ma')"
   ]
  },
  {
   "cell_type": "code",
   "execution_count": 20,
   "id": "1eed732c-ad15-4a10-b4ec-b847c8c585bf",
   "metadata": {},
   "outputs": [
    {
     "data": {
      "text/plain": [
       "<tdc.single_pred.dataloader.ADME at 0x7fe56635b518>"
      ]
     },
     "execution_count": 20,
     "metadata": {},
     "output_type": "execute_result"
    }
   ],
   "source": [
    "data"
   ]
  },
  {
   "cell_type": "code",
   "execution_count": 17,
   "id": "4e04f10d-3b87-4510-9e41-c916a2cd2879",
   "metadata": {},
   "outputs": [
    {
     "ename": "AttributeError",
     "evalue": "'ADME' object has no attribute 'target'",
     "output_type": "error",
     "traceback": [
      "\u001b[0;31m---------------------------------------------------------------------------\u001b[0m",
      "\u001b[0;31mAttributeError\u001b[0m                            Traceback (most recent call last)",
      "\u001b[0;32m<ipython-input-17-a7930c96b1f9>\u001b[0m in \u001b[0;36m<module>\u001b[0;34m\u001b[0m\n\u001b[0;32m----> 1\u001b[0;31m \u001b[0mdata\u001b[0m\u001b[0;34m.\u001b[0m\u001b[0mget_label_meaning\u001b[0m\u001b[0;34m(\u001b[0m\u001b[0;34m)\u001b[0m\u001b[0;34m\u001b[0m\u001b[0;34m\u001b[0m\u001b[0m\n\u001b[0m",
      "\u001b[0;32m~/anaconda3/envs/withdrawn/lib/python3.6/site-packages/tdc/base_dataset.py\u001b[0m in \u001b[0;36mget_label_meaning\u001b[0;34m(self, output_format)\u001b[0m\n\u001b[1;32m    102\u001b[0m \u001b[0;34m\u001b[0m\u001b[0m\n\u001b[1;32m    103\u001b[0m     \u001b[0;32mdef\u001b[0m \u001b[0mget_label_meaning\u001b[0m\u001b[0;34m(\u001b[0m\u001b[0mself\u001b[0m\u001b[0;34m,\u001b[0m \u001b[0moutput_format\u001b[0m\u001b[0;34m=\u001b[0m\u001b[0;34m'dict'\u001b[0m\u001b[0;34m)\u001b[0m\u001b[0;34m:\u001b[0m\u001b[0;34m\u001b[0m\u001b[0;34m\u001b[0m\u001b[0m\n\u001b[0;32m--> 104\u001b[0;31m         return utils.get_label_map(self.name, self.path, self.target,\n\u001b[0m\u001b[1;32m    105\u001b[0m                                    \u001b[0mfile_format\u001b[0m\u001b[0;34m=\u001b[0m\u001b[0mself\u001b[0m\u001b[0;34m.\u001b[0m\u001b[0mfile_format\u001b[0m\u001b[0;34m,\u001b[0m\u001b[0;34m\u001b[0m\u001b[0;34m\u001b[0m\u001b[0m\n\u001b[1;32m    106\u001b[0m                                    output_format=output_format)\n",
      "\u001b[0;31mAttributeError\u001b[0m: 'ADME' object has no attribute 'target'"
     ]
    }
   ],
   "source": [
    "data.get_label_meaning()"
   ]
  },
  {
   "cell_type": "code",
   "execution_count": 25,
   "id": "6dce69d9-69d1-4539-9d38-3733a7e6ca74",
   "metadata": {},
   "outputs": [
    {
     "name": "stderr",
     "output_type": "stream",
     "text": [
      "['drugbank', 'twosides']\n"
     ]
    },
    {
     "ename": "ValueError",
     "evalue": "('bioavailability_ma', 'does not match to available values. Please double check.')",
     "output_type": "error",
     "traceback": [
      "\u001b[0;31m---------------------------------------------------------------------------\u001b[0m",
      "\u001b[0;31mValueError\u001b[0m                                Traceback (most recent call last)",
      "\u001b[0;32m<ipython-input-25-d108495f904d>\u001b[0m in \u001b[0;36m<module>\u001b[0;34m\u001b[0m\n\u001b[1;32m      1\u001b[0m \u001b[0;32mfrom\u001b[0m \u001b[0mtdc\u001b[0m\u001b[0;34m.\u001b[0m\u001b[0mutils\u001b[0m \u001b[0;32mimport\u001b[0m \u001b[0mget_label_map\u001b[0m\u001b[0;34m\u001b[0m\u001b[0;34m\u001b[0m\u001b[0m\n\u001b[0;32m----> 2\u001b[0;31m \u001b[0mget_label_map\u001b[0m\u001b[0;34m(\u001b[0m\u001b[0mname\u001b[0m \u001b[0;34m=\u001b[0m \u001b[0;34m'Bioavailability_Ma'\u001b[0m\u001b[0;34m,\u001b[0m \u001b[0moutput_format\u001b[0m \u001b[0;34m=\u001b[0m \u001b[0;34m'df'\u001b[0m\u001b[0;34m)\u001b[0m\u001b[0;34m\u001b[0m\u001b[0;34m\u001b[0m\u001b[0m\n\u001b[0m",
      "\u001b[0;32m~/anaconda3/envs/withdrawn/lib/python3.6/site-packages/tdc/utils.py\u001b[0m in \u001b[0;36mget_label_map\u001b[0;34m(name, path, target, file_format, output_format, task)\u001b[0m\n\u001b[1;32m    232\u001b[0m \u001b[0;34m\u001b[0m\u001b[0m\n\u001b[1;32m    233\u001b[0m \u001b[0;32mdef\u001b[0m \u001b[0mget_label_map\u001b[0m\u001b[0;34m(\u001b[0m\u001b[0mname\u001b[0m\u001b[0;34m,\u001b[0m \u001b[0mpath\u001b[0m \u001b[0;34m=\u001b[0m \u001b[0;34m'./data'\u001b[0m\u001b[0;34m,\u001b[0m \u001b[0mtarget\u001b[0m \u001b[0;34m=\u001b[0m \u001b[0;32mNone\u001b[0m\u001b[0;34m,\u001b[0m \u001b[0mfile_format\u001b[0m \u001b[0;34m=\u001b[0m \u001b[0;34m'csv'\u001b[0m\u001b[0;34m,\u001b[0m \u001b[0moutput_format\u001b[0m \u001b[0;34m=\u001b[0m \u001b[0;34m'dict'\u001b[0m\u001b[0;34m,\u001b[0m \u001b[0mtask\u001b[0m \u001b[0;34m=\u001b[0m \u001b[0;34m'DDI'\u001b[0m\u001b[0;34m)\u001b[0m\u001b[0;34m:\u001b[0m\u001b[0;34m\u001b[0m\u001b[0;34m\u001b[0m\u001b[0m\n\u001b[0;32m--> 234\u001b[0;31m         \u001b[0mname\u001b[0m \u001b[0;34m=\u001b[0m \u001b[0mfuzzy_search\u001b[0m\u001b[0;34m(\u001b[0m\u001b[0mname\u001b[0m\u001b[0;34m,\u001b[0m \u001b[0mdataset_names\u001b[0m\u001b[0;34m[\u001b[0m\u001b[0mtask\u001b[0m\u001b[0;34m]\u001b[0m\u001b[0;34m)\u001b[0m\u001b[0;34m\u001b[0m\u001b[0;34m\u001b[0m\u001b[0m\n\u001b[0m\u001b[1;32m    235\u001b[0m         \u001b[0;32mif\u001b[0m \u001b[0mtarget\u001b[0m \u001b[0;32mis\u001b[0m \u001b[0;32mNone\u001b[0m\u001b[0;34m:\u001b[0m\u001b[0;34m\u001b[0m\u001b[0;34m\u001b[0m\u001b[0m\n\u001b[1;32m    236\u001b[0m                 \u001b[0mtarget\u001b[0m \u001b[0;34m=\u001b[0m \u001b[0;34m'Y'\u001b[0m\u001b[0;34m\u001b[0m\u001b[0;34m\u001b[0m\u001b[0m\n",
      "\u001b[0;32m~/anaconda3/envs/withdrawn/lib/python3.6/site-packages/tdc/utils.py\u001b[0m in \u001b[0;36mfuzzy_search\u001b[0;34m(name, dataset_names)\u001b[0m\n\u001b[1;32m     35\u001b[0m         \u001b[0;32melse\u001b[0m\u001b[0;34m:\u001b[0m\u001b[0;34m\u001b[0m\u001b[0;34m\u001b[0m\u001b[0m\n\u001b[1;32m     36\u001b[0m                 \u001b[0;31m# print(\"========fuzzysearch=======\", dataset_names, name)\u001b[0m\u001b[0;34m\u001b[0m\u001b[0;34m\u001b[0m\u001b[0;34m\u001b[0m\u001b[0m\n\u001b[0;32m---> 37\u001b[0;31m                 \u001b[0ms\u001b[0m \u001b[0;34m=\u001b[0m  \u001b[0mget_closet_match\u001b[0m\u001b[0;34m(\u001b[0m\u001b[0mdataset_names\u001b[0m\u001b[0;34m,\u001b[0m \u001b[0mname\u001b[0m\u001b[0;34m)\u001b[0m\u001b[0;34m[\u001b[0m\u001b[0;36m0\u001b[0m\u001b[0;34m]\u001b[0m\u001b[0;34m\u001b[0m\u001b[0;34m\u001b[0m\u001b[0m\n\u001b[0m\u001b[1;32m     38\u001b[0m         \u001b[0;32mif\u001b[0m \u001b[0ms\u001b[0m \u001b[0;32min\u001b[0m \u001b[0mdataset_names\u001b[0m\u001b[0;34m:\u001b[0m\u001b[0;34m\u001b[0m\u001b[0;34m\u001b[0m\u001b[0m\n\u001b[1;32m     39\u001b[0m                 \u001b[0;32mreturn\u001b[0m \u001b[0ms\u001b[0m\u001b[0;34m\u001b[0m\u001b[0;34m\u001b[0m\u001b[0m\n",
      "\u001b[0;32m~/anaconda3/envs/withdrawn/lib/python3.6/site-packages/tdc/utils.py\u001b[0m in \u001b[0;36mget_closet_match\u001b[0;34m(predefined_tokens, test_token, threshold)\u001b[0m\n\u001b[1;32m    733\u001b[0m                 \u001b[0mprint_sys\u001b[0m\u001b[0;34m(\u001b[0m\u001b[0mpredefined_tokens\u001b[0m\u001b[0;34m)\u001b[0m\u001b[0;34m\u001b[0m\u001b[0;34m\u001b[0m\u001b[0m\n\u001b[1;32m    734\u001b[0m \t\traise ValueError(test_token,\n\u001b[0;32m--> 735\u001b[0;31m                                                  \u001b[0;34m\"does not match to available values. \"\u001b[0m\u001b[0;34m\u001b[0m\u001b[0;34m\u001b[0m\u001b[0m\n\u001b[0m\u001b[1;32m    736\u001b[0m \t\t\t\t\t\t \"Please double check.\")\n\u001b[1;32m    737\u001b[0m         \u001b[0;32mreturn\u001b[0m \u001b[0mtoken_max\u001b[0m\u001b[0;34m,\u001b[0m \u001b[0mprob_max\u001b[0m \u001b[0;34m/\u001b[0m \u001b[0;36m100\u001b[0m\u001b[0;34m\u001b[0m\u001b[0;34m\u001b[0m\u001b[0m\n",
      "\u001b[0;31mValueError\u001b[0m: ('bioavailability_ma', 'does not match to available values. Please double check.')"
     ]
    }
   ],
   "source": [
    "from tdc.utils import get_label_map\n",
    "get_label_map(name = 'Bioavailability_Ma', output_format = 'df')"
   ]
  },
  {
   "cell_type": "code",
   "execution_count": 191,
   "id": "5a98b4b2-80c7-4881-954f-0c98b91ab363",
   "metadata": {},
   "outputs": [
    {
     "data": {
      "image/png": "[encoded data removed]",
      "text/plain": [
       "<Figure size 576x468 with 3 Axes>"
      ]
     },
     "metadata": {},
     "output_type": "display_data"
    },
    {
     "data": {
      "text/plain": [
       "<Figure size 216x288 with 0 Axes>"
      ]
     },
     "metadata": {},
     "output_type": "display_data"
    }
   ],
   "source": [
    "shap_plot = shap.plots._waterfall.waterfall_legacy(\n",
    "    explainer.expected_value,\n",
    "    shap_values[0].values,\n",
    "    X_test.iloc[0]\n",
    ")\n",
    "ax = plt.gcf().set_size_inches((3, 4))"
   ]
  },
  {
   "cell_type": "code",
   "execution_count": null,
   "id": "27dee230-2a1d-435b-af5b-90e7637de82b",
   "metadata": {},
   "outputs": [],
   "source": []
  },
  {
   "cell_type": "code",
   "execution_count": 150,
   "id": "c0f60f4c-0803-4299-a49f-eb5c791a1d68",
   "metadata": {},
   "outputs": [
    {
     "name": "stdout",
     "output_type": "stream",
     "text": [
      "0.14079895615577698\n",
      "-0.03406885266304016\n",
      "-0.13293130695819855\n",
      "-0.08487384021282196\n",
      "-0.03467364236712456\n"
     ]
    }
   ],
   "source": [
    "for bar in ax.patches:\n",
    "    print(bar.get_width())"
   ]
  },
  {
   "cell_type": "markdown",
   "id": "2ff81f06-1883-4712-96cc-005ecc3657e9",
   "metadata": {},
   "source": [
    "## Višnja ADME"
   ]
  },
  {
   "cell_type": "code",
   "execution_count": 406,
   "id": "be45f9e1-4501-434f-b468-8fa910a2a156",
   "metadata": {},
   "outputs": [],
   "source": [
    "train = pd.read_csv('/home/dionizije/Documents/drug_attrition_oracle/data/processing_pipeline/TDC_predictions/train_subtasks_predictions.csv', index_col=0)\n",
    "test = pd.read_csv('/home/dionizije/Documents/drug_attrition_oracle/data/processing_pipeline/TDC_predictions/test_subtasks_predictions.csv', index_col=0)"
   ]
  },
  {
   "cell_type": "code",
   "execution_count": 413,
   "id": "368d57a4-8ba5-4b4d-90db-e61bc06e3aee",
   "metadata": {},
   "outputs": [],
   "source": [
    "tox = pd.read_csv('/home/dionizije/Downloads/MasterDB_20Sep2021_ADMEPPredictor_Tox.csv', index_col=0)\n",
    "adme_phys = pd.read_csv('/home/dionizije/Downloads/MasterDB_20Sep2021_ADMEPPredictor_PhysChem.csv', index_col=0)\n",
    "rdkit = pd.read_csv(\"/home/dionizije/Documents/drug_attrition_oracle/data/processing_pipeline/descriptors/rdkit_descriptors.csv\")\n",
    "japtox = pd.read_csv(\"/home/dionizije/Documents/drug_attrition_oracle/data/processing_pipeline/descriptors/ADME-JapTox-RDKIT.csv\").iloc[:, :34]\n",
    "toxprint = pd.read_csv(\"/home/dionizije/Documents/drug_attrition_oracle/data/processing_pipeline/descriptors/toxprint_descriptors.csv\")"
   ]
  },
  {
   "cell_type": "code",
   "execution_count": 414,
   "id": "230a9b92-2dcf-4fed-b1f4-39c606eb304d",
   "metadata": {},
   "outputs": [],
   "source": [
    "toxprint_list = [\"chain:alkaneBranch_neopentyl_C5\",\n",
    "    \"bond:C(=O)N_carbamate_thio_generic\",\n",
    "    \"chain:aromaticAlkene_Ph-C4_phenylbutadiene\",\n",
    "    \"chain:aromaticAlkane_Ph-C1_acyclic_generic\",\n",
    "    \"ring:aromatic_benzene\",\n",
    "    \"bond:COH_alcohol_aliphatic_generic\",\n",
    "    \"bond:COH_alcohol_sec-alkyl\",\n",
    "    \"ring:aromatic_phenyl\",\n",
    "    \"bond:C(=O)N_carboxamide_(NHR)\",\n",
    "    \"group:aminoAcid_aminoAcid_generic\",\n",
    "    \"chain:aromaticAlkane_Ph-C1-Ph\",\n",
    "    \"bond:C=O_carbonyl_ab-unsaturated_generic\",\n",
    "    \"chain:alkaneCyclic_ethyl_C2_(connect_noZ)\",\n",
    "    \"bond:CC(=O)C_ketone_aliphatic_acyclic\",\n",
    "    \"chain:aromaticAlkane_Ar-C-Ar\",\n",
    "    \"bond:CC(=O)C_ketone_generic\",\n",
    "    \"chembl_id\"]\n",
    "toxprint = toxprint[toxprint_list]"
   ]
  },
  {
   "cell_type": "code",
   "execution_count": 415,
   "id": "b7d1bbba-836d-4c44-978d-aa80cc43904b",
   "metadata": {},
   "outputs": [
    {
     "data": {
      "text/html": [
       "<div>\n",
       "<style scoped>\n",
       "    .dataframe tbody tr th:only-of-type {\n",
       "        vertical-align: middle;\n",
       "    }\n",
       "\n",
       "    .dataframe tbody tr th {\n",
       "        vertical-align: top;\n",
       "    }\n",
       "\n",
       "    .dataframe thead th {\n",
       "        text-align: right;\n",
       "    }\n",
       "</style>\n",
       "<table border=\"1\" class=\"dataframe\">\n",
       "  <thead>\n",
       "    <tr style=\"text-align: right;\">\n",
       "      <th></th>\n",
       "      <th>chain:alkaneBranch_neopentyl_C5</th>\n",
       "      <th>bond:C(=O)N_carbamate_thio_generic</th>\n",
       "      <th>chain:aromaticAlkene_Ph-C4_phenylbutadiene</th>\n",
       "      <th>chain:aromaticAlkane_Ph-C1_acyclic_generic</th>\n",
       "      <th>ring:aromatic_benzene</th>\n",
       "      <th>bond:COH_alcohol_aliphatic_generic</th>\n",
       "      <th>bond:COH_alcohol_sec-alkyl</th>\n",
       "      <th>ring:aromatic_phenyl</th>\n",
       "      <th>bond:C(=O)N_carboxamide_(NHR)</th>\n",
       "      <th>group:aminoAcid_aminoAcid_generic</th>\n",
       "      <th>chain:aromaticAlkane_Ph-C1-Ph</th>\n",
       "      <th>bond:C=O_carbonyl_ab-unsaturated_generic</th>\n",
       "      <th>chain:alkaneCyclic_ethyl_C2_(connect_noZ)</th>\n",
       "      <th>bond:CC(=O)C_ketone_aliphatic_acyclic</th>\n",
       "      <th>chain:aromaticAlkane_Ar-C-Ar</th>\n",
       "      <th>bond:CC(=O)C_ketone_generic</th>\n",
       "      <th>chembl_id</th>\n",
       "    </tr>\n",
       "  </thead>\n",
       "  <tbody>\n",
       "    <tr>\n",
       "      <th>0</th>\n",
       "      <td>0</td>\n",
       "      <td>0</td>\n",
       "      <td>0</td>\n",
       "      <td>0</td>\n",
       "      <td>1</td>\n",
       "      <td>0</td>\n",
       "      <td>0</td>\n",
       "      <td>0</td>\n",
       "      <td>0</td>\n",
       "      <td>0</td>\n",
       "      <td>0</td>\n",
       "      <td>1</td>\n",
       "      <td>0</td>\n",
       "      <td>0</td>\n",
       "      <td>0</td>\n",
       "      <td>1</td>\n",
       "      <td>CHEMBL1091250</td>\n",
       "    </tr>\n",
       "    <tr>\n",
       "      <th>1</th>\n",
       "      <td>0</td>\n",
       "      <td>0</td>\n",
       "      <td>0</td>\n",
       "      <td>1</td>\n",
       "      <td>1</td>\n",
       "      <td>1</td>\n",
       "      <td>1</td>\n",
       "      <td>1</td>\n",
       "      <td>1</td>\n",
       "      <td>1</td>\n",
       "      <td>0</td>\n",
       "      <td>0</td>\n",
       "      <td>0</td>\n",
       "      <td>0</td>\n",
       "      <td>0</td>\n",
       "      <td>0</td>\n",
       "      <td>CHEMBL1601</td>\n",
       "    </tr>\n",
       "    <tr>\n",
       "      <th>2</th>\n",
       "      <td>0</td>\n",
       "      <td>0</td>\n",
       "      <td>0</td>\n",
       "      <td>1</td>\n",
       "      <td>1</td>\n",
       "      <td>0</td>\n",
       "      <td>0</td>\n",
       "      <td>1</td>\n",
       "      <td>0</td>\n",
       "      <td>0</td>\n",
       "      <td>1</td>\n",
       "      <td>0</td>\n",
       "      <td>0</td>\n",
       "      <td>0</td>\n",
       "      <td>1</td>\n",
       "      <td>0</td>\n",
       "      <td>CHEMBL2110774</td>\n",
       "    </tr>\n",
       "    <tr>\n",
       "      <th>3</th>\n",
       "      <td>1</td>\n",
       "      <td>0</td>\n",
       "      <td>0</td>\n",
       "      <td>0</td>\n",
       "      <td>0</td>\n",
       "      <td>1</td>\n",
       "      <td>0</td>\n",
       "      <td>0</td>\n",
       "      <td>0</td>\n",
       "      <td>1</td>\n",
       "      <td>0</td>\n",
       "      <td>0</td>\n",
       "      <td>1</td>\n",
       "      <td>0</td>\n",
       "      <td>0</td>\n",
       "      <td>0</td>\n",
       "      <td>CHEMBL385517</td>\n",
       "    </tr>\n",
       "    <tr>\n",
       "      <th>4</th>\n",
       "      <td>0</td>\n",
       "      <td>0</td>\n",
       "      <td>0</td>\n",
       "      <td>1</td>\n",
       "      <td>1</td>\n",
       "      <td>0</td>\n",
       "      <td>0</td>\n",
       "      <td>1</td>\n",
       "      <td>1</td>\n",
       "      <td>1</td>\n",
       "      <td>0</td>\n",
       "      <td>0</td>\n",
       "      <td>0</td>\n",
       "      <td>0</td>\n",
       "      <td>0</td>\n",
       "      <td>0</td>\n",
       "      <td>CHEMBL1201779</td>\n",
       "    </tr>\n",
       "    <tr>\n",
       "      <th>...</th>\n",
       "      <td>...</td>\n",
       "      <td>...</td>\n",
       "      <td>...</td>\n",
       "      <td>...</td>\n",
       "      <td>...</td>\n",
       "      <td>...</td>\n",
       "      <td>...</td>\n",
       "      <td>...</td>\n",
       "      <td>...</td>\n",
       "      <td>...</td>\n",
       "      <td>...</td>\n",
       "      <td>...</td>\n",
       "      <td>...</td>\n",
       "      <td>...</td>\n",
       "      <td>...</td>\n",
       "      <td>...</td>\n",
       "      <td>...</td>\n",
       "    </tr>\n",
       "    <tr>\n",
       "      <th>2498</th>\n",
       "      <td>0</td>\n",
       "      <td>0</td>\n",
       "      <td>0</td>\n",
       "      <td>1</td>\n",
       "      <td>1</td>\n",
       "      <td>0</td>\n",
       "      <td>0</td>\n",
       "      <td>1</td>\n",
       "      <td>1</td>\n",
       "      <td>0</td>\n",
       "      <td>0</td>\n",
       "      <td>0</td>\n",
       "      <td>0</td>\n",
       "      <td>0</td>\n",
       "      <td>0</td>\n",
       "      <td>0</td>\n",
       "      <td>CHEMBL918</td>\n",
       "    </tr>\n",
       "    <tr>\n",
       "      <th>2499</th>\n",
       "      <td>0</td>\n",
       "      <td>0</td>\n",
       "      <td>0</td>\n",
       "      <td>1</td>\n",
       "      <td>1</td>\n",
       "      <td>0</td>\n",
       "      <td>0</td>\n",
       "      <td>0</td>\n",
       "      <td>0</td>\n",
       "      <td>0</td>\n",
       "      <td>0</td>\n",
       "      <td>0</td>\n",
       "      <td>0</td>\n",
       "      <td>0</td>\n",
       "      <td>0</td>\n",
       "      <td>0</td>\n",
       "      <td>CHEMBL926</td>\n",
       "    </tr>\n",
       "    <tr>\n",
       "      <th>2500</th>\n",
       "      <td>0</td>\n",
       "      <td>0</td>\n",
       "      <td>0</td>\n",
       "      <td>0</td>\n",
       "      <td>1</td>\n",
       "      <td>0</td>\n",
       "      <td>0</td>\n",
       "      <td>0</td>\n",
       "      <td>0</td>\n",
       "      <td>0</td>\n",
       "      <td>0</td>\n",
       "      <td>1</td>\n",
       "      <td>1</td>\n",
       "      <td>0</td>\n",
       "      <td>0</td>\n",
       "      <td>1</td>\n",
       "      <td>CHEMBL370252</td>\n",
       "    </tr>\n",
       "    <tr>\n",
       "      <th>2501</th>\n",
       "      <td>0</td>\n",
       "      <td>0</td>\n",
       "      <td>0</td>\n",
       "      <td>0</td>\n",
       "      <td>1</td>\n",
       "      <td>0</td>\n",
       "      <td>0</td>\n",
       "      <td>1</td>\n",
       "      <td>0</td>\n",
       "      <td>0</td>\n",
       "      <td>0</td>\n",
       "      <td>0</td>\n",
       "      <td>0</td>\n",
       "      <td>0</td>\n",
       "      <td>0</td>\n",
       "      <td>0</td>\n",
       "      <td>CHEMBL1201336</td>\n",
       "    </tr>\n",
       "    <tr>\n",
       "      <th>2502</th>\n",
       "      <td>0</td>\n",
       "      <td>0</td>\n",
       "      <td>0</td>\n",
       "      <td>1</td>\n",
       "      <td>1</td>\n",
       "      <td>0</td>\n",
       "      <td>0</td>\n",
       "      <td>0</td>\n",
       "      <td>0</td>\n",
       "      <td>0</td>\n",
       "      <td>0</td>\n",
       "      <td>0</td>\n",
       "      <td>0</td>\n",
       "      <td>0</td>\n",
       "      <td>0</td>\n",
       "      <td>0</td>\n",
       "      <td>CHEMBL905</td>\n",
       "    </tr>\n",
       "  </tbody>\n",
       "</table>\n",
       "<p>2503 rows × 17 columns</p>\n",
       "</div>"
      ],
      "text/plain": [
       "      chain:alkaneBranch_neopentyl_C5  bond:C(=O)N_carbamate_thio_generic  \\\n",
       "0                                   0                                   0   \n",
       "1                                   0                                   0   \n",
       "2                                   0                                   0   \n",
       "3                                   1                                   0   \n",
       "4                                   0                                   0   \n",
       "...                               ...                                 ...   \n",
       "2498                                0                                   0   \n",
       "2499                                0                                   0   \n",
       "2500                                0                                   0   \n",
       "2501                                0                                   0   \n",
       "2502                                0                                   0   \n",
       "\n",
       "      chain:aromaticAlkene_Ph-C4_phenylbutadiene  \\\n",
       "0                                              0   \n",
       "1                                              0   \n",
       "2                                              0   \n",
       "3                                              0   \n",
       "4                                              0   \n",
       "...                                          ...   \n",
       "2498                                           0   \n",
       "2499                                           0   \n",
       "2500                                           0   \n",
       "2501                                           0   \n",
       "2502                                           0   \n",
       "\n",
       "      chain:aromaticAlkane_Ph-C1_acyclic_generic  ring:aromatic_benzene  \\\n",
       "0                                              0                      1   \n",
       "1                                              1                      1   \n",
       "2                                              1                      1   \n",
       "3                                              0                      0   \n",
       "4                                              1                      1   \n",
       "...                                          ...                    ...   \n",
       "2498                                           1                      1   \n",
       "2499                                           1                      1   \n",
       "2500                                           0                      1   \n",
       "2501                                           0                      1   \n",
       "2502                                           1                      1   \n",
       "\n",
       "      bond:COH_alcohol_aliphatic_generic  bond:COH_alcohol_sec-alkyl  \\\n",
       "0                                      0                           0   \n",
       "1                                      1                           1   \n",
       "2                                      0                           0   \n",
       "3                                      1                           0   \n",
       "4                                      0                           0   \n",
       "...                                  ...                         ...   \n",
       "2498                                   0                           0   \n",
       "2499                                   0                           0   \n",
       "2500                                   0                           0   \n",
       "2501                                   0                           0   \n",
       "2502                                   0                           0   \n",
       "\n",
       "      ring:aromatic_phenyl  bond:C(=O)N_carboxamide_(NHR)  \\\n",
       "0                        0                              0   \n",
       "1                        1                              1   \n",
       "2                        1                              0   \n",
       "3                        0                              0   \n",
       "4                        1                              1   \n",
       "...                    ...                            ...   \n",
       "2498                     1                              1   \n",
       "2499                     0                              0   \n",
       "2500                     0                              0   \n",
       "2501                     1                              0   \n",
       "2502                     0                              0   \n",
       "\n",
       "      group:aminoAcid_aminoAcid_generic  chain:aromaticAlkane_Ph-C1-Ph  \\\n",
       "0                                     0                              0   \n",
       "1                                     1                              0   \n",
       "2                                     0                              1   \n",
       "3                                     1                              0   \n",
       "4                                     1                              0   \n",
       "...                                 ...                            ...   \n",
       "2498                                  0                              0   \n",
       "2499                                  0                              0   \n",
       "2500                                  0                              0   \n",
       "2501                                  0                              0   \n",
       "2502                                  0                              0   \n",
       "\n",
       "      bond:C=O_carbonyl_ab-unsaturated_generic  \\\n",
       "0                                            1   \n",
       "1                                            0   \n",
       "2                                            0   \n",
       "3                                            0   \n",
       "4                                            0   \n",
       "...                                        ...   \n",
       "2498                                         0   \n",
       "2499                                         0   \n",
       "2500                                         1   \n",
       "2501                                         0   \n",
       "2502                                         0   \n",
       "\n",
       "      chain:alkaneCyclic_ethyl_C2_(connect_noZ)  \\\n",
       "0                                             0   \n",
       "1                                             0   \n",
       "2                                             0   \n",
       "3                                             1   \n",
       "4                                             0   \n",
       "...                                         ...   \n",
       "2498                                          0   \n",
       "2499                                          0   \n",
       "2500                                          1   \n",
       "2501                                          0   \n",
       "2502                                          0   \n",
       "\n",
       "      bond:CC(=O)C_ketone_aliphatic_acyclic  chain:aromaticAlkane_Ar-C-Ar  \\\n",
       "0                                         0                             0   \n",
       "1                                         0                             0   \n",
       "2                                         0                             1   \n",
       "3                                         0                             0   \n",
       "4                                         0                             0   \n",
       "...                                     ...                           ...   \n",
       "2498                                      0                             0   \n",
       "2499                                      0                             0   \n",
       "2500                                      0                             0   \n",
       "2501                                      0                             0   \n",
       "2502                                      0                             0   \n",
       "\n",
       "      bond:CC(=O)C_ketone_generic      chembl_id  \n",
       "0                               1  CHEMBL1091250  \n",
       "1                               0     CHEMBL1601  \n",
       "2                               0  CHEMBL2110774  \n",
       "3                               0   CHEMBL385517  \n",
       "4                               0  CHEMBL1201779  \n",
       "...                           ...            ...  \n",
       "2498                            0      CHEMBL918  \n",
       "2499                            0      CHEMBL926  \n",
       "2500                            1   CHEMBL370252  \n",
       "2501                            0  CHEMBL1201336  \n",
       "2502                            0      CHEMBL905  \n",
       "\n",
       "[2503 rows x 17 columns]"
      ]
     },
     "execution_count": 415,
     "metadata": {},
     "output_type": "execute_result"
    }
   ],
   "source": [
    "toxprint"
   ]
  },
  {
   "cell_type": "code",
   "execution_count": 398,
   "id": "30d4033a-440f-4f00-ad7b-6e2ba0d138ed",
   "metadata": {},
   "outputs": [],
   "source": [
    "japtox = japtox.dropna()"
   ]
  },
  {
   "cell_type": "code",
   "execution_count": 344,
   "id": "49669abd-9482-42ca-a5f8-91147a32e20c",
   "metadata": {},
   "outputs": [],
   "source": [
    "tox = tox.drop(columns=['test_train', 'drugbank_id', 'mw_ap', 'drugbank_three_class', 'sum', 'wd_consensus_1', 'wd_consensus_2', 'wd_consensus_3',\n",
    "                       'wd_consensus_1_NO_DISCONT', 'wd_consensus_2_NO_DISCONT', 'wd_consensus_3_NO_DISCONT'])\n",
    "adme_phys = adme_phys.drop(columns=['test_train', 'mw_ap', 'drugbank_three_class', 'sum', 'wd_consensus_1', 'wd_consensus_2', 'wd_consensus_3',\n",
    "                       'wd_consensus_1_NO_DISCONT', 'wd_consensus_2_NO_DISCONT', 'wd_consensus_3_NO_DISCONT'])"
   ]
  },
  {
   "cell_type": "code",
   "execution_count": 407,
   "id": "73eed959-0e62-4c80-91bd-7382d8a966bd",
   "metadata": {},
   "outputs": [],
   "source": [
    "train = train[['predict_withdrawn', 'chembl_id', 'wd_consensus_1']]\n",
    "test = test[['predict_withdrawn', 'chembl_id', 'wd_consensus_1']]"
   ]
  },
  {
   "cell_type": "code",
   "execution_count": 345,
   "id": "9e443809-04aa-48e6-9ef7-3e91ff618236",
   "metadata": {},
   "outputs": [],
   "source": [
    "train = train.merge(tox, how='inner', on='chembl_id')\n",
    "train = train.merge(adme_phys, how='inner', on='chembl_id')\n",
    "train = train.drop_duplicates('chembl_id')"
   ]
  },
  {
   "cell_type": "code",
   "execution_count": null,
   "id": "acae2f03-be03-4807-96fc-7268674fa4fc",
   "metadata": {},
   "outputs": [],
   "source": []
  },
  {
   "cell_type": "code",
   "execution_count": 363,
   "id": "eef4ae31-0f29-425f-89a3-01eb3a50f869",
   "metadata": {},
   "outputs": [],
   "source": [
    "train = train.merge(rdkit, how='inner', on='chembl_id')\n",
    "test = test.merge(rdkit, how='inner', on='chembl_id')\n",
    "train = train.drop_duplicates('chembl_id')\n",
    "test = test.drop_duplicates('chembl_id')"
   ]
  },
  {
   "cell_type": "code",
   "execution_count": 346,
   "id": "30b09da2-027a-4b93-969e-8405a8b3eedd",
   "metadata": {},
   "outputs": [],
   "source": [
    "test = test.merge(tox, how='inner', on='chembl_id')\n",
    "test = test.merge(adme_phys, how='inner', on='chembl_id')\n",
    "test = test.drop_duplicates('chembl_id')"
   ]
  },
  {
   "cell_type": "code",
   "execution_count": 399,
   "id": "b6b8def7-1962-44de-bd3b-08a7cf128abb",
   "metadata": {},
   "outputs": [],
   "source": [
    "train = train.merge(japtox, how='inner', on='chembl_id')\n",
    "test = test.merge(japtox, how='inner', on='chembl_id')\n",
    "train = train.drop_duplicates('chembl_id')\n",
    "test = test.drop_duplicates('chembl_id')"
   ]
  },
  {
   "cell_type": "code",
   "execution_count": 416,
   "id": "890a5b79-793e-42f0-aab8-7a7dd76f01a8",
   "metadata": {},
   "outputs": [],
   "source": [
    "train = train.merge(toxprint, how='inner', on='chembl_id')\n",
    "test = test.merge(toxprint, how='inner', on='chembl_id')\n",
    "train = train.drop_duplicates('chembl_id')\n",
    "test = test.drop_duplicates('chembl_id')"
   ]
  },
  {
   "cell_type": "code",
   "execution_count": 418,
   "id": "b465c5b9-2775-4e57-b16a-84af666937a6",
   "metadata": {},
   "outputs": [],
   "source": [
    "y_train = train['wd_consensus_1']\n",
    "y_test = test['wd_consensus_1']\n",
    "\n",
    "X_train = train.drop(columns=['wd_consensus_1', 'chembl_id', 'standardized_smiles'])\n",
    "X_test = test.drop(columns=['wd_consensus_1', 'chembl_id', 'standardized_smiles'])"
   ]
  },
  {
   "cell_type": "code",
   "execution_count": 419,
   "id": "86941287-468c-4d69-abb8-54ea2738faa5",
   "metadata": {},
   "outputs": [
    {
     "data": {
      "text/plain": [
       "Index(['CYP2C9_Substrate_CarbonMangels', 'CYP2D6_Substrate_CarbonMangels',\n",
       "       'sr-are', 'CYP3A4_Veith', 'nr-er-lbd', 'nr-er', 'Solubility_AqSolDB',\n",
       "       'sr-atad5', 'Caco2_Wang', 'CYP2D6_Veith', 'Skin Reaction', 'PPBR_AZ',\n",
       "       'Pgp_Broccatelli', 'BBB_Martins', 'nr-ar-lbd', 'VDss_Lombardo',\n",
       "       'CYP3A4_Substrate_CarbonMangels', 'Lipophilicity_AstraZeneca',\n",
       "       'LD50_Zhu', 'hERG', 'Bioavailability_Ma', 'nr-ahr', 'DILI', 'nr-ar',\n",
       "       'AMES', 'CYP2C19_Veith', 'ClinTox', 'Half_Life_Obach', 'sr-hse',\n",
       "       'CYP2C9_Veith', 'CYP1A2_Veith', 'HIA_Hou', 'nr-ppar-gamma',\n",
       "       'Clearance_Hepatocyte_AZ', 'Carcinogens_Languin', 'nr-aromatase',\n",
       "       'sr-mmp', 'sr-p53', 'predict_withdrawn',\n",
       "       'chain:alkaneBranch_neopentyl_C5', 'bond:C(=O)N_carbamate_thio_generic',\n",
       "       'chain:aromaticAlkene_Ph-C4_phenylbutadiene',\n",
       "       'chain:aromaticAlkane_Ph-C1_acyclic_generic', 'ring:aromatic_benzene',\n",
       "       'bond:COH_alcohol_aliphatic_generic', 'bond:COH_alcohol_sec-alkyl',\n",
       "       'ring:aromatic_phenyl', 'bond:C(=O)N_carboxamide_(NHR)',\n",
       "       'group:aminoAcid_aminoAcid_generic', 'chain:aromaticAlkane_Ph-C1-Ph',\n",
       "       'bond:C=O_carbonyl_ab-unsaturated_generic',\n",
       "       'chain:alkaneCyclic_ethyl_C2_(connect_noZ)',\n",
       "       'bond:CC(=O)C_ketone_aliphatic_acyclic', 'chain:aromaticAlkane_Ar-C-Ar',\n",
       "       'bond:CC(=O)C_ketone_generic'],\n",
       "      dtype='object')"
      ]
     },
     "execution_count": 419,
     "metadata": {},
     "output_type": "execute_result"
    }
   ],
   "source": [
    "X_train.columns"
   ]
  },
  {
   "cell_type": "code",
   "execution_count": 420,
   "id": "09652761-2ebb-41df-92da-0c34c57ea243",
   "metadata": {},
   "outputs": [],
   "source": [
    "    params = {\n",
    "        'learning_rate': [0.05, 0.10, 0.15, 0.20, 0.25, 0.30],\n",
    "        'max_depth': [3, 4, 5, 6, 8, 10, 12, 15],\n",
    "        'min_child_weight': [1, 3, 5, 7],\n",
    "        'gamma': [0.0, 0.1, 0.2, 0.3, 0.4],\n",
    "        'colsample_bytree': [0.3, 0.4, 0.5, 0.7],\n",
    "        'scale_pos_weight': [5, 10, 15, 20, 35],\n",
    "        'n_estimators': [100, 200, 300, 400, 500],\n",
    "    }"
   ]
  },
  {
   "cell_type": "code",
   "execution_count": 421,
   "id": "ee2d90a8-79a3-457f-bb7f-1b2e79f51f23",
   "metadata": {},
   "outputs": [],
   "source": [
    "classifier = XGBClassifier()"
   ]
  },
  {
   "cell_type": "code",
   "execution_count": 423,
   "id": "0b9f3339-ec34-4490-8de9-9a517d22a843",
   "metadata": {},
   "outputs": [
    {
     "name": "stdout",
     "output_type": "stream",
     "text": [
      "Fitting 6 folds for each of 100 candidates, totalling 600 fits\n"
     ]
    },
    {
     "name": "stderr",
     "output_type": "stream",
     "text": [
      "[Parallel(n_jobs=-1)]: Using backend LokyBackend with 8 concurrent workers.\n",
      "[Parallel(n_jobs=-1)]: Done  16 tasks      | elapsed:  1.4min\n",
      "[Parallel(n_jobs=-1)]: Done 112 tasks      | elapsed:  4.4min\n",
      "[Parallel(n_jobs=-1)]: Done 272 tasks      | elapsed:  8.8min\n",
      "[Parallel(n_jobs=-1)]: Done 496 tasks      | elapsed: 22.2min\n",
      "[Parallel(n_jobs=-1)]: Done 600 out of 600 | elapsed: 28.1min finished\n",
      "The use of label encoder in XGBClassifier is deprecated and will be removed in a future release. To remove this warning, do the following: 1) Pass option use_label_encoder=False when constructing XGBClassifier object; and 2) Encode your labels (y) as integers starting with 0, i.e. 0, 1, 2, ..., [num_class - 1].\n"
     ]
    },
    {
     "name": "stdout",
     "output_type": "stream",
     "text": [
      "[11:16:59] WARNING: /tmp/build/80754af9/xgboost-split_1619724447847/work/src/learner.cc:1061: Starting in XGBoost 1.3.0, the default evaluation metric used with the objective 'binary:logistic' was changed from 'error' to 'logloss'. Explicitly set eval_metric if you'd like to restore the old behavior.\n"
     ]
    },
    {
     "data": {
      "text/plain": [
       "RandomizedSearchCV(cv=6,\n",
       "                   estimator=XGBClassifier(base_score=None, booster=None,\n",
       "                                           colsample_bylevel=None,\n",
       "                                           colsample_bynode=None,\n",
       "                                           colsample_bytree=None, gamma=None,\n",
       "                                           gpu_id=None, importance_type='gain',\n",
       "                                           interaction_constraints=None,\n",
       "                                           learning_rate=None,\n",
       "                                           max_delta_step=None, max_depth=None,\n",
       "                                           min_child_weight=None, missing=nan,\n",
       "                                           monotone_constraints=None,\n",
       "                                           n_estimators=100,...\n",
       "                                           validate_parameters=None,\n",
       "                                           verbosity=None),\n",
       "                   n_iter=100, n_jobs=-1,\n",
       "                   param_distributions={'colsample_bytree': [0.3, 0.4, 0.5,\n",
       "                                                             0.7],\n",
       "                                        'gamma': [0.0, 0.1, 0.2, 0.3, 0.4],\n",
       "                                        'learning_rate': [0.05, 0.1, 0.15, 0.2,\n",
       "                                                          0.25, 0.3],\n",
       "                                        'max_depth': [3, 4, 5, 6, 8, 10, 12,\n",
       "                                                      15],\n",
       "                                        'min_child_weight': [1, 3, 5, 7],\n",
       "                                        'n_estimators': [100, 200, 300, 400,\n",
       "                                                         500],\n",
       "                                        'scale_pos_weight': [5, 10, 15, 20,\n",
       "                                                             35]},\n",
       "                   scoring='average_precision', verbose=3)"
      ]
     },
     "execution_count": 423,
     "metadata": {},
     "output_type": "execute_result"
    }
   ],
   "source": [
    "rs_model = RandomizedSearchCV(classifier, param_distributions=params, n_iter=100, scoring='average_precision',\n",
    "                              n_jobs=-1, cv=6, verbose=3)\n",
    "rs_model.fit(X_train, y_train)"
   ]
  },
  {
   "cell_type": "code",
   "execution_count": 424,
   "id": "3872b655-67ed-4dc6-8479-c4561ee3d9c5",
   "metadata": {},
   "outputs": [],
   "source": [
    "predictions = rs_model.best_estimator_.predict_proba(X_test)\n",
    "test_pred_df = pd.DataFrame({'probabilities': predictions[:, 1],\n",
    "                             withdrawn_col: y_test,\n",
    "                             'predicted_class': rs_model.predict(X_test)})"
   ]
  },
  {
   "cell_type": "code",
   "execution_count": 425,
   "id": "24f4003b-db27-4d21-a1cd-75884b21426d",
   "metadata": {},
   "outputs": [],
   "source": [
    "results = table_metrics_trees(test_pred_df, withdrawn_col)"
   ]
  },
  {
   "cell_type": "markdown",
   "id": "d61ebadb-d660-4670-812d-e9db23dc6cf2",
   "metadata": {},
   "source": [
    "* Predicted + toxprint"
   ]
  },
  {
   "cell_type": "code",
   "execution_count": 426,
   "id": "963cbba7-6a96-440f-9e11-f456aec2c46f",
   "metadata": {},
   "outputs": [
    {
     "data": {
      "text/html": [
       "<div>\n",
       "<style scoped>\n",
       "    .dataframe tbody tr th:only-of-type {\n",
       "        vertical-align: middle;\n",
       "    }\n",
       "\n",
       "    .dataframe tbody tr th {\n",
       "        vertical-align: top;\n",
       "    }\n",
       "\n",
       "    .dataframe thead th {\n",
       "        text-align: right;\n",
       "    }\n",
       "</style>\n",
       "<table border=\"1\" class=\"dataframe\">\n",
       "  <thead>\n",
       "    <tr style=\"text-align: right;\">\n",
       "      <th></th>\n",
       "      <th>F1 score</th>\n",
       "      <th>AP withdrawn</th>\n",
       "      <th>AP approved</th>\n",
       "      <th>AUROC withdrawn</th>\n",
       "      <th>Balanced accuracy</th>\n",
       "      <th>Precision withdrawn</th>\n",
       "      <th>Recall withdrawn</th>\n",
       "      <th>Precision approved</th>\n",
       "      <th>Recall approved</th>\n",
       "      <th>True positives</th>\n",
       "      <th>True negatives</th>\n",
       "      <th>False positives</th>\n",
       "      <th>False negatives</th>\n",
       "    </tr>\n",
       "  </thead>\n",
       "  <tbody>\n",
       "    <tr>\n",
       "      <th>0</th>\n",
       "      <td>0.417266</td>\n",
       "      <td>0.43451</td>\n",
       "      <td>0.785302</td>\n",
       "      <td>0.833953</td>\n",
       "      <td>0.756201</td>\n",
       "      <td>0.295918</td>\n",
       "      <td>0.707317</td>\n",
       "      <td>0.959596</td>\n",
       "      <td>0.805085</td>\n",
       "      <td>29</td>\n",
       "      <td>285</td>\n",
       "      <td>69</td>\n",
       "      <td>12</td>\n",
       "    </tr>\n",
       "  </tbody>\n",
       "</table>\n",
       "</div>"
      ],
      "text/plain": [
       "   F1 score  AP withdrawn  AP approved  AUROC withdrawn  Balanced accuracy  \\\n",
       "0  0.417266       0.43451     0.785302         0.833953           0.756201   \n",
       "\n",
       "   Precision withdrawn  Recall withdrawn  Precision approved  Recall approved  \\\n",
       "0             0.295918          0.707317            0.959596         0.805085   \n",
       "\n",
       "   True positives  True negatives  False positives  False negatives  \n",
       "0              29             285               69               12  "
      ]
     },
     "execution_count": 426,
     "metadata": {},
     "output_type": "execute_result"
    }
   ],
   "source": [
    "results"
   ]
  },
  {
   "cell_type": "markdown",
   "id": "f0f59ec9-8272-40cd-a007-0cb868bddf39",
   "metadata": {},
   "source": [
    "* Predicted + rdkit"
   ]
  },
  {
   "cell_type": "code",
   "execution_count": 408,
   "id": "a78fe3c6-b985-4c65-9a6e-805585ec09aa",
   "metadata": {},
   "outputs": [
    {
     "data": {
      "text/html": [
       "<div>\n",
       "<style scoped>\n",
       "    .dataframe tbody tr th:only-of-type {\n",
       "        vertical-align: middle;\n",
       "    }\n",
       "\n",
       "    .dataframe tbody tr th {\n",
       "        vertical-align: top;\n",
       "    }\n",
       "\n",
       "    .dataframe thead th {\n",
       "        text-align: right;\n",
       "    }\n",
       "</style>\n",
       "<table border=\"1\" class=\"dataframe\">\n",
       "  <thead>\n",
       "    <tr style=\"text-align: right;\">\n",
       "      <th></th>\n",
       "      <th>F1 score</th>\n",
       "      <th>AP withdrawn</th>\n",
       "      <th>AP approved</th>\n",
       "      <th>AUROC withdrawn</th>\n",
       "      <th>Balanced accuracy</th>\n",
       "      <th>Precision withdrawn</th>\n",
       "      <th>Recall withdrawn</th>\n",
       "      <th>Precision approved</th>\n",
       "      <th>Recall approved</th>\n",
       "      <th>True positives</th>\n",
       "      <th>True negatives</th>\n",
       "      <th>False positives</th>\n",
       "      <th>False negatives</th>\n",
       "    </tr>\n",
       "  </thead>\n",
       "  <tbody>\n",
       "    <tr>\n",
       "      <th>0</th>\n",
       "      <td>0.470588</td>\n",
       "      <td>0.365484</td>\n",
       "      <td>0.79933</td>\n",
       "      <td>0.789996</td>\n",
       "      <td>0.710004</td>\n",
       "      <td>0.454545</td>\n",
       "      <td>0.487805</td>\n",
       "      <td>0.940171</td>\n",
       "      <td>0.932203</td>\n",
       "      <td>20</td>\n",
       "      <td>330</td>\n",
       "      <td>24</td>\n",
       "      <td>21</td>\n",
       "    </tr>\n",
       "  </tbody>\n",
       "</table>\n",
       "</div>"
      ],
      "text/plain": [
       "   F1 score  AP withdrawn  AP approved  AUROC withdrawn  Balanced accuracy  \\\n",
       "0  0.470588      0.365484      0.79933         0.789996           0.710004   \n",
       "\n",
       "   Precision withdrawn  Recall withdrawn  Precision approved  Recall approved  \\\n",
       "0             0.454545          0.487805            0.940171         0.932203   \n",
       "\n",
       "   True positives  True negatives  False positives  False negatives  \n",
       "0              20             330               24               21  "
      ]
     },
     "execution_count": 408,
     "metadata": {},
     "output_type": "execute_result"
    }
   ],
   "source": [
    "results"
   ]
  },
  {
   "cell_type": "markdown",
   "id": "d63958a4-6d1f-43cf-a8fb-9f084ddf4bc9",
   "metadata": {},
   "source": [
    "* Predicted"
   ]
  },
  {
   "cell_type": "code",
   "execution_count": 387,
   "id": "728555ad-1dcc-4b0a-a74b-8c40a223aa66",
   "metadata": {},
   "outputs": [
    {
     "data": {
      "text/html": [
       "<div>\n",
       "<style scoped>\n",
       "    .dataframe tbody tr th:only-of-type {\n",
       "        vertical-align: middle;\n",
       "    }\n",
       "\n",
       "    .dataframe tbody tr th {\n",
       "        vertical-align: top;\n",
       "    }\n",
       "\n",
       "    .dataframe thead th {\n",
       "        text-align: right;\n",
       "    }\n",
       "</style>\n",
       "<table border=\"1\" class=\"dataframe\">\n",
       "  <thead>\n",
       "    <tr style=\"text-align: right;\">\n",
       "      <th></th>\n",
       "      <th>F1 score</th>\n",
       "      <th>AP withdrawn</th>\n",
       "      <th>AP approved</th>\n",
       "      <th>AUROC withdrawn</th>\n",
       "      <th>Balanced accuracy</th>\n",
       "      <th>Precision withdrawn</th>\n",
       "      <th>Recall withdrawn</th>\n",
       "      <th>Precision approved</th>\n",
       "      <th>Recall approved</th>\n",
       "      <th>True positives</th>\n",
       "      <th>True negatives</th>\n",
       "      <th>False positives</th>\n",
       "      <th>False negatives</th>\n",
       "    </tr>\n",
       "  </thead>\n",
       "  <tbody>\n",
       "    <tr>\n",
       "      <th>0</th>\n",
       "      <td>0.453782</td>\n",
       "      <td>0.381002</td>\n",
       "      <td>0.793424</td>\n",
       "      <td>0.818038</td>\n",
       "      <td>0.757234</td>\n",
       "      <td>0.346154</td>\n",
       "      <td>0.658537</td>\n",
       "      <td>0.955836</td>\n",
       "      <td>0.855932</td>\n",
       "      <td>27</td>\n",
       "      <td>303</td>\n",
       "      <td>51</td>\n",
       "      <td>14</td>\n",
       "    </tr>\n",
       "  </tbody>\n",
       "</table>\n",
       "</div>"
      ],
      "text/plain": [
       "   F1 score  AP withdrawn  AP approved  AUROC withdrawn  Balanced accuracy  \\\n",
       "0  0.453782      0.381002     0.793424         0.818038           0.757234   \n",
       "\n",
       "   Precision withdrawn  Recall withdrawn  Precision approved  Recall approved  \\\n",
       "0             0.346154          0.658537            0.955836         0.855932   \n",
       "\n",
       "   True positives  True negatives  False positives  False negatives  \n",
       "0              27             303               51               14  "
      ]
     },
     "execution_count": 387,
     "metadata": {},
     "output_type": "execute_result"
    }
   ],
   "source": [
    "results"
   ]
  },
  {
   "cell_type": "markdown",
   "id": "9dedb09b-101f-4001-a03c-612fccf81128",
   "metadata": {},
   "source": [
    "* RDKIT + predicted"
   ]
  },
  {
   "cell_type": "code",
   "execution_count": 371,
   "id": "01694ce2-9149-4d5b-8b8a-1e21ea09068e",
   "metadata": {},
   "outputs": [
    {
     "data": {
      "text/html": [
       "<div>\n",
       "<style scoped>\n",
       "    .dataframe tbody tr th:only-of-type {\n",
       "        vertical-align: middle;\n",
       "    }\n",
       "\n",
       "    .dataframe tbody tr th {\n",
       "        vertical-align: top;\n",
       "    }\n",
       "\n",
       "    .dataframe thead th {\n",
       "        text-align: right;\n",
       "    }\n",
       "</style>\n",
       "<table border=\"1\" class=\"dataframe\">\n",
       "  <thead>\n",
       "    <tr style=\"text-align: right;\">\n",
       "      <th></th>\n",
       "      <th>F1 score</th>\n",
       "      <th>AP withdrawn</th>\n",
       "      <th>AP approved</th>\n",
       "      <th>AUROC withdrawn</th>\n",
       "      <th>Balanced accuracy</th>\n",
       "      <th>Precision withdrawn</th>\n",
       "      <th>Recall withdrawn</th>\n",
       "      <th>Precision approved</th>\n",
       "      <th>Recall approved</th>\n",
       "      <th>True positives</th>\n",
       "      <th>True negatives</th>\n",
       "      <th>False positives</th>\n",
       "      <th>False negatives</th>\n",
       "    </tr>\n",
       "  </thead>\n",
       "  <tbody>\n",
       "    <tr>\n",
       "      <th>0</th>\n",
       "      <td>0.41791</td>\n",
       "      <td>0.467745</td>\n",
       "      <td>0.784435</td>\n",
       "      <td>0.828166</td>\n",
       "      <td>0.653783</td>\n",
       "      <td>0.538462</td>\n",
       "      <td>0.341463</td>\n",
       "      <td>0.926829</td>\n",
       "      <td>0.966102</td>\n",
       "      <td>14</td>\n",
       "      <td>342</td>\n",
       "      <td>12</td>\n",
       "      <td>27</td>\n",
       "    </tr>\n",
       "  </tbody>\n",
       "</table>\n",
       "</div>"
      ],
      "text/plain": [
       "   F1 score  AP withdrawn  AP approved  AUROC withdrawn  Balanced accuracy  \\\n",
       "0   0.41791      0.467745     0.784435         0.828166           0.653783   \n",
       "\n",
       "   Precision withdrawn  Recall withdrawn  Precision approved  Recall approved  \\\n",
       "0             0.538462          0.341463            0.926829         0.966102   \n",
       "\n",
       "   True positives  True negatives  False positives  False negatives  \n",
       "0              14             342               12               27  "
      ]
     },
     "execution_count": 371,
     "metadata": {},
     "output_type": "execute_result"
    }
   ],
   "source": [
    "results"
   ]
  },
  {
   "cell_type": "markdown",
   "id": "63f9cdef-a69e-4774-b1b7-86940f95fd37",
   "metadata": {},
   "source": [
    "* adme + predicted"
   ]
  },
  {
   "cell_type": "code",
   "execution_count": 356,
   "id": "421c90e9-dfa8-497a-a4a9-6a52804f60a9",
   "metadata": {},
   "outputs": [
    {
     "data": {
      "text/html": [
       "<div>\n",
       "<style scoped>\n",
       "    .dataframe tbody tr th:only-of-type {\n",
       "        vertical-align: middle;\n",
       "    }\n",
       "\n",
       "    .dataframe tbody tr th {\n",
       "        vertical-align: top;\n",
       "    }\n",
       "\n",
       "    .dataframe thead th {\n",
       "        text-align: right;\n",
       "    }\n",
       "</style>\n",
       "<table border=\"1\" class=\"dataframe\">\n",
       "  <thead>\n",
       "    <tr style=\"text-align: right;\">\n",
       "      <th></th>\n",
       "      <th>F1 score</th>\n",
       "      <th>AP withdrawn</th>\n",
       "      <th>AP approved</th>\n",
       "      <th>AUROC withdrawn</th>\n",
       "      <th>Balanced accuracy</th>\n",
       "      <th>Precision withdrawn</th>\n",
       "      <th>Recall withdrawn</th>\n",
       "      <th>Precision approved</th>\n",
       "      <th>Recall approved</th>\n",
       "      <th>True positives</th>\n",
       "      <th>True negatives</th>\n",
       "      <th>False positives</th>\n",
       "      <th>False negatives</th>\n",
       "    </tr>\n",
       "  </thead>\n",
       "  <tbody>\n",
       "    <tr>\n",
       "      <th>0</th>\n",
       "      <td>0.414414</td>\n",
       "      <td>0.403796</td>\n",
       "      <td>0.789654</td>\n",
       "      <td>0.834711</td>\n",
       "      <td>0.714104</td>\n",
       "      <td>0.328571</td>\n",
       "      <td>0.560976</td>\n",
       "      <td>0.944615</td>\n",
       "      <td>0.867232</td>\n",
       "      <td>23</td>\n",
       "      <td>307</td>\n",
       "      <td>47</td>\n",
       "      <td>18</td>\n",
       "    </tr>\n",
       "  </tbody>\n",
       "</table>\n",
       "</div>"
      ],
      "text/plain": [
       "   F1 score  AP withdrawn  AP approved  AUROC withdrawn  Balanced accuracy  \\\n",
       "0  0.414414      0.403796     0.789654         0.834711           0.714104   \n",
       "\n",
       "   Precision withdrawn  Recall withdrawn  Precision approved  Recall approved  \\\n",
       "0             0.328571          0.560976            0.944615         0.867232   \n",
       "\n",
       "   True positives  True negatives  False positives  False negatives  \n",
       "0              23             307               47               18  "
      ]
     },
     "execution_count": 356,
     "metadata": {},
     "output_type": "execute_result"
    }
   ],
   "source": [
    "results"
   ]
  },
  {
   "cell_type": "markdown",
   "id": "74d1e9f4-af93-40bd-8251-b0cd658a0055",
   "metadata": {},
   "source": [
    "* tox only"
   ]
  },
  {
   "cell_type": "code",
   "execution_count": 319,
   "id": "6d3b93ec-1b92-4c82-87b2-baf9df64497f",
   "metadata": {},
   "outputs": [
    {
     "data": {
      "text/html": [
       "<div>\n",
       "<style scoped>\n",
       "    .dataframe tbody tr th:only-of-type {\n",
       "        vertical-align: middle;\n",
       "    }\n",
       "\n",
       "    .dataframe tbody tr th {\n",
       "        vertical-align: top;\n",
       "    }\n",
       "\n",
       "    .dataframe thead th {\n",
       "        text-align: right;\n",
       "    }\n",
       "</style>\n",
       "<table border=\"1\" class=\"dataframe\">\n",
       "  <thead>\n",
       "    <tr style=\"text-align: right;\">\n",
       "      <th></th>\n",
       "      <th>F1 score</th>\n",
       "      <th>AP withdrawn</th>\n",
       "      <th>AP approved</th>\n",
       "      <th>AUROC withdrawn</th>\n",
       "      <th>Balanced accuracy</th>\n",
       "      <th>Precision withdrawn</th>\n",
       "      <th>Recall withdrawn</th>\n",
       "      <th>Precision approved</th>\n",
       "      <th>Recall approved</th>\n",
       "      <th>True positives</th>\n",
       "      <th>True negatives</th>\n",
       "      <th>False positives</th>\n",
       "      <th>False negatives</th>\n",
       "    </tr>\n",
       "  </thead>\n",
       "  <tbody>\n",
       "    <tr>\n",
       "      <th>0</th>\n",
       "      <td>0.266667</td>\n",
       "      <td>0.349915</td>\n",
       "      <td>0.798773</td>\n",
       "      <td>0.808185</td>\n",
       "      <td>0.582024</td>\n",
       "      <td>0.421053</td>\n",
       "      <td>0.195122</td>\n",
       "      <td>0.912234</td>\n",
       "      <td>0.968927</td>\n",
       "      <td>8</td>\n",
       "      <td>343</td>\n",
       "      <td>11</td>\n",
       "      <td>33</td>\n",
       "    </tr>\n",
       "  </tbody>\n",
       "</table>\n",
       "</div>"
      ],
      "text/plain": [
       "   F1 score  AP withdrawn  AP approved  AUROC withdrawn  Balanced accuracy  \\\n",
       "0  0.266667      0.349915     0.798773         0.808185           0.582024   \n",
       "\n",
       "   Precision withdrawn  Recall withdrawn  Precision approved  Recall approved  \\\n",
       "0             0.421053          0.195122            0.912234         0.968927   \n",
       "\n",
       "   True positives  True negatives  False positives  False negatives  \n",
       "0               8             343               11               33  "
      ]
     },
     "execution_count": 319,
     "metadata": {},
     "output_type": "execute_result"
    }
   ],
   "source": [
    "results"
   ]
  },
  {
   "cell_type": "markdown",
   "id": "6546f47d-9c1e-4ff5-9873-832f736ddeec",
   "metadata": {},
   "source": [
    "* Results tox + physchem"
   ]
  },
  {
   "cell_type": "code",
   "execution_count": 303,
   "id": "fb4528c6-0d9e-437d-a5fa-75db16ef9032",
   "metadata": {},
   "outputs": [
    {
     "data": {
      "text/html": [
       "<div>\n",
       "<style scoped>\n",
       "    .dataframe tbody tr th:only-of-type {\n",
       "        vertical-align: middle;\n",
       "    }\n",
       "\n",
       "    .dataframe tbody tr th {\n",
       "        vertical-align: top;\n",
       "    }\n",
       "\n",
       "    .dataframe thead th {\n",
       "        text-align: right;\n",
       "    }\n",
       "</style>\n",
       "<table border=\"1\" class=\"dataframe\">\n",
       "  <thead>\n",
       "    <tr style=\"text-align: right;\">\n",
       "      <th></th>\n",
       "      <th>F1 score</th>\n",
       "      <th>AP withdrawn</th>\n",
       "      <th>AP approved</th>\n",
       "      <th>AUROC withdrawn</th>\n",
       "      <th>Balanced accuracy</th>\n",
       "      <th>Precision withdrawn</th>\n",
       "      <th>Recall withdrawn</th>\n",
       "      <th>Precision approved</th>\n",
       "      <th>Recall approved</th>\n",
       "      <th>True positives</th>\n",
       "      <th>True negatives</th>\n",
       "      <th>False positives</th>\n",
       "      <th>False negatives</th>\n",
       "    </tr>\n",
       "  </thead>\n",
       "  <tbody>\n",
       "    <tr>\n",
       "      <th>0</th>\n",
       "      <td>0.384</td>\n",
       "      <td>0.369677</td>\n",
       "      <td>0.793242</td>\n",
       "      <td>0.834849</td>\n",
       "      <td>0.707937</td>\n",
       "      <td>0.285714</td>\n",
       "      <td>0.585366</td>\n",
       "      <td>0.945338</td>\n",
       "      <td>0.830508</td>\n",
       "      <td>24</td>\n",
       "      <td>294</td>\n",
       "      <td>60</td>\n",
       "      <td>17</td>\n",
       "    </tr>\n",
       "  </tbody>\n",
       "</table>\n",
       "</div>"
      ],
      "text/plain": [
       "   F1 score  AP withdrawn  AP approved  AUROC withdrawn  Balanced accuracy  \\\n",
       "0     0.384      0.369677     0.793242         0.834849           0.707937   \n",
       "\n",
       "   Precision withdrawn  Recall withdrawn  Precision approved  Recall approved  \\\n",
       "0             0.285714          0.585366            0.945338         0.830508   \n",
       "\n",
       "   True positives  True negatives  False positives  False negatives  \n",
       "0              24             294               60               17  "
      ]
     },
     "execution_count": 303,
     "metadata": {},
     "output_type": "execute_result"
    }
   ],
   "source": [
    "results"
   ]
  },
  {
   "cell_type": "markdown",
   "id": "f8d02d63-93b8-4981-b79c-4b0d6edce3a3",
   "metadata": {},
   "source": [
    "## ATC codes one-hot encoded"
   ]
  },
  {
   "cell_type": "code",
   "execution_count": 431,
   "id": "b18bd1e5-a02d-44c1-a372-128e271ca581",
   "metadata": {},
   "outputs": [],
   "source": [
    "train = pd.read_csv(root / 'data/processing_pipeline/TDC_predictions/train_subtasks_predictions.csv', index_col=0)\n",
    "train = train.sample(frac=1, random_state=0)  # shuffle\n",
    "test = pd.read_csv(root / 'data/processing_pipeline/TDC_predictions/test_subtasks_predictions.csv', index_col=0)"
   ]
  },
  {
   "cell_type": "code",
   "execution_count": 432,
   "id": "c91bdc75-91d2-4b4e-874e-c3f7685029ea",
   "metadata": {},
   "outputs": [],
   "source": [
    "master_atc = pd.read_csv(root / 'data/processing_pipeline/master_atc.csv', index_col=0)"
   ]
  },
  {
   "cell_type": "code",
   "execution_count": 433,
   "id": "78cfb415-a4e2-4272-a65b-267837d3127c",
   "metadata": {},
   "outputs": [],
   "source": [
    "train = train.merge(master_atc, how='inner', on='chembl_id')\n",
    "test = test.merge(master_atc, how='inner', on='chembl_id')"
   ]
  },
  {
   "cell_type": "code",
   "execution_count": 434,
   "id": "3461ee23-3614-4d1d-b7b8-885b4161987e",
   "metadata": {},
   "outputs": [],
   "source": [
    "train['atc_code'] = train['atc_code'].str.split('0').str[0]\n",
    "train['atc_code'] = train['atc_code'].str.split('1').str[0]\n",
    "\n",
    "test['atc_code'] = test['atc_code'].str.split('0').str[0]\n",
    "test['atc_code'] = test['atc_code'].str.split('1').str[0]"
   ]
  },
  {
   "cell_type": "code",
   "execution_count": 454,
   "id": "ca9567e9-4444-493c-a714-da43765a0136",
   "metadata": {},
   "outputs": [
    {
     "data": {
      "text/plain": [
       "14"
      ]
     },
     "execution_count": 454,
     "metadata": {},
     "output_type": "execute_result"
    }
   ],
   "source": [
    "train['atc_code'].nunique()"
   ]
  },
  {
   "cell_type": "code",
   "execution_count": 435,
   "id": "991a4c40-ede5-4ac5-ac9a-2dba69a0e3d2",
   "metadata": {},
   "outputs": [],
   "source": [
    "y_train = train['wd_consensus_1']\n",
    "y_test = test['wd_consensus_1']\n",
    "X_train = train.drop(columns=['wd_consensus_1', 'chembl_id','standardized_smiles'])\n",
    "X_test = test.drop(columns=['wd_consensus_1', 'chembl_id','standardized_smiles'])"
   ]
  },
  {
   "cell_type": "code",
   "execution_count": 436,
   "id": "158fcff2-5c4f-46d8-bfb8-1416de54f8f6",
   "metadata": {},
   "outputs": [],
   "source": [
    "X_train = pd.get_dummies(X_train)"
   ]
  },
  {
   "cell_type": "code",
   "execution_count": 437,
   "id": "f0fc292b-57ad-4684-8eab-d2753f7ef05f",
   "metadata": {},
   "outputs": [],
   "source": [
    "X_test = pd.get_dummies(X_test)"
   ]
  },
  {
   "cell_type": "code",
   "execution_count": 440,
   "id": "cea77f17-ccae-44d7-b701-c57d947f782f",
   "metadata": {},
   "outputs": [],
   "source": [
    "    params = {\n",
    "        'learning_rate': [0.05, 0.10, 0.15, 0.20, 0.25, 0.30],\n",
    "        'max_depth': [3, 4, 5, 6, 8, 10, 12, 15],\n",
    "        'min_child_weight': [1, 3, 5, 7],\n",
    "        'gamma': [0.0, 0.1, 0.2, 0.3, 0.4],\n",
    "        'colsample_bytree': [0.3, 0.4, 0.5, 0.7],\n",
    "        'scale_pos_weight': [5, 10, 15, 20, 35],\n",
    "        'n_estimators': [100, 200, 300, 400, 500],\n",
    "    }"
   ]
  },
  {
   "cell_type": "code",
   "execution_count": 441,
   "id": "13992d31-c19d-4f6b-a98e-02fd219d9e0d",
   "metadata": {},
   "outputs": [],
   "source": [
    "classifier = XGBClassifier()"
   ]
  },
  {
   "cell_type": "code",
   "execution_count": 446,
   "id": "0d486d46-cb12-4eaa-b695-cf516dbfa9f9",
   "metadata": {},
   "outputs": [
    {
     "name": "stdout",
     "output_type": "stream",
     "text": [
      "Fitting 6 folds for each of 100 candidates, totalling 600 fits\n"
     ]
    },
    {
     "name": "stderr",
     "output_type": "stream",
     "text": [
      "[Parallel(n_jobs=-1)]: Using backend LokyBackend with 8 concurrent workers.\n",
      "[Parallel(n_jobs=-1)]: Done  16 tasks      | elapsed:  1.1min\n",
      "[Parallel(n_jobs=-1)]: Done 112 tasks      | elapsed:  4.8min\n",
      "[Parallel(n_jobs=-1)]: Done 272 tasks      | elapsed: 10.6min\n",
      "[Parallel(n_jobs=-1)]: Done 496 tasks      | elapsed: 17.3min\n",
      "[Parallel(n_jobs=-1)]: Done 600 out of 600 | elapsed: 20.0min finished\n",
      "The use of label encoder in XGBClassifier is deprecated and will be removed in a future release. To remove this warning, do the following: 1) Pass option use_label_encoder=False when constructing XGBClassifier object; and 2) Encode your labels (y) as integers starting with 0, i.e. 0, 1, 2, ..., [num_class - 1].\n"
     ]
    },
    {
     "name": "stdout",
     "output_type": "stream",
     "text": [
      "[00:15:56] WARNING: /tmp/build/80754af9/xgboost-split_1619724447847/work/src/learner.cc:1061: Starting in XGBoost 1.3.0, the default evaluation metric used with the objective 'binary:logistic' was changed from 'error' to 'logloss'. Explicitly set eval_metric if you'd like to restore the old behavior.\n"
     ]
    },
    {
     "data": {
      "text/plain": [
       "RandomizedSearchCV(cv=6,\n",
       "                   estimator=XGBClassifier(base_score=None, booster=None,\n",
       "                                           colsample_bylevel=None,\n",
       "                                           colsample_bynode=None,\n",
       "                                           colsample_bytree=None, gamma=None,\n",
       "                                           gpu_id=None, importance_type='gain',\n",
       "                                           interaction_constraints=None,\n",
       "                                           learning_rate=None,\n",
       "                                           max_delta_step=None, max_depth=None,\n",
       "                                           min_child_weight=None, missing=nan,\n",
       "                                           monotone_constraints=None,\n",
       "                                           n_estimators=100,...\n",
       "                                           validate_parameters=None,\n",
       "                                           verbosity=None),\n",
       "                   n_iter=100, n_jobs=-1,\n",
       "                   param_distributions={'colsample_bytree': [0.3, 0.4, 0.5,\n",
       "                                                             0.7],\n",
       "                                        'gamma': [0.0, 0.1, 0.2, 0.3, 0.4],\n",
       "                                        'learning_rate': [0.05, 0.1, 0.15, 0.2,\n",
       "                                                          0.25, 0.3],\n",
       "                                        'max_depth': [3, 4, 5, 6, 8, 10, 12,\n",
       "                                                      15],\n",
       "                                        'min_child_weight': [1, 3, 5, 7],\n",
       "                                        'n_estimators': [100, 200, 300, 400,\n",
       "                                                         500],\n",
       "                                        'scale_pos_weight': [5, 10, 15, 20,\n",
       "                                                             35]},\n",
       "                   scoring='average_precision', verbose=3)"
      ]
     },
     "execution_count": 446,
     "metadata": {},
     "output_type": "execute_result"
    }
   ],
   "source": [
    "rs_model = RandomizedSearchCV(classifier, param_distributions=params, n_iter=100, scoring='average_precision',\n",
    "                              n_jobs=-1, cv=6, verbose=3)\n",
    "rs_model.fit(X_train, y_train)"
   ]
  },
  {
   "cell_type": "code",
   "execution_count": 450,
   "id": "49357d7a-8000-4b28-9a59-0968650455dd",
   "metadata": {},
   "outputs": [],
   "source": [
    "predictions = rs_model.best_estimator_.predict_proba(X_test)\n",
    "test_pred_df = pd.DataFrame({'probabilities': predictions[:, 1],\n",
    "                             withdrawn_col: y_test,\n",
    "                             'predicted_class': rs_model.predict(X_test)})"
   ]
  },
  {
   "cell_type": "code",
   "execution_count": 451,
   "id": "6fed1ed6-6430-4360-b1b5-70cbbe2b2b29",
   "metadata": {},
   "outputs": [],
   "source": [
    "results = table_metrics_trees(test_pred_df, withdrawn_col)"
   ]
  },
  {
   "cell_type": "code",
   "execution_count": 452,
   "id": "918b7cee-1fcc-4e91-8fc5-a74fda438849",
   "metadata": {},
   "outputs": [
    {
     "data": {
      "text/html": [
       "<div>\n",
       "<style scoped>\n",
       "    .dataframe tbody tr th:only-of-type {\n",
       "        vertical-align: middle;\n",
       "    }\n",
       "\n",
       "    .dataframe tbody tr th {\n",
       "        vertical-align: top;\n",
       "    }\n",
       "\n",
       "    .dataframe thead th {\n",
       "        text-align: right;\n",
       "    }\n",
       "</style>\n",
       "<table border=\"1\" class=\"dataframe\">\n",
       "  <thead>\n",
       "    <tr style=\"text-align: right;\">\n",
       "      <th></th>\n",
       "      <th>F1 score</th>\n",
       "      <th>AP withdrawn</th>\n",
       "      <th>AP approved</th>\n",
       "      <th>AUROC withdrawn</th>\n",
       "      <th>Balanced accuracy</th>\n",
       "      <th>Precision withdrawn</th>\n",
       "      <th>Recall withdrawn</th>\n",
       "      <th>Precision approved</th>\n",
       "      <th>Recall approved</th>\n",
       "      <th>True positives</th>\n",
       "      <th>True negatives</th>\n",
       "      <th>False positives</th>\n",
       "      <th>False negatives</th>\n",
       "    </tr>\n",
       "  </thead>\n",
       "  <tbody>\n",
       "    <tr>\n",
       "      <th>0</th>\n",
       "      <td>0.378947</td>\n",
       "      <td>0.295174</td>\n",
       "      <td>0.816961</td>\n",
       "      <td>0.797965</td>\n",
       "      <td>0.668112</td>\n",
       "      <td>0.339623</td>\n",
       "      <td>0.428571</td>\n",
       "      <td>0.934783</td>\n",
       "      <td>0.907652</td>\n",
       "      <td>18</td>\n",
       "      <td>344</td>\n",
       "      <td>35</td>\n",
       "      <td>24</td>\n",
       "    </tr>\n",
       "  </tbody>\n",
       "</table>\n",
       "</div>"
      ],
      "text/plain": [
       "   F1 score  AP withdrawn  AP approved  AUROC withdrawn  Balanced accuracy  \\\n",
       "0  0.378947      0.295174     0.816961         0.797965           0.668112   \n",
       "\n",
       "   Precision withdrawn  Recall withdrawn  Precision approved  Recall approved  \\\n",
       "0             0.339623          0.428571            0.934783         0.907652   \n",
       "\n",
       "   True positives  True negatives  False positives  False negatives  \n",
       "0              18             344               35               24  "
      ]
     },
     "execution_count": 452,
     "metadata": {},
     "output_type": "execute_result"
    }
   ],
   "source": [
    "results"
   ]
  },
  {
   "cell_type": "markdown",
   "id": "d9d367df-f594-486a-a34c-6865efc6f835",
   "metadata": {},
   "source": [
    "# WD Models with ATC codes"
   ]
  },
  {
   "cell_type": "code",
   "execution_count": 47,
   "id": "067bc2c8-db7e-4e98-afdf-4de73e6a96cb",
   "metadata": {},
   "outputs": [],
   "source": [
    "import pandas as pd\n",
    "from pathlib import Path"
   ]
  },
  {
   "cell_type": "code",
   "execution_count": 7,
   "id": "b4050a0a-1f95-44ff-89b5-61941c39cf24",
   "metadata": {},
   "outputs": [],
   "source": [
    "root = Path('/home/dionizije/Documents/drug_attrition_oracle')"
   ]
  },
  {
   "cell_type": "code",
   "execution_count": 9,
   "id": "433b9c71-032a-442b-be26-467e9d837460",
   "metadata": {},
   "outputs": [],
   "source": [
    "train = pd.read_csv(root / 'data/processing_pipeline/TDC_predictions/train_subtasks_predictions.csv', index_col=0)\n",
    "train = train.sample(frac=1, random_state=0)  # shuffle\n",
    "test = pd.read_csv(root / 'data/processing_pipeline/TDC_predictions/test_subtasks_predictions.csv', index_col=0)\n",
    "#toxprints = pd.read_csv(root / 'data/processing_pipeline/descriptors/toxprint_descriptors.csv')\n",
    "#toxprints_disease = pd.read_csv(root / 'complementary_model_results/toxprint_disease.csv')\n",
    "#chembl_ids = toxprints['chembl_id']\n",
    "#toxprints = toxprints[toxprint_descriptors_10pct] # drop mostly 0 zescriptors\n",
    "#toxprints['chembl_id'] = chembl_ids\n",
    "master_atc = pd.read_csv(root / 'data/processing_pipeline/master_atc.csv', index_col=0)"
   ]
  },
  {
   "cell_type": "code",
   "execution_count": 353,
   "id": "c914067e-0d9c-40d5-b275-99c397912c02",
   "metadata": {},
   "outputs": [],
   "source": [
    "toxprints_disease = toxprints_disease.rename(columns={'Unnamed: 0': 'atc_code'})"
   ]
  },
  {
   "cell_type": "code",
   "execution_count": 354,
   "id": "a12c859c-df4c-4706-9623-ac23ac088aa1",
   "metadata": {},
   "outputs": [],
   "source": [
    "regex = re.compile(r\"\\[|\\]|<\", re.IGNORECASE)\n",
    "toxprints.columns = [regex.sub(\"_\", col) if any(x in str(col) for x in set(('[', ']', '<'))) else col for col in\n",
    "          toxprints.columns.values]"
   ]
  },
  {
   "cell_type": "code",
   "execution_count": 10,
   "id": "68a64e6b-bd33-4444-a2bc-0b31ad4a48d0",
   "metadata": {},
   "outputs": [],
   "source": [
    "train = train.merge(master_atc, how='inner', on='chembl_id')\n",
    "test = test.merge(master_atc, how='inner', on='chembl_id')\n",
    "\n",
    "#train = train.merge(toxprints, how='inner', on='chembl_id')\n",
    "#test = test.merge(toxprints, how='inner', on='chembl_id')"
   ]
  },
  {
   "cell_type": "code",
   "execution_count": 14,
   "id": "1dff3d14-f61e-4537-bdf0-45efdc555eec",
   "metadata": {},
   "outputs": [],
   "source": [
    "train.to_csv('train_atc.csv')"
   ]
  },
  {
   "cell_type": "code",
   "execution_count": 13,
   "id": "e6eeef4f-2844-4741-a9f0-8bf6ddef8aa1",
   "metadata": {},
   "outputs": [],
   "source": [
    "test.to_csv('test_atc.csv')"
   ]
  },
  {
   "cell_type": "code",
   "execution_count": 356,
   "id": "5a82ced7-4f97-4bde-9849-68f3bd8d4b24",
   "metadata": {},
   "outputs": [],
   "source": [
    "    train['atc_code'] = train['atc_code'].str.split('0').str[0]\n",
    "    train['atc_code'] = train['atc_code'].str.split('1').str[0]\n",
    "\n",
    "    test['atc_code'] = test['atc_code'].str.split('0').str[0]\n",
    "    test['atc_code'] = test['atc_code'].str.split('1').str[0]"
   ]
  },
  {
   "cell_type": "code",
   "execution_count": 404,
   "id": "522d26e6-bc78-4bcb-b171-dac2cbec59cd",
   "metadata": {},
   "outputs": [],
   "source": [
    "results_df = pd.DataFrame(results, columns=columns[0], index=atc_codes)"
   ]
  },
  {
   "cell_type": "code",
   "execution_count": 405,
   "id": "24cb3605-d13f-42d9-8196-b8037c7f1534",
   "metadata": {},
   "outputs": [
    {
     "data": {
      "text/html": [
       "<div>\n",
       "<style scoped>\n",
       "    .dataframe tbody tr th:only-of-type {\n",
       "        vertical-align: middle;\n",
       "    }\n",
       "\n",
       "    .dataframe tbody tr th {\n",
       "        vertical-align: top;\n",
       "    }\n",
       "\n",
       "    .dataframe thead th {\n",
       "        text-align: right;\n",
       "    }\n",
       "</style>\n",
       "<table border=\"1\" class=\"dataframe\">\n",
       "  <thead>\n",
       "    <tr style=\"text-align: right;\">\n",
       "      <th></th>\n",
       "      <th>F1 score</th>\n",
       "      <th>AP withdrawn</th>\n",
       "      <th>AP approved</th>\n",
       "      <th>AUROC withdrawn</th>\n",
       "      <th>Balanced accuracy</th>\n",
       "      <th>Precision withdrawn</th>\n",
       "      <th>Recall withdrawn</th>\n",
       "      <th>Precision approved</th>\n",
       "      <th>Recall approved</th>\n",
       "      <th>True positives</th>\n",
       "      <th>True negatives</th>\n",
       "      <th>False positives</th>\n",
       "      <th>False negatives</th>\n",
       "    </tr>\n",
       "  </thead>\n",
       "  <tbody>\n",
       "    <tr>\n",
       "      <th>C</th>\n",
       "      <td>0.000000</td>\n",
       "      <td>0.100442</td>\n",
       "      <td>0.947093</td>\n",
       "      <td>0.323077</td>\n",
       "      <td>0.435897</td>\n",
       "      <td>0.000000</td>\n",
       "      <td>0.000000</td>\n",
       "      <td>0.871795</td>\n",
       "      <td>0.871795</td>\n",
       "      <td>0.0</td>\n",
       "      <td>34.0</td>\n",
       "      <td>5.0</td>\n",
       "      <td>5.0</td>\n",
       "    </tr>\n",
       "    <tr>\n",
       "      <th>N</th>\n",
       "      <td>0.250000</td>\n",
       "      <td>0.216837</td>\n",
       "      <td>0.807135</td>\n",
       "      <td>0.503711</td>\n",
       "      <td>0.534323</td>\n",
       "      <td>0.230769</td>\n",
       "      <td>0.272727</td>\n",
       "      <td>0.829787</td>\n",
       "      <td>0.795918</td>\n",
       "      <td>3.0</td>\n",
       "      <td>39.0</td>\n",
       "      <td>10.0</td>\n",
       "      <td>8.0</td>\n",
       "    </tr>\n",
       "    <tr>\n",
       "      <th>M</th>\n",
       "      <td>0.400000</td>\n",
       "      <td>0.241667</td>\n",
       "      <td>0.901923</td>\n",
       "      <td>0.333333</td>\n",
       "      <td>0.550000</td>\n",
       "      <td>0.250000</td>\n",
       "      <td>1.000000</td>\n",
       "      <td>1.000000</td>\n",
       "      <td>0.100000</td>\n",
       "      <td>3.0</td>\n",
       "      <td>1.0</td>\n",
       "      <td>9.0</td>\n",
       "      <td>0.0</td>\n",
       "    </tr>\n",
       "    <tr>\n",
       "      <th>G</th>\n",
       "      <td>0.000000</td>\n",
       "      <td>0.050000</td>\n",
       "      <td>0.965789</td>\n",
       "      <td>0.342105</td>\n",
       "      <td>0.500000</td>\n",
       "      <td>0.000000</td>\n",
       "      <td>0.000000</td>\n",
       "      <td>0.950000</td>\n",
       "      <td>1.000000</td>\n",
       "      <td>0.0</td>\n",
       "      <td>19.0</td>\n",
       "      <td>0.0</td>\n",
       "      <td>1.0</td>\n",
       "    </tr>\n",
       "    <tr>\n",
       "      <th>L</th>\n",
       "      <td>0.000000</td>\n",
       "      <td>0.022222</td>\n",
       "      <td>0.993939</td>\n",
       "      <td>0.136364</td>\n",
       "      <td>0.420455</td>\n",
       "      <td>0.000000</td>\n",
       "      <td>0.000000</td>\n",
       "      <td>0.973684</td>\n",
       "      <td>0.840909</td>\n",
       "      <td>0.0</td>\n",
       "      <td>37.0</td>\n",
       "      <td>7.0</td>\n",
       "      <td>1.0</td>\n",
       "    </tr>\n",
       "    <tr>\n",
       "      <th>A</th>\n",
       "      <td>0.222222</td>\n",
       "      <td>0.222222</td>\n",
       "      <td>0.877779</td>\n",
       "      <td>0.677083</td>\n",
       "      <td>0.625000</td>\n",
       "      <td>0.142857</td>\n",
       "      <td>0.500000</td>\n",
       "      <td>0.947368</td>\n",
       "      <td>0.750000</td>\n",
       "      <td>1.0</td>\n",
       "      <td>18.0</td>\n",
       "      <td>6.0</td>\n",
       "      <td>1.0</td>\n",
       "    </tr>\n",
       "    <tr>\n",
       "      <th>D</th>\n",
       "      <td>0.000000</td>\n",
       "      <td>0.062745</td>\n",
       "      <td>0.950420</td>\n",
       "      <td>0.410714</td>\n",
       "      <td>0.428571</td>\n",
       "      <td>0.000000</td>\n",
       "      <td>0.000000</td>\n",
       "      <td>0.923077</td>\n",
       "      <td>0.857143</td>\n",
       "      <td>0.0</td>\n",
       "      <td>24.0</td>\n",
       "      <td>4.0</td>\n",
       "      <td>2.0</td>\n",
       "    </tr>\n",
       "    <tr>\n",
       "      <th>S</th>\n",
       "      <td>0.181818</td>\n",
       "      <td>0.250000</td>\n",
       "      <td>0.900207</td>\n",
       "      <td>0.934783</td>\n",
       "      <td>0.804348</td>\n",
       "      <td>0.100000</td>\n",
       "      <td>1.000000</td>\n",
       "      <td>1.000000</td>\n",
       "      <td>0.608696</td>\n",
       "      <td>1.0</td>\n",
       "      <td>14.0</td>\n",
       "      <td>9.0</td>\n",
       "      <td>0.0</td>\n",
       "    </tr>\n",
       "    <tr>\n",
       "      <th>J</th>\n",
       "      <td>0.000000</td>\n",
       "      <td>0.166667</td>\n",
       "      <td>0.943082</td>\n",
       "      <td>0.779070</td>\n",
       "      <td>0.430233</td>\n",
       "      <td>0.000000</td>\n",
       "      <td>0.000000</td>\n",
       "      <td>0.948718</td>\n",
       "      <td>0.860465</td>\n",
       "      <td>0.0</td>\n",
       "      <td>37.0</td>\n",
       "      <td>6.0</td>\n",
       "      <td>2.0</td>\n",
       "    </tr>\n",
       "    <tr>\n",
       "      <th>R</th>\n",
       "      <td>0.571429</td>\n",
       "      <td>0.513095</td>\n",
       "      <td>0.747381</td>\n",
       "      <td>0.887500</td>\n",
       "      <td>0.725000</td>\n",
       "      <td>0.666667</td>\n",
       "      <td>0.500000</td>\n",
       "      <td>0.904762</td>\n",
       "      <td>0.950000</td>\n",
       "      <td>2.0</td>\n",
       "      <td>19.0</td>\n",
       "      <td>1.0</td>\n",
       "      <td>2.0</td>\n",
       "    </tr>\n",
       "  </tbody>\n",
       "</table>\n",
       "</div>"
      ],
      "text/plain": [
       "   F1 score  AP withdrawn  AP approved  AUROC withdrawn  Balanced accuracy  \\\n",
       "C  0.000000      0.100442     0.947093         0.323077           0.435897   \n",
       "N  0.250000      0.216837     0.807135         0.503711           0.534323   \n",
       "M  0.400000      0.241667     0.901923         0.333333           0.550000   \n",
       "G  0.000000      0.050000     0.965789         0.342105           0.500000   \n",
       "L  0.000000      0.022222     0.993939         0.136364           0.420455   \n",
       "A  0.222222      0.222222     0.877779         0.677083           0.625000   \n",
       "D  0.000000      0.062745     0.950420         0.410714           0.428571   \n",
       "S  0.181818      0.250000     0.900207         0.934783           0.804348   \n",
       "J  0.000000      0.166667     0.943082         0.779070           0.430233   \n",
       "R  0.571429      0.513095     0.747381         0.887500           0.725000   \n",
       "\n",
       "   Precision withdrawn  Recall withdrawn  Precision approved  Recall approved  \\\n",
       "C             0.000000          0.000000            0.871795         0.871795   \n",
       "N             0.230769          0.272727            0.829787         0.795918   \n",
       "M             0.250000          1.000000            1.000000         0.100000   \n",
       "G             0.000000          0.000000            0.950000         1.000000   \n",
       "L             0.000000          0.000000            0.973684         0.840909   \n",
       "A             0.142857          0.500000            0.947368         0.750000   \n",
       "D             0.000000          0.000000            0.923077         0.857143   \n",
       "S             0.100000          1.000000            1.000000         0.608696   \n",
       "J             0.000000          0.000000            0.948718         0.860465   \n",
       "R             0.666667          0.500000            0.904762         0.950000   \n",
       "\n",
       "   True positives  True negatives  False positives  False negatives  \n",
       "C             0.0            34.0              5.0              5.0  \n",
       "N             3.0            39.0             10.0              8.0  \n",
       "M             3.0             1.0              9.0              0.0  \n",
       "G             0.0            19.0              0.0              1.0  \n",
       "L             0.0            37.0              7.0              1.0  \n",
       "A             1.0            18.0              6.0              1.0  \n",
       "D             0.0            24.0              4.0              2.0  \n",
       "S             1.0            14.0              9.0              0.0  \n",
       "J             0.0            37.0              6.0              2.0  \n",
       "R             2.0            19.0              1.0              2.0  "
      ]
     },
     "execution_count": 405,
     "metadata": {},
     "output_type": "execute_result"
    }
   ],
   "source": [
    "results_df"
   ]
  },
  {
   "cell_type": "code",
   "execution_count": 403,
   "id": "38dec2e6-5774-4949-9b00-7e24cf54e4e9",
   "metadata": {},
   "outputs": [
    {
     "name": "stdout",
     "output_type": "stream",
     "text": [
      "C\n",
      "Fitting 6 folds for each of 100 candidates, totalling 600 fits\n"
     ]
    },
    {
     "name": "stderr",
     "output_type": "stream",
     "text": [
      "[Parallel(n_jobs=-1)]: Using backend LokyBackend with 8 concurrent workers.\n",
      "[Parallel(n_jobs=-1)]: Done  16 tasks      | elapsed:    3.0s\n",
      "[Parallel(n_jobs=-1)]: Done 112 tasks      | elapsed:    7.6s\n",
      "[Parallel(n_jobs=-1)]: Done 272 tasks      | elapsed:   19.6s\n",
      "[Parallel(n_jobs=-1)]: Done 496 tasks      | elapsed:   38.4s\n",
      "[Parallel(n_jobs=-1)]: Done 600 out of 600 | elapsed:   47.3s finished\n",
      "The use of label encoder in XGBClassifier is deprecated and will be removed in a future release. To remove this warning, do the following: 1) Pass option use_label_encoder=False when constructing XGBClassifier object; and 2) Encode your labels (y) as integers starting with 0, i.e. 0, 1, 2, ..., [num_class - 1].\n"
     ]
    },
    {
     "name": "stdout",
     "output_type": "stream",
     "text": [
      "[12:26:22] WARNING: /tmp/build/80754af9/xgboost-split_1619724447847/work/src/learner.cc:1061: Starting in XGBoost 1.3.0, the default evaluation metric used with the objective 'binary:logistic' was changed from 'error' to 'logloss'. Explicitly set eval_metric if you'd like to restore the old behavior.\n",
      "N\n",
      "Fitting 6 folds for each of 100 candidates, totalling 600 fits\n"
     ]
    },
    {
     "name": "stderr",
     "output_type": "stream",
     "text": [
      "[Parallel(n_jobs=-1)]: Using backend LokyBackend with 8 concurrent workers.\n",
      "[Parallel(n_jobs=-1)]: Done  16 tasks      | elapsed:    1.8s\n",
      "[Parallel(n_jobs=-1)]: Done 144 tasks      | elapsed:   13.5s\n",
      "[Parallel(n_jobs=-1)]: Done 304 tasks      | elapsed:   25.7s\n",
      "[Parallel(n_jobs=-1)]: Done 528 tasks      | elapsed:   45.8s\n",
      "[Parallel(n_jobs=-1)]: Done 600 out of 600 | elapsed:   52.9s finished\n",
      "The use of label encoder in XGBClassifier is deprecated and will be removed in a future release. To remove this warning, do the following: 1) Pass option use_label_encoder=False when constructing XGBClassifier object; and 2) Encode your labels (y) as integers starting with 0, i.e. 0, 1, 2, ..., [num_class - 1].\n"
     ]
    },
    {
     "name": "stdout",
     "output_type": "stream",
     "text": [
      "[12:27:16] WARNING: /tmp/build/80754af9/xgboost-split_1619724447847/work/src/learner.cc:1061: Starting in XGBoost 1.3.0, the default evaluation metric used with the objective 'binary:logistic' was changed from 'error' to 'logloss'. Explicitly set eval_metric if you'd like to restore the old behavior.\n",
      "M\n",
      "Fitting 6 folds for each of 100 candidates, totalling 600 fits\n"
     ]
    },
    {
     "name": "stderr",
     "output_type": "stream",
     "text": [
      "[Parallel(n_jobs=-1)]: Using backend LokyBackend with 8 concurrent workers.\n",
      "[Parallel(n_jobs=-1)]: Done  16 tasks      | elapsed:    1.5s\n",
      "[Parallel(n_jobs=-1)]: Done 144 tasks      | elapsed:   10.6s\n",
      "[Parallel(n_jobs=-1)]: Done 304 tasks      | elapsed:   21.8s\n",
      "[Parallel(n_jobs=-1)]: Done 528 tasks      | elapsed:   40.2s\n",
      "[Parallel(n_jobs=-1)]: Done 600 out of 600 | elapsed:   46.0s finished\n",
      "The use of label encoder in XGBClassifier is deprecated and will be removed in a future release. To remove this warning, do the following: 1) Pass option use_label_encoder=False when constructing XGBClassifier object; and 2) Encode your labels (y) as integers starting with 0, i.e. 0, 1, 2, ..., [num_class - 1].\n"
     ]
    },
    {
     "name": "stdout",
     "output_type": "stream",
     "text": [
      "[12:28:02] WARNING: /tmp/build/80754af9/xgboost-split_1619724447847/work/src/learner.cc:1061: Starting in XGBoost 1.3.0, the default evaluation metric used with the objective 'binary:logistic' was changed from 'error' to 'logloss'. Explicitly set eval_metric if you'd like to restore the old behavior.\n",
      "G\n",
      "Fitting 6 folds for each of 100 candidates, totalling 600 fits\n"
     ]
    },
    {
     "name": "stderr",
     "output_type": "stream",
     "text": [
      "[Parallel(n_jobs=-1)]: Using backend LokyBackend with 8 concurrent workers.\n",
      "[Parallel(n_jobs=-1)]: Done  16 tasks      | elapsed:    1.5s\n",
      "[Parallel(n_jobs=-1)]: Done 192 tasks      | elapsed:   12.4s\n",
      "[Parallel(n_jobs=-1)]: Done 352 tasks      | elapsed:   26.4s\n",
      "[Parallel(n_jobs=-1)]: Done 576 tasks      | elapsed:   44.5s\n",
      "[Parallel(n_jobs=-1)]: Done 600 out of 600 | elapsed:   46.7s finished\n",
      "The use of label encoder in XGBClassifier is deprecated and will be removed in a future release. To remove this warning, do the following: 1) Pass option use_label_encoder=False when constructing XGBClassifier object; and 2) Encode your labels (y) as integers starting with 0, i.e. 0, 1, 2, ..., [num_class - 1].\n",
      "Precision is ill-defined and being set to 0.0 due to no predicted samples. Use `zero_division` parameter to control this behavior.\n",
      "Precision is ill-defined and being set to 0.0 due to no predicted samples. Use `zero_division` parameter to control this behavior.\n"
     ]
    },
    {
     "name": "stdout",
     "output_type": "stream",
     "text": [
      "[12:28:49] WARNING: /tmp/build/80754af9/xgboost-split_1619724447847/work/src/learner.cc:1061: Starting in XGBoost 1.3.0, the default evaluation metric used with the objective 'binary:logistic' was changed from 'error' to 'logloss'. Explicitly set eval_metric if you'd like to restore the old behavior.\n",
      "L\n",
      "Fitting 6 folds for each of 100 candidates, totalling 600 fits\n"
     ]
    },
    {
     "name": "stderr",
     "output_type": "stream",
     "text": [
      "[Parallel(n_jobs=-1)]: Using backend LokyBackend with 8 concurrent workers.\n",
      "[Parallel(n_jobs=-1)]: Done  16 tasks      | elapsed:    1.3s\n",
      "[Parallel(n_jobs=-1)]: Done 208 tasks      | elapsed:   11.0s\n",
      "[Parallel(n_jobs=-1)]: Done 448 tasks      | elapsed:   25.4s\n",
      "[Parallel(n_jobs=-1)]: Done 600 out of 600 | elapsed:   37.7s finished\n",
      "The use of label encoder in XGBClassifier is deprecated and will be removed in a future release. To remove this warning, do the following: 1) Pass option use_label_encoder=False when constructing XGBClassifier object; and 2) Encode your labels (y) as integers starting with 0, i.e. 0, 1, 2, ..., [num_class - 1].\n"
     ]
    },
    {
     "name": "stdout",
     "output_type": "stream",
     "text": [
      "[12:29:27] WARNING: /tmp/build/80754af9/xgboost-split_1619724447847/work/src/learner.cc:1061: Starting in XGBoost 1.3.0, the default evaluation metric used with the objective 'binary:logistic' was changed from 'error' to 'logloss'. Explicitly set eval_metric if you'd like to restore the old behavior.\n",
      "V\n",
      "A\n",
      "Fitting 6 folds for each of 100 candidates, totalling 600 fits\n"
     ]
    },
    {
     "name": "stderr",
     "output_type": "stream",
     "text": [
      "[Parallel(n_jobs=-1)]: Using backend LokyBackend with 8 concurrent workers.\n",
      "[Parallel(n_jobs=-1)]: Done  16 tasks      | elapsed:    1.5s\n",
      "[Parallel(n_jobs=-1)]: Done 144 tasks      | elapsed:   10.7s\n",
      "[Parallel(n_jobs=-1)]: Done 304 tasks      | elapsed:   25.1s\n",
      "[Parallel(n_jobs=-1)]: Done 528 tasks      | elapsed:   44.5s\n",
      "[Parallel(n_jobs=-1)]: Done 600 out of 600 | elapsed:   51.8s finished\n",
      "The use of label encoder in XGBClassifier is deprecated and will be removed in a future release. To remove this warning, do the following: 1) Pass option use_label_encoder=False when constructing XGBClassifier object; and 2) Encode your labels (y) as integers starting with 0, i.e. 0, 1, 2, ..., [num_class - 1].\n"
     ]
    },
    {
     "name": "stdout",
     "output_type": "stream",
     "text": [
      "[12:30:20] WARNING: /tmp/build/80754af9/xgboost-split_1619724447847/work/src/learner.cc:1061: Starting in XGBoost 1.3.0, the default evaluation metric used with the objective 'binary:logistic' was changed from 'error' to 'logloss'. Explicitly set eval_metric if you'd like to restore the old behavior.\n",
      "D\n",
      "Fitting 6 folds for each of 100 candidates, totalling 600 fits\n"
     ]
    },
    {
     "name": "stderr",
     "output_type": "stream",
     "text": [
      "[Parallel(n_jobs=-1)]: Using backend LokyBackend with 8 concurrent workers.\n",
      "[Parallel(n_jobs=-1)]: Done  16 tasks      | elapsed:    1.3s\n",
      "[Parallel(n_jobs=-1)]: Done 112 tasks      | elapsed:    8.5s\n",
      "[Parallel(n_jobs=-1)]: Done 272 tasks      | elapsed:   21.5s\n",
      "[Parallel(n_jobs=-1)]: Done 496 tasks      | elapsed:   39.8s\n",
      "[Parallel(n_jobs=-1)]: Done 600 out of 600 | elapsed:   48.8s finished\n",
      "The use of label encoder in XGBClassifier is deprecated and will be removed in a future release. To remove this warning, do the following: 1) Pass option use_label_encoder=False when constructing XGBClassifier object; and 2) Encode your labels (y) as integers starting with 0, i.e. 0, 1, 2, ..., [num_class - 1].\n"
     ]
    },
    {
     "name": "stdout",
     "output_type": "stream",
     "text": [
      "[12:31:09] WARNING: /tmp/build/80754af9/xgboost-split_1619724447847/work/src/learner.cc:1061: Starting in XGBoost 1.3.0, the default evaluation metric used with the objective 'binary:logistic' was changed from 'error' to 'logloss'. Explicitly set eval_metric if you'd like to restore the old behavior.\n",
      "H\n",
      "S\n",
      "Fitting 6 folds for each of 100 candidates, totalling 600 fits\n"
     ]
    },
    {
     "name": "stderr",
     "output_type": "stream",
     "text": [
      "[Parallel(n_jobs=-1)]: Using backend LokyBackend with 8 concurrent workers.\n",
      "[Parallel(n_jobs=-1)]: Done  16 tasks      | elapsed:    1.1s\n",
      "[Parallel(n_jobs=-1)]: Done 208 tasks      | elapsed:   10.9s\n",
      "[Parallel(n_jobs=-1)]: Done 528 tasks      | elapsed:   27.3s\n",
      "[Parallel(n_jobs=-1)]: Done 600 out of 600 | elapsed:   30.6s finished\n",
      "The use of label encoder in XGBClassifier is deprecated and will be removed in a future release. To remove this warning, do the following: 1) Pass option use_label_encoder=False when constructing XGBClassifier object; and 2) Encode your labels (y) as integers starting with 0, i.e. 0, 1, 2, ..., [num_class - 1].\n"
     ]
    },
    {
     "name": "stdout",
     "output_type": "stream",
     "text": [
      "[12:31:40] WARNING: /tmp/build/80754af9/xgboost-split_1619724447847/work/src/learner.cc:1061: Starting in XGBoost 1.3.0, the default evaluation metric used with the objective 'binary:logistic' was changed from 'error' to 'logloss'. Explicitly set eval_metric if you'd like to restore the old behavior.\n",
      "J\n",
      "Fitting 6 folds for each of 100 candidates, totalling 600 fits\n"
     ]
    },
    {
     "name": "stderr",
     "output_type": "stream",
     "text": [
      "[Parallel(n_jobs=-1)]: Using backend LokyBackend with 8 concurrent workers.\n",
      "[Parallel(n_jobs=-1)]: Done  16 tasks      | elapsed:    1.4s\n",
      "[Parallel(n_jobs=-1)]: Done 208 tasks      | elapsed:   11.0s\n",
      "[Parallel(n_jobs=-1)]: Done 528 tasks      | elapsed:   26.1s\n",
      "[Parallel(n_jobs=-1)]: Done 600 out of 600 | elapsed:   29.6s finished\n",
      "The use of label encoder in XGBClassifier is deprecated and will be removed in a future release. To remove this warning, do the following: 1) Pass option use_label_encoder=False when constructing XGBClassifier object; and 2) Encode your labels (y) as integers starting with 0, i.e. 0, 1, 2, ..., [num_class - 1].\n"
     ]
    },
    {
     "name": "stdout",
     "output_type": "stream",
     "text": [
      "[12:32:10] WARNING: /tmp/build/80754af9/xgboost-split_1619724447847/work/src/learner.cc:1061: Starting in XGBoost 1.3.0, the default evaluation metric used with the objective 'binary:logistic' was changed from 'error' to 'logloss'. Explicitly set eval_metric if you'd like to restore the old behavior.\n",
      "R\n",
      "Fitting 6 folds for each of 100 candidates, totalling 600 fits\n"
     ]
    },
    {
     "name": "stderr",
     "output_type": "stream",
     "text": [
      "[Parallel(n_jobs=-1)]: Using backend LokyBackend with 8 concurrent workers.\n",
      "[Parallel(n_jobs=-1)]: Done  18 tasks      | elapsed:    1.3s\n",
      "[Parallel(n_jobs=-1)]: Done 210 tasks      | elapsed:   10.8s\n",
      "[Parallel(n_jobs=-1)]: Done 530 tasks      | elapsed:   25.2s\n",
      "[Parallel(n_jobs=-1)]: Done 585 out of 600 | elapsed:   27.9s remaining:    0.7s\n",
      "[Parallel(n_jobs=-1)]: Done 600 out of 600 | elapsed:   28.3s finished\n",
      "The use of label encoder in XGBClassifier is deprecated and will be removed in a future release. To remove this warning, do the following: 1) Pass option use_label_encoder=False when constructing XGBClassifier object; and 2) Encode your labels (y) as integers starting with 0, i.e. 0, 1, 2, ..., [num_class - 1].\n"
     ]
    },
    {
     "name": "stdout",
     "output_type": "stream",
     "text": [
      "[12:32:38] WARNING: /tmp/build/80754af9/xgboost-split_1619724447847/work/src/learner.cc:1061: Starting in XGBoost 1.3.0, the default evaluation metric used with the objective 'binary:logistic' was changed from 'error' to 'logloss'. Explicitly set eval_metric if you'd like to restore the old behavior.\n",
      "B\n",
      "P\n",
      "Fitting 6 folds for each of 100 candidates, totalling 600 fits\n"
     ]
    },
    {
     "name": "stderr",
     "output_type": "stream",
     "text": [
      "[Parallel(n_jobs=-1)]: Using backend LokyBackend with 8 concurrent workers.\n",
      "[Parallel(n_jobs=-1)]: Done  16 tasks      | elapsed:    1.5s\n",
      "[Parallel(n_jobs=-1)]: Done 208 tasks      | elapsed:   10.0s\n",
      "[Parallel(n_jobs=-1)]: Done 528 tasks      | elapsed:   24.8s\n"
     ]
    },
    {
     "name": "stdout",
     "output_type": "stream",
     "text": [
      "[12:33:08] WARNING: /tmp/build/80754af9/xgboost-split_1619724447847/work/src/learner.cc:1061: Starting in XGBoost 1.3.0, the default evaluation metric used with the objective 'binary:logistic' was changed from 'error' to 'logloss'. Explicitly set eval_metric if you'd like to restore the old behavior.\n"
     ]
    },
    {
     "name": "stderr",
     "output_type": "stream",
     "text": [
      "[Parallel(n_jobs=-1)]: Done 600 out of 600 | elapsed:   28.8s finished\n",
      "The use of label encoder in XGBClassifier is deprecated and will be removed in a future release. To remove this warning, do the following: 1) Pass option use_label_encoder=False when constructing XGBClassifier object; and 2) Encode your labels (y) as integers starting with 0, i.e. 0, 1, 2, ..., [num_class - 1].\n",
      "invalid value encountered in true_divide\n"
     ]
    }
   ],
   "source": [
    "results = []\n",
    "atc_codes = []\n",
    "columns = []\n",
    "for i in list(train['atc_code'].unique()):\n",
    "    print(i)\n",
    "    train_subset = train.loc[train['atc_code'] == i]\n",
    "    test_subset = test.loc[test['atc_code'] == i]\n",
    "\n",
    "    train_subset = train_subset.drop_duplicates(subset=['chembl_id', 'atc_code'])\n",
    "    test_subset = test_subset.drop_duplicates(subset=['chembl_id', 'atc_code'])\n",
    "\n",
    "    #additional descriptors\n",
    "    try:\n",
    "        dis_tox = list(toxprints_disease.loc[toxprints_disease['atc_code'] == i][[\"0\", \"1\", \"2\", \"3\", \"4\", \"5\",\"6\", \"7\", \"8\", \"9\"]].values[0])\n",
    "        toxprints_disease_cols = [col for col in toxprint.columns if col in dis_tox]\n",
    "        toxprints_disease_cols.append('chembl_id')\n",
    "        toxprints_disease_cols = toxprints[toxprints_disease_cols]\n",
    "\n",
    "        train_subset = train_subset.merge(toxprints_disease_cols, how='inner', on='chembl_id')\n",
    "        test_subset = test_subset.merge(toxprints_disease_cols, how='inner', on='chembl_id')\n",
    "\n",
    "        train_subset = train_subset.drop_duplicates()\n",
    "        test_subset = test_subset.drop_duplicates()\n",
    "\n",
    "        y_train = train_subset['wd_consensus_1']\n",
    "        y_test = test_subset['wd_consensus_1']\n",
    "        X_train = train_subset.drop(columns=['wd_consensus_1', 'chembl_id', 'atc_code', 'standardized_smiles'])\n",
    "        X_test = test_subset.drop(columns=['wd_consensus_1', 'chembl_id', 'atc_code', 'standardized_smiles'])\n",
    "        \n",
    "        classifier = XGBClassifier()\n",
    "        rs_model = RandomizedSearchCV(classifier, param_distributions=params,\n",
    "                                      n_iter=100, scoring='average_precision',\n",
    "                                      n_jobs=-1, cv=6, verbose=3)\n",
    "        rs_model.fit(X_train, y_train)\n",
    "\n",
    "        predictions = rs_model.best_estimator_.predict_proba(X_test)\n",
    "        test_pred_df = pd.DataFrame({'probabilities': predictions[:, 1],\n",
    "                                     withdrawn_col: y_test,\n",
    "                                     'predicted_class': rs_model.predict(X_test)})\n",
    "        results.append(table_metrics_trees(test_pred_df, withdrawn_col).values[0])\n",
    "        columns.append(table_metrics_trees(test_pred_df, withdrawn_col).columns)\n",
    "        atc_codes.append(i)\n",
    "\n",
    "    except:\n",
    "        continue  "
   ]
  },
  {
   "cell_type": "markdown",
   "id": "badc610b-5aad-4cbd-af90-73a71bbd3df6",
   "metadata": {},
   "source": [
    "## Withdrawal reasons"
   ]
  },
  {
   "cell_type": "code",
   "execution_count": 127,
   "id": "93110b89-c311-4b97-bfc0-d2769f796617",
   "metadata": {},
   "outputs": [],
   "source": [
    "import pandas as pd"
   ]
  },
  {
   "cell_type": "code",
   "execution_count": 128,
   "id": "7728dc1a-743b-4661-a824-b9dd139cc388",
   "metadata": {},
   "outputs": [],
   "source": [
    "master = pd.read_csv('/home/dionizije/Documents/drug_attrition_oracle/data/processing_pipeline/MasterDB_15Sep2021_standardized.csv', index_col=0)"
   ]
  },
  {
   "cell_type": "code",
   "execution_count": 129,
   "id": "bbe6963f-c265-4b2d-9084-529bfdc0fcd2",
   "metadata": {},
   "outputs": [],
   "source": [
    "withdrawn = pd.read_csv('/home/dionizije/Documents/drug_attrition_oracle/data/raw/withdrawn.csv')"
   ]
  },
  {
   "cell_type": "code",
   "execution_count": 130,
   "id": "189035f5-7d9e-410b-a5ad-e1fb69cc78e8",
   "metadata": {},
   "outputs": [
    {
     "data": {
      "text/html": [
       "<div>\n",
       "<style scoped>\n",
       "    .dataframe tbody tr th:only-of-type {\n",
       "        vertical-align: middle;\n",
       "    }\n",
       "\n",
       "    .dataframe tbody tr th {\n",
       "        vertical-align: top;\n",
       "    }\n",
       "\n",
       "    .dataframe thead th {\n",
       "        text-align: right;\n",
       "    }\n",
       "</style>\n",
       "<table border=\"1\" class=\"dataframe\">\n",
       "  <thead>\n",
       "    <tr style=\"text-align: right;\">\n",
       "      <th></th>\n",
       "      <th>name</th>\n",
       "      <th>pubchem_cid</th>\n",
       "      <th>chembl_id</th>\n",
       "      <th>first withdrawal</th>\n",
       "      <th>countries</th>\n",
       "      <th>toxicity_type</th>\n",
       "    </tr>\n",
       "  </thead>\n",
       "  <tbody>\n",
       "    <tr>\n",
       "      <th>0</th>\n",
       "      <td>Telaprevir</td>\n",
       "      <td>CID3010818</td>\n",
       "      <td>CHEMBL231813</td>\n",
       "      <td>2014.0</td>\n",
       "      <td>USA</td>\n",
       "      <td>toxic_dermis</td>\n",
       "    </tr>\n",
       "    <tr>\n",
       "      <th>1</th>\n",
       "      <td>Ribavirin</td>\n",
       "      <td>CID37542</td>\n",
       "      <td>CHEMBL1643</td>\n",
       "      <td>2014.0</td>\n",
       "      <td>USA;EU</td>\n",
       "      <td>toxic_respiratory</td>\n",
       "    </tr>\n",
       "    <tr>\n",
       "      <th>2</th>\n",
       "      <td>Ketoconazole</td>\n",
       "      <td>CID47576</td>\n",
       "      <td>CHEMBL295698</td>\n",
       "      <td>2013.0</td>\n",
       "      <td>EU;AUS</td>\n",
       "      <td>toxic_hepa</td>\n",
       "    </tr>\n",
       "    <tr>\n",
       "      <th>3</th>\n",
       "      <td>Tetrazepam</td>\n",
       "      <td>CID25215</td>\n",
       "      <td>CHEMBL2105527</td>\n",
       "      <td>2013.0</td>\n",
       "      <td>EU</td>\n",
       "      <td>toxic_dermis</td>\n",
       "    </tr>\n",
       "    <tr>\n",
       "      <th>4</th>\n",
       "      <td>Clorazepate</td>\n",
       "      <td>CID2809</td>\n",
       "      <td>CHEMBL1213252</td>\n",
       "      <td>2012.0</td>\n",
       "      <td>USA</td>\n",
       "      <td>toxic_systemic</td>\n",
       "    </tr>\n",
       "    <tr>\n",
       "      <th>...</th>\n",
       "      <td>...</td>\n",
       "      <td>...</td>\n",
       "      <td>...</td>\n",
       "      <td>...</td>\n",
       "      <td>...</td>\n",
       "      <td>...</td>\n",
       "    </tr>\n",
       "    <tr>\n",
       "      <th>246</th>\n",
       "      <td>Flurothyl</td>\n",
       "      <td>CID9528</td>\n",
       "      <td>CHEMBL477874</td>\n",
       "      <td>NaN</td>\n",
       "      <td>NaN</td>\n",
       "      <td>toxic_neuro</td>\n",
       "    </tr>\n",
       "    <tr>\n",
       "      <th>247</th>\n",
       "      <td>Fominoben</td>\n",
       "      <td>CID3407</td>\n",
       "      <td>CHEMBL1697837</td>\n",
       "      <td>NaN</td>\n",
       "      <td>NaN</td>\n",
       "      <td>toxic_teratogen</td>\n",
       "    </tr>\n",
       "    <tr>\n",
       "      <th>248</th>\n",
       "      <td>Benzydamine Hydrochloride</td>\n",
       "      <td>CID65464</td>\n",
       "      <td>CHEMBL1528134</td>\n",
       "      <td>NaN</td>\n",
       "      <td>NaN</td>\n",
       "      <td>toxic_opthalmic</td>\n",
       "    </tr>\n",
       "    <tr>\n",
       "      <th>249</th>\n",
       "      <td>Iodamide</td>\n",
       "      <td>CID3723</td>\n",
       "      <td>CHEMBL1201239</td>\n",
       "      <td>NaN</td>\n",
       "      <td>USA</td>\n",
       "      <td>toxic_neuro</td>\n",
       "    </tr>\n",
       "    <tr>\n",
       "      <th>250</th>\n",
       "      <td>Cephaloridine</td>\n",
       "      <td>CID5773</td>\n",
       "      <td>CHEMBL316157</td>\n",
       "      <td>NaN</td>\n",
       "      <td>NaN</td>\n",
       "      <td>toxic_nephro</td>\n",
       "    </tr>\n",
       "  </tbody>\n",
       "</table>\n",
       "<p>251 rows × 6 columns</p>\n",
       "</div>"
      ],
      "text/plain": [
       "                          name pubchem_cid      chembl_id  first withdrawal  \\\n",
       "0                   Telaprevir  CID3010818   CHEMBL231813            2014.0   \n",
       "1                    Ribavirin    CID37542     CHEMBL1643            2014.0   \n",
       "2                 Ketoconazole    CID47576   CHEMBL295698            2013.0   \n",
       "3                   Tetrazepam    CID25215  CHEMBL2105527            2013.0   \n",
       "4                  Clorazepate     CID2809  CHEMBL1213252            2012.0   \n",
       "..                         ...         ...            ...               ...   \n",
       "246                  Flurothyl     CID9528   CHEMBL477874               NaN   \n",
       "247                  Fominoben     CID3407  CHEMBL1697837               NaN   \n",
       "248  Benzydamine Hydrochloride    CID65464  CHEMBL1528134               NaN   \n",
       "249                   Iodamide     CID3723  CHEMBL1201239               NaN   \n",
       "250              Cephaloridine     CID5773   CHEMBL316157               NaN   \n",
       "\n",
       "    countries      toxicity_type  \n",
       "0         USA       toxic_dermis  \n",
       "1      USA;EU  toxic_respiratory  \n",
       "2      EU;AUS         toxic_hepa  \n",
       "3          EU       toxic_dermis  \n",
       "4         USA     toxic_systemic  \n",
       "..        ...                ...  \n",
       "246       NaN        toxic_neuro  \n",
       "247       NaN    toxic_teratogen  \n",
       "248       NaN    toxic_opthalmic  \n",
       "249       USA        toxic_neuro  \n",
       "250       NaN       toxic_nephro  \n",
       "\n",
       "[251 rows x 6 columns]"
      ]
     },
     "execution_count": 130,
     "metadata": {},
     "output_type": "execute_result"
    }
   ],
   "source": [
    "withdrawn"
   ]
  },
  {
   "cell_type": "code",
   "execution_count": 131,
   "id": "8e085728-295b-44cb-99ad-5e879800fe99",
   "metadata": {},
   "outputs": [],
   "source": [
    "master = master.merge(withdrawn[['chembl_id', 'toxicity_type']], how='left')"
   ]
  },
  {
   "cell_type": "code",
   "execution_count": 132,
   "id": "44e8ef8d-1644-4295-a28c-a2f0ff280147",
   "metadata": {},
   "outputs": [],
   "source": [
    "master['toxicity_type'] = master['toxicity_type'].fillna('None')"
   ]
  },
  {
   "cell_type": "code",
   "execution_count": 133,
   "id": "66e50161-23ca-49e0-9197-5869aa4854dd",
   "metadata": {},
   "outputs": [],
   "source": [
    "master['toxicity_type'] = master['toxicity_type'].str.split(', ')\n",
    "#master['toxicity_type'] = master['toxicity_type'].str.split(';')"
   ]
  },
  {
   "cell_type": "code",
   "execution_count": 134,
   "id": "92a4688d-363a-47b5-ac5d-c5f9814e97cf",
   "metadata": {},
   "outputs": [],
   "source": [
    "master = master.explode('toxicity_type')"
   ]
  },
  {
   "cell_type": "code",
   "execution_count": 135,
   "id": "858e0405-7bc9-4e34-ab24-23c399a5aa4b",
   "metadata": {},
   "outputs": [
    {
     "data": {
      "text/plain": [
       "None                            2277\n",
       "toxic_hepa                        53\n",
       "toxic_cardio                      42\n",
       "toxic_hema                        24\n",
       "toxic_neuro                       22\n",
       "toxic_dermis                      22\n",
       "toxic_systemic                    20\n",
       "toxic_carcinogenic                19\n",
       "toxic_nephro                       9\n",
       "toxic_respiratory                  9\n",
       "toxic_teratogen                    8\n",
       "toxic_gastro                       4\n",
       "toxic_muscoskelet                  4\n",
       "toxic_opthalmic                    3\n",
       "toxic_systemic; toxic_dermis       1\n",
       "toxic_systemic; toxic_gastro       1\n",
       "toxic_hema; toxic_systemic         1\n",
       "Name: toxicity_type, dtype: int64"
      ]
     },
     "execution_count": 135,
     "metadata": {},
     "output_type": "execute_result"
    }
   ],
   "source": [
    "master['toxicity_type'].value_counts()"
   ]
  },
  {
   "cell_type": "code",
   "execution_count": 136,
   "id": "3be8f09c-3760-4735-93d0-fbc48c8bd43a",
   "metadata": {},
   "outputs": [],
   "source": [
    "master['toxicity_type'] = master['toxicity_type'].str.split('; ')"
   ]
  },
  {
   "cell_type": "code",
   "execution_count": 137,
   "id": "b0d3c8d5-112c-4d42-b5ab-be25c17333fd",
   "metadata": {},
   "outputs": [],
   "source": [
    "master = master.explode('toxicity_type')"
   ]
  },
  {
   "cell_type": "code",
   "execution_count": 138,
   "id": "189d84f6-d73f-4da8-9dab-4700f6fa9a24",
   "metadata": {},
   "outputs": [
    {
     "data": {
      "text/plain": [
       "None                  2277\n",
       "toxic_hepa              53\n",
       "toxic_cardio            42\n",
       "toxic_hema              25\n",
       "toxic_systemic          23\n",
       "toxic_dermis            23\n",
       "toxic_neuro             22\n",
       "toxic_carcinogenic      19\n",
       "toxic_nephro             9\n",
       "toxic_respiratory        9\n",
       "toxic_teratogen          8\n",
       "toxic_gastro             5\n",
       "toxic_muscoskelet        4\n",
       "toxic_opthalmic          3\n",
       "Name: toxicity_type, dtype: int64"
      ]
     },
     "execution_count": 138,
     "metadata": {},
     "output_type": "execute_result"
    }
   ],
   "source": [
    "master['toxicity_type'].value_counts()"
   ]
  },
  {
   "cell_type": "code",
   "execution_count": 139,
   "id": "fa1c12b3-c03c-4324-a33c-c3a2655c9dfa",
   "metadata": {},
   "outputs": [],
   "source": [
    "other_tox = ['toxic_nephro', 'toxic_respiratory', 'toxic_teratogen', 'toxic_gastro', 'toxic_muscoskelet', 'toxic_opthalmic']"
   ]
  },
  {
   "cell_type": "code",
   "execution_count": 140,
   "id": "4f8ab5a5-2e6a-4661-ab46-22feae2e8d2d",
   "metadata": {},
   "outputs": [],
   "source": [
    "master.loc[master['toxicity_type'].isin(other_tox), 'toxicity_type'] = 'Other'"
   ]
  },
  {
   "cell_type": "code",
   "execution_count": 141,
   "id": "abf90bd6-39f7-420b-a182-cd293a8cb228",
   "metadata": {},
   "outputs": [
    {
     "data": {
      "text/plain": [
       "None                  2277\n",
       "toxic_hepa              53\n",
       "toxic_cardio            42\n",
       "Other                   38\n",
       "toxic_hema              25\n",
       "toxic_systemic          23\n",
       "toxic_dermis            23\n",
       "toxic_neuro             22\n",
       "toxic_carcinogenic      19\n",
       "Name: toxicity_type, dtype: int64"
      ]
     },
     "execution_count": 141,
     "metadata": {},
     "output_type": "execute_result"
    }
   ],
   "source": [
    "master['toxicity_type'].value_counts()"
   ]
  },
  {
   "cell_type": "code",
   "execution_count": 142,
   "id": "66c3c98d-d4b5-4b36-a86a-ad35b9d11281",
   "metadata": {},
   "outputs": [],
   "source": [
    "from sklearn.preprocessing import LabelBinarizer"
   ]
  },
  {
   "cell_type": "code",
   "execution_count": 143,
   "id": "afbe72bf-d888-4254-9174-7a43b9f45dea",
   "metadata": {},
   "outputs": [
    {
     "data": {
      "text/plain": [
       "LabelBinarizer()"
      ]
     },
     "execution_count": 143,
     "metadata": {},
     "output_type": "execute_result"
    }
   ],
   "source": [
    "binarizer = LabelBinarizer()\n",
    "binarizer.fit(master['toxicity_type'])"
   ]
  },
  {
   "cell_type": "code",
   "execution_count": 144,
   "id": "1cdbe093-17fb-46e5-98b6-7921189898f8",
   "metadata": {},
   "outputs": [],
   "source": [
    "labels = binarizer.transform(master['toxicity_type'])"
   ]
  },
  {
   "cell_type": "code",
   "execution_count": 146,
   "id": "10e7c31d-1e68-43a3-86f2-29cc321b33a4",
   "metadata": {},
   "outputs": [],
   "source": [
    "for i in range(0, 9):\n",
    "    master['tox_{}'.format(i)] = labels[:, i]"
   ]
  },
  {
   "cell_type": "code",
   "execution_count": 148,
   "id": "de2134f6-32a5-4be4-ab31-78f0e5dc1f1d",
   "metadata": {},
   "outputs": [
    {
     "data": {
      "text/plain": [
       "array([[1, 0, 0, ..., 0, 0, 0],\n",
       "       [1, 0, 0, ..., 0, 0, 0],\n",
       "       [1, 0, 0, ..., 0, 0, 0],\n",
       "       ...,\n",
       "       [1, 0, 0, ..., 0, 0, 0],\n",
       "       [1, 0, 0, ..., 0, 0, 0],\n",
       "       [0, 0, 0, ..., 1, 0, 0]])"
      ]
     },
     "execution_count": 148,
     "metadata": {},
     "output_type": "execute_result"
    }
   ],
   "source": [
    "labels"
   ]
  },
  {
   "cell_type": "code",
   "execution_count": 147,
   "id": "ec574aef-3c8a-41dc-ae50-8f20d7470a57",
   "metadata": {},
   "outputs": [
    {
     "data": {
      "text/html": [
       "<div>\n",
       "<style scoped>\n",
       "    .dataframe tbody tr th:only-of-type {\n",
       "        vertical-align: middle;\n",
       "    }\n",
       "\n",
       "    .dataframe tbody tr th {\n",
       "        vertical-align: top;\n",
       "    }\n",
       "\n",
       "    .dataframe thead th {\n",
       "        text-align: right;\n",
       "    }\n",
       "</style>\n",
       "<table border=\"1\" class=\"dataframe\">\n",
       "  <thead>\n",
       "    <tr style=\"text-align: right;\">\n",
       "      <th></th>\n",
       "      <th>chembl_id</th>\n",
       "      <th>drugbank_id</th>\n",
       "      <th>canonical_smiles_ap</th>\n",
       "      <th>canonical_smiles_ap_nonstereo</th>\n",
       "      <th>orginal_smiles</th>\n",
       "      <th>mw_ap</th>\n",
       "      <th>rule_of_5</th>\n",
       "      <th>rule_of_5_label</th>\n",
       "      <th>in_drugbank</th>\n",
       "      <th>in_chembl</th>\n",
       "      <th>...</th>\n",
       "      <th>toxicity_type</th>\n",
       "      <th>tox_0</th>\n",
       "      <th>tox_1</th>\n",
       "      <th>tox_2</th>\n",
       "      <th>tox_3</th>\n",
       "      <th>tox_4</th>\n",
       "      <th>tox_5</th>\n",
       "      <th>tox_6</th>\n",
       "      <th>tox_7</th>\n",
       "      <th>tox_8</th>\n",
       "    </tr>\n",
       "  </thead>\n",
       "  <tbody>\n",
       "    <tr>\n",
       "      <th>0</th>\n",
       "      <td>CHEMBL2111100</td>\n",
       "      <td>DB13615</td>\n",
       "      <td>C(=O)(O[C@H](COC(=O)CCCCCCCCCCCCCCC)COP(=O)(OC...</td>\n",
       "      <td>C(=O)(OC(COC(=O)CCCCCCCCCCCCCCC)COP(=O)(OCCNC(...</td>\n",
       "      <td>CCCCCCCCCCCCCCCC(=O)OC[C@H](COP(=O)(O)OCCNC(=O...</td>\n",
       "      <td>1237.52623</td>\n",
       "      <td>3</td>\n",
       "      <td>Hb; Mw; NO</td>\n",
       "      <td>yes</td>\n",
       "      <td>yes</td>\n",
       "      <td>...</td>\n",
       "      <td>None</td>\n",
       "      <td>1</td>\n",
       "      <td>0</td>\n",
       "      <td>0</td>\n",
       "      <td>0</td>\n",
       "      <td>0</td>\n",
       "      <td>0</td>\n",
       "      <td>0</td>\n",
       "      <td>0</td>\n",
       "      <td>0</td>\n",
       "    </tr>\n",
       "    <tr>\n",
       "      <th>1</th>\n",
       "      <td>CHEMBL41355</td>\n",
       "      <td>DB04953</td>\n",
       "      <td>C(=O)(OCC)Nc1c(cc(NCc2ccc(F)cc2)cc1)N</td>\n",
       "      <td>C(=O)(OCC)Nc1c(cc(NCc2ccc(F)cc2)cc1)N</td>\n",
       "      <td>CCOC(=O)Nc1ccc(NCc2ccc(F)cc2)cc1N</td>\n",
       "      <td>303.33836</td>\n",
       "      <td>0</td>\n",
       "      <td>NaN</td>\n",
       "      <td>yes</td>\n",
       "      <td>yes</td>\n",
       "      <td>...</td>\n",
       "      <td>None</td>\n",
       "      <td>1</td>\n",
       "      <td>0</td>\n",
       "      <td>0</td>\n",
       "      <td>0</td>\n",
       "      <td>0</td>\n",
       "      <td>0</td>\n",
       "      <td>0</td>\n",
       "      <td>0</td>\n",
       "      <td>0</td>\n",
       "    </tr>\n",
       "    <tr>\n",
       "      <th>2</th>\n",
       "      <td>CHEMBL409153</td>\n",
       "      <td>DB11633</td>\n",
       "      <td>C(#N)c1ccc(-c2nc(sc2)[C@@H]([C@](c3c(F)ccc(F)c...</td>\n",
       "      <td>C(#N)c1ccc(-c2nc(sc2)C(C(c3c(F)ccc(F)c3)(O)Cn4...</td>\n",
       "      <td>C[C@@H](c1nc(-c2ccc(C#N)cc2)cs1)[C@](O)(Cn1cnc...</td>\n",
       "      <td>437.47339</td>\n",
       "      <td>0</td>\n",
       "      <td>NaN</td>\n",
       "      <td>yes</td>\n",
       "      <td>yes</td>\n",
       "      <td>...</td>\n",
       "      <td>None</td>\n",
       "      <td>1</td>\n",
       "      <td>0</td>\n",
       "      <td>0</td>\n",
       "      <td>0</td>\n",
       "      <td>0</td>\n",
       "      <td>0</td>\n",
       "      <td>0</td>\n",
       "      <td>0</td>\n",
       "      <td>0</td>\n",
       "    </tr>\n",
       "    <tr>\n",
       "      <th>3</th>\n",
       "      <td>CHEMBL4094358</td>\n",
       "      <td>DB12434</td>\n",
       "      <td>C(=O)([C@]1([C@@H]2[C@]([C@H]3[C@@]4(CC([C@@](...</td>\n",
       "      <td>C(=O)(C1(C2C(C3C4(CC(C(OC5OC(C(O)C(O)C5OC6OC(C...</td>\n",
       "      <td>C[C@@]12CCC[C@](C)([C@H]1CC[C@@]13CC(=C)[C@@](...</td>\n",
       "      <td>642.74590</td>\n",
       "      <td>3</td>\n",
       "      <td>Hb; Mw; NO</td>\n",
       "      <td>yes</td>\n",
       "      <td>yes</td>\n",
       "      <td>...</td>\n",
       "      <td>None</td>\n",
       "      <td>1</td>\n",
       "      <td>0</td>\n",
       "      <td>0</td>\n",
       "      <td>0</td>\n",
       "      <td>0</td>\n",
       "      <td>0</td>\n",
       "      <td>0</td>\n",
       "      <td>0</td>\n",
       "      <td>0</td>\n",
       "    </tr>\n",
       "    <tr>\n",
       "      <th>4</th>\n",
       "      <td>CHEMBL41</td>\n",
       "      <td>DB00472</td>\n",
       "      <td>C(F)(F)(F)c1ccc(OC(c2ccccc2)CCNC)cc1</td>\n",
       "      <td>C(F)(F)(F)c1ccc(OC(c2ccccc2)CCNC)cc1</td>\n",
       "      <td>CNCCC(Oc1ccc(C(F)(F)F)cc1)c1ccccc1</td>\n",
       "      <td>309.33346</td>\n",
       "      <td>1</td>\n",
       "      <td>LP</td>\n",
       "      <td>yes</td>\n",
       "      <td>yes</td>\n",
       "      <td>...</td>\n",
       "      <td>None</td>\n",
       "      <td>1</td>\n",
       "      <td>0</td>\n",
       "      <td>0</td>\n",
       "      <td>0</td>\n",
       "      <td>0</td>\n",
       "      <td>0</td>\n",
       "      <td>0</td>\n",
       "      <td>0</td>\n",
       "      <td>0</td>\n",
       "    </tr>\n",
       "    <tr>\n",
       "      <th>...</th>\n",
       "      <td>...</td>\n",
       "      <td>...</td>\n",
       "      <td>...</td>\n",
       "      <td>...</td>\n",
       "      <td>...</td>\n",
       "      <td>...</td>\n",
       "      <td>...</td>\n",
       "      <td>...</td>\n",
       "      <td>...</td>\n",
       "      <td>...</td>\n",
       "      <td>...</td>\n",
       "      <td>...</td>\n",
       "      <td>...</td>\n",
       "      <td>...</td>\n",
       "      <td>...</td>\n",
       "      <td>...</td>\n",
       "      <td>...</td>\n",
       "      <td>...</td>\n",
       "      <td>...</td>\n",
       "      <td>...</td>\n",
       "      <td>...</td>\n",
       "    </tr>\n",
       "    <tr>\n",
       "      <th>2498</th>\n",
       "      <td>CHEMBL544</td>\n",
       "      <td>DB09516</td>\n",
       "      <td>O(c1ccc(O)cc1)C</td>\n",
       "      <td>O(c1ccc(O)cc1)C</td>\n",
       "      <td>COc1ccc(O)cc1</td>\n",
       "      <td>124.14026</td>\n",
       "      <td>0</td>\n",
       "      <td>NaN</td>\n",
       "      <td>yes</td>\n",
       "      <td>yes</td>\n",
       "      <td>...</td>\n",
       "      <td>None</td>\n",
       "      <td>1</td>\n",
       "      <td>0</td>\n",
       "      <td>0</td>\n",
       "      <td>0</td>\n",
       "      <td>0</td>\n",
       "      <td>0</td>\n",
       "      <td>0</td>\n",
       "      <td>0</td>\n",
       "      <td>0</td>\n",
       "    </tr>\n",
       "    <tr>\n",
       "      <th>2499</th>\n",
       "      <td>CHEMBL546</td>\n",
       "      <td>DB01580</td>\n",
       "      <td>O(c1c(OCC(O)CNC(C)C)cccc1)CC=C</td>\n",
       "      <td>O(c1c(OCC(O)CNC(C)C)cccc1)CC=C</td>\n",
       "      <td>C=CCOc1ccccc1OCC(O)CNC(C)C</td>\n",
       "      <td>265.35471</td>\n",
       "      <td>0</td>\n",
       "      <td>NaN</td>\n",
       "      <td>yes</td>\n",
       "      <td>yes</td>\n",
       "      <td>...</td>\n",
       "      <td>None</td>\n",
       "      <td>1</td>\n",
       "      <td>0</td>\n",
       "      <td>0</td>\n",
       "      <td>0</td>\n",
       "      <td>0</td>\n",
       "      <td>0</td>\n",
       "      <td>0</td>\n",
       "      <td>0</td>\n",
       "      <td>0</td>\n",
       "    </tr>\n",
       "    <tr>\n",
       "      <th>2500</th>\n",
       "      <td>CHEMBL549</td>\n",
       "      <td>DB00215</td>\n",
       "      <td>C(#N)c1cc2c(C(c3ccc(F)cc3)(OC2)CCCN(C)C)cc1</td>\n",
       "      <td>C(#N)c1cc2c(C(c3ccc(F)cc3)(OC2)CCCN(C)C)cc1</td>\n",
       "      <td>CN(C)CCCC1(c2ccc(F)cc2)OCc2cc(C#N)ccc21</td>\n",
       "      <td>324.40057</td>\n",
       "      <td>0</td>\n",
       "      <td>NaN</td>\n",
       "      <td>yes</td>\n",
       "      <td>yes</td>\n",
       "      <td>...</td>\n",
       "      <td>None</td>\n",
       "      <td>1</td>\n",
       "      <td>0</td>\n",
       "      <td>0</td>\n",
       "      <td>0</td>\n",
       "      <td>0</td>\n",
       "      <td>0</td>\n",
       "      <td>0</td>\n",
       "      <td>0</td>\n",
       "      <td>0</td>\n",
       "    </tr>\n",
       "    <tr>\n",
       "      <th>2501</th>\n",
       "      <td>CHEMBL550</td>\n",
       "      <td>DB01085</td>\n",
       "      <td>O=C1OC[C@@H]([C@@H]1CC)Cc2n(cnc2)C</td>\n",
       "      <td>O=C1OCC(C1CC)Cc2n(cnc2)C</td>\n",
       "      <td>CC[C@@H]1C(=O)OC[C@@H]1Cc1cncn1C</td>\n",
       "      <td>208.26182</td>\n",
       "      <td>0</td>\n",
       "      <td>NaN</td>\n",
       "      <td>yes</td>\n",
       "      <td>yes</td>\n",
       "      <td>...</td>\n",
       "      <td>None</td>\n",
       "      <td>1</td>\n",
       "      <td>0</td>\n",
       "      <td>0</td>\n",
       "      <td>0</td>\n",
       "      <td>0</td>\n",
       "      <td>0</td>\n",
       "      <td>0</td>\n",
       "      <td>0</td>\n",
       "      <td>0</td>\n",
       "    </tr>\n",
       "    <tr>\n",
       "      <th>2502</th>\n",
       "      <td>CHEMBL1089221</td>\n",
       "      <td>DB13501</td>\n",
       "      <td>C(=O)(O)COc1c2c(n(n1)Cc3ccccc3)cccc2</td>\n",
       "      <td>C(=O)(O)COc1c2c(n(n1)Cc3ccccc3)cccc2</td>\n",
       "      <td>O=C(O)COc1nn(Cc2ccccc2)c2ccccc12</td>\n",
       "      <td>282.30078</td>\n",
       "      <td>0</td>\n",
       "      <td>NaN</td>\n",
       "      <td>yes</td>\n",
       "      <td>yes</td>\n",
       "      <td>...</td>\n",
       "      <td>toxic_hepa</td>\n",
       "      <td>0</td>\n",
       "      <td>0</td>\n",
       "      <td>0</td>\n",
       "      <td>0</td>\n",
       "      <td>0</td>\n",
       "      <td>0</td>\n",
       "      <td>1</td>\n",
       "      <td>0</td>\n",
       "      <td>0</td>\n",
       "    </tr>\n",
       "  </tbody>\n",
       "</table>\n",
       "<p>2522 rows × 31 columns</p>\n",
       "</div>"
      ],
      "text/plain": [
       "          chembl_id drugbank_id  \\\n",
       "0     CHEMBL2111100     DB13615   \n",
       "1       CHEMBL41355     DB04953   \n",
       "2      CHEMBL409153     DB11633   \n",
       "3     CHEMBL4094358     DB12434   \n",
       "4          CHEMBL41     DB00472   \n",
       "...             ...         ...   \n",
       "2498      CHEMBL544     DB09516   \n",
       "2499      CHEMBL546     DB01580   \n",
       "2500      CHEMBL549     DB00215   \n",
       "2501      CHEMBL550     DB01085   \n",
       "2502  CHEMBL1089221     DB13501   \n",
       "\n",
       "                                    canonical_smiles_ap  \\\n",
       "0     C(=O)(O[C@H](COC(=O)CCCCCCCCCCCCCCC)COP(=O)(OC...   \n",
       "1                 C(=O)(OCC)Nc1c(cc(NCc2ccc(F)cc2)cc1)N   \n",
       "2     C(#N)c1ccc(-c2nc(sc2)[C@@H]([C@](c3c(F)ccc(F)c...   \n",
       "3     C(=O)([C@]1([C@@H]2[C@]([C@H]3[C@@]4(CC([C@@](...   \n",
       "4                  C(F)(F)(F)c1ccc(OC(c2ccccc2)CCNC)cc1   \n",
       "...                                                 ...   \n",
       "2498                                    O(c1ccc(O)cc1)C   \n",
       "2499                     O(c1c(OCC(O)CNC(C)C)cccc1)CC=C   \n",
       "2500        C(#N)c1cc2c(C(c3ccc(F)cc3)(OC2)CCCN(C)C)cc1   \n",
       "2501                 O=C1OC[C@@H]([C@@H]1CC)Cc2n(cnc2)C   \n",
       "2502               C(=O)(O)COc1c2c(n(n1)Cc3ccccc3)cccc2   \n",
       "\n",
       "                          canonical_smiles_ap_nonstereo  \\\n",
       "0     C(=O)(OC(COC(=O)CCCCCCCCCCCCCCC)COP(=O)(OCCNC(...   \n",
       "1                 C(=O)(OCC)Nc1c(cc(NCc2ccc(F)cc2)cc1)N   \n",
       "2     C(#N)c1ccc(-c2nc(sc2)C(C(c3c(F)ccc(F)c3)(O)Cn4...   \n",
       "3     C(=O)(C1(C2C(C3C4(CC(C(OC5OC(C(O)C(O)C5OC6OC(C...   \n",
       "4                  C(F)(F)(F)c1ccc(OC(c2ccccc2)CCNC)cc1   \n",
       "...                                                 ...   \n",
       "2498                                    O(c1ccc(O)cc1)C   \n",
       "2499                     O(c1c(OCC(O)CNC(C)C)cccc1)CC=C   \n",
       "2500        C(#N)c1cc2c(C(c3ccc(F)cc3)(OC2)CCCN(C)C)cc1   \n",
       "2501                           O=C1OCC(C1CC)Cc2n(cnc2)C   \n",
       "2502               C(=O)(O)COc1c2c(n(n1)Cc3ccccc3)cccc2   \n",
       "\n",
       "                                         orginal_smiles       mw_ap  \\\n",
       "0     CCCCCCCCCCCCCCCC(=O)OC[C@H](COP(=O)(O)OCCNC(=O...  1237.52623   \n",
       "1                     CCOC(=O)Nc1ccc(NCc2ccc(F)cc2)cc1N   303.33836   \n",
       "2     C[C@@H](c1nc(-c2ccc(C#N)cc2)cs1)[C@](O)(Cn1cnc...   437.47339   \n",
       "3     C[C@@]12CCC[C@](C)([C@H]1CC[C@@]13CC(=C)[C@@](...   642.74590   \n",
       "4                    CNCCC(Oc1ccc(C(F)(F)F)cc1)c1ccccc1   309.33346   \n",
       "...                                                 ...         ...   \n",
       "2498                                      COc1ccc(O)cc1   124.14026   \n",
       "2499                         C=CCOc1ccccc1OCC(O)CNC(C)C   265.35471   \n",
       "2500            CN(C)CCCC1(c2ccc(F)cc2)OCc2cc(C#N)ccc21   324.40057   \n",
       "2501                   CC[C@@H]1C(=O)OC[C@@H]1Cc1cncn1C   208.26182   \n",
       "2502                   O=C(O)COc1nn(Cc2ccccc2)c2ccccc12   282.30078   \n",
       "\n",
       "      rule_of_5 rule_of_5_label in_drugbank in_chembl  ... toxicity_type  \\\n",
       "0             3      Hb; Mw; NO         yes       yes  ...          None   \n",
       "1             0             NaN         yes       yes  ...          None   \n",
       "2             0             NaN         yes       yes  ...          None   \n",
       "3             3      Hb; Mw; NO         yes       yes  ...          None   \n",
       "4             1              LP         yes       yes  ...          None   \n",
       "...         ...             ...         ...       ...  ...           ...   \n",
       "2498          0             NaN         yes       yes  ...          None   \n",
       "2499          0             NaN         yes       yes  ...          None   \n",
       "2500          0             NaN         yes       yes  ...          None   \n",
       "2501          0             NaN         yes       yes  ...          None   \n",
       "2502          0             NaN         yes       yes  ...    toxic_hepa   \n",
       "\n",
       "      tox_0  tox_1 tox_2  tox_3  tox_4  tox_5  tox_6 tox_7 tox_8  \n",
       "0         1      0     0      0      0      0      0     0     0  \n",
       "1         1      0     0      0      0      0      0     0     0  \n",
       "2         1      0     0      0      0      0      0     0     0  \n",
       "3         1      0     0      0      0      0      0     0     0  \n",
       "4         1      0     0      0      0      0      0     0     0  \n",
       "...     ...    ...   ...    ...    ...    ...    ...   ...   ...  \n",
       "2498      1      0     0      0      0      0      0     0     0  \n",
       "2499      1      0     0      0      0      0      0     0     0  \n",
       "2500      1      0     0      0      0      0      0     0     0  \n",
       "2501      1      0     0      0      0      0      0     0     0  \n",
       "2502      0      0     0      0      0      0      1     0     0  \n",
       "\n",
       "[2522 rows x 31 columns]"
      ]
     },
     "execution_count": 147,
     "metadata": {},
     "output_type": "execute_result"
    }
   ],
   "source": [
    "master"
   ]
  },
  {
   "cell_type": "code",
   "execution_count": 158,
   "id": "308f7ee7-87b2-4b99-a3cd-8b1588d5aa1a",
   "metadata": {},
   "outputs": [
    {
     "ename": "NameError",
     "evalue": "name 'np' is not defined",
     "output_type": "error",
     "traceback": [
      "\u001b[0;31m---------------------------------------------------------------------------\u001b[0m",
      "\u001b[0;31mNameError\u001b[0m                                 Traceback (most recent call last)",
      "\u001b[0;32m<ipython-input-158-e9b505b1c7e6>\u001b[0m in \u001b[0;36m<module>\u001b[0;34m\u001b[0m\n\u001b[0;32m----> 1\u001b[0;31m \u001b[0mbinarizer\u001b[0m\u001b[0;34m.\u001b[0m\u001b[0minverse_transform\u001b[0m\u001b[0;34m(\u001b[0m\u001b[0mnp\u001b[0m\u001b[0;34m.\u001b[0m\u001b[0marray\u001b[0m\u001b[0;34m(\u001b[0m\u001b[0mmaster\u001b[0m\u001b[0;34m.\u001b[0m\u001b[0miloc\u001b[0m\u001b[0;34m[\u001b[0m\u001b[0;36m0\u001b[0m\u001b[0;34m]\u001b[0m\u001b[0;34m.\u001b[0m\u001b[0miloc\u001b[0m\u001b[0;34m[\u001b[0m\u001b[0;34m-\u001b[0m\u001b[0;36m9\u001b[0m\u001b[0;34m:\u001b[0m\u001b[0;34m]\u001b[0m\u001b[0;34m.\u001b[0m\u001b[0mvalues\u001b[0m\u001b[0;34m)\u001b[0m\u001b[0;34m)\u001b[0m\u001b[0;34m\u001b[0m\u001b[0;34m\u001b[0m\u001b[0m\n\u001b[0m",
      "\u001b[0;31mNameError\u001b[0m: name 'np' is not defined"
     ]
    }
   ],
   "source": [
    "binarizer.inverse_transform(np.array(master.iloc[0].iloc[-9:].values))"
   ]
  }
 ],
 "metadata": {
  "kernelspec": {
   "display_name": "withdrawn",
   "language": "python",
   "name": "withdrawn"
  },
  "language_info": {
   "codemirror_mode": {
    "name": "ipython",
    "version": 3
   },
   "file_extension": ".py",
   "mimetype": "text/x-python",
   "name": "python",
   "nbconvert_exporter": "python",
   "pygments_lexer": "ipython3",
   "version": "3.6.13"
  }
 },
 "nbformat": 4,
 "nbformat_minor": 5
}
