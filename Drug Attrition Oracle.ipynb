{
 "cells": [
  {
   "cell_type": "markdown",
   "id": "1e6d12a1-9be3-41c2-9636-827368d480b7",
   "metadata": {},
   "source": [
    "# Drug attrition oracle"
   ]
  },
  {
   "cell_type": "markdown",
   "id": "a5447b7e-1c23-4115-80a6-8231739dd122",
   "metadata": {},
   "source": [
    "Use this notebook to predict whether an input molecule has a potential to be withdrawn. These models were trained on molecules that have passed phase 3 clinical trials, so the majority of whithdrawal reasons were related to adverse reaction (i.e. toxic sie effects)"
   ]
  },
  {
   "cell_type": "code",
   "execution_count": 3,
   "id": "d5c0fc74-94d1-47ef-ab2b-6048723896b2",
   "metadata": {},
   "outputs": [],
   "source": [
    "from src.dao import DrugAttritionOracle\n",
    "import pandas as pd"
   ]
  },
  {
   "cell_type": "markdown",
   "id": "8e2d79e8-0ce9-4c77-8022-c83fc735ab7f",
   "metadata": {},
   "source": [
    "Initialize the model"
   ]
  },
  {
   "cell_type": "code",
   "execution_count": 4,
   "id": "f052e1a1-467e-46a8-9369-16f71f8d7136",
   "metadata": {},
   "outputs": [
    {
     "name": "stderr",
     "output_type": "stream",
     "text": [
      "Global seed set to 0\n"
     ]
    }
   ],
   "source": [
    "dao = DrugAttritionOracle()"
   ]
  },
  {
   "cell_type": "markdown",
   "id": "89125431-55fc-44eb-953d-8b7f148667fc",
   "metadata": {},
   "source": [
    "Model takes as input a smiles string of a molecule: e.g. azithromycin canoical smiles"
   ]
  },
  {
   "cell_type": "code",
   "execution_count": 5,
   "id": "3916c74d-476a-4339-98ee-a1eeddaeb1d0",
   "metadata": {},
   "outputs": [],
   "source": [
    "azithromycin = \"CCC1C(C(C(N(CC(CC(C(C(C(C(C(=O)O1)C)OC2CC(C(C(O2)C)O)(C)OC)C)OC3C(C(CC(O3)C)N(C)C)O)(C)O)C)C)C)O)(C)O\""
   ]
  },
  {
   "cell_type": "code",
   "execution_count": 6,
   "id": "574c1a5f-e128-4b3e-83f4-05a6baf95a36",
   "metadata": {},
   "outputs": [
    {
     "data": {
      "image/svg+xml": [
       "<svg baseProfile=\"full\" height=\"200px\" version=\"1.1\" viewBox=\"0 0 400 200\" width=\"400px\" xml:space=\"preserve\" xmlns=\"http://www.w3.org/2000/svg\" xmlns:rdkit=\"http://www.rdkit.org/xml\" xmlns:xlink=\"http://www.w3.org/1999/xlink\">\n",
       "<!-- END OF HEADER -->\n",
       "<rect height=\"200\" style=\"opacity:1.0;fill:#FFFFFF;stroke:none\" width=\"400\" x=\"0\" y=\"0\"> </rect>\n",
       "<path class=\"bond-0\" d=\"M 137.729,154.752 L 156.006,162.197\" style=\"fill:none;fill-rule:evenodd;stroke:#000000;stroke-width:2.0px;stroke-linecap:butt;stroke-linejoin:miter;stroke-opacity:1\"/>\n",
       "<path class=\"bond-1\" d=\"M 156.006,162.197 L 171.592,150.091\" style=\"fill:none;fill-rule:evenodd;stroke:#000000;stroke-width:2.0px;stroke-linecap:butt;stroke-linejoin:miter;stroke-opacity:1\"/>\n",
       "<path class=\"bond-2\" d=\"M 171.592,150.091 L 186.674,162.82\" style=\"fill:none;fill-rule:evenodd;stroke:#000000;stroke-width:2.0px;stroke-linecap:butt;stroke-linejoin:miter;stroke-opacity:1\"/>\n",
       "<path class=\"bond-51\" d=\"M 171.592,150.091 L 168.116,142.913\" style=\"fill:none;fill-rule:evenodd;stroke:#000000;stroke-width:2.0px;stroke-linecap:butt;stroke-linejoin:miter;stroke-opacity:1\"/>\n",
       "<path class=\"bond-51\" d=\"M 168.116,142.913 L 164.641,135.735\" style=\"fill:none;fill-rule:evenodd;stroke:#FF0000;stroke-width:2.0px;stroke-linecap:butt;stroke-linejoin:miter;stroke-opacity:1\"/>\n",
       "<path class=\"bond-3\" d=\"M 186.674,162.82 L 205.628,168.313\" style=\"fill:none;fill-rule:evenodd;stroke:#000000;stroke-width:2.0px;stroke-linecap:butt;stroke-linejoin:miter;stroke-opacity:1\"/>\n",
       "<path class=\"bond-49\" d=\"M 186.674,162.82 L 188.68,182.452\" style=\"fill:none;fill-rule:evenodd;stroke:#000000;stroke-width:2.0px;stroke-linecap:butt;stroke-linejoin:miter;stroke-opacity:1\"/>\n",
       "<path class=\"bond-50\" d=\"M 186.674,162.82 L 179.477,166.62\" style=\"fill:none;fill-rule:evenodd;stroke:#000000;stroke-width:2.0px;stroke-linecap:butt;stroke-linejoin:miter;stroke-opacity:1\"/>\n",
       "<path class=\"bond-50\" d=\"M 179.477,166.62 L 172.281,170.419\" style=\"fill:none;fill-rule:evenodd;stroke:#FF0000;stroke-width:2.0px;stroke-linecap:butt;stroke-linejoin:miter;stroke-opacity:1\"/>\n",
       "<path class=\"bond-4\" d=\"M 205.628,168.313 L 225.179,165.623\" style=\"fill:none;fill-rule:evenodd;stroke:#000000;stroke-width:2.0px;stroke-linecap:butt;stroke-linejoin:miter;stroke-opacity:1\"/>\n",
       "<path class=\"bond-48\" d=\"M 205.628,168.313 L 205.033,176.495\" style=\"fill:none;fill-rule:evenodd;stroke:#000000;stroke-width:2.0px;stroke-linecap:butt;stroke-linejoin:miter;stroke-opacity:1\"/>\n",
       "<path class=\"bond-48\" d=\"M 205.033,176.495 L 204.437,184.677\" style=\"fill:none;fill-rule:evenodd;stroke:#FF0000;stroke-width:2.0px;stroke-linecap:butt;stroke-linejoin:miter;stroke-opacity:1\"/>\n",
       "<path class=\"bond-5\" d=\"M 225.179,165.623 L 232.256,161.229\" style=\"fill:none;fill-rule:evenodd;stroke:#000000;stroke-width:2.0px;stroke-linecap:butt;stroke-linejoin:miter;stroke-opacity:1\"/>\n",
       "<path class=\"bond-5\" d=\"M 232.256,161.229 L 239.332,156.835\" style=\"fill:none;fill-rule:evenodd;stroke:#0000FF;stroke-width:2.0px;stroke-linecap:butt;stroke-linejoin:miter;stroke-opacity:1\"/>\n",
       "<path class=\"bond-47\" d=\"M 225.179,165.623 L 231.876,184.187\" style=\"fill:none;fill-rule:evenodd;stroke:#000000;stroke-width:2.0px;stroke-linecap:butt;stroke-linejoin:miter;stroke-opacity:1\"/>\n",
       "<path class=\"bond-6\" d=\"M 244.176,151.925 L 248.602,145.404\" style=\"fill:none;fill-rule:evenodd;stroke:#0000FF;stroke-width:2.0px;stroke-linecap:butt;stroke-linejoin:miter;stroke-opacity:1\"/>\n",
       "<path class=\"bond-6\" d=\"M 248.602,145.404 L 253.027,138.883\" style=\"fill:none;fill-rule:evenodd;stroke:#000000;stroke-width:2.0px;stroke-linecap:butt;stroke-linejoin:miter;stroke-opacity:1\"/>\n",
       "<path class=\"bond-46\" d=\"M 244.558,157.934 L 250.086,163.691\" style=\"fill:none;fill-rule:evenodd;stroke:#0000FF;stroke-width:2.0px;stroke-linecap:butt;stroke-linejoin:miter;stroke-opacity:1\"/>\n",
       "<path class=\"bond-46\" d=\"M 250.086,163.691 L 255.614,169.448\" style=\"fill:none;fill-rule:evenodd;stroke:#000000;stroke-width:2.0px;stroke-linecap:butt;stroke-linejoin:miter;stroke-opacity:1\"/>\n",
       "<path class=\"bond-7\" d=\"M 253.027,138.883 L 256.51,119.458\" style=\"fill:none;fill-rule:evenodd;stroke:#000000;stroke-width:2.0px;stroke-linecap:butt;stroke-linejoin:miter;stroke-opacity:1\"/>\n",
       "<path class=\"bond-8\" d=\"M 256.51,119.458 L 251.79,100.295\" style=\"fill:none;fill-rule:evenodd;stroke:#000000;stroke-width:2.0px;stroke-linecap:butt;stroke-linejoin:miter;stroke-opacity:1\"/>\n",
       "<path class=\"bond-45\" d=\"M 256.51,119.458 L 276.235,118.825\" style=\"fill:none;fill-rule:evenodd;stroke:#000000;stroke-width:2.0px;stroke-linecap:butt;stroke-linejoin:miter;stroke-opacity:1\"/>\n",
       "<path class=\"bond-9\" d=\"M 251.79,100.295 L 239.684,84.7094\" style=\"fill:none;fill-rule:evenodd;stroke:#000000;stroke-width:2.0px;stroke-linecap:butt;stroke-linejoin:miter;stroke-opacity:1\"/>\n",
       "<path class=\"bond-10\" d=\"M 239.684,84.7094 L 222.286,75.3947\" style=\"fill:none;fill-rule:evenodd;stroke:#000000;stroke-width:2.0px;stroke-linecap:butt;stroke-linejoin:miter;stroke-opacity:1\"/>\n",
       "<path class=\"bond-43\" d=\"M 239.684,84.7094 L 241.803,65.0886\" style=\"fill:none;fill-rule:evenodd;stroke:#000000;stroke-width:2.0px;stroke-linecap:butt;stroke-linejoin:miter;stroke-opacity:1\"/>\n",
       "<path class=\"bond-44\" d=\"M 239.684,84.7094 L 243.452,84.1238\" style=\"fill:none;fill-rule:evenodd;stroke:#000000;stroke-width:2.0px;stroke-linecap:butt;stroke-linejoin:miter;stroke-opacity:1\"/>\n",
       "<path class=\"bond-44\" d=\"M 243.452,84.1238 L 247.22,83.5381\" style=\"fill:none;fill-rule:evenodd;stroke:#FF0000;stroke-width:2.0px;stroke-linecap:butt;stroke-linejoin:miter;stroke-opacity:1\"/>\n",
       "<path class=\"bond-11\" d=\"M 222.286,75.3947 L 202.603,73.9619\" style=\"fill:none;fill-rule:evenodd;stroke:#000000;stroke-width:2.0px;stroke-linecap:butt;stroke-linejoin:miter;stroke-opacity:1\"/>\n",
       "<path class=\"bond-31\" d=\"M 222.286,75.3947 L 224.539,67.6204\" style=\"fill:none;fill-rule:evenodd;stroke:#000000;stroke-width:2.0px;stroke-linecap:butt;stroke-linejoin:miter;stroke-opacity:1\"/>\n",
       "<path class=\"bond-31\" d=\"M 224.539,67.6204 L 226.793,59.8462\" style=\"fill:none;fill-rule:evenodd;stroke:#FF0000;stroke-width:2.0px;stroke-linecap:butt;stroke-linejoin:miter;stroke-opacity:1\"/>\n",
       "<path class=\"bond-12\" d=\"M 202.603,73.9619 L 184.039,80.6587\" style=\"fill:none;fill-rule:evenodd;stroke:#000000;stroke-width:2.0px;stroke-linecap:butt;stroke-linejoin:miter;stroke-opacity:1\"/>\n",
       "<path class=\"bond-30\" d=\"M 202.603,73.9619 L 199.912,54.4113\" style=\"fill:none;fill-rule:evenodd;stroke:#000000;stroke-width:2.0px;stroke-linecap:butt;stroke-linejoin:miter;stroke-opacity:1\"/>\n",
       "<path class=\"bond-13\" d=\"M 184.039,80.6587 L 169.804,94.3272\" style=\"fill:none;fill-rule:evenodd;stroke:#000000;stroke-width:2.0px;stroke-linecap:butt;stroke-linejoin:miter;stroke-opacity:1\"/>\n",
       "<path class=\"bond-18\" d=\"M 184.039,80.6587 L 179.892,73.9789\" style=\"fill:none;fill-rule:evenodd;stroke:#000000;stroke-width:2.0px;stroke-linecap:butt;stroke-linejoin:miter;stroke-opacity:1\"/>\n",
       "<path class=\"bond-18\" d=\"M 179.892,73.9789 L 175.744,67.299\" style=\"fill:none;fill-rule:evenodd;stroke:#FF0000;stroke-width:2.0px;stroke-linecap:butt;stroke-linejoin:miter;stroke-opacity:1\"/>\n",
       "<path class=\"bond-14\" d=\"M 169.804,94.3272 L 162.359,112.604\" style=\"fill:none;fill-rule:evenodd;stroke:#000000;stroke-width:2.0px;stroke-linecap:butt;stroke-linejoin:miter;stroke-opacity:1\"/>\n",
       "<path class=\"bond-17\" d=\"M 169.804,94.3272 L 153.131,88.2057\" style=\"fill:none;fill-rule:evenodd;stroke:#000000;stroke-width:2.0px;stroke-linecap:butt;stroke-linejoin:miter;stroke-opacity:1\"/>\n",
       "<path class=\"bond-15\" d=\"M 162.707,110.661 L 154.524,109.194\" style=\"fill:none;fill-rule:evenodd;stroke:#000000;stroke-width:2.0px;stroke-linecap:butt;stroke-linejoin:miter;stroke-opacity:1\"/>\n",
       "<path class=\"bond-15\" d=\"M 154.524,109.194 L 146.341,107.727\" style=\"fill:none;fill-rule:evenodd;stroke:#FF0000;stroke-width:2.0px;stroke-linecap:butt;stroke-linejoin:miter;stroke-opacity:1\"/>\n",
       "<path class=\"bond-15\" d=\"M 162.011,114.546 L 153.828,113.079\" style=\"fill:none;fill-rule:evenodd;stroke:#000000;stroke-width:2.0px;stroke-linecap:butt;stroke-linejoin:miter;stroke-opacity:1\"/>\n",
       "<path class=\"bond-15\" d=\"M 153.828,113.079 L 145.644,111.612\" style=\"fill:none;fill-rule:evenodd;stroke:#FF0000;stroke-width:2.0px;stroke-linecap:butt;stroke-linejoin:miter;stroke-opacity:1\"/>\n",
       "<path class=\"bond-16\" d=\"M 162.359,112.604 L 162.622,120.807\" style=\"fill:none;fill-rule:evenodd;stroke:#000000;stroke-width:2.0px;stroke-linecap:butt;stroke-linejoin:miter;stroke-opacity:1\"/>\n",
       "<path class=\"bond-16\" d=\"M 162.622,120.807 L 162.885,129.009\" style=\"fill:none;fill-rule:evenodd;stroke:#FF0000;stroke-width:2.0px;stroke-linecap:butt;stroke-linejoin:miter;stroke-opacity:1\"/>\n",
       "<path class=\"bond-19\" d=\"M 170.57,63.9908 L 162.237,64.258\" style=\"fill:none;fill-rule:evenodd;stroke:#FF0000;stroke-width:2.0px;stroke-linecap:butt;stroke-linejoin:miter;stroke-opacity:1\"/>\n",
       "<path class=\"bond-19\" d=\"M 162.237,64.258 L 153.904,64.5252\" style=\"fill:none;fill-rule:evenodd;stroke:#000000;stroke-width:2.0px;stroke-linecap:butt;stroke-linejoin:miter;stroke-opacity:1\"/>\n",
       "<path class=\"bond-20\" d=\"M 153.904,64.5252 L 143.494,47.7592\" style=\"fill:none;fill-rule:evenodd;stroke:#000000;stroke-width:2.0px;stroke-linecap:butt;stroke-linejoin:miter;stroke-opacity:1\"/>\n",
       "<path class=\"bond-52\" d=\"M 153.904,64.5252 L 150.135,71.5647\" style=\"fill:none;fill-rule:evenodd;stroke:#000000;stroke-width:2.0px;stroke-linecap:butt;stroke-linejoin:miter;stroke-opacity:1\"/>\n",
       "<path class=\"bond-52\" d=\"M 150.135,71.5647 L 146.367,78.6042\" style=\"fill:none;fill-rule:evenodd;stroke:#FF0000;stroke-width:2.0px;stroke-linecap:butt;stroke-linejoin:miter;stroke-opacity:1\"/>\n",
       "<path class=\"bond-21\" d=\"M 143.494,47.7592 L 123.769,48.3917\" style=\"fill:none;fill-rule:evenodd;stroke:#000000;stroke-width:2.0px;stroke-linecap:butt;stroke-linejoin:miter;stroke-opacity:1\"/>\n",
       "<path class=\"bond-22\" d=\"M 123.769,48.3917 L 114.455,65.7901\" style=\"fill:none;fill-rule:evenodd;stroke:#000000;stroke-width:2.0px;stroke-linecap:butt;stroke-linejoin:miter;stroke-opacity:1\"/>\n",
       "<path class=\"bond-27\" d=\"M 123.769,48.3917 L 105.018,42.2397\" style=\"fill:none;fill-rule:evenodd;stroke:#000000;stroke-width:2.0px;stroke-linecap:butt;stroke-linejoin:miter;stroke-opacity:1\"/>\n",
       "<path class=\"bond-28\" d=\"M 123.769,48.3917 L 124.926,40.3273\" style=\"fill:none;fill-rule:evenodd;stroke:#000000;stroke-width:2.0px;stroke-linecap:butt;stroke-linejoin:miter;stroke-opacity:1\"/>\n",
       "<path class=\"bond-28\" d=\"M 124.926,40.3273 L 126.083,32.2629\" style=\"fill:none;fill-rule:evenodd;stroke:#FF0000;stroke-width:2.0px;stroke-linecap:butt;stroke-linejoin:miter;stroke-opacity:1\"/>\n",
       "<path class=\"bond-23\" d=\"M 114.455,65.7901 L 124.865,82.556\" style=\"fill:none;fill-rule:evenodd;stroke:#000000;stroke-width:2.0px;stroke-linecap:butt;stroke-linejoin:miter;stroke-opacity:1\"/>\n",
       "<path class=\"bond-26\" d=\"M 114.455,65.7901 L 106.122,66.0573\" style=\"fill:none;fill-rule:evenodd;stroke:#000000;stroke-width:2.0px;stroke-linecap:butt;stroke-linejoin:miter;stroke-opacity:1\"/>\n",
       "<path class=\"bond-26\" d=\"M 106.122,66.0573 L 97.7887,66.3244\" style=\"fill:none;fill-rule:evenodd;stroke:#FF0000;stroke-width:2.0px;stroke-linecap:butt;stroke-linejoin:miter;stroke-opacity:1\"/>\n",
       "<path class=\"bond-24\" d=\"M 124.865,82.556 L 133.198,82.2889\" style=\"fill:none;fill-rule:evenodd;stroke:#000000;stroke-width:2.0px;stroke-linecap:butt;stroke-linejoin:miter;stroke-opacity:1\"/>\n",
       "<path class=\"bond-24\" d=\"M 133.198,82.2889 L 141.531,82.0217\" style=\"fill:none;fill-rule:evenodd;stroke:#FF0000;stroke-width:2.0px;stroke-linecap:butt;stroke-linejoin:miter;stroke-opacity:1\"/>\n",
       "<path class=\"bond-25\" d=\"M 124.865,82.556 L 115.55,99.9545\" style=\"fill:none;fill-rule:evenodd;stroke:#000000;stroke-width:2.0px;stroke-linecap:butt;stroke-linejoin:miter;stroke-opacity:1\"/>\n",
       "<path class=\"bond-29\" d=\"M 123.513,26.4527 L 117.284,21.5575\" style=\"fill:none;fill-rule:evenodd;stroke:#FF0000;stroke-width:2.0px;stroke-linecap:butt;stroke-linejoin:miter;stroke-opacity:1\"/>\n",
       "<path class=\"bond-29\" d=\"M 117.284,21.5575 L 111.055,16.6623\" style=\"fill:none;fill-rule:evenodd;stroke:#000000;stroke-width:2.0px;stroke-linecap:butt;stroke-linejoin:miter;stroke-opacity:1\"/>\n",
       "<path class=\"bond-32\" d=\"M 230.839,55.6865 L 238.89,53.7034\" style=\"fill:none;fill-rule:evenodd;stroke:#FF0000;stroke-width:2.0px;stroke-linecap:butt;stroke-linejoin:miter;stroke-opacity:1\"/>\n",
       "<path class=\"bond-32\" d=\"M 238.89,53.7034 L 246.942,51.7203\" style=\"fill:none;fill-rule:evenodd;stroke:#000000;stroke-width:2.0px;stroke-linecap:butt;stroke-linejoin:miter;stroke-opacity:1\"/>\n",
       "<path class=\"bond-33\" d=\"M 246.942,51.7203 L 260.611,65.9555\" style=\"fill:none;fill-rule:evenodd;stroke:#000000;stroke-width:2.0px;stroke-linecap:butt;stroke-linejoin:miter;stroke-opacity:1\"/>\n",
       "<path class=\"bond-53\" d=\"M 246.942,51.7203 L 249.195,43.946\" style=\"fill:none;fill-rule:evenodd;stroke:#000000;stroke-width:2.0px;stroke-linecap:butt;stroke-linejoin:miter;stroke-opacity:1\"/>\n",
       "<path class=\"bond-53\" d=\"M 249.195,43.946 L 251.449,36.1717\" style=\"fill:none;fill-rule:evenodd;stroke:#FF0000;stroke-width:2.0px;stroke-linecap:butt;stroke-linejoin:miter;stroke-opacity:1\"/>\n",
       "<path class=\"bond-34\" d=\"M 260.611,65.9555 L 279.773,61.2358\" style=\"fill:none;fill-rule:evenodd;stroke:#000000;stroke-width:2.0px;stroke-linecap:butt;stroke-linejoin:miter;stroke-opacity:1\"/>\n",
       "<path class=\"bond-42\" d=\"M 260.611,65.9555 L 260.025,69.5884\" style=\"fill:none;fill-rule:evenodd;stroke:#000000;stroke-width:2.0px;stroke-linecap:butt;stroke-linejoin:miter;stroke-opacity:1\"/>\n",
       "<path class=\"bond-42\" d=\"M 260.025,69.5884 L 259.439,73.2214\" style=\"fill:none;fill-rule:evenodd;stroke:#FF0000;stroke-width:2.0px;stroke-linecap:butt;stroke-linejoin:miter;stroke-opacity:1\"/>\n",
       "<path class=\"bond-35\" d=\"M 279.773,61.2358 L 285.267,42.281\" style=\"fill:none;fill-rule:evenodd;stroke:#000000;stroke-width:2.0px;stroke-linecap:butt;stroke-linejoin:miter;stroke-opacity:1\"/>\n",
       "<path class=\"bond-39\" d=\"M 279.773,61.2358 L 285.301,66.9928\" style=\"fill:none;fill-rule:evenodd;stroke:#000000;stroke-width:2.0px;stroke-linecap:butt;stroke-linejoin:miter;stroke-opacity:1\"/>\n",
       "<path class=\"bond-39\" d=\"M 285.301,66.9928 L 290.828,72.7498\" style=\"fill:none;fill-rule:evenodd;stroke:#0000FF;stroke-width:2.0px;stroke-linecap:butt;stroke-linejoin:miter;stroke-opacity:1\"/>\n",
       "<path class=\"bond-36\" d=\"M 285.267,42.281 L 271.598,28.0458\" style=\"fill:none;fill-rule:evenodd;stroke:#000000;stroke-width:2.0px;stroke-linecap:butt;stroke-linejoin:miter;stroke-opacity:1\"/>\n",
       "<path class=\"bond-37\" d=\"M 271.598,28.0458 L 263.547,30.0289\" style=\"fill:none;fill-rule:evenodd;stroke:#000000;stroke-width:2.0px;stroke-linecap:butt;stroke-linejoin:miter;stroke-opacity:1\"/>\n",
       "<path class=\"bond-37\" d=\"M 263.547,30.0289 L 255.495,32.012\" style=\"fill:none;fill-rule:evenodd;stroke:#FF0000;stroke-width:2.0px;stroke-linecap:butt;stroke-linejoin:miter;stroke-opacity:1\"/>\n",
       "<path class=\"bond-38\" d=\"M 271.598,28.0458 L 277.092,9.09091\" style=\"fill:none;fill-rule:evenodd;stroke:#000000;stroke-width:2.0px;stroke-linecap:butt;stroke-linejoin:miter;stroke-opacity:1\"/>\n",
       "<path class=\"bond-40\" d=\"M 296.054,74.8275 L 304.329,72.7894\" style=\"fill:none;fill-rule:evenodd;stroke:#0000FF;stroke-width:2.0px;stroke-linecap:butt;stroke-linejoin:miter;stroke-opacity:1\"/>\n",
       "<path class=\"bond-40\" d=\"M 304.329,72.7894 L 312.604,70.7514\" style=\"fill:none;fill-rule:evenodd;stroke:#000000;stroke-width:2.0px;stroke-linecap:butt;stroke-linejoin:miter;stroke-opacity:1\"/>\n",
       "<path class=\"bond-41\" d=\"M 292.488,78.7589 L 290.218,86.5924\" style=\"fill:none;fill-rule:evenodd;stroke:#0000FF;stroke-width:2.0px;stroke-linecap:butt;stroke-linejoin:miter;stroke-opacity:1\"/>\n",
       "<path class=\"bond-41\" d=\"M 290.218,86.5924 L 287.948,94.4259\" style=\"fill:none;fill-rule:evenodd;stroke:#000000;stroke-width:2.0px;stroke-linecap:butt;stroke-linejoin:miter;stroke-opacity:1\"/>\n",
       "<path class=\"atom-6\" d=\"M 240.71 152.418 L 242.541 155.378 Q 242.723 155.67, 243.015 156.199 Q 243.307 156.728, 243.323 156.76 L 243.323 152.418 L 244.065 152.418 L 244.065 158.007 L 243.299 158.007 L 241.333 154.77 Q 241.104 154.391, 240.86 153.957 Q 240.623 153.523, 240.552 153.389 L 240.552 158.007 L 239.825 158.007 L 239.825 152.418 L 240.71 152.418 \" fill=\"#0000FF\"/>\n",
       "<path class=\"atom-16\" d=\"M 140.368 109.137 Q 140.368 107.795, 141.031 107.045 Q 141.694 106.296, 142.934 106.296 Q 144.173 106.296, 144.836 107.045 Q 145.499 107.795, 145.499 109.137 Q 145.499 110.495, 144.828 111.269 Q 144.157 112.034, 142.934 112.034 Q 141.702 112.034, 141.031 111.269 Q 140.368 110.503, 140.368 109.137 M 142.934 111.403 Q 143.786 111.403, 144.244 110.835 Q 144.71 110.258, 144.71 109.137 Q 144.71 108.04, 144.244 107.487 Q 143.786 106.927, 142.934 106.927 Q 142.081 106.927, 141.615 107.48 Q 141.158 108.032, 141.158 109.137 Q 141.158 110.266, 141.615 110.835 Q 142.081 111.403, 142.934 111.403 \" fill=\"#FF0000\"/>\n",
       "<path class=\"atom-17\" d=\"M 160.426 132.345 Q 160.426 131.003, 161.089 130.253 Q 161.752 129.503, 162.991 129.503 Q 164.231 129.503, 164.894 130.253 Q 165.557 131.003, 165.557 132.345 Q 165.557 133.702, 164.886 134.476 Q 164.215 135.242, 162.991 135.242 Q 161.76 135.242, 161.089 134.476 Q 160.426 133.71, 160.426 132.345 M 162.991 134.61 Q 163.844 134.61, 164.302 134.042 Q 164.768 133.465, 164.768 132.345 Q 164.768 131.247, 164.302 130.695 Q 163.844 130.134, 162.991 130.134 Q 162.139 130.134, 161.673 130.687 Q 161.215 131.239, 161.215 132.345 Q 161.215 133.473, 161.673 134.042 Q 162.139 134.61, 162.991 134.61 \" fill=\"#FF0000\"/>\n",
       "<path class=\"atom-19\" d=\"M 171.064 63.9085 Q 171.064 62.5666, 171.727 61.8166 Q 172.39 61.0667, 173.629 61.0667 Q 174.868 61.0667, 175.532 61.8166 Q 176.195 62.5666, 176.195 63.9085 Q 176.195 65.2663, 175.524 66.0399 Q 174.853 66.8056, 173.629 66.8056 Q 172.398 66.8056, 171.727 66.0399 Q 171.064 65.2742, 171.064 63.9085 M 173.629 66.1741 Q 174.482 66.1741, 174.939 65.6057 Q 175.405 65.0295, 175.405 63.9085 Q 175.405 62.8113, 174.939 62.2587 Q 174.482 61.6982, 173.629 61.6982 Q 172.777 61.6982, 172.311 62.2508 Q 171.853 62.8034, 171.853 63.9085 Q 171.853 65.0374, 172.311 65.6057 Q 172.777 66.1741, 173.629 66.1741 \" fill=\"#FF0000\"/>\n",
       "<path class=\"atom-25\" d=\"M 142.024 81.9394 Q 142.024 80.5974, 142.687 79.8475 Q 143.35 79.0976, 144.59 79.0976 Q 145.829 79.0976, 146.492 79.8475 Q 147.155 80.5974, 147.155 81.9394 Q 147.155 83.2972, 146.484 84.0708 Q 145.813 84.8365, 144.59 84.8365 Q 143.358 84.8365, 142.687 84.0708 Q 142.024 83.305, 142.024 81.9394 M 144.59 84.205 Q 145.442 84.205, 145.9 83.6366 Q 146.366 83.0603, 146.366 81.9394 Q 146.366 80.8421, 145.9 80.2895 Q 145.442 79.7291, 144.59 79.7291 Q 143.737 79.7291, 143.271 80.2817 Q 142.813 80.8342, 142.813 81.9394 Q 142.813 83.0682, 143.271 83.6366 Q 143.737 84.205, 144.59 84.205 \" fill=\"#FF0000\"/>\n",
       "<path class=\"atom-27\" d=\"M 87.3963 63.6596 L 88.1541 63.6596 L 88.1541 66.0357 L 91.0117 66.0357 L 91.0117 63.6596 L 91.7696 63.6596 L 91.7696 69.2486 L 91.0117 69.2486 L 91.0117 66.6672 L 88.1541 66.6672 L 88.1541 69.2486 L 87.3963 69.2486 L 87.3963 63.6596 \" fill=\"#FF0000\"/>\n",
       "<path class=\"atom-27\" d=\"M 92.1643 66.4383 Q 92.1643 65.0963, 92.8274 64.3464 Q 93.4905 63.5965, 94.7298 63.5965 Q 95.9692 63.5965, 96.6323 64.3464 Q 97.2954 65.0963, 97.2954 66.4383 Q 97.2954 67.7961, 96.6244 68.5697 Q 95.9534 69.3354, 94.7298 69.3354 Q 93.4984 69.3354, 92.8274 68.5697 Q 92.1643 67.804, 92.1643 66.4383 M 94.7298 68.7039 Q 95.5824 68.7039, 96.0402 68.1355 Q 96.506 67.5592, 96.506 66.4383 Q 96.506 65.341, 96.0402 64.7885 Q 95.5824 64.228, 94.7298 64.228 Q 93.8773 64.228, 93.4115 64.7806 Q 92.9537 65.3331, 92.9537 66.4383 Q 92.9537 67.5671, 93.4115 68.1355 Q 93.8773 68.7039, 94.7298 68.7039 \" fill=\"#FF0000\"/>\n",
       "<path class=\"atom-29\" d=\"M 124.006 28.8725 Q 124.006 27.5305, 124.669 26.7806 Q 125.332 26.0306, 126.572 26.0306 Q 127.811 26.0306, 128.474 26.7806 Q 129.137 27.5305, 129.137 28.8725 Q 129.137 30.2302, 128.466 31.0038 Q 127.795 31.7696, 126.572 31.7696 Q 125.34 31.7696, 124.669 31.0038 Q 124.006 30.2381, 124.006 28.8725 M 126.572 31.138 Q 127.424 31.138, 127.882 30.5697 Q 128.348 29.9934, 128.348 28.8725 Q 128.348 27.7752, 127.882 27.2226 Q 127.424 26.6622, 126.572 26.6622 Q 125.719 26.6622, 125.253 27.2147 Q 124.796 27.7673, 124.796 28.8725 Q 124.796 30.0013, 125.253 30.5697 Q 125.719 31.138, 126.572 31.138 \" fill=\"#FF0000\"/>\n",
       "<path class=\"atom-32\" d=\"M 225.214 56.4557 Q 225.214 55.1137, 225.877 54.3638 Q 226.541 53.6139, 227.78 53.6139 Q 229.019 53.6139, 229.682 54.3638 Q 230.345 55.1137, 230.345 56.4557 Q 230.345 57.8134, 229.674 58.5871 Q 229.003 59.3528, 227.78 59.3528 Q 226.548 59.3528, 225.877 58.5871 Q 225.214 57.8213, 225.214 56.4557 M 227.78 58.7213 Q 228.632 58.7213, 229.09 58.1529 Q 229.556 57.5766, 229.556 56.4557 Q 229.556 55.3584, 229.09 54.8058 Q 228.632 54.2454, 227.78 54.2454 Q 226.927 54.2454, 226.462 54.7979 Q 226.004 55.3505, 226.004 56.4557 Q 226.004 57.5845, 226.462 58.1529 Q 226.927 58.7213, 227.78 58.7213 \" fill=\"#FF0000\"/>\n",
       "<path class=\"atom-38\" d=\"M 249.87 32.7812 Q 249.87 31.4392, 250.534 30.6893 Q 251.197 29.9394, 252.436 29.9394 Q 253.675 29.9394, 254.338 30.6893 Q 255.002 31.4392, 255.002 32.7812 Q 255.002 34.139, 254.331 34.9126 Q 253.66 35.6783, 252.436 35.6783 Q 251.205 35.6783, 250.534 34.9126 Q 249.87 34.1468, 249.87 32.7812 M 252.436 35.0468 Q 253.289 35.0468, 253.746 34.4784 Q 254.212 33.9021, 254.212 32.7812 Q 254.212 31.6839, 253.746 31.1313 Q 253.289 30.5709, 252.436 30.5709 Q 251.583 30.5709, 251.118 31.1235 Q 250.66 31.676, 250.66 32.7812 Q 250.66 33.91, 251.118 34.4784 Q 251.583 35.0468, 252.436 35.0468 \" fill=\"#FF0000\"/>\n",
       "<path class=\"atom-40\" d=\"M 292.206 72.6766 L 294.037 75.6368 Q 294.219 75.9289, 294.511 76.4578 Q 294.803 76.9867, 294.819 77.0183 L 294.819 72.6766 L 295.561 72.6766 L 295.561 78.2655 L 294.795 78.2655 L 292.83 75.029 Q 292.601 74.6501, 292.356 74.2159 Q 292.119 73.7817, 292.048 73.6475 L 292.048 78.2655 L 291.322 78.2655 L 291.322 72.6766 L 292.206 72.6766 \" fill=\"#0000FF\"/>\n",
       "<path class=\"atom-43\" d=\"M 256.375 76.3254 Q 256.375 74.9834, 257.038 74.2335 Q 257.701 73.4836, 258.941 73.4836 Q 260.18 73.4836, 260.843 74.2335 Q 261.506 74.9834, 261.506 76.3254 Q 261.506 77.6832, 260.835 78.4568 Q 260.164 79.2225, 258.941 79.2225 Q 257.709 79.2225, 257.038 78.4568 Q 256.375 77.6911, 256.375 76.3254 M 258.941 78.591 Q 259.793 78.591, 260.251 78.0226 Q 260.717 77.4464, 260.717 76.3254 Q 260.717 75.2281, 260.251 74.6756 Q 259.793 74.1151, 258.941 74.1151 Q 258.088 74.1151, 257.622 74.6677 Q 257.165 75.2203, 257.165 76.3254 Q 257.165 77.4543, 257.622 78.0226 Q 258.088 78.591, 258.941 78.591 \" fill=\"#FF0000\"/>\n",
       "<path class=\"atom-43\" d=\"M 262.177 73.5467 L 262.935 73.5467 L 262.935 75.9228 L 265.793 75.9228 L 265.793 73.5467 L 266.55 73.5467 L 266.55 79.1357 L 265.793 79.1357 L 265.793 76.5543 L 262.935 76.5543 L 262.935 79.1357 L 262.177 79.1357 L 262.177 73.5467 \" fill=\"#FF0000\"/>\n",
       "<path class=\"atom-45\" d=\"M 247.482 83.1144 Q 247.482 81.7724, 248.146 81.0225 Q 248.809 80.2726, 250.048 80.2726 Q 251.287 80.2726, 251.95 81.0225 Q 252.614 81.7724, 252.614 83.1144 Q 252.614 84.4722, 251.943 85.2458 Q 251.272 86.0115, 250.048 86.0115 Q 248.817 86.0115, 248.146 85.2458 Q 247.482 84.4801, 247.482 83.1144 M 250.048 85.38 Q 250.901 85.38, 251.358 84.8116 Q 251.824 84.2354, 251.824 83.1144 Q 251.824 82.0171, 251.358 81.4646 Q 250.901 80.9041, 250.048 80.9041 Q 249.195 80.9041, 248.73 81.4567 Q 248.272 82.0093, 248.272 83.1144 Q 248.272 84.2432, 248.73 84.8116 Q 249.195 85.38, 250.048 85.38 \" fill=\"#FF0000\"/>\n",
       "<path class=\"atom-45\" d=\"M 253.285 80.3357 L 254.042 80.3357 L 254.042 82.7118 L 256.9 82.7118 L 256.9 80.3357 L 257.658 80.3357 L 257.658 85.9247 L 256.9 85.9247 L 256.9 83.3433 L 254.042 83.3433 L 254.042 85.9247 L 253.285 85.9247 L 253.285 80.3357 \" fill=\"#FF0000\"/>\n",
       "<path class=\"atom-49\" d=\"M 201.63 188.012 Q 201.63 186.67, 202.293 185.92 Q 202.956 185.17, 204.196 185.17 Q 205.435 185.17, 206.098 185.92 Q 206.761 186.67, 206.761 188.012 Q 206.761 189.37, 206.09 190.143 Q 205.419 190.909, 204.196 190.909 Q 202.964 190.909, 202.293 190.143 Q 201.63 189.378, 201.63 188.012 M 204.196 190.278 Q 205.048 190.278, 205.506 189.709 Q 205.972 189.133, 205.972 188.012 Q 205.972 186.915, 205.506 186.362 Q 205.048 185.802, 204.196 185.802 Q 203.343 185.802, 202.877 186.354 Q 202.419 186.907, 202.419 188.012 Q 202.419 189.141, 202.877 189.709 Q 203.343 190.278, 204.196 190.278 \" fill=\"#FF0000\"/>\n",
       "<path class=\"atom-49\" d=\"M 207.432 185.233 L 208.19 185.233 L 208.19 187.609 L 211.048 187.609 L 211.048 185.233 L 211.805 185.233 L 211.805 190.822 L 211.048 190.822 L 211.048 188.241 L 208.19 188.241 L 208.19 190.822 L 207.432 190.822 L 207.432 185.233 \" fill=\"#FF0000\"/>\n",
       "<path class=\"atom-51\" d=\"M 161.889 169.272 L 162.647 169.272 L 162.647 171.648 L 165.504 171.648 L 165.504 169.272 L 166.262 169.272 L 166.262 174.861 L 165.504 174.861 L 165.504 172.279 L 162.647 172.279 L 162.647 174.861 L 161.889 174.861 L 161.889 169.272 \" fill=\"#FF0000\"/>\n",
       "<path class=\"atom-51\" d=\"M 166.657 172.051 Q 166.657 170.709, 167.32 169.959 Q 167.983 169.209, 169.222 169.209 Q 170.462 169.209, 171.125 169.959 Q 171.788 170.709, 171.788 172.051 Q 171.788 173.408, 171.117 174.182 Q 170.446 174.948, 169.222 174.948 Q 167.991 174.948, 167.32 174.182 Q 166.657 173.416, 166.657 172.051 M 169.222 174.316 Q 170.075 174.316, 170.533 173.748 Q 170.998 173.171, 170.998 172.051 Q 170.998 170.953, 170.533 170.401 Q 170.075 169.84, 169.222 169.84 Q 168.37 169.84, 167.904 170.393 Q 167.446 170.945, 167.446 172.051 Q 167.446 173.179, 167.904 173.748 Q 168.37 174.316, 169.222 174.316 \" fill=\"#FF0000\"/>\n",
       "</svg>"
      ],
      "text/plain": [
       "<IPython.core.display.SVG object>"
      ]
     },
     "execution_count": 6,
     "metadata": {},
     "output_type": "execute_result"
    }
   ],
   "source": [
    "dao.draw_molecule(azithromycin)"
   ]
  },
  {
   "cell_type": "markdown",
   "id": "229dec55-922c-4953-a21f-77decd9bc482",
   "metadata": {},
   "source": [
    "You can input any format of valid SMILES, however we recommend standardizing the SMILES. (Standardization won't affect azithromycin canonical smiles)"
   ]
  },
  {
   "cell_type": "code",
   "execution_count": 7,
   "id": "89f20c52-b1fa-4e8e-8f35-f2d8c96ad154",
   "metadata": {},
   "outputs": [],
   "source": [
    "standardized_azithro = dao.standardize_molecule(azithromycin)"
   ]
  },
  {
   "cell_type": "markdown",
   "id": "6f9fe397-376e-4b1a-b172-d4640edfb988",
   "metadata": {},
   "source": [
    "Return the probability from the model"
   ]
  },
  {
   "cell_type": "code",
   "execution_count": 8,
   "id": "6cba352d-f242-4091-aaeb-a531ba656342",
   "metadata": {},
   "outputs": [
    {
     "data": {
      "text/plain": [
       "15.64"
      ]
     },
     "execution_count": 8,
     "metadata": {},
     "output_type": "execute_result"
    }
   ],
   "source": [
    "dao.predict_probability(standardized_azithro)"
   ]
  },
  {
   "cell_type": "markdown",
   "id": "3f2c3d57-57b3-41e3-a3a5-fcfe9a20ba14",
   "metadata": {},
   "source": [
    "Predict class based on a threshold given by the optimal F1 score for the withdrawn class"
   ]
  },
  {
   "cell_type": "code",
   "execution_count": 9,
   "id": "b7879434-4241-4d7e-b7ed-0c6c0ff42cf4",
   "metadata": {},
   "outputs": [
    {
     "data": {
      "text/plain": [
       "'Approved'"
      ]
     },
     "execution_count": 9,
     "metadata": {},
     "output_type": "execute_result"
    }
   ],
   "source": [
    "dao.predict_class(standardized_azithro)"
   ]
  },
  {
   "cell_type": "markdown",
   "id": "841c58da-bfc1-48cc-b7e8-db1110cb04ba",
   "metadata": {},
   "source": [
    "Find the probability of outputting the correct class using the conformal predictor. Without inputing a significance level the conformal method outputs a p-value, which can be interpreted as: \n",
    "  * With probability equal to the p-value, the model can produce the correct prediction"
   ]
  },
  {
   "cell_type": "code",
   "execution_count": 10,
   "id": "4e9cd9c8-b680-4e8c-8499-0a8240f4c3b9",
   "metadata": {},
   "outputs": [
    {
     "data": {
      "text/html": [
       "<div>\n",
       "<style scoped>\n",
       "    .dataframe tbody tr th:only-of-type {\n",
       "        vertical-align: middle;\n",
       "    }\n",
       "\n",
       "    .dataframe tbody tr th {\n",
       "        vertical-align: top;\n",
       "    }\n",
       "\n",
       "    .dataframe thead th {\n",
       "        text-align: right;\n",
       "    }\n",
       "</style>\n",
       "<table border=\"1\" class=\"dataframe\">\n",
       "  <thead>\n",
       "    <tr style=\"text-align: right;\">\n",
       "      <th></th>\n",
       "      <th>Withdrawn class p-value</th>\n",
       "      <th>Approved class p-value</th>\n",
       "    </tr>\n",
       "  </thead>\n",
       "  <tbody>\n",
       "    <tr>\n",
       "      <th>0</th>\n",
       "      <td>0.22</td>\n",
       "      <td>0.51</td>\n",
       "    </tr>\n",
       "  </tbody>\n",
       "</table>\n",
       "</div>"
      ],
      "text/plain": [
       "   Withdrawn class p-value  Approved class p-value\n",
       "0                     0.22                    0.51"
      ]
     },
     "execution_count": 10,
     "metadata": {},
     "output_type": "execute_result"
    }
   ],
   "source": [
    "dao.conformal(standardized_azithro)"
   ]
  },
  {
   "cell_type": "markdown",
   "id": "b386ac6c-bb44-469e-9267-a8b60af399ac",
   "metadata": {},
   "source": [
    "You can also enter a significance level which can be interpreted as:\n",
    "   * The classifier will output a prediction with an error rate of at most equal to the specified significance level"
   ]
  },
  {
   "cell_type": "code",
   "execution_count": 11,
   "id": "cde759ca-2da8-42f5-b54a-643f6692a43d",
   "metadata": {},
   "outputs": [
    {
     "data": {
      "text/html": [
       "<div>\n",
       "<style scoped>\n",
       "    .dataframe tbody tr th:only-of-type {\n",
       "        vertical-align: middle;\n",
       "    }\n",
       "\n",
       "    .dataframe tbody tr th {\n",
       "        vertical-align: top;\n",
       "    }\n",
       "\n",
       "    .dataframe thead th {\n",
       "        text-align: right;\n",
       "    }\n",
       "</style>\n",
       "<table border=\"1\" class=\"dataframe\">\n",
       "  <thead>\n",
       "    <tr style=\"text-align: right;\">\n",
       "      <th></th>\n",
       "      <th>Withdrawn class</th>\n",
       "      <th>Approved class</th>\n",
       "    </tr>\n",
       "  </thead>\n",
       "  <tbody>\n",
       "    <tr>\n",
       "      <th>0</th>\n",
       "      <td>False</td>\n",
       "      <td>False</td>\n",
       "    </tr>\n",
       "  </tbody>\n",
       "</table>\n",
       "</div>"
      ],
      "text/plain": [
       "   Withdrawn class  Approved class\n",
       "0            False           False"
      ]
     },
     "execution_count": 11,
     "metadata": {},
     "output_type": "execute_result"
    }
   ],
   "source": [
    "dao.conformal(standardized_azithro, significance=0.05)"
   ]
  },
  {
   "cell_type": "markdown",
   "id": "ba2f6742-9096-451b-bc37-a37587f7dd8d",
   "metadata": {},
   "source": [
    "* We can see that the model can't make predictions that confident for this molecule"
   ]
  },
  {
   "cell_type": "markdown",
   "id": "a5a0be1f-f624-49e4-a181-18e4b57560fc",
   "metadata": {},
   "source": [
    "We use GNN explainer to interpret the model. It finds the edges that are most important to making the prediction for the given input molecule. This can be used to find molecular substructures importat for the prediction of withdrawn drugs. GNN explainer also outputs importance of the atom features"
   ]
  },
  {
   "cell_type": "code",
   "execution_count": 12,
   "id": "8282157c-96ec-4ec1-b895-3ec516d04dcc",
   "metadata": {},
   "outputs": [
    {
     "name": "stderr",
     "output_type": "stream",
     "text": [
      "Explain graph: 100%|██████████| 300/300 [00:10<00:00, 28.69it/s]\n"
     ]
    },
    {
     "data": {
      "image/png": "[encoded data removed]",
      "text/plain": [
       "<Figure size 504x576 with 1 Axes>"
      ]
     },
     "metadata": {},
     "output_type": "display_data"
    }
   ],
   "source": [
    "dao.explain_molecule_features(standardized_azithro)"
   ]
  },
  {
   "cell_type": "code",
   "execution_count": 13,
   "id": "2efb455b-aae4-4382-a392-5451871a2800",
   "metadata": {},
   "outputs": [
    {
     "name": "stderr",
     "output_type": "stream",
     "text": [
      "Explain graph: 100%|██████████| 300/300 [00:09<00:00, 30.24it/s]\n"
     ]
    },
    {
     "data": {
      "image/png": "[encoded data removed]",
      "text/plain": [
       "<Figure size 504x576 with 1 Axes>"
      ]
     },
     "metadata": {},
     "output_type": "display_data"
    }
   ],
   "source": [
    "dao.explain_subgraphs(standardized_azithro, epochs=300)"
   ]
  },
  {
   "cell_type": "markdown",
   "id": "55154da8-a40b-466a-965e-d49918e5e2af",
   "metadata": {},
   "source": [
    "## DAO descriptors model"
   ]
  },
  {
   "cell_type": "code",
   "execution_count": 14,
   "id": "379828a0-a63d-4a40-86e6-808e67e9fe49",
   "metadata": {},
   "outputs": [],
   "source": [
    "from dao_descriptors import DrugAttritionOracleDescriptors"
   ]
  },
  {
   "cell_type": "markdown",
   "id": "a9ec5514-3338-414f-9607-6f14f808abac",
   "metadata": {},
   "source": [
    "Model that is trained on both molecular graphs and selected molecular descriptors. Due to the size of the model it currently has to be trained on a local device."
   ]
  },
  {
   "cell_type": "markdown",
   "id": "e56f6a73-94d7-4243-b355-2bc6d0d3f194",
   "metadata": {},
   "source": [
    "1. Navigate to the src.descriptors folder\n",
    "2. With a configured environment (from withdrawn.yml file) run:\n",
    " * python train_gcn_desc.py -production True\n",
    "3. Initialize the model with the relative path (from root) to the production weights"
   ]
  },
  {
   "cell_type": "code",
   "execution_count": 15,
   "id": "6dfda2e5-3cd7-449e-986a-9fd229baab7b",
   "metadata": {},
   "outputs": [
    {
     "name": "stderr",
     "output_type": "stream",
     "text": [
      "Global seed set to 0\n"
     ]
    }
   ],
   "source": [
    "dao_descriptors = DrugAttritionOracleDescriptors(\n",
    "    'production/ozren_selected/checkpoint/epoch=7-step=455.ckpt'\n",
    ")"
   ]
  },
  {
   "cell_type": "code",
   "execution_count": 25,
   "id": "0513e3c5-fe93-4233-ae9e-87b074df5058",
   "metadata": {},
   "outputs": [],
   "source": [
    "pinacidil = \"CC(C(C)(C)C)N=C(NC#N)NC1=CC=NC=C1\""
   ]
  },
  {
   "cell_type": "markdown",
   "id": "2870c852-43bd-48a8-9b47-d47177fb4e48",
   "metadata": {},
   "source": [
    "The model has the same functionalities as the model without descriptors, however for input it expects a dataframe of descriptors (Padel 1560 fingerprints and ToxPrint descriptors), where the column names are the descriptors.\n",
    "* For pinacidil molecule the input would look like "
   ]
  },
  {
   "cell_type": "code",
   "execution_count": 22,
   "id": "f650d5ef-e816-4493-9646-5c9f452793a5",
   "metadata": {},
   "outputs": [
    {
     "data": {
      "text/html": [
       "<div>\n",
       "<style scoped>\n",
       "    .dataframe tbody tr th:only-of-type {\n",
       "        vertical-align: middle;\n",
       "    }\n",
       "\n",
       "    .dataframe tbody tr th {\n",
       "        vertical-align: top;\n",
       "    }\n",
       "\n",
       "    .dataframe thead th {\n",
       "        text-align: right;\n",
       "    }\n",
       "</style>\n",
       "<table border=\"1\" class=\"dataframe\">\n",
       "  <thead>\n",
       "    <tr style=\"text-align: right;\">\n",
       "      <th></th>\n",
       "      <th>Unnamed: 0</th>\n",
       "      <th>chembl_id</th>\n",
       "      <th>AD2D1</th>\n",
       "      <th>AD2D2</th>\n",
       "      <th>AD2D3</th>\n",
       "      <th>AD2D4</th>\n",
       "      <th>AD2D5</th>\n",
       "      <th>AD2D6</th>\n",
       "      <th>AD2D7</th>\n",
       "      <th>AD2D8</th>\n",
       "      <th>...</th>\n",
       "      <th>ring:polycycle_bicyclo_propene</th>\n",
       "      <th>ring:polycycle_spiro_[2.2]pentane</th>\n",
       "      <th>ring:polycycle_spiro_[2.5]octane</th>\n",
       "      <th>ring:polycycle_spiro_[4.5]decane</th>\n",
       "      <th>ring:polycycle_spiro_1_4-dioxaspiro[4.5]decane</th>\n",
       "      <th>ring:polycycle_tricyclo_[3.5.5]_cyclopropa[cd]pentalene</th>\n",
       "      <th>ring:polycycle_tricyclo_[3.7.7]bullvalene</th>\n",
       "      <th>ring:polycycle_tricyclo_[3.7.7]semibullvalene</th>\n",
       "      <th>ring:polycycle_tricyclo_adamantane</th>\n",
       "      <th>ring:polycycle_tricyclo_benzvalene</th>\n",
       "    </tr>\n",
       "  </thead>\n",
       "  <tbody>\n",
       "    <tr>\n",
       "      <th>0</th>\n",
       "      <td>319</td>\n",
       "      <td>CHEMBL1159</td>\n",
       "      <td>1</td>\n",
       "      <td>1</td>\n",
       "      <td>0</td>\n",
       "      <td>0</td>\n",
       "      <td>0</td>\n",
       "      <td>0</td>\n",
       "      <td>0</td>\n",
       "      <td>0</td>\n",
       "      <td>...</td>\n",
       "      <td>0</td>\n",
       "      <td>0</td>\n",
       "      <td>0</td>\n",
       "      <td>0</td>\n",
       "      <td>0</td>\n",
       "      <td>0</td>\n",
       "      <td>0</td>\n",
       "      <td>0</td>\n",
       "      <td>0</td>\n",
       "      <td>0</td>\n",
       "    </tr>\n",
       "  </tbody>\n",
       "</table>\n",
       "<p>1 rows × 2291 columns</p>\n",
       "</div>"
      ],
      "text/plain": [
       "   Unnamed: 0   chembl_id  AD2D1  AD2D2  AD2D3  AD2D4  AD2D5  AD2D6  AD2D7  \\\n",
       "0         319  CHEMBL1159      1      1      0      0      0      0      0   \n",
       "\n",
       "   AD2D8  ...  ring:polycycle_bicyclo_propene  \\\n",
       "0      0  ...                               0   \n",
       "\n",
       "   ring:polycycle_spiro_[2.2]pentane  ring:polycycle_spiro_[2.5]octane  \\\n",
       "0                                  0                                 0   \n",
       "\n",
       "   ring:polycycle_spiro_[4.5]decane  \\\n",
       "0                                 0   \n",
       "\n",
       "   ring:polycycle_spiro_1_4-dioxaspiro[4.5]decane  \\\n",
       "0                                               0   \n",
       "\n",
       "   ring:polycycle_tricyclo_[3.5.5]_cyclopropa[cd]pentalene  \\\n",
       "0                                                  0         \n",
       "\n",
       "   ring:polycycle_tricyclo_[3.7.7]bullvalene  \\\n",
       "0                                          0   \n",
       "\n",
       "   ring:polycycle_tricyclo_[3.7.7]semibullvalene  \\\n",
       "0                                              0   \n",
       "\n",
       "   ring:polycycle_tricyclo_adamantane  ring:polycycle_tricyclo_benzvalene  \n",
       "0                                   0                                   0  \n",
       "\n",
       "[1 rows x 2291 columns]"
      ]
     },
     "execution_count": 22,
     "metadata": {},
     "output_type": "execute_result"
    }
   ],
   "source": [
    "padel = pd.read_csv('/home/dionizije/Documents/drug_attrition_oracle/data/processing_pipeline/descriptors/padel1560_descriptors.csv')\n",
    "toxprint = pd.read_csv('/home/dionizije/Documents/drug_attrition_oracle/data/processing_pipeline/descriptors/toxprint_descriptors.csv')\n",
    "padel = padel.loc[padel['chembl_id'] == 'CHEMBL1159']\n",
    "toxprint = toxprint.loc[toxprint['chembl_id'] == 'CHEMBL1159']\n",
    "descriptors = padel.merge(toxprint, how='inner', on='chembl_id', suffixes=[None, '_rightdf']) #important to be able to find the right descriptors\n",
    "descriptors "
   ]
  },
  {
   "cell_type": "markdown",
   "id": "3b6b1909-d050-4c57-b774-6501deb4db94",
   "metadata": {},
   "source": [
    "* It is important to remember that the input requires a specific subset of all alvaDesc descriptors. You can input all descriptors generate by alvaDesc and the DAO will automatically select the ones the model requires."
   ]
  },
  {
   "cell_type": "code",
   "execution_count": 26,
   "id": "40d138c4-60e1-4f07-aeb7-e40d03b7fa16",
   "metadata": {
    "tags": []
   },
   "outputs": [
    {
     "data": {
      "text/plain": [
       "'Approved'"
      ]
     },
     "execution_count": 26,
     "metadata": {},
     "output_type": "execute_result"
    }
   ],
   "source": [
    "dao_descriptors.predict_class(pinacidil, descriptors=descriptors)"
   ]
  },
  {
   "cell_type": "code",
   "execution_count": 27,
   "id": "c1017094-ed7c-4056-914f-6a211806b041",
   "metadata": {},
   "outputs": [
    {
     "data": {
      "text/plain": [
       "13.23"
      ]
     },
     "execution_count": 27,
     "metadata": {},
     "output_type": "execute_result"
    }
   ],
   "source": [
    "dao_descriptors.predict_probability(pinacidil, descriptors=descriptors)"
   ]
  },
  {
   "cell_type": "markdown",
   "id": "f2f4cac9-c82a-4c6f-a194-536364ea3eac",
   "metadata": {},
   "source": [
    "* Currently interpretation methods are available only for the model without descriptors due to the code of the GNN explainer"
   ]
  },
  {
   "cell_type": "code",
   "execution_count": 31,
   "id": "4c69e034-49eb-4d10-b151-ccc0d915a4c0",
   "metadata": {},
   "outputs": [
    {
     "data": {
      "image/svg+xml": [
       "<svg baseProfile=\"full\" height=\"200px\" version=\"1.1\" viewBox=\"0 0 400 200\" width=\"400px\" xml:space=\"preserve\" xmlns=\"http://www.w3.org/2000/svg\" xmlns:rdkit=\"http://www.rdkit.org/xml\" xmlns:xlink=\"http://www.w3.org/1999/xlink\">\n",
       "<!-- END OF HEADER -->\n",
       "<rect height=\"200\" style=\"opacity:1.0;fill:#FFFFFF;stroke:none\" width=\"400\" x=\"0\" y=\"0\"> </rect>\n",
       "<path class=\"bond-0\" d=\"M 36.6405,99.7457 L 56.7961,100.25\" style=\"fill:none;fill-rule:evenodd;stroke:#FF0000;stroke-width:2.0px;stroke-linecap:butt;stroke-linejoin:miter;stroke-opacity:1\"/>\n",
       "<path class=\"bond-0\" d=\"M 56.7961,100.25 L 76.9517,100.754\" style=\"fill:none;fill-rule:evenodd;stroke:#000000;stroke-width:2.0px;stroke-linecap:butt;stroke-linejoin:miter;stroke-opacity:1\"/>\n",
       "<path class=\"bond-0\" d=\"M 36.8791,90.2041 L 57.0347,90.7081\" style=\"fill:none;fill-rule:evenodd;stroke:#FF0000;stroke-width:2.0px;stroke-linecap:butt;stroke-linejoin:miter;stroke-opacity:1\"/>\n",
       "<path class=\"bond-0\" d=\"M 57.0347,90.7081 L 77.1904,91.2122\" style=\"fill:none;fill-rule:evenodd;stroke:#000000;stroke-width:2.0px;stroke-linecap:butt;stroke-linejoin:miter;stroke-opacity:1\"/>\n",
       "<path class=\"bond-1\" d=\"M 77.071,95.983 L 101.958,55.263\" style=\"fill:none;fill-rule:evenodd;stroke:#000000;stroke-width:2.0px;stroke-linecap:butt;stroke-linejoin:miter;stroke-opacity:1\"/>\n",
       "<path class=\"bond-20\" d=\"M 77.071,95.983 L 86.317,112.964\" style=\"fill:none;fill-rule:evenodd;stroke:#000000;stroke-width:2.0px;stroke-linecap:butt;stroke-linejoin:miter;stroke-opacity:1\"/>\n",
       "<path class=\"bond-20\" d=\"M 86.317,112.964 L 95.5629,129.946\" style=\"fill:none;fill-rule:evenodd;stroke:#0000FF;stroke-width:2.0px;stroke-linecap:butt;stroke-linejoin:miter;stroke-opacity:1\"/>\n",
       "<path class=\"bond-2\" d=\"M 101.958,55.263 L 149.667,56.4561\" style=\"fill:none;fill-rule:evenodd;stroke:#000000;stroke-width:2.0px;stroke-linecap:butt;stroke-linejoin:miter;stroke-opacity:1\"/>\n",
       "<path class=\"bond-3\" d=\"M 149.667,56.4561 L 172.488,98.3693\" style=\"fill:none;fill-rule:evenodd;stroke:#000000;stroke-width:2.0px;stroke-linecap:butt;stroke-linejoin:miter;stroke-opacity:1\"/>\n",
       "<path class=\"bond-4\" d=\"M 172.488,98.3693 L 193.183,98.8868\" style=\"fill:none;fill-rule:evenodd;stroke:#000000;stroke-width:2.0px;stroke-linecap:butt;stroke-linejoin:miter;stroke-opacity:1\"/>\n",
       "<path class=\"bond-4\" d=\"M 193.183,98.8868 L 213.877,99.4044\" style=\"fill:none;fill-rule:evenodd;stroke:#0000FF;stroke-width:2.0px;stroke-linecap:butt;stroke-linejoin:miter;stroke-opacity:1\"/>\n",
       "<path class=\"bond-15\" d=\"M 172.488,98.3693 L 147.6,139.089\" style=\"fill:none;fill-rule:evenodd;stroke:#000000;stroke-width:2.0px;stroke-linecap:butt;stroke-linejoin:miter;stroke-opacity:1\"/>\n",
       "<path class=\"bond-5\" d=\"M 225.674,107.513 L 236.474,123.187\" style=\"fill:none;fill-rule:evenodd;stroke:#0000FF;stroke-width:2.0px;stroke-linecap:butt;stroke-linejoin:miter;stroke-opacity:1\"/>\n",
       "<path class=\"bond-5\" d=\"M 236.474,123.187 L 247.273,138.861\" style=\"fill:none;fill-rule:evenodd;stroke:#000000;stroke-width:2.0px;stroke-linecap:butt;stroke-linejoin:miter;stroke-opacity:1\"/>\n",
       "<path class=\"bond-19\" d=\"M 226.282,91.6117 L 237.743,76.6393\" style=\"fill:none;fill-rule:evenodd;stroke:#0000FF;stroke-width:2.0px;stroke-linecap:butt;stroke-linejoin:miter;stroke-opacity:1\"/>\n",
       "<path class=\"bond-19\" d=\"M 237.743,76.6393 L 249.203,61.6669\" style=\"fill:none;fill-rule:evenodd;stroke:#000000;stroke-width:2.0px;stroke-linecap:butt;stroke-linejoin:miter;stroke-opacity:1\"/>\n",
       "<path class=\"bond-6\" d=\"M 242.772,137.273 L 236.25,155.762\" style=\"fill:none;fill-rule:evenodd;stroke:#000000;stroke-width:2.0px;stroke-linecap:butt;stroke-linejoin:miter;stroke-opacity:1\"/>\n",
       "<path class=\"bond-6\" d=\"M 236.25,155.762 L 229.727,174.25\" style=\"fill:none;fill-rule:evenodd;stroke:#FF0000;stroke-width:2.0px;stroke-linecap:butt;stroke-linejoin:miter;stroke-opacity:1\"/>\n",
       "<path class=\"bond-6\" d=\"M 251.773,140.448 L 245.251,158.937\" style=\"fill:none;fill-rule:evenodd;stroke:#000000;stroke-width:2.0px;stroke-linecap:butt;stroke-linejoin:miter;stroke-opacity:1\"/>\n",
       "<path class=\"bond-6\" d=\"M 245.251,158.937 L 238.728,177.426\" style=\"fill:none;fill-rule:evenodd;stroke:#FF0000;stroke-width:2.0px;stroke-linecap:butt;stroke-linejoin:miter;stroke-opacity:1\"/>\n",
       "<path class=\"bond-7\" d=\"M 247.273,138.861 L 293.015,125.253\" style=\"fill:none;fill-rule:evenodd;stroke:#000000;stroke-width:2.0px;stroke-linecap:butt;stroke-linejoin:miter;stroke-opacity:1\"/>\n",
       "<path class=\"bond-8\" d=\"M 293.015,125.253 L 333.735,150.14\" style=\"fill:none;fill-rule:evenodd;stroke:#000000;stroke-width:2.0px;stroke-linecap:butt;stroke-linejoin:miter;stroke-opacity:1\"/>\n",
       "<path class=\"bond-8\" d=\"M 304.1,120.842 L 332.604,138.263\" style=\"fill:none;fill-rule:evenodd;stroke:#000000;stroke-width:2.0px;stroke-linecap:butt;stroke-linejoin:miter;stroke-opacity:1\"/>\n",
       "<path class=\"bond-18\" d=\"M 293.015,125.253 L 294.208,77.5443\" style=\"fill:none;fill-rule:evenodd;stroke:#000000;stroke-width:2.0px;stroke-linecap:butt;stroke-linejoin:miter;stroke-opacity:1\"/>\n",
       "<path class=\"bond-9\" d=\"M 333.735,150.14 L 375.648,127.319\" style=\"fill:none;fill-rule:evenodd;stroke:#000000;stroke-width:2.0px;stroke-linecap:butt;stroke-linejoin:miter;stroke-opacity:1\"/>\n",
       "<path class=\"bond-10\" d=\"M 375.648,127.319 L 376.841,79.6108\" style=\"fill:none;fill-rule:evenodd;stroke:#000000;stroke-width:2.0px;stroke-linecap:butt;stroke-linejoin:miter;stroke-opacity:1\"/>\n",
       "<path class=\"bond-10\" d=\"M 366.285,119.924 L 367.121,86.5285\" style=\"fill:none;fill-rule:evenodd;stroke:#000000;stroke-width:2.0px;stroke-linecap:butt;stroke-linejoin:miter;stroke-opacity:1\"/>\n",
       "<path class=\"bond-11\" d=\"M 376.841,79.6108 L 336.121,54.7234\" style=\"fill:none;fill-rule:evenodd;stroke:#000000;stroke-width:2.0px;stroke-linecap:butt;stroke-linejoin:miter;stroke-opacity:1\"/>\n",
       "<path class=\"bond-12\" d=\"M 336.121,54.7234 L 294.208,77.5443\" style=\"fill:none;fill-rule:evenodd;stroke:#000000;stroke-width:2.0px;stroke-linecap:butt;stroke-linejoin:miter;stroke-opacity:1\"/>\n",
       "<path class=\"bond-12\" d=\"M 334.398,66.5292 L 305.059,82.5038\" style=\"fill:none;fill-rule:evenodd;stroke:#000000;stroke-width:2.0px;stroke-linecap:butt;stroke-linejoin:miter;stroke-opacity:1\"/>\n",
       "<path class=\"bond-13\" d=\"M 294.208,77.5443 L 249.203,61.6669\" style=\"fill:none;fill-rule:evenodd;stroke:#000000;stroke-width:2.0px;stroke-linecap:butt;stroke-linejoin:miter;stroke-opacity:1\"/>\n",
       "<path class=\"bond-14\" d=\"M 253.778,60.3061 L 248.199,41.5536\" style=\"fill:none;fill-rule:evenodd;stroke:#000000;stroke-width:2.0px;stroke-linecap:butt;stroke-linejoin:miter;stroke-opacity:1\"/>\n",
       "<path class=\"bond-14\" d=\"M 248.199,41.5536 L 242.62,22.8011\" style=\"fill:none;fill-rule:evenodd;stroke:#FF0000;stroke-width:2.0px;stroke-linecap:butt;stroke-linejoin:miter;stroke-opacity:1\"/>\n",
       "<path class=\"bond-14\" d=\"M 244.629,63.0277 L 239.051,44.2752\" style=\"fill:none;fill-rule:evenodd;stroke:#000000;stroke-width:2.0px;stroke-linecap:butt;stroke-linejoin:miter;stroke-opacity:1\"/>\n",
       "<path class=\"bond-14\" d=\"M 239.051,44.2752 L 233.472,25.5227\" style=\"fill:none;fill-rule:evenodd;stroke:#FF0000;stroke-width:2.0px;stroke-linecap:butt;stroke-linejoin:miter;stroke-opacity:1\"/>\n",
       "<path class=\"bond-16\" d=\"M 143.409,141.371 L 152.634,158.314\" style=\"fill:none;fill-rule:evenodd;stroke:#000000;stroke-width:2.0px;stroke-linecap:butt;stroke-linejoin:miter;stroke-opacity:1\"/>\n",
       "<path class=\"bond-16\" d=\"M 152.634,158.314 L 161.859,175.258\" style=\"fill:none;fill-rule:evenodd;stroke:#FF0000;stroke-width:2.0px;stroke-linecap:butt;stroke-linejoin:miter;stroke-opacity:1\"/>\n",
       "<path class=\"bond-16\" d=\"M 151.792,136.807 L 161.017,153.75\" style=\"fill:none;fill-rule:evenodd;stroke:#000000;stroke-width:2.0px;stroke-linecap:butt;stroke-linejoin:miter;stroke-opacity:1\"/>\n",
       "<path class=\"bond-16\" d=\"M 161.017,153.75 L 170.242,170.693\" style=\"fill:none;fill-rule:evenodd;stroke:#FF0000;stroke-width:2.0px;stroke-linecap:butt;stroke-linejoin:miter;stroke-opacity:1\"/>\n",
       "<path class=\"bond-17\" d=\"M 147.6,139.089 L 126.905,138.572\" style=\"fill:none;fill-rule:evenodd;stroke:#000000;stroke-width:2.0px;stroke-linecap:butt;stroke-linejoin:miter;stroke-opacity:1\"/>\n",
       "<path class=\"bond-17\" d=\"M 126.905,138.572 L 106.21,138.054\" style=\"fill:none;fill-rule:evenodd;stroke:#0000FF;stroke-width:2.0px;stroke-linecap:butt;stroke-linejoin:miter;stroke-opacity:1\"/>\n",
       "<path class=\"atom-0\" d=\"M 23.1587 94.8281 Q 23.1587 91.5829, 24.7622 89.7694 Q 26.3657 87.9559, 29.3627 87.9559 Q 32.3597 87.9559, 33.9632 89.7694 Q 35.5667 91.5829, 35.5667 94.8281 Q 35.5667 98.1114, 33.9442 99.9822 Q 32.3216 101.834, 29.3627 101.834 Q 26.3848 101.834, 24.7622 99.9822 Q 23.1587 98.1305, 23.1587 94.8281 M 29.3627 100.307 Q 31.4244 100.307, 32.5316 98.9323 Q 33.6578 97.5388, 33.6578 94.8281 Q 33.6578 92.1747, 32.5316 90.8384 Q 31.4244 89.4831, 29.3627 89.4831 Q 27.3011 89.4831, 26.1748 90.8193 Q 25.0676 92.1556, 25.0676 94.8281 Q 25.0676 97.5579, 26.1748 98.9323 Q 27.3011 100.307, 29.3627 100.307 \" fill=\"#FF0000\"/>\n",
       "<path class=\"atom-5\" d=\"M 217.208 92.8048 L 221.637 99.9633 Q 222.076 100.67, 222.783 101.949 Q 223.489 103.228, 223.527 103.304 L 223.527 92.8048 L 225.321 92.8048 L 225.321 106.32 L 223.47 106.32 L 218.717 98.4934 Q 218.163 97.5771, 217.571 96.5272 Q 216.999 95.4773, 216.827 95.1528 L 216.827 106.32 L 215.07 106.32 L 215.07 92.8048 L 217.208 92.8048 \" fill=\"#0000FF\"/>\n",
       "<path class=\"atom-7\" d=\"M 225.192 183.903 Q 225.192 180.658, 226.795 178.845 Q 228.399 177.031, 231.396 177.031 Q 234.393 177.031, 235.996 178.845 Q 237.6 180.658, 237.6 183.903 Q 237.6 187.187, 235.977 189.057 Q 234.354 190.909, 231.396 190.909 Q 228.418 190.909, 226.795 189.057 Q 225.192 187.206, 225.192 183.903 M 231.396 189.382 Q 233.457 189.382, 234.564 188.008 Q 235.691 186.614, 235.691 183.903 Q 235.691 181.25, 234.564 179.914 Q 233.457 178.558, 231.396 178.558 Q 229.334 178.558, 228.208 179.895 Q 227.1 181.231, 227.1 183.903 Q 227.1 186.633, 228.208 188.008 Q 229.334 189.382, 231.396 189.382 \" fill=\"#FF0000\"/>\n",
       "<path class=\"atom-15\" d=\"M 229.391 15.9631 Q 229.391 12.7179, 230.995 10.9044 Q 232.599 9.09091, 235.596 9.09091 Q 238.593 9.09091, 240.196 10.9044 Q 241.8 12.7179, 241.8 15.9631 Q 241.8 19.2464, 240.177 21.1172 Q 238.554 22.9688, 235.596 22.9688 Q 232.618 22.9688, 230.995 21.1172 Q 229.391 19.2655, 229.391 15.9631 M 235.596 21.4417 Q 237.657 21.4417, 238.764 20.0673 Q 239.891 18.6737, 239.891 15.9631 Q 239.891 13.3096, 238.764 11.9734 Q 237.657 10.6181, 235.596 10.6181 Q 233.534 10.6181, 232.408 11.9543 Q 231.3 13.2906, 231.3 15.9631 Q 231.3 18.6928, 232.408 20.0673 Q 233.534 21.4417, 235.596 21.4417 \" fill=\"#FF0000\"/>\n",
       "<path class=\"atom-17\" d=\"M 164.217 181.041 Q 164.217 177.795, 165.821 175.982 Q 167.424 174.169, 170.421 174.169 Q 173.418 174.169, 175.022 175.982 Q 176.625 177.795, 176.625 181.041 Q 176.625 184.324, 175.003 186.195 Q 173.38 188.046, 170.421 188.046 Q 167.443 188.046, 165.821 186.195 Q 164.217 184.343, 164.217 181.041 M 170.421 186.519 Q 172.483 186.519, 173.59 185.145 Q 174.716 183.751, 174.716 181.041 Q 174.716 178.387, 173.59 177.051 Q 172.483 175.696, 170.421 175.696 Q 168.359 175.696, 167.233 177.032 Q 166.126 178.368, 166.126 181.041 Q 166.126 183.77, 167.233 185.145 Q 168.359 186.519, 170.421 186.519 \" fill=\"#FF0000\"/>\n",
       "<path class=\"atom-18\" d=\"M 82.6066 131.139 L 84.4391 131.139 L 84.4391 136.884 L 91.3495 136.884 L 91.3495 131.139 L 93.182 131.139 L 93.182 144.654 L 91.3495 144.654 L 91.3495 138.412 L 84.4391 138.412 L 84.4391 144.654 L 82.6066 144.654 L 82.6066 131.139 \" fill=\"#0000FF\"/>\n",
       "<path class=\"atom-18\" d=\"M 96.9044 131.139 L 101.333 138.297 Q 101.772 139.003, 102.479 140.282 Q 103.185 141.561, 103.223 141.638 L 103.223 131.139 L 105.017 131.139 L 105.017 144.654 L 103.166 144.654 L 98.4125 136.827 Q 97.8589 135.911, 97.2671 134.861 Q 96.6945 133.811, 96.5227 133.487 L 96.5227 144.654 L 94.7664 144.654 L 94.7664 131.139 L 96.9044 131.139 \" fill=\"#0000FF\"/>\n",
       "</svg>"
      ],
      "text/plain": [
       "<IPython.core.display.SVG object>"
      ]
     },
     "execution_count": 31,
     "metadata": {},
     "output_type": "execute_result"
    }
   ],
   "source": [
    "dao.draw_molecule(r\"O=C3CCC(N2C(=O)c1ccccc1C2=O)C(=O)N3\")"
   ]
  },
  {
   "cell_type": "code",
   "execution_count": 32,
   "id": "3595f10b-5236-47ef-90a2-968e44e1f6c3",
   "metadata": {},
   "outputs": [
    {
     "data": {
      "image/svg+xml": [
       "<svg baseProfile=\"full\" height=\"200px\" version=\"1.1\" viewBox=\"0 0 400 200\" width=\"400px\" xml:space=\"preserve\" xmlns=\"http://www.w3.org/2000/svg\" xmlns:rdkit=\"http://www.rdkit.org/xml\" xmlns:xlink=\"http://www.w3.org/1999/xlink\">\n",
       "<!-- END OF HEADER -->\n",
       "<rect height=\"200\" style=\"opacity:1.0;fill:#FFFFFF;stroke:none\" width=\"400\" x=\"0\" y=\"0\"> </rect>\n",
       "<path class=\"bond-0\" d=\"M 18.1818,45.6859 L 36.8119,37.5942\" style=\"fill:none;fill-rule:evenodd;stroke:#000000;stroke-width:2.0px;stroke-linecap:butt;stroke-linejoin:miter;stroke-opacity:1\"/>\n",
       "<path class=\"bond-1\" d=\"M 36.8119,37.5942 L 53.1346,49.6824\" style=\"fill:none;fill-rule:evenodd;stroke:#000000;stroke-width:2.0px;stroke-linecap:butt;stroke-linejoin:miter;stroke-opacity:1\"/>\n",
       "<path class=\"bond-2\" d=\"M 53.1346,49.6824 L 50.8272,69.8624\" style=\"fill:none;fill-rule:evenodd;stroke:#000000;stroke-width:2.0px;stroke-linecap:butt;stroke-linejoin:miter;stroke-opacity:1\"/>\n",
       "<path class=\"bond-3\" d=\"M 53.1346,49.6824 L 71.7647,41.5907\" style=\"fill:none;fill-rule:evenodd;stroke:#000000;stroke-width:2.0px;stroke-linecap:butt;stroke-linejoin:miter;stroke-opacity:1\"/>\n",
       "<path class=\"bond-4\" d=\"M 71.7647,41.5907 L 74.0721,21.4107\" style=\"fill:none;fill-rule:evenodd;stroke:#000000;stroke-width:2.0px;stroke-linecap:butt;stroke-linejoin:miter;stroke-opacity:1\"/>\n",
       "<path class=\"bond-61\" d=\"M 71.7647,41.5907 L 78.3519,46.469\" style=\"fill:none;fill-rule:evenodd;stroke:#000000;stroke-width:2.0px;stroke-linecap:butt;stroke-linejoin:miter;stroke-opacity:1\"/>\n",
       "<path class=\"bond-61\" d=\"M 78.3519,46.469 L 84.9391,51.3474\" style=\"fill:none;fill-rule:evenodd;stroke:#FF0000;stroke-width:2.0px;stroke-linecap:butt;stroke-linejoin:miter;stroke-opacity:1\"/>\n",
       "<path class=\"bond-5\" d=\"M 74.0721,21.4107 L 92.7022,13.3189\" style=\"fill:none;fill-rule:evenodd;stroke:#000000;stroke-width:2.0px;stroke-linecap:butt;stroke-linejoin:miter;stroke-opacity:1\"/>\n",
       "<path class=\"bond-60\" d=\"M 74.0721,21.4107 L 57.7494,9.32242\" style=\"fill:none;fill-rule:evenodd;stroke:#000000;stroke-width:2.0px;stroke-linecap:butt;stroke-linejoin:miter;stroke-opacity:1\"/>\n",
       "<path class=\"bond-6\" d=\"M 92.7022,13.3189 L 109.025,25.4072\" style=\"fill:none;fill-rule:evenodd;stroke:#000000;stroke-width:2.0px;stroke-linecap:butt;stroke-linejoin:miter;stroke-opacity:1\"/>\n",
       "<path class=\"bond-7\" d=\"M 109.025,25.4072 L 106.717,45.5872\" style=\"fill:none;fill-rule:evenodd;stroke:#000000;stroke-width:2.0px;stroke-linecap:butt;stroke-linejoin:miter;stroke-opacity:1\"/>\n",
       "<path class=\"bond-8\" d=\"M 106.717,45.5872 L 98.9766,48.9494\" style=\"fill:none;fill-rule:evenodd;stroke:#000000;stroke-width:2.0px;stroke-linecap:butt;stroke-linejoin:miter;stroke-opacity:1\"/>\n",
       "<path class=\"bond-8\" d=\"M 98.9766,48.9494 L 91.2356,52.3115\" style=\"fill:none;fill-rule:evenodd;stroke:#FF0000;stroke-width:2.0px;stroke-linecap:butt;stroke-linejoin:miter;stroke-opacity:1\"/>\n",
       "<path class=\"bond-9\" d=\"M 106.717,45.5872 L 104.41,65.7672\" style=\"fill:none;fill-rule:evenodd;stroke:#000000;stroke-width:2.0px;stroke-linecap:butt;stroke-linejoin:miter;stroke-opacity:1\"/>\n",
       "<path class=\"bond-62\" d=\"M 106.717,45.5872 L 114.458,42.225\" style=\"fill:none;fill-rule:evenodd;stroke:#000000;stroke-width:2.0px;stroke-linecap:butt;stroke-linejoin:miter;stroke-opacity:1\"/>\n",
       "<path class=\"bond-62\" d=\"M 114.458,42.225 L 122.199,38.8629\" style=\"fill:none;fill-rule:evenodd;stroke:#FF0000;stroke-width:2.0px;stroke-linecap:butt;stroke-linejoin:miter;stroke-opacity:1\"/>\n",
       "<path class=\"bond-10\" d=\"M 104.41,65.7672 L 120.733,77.8554\" style=\"fill:none;fill-rule:evenodd;stroke:#000000;stroke-width:2.0px;stroke-linecap:butt;stroke-linejoin:miter;stroke-opacity:1\"/>\n",
       "<path class=\"bond-11\" d=\"M 120.733,77.8554 L 139.363,69.7637\" style=\"fill:none;fill-rule:evenodd;stroke:#000000;stroke-width:2.0px;stroke-linecap:butt;stroke-linejoin:miter;stroke-opacity:1\"/>\n",
       "<path class=\"bond-63\" d=\"M 120.733,77.8554 L 120.324,86.2911\" style=\"fill:none;fill-rule:evenodd;stroke:#000000;stroke-width:2.0px;stroke-linecap:butt;stroke-linejoin:miter;stroke-opacity:1\"/>\n",
       "<path class=\"bond-63\" d=\"M 120.324,86.2911 L 119.916,94.7268\" style=\"fill:none;fill-rule:evenodd;stroke:#FF0000;stroke-width:2.0px;stroke-linecap:butt;stroke-linejoin:miter;stroke-opacity:1\"/>\n",
       "<path class=\"bond-12\" d=\"M 139.363,69.7637 L 141.67,49.5837\" style=\"fill:none;fill-rule:evenodd;stroke:#000000;stroke-width:2.0px;stroke-linecap:butt;stroke-linejoin:miter;stroke-opacity:1\"/>\n",
       "<path class=\"bond-13\" d=\"M 141.67,49.5837 L 135.083,44.7054\" style=\"fill:none;fill-rule:evenodd;stroke:#000000;stroke-width:2.0px;stroke-linecap:butt;stroke-linejoin:miter;stroke-opacity:1\"/>\n",
       "<path class=\"bond-13\" d=\"M 135.083,44.7054 L 128.496,39.827\" style=\"fill:none;fill-rule:evenodd;stroke:#FF0000;stroke-width:2.0px;stroke-linecap:butt;stroke-linejoin:miter;stroke-opacity:1\"/>\n",
       "<path class=\"bond-14\" d=\"M 141.67,49.5837 L 163.564,38.9814\" style=\"fill:none;fill-rule:evenodd;stroke:#000000;stroke-width:2.0px;stroke-linecap:butt;stroke-linejoin:miter;stroke-opacity:1\"/>\n",
       "<path class=\"bond-15\" d=\"M 163.564,38.9814 L 183.852,39.964\" style=\"fill:none;fill-rule:evenodd;stroke:#000000;stroke-width:2.0px;stroke-linecap:butt;stroke-linejoin:miter;stroke-opacity:1\"/>\n",
       "<path class=\"bond-16\" d=\"M 183.852,39.964 L 202.219,48.6356\" style=\"fill:none;fill-rule:evenodd;stroke:#000000;stroke-width:2.0px;stroke-linecap:butt;stroke-linejoin:miter;stroke-opacity:1\"/>\n",
       "<path class=\"bond-16\" d=\"M 184.873,44.9382 L 197.73,51.0083\" style=\"fill:none;fill-rule:evenodd;stroke:#000000;stroke-width:2.0px;stroke-linecap:butt;stroke-linejoin:miter;stroke-opacity:1\"/>\n",
       "<path class=\"bond-17\" d=\"M 202.219,48.6356 L 215.87,63.676\" style=\"fill:none;fill-rule:evenodd;stroke:#000000;stroke-width:2.0px;stroke-linecap:butt;stroke-linejoin:miter;stroke-opacity:1\"/>\n",
       "<path class=\"bond-59\" d=\"M 202.219,48.6356 L 214.307,32.3129\" style=\"fill:none;fill-rule:evenodd;stroke:#000000;stroke-width:2.0px;stroke-linecap:butt;stroke-linejoin:miter;stroke-opacity:1\"/>\n",
       "<path class=\"bond-18\" d=\"M 215.87,63.676 L 222.726,82.7954\" style=\"fill:none;fill-rule:evenodd;stroke:#000000;stroke-width:2.0px;stroke-linecap:butt;stroke-linejoin:miter;stroke-opacity:1\"/>\n",
       "<path class=\"bond-38\" d=\"M 215.87,63.676 L 223.003,59.3938\" style=\"fill:none;fill-rule:evenodd;stroke:#000000;stroke-width:2.0px;stroke-linecap:butt;stroke-linejoin:miter;stroke-opacity:1\"/>\n",
       "<path class=\"bond-38\" d=\"M 223.003,59.3938 L 230.136,55.1117\" style=\"fill:none;fill-rule:evenodd;stroke:#FF0000;stroke-width:2.0px;stroke-linecap:butt;stroke-linejoin:miter;stroke-opacity:1\"/>\n",
       "<path class=\"bond-19\" d=\"M 222.726,82.7954 L 221.743,103.083\" style=\"fill:none;fill-rule:evenodd;stroke:#000000;stroke-width:2.0px;stroke-linecap:butt;stroke-linejoin:miter;stroke-opacity:1\"/>\n",
       "<path class=\"bond-37\" d=\"M 222.726,82.7954 L 240.921,84.5557\" style=\"fill:none;fill-rule:evenodd;stroke:#000000;stroke-width:2.0px;stroke-linecap:butt;stroke-linejoin:miter;stroke-opacity:1\"/>\n",
       "<path class=\"bond-20\" d=\"M 221.743,103.083 L 213.072,121.45\" style=\"fill:none;fill-rule:evenodd;stroke:#000000;stroke-width:2.0px;stroke-linecap:butt;stroke-linejoin:miter;stroke-opacity:1\"/>\n",
       "<path class=\"bond-20\" d=\"M 216.769,104.104 L 210.699,116.961\" style=\"fill:none;fill-rule:evenodd;stroke:#000000;stroke-width:2.0px;stroke-linecap:butt;stroke-linejoin:miter;stroke-opacity:1\"/>\n",
       "<path class=\"bond-21\" d=\"M 213.072,121.45 L 198.031,135.101\" style=\"fill:none;fill-rule:evenodd;stroke:#000000;stroke-width:2.0px;stroke-linecap:butt;stroke-linejoin:miter;stroke-opacity:1\"/>\n",
       "<path class=\"bond-22\" d=\"M 198.031,135.101 L 178.912,141.957\" style=\"fill:none;fill-rule:evenodd;stroke:#000000;stroke-width:2.0px;stroke-linecap:butt;stroke-linejoin:miter;stroke-opacity:1\"/>\n",
       "<path class=\"bond-22\" d=\"M 193.792,132.306 L 180.409,137.105\" style=\"fill:none;fill-rule:evenodd;stroke:#000000;stroke-width:2.0px;stroke-linecap:butt;stroke-linejoin:miter;stroke-opacity:1\"/>\n",
       "<path class=\"bond-23\" d=\"M 178.912,141.957 L 184.247,161.556\" style=\"fill:none;fill-rule:evenodd;stroke:#000000;stroke-width:2.0px;stroke-linecap:butt;stroke-linejoin:miter;stroke-opacity:1\"/>\n",
       "<path class=\"bond-64\" d=\"M 178.912,141.957 L 158.624,140.975\" style=\"fill:none;fill-rule:evenodd;stroke:#000000;stroke-width:2.0px;stroke-linecap:butt;stroke-linejoin:miter;stroke-opacity:1\"/>\n",
       "<path class=\"bond-24\" d=\"M 184.247,161.556 L 177.325,166.089\" style=\"fill:none;fill-rule:evenodd;stroke:#000000;stroke-width:2.0px;stroke-linecap:butt;stroke-linejoin:miter;stroke-opacity:1\"/>\n",
       "<path class=\"bond-24\" d=\"M 177.325,166.089 L 170.404,170.623\" style=\"fill:none;fill-rule:evenodd;stroke:#FF0000;stroke-width:2.0px;stroke-linecap:butt;stroke-linejoin:miter;stroke-opacity:1\"/>\n",
       "<path class=\"bond-25\" d=\"M 164.108,170.157 L 157.764,165.061\" style=\"fill:none;fill-rule:evenodd;stroke:#FF0000;stroke-width:2.0px;stroke-linecap:butt;stroke-linejoin:miter;stroke-opacity:1\"/>\n",
       "<path class=\"bond-25\" d=\"M 157.764,165.061 L 151.42,159.966\" style=\"fill:none;fill-rule:evenodd;stroke:#000000;stroke-width:2.0px;stroke-linecap:butt;stroke-linejoin:miter;stroke-opacity:1\"/>\n",
       "<path class=\"bond-26\" d=\"M 151.42,159.966 L 158.624,140.975\" style=\"fill:none;fill-rule:evenodd;stroke:#000000;stroke-width:2.0px;stroke-linecap:butt;stroke-linejoin:miter;stroke-opacity:1\"/>\n",
       "<path class=\"bond-65\" d=\"M 151.42,159.966 L 132.585,167.567\" style=\"fill:none;fill-rule:evenodd;stroke:#000000;stroke-width:2.0px;stroke-linecap:butt;stroke-linejoin:miter;stroke-opacity:1\"/>\n",
       "<path class=\"bond-27\" d=\"M 158.624,140.975 L 140.257,132.303\" style=\"fill:none;fill-rule:evenodd;stroke:#000000;stroke-width:2.0px;stroke-linecap:butt;stroke-linejoin:miter;stroke-opacity:1\"/>\n",
       "<path class=\"bond-36\" d=\"M 158.624,140.975 L 150.781,144.14\" style=\"fill:none;fill-rule:evenodd;stroke:#000000;stroke-width:2.0px;stroke-linecap:butt;stroke-linejoin:miter;stroke-opacity:1\"/>\n",
       "<path class=\"bond-36\" d=\"M 150.781,144.14 L 142.937,147.305\" style=\"fill:none;fill-rule:evenodd;stroke:#FF0000;stroke-width:2.0px;stroke-linecap:butt;stroke-linejoin:miter;stroke-opacity:1\"/>\n",
       "<path class=\"bond-28\" d=\"M 140.257,132.303 L 119.419,134.943\" style=\"fill:none;fill-rule:evenodd;stroke:#000000;stroke-width:2.0px;stroke-linecap:butt;stroke-linejoin:miter;stroke-opacity:1\"/>\n",
       "<path class=\"bond-33\" d=\"M 140.257,132.303 L 126.606,117.263\" style=\"fill:none;fill-rule:evenodd;stroke:#000000;stroke-width:2.0px;stroke-linecap:butt;stroke-linejoin:miter;stroke-opacity:1\"/>\n",
       "<path class=\"bond-29\" d=\"M 119.419,134.943 L 116.584,155.056\" style=\"fill:none;fill-rule:evenodd;stroke:#000000;stroke-width:2.0px;stroke-linecap:butt;stroke-linejoin:miter;stroke-opacity:1\"/>\n",
       "<path class=\"bond-29\" d=\"M 123.016,138.527 L 121.032,152.606\" style=\"fill:none;fill-rule:evenodd;stroke:#000000;stroke-width:2.0px;stroke-linecap:butt;stroke-linejoin:miter;stroke-opacity:1\"/>\n",
       "<path class=\"bond-30\" d=\"M 116.584,155.056 L 132.585,167.567\" style=\"fill:none;fill-rule:evenodd;stroke:#000000;stroke-width:2.0px;stroke-linecap:butt;stroke-linejoin:miter;stroke-opacity:1\"/>\n",
       "<path class=\"bond-32\" d=\"M 116.584,155.056 L 97.7487,162.657\" style=\"fill:none;fill-rule:evenodd;stroke:#000000;stroke-width:2.0px;stroke-linecap:butt;stroke-linejoin:miter;stroke-opacity:1\"/>\n",
       "<path class=\"bond-31\" d=\"M 132.585,167.567 L 131.408,175.915\" style=\"fill:none;fill-rule:evenodd;stroke:#000000;stroke-width:2.0px;stroke-linecap:butt;stroke-linejoin:miter;stroke-opacity:1\"/>\n",
       "<path class=\"bond-31\" d=\"M 131.408,175.915 L 130.232,184.263\" style=\"fill:none;fill-rule:evenodd;stroke:#FF0000;stroke-width:2.0px;stroke-linecap:butt;stroke-linejoin:miter;stroke-opacity:1\"/>\n",
       "<path class=\"bond-34\" d=\"M 125.561,115.521 L 118.428,119.803\" style=\"fill:none;fill-rule:evenodd;stroke:#000000;stroke-width:2.0px;stroke-linecap:butt;stroke-linejoin:miter;stroke-opacity:1\"/>\n",
       "<path class=\"bond-34\" d=\"M 118.428,119.803 L 111.294,124.085\" style=\"fill:none;fill-rule:evenodd;stroke:#FF0000;stroke-width:2.0px;stroke-linecap:butt;stroke-linejoin:miter;stroke-opacity:1\"/>\n",
       "<path class=\"bond-34\" d=\"M 127.652,119.004 L 120.518,123.286\" style=\"fill:none;fill-rule:evenodd;stroke:#000000;stroke-width:2.0px;stroke-linecap:butt;stroke-linejoin:miter;stroke-opacity:1\"/>\n",
       "<path class=\"bond-34\" d=\"M 120.518,123.286 L 113.385,127.568\" style=\"fill:none;fill-rule:evenodd;stroke:#FF0000;stroke-width:2.0px;stroke-linecap:butt;stroke-linejoin:miter;stroke-opacity:1\"/>\n",
       "<path class=\"bond-35\" d=\"M 126.606,117.263 L 123.807,109.456\" style=\"fill:none;fill-rule:evenodd;stroke:#000000;stroke-width:2.0px;stroke-linecap:butt;stroke-linejoin:miter;stroke-opacity:1\"/>\n",
       "<path class=\"bond-35\" d=\"M 123.807,109.456 L 121.007,101.649\" style=\"fill:none;fill-rule:evenodd;stroke:#FF0000;stroke-width:2.0px;stroke-linecap:butt;stroke-linejoin:miter;stroke-opacity:1\"/>\n",
       "<path class=\"bond-39\" d=\"M 236.433,54.9685 L 243.739,59.0223\" style=\"fill:none;fill-rule:evenodd;stroke:#FF0000;stroke-width:2.0px;stroke-linecap:butt;stroke-linejoin:miter;stroke-opacity:1\"/>\n",
       "<path class=\"bond-39\" d=\"M 243.739,59.0223 L 251.045,63.076\" style=\"fill:none;fill-rule:evenodd;stroke:#000000;stroke-width:2.0px;stroke-linecap:butt;stroke-linejoin:miter;stroke-opacity:1\"/>\n",
       "<path class=\"bond-40\" d=\"M 251.045,63.076 L 251.392,83.3846\" style=\"fill:none;fill-rule:evenodd;stroke:#000000;stroke-width:2.0px;stroke-linecap:butt;stroke-linejoin:miter;stroke-opacity:1\"/>\n",
       "<path class=\"bond-66\" d=\"M 251.045,63.076 L 258.178,58.7939\" style=\"fill:none;fill-rule:evenodd;stroke:#000000;stroke-width:2.0px;stroke-linecap:butt;stroke-linejoin:miter;stroke-opacity:1\"/>\n",
       "<path class=\"bond-66\" d=\"M 258.178,58.7939 L 265.312,54.5118\" style=\"fill:none;fill-rule:evenodd;stroke:#FF0000;stroke-width:2.0px;stroke-linecap:butt;stroke-linejoin:miter;stroke-opacity:1\"/>\n",
       "<path class=\"bond-41\" d=\"M 251.392,83.3846 L 269.153,93.2389\" style=\"fill:none;fill-rule:evenodd;stroke:#000000;stroke-width:2.0px;stroke-linecap:butt;stroke-linejoin:miter;stroke-opacity:1\"/>\n",
       "<path class=\"bond-42\" d=\"M 269.153,93.2389 L 286.567,82.7846\" style=\"fill:none;fill-rule:evenodd;stroke:#000000;stroke-width:2.0px;stroke-linecap:butt;stroke-linejoin:miter;stroke-opacity:1\"/>\n",
       "<path class=\"bond-57\" d=\"M 269.153,93.2389 L 269.297,101.685\" style=\"fill:none;fill-rule:evenodd;stroke:#000000;stroke-width:2.0px;stroke-linecap:butt;stroke-linejoin:miter;stroke-opacity:1\"/>\n",
       "<path class=\"bond-57\" d=\"M 269.297,101.685 L 269.441,110.131\" style=\"fill:none;fill-rule:evenodd;stroke:#FF0000;stroke-width:2.0px;stroke-linecap:butt;stroke-linejoin:miter;stroke-opacity:1\"/>\n",
       "<path class=\"bond-43\" d=\"M 286.567,82.7846 L 286.221,62.4761\" style=\"fill:none;fill-rule:evenodd;stroke:#000000;stroke-width:2.0px;stroke-linecap:butt;stroke-linejoin:miter;stroke-opacity:1\"/>\n",
       "<path class=\"bond-46\" d=\"M 286.567,82.7846 L 293.873,86.8384\" style=\"fill:none;fill-rule:evenodd;stroke:#000000;stroke-width:2.0px;stroke-linecap:butt;stroke-linejoin:miter;stroke-opacity:1\"/>\n",
       "<path class=\"bond-46\" d=\"M 293.873,86.8384 L 301.18,90.8922\" style=\"fill:none;fill-rule:evenodd;stroke:#FF0000;stroke-width:2.0px;stroke-linecap:butt;stroke-linejoin:miter;stroke-opacity:1\"/>\n",
       "<path class=\"bond-44\" d=\"M 286.221,62.4761 L 278.914,58.4223\" style=\"fill:none;fill-rule:evenodd;stroke:#000000;stroke-width:2.0px;stroke-linecap:butt;stroke-linejoin:miter;stroke-opacity:1\"/>\n",
       "<path class=\"bond-44\" d=\"M 278.914,58.4223 L 271.608,54.3686\" style=\"fill:none;fill-rule:evenodd;stroke:#FF0000;stroke-width:2.0px;stroke-linecap:butt;stroke-linejoin:miter;stroke-opacity:1\"/>\n",
       "<path class=\"bond-45\" d=\"M 286.221,62.4761 L 303.635,52.0219\" style=\"fill:none;fill-rule:evenodd;stroke:#000000;stroke-width:2.0px;stroke-linecap:butt;stroke-linejoin:miter;stroke-opacity:1\"/>\n",
       "<path class=\"bond-47\" d=\"M 307.476,90.749 L 314.609,86.4668\" style=\"fill:none;fill-rule:evenodd;stroke:#FF0000;stroke-width:2.0px;stroke-linecap:butt;stroke-linejoin:miter;stroke-opacity:1\"/>\n",
       "<path class=\"bond-47\" d=\"M 314.609,86.4668 L 321.743,82.1847\" style=\"fill:none;fill-rule:evenodd;stroke:#000000;stroke-width:2.0px;stroke-linecap:butt;stroke-linejoin:miter;stroke-opacity:1\"/>\n",
       "<path class=\"bond-48\" d=\"M 321.743,82.1847 L 339.503,92.039\" style=\"fill:none;fill-rule:evenodd;stroke:#000000;stroke-width:2.0px;stroke-linecap:butt;stroke-linejoin:miter;stroke-opacity:1\"/>\n",
       "<path class=\"bond-67\" d=\"M 321.743,82.1847 L 321.599,73.7833\" style=\"fill:none;fill-rule:evenodd;stroke:#000000;stroke-width:2.0px;stroke-linecap:butt;stroke-linejoin:miter;stroke-opacity:1\"/>\n",
       "<path class=\"bond-67\" d=\"M 321.599,73.7833 L 321.456,65.382\" style=\"fill:none;fill-rule:evenodd;stroke:#FF0000;stroke-width:2.0px;stroke-linecap:butt;stroke-linejoin:miter;stroke-opacity:1\"/>\n",
       "<path class=\"bond-49\" d=\"M 339.503,92.039 L 356.918,81.5848\" style=\"fill:none;fill-rule:evenodd;stroke:#000000;stroke-width:2.0px;stroke-linecap:butt;stroke-linejoin:miter;stroke-opacity:1\"/>\n",
       "<path class=\"bond-50\" d=\"M 356.918,81.5848 L 356.572,61.2763\" style=\"fill:none;fill-rule:evenodd;stroke:#000000;stroke-width:2.0px;stroke-linecap:butt;stroke-linejoin:miter;stroke-opacity:1\"/>\n",
       "<path class=\"bond-55\" d=\"M 356.918,81.5848 L 364.224,85.6386\" style=\"fill:none;fill-rule:evenodd;stroke:#000000;stroke-width:2.0px;stroke-linecap:butt;stroke-linejoin:miter;stroke-opacity:1\"/>\n",
       "<path class=\"bond-55\" d=\"M 364.224,85.6386 L 371.531,89.6923\" style=\"fill:none;fill-rule:evenodd;stroke:#FF0000;stroke-width:2.0px;stroke-linecap:butt;stroke-linejoin:miter;stroke-opacity:1\"/>\n",
       "<path class=\"bond-51\" d=\"M 356.572,61.2763 L 338.811,51.422\" style=\"fill:none;fill-rule:evenodd;stroke:#000000;stroke-width:2.0px;stroke-linecap:butt;stroke-linejoin:miter;stroke-opacity:1\"/>\n",
       "<path class=\"bond-54\" d=\"M 356.572,61.2763 L 363.705,56.9941\" style=\"fill:none;fill-rule:evenodd;stroke:#000000;stroke-width:2.0px;stroke-linecap:butt;stroke-linejoin:miter;stroke-opacity:1\"/>\n",
       "<path class=\"bond-54\" d=\"M 363.705,56.9941 L 370.838,52.712\" style=\"fill:none;fill-rule:evenodd;stroke:#FF0000;stroke-width:2.0px;stroke-linecap:butt;stroke-linejoin:miter;stroke-opacity:1\"/>\n",
       "<path class=\"bond-52\" d=\"M 338.811,51.422 L 331.678,55.7041\" style=\"fill:none;fill-rule:evenodd;stroke:#000000;stroke-width:2.0px;stroke-linecap:butt;stroke-linejoin:miter;stroke-opacity:1\"/>\n",
       "<path class=\"bond-52\" d=\"M 331.678,55.7041 L 324.544,59.9862\" style=\"fill:none;fill-rule:evenodd;stroke:#FF0000;stroke-width:2.0px;stroke-linecap:butt;stroke-linejoin:miter;stroke-opacity:1\"/>\n",
       "<path class=\"bond-53\" d=\"M 338.811,51.422 L 338.464,31.1134\" style=\"fill:none;fill-rule:evenodd;stroke:#000000;stroke-width:2.0px;stroke-linecap:butt;stroke-linejoin:miter;stroke-opacity:1\"/>\n",
       "<path class=\"bond-56\" d=\"M 374.739,94.9449 L 374.882,103.346\" style=\"fill:none;fill-rule:evenodd;stroke:#FF0000;stroke-width:2.0px;stroke-linecap:butt;stroke-linejoin:miter;stroke-opacity:1\"/>\n",
       "<path class=\"bond-56\" d=\"M 374.882,103.346 L 375.025,111.748\" style=\"fill:none;fill-rule:evenodd;stroke:#000000;stroke-width:2.0px;stroke-linecap:butt;stroke-linejoin:miter;stroke-opacity:1\"/>\n",
       "<path class=\"bond-58\" d=\"M 272.647,115.294 L 279.954,119.348\" style=\"fill:none;fill-rule:evenodd;stroke:#FF0000;stroke-width:2.0px;stroke-linecap:butt;stroke-linejoin:miter;stroke-opacity:1\"/>\n",
       "<path class=\"bond-58\" d=\"M 279.954,119.348 L 287.26,123.402\" style=\"fill:none;fill-rule:evenodd;stroke:#000000;stroke-width:2.0px;stroke-linecap:butt;stroke-linejoin:miter;stroke-opacity:1\"/>\n",
       "<path class=\"atom-9\" d=\"M 85.4469 53.6952 Q 85.4469 52.314, 86.1293 51.5422 Q 86.8118 50.7703, 88.0874 50.7703 Q 89.3629 50.7703, 90.0454 51.5422 Q 90.7279 52.314, 90.7279 53.6952 Q 90.7279 55.0926, 90.0373 55.8888 Q 89.3467 56.6769, 88.0874 56.6769 Q 86.8199 56.6769, 86.1293 55.8888 Q 85.4469 55.1007, 85.4469 53.6952 M 88.0874 56.0269 Q 88.9648 56.0269, 89.4361 55.442 Q 89.9154 54.8489, 89.9154 53.6952 Q 89.9154 52.5659, 89.4361 51.9971 Q 88.9648 51.4203, 88.0874 51.4203 Q 87.2099 51.4203, 86.7306 51.989 Q 86.2593 52.5577, 86.2593 53.6952 Q 86.2593 54.857, 86.7306 55.442 Q 87.2099 56.0269, 88.0874 56.0269 \" fill=\"#FF0000\"/>\n",
       "<path class=\"atom-14\" d=\"M 122.707 37.5117 Q 122.707 36.1305, 123.39 35.3587 Q 124.072 34.5869, 125.348 34.5869 Q 126.623 34.5869, 127.306 35.3587 Q 127.988 36.1305, 127.988 37.5117 Q 127.988 38.9091, 127.297 39.7053 Q 126.607 40.4934, 125.348 40.4934 Q 124.08 40.4934, 123.39 39.7053 Q 122.707 38.9173, 122.707 37.5117 M 125.348 39.8435 Q 126.225 39.8435, 126.696 39.2585 Q 127.176 38.6654, 127.176 37.5117 Q 127.176 36.3824, 126.696 35.8137 Q 126.225 35.2368, 125.348 35.2368 Q 124.47 35.2368, 123.991 35.8055 Q 123.52 36.3743, 123.52 37.5117 Q 123.52 38.6735, 123.991 39.2585 Q 124.47 39.8435, 125.348 39.8435 \" fill=\"#FF0000\"/>\n",
       "<path class=\"atom-25\" d=\"M 164.615 172.702 Q 164.615 171.32, 165.298 170.549 Q 165.98 169.777, 167.256 169.777 Q 168.532 169.777, 169.214 170.549 Q 169.896 171.32, 169.896 172.702 Q 169.896 174.099, 169.206 174.895 Q 168.515 175.683, 167.256 175.683 Q 165.989 175.683, 165.298 174.895 Q 164.615 174.107, 164.615 172.702 M 167.256 175.033 Q 168.133 175.033, 168.605 174.448 Q 169.084 173.855, 169.084 172.702 Q 169.084 171.572, 168.605 171.004 Q 168.133 170.427, 167.256 170.427 Q 166.379 170.427, 165.899 170.995 Q 165.428 171.564, 165.428 172.702 Q 165.428 173.863, 165.899 174.448 Q 166.379 175.033, 167.256 175.033 \" fill=\"#FF0000\"/>\n",
       "<path class=\"atom-32\" d=\"M 127.11 187.696 Q 127.11 186.315, 127.792 185.543 Q 128.475 184.771, 129.75 184.771 Q 131.026 184.771, 131.708 185.543 Q 132.391 186.315, 132.391 187.696 Q 132.391 189.093, 131.7 189.889 Q 131.009 190.678, 129.75 190.678 Q 128.483 190.678, 127.792 189.889 Q 127.11 189.101, 127.11 187.696 M 129.75 190.028 Q 130.628 190.028, 131.099 189.443 Q 131.578 188.85, 131.578 187.696 Q 131.578 186.567, 131.099 185.998 Q 130.628 185.421, 129.75 185.421 Q 128.873 185.421, 128.393 185.99 Q 127.922 186.558, 127.922 187.696 Q 127.922 188.858, 128.393 189.443 Q 128.873 190.028, 129.75 190.028 \" fill=\"#FF0000\"/>\n",
       "<path class=\"atom-32\" d=\"M 133.081 184.836 L 133.861 184.836 L 133.861 187.281 L 136.802 187.281 L 136.802 184.836 L 137.582 184.836 L 137.582 190.588 L 136.802 190.588 L 136.802 187.931 L 133.861 187.931 L 133.861 190.588 L 133.081 190.588 L 133.081 184.836 \" fill=\"#FF0000\"/>\n",
       "<path class=\"atom-35\" d=\"M 106.551 127.733 Q 106.551 126.352, 107.234 125.58 Q 107.916 124.808, 109.192 124.808 Q 110.467 124.808, 111.15 125.58 Q 111.832 126.352, 111.832 127.733 Q 111.832 129.13, 111.141 129.927 Q 110.451 130.715, 109.192 130.715 Q 107.924 130.715, 107.234 129.927 Q 106.551 129.139, 106.551 127.733 M 109.192 130.065 Q 110.069 130.065, 110.54 129.48 Q 111.02 128.887, 111.02 127.733 Q 111.02 126.604, 110.54 126.035 Q 110.069 125.458, 109.192 125.458 Q 108.314 125.458, 107.835 126.027 Q 107.364 126.596, 107.364 127.733 Q 107.364 128.895, 107.835 129.48 Q 108.314 130.065, 109.192 130.065 \" fill=\"#FF0000\"/>\n",
       "<path class=\"atom-36\" d=\"M 117.11 98.1594 Q 117.11 96.7782, 117.792 96.0064 Q 118.475 95.2345, 119.75 95.2345 Q 121.026 95.2345, 121.708 96.0064 Q 122.391 96.7782, 122.391 98.1594 Q 122.391 99.5568, 121.7 100.353 Q 121.009 101.141, 119.75 101.141 Q 118.483 101.141, 117.792 100.353 Q 117.11 99.5649, 117.11 98.1594 M 119.75 100.491 Q 120.628 100.491, 121.099 99.9062 Q 121.578 99.3131, 121.578 98.1594 Q 121.578 97.0301, 121.099 96.4614 Q 120.628 95.8845, 119.75 95.8845 Q 118.873 95.8845, 118.393 96.4532 Q 117.922 97.022, 117.922 98.1594 Q 117.922 99.3212, 118.393 99.9062 Q 118.873 100.491, 119.75 100.491 \" fill=\"#FF0000\"/>\n",
       "<path class=\"atom-37\" d=\"M 132.241 145.732 L 133.021 145.732 L 133.021 148.178 L 135.962 148.178 L 135.962 145.732 L 136.742 145.732 L 136.742 151.484 L 135.962 151.484 L 135.962 148.828 L 133.021 148.828 L 133.021 151.484 L 132.241 151.484 L 132.241 145.732 \" fill=\"#FF0000\"/>\n",
       "<path class=\"atom-37\" d=\"M 137.148 148.592 Q 137.148 147.211, 137.831 146.439 Q 138.513 145.667, 139.789 145.667 Q 141.064 145.667, 141.747 146.439 Q 142.429 147.211, 142.429 148.592 Q 142.429 149.989, 141.739 150.786 Q 141.048 151.574, 139.789 151.574 Q 138.521 151.574, 137.831 150.786 Q 137.148 149.998, 137.148 148.592 M 139.789 150.924 Q 140.666 150.924, 141.137 150.339 Q 141.617 149.746, 141.617 148.592 Q 141.617 147.463, 141.137 146.894 Q 140.666 146.317, 139.789 146.317 Q 138.911 146.317, 138.432 146.886 Q 137.961 147.455, 137.961 148.592 Q 137.961 149.754, 138.432 150.339 Q 138.911 150.924, 139.789 150.924 \" fill=\"#FF0000\"/>\n",
       "<path class=\"atom-39\" d=\"M 230.644 53.238 Q 230.644 51.8568, 231.326 51.085 Q 232.009 50.3131, 233.284 50.3131 Q 234.56 50.3131, 235.242 51.085 Q 235.925 51.8568, 235.925 53.238 Q 235.925 54.6354, 235.234 55.4316 Q 234.544 56.2197, 233.284 56.2197 Q 232.017 56.2197, 231.326 55.4316 Q 230.644 54.6435, 230.644 53.238 M 233.284 55.5697 Q 234.162 55.5697, 234.633 54.9848 Q 235.113 54.3917, 235.113 53.238 Q 235.113 52.1087, 234.633 51.5399 Q 234.162 50.9631, 233.284 50.9631 Q 232.407 50.9631, 231.928 51.5318 Q 231.456 52.1005, 231.456 53.238 Q 231.456 54.3998, 231.928 54.9848 Q 232.407 55.5697, 233.284 55.5697 \" fill=\"#FF0000\"/>\n",
       "<path class=\"atom-45\" d=\"M 265.819 52.6381 Q 265.819 51.2569, 266.502 50.485 Q 267.184 49.7132, 268.46 49.7132 Q 269.735 49.7132, 270.418 50.485 Q 271.1 51.2569, 271.1 52.6381 Q 271.1 54.0355, 270.41 54.8317 Q 269.719 55.6198, 268.46 55.6198 Q 267.192 55.6198, 266.502 54.8317 Q 265.819 54.0436, 265.819 52.6381 M 268.46 54.9698 Q 269.337 54.9698, 269.809 54.3849 Q 270.288 53.7918, 270.288 52.6381 Q 270.288 51.5087, 269.809 50.94 Q 269.337 50.3632, 268.46 50.3632 Q 267.582 50.3632, 267.103 50.9319 Q 266.632 51.5006, 266.632 52.6381 Q 266.632 53.7999, 267.103 54.3849 Q 267.582 54.9698, 268.46 54.9698 \" fill=\"#FF0000\"/>\n",
       "<path class=\"atom-47\" d=\"M 301.688 92.6552 Q 301.688 91.274, 302.37 90.5022 Q 303.052 89.7303, 304.328 89.7303 Q 305.604 89.7303, 306.286 90.5022 Q 306.969 91.274, 306.969 92.6552 Q 306.969 94.0526, 306.278 94.8488 Q 305.587 95.6369, 304.328 95.6369 Q 303.061 95.6369, 302.37 94.8488 Q 301.688 94.0607, 301.688 92.6552 M 304.328 94.9869 Q 305.205 94.9869, 305.677 94.402 Q 306.156 93.8089, 306.156 92.6552 Q 306.156 91.5259, 305.677 90.9572 Q 305.205 90.3803, 304.328 90.3803 Q 303.451 90.3803, 302.971 90.949 Q 302.5 91.5177, 302.5 92.6552 Q 302.5 93.817, 302.971 94.402 Q 303.451 94.9869, 304.328 94.9869 \" fill=\"#FF0000\"/>\n",
       "<path class=\"atom-53\" d=\"M 318.756 61.8924 Q 318.756 60.5113, 319.438 59.7394 Q 320.121 58.9676, 321.396 58.9676 Q 322.672 58.9676, 323.354 59.7394 Q 324.037 60.5113, 324.037 61.8924 Q 324.037 63.2899, 323.346 64.0861 Q 322.655 64.8742, 321.396 64.8742 Q 320.129 64.8742, 319.438 64.0861 Q 318.756 63.298, 318.756 61.8924 M 321.396 64.2242 Q 322.274 64.2242, 322.745 63.6392 Q 323.224 63.0461, 323.224 61.8924 Q 323.224 60.7631, 322.745 60.1944 Q 322.274 59.6176, 321.396 59.6176 Q 320.519 59.6176, 320.039 60.1863 Q 319.568 60.755, 319.568 61.8924 Q 319.568 63.0543, 320.039 63.6392 Q 320.519 64.2242, 321.396 64.2242 \" fill=\"#FF0000\"/>\n",
       "<path class=\"atom-55\" d=\"M 371.346 50.8383 Q 371.346 49.4571, 372.028 48.6853 Q 372.711 47.9134, 373.986 47.9134 Q 375.262 47.9134, 375.944 48.6853 Q 376.627 49.4571, 376.627 50.8383 Q 376.627 52.2357, 375.936 53.0319 Q 375.245 53.82, 373.986 53.82 Q 372.719 53.82, 372.028 53.0319 Q 371.346 52.2438, 371.346 50.8383 M 373.986 53.17 Q 374.864 53.17, 375.335 52.5851 Q 375.814 51.992, 375.814 50.8383 Q 375.814 49.709, 375.335 49.1402 Q 374.864 48.5634, 373.986 48.5634 Q 373.109 48.5634, 372.629 49.1321 Q 372.158 49.7008, 372.158 50.8383 Q 372.158 52.0001, 372.629 52.5851 Q 373.109 53.17, 373.986 53.17 \" fill=\"#FF0000\"/>\n",
       "<path class=\"atom-55\" d=\"M 377.317 47.9784 L 378.097 47.9784 L 378.097 50.4239 L 381.038 50.4239 L 381.038 47.9784 L 381.818 47.9784 L 381.818 53.7306 L 381.038 53.7306 L 381.038 51.0739 L 378.097 51.0739 L 378.097 53.7306 L 377.317 53.7306 L 377.317 47.9784 \" fill=\"#FF0000\"/>\n",
       "<path class=\"atom-56\" d=\"M 372.038 91.4553 Q 372.038 90.0742, 372.721 89.3023 Q 373.403 88.5305, 374.679 88.5305 Q 375.954 88.5305, 376.637 89.3023 Q 377.319 90.0742, 377.319 91.4553 Q 377.319 92.8528, 376.629 93.649 Q 375.938 94.4371, 374.679 94.4371 Q 373.411 94.4371, 372.721 93.649 Q 372.038 92.8609, 372.038 91.4553 M 374.679 93.7871 Q 375.556 93.7871, 376.027 93.2021 Q 376.507 92.609, 376.507 91.4553 Q 376.507 90.326, 376.027 89.7573 Q 375.556 89.1805, 374.679 89.1805 Q 373.801 89.1805, 373.322 89.7492 Q 372.851 90.3179, 372.851 91.4553 Q 372.851 92.6172, 373.322 93.2021 Q 373.801 93.7871, 374.679 93.7871 \" fill=\"#FF0000\"/>\n",
       "<path class=\"atom-58\" d=\"M 266.858 113.564 Q 266.858 112.182, 267.541 111.411 Q 268.223 110.639, 269.499 110.639 Q 270.775 110.639, 271.457 111.411 Q 272.139 112.182, 272.139 113.564 Q 272.139 114.961, 271.449 115.757 Q 270.758 116.545, 269.499 116.545 Q 268.232 116.545, 267.541 115.757 Q 266.858 114.969, 266.858 113.564 M 269.499 115.895 Q 270.376 115.895, 270.848 115.31 Q 271.327 114.717, 271.327 113.564 Q 271.327 112.434, 270.848 111.866 Q 270.376 111.289, 269.499 111.289 Q 268.622 111.289, 268.142 111.857 Q 267.671 112.426, 267.671 113.564 Q 267.671 114.725, 268.142 115.31 Q 268.622 115.895, 269.499 115.895 \" fill=\"#FF0000\"/>\n",
       "</svg>"
      ],
      "text/plain": [
       "<IPython.core.display.SVG object>"
      ]
     },
     "execution_count": 32,
     "metadata": {},
     "output_type": "execute_result"
    }
   ],
   "source": [
    "dao.draw_molecule(\"CCC(C)C1C(CCC2(O1)CC3CC(O2)CC=C(C(C(C=CC=C4COC5C4(C(C=C(C5O)C)C(=O)O3)O)C)OC6CC(C(C(O6)C)OC7CC(C(C(O7)C)O)OC)OC)C)C\")"
   ]
  },
  {
   "cell_type": "code",
   "execution_count": 28,
   "id": "527d80cd-7dfb-4b97-95c9-e300417ba0fa",
   "metadata": {},
   "outputs": [
    {
     "data": {
      "image/svg+xml": [
       "<svg baseProfile=\"full\" height=\"200px\" version=\"1.1\" viewBox=\"0 0 400 200\" width=\"400px\" xml:space=\"preserve\" xmlns=\"http://www.w3.org/2000/svg\" xmlns:rdkit=\"http://www.rdkit.org/xml\" xmlns:xlink=\"http://www.w3.org/1999/xlink\">\n",
       "<!-- END OF HEADER -->\n",
       "<rect height=\"200\" style=\"opacity:1.0;fill:#FFFFFF;stroke:none\" width=\"400\" x=\"0\" y=\"0\"> </rect>\n",
       "<path class=\"bond-0\" d=\"M 18.1818,117.694 L 48.1302,103.173\" style=\"fill:none;fill-rule:evenodd;stroke:#000000;stroke-width:2.0px;stroke-linecap:butt;stroke-linejoin:miter;stroke-opacity:1\"/>\n",
       "<path class=\"bond-1\" d=\"M 48.1302,103.173 L 50.5285,69.9759\" style=\"fill:none;fill-rule:evenodd;stroke:#000000;stroke-width:2.0px;stroke-linecap:butt;stroke-linejoin:miter;stroke-opacity:1\"/>\n",
       "<path class=\"bond-2\" d=\"M 48.1302,103.173 L 75.6804,121.848\" style=\"fill:none;fill-rule:evenodd;stroke:#000000;stroke-width:2.0px;stroke-linecap:butt;stroke-linejoin:miter;stroke-opacity:1\"/>\n",
       "<path class=\"bond-3\" d=\"M 72.3607,121.608 L 71.3638,135.408\" style=\"fill:none;fill-rule:evenodd;stroke:#000000;stroke-width:2.0px;stroke-linecap:butt;stroke-linejoin:miter;stroke-opacity:1\"/>\n",
       "<path class=\"bond-3\" d=\"M 71.3638,135.408 L 70.367,149.207\" style=\"fill:none;fill-rule:evenodd;stroke:#FF0000;stroke-width:2.0px;stroke-linecap:butt;stroke-linejoin:miter;stroke-opacity:1\"/>\n",
       "<path class=\"bond-3\" d=\"M 79.0001,122.088 L 78.0032,135.887\" style=\"fill:none;fill-rule:evenodd;stroke:#000000;stroke-width:2.0px;stroke-linecap:butt;stroke-linejoin:miter;stroke-opacity:1\"/>\n",
       "<path class=\"bond-3\" d=\"M 78.0032,135.887 L 77.0063,149.687\" style=\"fill:none;fill-rule:evenodd;stroke:#FF0000;stroke-width:2.0px;stroke-linecap:butt;stroke-linejoin:miter;stroke-opacity:1\"/>\n",
       "<path class=\"bond-4\" d=\"M 75.6804,121.848 L 88.0752,115.838\" style=\"fill:none;fill-rule:evenodd;stroke:#000000;stroke-width:2.0px;stroke-linecap:butt;stroke-linejoin:miter;stroke-opacity:1\"/>\n",
       "<path class=\"bond-4\" d=\"M 88.0752,115.838 L 100.47,109.828\" style=\"fill:none;fill-rule:evenodd;stroke:#FF0000;stroke-width:2.0px;stroke-linecap:butt;stroke-linejoin:miter;stroke-opacity:1\"/>\n",
       "<path class=\"bond-5\" d=\"M 110.788,110.824 L 121.983,118.413\" style=\"fill:none;fill-rule:evenodd;stroke:#FF0000;stroke-width:2.0px;stroke-linecap:butt;stroke-linejoin:miter;stroke-opacity:1\"/>\n",
       "<path class=\"bond-5\" d=\"M 121.983,118.413 L 133.179,126.002\" style=\"fill:none;fill-rule:evenodd;stroke:#000000;stroke-width:2.0px;stroke-linecap:butt;stroke-linejoin:miter;stroke-opacity:1\"/>\n",
       "<path class=\"bond-6\" d=\"M 157.894,113.402 L 158.378,114.4\" style=\"fill:none;fill-rule:evenodd;stroke:#000000;stroke-width:1.0px;stroke-linecap:butt;stroke-linejoin:miter;stroke-opacity:1\"/>\n",
       "<path class=\"bond-6\" d=\"M 152.661,115.323 L 153.629,117.319\" style=\"fill:none;fill-rule:evenodd;stroke:#000000;stroke-width:1.0px;stroke-linecap:butt;stroke-linejoin:miter;stroke-opacity:1\"/>\n",
       "<path class=\"bond-6\" d=\"M 147.427,117.244 L 148.879,120.239\" style=\"fill:none;fill-rule:evenodd;stroke:#000000;stroke-width:1.0px;stroke-linecap:butt;stroke-linejoin:miter;stroke-opacity:1\"/>\n",
       "<path class=\"bond-6\" d=\"M 142.194,119.165 L 144.13,123.158\" style=\"fill:none;fill-rule:evenodd;stroke:#000000;stroke-width:1.0px;stroke-linecap:butt;stroke-linejoin:miter;stroke-opacity:1\"/>\n",
       "<path class=\"bond-6\" d=\"M 136.96,121.086 L 139.381,126.077\" style=\"fill:none;fill-rule:evenodd;stroke:#000000;stroke-width:1.0px;stroke-linecap:butt;stroke-linejoin:miter;stroke-opacity:1\"/>\n",
       "<path class=\"bond-6\" d=\"M 131.727,123.007 L 134.631,128.997\" style=\"fill:none;fill-rule:evenodd;stroke:#000000;stroke-width:1.0px;stroke-linecap:butt;stroke-linejoin:miter;stroke-opacity:1\"/>\n",
       "<path class=\"bond-7\" d=\"M 163.127,111.48 L 175.224,117.948\" style=\"fill:none;fill-rule:evenodd;stroke:#000000;stroke-width:2.0px;stroke-linecap:butt;stroke-linejoin:miter;stroke-opacity:1\"/>\n",
       "<path class=\"bond-7\" d=\"M 175.224,117.948 L 187.32,124.415\" style=\"fill:none;fill-rule:evenodd;stroke:#FF0000;stroke-width:2.0px;stroke-linecap:butt;stroke-linejoin:miter;stroke-opacity:1\"/>\n",
       "<path class=\"bond-22\" d=\"M 163.127,111.48 L 168.983,78.7162\" style=\"fill:none;fill-rule:evenodd;stroke:#000000;stroke-width:2.0px;stroke-linecap:butt;stroke-linejoin:miter;stroke-opacity:1\"/>\n",
       "<path class=\"bond-8\" d=\"M 197.638,122.215 L 207.056,113.162\" style=\"fill:none;fill-rule:evenodd;stroke:#FF0000;stroke-width:2.0px;stroke-linecap:butt;stroke-linejoin:miter;stroke-opacity:1\"/>\n",
       "<path class=\"bond-8\" d=\"M 207.056,113.162 L 216.474,104.108\" style=\"fill:none;fill-rule:evenodd;stroke:#000000;stroke-width:2.0px;stroke-linecap:butt;stroke-linejoin:miter;stroke-opacity:1\"/>\n",
       "<path class=\"bond-9\" d=\"M 216.474,104.108 L 201.953,74.16\" style=\"fill:none;fill-rule:evenodd;stroke:#000000;stroke-width:2.0px;stroke-linecap:butt;stroke-linejoin:miter;stroke-opacity:1\"/>\n",
       "<path class=\"bond-13\" d=\"M 222.029,105.777 L 222.263,104.467\" style=\"fill:none;fill-rule:evenodd;stroke:#000000;stroke-width:1.0px;stroke-linecap:butt;stroke-linejoin:miter;stroke-opacity:1\"/>\n",
       "<path class=\"bond-13\" d=\"M 227.583,107.446 L 228.051,104.825\" style=\"fill:none;fill-rule:evenodd;stroke:#000000;stroke-width:1.0px;stroke-linecap:butt;stroke-linejoin:miter;stroke-opacity:1\"/>\n",
       "<path class=\"bond-13\" d=\"M 233.137,109.115 L 233.84,105.183\" style=\"fill:none;fill-rule:evenodd;stroke:#0000FF;stroke-width:1.0px;stroke-linecap:butt;stroke-linejoin:miter;stroke-opacity:1\"/>\n",
       "<path class=\"bond-13\" d=\"M 238.692,110.784 L 239.629,105.541\" style=\"fill:none;fill-rule:evenodd;stroke:#0000FF;stroke-width:1.0px;stroke-linecap:butt;stroke-linejoin:miter;stroke-opacity:1\"/>\n",
       "<path class=\"bond-13\" d=\"M 244.246,112.452 L 245.417,105.9\" style=\"fill:none;fill-rule:evenodd;stroke:#0000FF;stroke-width:1.0px;stroke-linecap:butt;stroke-linejoin:miter;stroke-opacity:1\"/>\n",
       "<path class=\"bond-10\" d=\"M 201.953,74.16 L 209.731,63.1413 L 206.796,61.572 Z\" style=\"fill:#000000;fill-rule:evenodd;fill-opacity:1;stroke:#000000;stroke-width:2px;stroke-linecap:butt;stroke-linejoin:miter;stroke-opacity:1;\"/>\n",
       "<path class=\"bond-10\" d=\"M 209.731,63.1413 L 211.639,48.984 L 217.509,52.1226 Z\" style=\"fill:#FF0000;fill-rule:evenodd;fill-opacity:1;stroke:#FF0000;stroke-width:2px;stroke-linecap:butt;stroke-linejoin:miter;stroke-opacity:1;\"/>\n",
       "<path class=\"bond-10\" d=\"M 209.731,63.1413 L 206.796,61.572 L 211.639,48.984 Z\" style=\"fill:#FF0000;fill-rule:evenodd;fill-opacity:1;stroke:#FF0000;stroke-width:2px;stroke-linecap:butt;stroke-linejoin:miter;stroke-opacity:1;\"/>\n",
       "<path class=\"bond-11\" d=\"M 201.953,74.16 L 168.983,78.7162\" style=\"fill:none;fill-rule:evenodd;stroke:#000000;stroke-width:2.0px;stroke-linecap:butt;stroke-linejoin:miter;stroke-opacity:1\"/>\n",
       "<path class=\"bond-12\" d=\"M 168.983,78.7162 L 161.229,68.2487 L 158.83,70.5553 Z\" style=\"fill:#000000;fill-rule:evenodd;fill-opacity:1;stroke:#000000;stroke-width:2px;stroke-linecap:butt;stroke-linejoin:miter;stroke-opacity:1;\"/>\n",
       "<path class=\"bond-12\" d=\"M 161.229,68.2487 L 148.677,62.3944 L 153.476,57.7813 Z\" style=\"fill:#FF0000;fill-rule:evenodd;fill-opacity:1;stroke:#FF0000;stroke-width:2px;stroke-linecap:butt;stroke-linejoin:miter;stroke-opacity:1;\"/>\n",
       "<path class=\"bond-12\" d=\"M 161.229,68.2487 L 158.83,70.5553 L 148.677,62.3944 Z\" style=\"fill:#FF0000;fill-rule:evenodd;fill-opacity:1;stroke:#FF0000;stroke-width:2px;stroke-linecap:butt;stroke-linejoin:miter;stroke-opacity:1;\"/>\n",
       "<path class=\"bond-14\" d=\"M 251.242,115.509 L 255.896,128.387\" style=\"fill:none;fill-rule:evenodd;stroke:#0000FF;stroke-width:2.0px;stroke-linecap:butt;stroke-linejoin:miter;stroke-opacity:1\"/>\n",
       "<path class=\"bond-14\" d=\"M 255.896,128.387 L 260.55,141.266\" style=\"fill:none;fill-rule:evenodd;stroke:#000000;stroke-width:2.0px;stroke-linecap:butt;stroke-linejoin:miter;stroke-opacity:1\"/>\n",
       "<path class=\"bond-23\" d=\"M 253.645,104.736 L 262.168,94.6263\" style=\"fill:none;fill-rule:evenodd;stroke:#0000FF;stroke-width:2.0px;stroke-linecap:butt;stroke-linejoin:miter;stroke-opacity:1\"/>\n",
       "<path class=\"bond-23\" d=\"M 262.168,94.6263 L 270.691,84.5163\" style=\"fill:none;fill-rule:evenodd;stroke:#000000;stroke-width:2.0px;stroke-linecap:butt;stroke-linejoin:miter;stroke-opacity:1\"/>\n",
       "<path class=\"bond-15\" d=\"M 260.55,141.266 L 293.314,147.121\" style=\"fill:none;fill-rule:evenodd;stroke:#000000;stroke-width:2.0px;stroke-linecap:butt;stroke-linejoin:miter;stroke-opacity:1\"/>\n",
       "<path class=\"bond-15\" d=\"M 266.636,135.591 L 289.571,139.69\" style=\"fill:none;fill-rule:evenodd;stroke:#000000;stroke-width:2.0px;stroke-linecap:butt;stroke-linejoin:miter;stroke-opacity:1\"/>\n",
       "<path class=\"bond-16\" d=\"M 293.314,147.121 L 314.767,121.674\" style=\"fill:none;fill-rule:evenodd;stroke:#000000;stroke-width:2.0px;stroke-linecap:butt;stroke-linejoin:miter;stroke-opacity:1\"/>\n",
       "<path class=\"bond-17\" d=\"M 314.767,121.674 L 328.946,124.208\" style=\"fill:none;fill-rule:evenodd;stroke:#000000;stroke-width:2.0px;stroke-linecap:butt;stroke-linejoin:miter;stroke-opacity:1\"/>\n",
       "<path class=\"bond-17\" d=\"M 328.946,124.208 L 343.125,126.741\" style=\"fill:none;fill-rule:evenodd;stroke:#0000FF;stroke-width:2.0px;stroke-linecap:butt;stroke-linejoin:miter;stroke-opacity:1\"/>\n",
       "<path class=\"bond-17\" d=\"M 317.85,128.987 L 327.775,130.76\" style=\"fill:none;fill-rule:evenodd;stroke:#000000;stroke-width:2.0px;stroke-linecap:butt;stroke-linejoin:miter;stroke-opacity:1\"/>\n",
       "<path class=\"bond-17\" d=\"M 327.775,130.76 L 337.7,132.534\" style=\"fill:none;fill-rule:evenodd;stroke:#0000FF;stroke-width:2.0px;stroke-linecap:butt;stroke-linejoin:miter;stroke-opacity:1\"/>\n",
       "<path class=\"bond-19\" d=\"M 314.767,121.674 L 310.113,108.795\" style=\"fill:none;fill-rule:evenodd;stroke:#000000;stroke-width:2.0px;stroke-linecap:butt;stroke-linejoin:miter;stroke-opacity:1\"/>\n",
       "<path class=\"bond-19\" d=\"M 310.113,108.795 L 305.459,95.9165\" style=\"fill:none;fill-rule:evenodd;stroke:#0000FF;stroke-width:2.0px;stroke-linecap:butt;stroke-linejoin:miter;stroke-opacity:1\"/>\n",
       "<path class=\"bond-18\" d=\"M 351.938,122.302 L 358.112,114.979\" style=\"fill:none;fill-rule:evenodd;stroke:#0000FF;stroke-width:2.0px;stroke-linecap:butt;stroke-linejoin:miter;stroke-opacity:1\"/>\n",
       "<path class=\"bond-18\" d=\"M 358.112,114.979 L 364.285,107.655\" style=\"fill:none;fill-rule:evenodd;stroke:#FF0000;stroke-width:2.0px;stroke-linecap:butt;stroke-linejoin:miter;stroke-opacity:1\"/>\n",
       "<path class=\"bond-20\" d=\"M 299.049,89.584 L 284.87,87.0502\" style=\"fill:none;fill-rule:evenodd;stroke:#0000FF;stroke-width:2.0px;stroke-linecap:butt;stroke-linejoin:miter;stroke-opacity:1\"/>\n",
       "<path class=\"bond-20\" d=\"M 284.87,87.0502 L 270.691,84.5163\" style=\"fill:none;fill-rule:evenodd;stroke:#000000;stroke-width:2.0px;stroke-linecap:butt;stroke-linejoin:miter;stroke-opacity:1\"/>\n",
       "<path class=\"bond-21\" d=\"M 273.821,83.3852 L 269.204,70.6064\" style=\"fill:none;fill-rule:evenodd;stroke:#000000;stroke-width:2.0px;stroke-linecap:butt;stroke-linejoin:miter;stroke-opacity:1\"/>\n",
       "<path class=\"bond-21\" d=\"M 269.204,70.6064 L 264.586,57.8276\" style=\"fill:none;fill-rule:evenodd;stroke:#FF0000;stroke-width:2.0px;stroke-linecap:butt;stroke-linejoin:miter;stroke-opacity:1\"/>\n",
       "<path class=\"bond-21\" d=\"M 267.561,85.6475 L 262.943,72.8687\" style=\"fill:none;fill-rule:evenodd;stroke:#000000;stroke-width:2.0px;stroke-linecap:butt;stroke-linejoin:miter;stroke-opacity:1\"/>\n",
       "<path class=\"bond-21\" d=\"M 262.943,72.8687 L 258.325,60.0899\" style=\"fill:none;fill-rule:evenodd;stroke:#FF0000;stroke-width:2.0px;stroke-linecap:butt;stroke-linejoin:miter;stroke-opacity:1\"/>\n",
       "<path class=\"atom-4\" d=\"M 68.9554 155.072 Q 68.9554 152.808, 70.0737 151.544 Q 71.192 150.279, 73.2822 150.279 Q 75.3724 150.279, 76.4907 151.544 Q 77.609 152.808, 77.609 155.072 Q 77.609 157.361, 76.4774 158.666 Q 75.3458 159.958, 73.2822 159.958 Q 71.2053 159.958, 70.0737 158.666 Q 68.9554 157.375, 68.9554 155.072 M 73.2822 158.893 Q 74.72 158.893, 75.4922 157.934 Q 76.2777 156.962, 76.2777 155.072 Q 76.2777 153.221, 75.4922 152.289 Q 74.72 151.344, 73.2822 151.344 Q 71.8444 151.344, 71.0589 152.276 Q 70.2867 153.208, 70.2867 155.072 Q 70.2867 156.975, 71.0589 157.934 Q 71.8444 158.893, 73.2822 158.893 \" fill=\"#FF0000\"/>\n",
       "<path class=\"atom-5\" d=\"M 101.302 107.353 Q 101.302 105.09, 102.42 103.825 Q 103.539 102.56, 105.629 102.56 Q 107.719 102.56, 108.837 103.825 Q 109.956 105.09, 109.956 107.353 Q 109.956 109.643, 108.824 110.948 Q 107.692 112.239, 105.629 112.239 Q 103.552 112.239, 102.42 110.948 Q 101.302 109.656, 101.302 107.353 M 105.629 111.174 Q 107.067 111.174, 107.839 110.216 Q 108.624 109.244, 108.624 107.353 Q 108.624 105.503, 107.839 104.571 Q 107.067 103.626, 105.629 103.626 Q 104.191 103.626, 103.406 104.557 Q 102.633 105.489, 102.633 107.353 Q 102.633 109.257, 103.406 110.216 Q 104.191 111.174, 105.629 111.174 \" fill=\"#FF0000\"/>\n",
       "<path class=\"atom-8\" d=\"M 188.152 127.2 Q 188.152 124.937, 189.27 123.672 Q 190.389 122.408, 192.479 122.408 Q 194.569 122.408, 195.687 123.672 Q 196.806 124.937, 196.806 127.2 Q 196.806 129.49, 195.674 130.795 Q 194.542 132.086, 192.479 132.086 Q 190.402 132.086, 189.27 130.795 Q 188.152 129.504, 188.152 127.2 M 192.479 131.021 Q 193.917 131.021, 194.689 130.063 Q 195.474 129.091, 195.474 127.2 Q 195.474 125.35, 194.689 124.418 Q 193.917 123.473, 192.479 123.473 Q 191.041 123.473, 190.256 124.405 Q 189.483 125.336, 189.483 127.2 Q 189.483 129.104, 190.256 130.063 Q 191.041 131.021, 192.479 131.021 \" fill=\"#FF0000\"/>\n",
       "<path class=\"atom-11\" d=\"M 213.319 44.8352 Q 213.319 42.572, 214.437 41.3072 Q 215.556 40.0424, 217.646 40.0424 Q 219.736 40.0424, 220.854 41.3072 Q 221.973 42.572, 221.973 44.8352 Q 221.973 47.1251, 220.841 48.4298 Q 219.709 49.7212, 217.646 49.7212 Q 215.569 49.7212, 214.437 48.4298 Q 213.319 47.1384, 213.319 44.8352 M 217.646 48.6562 Q 219.084 48.6562, 219.856 47.6976 Q 220.641 46.7257, 220.641 44.8352 Q 220.641 42.9847, 219.856 42.0527 Q 219.084 41.1075, 217.646 41.1075 Q 216.208 41.1075, 215.423 42.0394 Q 214.65 42.9714, 214.65 44.8352 Q 214.65 46.739, 215.423 47.6976 Q 216.208 48.6562, 217.646 48.6562 \" fill=\"#FF0000\"/>\n",
       "<path class=\"atom-11\" d=\"M 223.104 40.1489 L 224.382 40.1489 L 224.382 44.1563 L 229.202 44.1563 L 229.202 40.1489 L 230.48 40.1489 L 230.48 49.5748 L 229.202 49.5748 L 229.202 45.2213 L 224.382 45.2213 L 224.382 49.5748 L 223.104 49.5748 L 223.104 40.1489 \" fill=\"#FF0000\"/>\n",
       "<path class=\"atom-13\" d=\"M 133.549 50.0612 L 134.827 50.0612 L 134.827 54.0686 L 139.647 54.0686 L 139.647 50.0612 L 140.925 50.0612 L 140.925 59.4871 L 139.647 59.4871 L 139.647 55.1336 L 134.827 55.1336 L 134.827 59.4871 L 133.549 59.4871 L 133.549 50.0612 \" fill=\"#FF0000\"/>\n",
       "<path class=\"atom-13\" d=\"M 141.59 54.7475 Q 141.59 52.4843, 142.709 51.2195 Q 143.827 49.9547, 145.917 49.9547 Q 148.007 49.9547, 149.126 51.2195 Q 150.244 52.4843, 150.244 54.7475 Q 150.244 57.0374, 149.112 58.3421 Q 147.981 59.6335, 145.917 59.6335 Q 143.84 59.6335, 142.709 58.3421 Q 141.59 57.0508, 141.59 54.7475 M 145.917 58.5685 Q 147.355 58.5685, 148.127 57.6099 Q 148.913 56.638, 148.913 54.7475 Q 148.913 52.897, 148.127 51.9651 Q 147.355 51.0198, 145.917 51.0198 Q 144.479 51.0198, 143.694 51.9517 Q 142.922 52.8837, 142.922 54.7475 Q 142.922 56.6514, 143.694 57.6099 Q 144.479 58.5685, 145.917 58.5685 \" fill=\"#FF0000\"/>\n",
       "<path class=\"atom-14\" d=\"M 247.155 105.251 L 250.244 110.243 Q 250.55 110.736, 251.042 111.628 Q 251.535 112.52, 251.562 112.573 L 251.562 105.251 L 252.813 105.251 L 252.813 114.676 L 251.522 114.676 L 248.207 109.218 Q 247.821 108.579, 247.408 107.847 Q 247.008 107.114, 246.889 106.888 L 246.889 114.676 L 245.664 114.676 L 245.664 105.251 L 247.155 105.251 \" fill=\"#0000FF\"/>\n",
       "<path class=\"atom-18\" d=\"M 345.448 122.816 L 348.536 127.808 Q 348.843 128.301, 349.335 129.193 Q 349.828 130.085, 349.854 130.138 L 349.854 122.816 L 351.106 122.816 L 351.106 132.242 L 349.815 132.242 L 346.5 126.783 Q 346.113 126.144, 345.701 125.412 Q 345.301 124.68, 345.181 124.453 L 345.181 132.242 L 343.957 132.242 L 343.957 122.816 L 345.448 122.816 \" fill=\"#0000FF\"/>\n",
       "<path class=\"atom-19\" d=\"M 364.657 102.108 Q 364.657 99.845, 365.776 98.5803 Q 366.894 97.3155, 368.984 97.3155 Q 371.074 97.3155, 372.193 98.5803 Q 373.311 99.845, 373.311 102.108 Q 373.311 104.398, 372.179 105.703 Q 371.048 106.994, 368.984 106.994 Q 366.907 106.994, 365.776 105.703 Q 364.657 104.412, 364.657 102.108 M 368.984 105.929 Q 370.422 105.929, 371.194 104.971 Q 371.98 103.999, 371.98 102.108 Q 371.98 100.258, 371.194 99.3258 Q 370.422 98.3806, 368.984 98.3806 Q 367.546 98.3806, 366.761 99.3125 Q 365.989 100.244, 365.989 102.108 Q 365.989 104.012, 366.761 104.971 Q 367.546 105.929, 368.984 105.929 \" fill=\"#FF0000\"/>\n",
       "<path class=\"atom-19\" d=\"M 374.443 97.422 L 375.721 97.422 L 375.721 101.429 L 380.54 101.429 L 380.54 97.422 L 381.818 97.422 L 381.818 106.848 L 380.54 106.848 L 380.54 102.494 L 375.721 102.494 L 375.721 106.848 L 374.443 106.848 L 374.443 97.422 \" fill=\"#FF0000\"/>\n",
       "<path class=\"atom-20\" d=\"M 301.372 85.6585 L 304.461 90.651 Q 304.767 91.1436, 305.259 92.0356 Q 305.752 92.9276, 305.779 92.9809 L 305.779 85.6585 L 307.03 85.6585 L 307.03 95.0844 L 305.739 95.0844 L 302.424 89.6259 Q 302.038 88.9869, 301.625 88.2546 Q 301.226 87.5224, 301.106 87.2961 L 301.106 95.0844 L 299.881 95.0844 L 299.881 85.6585 L 301.372 85.6585 \" fill=\"#0000FF\"/>\n",
       "<path class=\"atom-20\" d=\"M 308.162 85.6585 L 309.44 85.6585 L 309.44 89.6658 L 314.259 89.6658 L 314.259 85.6585 L 315.537 85.6585 L 315.537 95.0844 L 314.259 95.0844 L 314.259 90.7309 L 309.44 90.7309 L 309.44 95.0844 L 308.162 95.0844 L 308.162 85.6585 \" fill=\"#0000FF\"/>\n",
       "<path class=\"atom-22\" d=\"M 255.053 53.2407 Q 255.053 50.9774, 256.171 49.7127 Q 257.29 48.4479, 259.38 48.4479 Q 261.47 48.4479, 262.588 49.7127 Q 263.707 50.9774, 263.707 53.2407 Q 263.707 55.5306, 262.575 56.8353 Q 261.443 58.1267, 259.38 58.1267 Q 257.303 58.1267, 256.171 56.8353 Q 255.053 55.5439, 255.053 53.2407 M 259.38 57.0616 Q 260.818 57.0616, 261.59 56.1031 Q 262.375 55.1312, 262.375 53.2407 Q 262.375 51.3902, 261.59 50.4582 Q 260.818 49.513, 259.38 49.513 Q 257.942 49.513, 257.156 50.4449 Q 256.384 51.3768, 256.384 53.2407 Q 256.384 55.1445, 257.156 56.1031 Q 257.942 57.0616, 259.38 57.0616 \" fill=\"#FF0000\"/>\n",
       "</svg>"
      ],
      "text/plain": [
       "<IPython.core.display.SVG object>"
      ]
     },
     "execution_count": 28,
     "metadata": {},
     "output_type": "execute_result"
    }
   ],
   "source": [
    "dao.draw_molecule(r\"CC(C)C(=O)OC[C@H]1O[C@H]([C@H](O)[C@@H]1O)N2C=C\\C(=N\\O)\\NC2=O\")"
   ]
  }
 ],
 "metadata": {
  "kernelspec": {
   "display_name": "withdrawn",
   "language": "python",
   "name": "withdrawn"
  },
  "language_info": {
   "codemirror_mode": {
    "name": "ipython",
    "version": 3
   },
   "file_extension": ".py",
   "mimetype": "text/x-python",
   "name": "python",
   "nbconvert_exporter": "python",
   "pygments_lexer": "ipython3",
   "version": "3.6.13"
  }
 },
 "nbformat": 4,
 "nbformat_minor": 5
}
