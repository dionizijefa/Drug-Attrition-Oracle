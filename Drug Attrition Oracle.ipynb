{
 "cells": [
  {
   "cell_type": "markdown",
   "id": "1e6d12a1-9be3-41c2-9636-827368d480b7",
   "metadata": {},
   "source": [
    "# Drug attrition oracle"
   ]
  },
  {
   "cell_type": "markdown",
   "id": "a5447b7e-1c23-4115-80a6-8231739dd122",
   "metadata": {},
   "source": [
    "Use this notebook to predict whether an input molecule has a potential to be withdrawn. These models were trained on molecules that have passed phase 3 clinical trials, so the majority of whithdrawal reasons were related to adverse reaction (i.e. toxic sie effects)"
   ]
  },
  {
   "cell_type": "code",
   "execution_count": 3,
   "id": "d5c0fc74-94d1-47ef-ab2b-6048723896b2",
   "metadata": {},
   "outputs": [],
   "source": [
    "from src.dao import DrugAttritionOracle\n",
    "import pandas as pd"
   ]
  },
  {
   "cell_type": "markdown",
   "id": "8e2d79e8-0ce9-4c77-8022-c83fc735ab7f",
   "metadata": {},
   "source": [
    "Initialize the model"
   ]
  },
  {
   "cell_type": "code",
   "execution_count": 4,
   "id": "f052e1a1-467e-46a8-9369-16f71f8d7136",
   "metadata": {},
   "outputs": [
    {
     "name": "stderr",
     "output_type": "stream",
     "text": [
      "Global seed set to 0\n"
     ]
    }
   ],
   "source": [
    "dao = DrugAttritionOracle()"
   ]
  },
  {
   "cell_type": "markdown",
   "id": "89125431-55fc-44eb-953d-8b7f148667fc",
   "metadata": {},
   "source": [
    "Model takes as input a smiles string of a molecule: e.g. azithromycin canoical smiles"
   ]
  },
  {
   "cell_type": "code",
   "execution_count": 5,
   "id": "3916c74d-476a-4339-98ee-a1eeddaeb1d0",
   "metadata": {},
   "outputs": [],
   "source": [
    "azithromycin = \"CCC1C(C(C(N(CC(CC(C(C(C(C(C(=O)O1)C)OC2CC(C(C(O2)C)O)(C)OC)C)OC3C(C(CC(O3)C)N(C)C)O)(C)O)C)C)C)O)(C)O\""
   ]
  },
  {
   "cell_type": "code",
   "execution_count": 437,
   "id": "574c1a5f-e128-4b3e-83f4-05a6baf95a36",
   "metadata": {},
   "outputs": [
    {
     "data": {
      "image/svg+xml": [
       "<svg baseProfile=\"full\" height=\"200px\" version=\"1.1\" viewBox=\"0 0 400 200\" width=\"400px\" xml:space=\"preserve\" xmlns=\"http://www.w3.org/2000/svg\" xmlns:rdkit=\"http://www.rdkit.org/xml\" xmlns:xlink=\"http://www.w3.org/1999/xlink\">\n",
       "<!-- END OF HEADER -->\n",
       "<rect height=\"200\" style=\"opacity:1.0;fill:#FFFFFF;stroke:none\" width=\"400\" x=\"0\" y=\"0\"> </rect>\n",
       "<path class=\"bond-0\" d=\"M 170.976,37.1683 L 155.204,41.7014\" style=\"fill:none;fill-rule:evenodd;stroke:#000000;stroke-width:2.0px;stroke-linecap:butt;stroke-linejoin:miter;stroke-opacity:1\"/>\n",
       "<path class=\"bond-1\" d=\"M 155.204,41.7014 L 149.807,58.3412\" style=\"fill:none;fill-rule:evenodd;stroke:#000000;stroke-width:2.0px;stroke-linecap:butt;stroke-linejoin:miter;stroke-opacity:1\"/>\n",
       "<path class=\"bond-2\" d=\"M 149.807,58.3412 L 135.634,44.0293\" style=\"fill:none;fill-rule:evenodd;stroke:#000000;stroke-width:2.0px;stroke-linecap:butt;stroke-linejoin:miter;stroke-opacity:1\"/>\n",
       "<path class=\"bond-51\" d=\"M 149.807,58.3412 L 157.755,58.0306\" style=\"fill:none;fill-rule:evenodd;stroke:#000000;stroke-width:2.0px;stroke-linecap:butt;stroke-linejoin:miter;stroke-opacity:1\"/>\n",
       "<path class=\"bond-51\" d=\"M 157.755,58.0306 L 165.703,57.72\" style=\"fill:none;fill-rule:evenodd;stroke:#FF0000;stroke-width:2.0px;stroke-linecap:butt;stroke-linejoin:miter;stroke-opacity:1\"/>\n",
       "<path class=\"bond-3\" d=\"M 135.634,44.0293 L 116.67,49.9916\" style=\"fill:none;fill-rule:evenodd;stroke:#000000;stroke-width:2.0px;stroke-linecap:butt;stroke-linejoin:miter;stroke-opacity:1\"/>\n",
       "<path class=\"bond-49\" d=\"M 135.634,44.0293 L 128.896,25.3665\" style=\"fill:none;fill-rule:evenodd;stroke:#000000;stroke-width:2.0px;stroke-linecap:butt;stroke-linejoin:miter;stroke-opacity:1\"/>\n",
       "<path class=\"bond-50\" d=\"M 135.634,44.0293 L 139.838,38.755\" style=\"fill:none;fill-rule:evenodd;stroke:#000000;stroke-width:2.0px;stroke-linecap:butt;stroke-linejoin:miter;stroke-opacity:1\"/>\n",
       "<path class=\"bond-50\" d=\"M 139.838,38.755 L 144.041,33.4807\" style=\"fill:none;fill-rule:evenodd;stroke:#FF0000;stroke-width:2.0px;stroke-linecap:butt;stroke-linejoin:miter;stroke-opacity:1\"/>\n",
       "<path class=\"bond-4\" d=\"M 116.67,49.9916 L 112.577,69.3631\" style=\"fill:none;fill-rule:evenodd;stroke:#000000;stroke-width:2.0px;stroke-linecap:butt;stroke-linejoin:miter;stroke-opacity:1\"/>\n",
       "<path class=\"bond-48\" d=\"M 116.67,49.9916 L 111.467,45.3251\" style=\"fill:none;fill-rule:evenodd;stroke:#000000;stroke-width:2.0px;stroke-linecap:butt;stroke-linejoin:miter;stroke-opacity:1\"/>\n",
       "<path class=\"bond-48\" d=\"M 111.467,45.3251 L 106.263,40.6587\" style=\"fill:none;fill-rule:evenodd;stroke:#FF0000;stroke-width:2.0px;stroke-linecap:butt;stroke-linejoin:miter;stroke-opacity:1\"/>\n",
       "<path class=\"bond-5\" d=\"M 112.577,69.3631 L 118.277,74.1853\" style=\"fill:none;fill-rule:evenodd;stroke:#000000;stroke-width:2.0px;stroke-linecap:butt;stroke-linejoin:miter;stroke-opacity:1\"/>\n",
       "<path class=\"bond-5\" d=\"M 118.277,74.1853 L 123.978,79.0075\" style=\"fill:none;fill-rule:evenodd;stroke:#0000FF;stroke-width:2.0px;stroke-linecap:butt;stroke-linejoin:miter;stroke-opacity:1\"/>\n",
       "<path class=\"bond-47\" d=\"M 112.577,69.3631 L 93.8071,75.8638\" style=\"fill:none;fill-rule:evenodd;stroke:#000000;stroke-width:2.0px;stroke-linecap:butt;stroke-linejoin:miter;stroke-opacity:1\"/>\n",
       "<path class=\"bond-6\" d=\"M 126.962,86.822 L 125.856,94.2553\" style=\"fill:none;fill-rule:evenodd;stroke:#0000FF;stroke-width:2.0px;stroke-linecap:butt;stroke-linejoin:miter;stroke-opacity:1\"/>\n",
       "<path class=\"bond-6\" d=\"M 125.856,94.2553 L 124.751,101.689\" style=\"fill:none;fill-rule:evenodd;stroke:#000000;stroke-width:2.0px;stroke-linecap:butt;stroke-linejoin:miter;stroke-opacity:1\"/>\n",
       "<path class=\"bond-46\" d=\"M 131.344,80.7257 L 138.743,77.9186\" style=\"fill:none;fill-rule:evenodd;stroke:#0000FF;stroke-width:2.0px;stroke-linecap:butt;stroke-linejoin:miter;stroke-opacity:1\"/>\n",
       "<path class=\"bond-46\" d=\"M 138.743,77.9186 L 146.141,75.1116\" style=\"fill:none;fill-rule:evenodd;stroke:#000000;stroke-width:2.0px;stroke-linecap:butt;stroke-linejoin:miter;stroke-opacity:1\"/>\n",
       "<path class=\"bond-7\" d=\"M 124.751,101.689 L 141.082,112.809\" style=\"fill:none;fill-rule:evenodd;stroke:#000000;stroke-width:2.0px;stroke-linecap:butt;stroke-linejoin:miter;stroke-opacity:1\"/>\n",
       "<path class=\"bond-8\" d=\"M 141.082,112.809 L 158.462,103.395\" style=\"fill:none;fill-rule:evenodd;stroke:#000000;stroke-width:2.0px;stroke-linecap:butt;stroke-linejoin:miter;stroke-opacity:1\"/>\n",
       "<path class=\"bond-45\" d=\"M 141.082,112.809 L 140.136,132.573\" style=\"fill:none;fill-rule:evenodd;stroke:#000000;stroke-width:2.0px;stroke-linecap:butt;stroke-linejoin:miter;stroke-opacity:1\"/>\n",
       "<path class=\"bond-9\" d=\"M 158.462,103.395 L 175.624,113.162\" style=\"fill:none;fill-rule:evenodd;stroke:#000000;stroke-width:2.0px;stroke-linecap:butt;stroke-linejoin:miter;stroke-opacity:1\"/>\n",
       "<path class=\"bond-10\" d=\"M 175.624,113.162 L 192.371,102.623\" style=\"fill:none;fill-rule:evenodd;stroke:#000000;stroke-width:2.0px;stroke-linecap:butt;stroke-linejoin:miter;stroke-opacity:1\"/>\n",
       "<path class=\"bond-43\" d=\"M 175.624,113.162 L 185.617,129.853\" style=\"fill:none;fill-rule:evenodd;stroke:#000000;stroke-width:2.0px;stroke-linecap:butt;stroke-linejoin:miter;stroke-opacity:1\"/>\n",
       "<path class=\"bond-44\" d=\"M 175.624,113.162 L 172.128,119.404\" style=\"fill:none;fill-rule:evenodd;stroke:#000000;stroke-width:2.0px;stroke-linecap:butt;stroke-linejoin:miter;stroke-opacity:1\"/>\n",
       "<path class=\"bond-44\" d=\"M 172.128,119.404 L 168.631,125.646\" style=\"fill:none;fill-rule:evenodd;stroke:#FF0000;stroke-width:2.0px;stroke-linecap:butt;stroke-linejoin:miter;stroke-opacity:1\"/>\n",
       "<path class=\"bond-11\" d=\"M 192.371,102.623 L 190.914,82.8911\" style=\"fill:none;fill-rule:evenodd;stroke:#000000;stroke-width:2.0px;stroke-linecap:butt;stroke-linejoin:miter;stroke-opacity:1\"/>\n",
       "<path class=\"bond-31\" d=\"M 192.371,102.623 L 199.068,106.042\" style=\"fill:none;fill-rule:evenodd;stroke:#000000;stroke-width:2.0px;stroke-linecap:butt;stroke-linejoin:miter;stroke-opacity:1\"/>\n",
       "<path class=\"bond-31\" d=\"M 199.068,106.042 L 205.765,109.46\" style=\"fill:none;fill-rule:evenodd;stroke:#FF0000;stroke-width:2.0px;stroke-linecap:butt;stroke-linejoin:miter;stroke-opacity:1\"/>\n",
       "<path class=\"bond-12\" d=\"M 190.914,82.8911 L 207.023,71.4455\" style=\"fill:none;fill-rule:evenodd;stroke:#000000;stroke-width:2.0px;stroke-linecap:butt;stroke-linejoin:miter;stroke-opacity:1\"/>\n",
       "<path class=\"bond-30\" d=\"M 190.914,82.8911 L 172.984,74.4504\" style=\"fill:none;fill-rule:evenodd;stroke:#000000;stroke-width:2.0px;stroke-linecap:butt;stroke-linejoin:miter;stroke-opacity:1\"/>\n",
       "<path class=\"bond-13\" d=\"M 207.023,71.4455 L 204.042,51.8088\" style=\"fill:none;fill-rule:evenodd;stroke:#000000;stroke-width:2.0px;stroke-linecap:butt;stroke-linejoin:miter;stroke-opacity:1\"/>\n",
       "<path class=\"bond-18\" d=\"M 207.023,71.4455 L 214.392,75.0733\" style=\"fill:none;fill-rule:evenodd;stroke:#000000;stroke-width:2.0px;stroke-linecap:butt;stroke-linejoin:miter;stroke-opacity:1\"/>\n",
       "<path class=\"bond-18\" d=\"M 214.392,75.0733 L 221.76,78.7011\" style=\"fill:none;fill-rule:evenodd;stroke:#FF0000;stroke-width:2.0px;stroke-linecap:butt;stroke-linejoin:miter;stroke-opacity:1\"/>\n",
       "<path class=\"bond-14\" d=\"M 204.042,51.8088 L 185.431,44.5281\" style=\"fill:none;fill-rule:evenodd;stroke:#000000;stroke-width:2.0px;stroke-linecap:butt;stroke-linejoin:miter;stroke-opacity:1\"/>\n",
       "<path class=\"bond-17\" d=\"M 204.042,51.8088 L 219.447,39.3933\" style=\"fill:none;fill-rule:evenodd;stroke:#000000;stroke-width:2.0px;stroke-linecap:butt;stroke-linejoin:miter;stroke-opacity:1\"/>\n",
       "<path class=\"bond-15\" d=\"M 187.205,44.3667 L 186.528,36.9263\" style=\"fill:none;fill-rule:evenodd;stroke:#000000;stroke-width:2.0px;stroke-linecap:butt;stroke-linejoin:miter;stroke-opacity:1\"/>\n",
       "<path class=\"bond-15\" d=\"M 186.528,36.9263 L 185.851,29.4859\" style=\"fill:none;fill-rule:evenodd;stroke:#FF0000;stroke-width:2.0px;stroke-linecap:butt;stroke-linejoin:miter;stroke-opacity:1\"/>\n",
       "<path class=\"bond-15\" d=\"M 183.657,44.6895 L 182.98,37.2491\" style=\"fill:none;fill-rule:evenodd;stroke:#000000;stroke-width:2.0px;stroke-linecap:butt;stroke-linejoin:miter;stroke-opacity:1\"/>\n",
       "<path class=\"bond-15\" d=\"M 182.98,37.2491 L 182.303,29.8087\" style=\"fill:none;fill-rule:evenodd;stroke:#FF0000;stroke-width:2.0px;stroke-linecap:butt;stroke-linejoin:miter;stroke-opacity:1\"/>\n",
       "<path class=\"bond-16\" d=\"M 185.431,44.5281 L 179.932,49.1893\" style=\"fill:none;fill-rule:evenodd;stroke:#000000;stroke-width:2.0px;stroke-linecap:butt;stroke-linejoin:miter;stroke-opacity:1\"/>\n",
       "<path class=\"bond-16\" d=\"M 179.932,49.1893 L 174.433,53.8505\" style=\"fill:none;fill-rule:evenodd;stroke:#FF0000;stroke-width:2.0px;stroke-linecap:butt;stroke-linejoin:miter;stroke-opacity:1\"/>\n",
       "<path class=\"bond-19\" d=\"M 230.536,78.6077 L 237.643,74.9494\" style=\"fill:none;fill-rule:evenodd;stroke:#FF0000;stroke-width:2.0px;stroke-linecap:butt;stroke-linejoin:miter;stroke-opacity:1\"/>\n",
       "<path class=\"bond-19\" d=\"M 237.643,74.9494 L 244.749,71.2911\" style=\"fill:none;fill-rule:evenodd;stroke:#000000;stroke-width:2.0px;stroke-linecap:butt;stroke-linejoin:miter;stroke-opacity:1\"/>\n",
       "<path class=\"bond-20\" d=\"M 244.749,71.2911 L 245.394,51.4604\" style=\"fill:none;fill-rule:evenodd;stroke:#000000;stroke-width:2.0px;stroke-linecap:butt;stroke-linejoin:miter;stroke-opacity:1\"/>\n",
       "<path class=\"bond-52\" d=\"M 244.749,71.2911 L 250.847,75.4079\" style=\"fill:none;fill-rule:evenodd;stroke:#000000;stroke-width:2.0px;stroke-linecap:butt;stroke-linejoin:miter;stroke-opacity:1\"/>\n",
       "<path class=\"bond-52\" d=\"M 250.847,75.4079 L 256.946,79.5247\" style=\"fill:none;fill-rule:evenodd;stroke:#FF0000;stroke-width:2.0px;stroke-linecap:butt;stroke-linejoin:miter;stroke-opacity:1\"/>\n",
       "<path class=\"bond-21\" d=\"M 245.394,51.4604 L 263.297,42.7387\" style=\"fill:none;fill-rule:evenodd;stroke:#000000;stroke-width:2.0px;stroke-linecap:butt;stroke-linejoin:miter;stroke-opacity:1\"/>\n",
       "<path class=\"bond-22\" d=\"M 263.297,42.7387 L 280.242,53.2578\" style=\"fill:none;fill-rule:evenodd;stroke:#000000;stroke-width:2.0px;stroke-linecap:butt;stroke-linejoin:miter;stroke-opacity:1\"/>\n",
       "<path class=\"bond-27\" d=\"M 263.297,42.7387 L 251.285,26.7996\" style=\"fill:none;fill-rule:evenodd;stroke:#000000;stroke-width:2.0px;stroke-linecap:butt;stroke-linejoin:miter;stroke-opacity:1\"/>\n",
       "<path class=\"bond-28\" d=\"M 263.297,42.7387 L 267.775,37.7636\" style=\"fill:none;fill-rule:evenodd;stroke:#000000;stroke-width:2.0px;stroke-linecap:butt;stroke-linejoin:miter;stroke-opacity:1\"/>\n",
       "<path class=\"bond-28\" d=\"M 267.775,37.7636 L 272.254,32.7886\" style=\"fill:none;fill-rule:evenodd;stroke:#FF0000;stroke-width:2.0px;stroke-linecap:butt;stroke-linejoin:miter;stroke-opacity:1\"/>\n",
       "<path class=\"bond-23\" d=\"M 280.242,53.2578 L 278.86,73.0846\" style=\"fill:none;fill-rule:evenodd;stroke:#000000;stroke-width:2.0px;stroke-linecap:butt;stroke-linejoin:miter;stroke-opacity:1\"/>\n",
       "<path class=\"bond-26\" d=\"M 280.242,53.2578 L 286.784,49.9017\" style=\"fill:none;fill-rule:evenodd;stroke:#000000;stroke-width:2.0px;stroke-linecap:butt;stroke-linejoin:miter;stroke-opacity:1\"/>\n",
       "<path class=\"bond-26\" d=\"M 286.784,49.9017 L 293.327,46.5456\" style=\"fill:none;fill-rule:evenodd;stroke:#FF0000;stroke-width:2.0px;stroke-linecap:butt;stroke-linejoin:miter;stroke-opacity:1\"/>\n",
       "<path class=\"bond-24\" d=\"M 278.86,73.0846 L 272.261,76.6114\" style=\"fill:none;fill-rule:evenodd;stroke:#000000;stroke-width:2.0px;stroke-linecap:butt;stroke-linejoin:miter;stroke-opacity:1\"/>\n",
       "<path class=\"bond-24\" d=\"M 272.261,76.6114 L 265.663,80.1383\" style=\"fill:none;fill-rule:evenodd;stroke:#FF0000;stroke-width:2.0px;stroke-linecap:butt;stroke-linejoin:miter;stroke-opacity:1\"/>\n",
       "<path class=\"bond-25\" d=\"M 278.86,73.0846 L 295.658,83.9363\" style=\"fill:none;fill-rule:evenodd;stroke:#000000;stroke-width:2.0px;stroke-linecap:butt;stroke-linejoin:miter;stroke-opacity:1\"/>\n",
       "<path class=\"bond-29\" d=\"M 275.076,23.2003 L 272.795,16.1456\" style=\"fill:none;fill-rule:evenodd;stroke:#FF0000;stroke-width:2.0px;stroke-linecap:butt;stroke-linejoin:miter;stroke-opacity:1\"/>\n",
       "<path class=\"bond-29\" d=\"M 272.795,16.1456 L 270.514,9.09091\" style=\"fill:none;fill-rule:evenodd;stroke:#000000;stroke-width:2.0px;stroke-linecap:butt;stroke-linejoin:miter;stroke-opacity:1\"/>\n",
       "<path class=\"bond-32\" d=\"M 210.249,116.566 L 210.444,124.086\" style=\"fill:none;fill-rule:evenodd;stroke:#FF0000;stroke-width:2.0px;stroke-linecap:butt;stroke-linejoin:miter;stroke-opacity:1\"/>\n",
       "<path class=\"bond-32\" d=\"M 210.444,124.086 L 210.638,131.607\" style=\"fill:none;fill-rule:evenodd;stroke:#000000;stroke-width:2.0px;stroke-linecap:butt;stroke-linejoin:miter;stroke-opacity:1\"/>\n",
       "<path class=\"bond-33\" d=\"M 210.638,131.607 L 228.121,141.208\" style=\"fill:none;fill-rule:evenodd;stroke:#000000;stroke-width:2.0px;stroke-linecap:butt;stroke-linejoin:miter;stroke-opacity:1\"/>\n",
       "<path class=\"bond-53\" d=\"M 210.638,131.607 L 204.146,135.262\" style=\"fill:none;fill-rule:evenodd;stroke:#000000;stroke-width:2.0px;stroke-linecap:butt;stroke-linejoin:miter;stroke-opacity:1\"/>\n",
       "<path class=\"bond-53\" d=\"M 204.146,135.262 L 197.655,138.916\" style=\"fill:none;fill-rule:evenodd;stroke:#FF0000;stroke-width:2.0px;stroke-linecap:butt;stroke-linejoin:miter;stroke-opacity:1\"/>\n",
       "<path class=\"bond-34\" d=\"M 228.121,141.208 L 227.907,161.153\" style=\"fill:none;fill-rule:evenodd;stroke:#000000;stroke-width:2.0px;stroke-linecap:butt;stroke-linejoin:miter;stroke-opacity:1\"/>\n",
       "<path class=\"bond-42\" d=\"M 228.121,141.208 L 234.406,137.538\" style=\"fill:none;fill-rule:evenodd;stroke:#000000;stroke-width:2.0px;stroke-linecap:butt;stroke-linejoin:miter;stroke-opacity:1\"/>\n",
       "<path class=\"bond-42\" d=\"M 234.406,137.538 L 240.692,133.869\" style=\"fill:none;fill-rule:evenodd;stroke:#FF0000;stroke-width:2.0px;stroke-linecap:butt;stroke-linejoin:miter;stroke-opacity:1\"/>\n",
       "<path class=\"bond-35\" d=\"M 227.907,161.153 L 210.879,171.474\" style=\"fill:none;fill-rule:evenodd;stroke:#000000;stroke-width:2.0px;stroke-linecap:butt;stroke-linejoin:miter;stroke-opacity:1\"/>\n",
       "<path class=\"bond-39\" d=\"M 227.907,161.153 L 234.735,165.071\" style=\"fill:none;fill-rule:evenodd;stroke:#000000;stroke-width:2.0px;stroke-linecap:butt;stroke-linejoin:miter;stroke-opacity:1\"/>\n",
       "<path class=\"bond-39\" d=\"M 234.735,165.071 L 241.563,168.989\" style=\"fill:none;fill-rule:evenodd;stroke:#0000FF;stroke-width:2.0px;stroke-linecap:butt;stroke-linejoin:miter;stroke-opacity:1\"/>\n",
       "<path class=\"bond-36\" d=\"M 210.879,171.474 L 193.725,161.315\" style=\"fill:none;fill-rule:evenodd;stroke:#000000;stroke-width:2.0px;stroke-linecap:butt;stroke-linejoin:miter;stroke-opacity:1\"/>\n",
       "<path class=\"bond-37\" d=\"M 193.725,161.315 L 193.563,153.783\" style=\"fill:none;fill-rule:evenodd;stroke:#000000;stroke-width:2.0px;stroke-linecap:butt;stroke-linejoin:miter;stroke-opacity:1\"/>\n",
       "<path class=\"bond-37\" d=\"M 193.563,153.783 L 193.402,146.251\" style=\"fill:none;fill-rule:evenodd;stroke:#FF0000;stroke-width:2.0px;stroke-linecap:butt;stroke-linejoin:miter;stroke-opacity:1\"/>\n",
       "<path class=\"bond-38\" d=\"M 193.725,161.315 L 176.456,171.395\" style=\"fill:none;fill-rule:evenodd;stroke:#000000;stroke-width:2.0px;stroke-linecap:butt;stroke-linejoin:miter;stroke-opacity:1\"/>\n",
       "<path class=\"bond-40\" d=\"M 245.258,175.806 L 245.269,183.357\" style=\"fill:none;fill-rule:evenodd;stroke:#0000FF;stroke-width:2.0px;stroke-linecap:butt;stroke-linejoin:miter;stroke-opacity:1\"/>\n",
       "<path class=\"bond-40\" d=\"M 245.269,183.357 L 245.279,190.909\" style=\"fill:none;fill-rule:evenodd;stroke:#000000;stroke-width:2.0px;stroke-linecap:butt;stroke-linejoin:miter;stroke-opacity:1\"/>\n",
       "<path class=\"bond-41\" d=\"M 248.935,168.971 L 255.651,165.078\" style=\"fill:none;fill-rule:evenodd;stroke:#0000FF;stroke-width:2.0px;stroke-linecap:butt;stroke-linejoin:miter;stroke-opacity:1\"/>\n",
       "<path class=\"bond-41\" d=\"M 255.651,165.078 L 262.367,161.185\" style=\"fill:none;fill-rule:evenodd;stroke:#000000;stroke-width:2.0px;stroke-linecap:butt;stroke-linejoin:miter;stroke-opacity:1\"/>\n",
       "<path class=\"atom-6\" d=\"M 125.802 77.9185 L 128.557 82.3724 Q 128.831 82.8119, 129.27 83.6077 Q 129.71 84.4034, 129.733 84.4509 L 129.733 77.9185 L 130.85 77.9185 L 130.85 86.3275 L 129.698 86.3275 L 126.74 81.4579 Q 126.396 80.8878, 126.028 80.2346 Q 125.671 79.5813, 125.564 79.3794 L 125.564 86.3275 L 124.472 86.3275 L 124.472 77.9185 L 125.802 77.9185 \" fill=\"#0000FF\"/>\n",
       "<path class=\"atom-16\" d=\"M 179.773 24.7924 Q 179.773 22.7733, 180.771 21.645 Q 181.769 20.5167, 183.633 20.5167 Q 185.498 20.5167, 186.496 21.645 Q 187.493 22.7733, 187.493 24.7924 Q 187.493 26.8353, 186.484 27.9992 Q 185.474 29.1513, 183.633 29.1513 Q 181.781 29.1513, 180.771 27.9992 Q 179.773 26.8471, 179.773 24.7924 M 183.633 28.2011 Q 184.916 28.2011, 185.605 27.346 Q 186.306 26.4789, 186.306 24.7924 Q 186.306 23.1415, 185.605 22.3101 Q 184.916 21.4668, 183.633 21.4668 Q 182.351 21.4668, 181.65 22.2982 Q 180.961 23.1296, 180.961 24.7924 Q 180.961 26.4908, 181.65 27.346 Q 182.351 28.2011, 183.633 28.2011 \" fill=\"#FF0000\"/>\n",
       "<path class=\"atom-17\" d=\"M 166.21 57.5731 Q 166.21 55.554, 167.207 54.4257 Q 168.205 53.2974, 170.07 53.2974 Q 171.934 53.2974, 172.932 54.4257 Q 173.93 55.554, 173.93 57.5731 Q 173.93 59.616, 172.92 60.7799 Q 171.911 61.932, 170.07 61.932 Q 168.217 61.932, 167.207 60.7799 Q 166.21 59.6279, 166.21 57.5731 M 170.07 60.9818 Q 171.353 60.9818, 172.041 60.1267 Q 172.742 59.2597, 172.742 57.5731 Q 172.742 55.9222, 172.041 55.0908 Q 171.353 54.2475, 170.07 54.2475 Q 168.787 54.2475, 168.086 55.0789 Q 167.397 55.9103, 167.397 57.5731 Q 167.397 59.2715, 168.086 60.1267 Q 168.787 60.9818, 170.07 60.9818 \" fill=\"#FF0000\"/>\n",
       "<path class=\"atom-19\" d=\"M 222.293 80.8878 Q 222.293 78.8687, 223.291 77.7404 Q 224.289 76.6121, 226.153 76.6121 Q 228.018 76.6121, 229.016 77.7404 Q 230.013 78.8687, 230.013 80.8878 Q 230.013 82.9307, 229.004 84.0946 Q 227.994 85.2467, 226.153 85.2467 Q 224.3 85.2467, 223.291 84.0946 Q 222.293 82.9425, 222.293 80.8878 M 226.153 84.2965 Q 227.436 84.2965, 228.125 83.4414 Q 228.826 82.5744, 228.826 80.8878 Q 228.826 79.2369, 228.125 78.4055 Q 227.436 77.5622, 226.153 77.5622 Q 224.871 77.5622, 224.17 78.3936 Q 223.481 79.225, 223.481 80.8878 Q 223.481 82.5862, 224.17 83.4414 Q 224.871 84.2965, 226.153 84.2965 \" fill=\"#FF0000\"/>\n",
       "<path class=\"atom-25\" d=\"M 257.445 82.4912 Q 257.445 80.4721, 258.443 79.3438 Q 259.441 78.2155, 261.305 78.2155 Q 263.17 78.2155, 264.168 79.3438 Q 265.166 80.4721, 265.166 82.4912 Q 265.166 84.5341, 264.156 85.698 Q 263.146 86.8501, 261.305 86.8501 Q 259.453 86.8501, 258.443 85.698 Q 257.445 84.546, 257.445 82.4912 M 261.305 85.8999 Q 262.588 85.8999, 263.277 85.0448 Q 263.978 84.1778, 263.978 82.4912 Q 263.978 80.8403, 263.277 80.0089 Q 262.588 79.1656, 261.305 79.1656 Q 260.023 79.1656, 259.322 79.997 Q 258.633 80.8284, 258.633 82.4912 Q 258.633 84.1896, 259.322 85.0448 Q 260.023 85.8999, 261.305 85.8999 \" fill=\"#FF0000\"/>\n",
       "<path class=\"atom-27\" d=\"M 293.817 44.3381 Q 293.817 42.319, 294.815 41.1907 Q 295.812 40.0624, 297.677 40.0624 Q 299.542 40.0624, 300.539 41.1907 Q 301.537 42.319, 301.537 44.3381 Q 301.537 46.381, 300.528 47.5449 Q 299.518 48.697, 297.677 48.697 Q 295.824 48.697, 294.815 47.5449 Q 293.817 46.3928, 293.817 44.3381 M 297.677 47.7468 Q 298.96 47.7468, 299.649 46.8917 Q 300.349 46.0246, 300.349 44.3381 Q 300.349 42.6872, 299.649 41.8558 Q 298.96 41.0125, 297.677 41.0125 Q 296.394 41.0125, 295.694 41.8439 Q 295.005 42.6753, 295.005 44.3381 Q 295.005 46.0365, 295.694 46.8917 Q 296.394 47.7468, 297.677 47.7468 \" fill=\"#FF0000\"/>\n",
       "<path class=\"atom-27\" d=\"M 302.547 40.1574 L 303.687 40.1574 L 303.687 43.7324 L 307.986 43.7324 L 307.986 40.1574 L 309.127 40.1574 L 309.127 48.5663 L 307.986 48.5663 L 307.986 44.6825 L 303.687 44.6825 L 303.687 48.5663 L 302.547 48.5663 L 302.547 40.1574 \" fill=\"#FF0000\"/>\n",
       "<path class=\"atom-29\" d=\"M 272.751 27.9715 Q 272.751 25.9524, 273.749 24.8241 Q 274.746 23.6958, 276.611 23.6958 Q 278.476 23.6958, 279.473 24.8241 Q 280.471 25.9524, 280.471 27.9715 Q 280.471 30.0144, 279.462 31.1783 Q 278.452 32.3304, 276.611 32.3304 Q 274.758 32.3304, 273.749 31.1783 Q 272.751 30.0262, 272.751 27.9715 M 276.611 31.3802 Q 277.894 31.3802, 278.583 30.5251 Q 279.283 29.658, 279.283 27.9715 Q 279.283 26.3206, 278.583 25.4892 Q 277.894 24.6459, 276.611 24.6459 Q 275.328 24.6459, 274.628 25.4773 Q 273.939 26.3087, 273.939 27.9715 Q 273.939 29.6699, 274.628 30.5251 Q 275.328 31.3802, 276.611 31.3802 \" fill=\"#FF0000\"/>\n",
       "<path class=\"atom-32\" d=\"M 206.263 111.709 Q 206.263 109.69, 207.261 108.561 Q 208.259 107.433, 210.123 107.433 Q 211.988 107.433, 212.986 108.561 Q 213.983 109.69, 213.983 111.709 Q 213.983 113.752, 212.974 114.916 Q 211.964 116.068, 210.123 116.068 Q 208.27 116.068, 207.261 114.916 Q 206.263 113.764, 206.263 111.709 M 210.123 115.118 Q 211.406 115.118, 212.095 114.262 Q 212.796 113.395, 212.796 111.709 Q 212.796 110.058, 212.095 109.227 Q 211.406 108.383, 210.123 108.383 Q 208.841 108.383, 208.14 109.215 Q 207.451 110.046, 207.451 111.709 Q 207.451 113.407, 208.14 114.262 Q 208.841 115.118, 210.123 115.118 \" fill=\"#FF0000\"/>\n",
       "<path class=\"atom-38\" d=\"M 189.437 141.394 Q 189.437 139.374, 190.435 138.246 Q 191.433 137.118, 193.297 137.118 Q 195.162 137.118, 196.16 138.246 Q 197.157 139.374, 197.157 141.394 Q 197.157 143.436, 196.148 144.6 Q 195.138 145.752, 193.297 145.752 Q 191.445 145.752, 190.435 144.6 Q 189.437 143.448, 189.437 141.394 M 193.297 144.802 Q 194.58 144.802, 195.269 143.947 Q 195.97 143.08, 195.97 141.394 Q 195.97 139.743, 195.269 138.911 Q 194.58 138.068, 193.297 138.068 Q 192.015 138.068, 191.314 138.899 Q 190.625 139.731, 190.625 141.394 Q 190.625 143.092, 191.314 143.947 Q 192.015 144.802, 193.297 144.802 \" fill=\"#FF0000\"/>\n",
       "<path class=\"atom-40\" d=\"M 243.393 166.902 L 246.148 171.355 Q 246.422 171.795, 246.861 172.591 Q 247.3 173.386, 247.324 173.434 L 247.324 166.902 L 248.441 166.902 L 248.441 175.311 L 247.289 175.311 L 244.331 170.441 Q 243.987 169.871, 243.619 169.218 Q 243.262 168.564, 243.155 168.362 L 243.155 175.311 L 242.063 175.311 L 242.063 166.902 L 243.393 166.902 \" fill=\"#0000FF\"/>\n",
       "<path class=\"atom-43\" d=\"M 241.182 131.353 Q 241.182 129.334, 242.179 128.206 Q 243.177 127.078, 245.042 127.078 Q 246.907 127.078, 247.904 128.206 Q 248.902 129.334, 248.902 131.353 Q 248.902 133.396, 247.892 134.56 Q 246.883 135.712, 245.042 135.712 Q 243.189 135.712, 242.179 134.56 Q 241.182 133.408, 241.182 131.353 M 245.042 134.762 Q 246.325 134.762, 247.013 133.907 Q 247.714 133.04, 247.714 131.353 Q 247.714 129.703, 247.013 128.871 Q 246.325 128.028, 245.042 128.028 Q 243.759 128.028, 243.058 128.859 Q 242.369 129.691, 242.369 131.353 Q 242.369 133.052, 243.058 133.907 Q 243.759 134.762, 245.042 134.762 \" fill=\"#FF0000\"/>\n",
       "<path class=\"atom-43\" d=\"M 249.911 127.173 L 251.052 127.173 L 251.052 130.748 L 255.351 130.748 L 255.351 127.173 L 256.491 127.173 L 256.491 135.582 L 255.351 135.582 L 255.351 131.698 L 251.052 131.698 L 251.052 135.582 L 249.911 135.582 L 249.911 127.173 \" fill=\"#FF0000\"/>\n",
       "<path class=\"atom-45\" d=\"M 154.938 126.234 L 156.079 126.234 L 156.079 129.809 L 160.378 129.809 L 160.378 126.234 L 161.518 126.234 L 161.518 134.643 L 160.378 134.643 L 160.378 130.76 L 156.079 130.76 L 156.079 134.643 L 154.938 134.643 L 154.938 126.234 \" fill=\"#FF0000\"/>\n",
       "<path class=\"atom-45\" d=\"M 162.112 130.415 Q 162.112 128.396, 163.11 127.268 Q 164.107 126.139, 165.972 126.139 Q 167.837 126.139, 168.835 127.268 Q 169.832 128.396, 169.832 130.415 Q 169.832 132.458, 168.823 133.622 Q 167.813 134.774, 165.972 134.774 Q 164.119 134.774, 163.11 133.622 Q 162.112 132.47, 162.112 130.415 M 165.972 133.824 Q 167.255 133.824, 167.944 132.969 Q 168.645 132.102, 168.645 130.415 Q 168.645 128.764, 167.944 127.933 Q 167.255 127.09, 165.972 127.09 Q 164.689 127.09, 163.989 127.921 Q 163.3 128.752, 163.3 130.415 Q 163.3 132.114, 163.989 132.969 Q 164.689 133.824, 165.972 133.824 \" fill=\"#FF0000\"/>\n",
       "<path class=\"atom-49\" d=\"M 90.8735 32.5956 L 92.0137 32.5956 L 92.0137 36.1706 L 96.3132 36.1706 L 96.3132 32.5956 L 97.4534 32.5956 L 97.4534 41.0046 L 96.3132 41.0046 L 96.3132 37.1208 L 92.0137 37.1208 L 92.0137 41.0046 L 90.8735 41.0046 L 90.8735 32.5956 \" fill=\"#FF0000\"/>\n",
       "<path class=\"atom-49\" d=\"M 98.0472 36.7764 Q 98.0472 34.7573, 99.0449 33.6289 Q 100.043 32.5006, 101.907 32.5006 Q 103.772 32.5006, 104.77 33.6289 Q 105.767 34.7573, 105.767 36.7764 Q 105.767 38.8192, 104.758 39.9832 Q 103.748 41.1353, 101.907 41.1353 Q 100.054 41.1353, 99.0449 39.9832 Q 98.0472 38.8311, 98.0472 36.7764 M 101.907 40.1851 Q 103.19 40.1851, 103.879 39.3299 Q 104.58 38.4629, 104.58 36.7764 Q 104.58 35.1255, 103.879 34.2941 Q 103.19 33.4508, 101.907 33.4508 Q 100.625 33.4508, 99.9238 34.2822 Q 99.2349 35.1136, 99.2349 36.7764 Q 99.2349 38.4748, 99.9238 39.3299 Q 100.625 40.1851, 101.907 40.1851 \" fill=\"#FF0000\"/>\n",
       "<path class=\"atom-51\" d=\"M 144.067 28.6287 Q 144.067 26.6096, 145.065 25.4813 Q 146.062 24.3529, 147.927 24.3529 Q 149.792 24.3529, 150.789 25.4813 Q 151.787 26.6096, 151.787 28.6287 Q 151.787 30.6715, 150.777 31.8355 Q 149.768 32.9876, 147.927 32.9876 Q 146.074 32.9876, 145.065 31.8355 Q 144.067 30.6834, 144.067 28.6287 M 147.927 32.0374 Q 149.21 32.0374, 149.899 31.1823 Q 150.599 30.3152, 150.599 28.6287 Q 150.599 26.9778, 149.899 26.1464 Q 149.21 25.3031, 147.927 25.3031 Q 146.644 25.3031, 145.943 26.1345 Q 145.255 26.9659, 145.255 28.6287 Q 145.255 30.3271, 145.943 31.1823 Q 146.644 32.0374, 147.927 32.0374 \" fill=\"#FF0000\"/>\n",
       "<path class=\"atom-51\" d=\"M 152.797 24.448 L 153.937 24.448 L 153.937 28.023 L 158.236 28.023 L 158.236 24.448 L 159.376 24.448 L 159.376 32.8569 L 158.236 32.8569 L 158.236 28.9731 L 153.937 28.9731 L 153.937 32.8569 L 152.797 32.8569 L 152.797 24.448 \" fill=\"#FF0000\"/>\n",
       "</svg>"
      ],
      "text/plain": [
       "<IPython.core.display.SVG object>"
      ]
     },
     "execution_count": 437,
     "metadata": {},
     "output_type": "execute_result"
    }
   ],
   "source": [
    "dao.draw_molecule(azithromycin)"
   ]
  },
  {
   "cell_type": "markdown",
   "id": "229dec55-922c-4953-a21f-77decd9bc482",
   "metadata": {},
   "source": [
    "You can input any format of valid SMILES, however we recommend standardizing the SMILES. (Standardization won't affect azithromycin canonical smiles)"
   ]
  },
  {
   "cell_type": "code",
   "execution_count": 7,
   "id": "89f20c52-b1fa-4e8e-8f35-f2d8c96ad154",
   "metadata": {},
   "outputs": [],
   "source": [
    "standardized_azithro = dao.standardize_molecule(azithromycin)"
   ]
  },
  {
   "cell_type": "markdown",
   "id": "6f9fe397-376e-4b1a-b172-d4640edfb988",
   "metadata": {},
   "source": [
    "Return the probability from the model"
   ]
  },
  {
   "cell_type": "code",
   "execution_count": 8,
   "id": "6cba352d-f242-4091-aaeb-a531ba656342",
   "metadata": {},
   "outputs": [
    {
     "data": {
      "text/plain": [
       "15.64"
      ]
     },
     "execution_count": 8,
     "metadata": {},
     "output_type": "execute_result"
    }
   ],
   "source": [
    "dao.predict_probability(standardized_azithro)"
   ]
  },
  {
   "cell_type": "markdown",
   "id": "3f2c3d57-57b3-41e3-a3a5-fcfe9a20ba14",
   "metadata": {},
   "source": [
    "Predict class based on a threshold given by the optimal F1 score for the withdrawn class"
   ]
  },
  {
   "cell_type": "code",
   "execution_count": 9,
   "id": "b7879434-4241-4d7e-b7ed-0c6c0ff42cf4",
   "metadata": {},
   "outputs": [
    {
     "data": {
      "text/plain": [
       "'Approved'"
      ]
     },
     "execution_count": 9,
     "metadata": {},
     "output_type": "execute_result"
    }
   ],
   "source": [
    "dao.predict_class(standardized_azithro)"
   ]
  },
  {
   "cell_type": "markdown",
   "id": "841c58da-bfc1-48cc-b7e8-db1110cb04ba",
   "metadata": {},
   "source": [
    "Find the probability of outputting the correct class using the conformal predictor. Without inputing a significance level the conformal method outputs a p-value, which can be interpreted as: \n",
    "  * With probability equal to the p-value, the model can produce the correct prediction"
   ]
  },
  {
   "cell_type": "code",
   "execution_count": 10,
   "id": "4e9cd9c8-b680-4e8c-8499-0a8240f4c3b9",
   "metadata": {},
   "outputs": [
    {
     "data": {
      "text/html": [
       "<div>\n",
       "<style scoped>\n",
       "    .dataframe tbody tr th:only-of-type {\n",
       "        vertical-align: middle;\n",
       "    }\n",
       "\n",
       "    .dataframe tbody tr th {\n",
       "        vertical-align: top;\n",
       "    }\n",
       "\n",
       "    .dataframe thead th {\n",
       "        text-align: right;\n",
       "    }\n",
       "</style>\n",
       "<table border=\"1\" class=\"dataframe\">\n",
       "  <thead>\n",
       "    <tr style=\"text-align: right;\">\n",
       "      <th></th>\n",
       "      <th>Withdrawn class p-value</th>\n",
       "      <th>Approved class p-value</th>\n",
       "    </tr>\n",
       "  </thead>\n",
       "  <tbody>\n",
       "    <tr>\n",
       "      <th>0</th>\n",
       "      <td>0.22</td>\n",
       "      <td>0.51</td>\n",
       "    </tr>\n",
       "  </tbody>\n",
       "</table>\n",
       "</div>"
      ],
      "text/plain": [
       "   Withdrawn class p-value  Approved class p-value\n",
       "0                     0.22                    0.51"
      ]
     },
     "execution_count": 10,
     "metadata": {},
     "output_type": "execute_result"
    }
   ],
   "source": [
    "dao.conformal(standardized_azithro)"
   ]
  },
  {
   "cell_type": "markdown",
   "id": "b386ac6c-bb44-469e-9267-a8b60af399ac",
   "metadata": {},
   "source": [
    "You can also enter a significance level which can be interpreted as:\n",
    "   * The classifier will output a prediction with an error rate of at most equal to the specified significance level"
   ]
  },
  {
   "cell_type": "code",
   "execution_count": 11,
   "id": "cde759ca-2da8-42f5-b54a-643f6692a43d",
   "metadata": {},
   "outputs": [
    {
     "data": {
      "text/html": [
       "<div>\n",
       "<style scoped>\n",
       "    .dataframe tbody tr th:only-of-type {\n",
       "        vertical-align: middle;\n",
       "    }\n",
       "\n",
       "    .dataframe tbody tr th {\n",
       "        vertical-align: top;\n",
       "    }\n",
       "\n",
       "    .dataframe thead th {\n",
       "        text-align: right;\n",
       "    }\n",
       "</style>\n",
       "<table border=\"1\" class=\"dataframe\">\n",
       "  <thead>\n",
       "    <tr style=\"text-align: right;\">\n",
       "      <th></th>\n",
       "      <th>Withdrawn class</th>\n",
       "      <th>Approved class</th>\n",
       "    </tr>\n",
       "  </thead>\n",
       "  <tbody>\n",
       "    <tr>\n",
       "      <th>0</th>\n",
       "      <td>False</td>\n",
       "      <td>False</td>\n",
       "    </tr>\n",
       "  </tbody>\n",
       "</table>\n",
       "</div>"
      ],
      "text/plain": [
       "   Withdrawn class  Approved class\n",
       "0            False           False"
      ]
     },
     "execution_count": 11,
     "metadata": {},
     "output_type": "execute_result"
    }
   ],
   "source": [
    "dao.conformal(standardized_azithro, significance=0.05)"
   ]
  },
  {
   "cell_type": "markdown",
   "id": "ba2f6742-9096-451b-bc37-a37587f7dd8d",
   "metadata": {},
   "source": [
    "* We can see that the model can't make predictions that confident for this molecule"
   ]
  },
  {
   "cell_type": "markdown",
   "id": "a5a0be1f-f624-49e4-a181-18e4b57560fc",
   "metadata": {},
   "source": [
    "We use GNN explainer to interpret the model. It finds the edges that are most important to making the prediction for the given input molecule. This can be used to find molecular substructures importat for the prediction of withdrawn drugs. GNN explainer also outputs importance of the atom features"
   ]
  },
  {
   "cell_type": "code",
   "execution_count": 435,
   "id": "8282157c-96ec-4ec1-b895-3ec516d04dcc",
   "metadata": {},
   "outputs": [
    {
     "name": "stderr",
     "output_type": "stream",
     "text": [
      "Explain graph: 100%|██████████| 300/300 [00:08<00:00, 37.22it/s]\n"
     ]
    }
   ],
   "source": [
    "bonds, atom_features = dao.explain_molecule(standardized_azithro)"
   ]
  },
  {
   "cell_type": "code",
   "execution_count": 438,
   "id": "2cd2b7d2-fd6b-4999-8040-08f799ab1ebc",
   "metadata": {},
   "outputs": [
    {
     "data": {
      "image/svg+xml": [
       "<svg baseProfile=\"full\" height=\"200px\" version=\"1.1\" viewBox=\"0 0 400 200\" width=\"400px\" xml:space=\"preserve\" xmlns=\"http://www.w3.org/2000/svg\" xmlns:rdkit=\"http://www.rdkit.org/xml\" xmlns:xlink=\"http://www.w3.org/1999/xlink\">\n",
       "<!-- END OF HEADER -->\n",
       "<rect height=\"200\" style=\"opacity:1.0;fill:#FFFFFF;stroke:none\" width=\"400\" x=\"0\" y=\"0\"> </rect>\n",
       "<path d=\"M 170.061,57.5847 L 185.469,44.5564\" style=\"fill:none;fill-rule:evenodd;stroke:#FF7F7F;stroke-width:6.3px;stroke-linecap:butt;stroke-linejoin:miter;stroke-opacity:1\"/>\n",
       "<path d=\"M 204.041,51.8428 L 207.027,71.4842\" style=\"fill:none;fill-rule:evenodd;stroke:#FF7F7F;stroke-width:6.3px;stroke-linecap:butt;stroke-linejoin:miter;stroke-opacity:1\"/>\n",
       "<path d=\"M 190.918,82.9365 L 192.379,102.669\" style=\"fill:none;fill-rule:evenodd;stroke:#FF7F7F;stroke-width:6.3px;stroke-linecap:butt;stroke-linejoin:miter;stroke-opacity:1\"/>\n",
       "<path d=\"M 127.645,82.1524 L 112.558,69.3934\" style=\"fill:none;fill-rule:evenodd;stroke:#FF7F7F;stroke-width:6.3px;stroke-linecap:butt;stroke-linejoin:miter;stroke-opacity:1\"/>\n",
       "<path d=\"M 112.558,69.3934 L 116.649,50.0172\" style=\"fill:none;fill-rule:evenodd;stroke:#FF7F7F;stroke-width:6.3px;stroke-linecap:butt;stroke-linejoin:miter;stroke-opacity:1\"/>\n",
       "<path d=\"M 135.617,44.0535 L 128.881,25.3862\" style=\"fill:none;fill-rule:evenodd;stroke:#FF7F7F;stroke-width:6.3px;stroke-linecap:butt;stroke-linejoin:miter;stroke-opacity:1\"/>\n",
       "<path class=\"bond-0\" d=\"M 170.9,37.2028 L 155.199,41.729\" style=\"fill:none;fill-rule:evenodd;stroke:#000000;stroke-width:2.0px;stroke-linecap:butt;stroke-linejoin:miter;stroke-opacity:1\"/>\n",
       "<path class=\"bond-1\" d=\"M 155.199,41.729 L 149.793,58.3688\" style=\"fill:none;fill-rule:evenodd;stroke:#000000;stroke-width:2.0px;stroke-linecap:butt;stroke-linejoin:miter;stroke-opacity:1\"/>\n",
       "<path class=\"bond-2\" d=\"M 149.793,58.3688 L 157.743,58.0613\" style=\"fill:none;fill-rule:evenodd;stroke:#000000;stroke-width:2.0px;stroke-linecap:butt;stroke-linejoin:miter;stroke-opacity:1\"/>\n",
       "<path class=\"bond-2\" d=\"M 157.743,58.0613 L 165.693,57.7537\" style=\"fill:none;fill-rule:evenodd;stroke:#FF0000;stroke-width:2.0px;stroke-linecap:butt;stroke-linejoin:miter;stroke-opacity:1\"/>\n",
       "<path class=\"bond-51\" d=\"M 149.793,58.3688 L 135.617,44.0535\" style=\"fill:none;fill-rule:evenodd;stroke:#000000;stroke-width:2.0px;stroke-linecap:butt;stroke-linejoin:miter;stroke-opacity:1\"/>\n",
       "<path class=\"bond-3\" d=\"M 174.426,53.8936 L 179.947,49.225\" style=\"fill:none;fill-rule:evenodd;stroke:#FF0000;stroke-width:2.0px;stroke-linecap:butt;stroke-linejoin:miter;stroke-opacity:1\"/>\n",
       "<path class=\"bond-3\" d=\"M 179.947,49.225 L 185.469,44.5564\" style=\"fill:none;fill-rule:evenodd;stroke:#000000;stroke-width:2.0px;stroke-linecap:butt;stroke-linejoin:miter;stroke-opacity:1\"/>\n",
       "<path class=\"bond-4\" d=\"M 187.244,44.3946 L 186.565,36.9525\" style=\"fill:none;fill-rule:evenodd;stroke:#000000;stroke-width:2.0px;stroke-linecap:butt;stroke-linejoin:miter;stroke-opacity:1\"/>\n",
       "<path class=\"bond-4\" d=\"M 186.565,36.9525 L 185.887,29.5103\" style=\"fill:none;fill-rule:evenodd;stroke:#FF0000;stroke-width:2.0px;stroke-linecap:butt;stroke-linejoin:miter;stroke-opacity:1\"/>\n",
       "<path class=\"bond-4\" d=\"M 183.694,44.7182 L 183.016,37.276\" style=\"fill:none;fill-rule:evenodd;stroke:#000000;stroke-width:2.0px;stroke-linecap:butt;stroke-linejoin:miter;stroke-opacity:1\"/>\n",
       "<path class=\"bond-4\" d=\"M 183.016,37.276 L 182.337,29.8338\" style=\"fill:none;fill-rule:evenodd;stroke:#FF0000;stroke-width:2.0px;stroke-linecap:butt;stroke-linejoin:miter;stroke-opacity:1\"/>\n",
       "<path class=\"bond-5\" d=\"M 185.469,44.5564 L 204.041,51.8428\" style=\"fill:none;fill-rule:evenodd;stroke:#000000;stroke-width:2.0px;stroke-linecap:butt;stroke-linejoin:miter;stroke-opacity:1\"/>\n",
       "<path class=\"bond-6\" d=\"M 204.041,51.8428 L 219.453,39.4243\" style=\"fill:none;fill-rule:evenodd;stroke:#000000;stroke-width:2.0px;stroke-linecap:butt;stroke-linejoin:miter;stroke-opacity:1\"/>\n",
       "<path class=\"bond-7\" d=\"M 204.041,51.8428 L 207.027,71.4842\" style=\"fill:none;fill-rule:evenodd;stroke:#000000;stroke-width:2.0px;stroke-linecap:butt;stroke-linejoin:miter;stroke-opacity:1\"/>\n",
       "<path class=\"bond-8\" d=\"M 207.027,71.4842 L 214.397,75.1129\" style=\"fill:none;fill-rule:evenodd;stroke:#000000;stroke-width:2.0px;stroke-linecap:butt;stroke-linejoin:miter;stroke-opacity:1\"/>\n",
       "<path class=\"bond-8\" d=\"M 214.397,75.1129 L 221.767,78.7416\" style=\"fill:none;fill-rule:evenodd;stroke:#FF0000;stroke-width:2.0px;stroke-linecap:butt;stroke-linejoin:miter;stroke-opacity:1\"/>\n",
       "<path class=\"bond-20\" d=\"M 207.027,71.4842 L 190.918,82.9365\" style=\"fill:none;fill-rule:evenodd;stroke:#000000;stroke-width:2.0px;stroke-linecap:butt;stroke-linejoin:miter;stroke-opacity:1\"/>\n",
       "<path class=\"bond-9\" d=\"M 230.545,78.6491 L 237.654,74.9914\" style=\"fill:none;fill-rule:evenodd;stroke:#FF0000;stroke-width:2.0px;stroke-linecap:butt;stroke-linejoin:miter;stroke-opacity:1\"/>\n",
       "<path class=\"bond-9\" d=\"M 237.654,74.9914 L 244.762,71.3338\" style=\"fill:none;fill-rule:evenodd;stroke:#000000;stroke-width:2.0px;stroke-linecap:butt;stroke-linejoin:miter;stroke-opacity:1\"/>\n",
       "<path class=\"bond-10\" d=\"M 244.762,71.3338 L 245.435,51.522\" style=\"fill:none;fill-rule:evenodd;stroke:#000000;stroke-width:2.0px;stroke-linecap:butt;stroke-linejoin:miter;stroke-opacity:1\"/>\n",
       "<path class=\"bond-52\" d=\"M 244.762,71.3338 L 250.852,75.4297\" style=\"fill:none;fill-rule:evenodd;stroke:#000000;stroke-width:2.0px;stroke-linecap:butt;stroke-linejoin:miter;stroke-opacity:1\"/>\n",
       "<path class=\"bond-52\" d=\"M 250.852,75.4297 L 256.943,79.5257\" style=\"fill:none;fill-rule:evenodd;stroke:#FF0000;stroke-width:2.0px;stroke-linecap:butt;stroke-linejoin:miter;stroke-opacity:1\"/>\n",
       "<path class=\"bond-11\" d=\"M 245.435,51.522 L 263.362,42.7507\" style=\"fill:none;fill-rule:evenodd;stroke:#000000;stroke-width:2.0px;stroke-linecap:butt;stroke-linejoin:miter;stroke-opacity:1\"/>\n",
       "<path class=\"bond-12\" d=\"M 263.362,42.7507 L 251.331,26.8197\" style=\"fill:none;fill-rule:evenodd;stroke:#000000;stroke-width:2.0px;stroke-linecap:butt;stroke-linejoin:miter;stroke-opacity:1\"/>\n",
       "<path class=\"bond-13\" d=\"M 263.362,42.7507 L 267.839,37.7739\" style=\"fill:none;fill-rule:evenodd;stroke:#000000;stroke-width:2.0px;stroke-linecap:butt;stroke-linejoin:miter;stroke-opacity:1\"/>\n",
       "<path class=\"bond-13\" d=\"M 267.839,37.7739 L 272.316,32.797\" style=\"fill:none;fill-rule:evenodd;stroke:#FF0000;stroke-width:2.0px;stroke-linecap:butt;stroke-linejoin:miter;stroke-opacity:1\"/>\n",
       "<path class=\"bond-15\" d=\"M 263.362,42.7507 L 280.267,53.2565\" style=\"fill:none;fill-rule:evenodd;stroke:#000000;stroke-width:2.0px;stroke-linecap:butt;stroke-linejoin:miter;stroke-opacity:1\"/>\n",
       "<path class=\"bond-14\" d=\"M 275.139,23.2037 L 272.856,16.1473\" style=\"fill:none;fill-rule:evenodd;stroke:#FF0000;stroke-width:2.0px;stroke-linecap:butt;stroke-linejoin:miter;stroke-opacity:1\"/>\n",
       "<path class=\"bond-14\" d=\"M 272.856,16.1473 L 270.573,9.09091\" style=\"fill:none;fill-rule:evenodd;stroke:#000000;stroke-width:2.0px;stroke-linecap:butt;stroke-linejoin:miter;stroke-opacity:1\"/>\n",
       "<path class=\"bond-16\" d=\"M 280.267,53.2565 L 286.809,49.8969\" style=\"fill:none;fill-rule:evenodd;stroke:#000000;stroke-width:2.0px;stroke-linecap:butt;stroke-linejoin:miter;stroke-opacity:1\"/>\n",
       "<path class=\"bond-16\" d=\"M 286.809,49.8969 L 293.351,46.5373\" style=\"fill:none;fill-rule:evenodd;stroke:#FF0000;stroke-width:2.0px;stroke-linecap:butt;stroke-linejoin:miter;stroke-opacity:1\"/>\n",
       "<path class=\"bond-17\" d=\"M 280.267,53.2565 L 278.908,73.0643\" style=\"fill:none;fill-rule:evenodd;stroke:#000000;stroke-width:2.0px;stroke-linecap:butt;stroke-linejoin:miter;stroke-opacity:1\"/>\n",
       "<path class=\"bond-18\" d=\"M 278.908,73.0643 L 295.711,83.9146\" style=\"fill:none;fill-rule:evenodd;stroke:#000000;stroke-width:2.0px;stroke-linecap:butt;stroke-linejoin:miter;stroke-opacity:1\"/>\n",
       "<path class=\"bond-19\" d=\"M 278.908,73.0643 L 272.285,76.5978\" style=\"fill:none;fill-rule:evenodd;stroke:#000000;stroke-width:2.0px;stroke-linecap:butt;stroke-linejoin:miter;stroke-opacity:1\"/>\n",
       "<path class=\"bond-19\" d=\"M 272.285,76.5978 L 265.662,80.1313\" style=\"fill:none;fill-rule:evenodd;stroke:#FF0000;stroke-width:2.0px;stroke-linecap:butt;stroke-linejoin:miter;stroke-opacity:1\"/>\n",
       "<path class=\"bond-21\" d=\"M 190.918,82.9365 L 172.979,74.4938\" style=\"fill:none;fill-rule:evenodd;stroke:#000000;stroke-width:2.0px;stroke-linecap:butt;stroke-linejoin:miter;stroke-opacity:1\"/>\n",
       "<path class=\"bond-22\" d=\"M 190.918,82.9365 L 192.379,102.669\" style=\"fill:none;fill-rule:evenodd;stroke:#000000;stroke-width:2.0px;stroke-linecap:butt;stroke-linejoin:miter;stroke-opacity:1\"/>\n",
       "<path class=\"bond-23\" d=\"M 192.379,102.669 L 199.08,106.09\" style=\"fill:none;fill-rule:evenodd;stroke:#000000;stroke-width:2.0px;stroke-linecap:butt;stroke-linejoin:miter;stroke-opacity:1\"/>\n",
       "<path class=\"bond-23\" d=\"M 199.08,106.09 L 205.78,109.511\" style=\"fill:none;fill-rule:evenodd;stroke:#FF0000;stroke-width:2.0px;stroke-linecap:butt;stroke-linejoin:miter;stroke-opacity:1\"/>\n",
       "<path class=\"bond-35\" d=\"M 192.379,102.669 L 175.628,113.207\" style=\"fill:none;fill-rule:evenodd;stroke:#000000;stroke-width:2.0px;stroke-linecap:butt;stroke-linejoin:miter;stroke-opacity:1\"/>\n",
       "<path class=\"bond-24\" d=\"M 210.268,116.62 L 210.467,124.148\" style=\"fill:none;fill-rule:evenodd;stroke:#FF0000;stroke-width:2.0px;stroke-linecap:butt;stroke-linejoin:miter;stroke-opacity:1\"/>\n",
       "<path class=\"bond-24\" d=\"M 210.467,124.148 L 210.666,131.676\" style=\"fill:none;fill-rule:evenodd;stroke:#000000;stroke-width:2.0px;stroke-linecap:butt;stroke-linejoin:miter;stroke-opacity:1\"/>\n",
       "<path class=\"bond-25\" d=\"M 210.666,131.676 L 204.152,135.333\" style=\"fill:none;fill-rule:evenodd;stroke:#000000;stroke-width:2.0px;stroke-linecap:butt;stroke-linejoin:miter;stroke-opacity:1\"/>\n",
       "<path class=\"bond-25\" d=\"M 204.152,135.333 L 197.637,138.99\" style=\"fill:none;fill-rule:evenodd;stroke:#FF0000;stroke-width:2.0px;stroke-linecap:butt;stroke-linejoin:miter;stroke-opacity:1\"/>\n",
       "<path class=\"bond-53\" d=\"M 210.666,131.676 L 228.142,141.223\" style=\"fill:none;fill-rule:evenodd;stroke:#000000;stroke-width:2.0px;stroke-linecap:butt;stroke-linejoin:miter;stroke-opacity:1\"/>\n",
       "<path class=\"bond-26\" d=\"M 193.392,146.319 L 193.566,153.837\" style=\"fill:none;fill-rule:evenodd;stroke:#FF0000;stroke-width:2.0px;stroke-linecap:butt;stroke-linejoin:miter;stroke-opacity:1\"/>\n",
       "<path class=\"bond-26\" d=\"M 193.566,153.837 L 193.741,161.356\" style=\"fill:none;fill-rule:evenodd;stroke:#000000;stroke-width:2.0px;stroke-linecap:butt;stroke-linejoin:miter;stroke-opacity:1\"/>\n",
       "<path class=\"bond-27\" d=\"M 193.741,161.356 L 176.468,171.446\" style=\"fill:none;fill-rule:evenodd;stroke:#000000;stroke-width:2.0px;stroke-linecap:butt;stroke-linejoin:miter;stroke-opacity:1\"/>\n",
       "<path class=\"bond-28\" d=\"M 193.741,161.356 L 210.856,171.521\" style=\"fill:none;fill-rule:evenodd;stroke:#000000;stroke-width:2.0px;stroke-linecap:butt;stroke-linejoin:miter;stroke-opacity:1\"/>\n",
       "<path class=\"bond-29\" d=\"M 210.856,171.521 L 227.892,161.146\" style=\"fill:none;fill-rule:evenodd;stroke:#000000;stroke-width:2.0px;stroke-linecap:butt;stroke-linejoin:miter;stroke-opacity:1\"/>\n",
       "<path class=\"bond-30\" d=\"M 227.892,161.146 L 234.721,165.065\" style=\"fill:none;fill-rule:evenodd;stroke:#000000;stroke-width:2.0px;stroke-linecap:butt;stroke-linejoin:miter;stroke-opacity:1\"/>\n",
       "<path class=\"bond-30\" d=\"M 234.721,165.065 L 241.551,168.984\" style=\"fill:none;fill-rule:evenodd;stroke:#0000FF;stroke-width:2.0px;stroke-linecap:butt;stroke-linejoin:miter;stroke-opacity:1\"/>\n",
       "<path class=\"bond-33\" d=\"M 227.892,161.146 L 228.142,141.223\" style=\"fill:none;fill-rule:evenodd;stroke:#000000;stroke-width:2.0px;stroke-linecap:butt;stroke-linejoin:miter;stroke-opacity:1\"/>\n",
       "<path class=\"bond-31\" d=\"M 245.247,175.802 L 245.258,183.356\" style=\"fill:none;fill-rule:evenodd;stroke:#0000FF;stroke-width:2.0px;stroke-linecap:butt;stroke-linejoin:miter;stroke-opacity:1\"/>\n",
       "<path class=\"bond-31\" d=\"M 245.258,183.356 L 245.268,190.909\" style=\"fill:none;fill-rule:evenodd;stroke:#000000;stroke-width:2.0px;stroke-linecap:butt;stroke-linejoin:miter;stroke-opacity:1\"/>\n",
       "<path class=\"bond-32\" d=\"M 248.925,168.965 L 255.642,165.072\" style=\"fill:none;fill-rule:evenodd;stroke:#0000FF;stroke-width:2.0px;stroke-linecap:butt;stroke-linejoin:miter;stroke-opacity:1\"/>\n",
       "<path class=\"bond-32\" d=\"M 255.642,165.072 L 262.36,161.178\" style=\"fill:none;fill-rule:evenodd;stroke:#000000;stroke-width:2.0px;stroke-linecap:butt;stroke-linejoin:miter;stroke-opacity:1\"/>\n",
       "<path class=\"bond-34\" d=\"M 228.142,141.223 L 234.429,137.55\" style=\"fill:none;fill-rule:evenodd;stroke:#000000;stroke-width:2.0px;stroke-linecap:butt;stroke-linejoin:miter;stroke-opacity:1\"/>\n",
       "<path class=\"bond-34\" d=\"M 234.429,137.55 L 240.715,133.877\" style=\"fill:none;fill-rule:evenodd;stroke:#FF0000;stroke-width:2.0px;stroke-linecap:butt;stroke-linejoin:miter;stroke-opacity:1\"/>\n",
       "<path class=\"bond-36\" d=\"M 175.628,113.207 L 185.623,129.898\" style=\"fill:none;fill-rule:evenodd;stroke:#000000;stroke-width:2.0px;stroke-linecap:butt;stroke-linejoin:miter;stroke-opacity:1\"/>\n",
       "<path class=\"bond-37\" d=\"M 175.628,113.207 L 172.131,119.45\" style=\"fill:none;fill-rule:evenodd;stroke:#000000;stroke-width:2.0px;stroke-linecap:butt;stroke-linejoin:miter;stroke-opacity:1\"/>\n",
       "<path class=\"bond-37\" d=\"M 172.131,119.45 L 168.633,125.693\" style=\"fill:none;fill-rule:evenodd;stroke:#FF0000;stroke-width:2.0px;stroke-linecap:butt;stroke-linejoin:miter;stroke-opacity:1\"/>\n",
       "<path class=\"bond-38\" d=\"M 175.628,113.207 L 158.462,103.437\" style=\"fill:none;fill-rule:evenodd;stroke:#000000;stroke-width:2.0px;stroke-linecap:butt;stroke-linejoin:miter;stroke-opacity:1\"/>\n",
       "<path class=\"bond-39\" d=\"M 158.462,103.437 L 141.074,112.85\" style=\"fill:none;fill-rule:evenodd;stroke:#000000;stroke-width:2.0px;stroke-linecap:butt;stroke-linejoin:miter;stroke-opacity:1\"/>\n",
       "<path class=\"bond-40\" d=\"M 141.074,112.85 L 140.127,132.618\" style=\"fill:none;fill-rule:evenodd;stroke:#000000;stroke-width:2.0px;stroke-linecap:butt;stroke-linejoin:miter;stroke-opacity:1\"/>\n",
       "<path class=\"bond-41\" d=\"M 141.074,112.85 L 124.743,101.723\" style=\"fill:none;fill-rule:evenodd;stroke:#000000;stroke-width:2.0px;stroke-linecap:butt;stroke-linejoin:miter;stroke-opacity:1\"/>\n",
       "<path class=\"bond-42\" d=\"M 124.743,101.723 L 125.845,94.2875\" style=\"fill:none;fill-rule:evenodd;stroke:#000000;stroke-width:2.0px;stroke-linecap:butt;stroke-linejoin:miter;stroke-opacity:1\"/>\n",
       "<path class=\"bond-42\" d=\"M 125.845,94.2875 L 126.948,86.8525\" style=\"fill:none;fill-rule:evenodd;stroke:#0000FF;stroke-width:2.0px;stroke-linecap:butt;stroke-linejoin:miter;stroke-opacity:1\"/>\n",
       "<path class=\"bond-43\" d=\"M 131.329,80.7539 L 138.73,77.9446\" style=\"fill:none;fill-rule:evenodd;stroke:#0000FF;stroke-width:2.0px;stroke-linecap:butt;stroke-linejoin:miter;stroke-opacity:1\"/>\n",
       "<path class=\"bond-43\" d=\"M 138.73,77.9446 L 146.131,75.1353\" style=\"fill:none;fill-rule:evenodd;stroke:#000000;stroke-width:2.0px;stroke-linecap:butt;stroke-linejoin:miter;stroke-opacity:1\"/>\n",
       "<path class=\"bond-44\" d=\"M 123.962,79.0372 L 118.26,74.2153\" style=\"fill:none;fill-rule:evenodd;stroke:#0000FF;stroke-width:2.0px;stroke-linecap:butt;stroke-linejoin:miter;stroke-opacity:1\"/>\n",
       "<path class=\"bond-44\" d=\"M 118.26,74.2153 L 112.558,69.3934\" style=\"fill:none;fill-rule:evenodd;stroke:#000000;stroke-width:2.0px;stroke-linecap:butt;stroke-linejoin:miter;stroke-opacity:1\"/>\n",
       "<path class=\"bond-45\" d=\"M 112.558,69.3934 L 93.7836,75.8996\" style=\"fill:none;fill-rule:evenodd;stroke:#000000;stroke-width:2.0px;stroke-linecap:butt;stroke-linejoin:miter;stroke-opacity:1\"/>\n",
       "<path class=\"bond-46\" d=\"M 112.558,69.3934 L 116.649,50.0172\" style=\"fill:none;fill-rule:evenodd;stroke:#000000;stroke-width:2.0px;stroke-linecap:butt;stroke-linejoin:miter;stroke-opacity:1\"/>\n",
       "<path class=\"bond-47\" d=\"M 116.649,50.0172 L 111.444,45.3497\" style=\"fill:none;fill-rule:evenodd;stroke:#000000;stroke-width:2.0px;stroke-linecap:butt;stroke-linejoin:miter;stroke-opacity:1\"/>\n",
       "<path class=\"bond-47\" d=\"M 111.444,45.3497 L 106.239,40.6821\" style=\"fill:none;fill-rule:evenodd;stroke:#FF0000;stroke-width:2.0px;stroke-linecap:butt;stroke-linejoin:miter;stroke-opacity:1\"/>\n",
       "<path class=\"bond-48\" d=\"M 116.649,50.0172 L 135.617,44.0535\" style=\"fill:none;fill-rule:evenodd;stroke:#000000;stroke-width:2.0px;stroke-linecap:butt;stroke-linejoin:miter;stroke-opacity:1\"/>\n",
       "<path class=\"bond-49\" d=\"M 135.617,44.0535 L 128.881,25.3862\" style=\"fill:none;fill-rule:evenodd;stroke:#000000;stroke-width:2.0px;stroke-linecap:butt;stroke-linejoin:miter;stroke-opacity:1\"/>\n",
       "<path class=\"bond-50\" d=\"M 135.617,44.0535 L 139.823,38.778\" style=\"fill:none;fill-rule:evenodd;stroke:#000000;stroke-width:2.0px;stroke-linecap:butt;stroke-linejoin:miter;stroke-opacity:1\"/>\n",
       "<path class=\"bond-50\" d=\"M 139.823,38.778 L 144.028,33.5024\" style=\"fill:none;fill-rule:evenodd;stroke:#FF0000;stroke-width:2.0px;stroke-linecap:butt;stroke-linejoin:miter;stroke-opacity:1\"/>\n",
       "<path class=\"atom-3\" d=\"M 166.2 57.6085 Q 166.2 55.5889, 167.198 54.4603 Q 168.195 53.3317, 170.061 53.3317 Q 171.926 53.3317, 172.924 54.4603 Q 173.922 55.5889, 173.922 57.6085 Q 173.922 59.6518, 172.912 60.8161 Q 171.902 61.9684, 170.061 61.9684 Q 168.207 61.9684, 167.198 60.8161 Q 166.2 59.6637, 166.2 57.6085 M 170.061 61.018 Q 171.344 61.018, 172.033 60.1627 Q 172.734 59.2954, 172.734 57.6085 Q 172.734 55.9572, 172.033 55.1256 Q 171.344 54.2821, 170.061 54.2821 Q 168.778 54.2821, 168.077 55.1137 Q 167.388 55.9453, 167.388 57.6085 Q 167.388 59.3073, 168.077 60.1627 Q 168.778 61.018, 170.061 61.018 \" fill=\"#FF0000\"/>\n",
       "<path class=\"atom-5\" d=\"M 179.806 24.816 Q 179.806 22.7964, 180.804 21.6678 Q 181.802 20.5392, 183.667 20.5392 Q 185.532 20.5392, 186.53 21.6678 Q 187.528 22.7964, 187.528 24.816 Q 187.528 26.8593, 186.518 28.0235 Q 185.508 29.1759, 183.667 29.1759 Q 181.814 29.1759, 180.804 28.0235 Q 179.806 26.8712, 179.806 24.816 M 183.667 28.2255 Q 184.95 28.2255, 185.639 27.3701 Q 186.34 26.5029, 186.34 24.816 Q 186.34 23.1647, 185.639 22.3331 Q 184.95 21.4896, 183.667 21.4896 Q 182.384 21.4896, 181.683 22.3212 Q 180.994 23.1528, 180.994 24.816 Q 180.994 26.5148, 181.683 27.3701 Q 182.384 28.2255, 183.667 28.2255 \" fill=\"#FF0000\"/>\n",
       "<path class=\"atom-9\" d=\"M 222.301 80.9288 Q 222.301 78.9092, 223.299 77.7806 Q 224.296 76.652, 226.162 76.652 Q 228.027 76.652, 229.025 77.7806 Q 230.023 78.9092, 230.023 80.9288 Q 230.023 82.9721, 229.013 84.1364 Q 228.003 85.2887, 226.162 85.2887 Q 224.308 85.2887, 223.299 84.1364 Q 222.301 82.984, 222.301 80.9288 M 226.162 84.3383 Q 227.445 84.3383, 228.134 83.483 Q 228.835 82.6157, 228.835 80.9288 Q 228.835 79.2775, 228.134 78.4459 Q 227.445 77.6024, 226.162 77.6024 Q 224.879 77.6024, 224.178 78.434 Q 223.489 79.2656, 223.489 80.9288 Q 223.489 82.6276, 224.178 83.483 Q 224.879 84.3383, 226.162 84.3383 \" fill=\"#FF0000\"/>\n",
       "<path class=\"atom-14\" d=\"M 272.814 27.976 Q 272.814 25.9564, 273.812 24.8278 Q 274.81 23.6992, 276.675 23.6992 Q 278.54 23.6992, 279.538 24.8278 Q 280.536 25.9564, 280.536 27.976 Q 280.536 30.0194, 279.526 31.1836 Q 278.516 32.336, 276.675 32.336 Q 274.822 32.336, 273.812 31.1836 Q 272.814 30.0312, 272.814 27.976 M 276.675 31.3856 Q 277.958 31.3856, 278.647 30.5302 Q 279.348 29.663, 279.348 27.976 Q 279.348 26.3247, 278.647 25.4931 Q 277.958 24.6496, 276.675 24.6496 Q 275.392 24.6496, 274.691 25.4812 Q 274.002 26.3128, 274.002 27.976 Q 274.002 29.6748, 274.691 30.5302 Q 275.392 31.3856, 276.675 31.3856 \" fill=\"#FF0000\"/>\n",
       "<path class=\"atom-17\" d=\"M 293.841 44.3267 Q 293.841 42.3072, 294.839 41.1786 Q 295.837 40.05, 297.702 40.05 Q 299.568 40.05, 300.565 41.1786 Q 301.563 42.3072, 301.563 44.3267 Q 301.563 46.3701, 300.554 47.5343 Q 299.544 48.6867, 297.702 48.6867 Q 295.849 48.6867, 294.839 47.5343 Q 293.841 46.382, 293.841 44.3267 M 297.702 47.7363 Q 298.985 47.7363, 299.674 46.8809 Q 300.375 46.0137, 300.375 44.3267 Q 300.375 42.6754, 299.674 41.8438 Q 298.985 41.0004, 297.702 41.0004 Q 296.419 41.0004, 295.718 41.832 Q 295.029 42.6636, 295.029 44.3267 Q 295.029 46.0256, 295.718 46.8809 Q 296.419 47.7363, 297.702 47.7363 \" fill=\"#FF0000\"/>\n",
       "<path class=\"atom-17\" d=\"M 302.573 40.145 L 303.714 40.145 L 303.714 43.7209 L 308.014 43.7209 L 308.014 40.145 L 309.155 40.145 L 309.155 48.556 L 308.014 48.556 L 308.014 44.6713 L 303.714 44.6713 L 303.714 48.556 L 302.573 48.556 L 302.573 40.145 \" fill=\"#FF0000\"/>\n",
       "<path class=\"atom-20\" d=\"M 257.441 82.4811 Q 257.441 80.4615, 258.439 79.3329 Q 259.437 78.2043, 261.302 78.2043 Q 263.168 78.2043, 264.165 79.3329 Q 265.163 80.4615, 265.163 82.4811 Q 265.163 84.5244, 264.154 85.6887 Q 263.144 86.841, 261.302 86.841 Q 259.449 86.841, 258.439 85.6887 Q 257.441 84.5363, 257.441 82.4811 M 261.302 85.8906 Q 262.585 85.8906, 263.274 85.0353 Q 263.975 84.168, 263.975 82.4811 Q 263.975 80.8298, 263.274 79.9982 Q 262.585 79.1547, 261.302 79.1547 Q 260.019 79.1547, 259.318 79.9863 Q 258.629 80.8179, 258.629 82.4811 Q 258.629 84.1799, 259.318 85.0353 Q 260.019 85.8906, 261.302 85.8906 \" fill=\"#FF0000\"/>\n",
       "<path class=\"atom-24\" d=\"M 206.279 111.761 Q 206.279 109.742, 207.276 108.613 Q 208.274 107.484, 210.14 107.484 Q 212.005 107.484, 213.003 108.613 Q 214 109.742, 214 111.761 Q 214 113.804, 212.991 114.969 Q 211.981 116.121, 210.14 116.121 Q 208.286 116.121, 207.276 114.969 Q 206.279 113.816, 206.279 111.761 M 210.14 115.171 Q 211.423 115.171, 212.112 114.315 Q 212.812 113.448, 212.812 111.761 Q 212.812 110.11, 212.112 109.278 Q 211.423 108.435, 210.14 108.435 Q 208.856 108.435, 208.156 109.266 Q 207.467 110.098, 207.467 111.761 Q 207.467 113.46, 208.156 114.315 Q 208.856 115.171, 210.14 115.171 \" fill=\"#FF0000\"/>\n",
       "<path class=\"atom-26\" d=\"M 189.417 141.461 Q 189.417 139.441, 190.415 138.313 Q 191.413 137.184, 193.278 137.184 Q 195.143 137.184, 196.141 138.313 Q 197.139 139.441, 197.139 141.461 Q 197.139 143.504, 196.129 144.668 Q 195.119 145.821, 193.278 145.821 Q 191.425 145.821, 190.415 144.668 Q 189.417 143.516, 189.417 141.461 M 193.278 144.87 Q 194.561 144.87, 195.25 144.015 Q 195.951 143.148, 195.951 141.461 Q 195.951 139.81, 195.25 138.978 Q 194.561 138.135, 193.278 138.135 Q 191.995 138.135, 191.294 138.966 Q 190.605 139.798, 190.605 141.461 Q 190.605 143.16, 191.294 144.015 Q 191.995 144.87, 193.278 144.87 \" fill=\"#FF0000\"/>\n",
       "<path class=\"atom-31\" d=\"M 243.382 166.896 L 246.138 171.351 Q 246.411 171.79, 246.85 172.586 Q 247.29 173.382, 247.314 173.43 L 247.314 166.896 L 248.43 166.896 L 248.43 175.307 L 247.278 175.307 L 244.32 170.436 Q 243.975 169.866, 243.607 169.212 Q 243.251 168.559, 243.144 168.357 L 243.144 175.307 L 242.051 175.307 L 242.051 166.896 L 243.382 166.896 \" fill=\"#0000FF\"/>\n",
       "<path class=\"atom-35\" d=\"M 241.205 131.359 Q 241.205 129.339, 242.203 128.211 Q 243.201 127.082, 245.066 127.082 Q 246.932 127.082, 247.93 128.211 Q 248.927 129.339, 248.927 131.359 Q 248.927 133.402, 247.918 134.567 Q 246.908 135.719, 245.066 135.719 Q 243.213 135.719, 242.203 134.567 Q 241.205 133.414, 241.205 131.359 M 245.066 134.769 Q 246.35 134.769, 247.039 133.913 Q 247.739 133.046, 247.739 131.359 Q 247.739 129.708, 247.039 128.876 Q 246.35 128.033, 245.066 128.033 Q 243.783 128.033, 243.083 128.864 Q 242.393 129.696, 242.393 131.359 Q 242.393 133.058, 243.083 133.913 Q 243.783 134.769, 245.066 134.769 \" fill=\"#FF0000\"/>\n",
       "<path class=\"atom-35\" d=\"M 249.937 127.177 L 251.078 127.177 L 251.078 130.753 L 255.378 130.753 L 255.378 127.177 L 256.519 127.177 L 256.519 135.588 L 255.378 135.588 L 255.378 131.704 L 251.078 131.704 L 251.078 135.588 L 249.937 135.588 L 249.937 127.177 \" fill=\"#FF0000\"/>\n",
       "<path class=\"atom-38\" d=\"M 154.937 126.282 L 156.078 126.282 L 156.078 129.858 L 160.378 129.858 L 160.378 126.282 L 161.519 126.282 L 161.519 134.693 L 160.378 134.693 L 160.378 130.809 L 156.078 130.809 L 156.078 134.693 L 154.937 134.693 L 154.937 126.282 \" fill=\"#FF0000\"/>\n",
       "<path class=\"atom-38\" d=\"M 162.113 130.464 Q 162.113 128.444, 163.111 127.316 Q 164.109 126.187, 165.974 126.187 Q 167.839 126.187, 168.837 127.316 Q 169.835 128.444, 169.835 130.464 Q 169.835 132.507, 168.825 133.672 Q 167.815 134.824, 165.974 134.824 Q 164.121 134.824, 163.111 133.672 Q 162.113 132.519, 162.113 130.464 M 165.974 133.874 Q 167.257 133.874, 167.946 133.018 Q 168.647 132.151, 168.647 130.464 Q 168.647 128.813, 167.946 127.981 Q 167.257 127.138, 165.974 127.138 Q 164.691 127.138, 163.99 127.969 Q 163.301 128.801, 163.301 130.464 Q 163.301 132.163, 163.99 133.018 Q 164.691 133.874, 165.974 133.874 \" fill=\"#FF0000\"/>\n",
       "<path class=\"atom-43\" d=\"M 125.786 77.9469 L 128.542 82.4019 Q 128.816 82.8414, 129.255 83.6374 Q 129.695 84.4334, 129.718 84.4809 L 129.718 77.9469 L 130.835 77.9469 L 130.835 86.3579 L 129.683 86.3579 L 126.725 81.4871 Q 126.38 80.9169, 126.012 80.2635 Q 125.655 79.6101, 125.549 79.4081 L 125.549 86.3579 L 124.456 86.3579 L 124.456 77.9469 L 125.786 77.9469 \" fill=\"#0000FF\"/>\n",
       "<path class=\"atom-48\" d=\"M 90.8453 32.6171 L 91.9858 32.6171 L 91.9858 36.193 L 96.2863 36.193 L 96.2863 32.6171 L 97.4268 32.6171 L 97.4268 41.0281 L 96.2863 41.0281 L 96.2863 37.1434 L 91.9858 37.1434 L 91.9858 41.0281 L 90.8453 41.0281 L 90.8453 32.6171 \" fill=\"#FF0000\"/>\n",
       "<path class=\"atom-48\" d=\"M 98.0208 36.7988 Q 98.0208 34.7793, 99.0187 33.6507 Q 100.017 32.5221, 101.882 32.5221 Q 103.747 32.5221, 104.745 33.6507 Q 105.743 34.7793, 105.743 36.7988 Q 105.743 38.8422, 104.733 40.0064 Q 103.723 41.1588, 101.882 41.1588 Q 100.029 41.1588, 99.0187 40.0064 Q 98.0208 38.8541, 98.0208 36.7988 M 101.882 40.2084 Q 103.165 40.2084, 103.854 39.353 Q 104.555 38.4858, 104.555 36.7988 Q 104.555 35.1475, 103.854 34.3159 Q 103.165 33.4725, 101.882 33.4725 Q 100.599 33.4725, 99.8978 34.3041 Q 99.2088 35.1357, 99.2088 36.7988 Q 99.2088 38.4977, 99.8978 39.353 Q 100.599 40.2084, 101.882 40.2084 \" fill=\"#FF0000\"/>\n",
       "<path class=\"atom-51\" d=\"M 144.055 28.6492 Q 144.055 26.6296, 145.053 25.501 Q 146.051 24.3724, 147.916 24.3724 Q 149.782 24.3724, 150.78 25.501 Q 151.777 26.6296, 151.777 28.6492 Q 151.777 30.6926, 150.768 31.8568 Q 149.758 33.0091, 147.916 33.0091 Q 146.063 33.0091, 145.053 31.8568 Q 144.055 30.7044, 144.055 28.6492 M 147.916 32.0588 Q 149.199 32.0588, 149.889 31.2034 Q 150.589 30.3362, 150.589 28.6492 Q 150.589 26.9979, 149.889 26.1663 Q 149.199 25.3228, 147.916 25.3228 Q 146.633 25.3228, 145.933 26.1544 Q 145.243 26.986, 145.243 28.6492 Q 145.243 30.348, 145.933 31.2034 Q 146.633 32.0588, 147.916 32.0588 \" fill=\"#FF0000\"/>\n",
       "<path class=\"atom-51\" d=\"M 152.787 24.4675 L 153.928 24.4675 L 153.928 28.0433 L 158.228 28.0433 L 158.228 24.4675 L 159.369 24.4675 L 159.369 32.8785 L 158.228 32.8785 L 158.228 28.9937 L 153.928 28.9937 L 153.928 32.8785 L 152.787 32.8785 L 152.787 24.4675 \" fill=\"#FF0000\"/>\n",
       "</svg>"
      ],
      "text/plain": [
       "<IPython.core.display.SVG object>"
      ]
     },
     "execution_count": 438,
     "metadata": {},
     "output_type": "execute_result"
    }
   ],
   "source": [
    "dao.draw_molecule(standardized_azithro, bonds)"
   ]
  },
  {
   "cell_type": "code",
   "execution_count": 440,
   "id": "3e1ca99c-8783-444f-8f55-ee02619bfb91",
   "metadata": {},
   "outputs": [
    {
     "data": {
      "text/plain": [
       "<AxesSubplot:>"
      ]
     },
     "execution_count": 440,
     "metadata": {},
     "output_type": "execute_result"
    },
    {
     "data": {
      "image/png": "[encoded data removed]",
      "text/plain": [
       "<Figure size 504x576 with 1 Axes>"
      ]
     },
     "metadata": {},
     "output_type": "display_data"
    }
   ],
   "source": [
    "dao.plot_feature_importance(atom_features)"
   ]
  },
  {
   "cell_type": "code",
   "execution_count": null,
   "id": "972433d9-98f1-4350-b50f-45509ddb8490",
   "metadata": {},
   "outputs": [],
   "source": []
  },
  {
   "cell_type": "markdown",
   "id": "55154da8-a40b-466a-965e-d49918e5e2af",
   "metadata": {},
   "source": [
    "## DAO descriptors model"
   ]
  },
  {
   "cell_type": "code",
   "execution_count": 14,
   "id": "379828a0-a63d-4a40-86e6-808e67e9fe49",
   "metadata": {},
   "outputs": [],
   "source": [
    "from dao_descriptors import DrugAttritionOracleDescriptors"
   ]
  },
  {
   "cell_type": "markdown",
   "id": "a9ec5514-3338-414f-9607-6f14f808abac",
   "metadata": {},
   "source": [
    "Model that is trained on both molecular graphs and selected molecular descriptors. Due to the size of the model it currently has to be trained on a local device."
   ]
  },
  {
   "cell_type": "markdown",
   "id": "e56f6a73-94d7-4243-b355-2bc6d0d3f194",
   "metadata": {},
   "source": [
    "1. Navigate to the src.descriptors folder\n",
    "2. With a configured environment (from withdrawn.yml file) run:\n",
    " * python train_gcn_desc.py -production True\n",
    "3. Initialize the model with the relative path (from root) to the production weights"
   ]
  },
  {
   "cell_type": "code",
   "execution_count": 15,
   "id": "6dfda2e5-3cd7-449e-986a-9fd229baab7b",
   "metadata": {},
   "outputs": [
    {
     "name": "stderr",
     "output_type": "stream",
     "text": [
      "Global seed set to 0\n"
     ]
    }
   ],
   "source": [
    "dao_descriptors = DrugAttritionOracleDescriptors(\n",
    "    'production/ozren_selected/checkpoint/epoch=7-step=455.ckpt'\n",
    ")"
   ]
  },
  {
   "cell_type": "code",
   "execution_count": 25,
   "id": "0513e3c5-fe93-4233-ae9e-87b074df5058",
   "metadata": {},
   "outputs": [],
   "source": [
    "pinacidil = \"CC(C(C)(C)C)N=C(NC#N)NC1=CC=NC=C1\""
   ]
  },
  {
   "cell_type": "markdown",
   "id": "2870c852-43bd-48a8-9b47-d47177fb4e48",
   "metadata": {},
   "source": [
    "The model has the same functionalities as the model without descriptors, however for input it expects a dataframe of descriptors (Padel 1560 fingerprints and ToxPrint descriptors), where the column names are the descriptors.\n",
    "* For pinacidil molecule the input would look like "
   ]
  },
  {
   "cell_type": "code",
   "execution_count": 22,
   "id": "f650d5ef-e816-4493-9646-5c9f452793a5",
   "metadata": {},
   "outputs": [
    {
     "data": {
      "text/html": [
       "<div>\n",
       "<style scoped>\n",
       "    .dataframe tbody tr th:only-of-type {\n",
       "        vertical-align: middle;\n",
       "    }\n",
       "\n",
       "    .dataframe tbody tr th {\n",
       "        vertical-align: top;\n",
       "    }\n",
       "\n",
       "    .dataframe thead th {\n",
       "        text-align: right;\n",
       "    }\n",
       "</style>\n",
       "<table border=\"1\" class=\"dataframe\">\n",
       "  <thead>\n",
       "    <tr style=\"text-align: right;\">\n",
       "      <th></th>\n",
       "      <th>Unnamed: 0</th>\n",
       "      <th>chembl_id</th>\n",
       "      <th>AD2D1</th>\n",
       "      <th>AD2D2</th>\n",
       "      <th>AD2D3</th>\n",
       "      <th>AD2D4</th>\n",
       "      <th>AD2D5</th>\n",
       "      <th>AD2D6</th>\n",
       "      <th>AD2D7</th>\n",
       "      <th>AD2D8</th>\n",
       "      <th>...</th>\n",
       "      <th>ring:polycycle_bicyclo_propene</th>\n",
       "      <th>ring:polycycle_spiro_[2.2]pentane</th>\n",
       "      <th>ring:polycycle_spiro_[2.5]octane</th>\n",
       "      <th>ring:polycycle_spiro_[4.5]decane</th>\n",
       "      <th>ring:polycycle_spiro_1_4-dioxaspiro[4.5]decane</th>\n",
       "      <th>ring:polycycle_tricyclo_[3.5.5]_cyclopropa[cd]pentalene</th>\n",
       "      <th>ring:polycycle_tricyclo_[3.7.7]bullvalene</th>\n",
       "      <th>ring:polycycle_tricyclo_[3.7.7]semibullvalene</th>\n",
       "      <th>ring:polycycle_tricyclo_adamantane</th>\n",
       "      <th>ring:polycycle_tricyclo_benzvalene</th>\n",
       "    </tr>\n",
       "  </thead>\n",
       "  <tbody>\n",
       "    <tr>\n",
       "      <th>0</th>\n",
       "      <td>319</td>\n",
       "      <td>CHEMBL1159</td>\n",
       "      <td>1</td>\n",
       "      <td>1</td>\n",
       "      <td>0</td>\n",
       "      <td>0</td>\n",
       "      <td>0</td>\n",
       "      <td>0</td>\n",
       "      <td>0</td>\n",
       "      <td>0</td>\n",
       "      <td>...</td>\n",
       "      <td>0</td>\n",
       "      <td>0</td>\n",
       "      <td>0</td>\n",
       "      <td>0</td>\n",
       "      <td>0</td>\n",
       "      <td>0</td>\n",
       "      <td>0</td>\n",
       "      <td>0</td>\n",
       "      <td>0</td>\n",
       "      <td>0</td>\n",
       "    </tr>\n",
       "  </tbody>\n",
       "</table>\n",
       "<p>1 rows × 2291 columns</p>\n",
       "</div>"
      ],
      "text/plain": [
       "   Unnamed: 0   chembl_id  AD2D1  AD2D2  AD2D3  AD2D4  AD2D5  AD2D6  AD2D7  \\\n",
       "0         319  CHEMBL1159      1      1      0      0      0      0      0   \n",
       "\n",
       "   AD2D8  ...  ring:polycycle_bicyclo_propene  \\\n",
       "0      0  ...                               0   \n",
       "\n",
       "   ring:polycycle_spiro_[2.2]pentane  ring:polycycle_spiro_[2.5]octane  \\\n",
       "0                                  0                                 0   \n",
       "\n",
       "   ring:polycycle_spiro_[4.5]decane  \\\n",
       "0                                 0   \n",
       "\n",
       "   ring:polycycle_spiro_1_4-dioxaspiro[4.5]decane  \\\n",
       "0                                               0   \n",
       "\n",
       "   ring:polycycle_tricyclo_[3.5.5]_cyclopropa[cd]pentalene  \\\n",
       "0                                                  0         \n",
       "\n",
       "   ring:polycycle_tricyclo_[3.7.7]bullvalene  \\\n",
       "0                                          0   \n",
       "\n",
       "   ring:polycycle_tricyclo_[3.7.7]semibullvalene  \\\n",
       "0                                              0   \n",
       "\n",
       "   ring:polycycle_tricyclo_adamantane  ring:polycycle_tricyclo_benzvalene  \n",
       "0                                   0                                   0  \n",
       "\n",
       "[1 rows x 2291 columns]"
      ]
     },
     "execution_count": 22,
     "metadata": {},
     "output_type": "execute_result"
    }
   ],
   "source": [
    "padel = pd.read_csv('/home/dionizije/Documents/drug_attrition_oracle/data/processing_pipeline/descriptors/padel1560_descriptors.csv')\n",
    "toxprint = pd.read_csv('/home/dionizije/Documents/drug_attrition_oracle/data/processing_pipeline/descriptors/toxprint_descriptors.csv')\n",
    "padel = padel.loc[padel['chembl_id'] == 'CHEMBL1159']\n",
    "toxprint = toxprint.loc[toxprint['chembl_id'] == 'CHEMBL1159']\n",
    "descriptors = padel.merge(toxprint, how='inner', on='chembl_id', suffixes=[None, '_rightdf']) #important to be able to find the right descriptors\n",
    "descriptors "
   ]
  },
  {
   "cell_type": "markdown",
   "id": "3b6b1909-d050-4c57-b774-6501deb4db94",
   "metadata": {},
   "source": [
    "* It is important to remember that the input requires a specific subset of all alvaDesc descriptors. You can input all descriptors generate by alvaDesc and the DAO will automatically select the ones the model requires."
   ]
  },
  {
   "cell_type": "code",
   "execution_count": 26,
   "id": "40d138c4-60e1-4f07-aeb7-e40d03b7fa16",
   "metadata": {
    "tags": []
   },
   "outputs": [
    {
     "data": {
      "text/plain": [
       "'Approved'"
      ]
     },
     "execution_count": 26,
     "metadata": {},
     "output_type": "execute_result"
    }
   ],
   "source": [
    "dao_descriptors.predict_class(pinacidil, descriptors=descriptors)"
   ]
  },
  {
   "cell_type": "code",
   "execution_count": 27,
   "id": "c1017094-ed7c-4056-914f-6a211806b041",
   "metadata": {},
   "outputs": [
    {
     "data": {
      "text/plain": [
       "13.23"
      ]
     },
     "execution_count": 27,
     "metadata": {},
     "output_type": "execute_result"
    }
   ],
   "source": [
    "dao_descriptors.predict_probability(pinacidil, descriptors=descriptors)"
   ]
  },
  {
   "cell_type": "markdown",
   "id": "f2f4cac9-c82a-4c6f-a194-536364ea3eac",
   "metadata": {},
   "source": [
    "* Currently interpretation methods are available only for the model without descriptors due to the code of the GNN explainer"
   ]
  }
 ],
 "metadata": {
  "kernelspec": {
   "display_name": "withdrawn",
   "language": "python",
   "name": "withdrawn"
  },
  "language_info": {
   "codemirror_mode": {
    "name": "ipython",
    "version": 3
   },
   "file_extension": ".py",
   "mimetype": "text/x-python",
   "name": "python",
   "nbconvert_exporter": "python",
   "pygments_lexer": "ipython3",
   "version": "3.6.13"
  }
 },
 "nbformat": 4,
 "nbformat_minor": 5
}
