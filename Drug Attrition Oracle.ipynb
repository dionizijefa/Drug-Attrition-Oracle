{
 "cells": [
  {
   "cell_type": "markdown",
   "id": "1e6d12a1-9be3-41c2-9636-827368d480b7",
   "metadata": {},
   "source": [
    "# Drug attrition oracle"
   ]
  },
  {
   "cell_type": "markdown",
   "id": "a5447b7e-1c23-4115-80a6-8231739dd122",
   "metadata": {},
   "source": [
    "Use this notebook to predict whether an input molecule has a potential to be withdrawn. These models were trained on molecules that have passed phase 3 clinical trials, so the majority of whithdrawal reasons were related to adverse reaction (i.e. toxic sie effects)"
   ]
  },
  {
   "cell_type": "code",
   "execution_count": 3,
   "id": "d5c0fc74-94d1-47ef-ab2b-6048723896b2",
   "metadata": {},
   "outputs": [],
   "source": [
    "from src.dao import DrugAttritionOracle\n",
    "import pandas as pd"
   ]
  },
  {
   "cell_type": "markdown",
   "id": "8e2d79e8-0ce9-4c77-8022-c83fc735ab7f",
   "metadata": {},
   "source": [
    "Initialize the model"
   ]
  },
  {
   "cell_type": "code",
   "execution_count": 4,
   "id": "f052e1a1-467e-46a8-9369-16f71f8d7136",
   "metadata": {},
   "outputs": [
    {
     "name": "stderr",
     "output_type": "stream",
     "text": [
      "Global seed set to 0\n"
     ]
    }
   ],
   "source": [
    "dao = DrugAttritionOracle()"
   ]
  },
  {
   "cell_type": "markdown",
   "id": "89125431-55fc-44eb-953d-8b7f148667fc",
   "metadata": {},
   "source": [
    "Model takes as input a smiles string of a molecule: e.g. azithromycin canoical smiles"
   ]
  },
  {
   "cell_type": "code",
   "execution_count": 5,
   "id": "3916c74d-476a-4339-98ee-a1eeddaeb1d0",
   "metadata": {},
   "outputs": [],
   "source": [
    "azithromycin = \"CCC1C(C(C(N(CC(CC(C(C(C(C(C(=O)O1)C)OC2CC(C(C(O2)C)O)(C)OC)C)OC3C(C(CC(O3)C)N(C)C)O)(C)O)C)C)C)O)(C)O\""
   ]
  },
  {
   "cell_type": "code",
   "execution_count": 6,
   "id": "574c1a5f-e128-4b3e-83f4-05a6baf95a36",
   "metadata": {},
   "outputs": [
    {
     "data": {
      "image/svg+xml": [
       "<svg baseProfile=\"full\" height=\"200px\" version=\"1.1\" viewBox=\"0 0 400 200\" width=\"400px\" xml:space=\"preserve\" xmlns=\"http://www.w3.org/2000/svg\" xmlns:rdkit=\"http://www.rdkit.org/xml\" xmlns:xlink=\"http://www.w3.org/1999/xlink\">\n",
       "<!-- END OF HEADER -->\n",
       "<rect height=\"200\" style=\"opacity:1.0;fill:#FFFFFF;stroke:none\" width=\"400\" x=\"0\" y=\"0\"> </rect>\n",
       "<path class=\"bond-0\" d=\"M 137.729,154.752 L 156.006,162.197\" style=\"fill:none;fill-rule:evenodd;stroke:#000000;stroke-width:2.0px;stroke-linecap:butt;stroke-linejoin:miter;stroke-opacity:1\"/>\n",
       "<path class=\"bond-1\" d=\"M 156.006,162.197 L 171.592,150.091\" style=\"fill:none;fill-rule:evenodd;stroke:#000000;stroke-width:2.0px;stroke-linecap:butt;stroke-linejoin:miter;stroke-opacity:1\"/>\n",
       "<path class=\"bond-2\" d=\"M 171.592,150.091 L 186.674,162.82\" style=\"fill:none;fill-rule:evenodd;stroke:#000000;stroke-width:2.0px;stroke-linecap:butt;stroke-linejoin:miter;stroke-opacity:1\"/>\n",
       "<path class=\"bond-51\" d=\"M 171.592,150.091 L 168.116,142.913\" style=\"fill:none;fill-rule:evenodd;stroke:#000000;stroke-width:2.0px;stroke-linecap:butt;stroke-linejoin:miter;stroke-opacity:1\"/>\n",
       "<path class=\"bond-51\" d=\"M 168.116,142.913 L 164.641,135.735\" style=\"fill:none;fill-rule:evenodd;stroke:#FF0000;stroke-width:2.0px;stroke-linecap:butt;stroke-linejoin:miter;stroke-opacity:1\"/>\n",
       "<path class=\"bond-3\" d=\"M 186.674,162.82 L 205.628,168.313\" style=\"fill:none;fill-rule:evenodd;stroke:#000000;stroke-width:2.0px;stroke-linecap:butt;stroke-linejoin:miter;stroke-opacity:1\"/>\n",
       "<path class=\"bond-49\" d=\"M 186.674,162.82 L 188.68,182.452\" style=\"fill:none;fill-rule:evenodd;stroke:#000000;stroke-width:2.0px;stroke-linecap:butt;stroke-linejoin:miter;stroke-opacity:1\"/>\n",
       "<path class=\"bond-50\" d=\"M 186.674,162.82 L 179.477,166.62\" style=\"fill:none;fill-rule:evenodd;stroke:#000000;stroke-width:2.0px;stroke-linecap:butt;stroke-linejoin:miter;stroke-opacity:1\"/>\n",
       "<path class=\"bond-50\" d=\"M 179.477,166.62 L 172.281,170.419\" style=\"fill:none;fill-rule:evenodd;stroke:#FF0000;stroke-width:2.0px;stroke-linecap:butt;stroke-linejoin:miter;stroke-opacity:1\"/>\n",
       "<path class=\"bond-4\" d=\"M 205.628,168.313 L 225.179,165.623\" style=\"fill:none;fill-rule:evenodd;stroke:#000000;stroke-width:2.0px;stroke-linecap:butt;stroke-linejoin:miter;stroke-opacity:1\"/>\n",
       "<path class=\"bond-48\" d=\"M 205.628,168.313 L 205.033,176.495\" style=\"fill:none;fill-rule:evenodd;stroke:#000000;stroke-width:2.0px;stroke-linecap:butt;stroke-linejoin:miter;stroke-opacity:1\"/>\n",
       "<path class=\"bond-48\" d=\"M 205.033,176.495 L 204.437,184.677\" style=\"fill:none;fill-rule:evenodd;stroke:#FF0000;stroke-width:2.0px;stroke-linecap:butt;stroke-linejoin:miter;stroke-opacity:1\"/>\n",
       "<path class=\"bond-5\" d=\"M 225.179,165.623 L 232.256,161.229\" style=\"fill:none;fill-rule:evenodd;stroke:#000000;stroke-width:2.0px;stroke-linecap:butt;stroke-linejoin:miter;stroke-opacity:1\"/>\n",
       "<path class=\"bond-5\" d=\"M 232.256,161.229 L 239.332,156.835\" style=\"fill:none;fill-rule:evenodd;stroke:#0000FF;stroke-width:2.0px;stroke-linecap:butt;stroke-linejoin:miter;stroke-opacity:1\"/>\n",
       "<path class=\"bond-47\" d=\"M 225.179,165.623 L 231.876,184.187\" style=\"fill:none;fill-rule:evenodd;stroke:#000000;stroke-width:2.0px;stroke-linecap:butt;stroke-linejoin:miter;stroke-opacity:1\"/>\n",
       "<path class=\"bond-6\" d=\"M 244.176,151.925 L 248.602,145.404\" style=\"fill:none;fill-rule:evenodd;stroke:#0000FF;stroke-width:2.0px;stroke-linecap:butt;stroke-linejoin:miter;stroke-opacity:1\"/>\n",
       "<path class=\"bond-6\" d=\"M 248.602,145.404 L 253.027,138.883\" style=\"fill:none;fill-rule:evenodd;stroke:#000000;stroke-width:2.0px;stroke-linecap:butt;stroke-linejoin:miter;stroke-opacity:1\"/>\n",
       "<path class=\"bond-46\" d=\"M 244.558,157.934 L 250.086,163.691\" style=\"fill:none;fill-rule:evenodd;stroke:#0000FF;stroke-width:2.0px;stroke-linecap:butt;stroke-linejoin:miter;stroke-opacity:1\"/>\n",
       "<path class=\"bond-46\" d=\"M 250.086,163.691 L 255.614,169.448\" style=\"fill:none;fill-rule:evenodd;stroke:#000000;stroke-width:2.0px;stroke-linecap:butt;stroke-linejoin:miter;stroke-opacity:1\"/>\n",
       "<path class=\"bond-7\" d=\"M 253.027,138.883 L 256.51,119.458\" style=\"fill:none;fill-rule:evenodd;stroke:#000000;stroke-width:2.0px;stroke-linecap:butt;stroke-linejoin:miter;stroke-opacity:1\"/>\n",
       "<path class=\"bond-8\" d=\"M 256.51,119.458 L 251.79,100.295\" style=\"fill:none;fill-rule:evenodd;stroke:#000000;stroke-width:2.0px;stroke-linecap:butt;stroke-linejoin:miter;stroke-opacity:1\"/>\n",
       "<path class=\"bond-45\" d=\"M 256.51,119.458 L 276.235,118.825\" style=\"fill:none;fill-rule:evenodd;stroke:#000000;stroke-width:2.0px;stroke-linecap:butt;stroke-linejoin:miter;stroke-opacity:1\"/>\n",
       "<path class=\"bond-9\" d=\"M 251.79,100.295 L 239.684,84.7094\" style=\"fill:none;fill-rule:evenodd;stroke:#000000;stroke-width:2.0px;stroke-linecap:butt;stroke-linejoin:miter;stroke-opacity:1\"/>\n",
       "<path class=\"bond-10\" d=\"M 239.684,84.7094 L 222.286,75.3947\" style=\"fill:none;fill-rule:evenodd;stroke:#000000;stroke-width:2.0px;stroke-linecap:butt;stroke-linejoin:miter;stroke-opacity:1\"/>\n",
       "<path class=\"bond-43\" d=\"M 239.684,84.7094 L 241.803,65.0886\" style=\"fill:none;fill-rule:evenodd;stroke:#000000;stroke-width:2.0px;stroke-linecap:butt;stroke-linejoin:miter;stroke-opacity:1\"/>\n",
       "<path class=\"bond-44\" d=\"M 239.684,84.7094 L 243.452,84.1238\" style=\"fill:none;fill-rule:evenodd;stroke:#000000;stroke-width:2.0px;stroke-linecap:butt;stroke-linejoin:miter;stroke-opacity:1\"/>\n",
       "<path class=\"bond-44\" d=\"M 243.452,84.1238 L 247.22,83.5381\" style=\"fill:none;fill-rule:evenodd;stroke:#FF0000;stroke-width:2.0px;stroke-linecap:butt;stroke-linejoin:miter;stroke-opacity:1\"/>\n",
       "<path class=\"bond-11\" d=\"M 222.286,75.3947 L 202.603,73.9619\" style=\"fill:none;fill-rule:evenodd;stroke:#000000;stroke-width:2.0px;stroke-linecap:butt;stroke-linejoin:miter;stroke-opacity:1\"/>\n",
       "<path class=\"bond-31\" d=\"M 222.286,75.3947 L 224.539,67.6204\" style=\"fill:none;fill-rule:evenodd;stroke:#000000;stroke-width:2.0px;stroke-linecap:butt;stroke-linejoin:miter;stroke-opacity:1\"/>\n",
       "<path class=\"bond-31\" d=\"M 224.539,67.6204 L 226.793,59.8462\" style=\"fill:none;fill-rule:evenodd;stroke:#FF0000;stroke-width:2.0px;stroke-linecap:butt;stroke-linejoin:miter;stroke-opacity:1\"/>\n",
       "<path class=\"bond-12\" d=\"M 202.603,73.9619 L 184.039,80.6587\" style=\"fill:none;fill-rule:evenodd;stroke:#000000;stroke-width:2.0px;stroke-linecap:butt;stroke-linejoin:miter;stroke-opacity:1\"/>\n",
       "<path class=\"bond-30\" d=\"M 202.603,73.9619 L 199.912,54.4113\" style=\"fill:none;fill-rule:evenodd;stroke:#000000;stroke-width:2.0px;stroke-linecap:butt;stroke-linejoin:miter;stroke-opacity:1\"/>\n",
       "<path class=\"bond-13\" d=\"M 184.039,80.6587 L 169.804,94.3272\" style=\"fill:none;fill-rule:evenodd;stroke:#000000;stroke-width:2.0px;stroke-linecap:butt;stroke-linejoin:miter;stroke-opacity:1\"/>\n",
       "<path class=\"bond-18\" d=\"M 184.039,80.6587 L 179.892,73.9789\" style=\"fill:none;fill-rule:evenodd;stroke:#000000;stroke-width:2.0px;stroke-linecap:butt;stroke-linejoin:miter;stroke-opacity:1\"/>\n",
       "<path class=\"bond-18\" d=\"M 179.892,73.9789 L 175.744,67.299\" style=\"fill:none;fill-rule:evenodd;stroke:#FF0000;stroke-width:2.0px;stroke-linecap:butt;stroke-linejoin:miter;stroke-opacity:1\"/>\n",
       "<path class=\"bond-14\" d=\"M 169.804,94.3272 L 162.359,112.604\" style=\"fill:none;fill-rule:evenodd;stroke:#000000;stroke-width:2.0px;stroke-linecap:butt;stroke-linejoin:miter;stroke-opacity:1\"/>\n",
       "<path class=\"bond-17\" d=\"M 169.804,94.3272 L 153.131,88.2057\" style=\"fill:none;fill-rule:evenodd;stroke:#000000;stroke-width:2.0px;stroke-linecap:butt;stroke-linejoin:miter;stroke-opacity:1\"/>\n",
       "<path class=\"bond-15\" d=\"M 162.707,110.661 L 154.524,109.194\" style=\"fill:none;fill-rule:evenodd;stroke:#000000;stroke-width:2.0px;stroke-linecap:butt;stroke-linejoin:miter;stroke-opacity:1\"/>\n",
       "<path class=\"bond-15\" d=\"M 154.524,109.194 L 146.341,107.727\" style=\"fill:none;fill-rule:evenodd;stroke:#FF0000;stroke-width:2.0px;stroke-linecap:butt;stroke-linejoin:miter;stroke-opacity:1\"/>\n",
       "<path class=\"bond-15\" d=\"M 162.011,114.546 L 153.828,113.079\" style=\"fill:none;fill-rule:evenodd;stroke:#000000;stroke-width:2.0px;stroke-linecap:butt;stroke-linejoin:miter;stroke-opacity:1\"/>\n",
       "<path class=\"bond-15\" d=\"M 153.828,113.079 L 145.644,111.612\" style=\"fill:none;fill-rule:evenodd;stroke:#FF0000;stroke-width:2.0px;stroke-linecap:butt;stroke-linejoin:miter;stroke-opacity:1\"/>\n",
       "<path class=\"bond-16\" d=\"M 162.359,112.604 L 162.622,120.807\" style=\"fill:none;fill-rule:evenodd;stroke:#000000;stroke-width:2.0px;stroke-linecap:butt;stroke-linejoin:miter;stroke-opacity:1\"/>\n",
       "<path class=\"bond-16\" d=\"M 162.622,120.807 L 162.885,129.009\" style=\"fill:none;fill-rule:evenodd;stroke:#FF0000;stroke-width:2.0px;stroke-linecap:butt;stroke-linejoin:miter;stroke-opacity:1\"/>\n",
       "<path class=\"bond-19\" d=\"M 170.57,63.9908 L 162.237,64.258\" style=\"fill:none;fill-rule:evenodd;stroke:#FF0000;stroke-width:2.0px;stroke-linecap:butt;stroke-linejoin:miter;stroke-opacity:1\"/>\n",
       "<path class=\"bond-19\" d=\"M 162.237,64.258 L 153.904,64.5252\" style=\"fill:none;fill-rule:evenodd;stroke:#000000;stroke-width:2.0px;stroke-linecap:butt;stroke-linejoin:miter;stroke-opacity:1\"/>\n",
       "<path class=\"bond-20\" d=\"M 153.904,64.5252 L 143.494,47.7592\" style=\"fill:none;fill-rule:evenodd;stroke:#000000;stroke-width:2.0px;stroke-linecap:butt;stroke-linejoin:miter;stroke-opacity:1\"/>\n",
       "<path class=\"bond-52\" d=\"M 153.904,64.5252 L 150.135,71.5647\" style=\"fill:none;fill-rule:evenodd;stroke:#000000;stroke-width:2.0px;stroke-linecap:butt;stroke-linejoin:miter;stroke-opacity:1\"/>\n",
       "<path class=\"bond-52\" d=\"M 150.135,71.5647 L 146.367,78.6042\" style=\"fill:none;fill-rule:evenodd;stroke:#FF0000;stroke-width:2.0px;stroke-linecap:butt;stroke-linejoin:miter;stroke-opacity:1\"/>\n",
       "<path class=\"bond-21\" d=\"M 143.494,47.7592 L 123.769,48.3917\" style=\"fill:none;fill-rule:evenodd;stroke:#000000;stroke-width:2.0px;stroke-linecap:butt;stroke-linejoin:miter;stroke-opacity:1\"/>\n",
       "<path class=\"bond-22\" d=\"M 123.769,48.3917 L 114.455,65.7901\" style=\"fill:none;fill-rule:evenodd;stroke:#000000;stroke-width:2.0px;stroke-linecap:butt;stroke-linejoin:miter;stroke-opacity:1\"/>\n",
       "<path class=\"bond-27\" d=\"M 123.769,48.3917 L 105.018,42.2397\" style=\"fill:none;fill-rule:evenodd;stroke:#000000;stroke-width:2.0px;stroke-linecap:butt;stroke-linejoin:miter;stroke-opacity:1\"/>\n",
       "<path class=\"bond-28\" d=\"M 123.769,48.3917 L 124.926,40.3273\" style=\"fill:none;fill-rule:evenodd;stroke:#000000;stroke-width:2.0px;stroke-linecap:butt;stroke-linejoin:miter;stroke-opacity:1\"/>\n",
       "<path class=\"bond-28\" d=\"M 124.926,40.3273 L 126.083,32.2629\" style=\"fill:none;fill-rule:evenodd;stroke:#FF0000;stroke-width:2.0px;stroke-linecap:butt;stroke-linejoin:miter;stroke-opacity:1\"/>\n",
       "<path class=\"bond-23\" d=\"M 114.455,65.7901 L 124.865,82.556\" style=\"fill:none;fill-rule:evenodd;stroke:#000000;stroke-width:2.0px;stroke-linecap:butt;stroke-linejoin:miter;stroke-opacity:1\"/>\n",
       "<path class=\"bond-26\" d=\"M 114.455,65.7901 L 106.122,66.0573\" style=\"fill:none;fill-rule:evenodd;stroke:#000000;stroke-width:2.0px;stroke-linecap:butt;stroke-linejoin:miter;stroke-opacity:1\"/>\n",
       "<path class=\"bond-26\" d=\"M 106.122,66.0573 L 97.7887,66.3244\" style=\"fill:none;fill-rule:evenodd;stroke:#FF0000;stroke-width:2.0px;stroke-linecap:butt;stroke-linejoin:miter;stroke-opacity:1\"/>\n",
       "<path class=\"bond-24\" d=\"M 124.865,82.556 L 133.198,82.2889\" style=\"fill:none;fill-rule:evenodd;stroke:#000000;stroke-width:2.0px;stroke-linecap:butt;stroke-linejoin:miter;stroke-opacity:1\"/>\n",
       "<path class=\"bond-24\" d=\"M 133.198,82.2889 L 141.531,82.0217\" style=\"fill:none;fill-rule:evenodd;stroke:#FF0000;stroke-width:2.0px;stroke-linecap:butt;stroke-linejoin:miter;stroke-opacity:1\"/>\n",
       "<path class=\"bond-25\" d=\"M 124.865,82.556 L 115.55,99.9545\" style=\"fill:none;fill-rule:evenodd;stroke:#000000;stroke-width:2.0px;stroke-linecap:butt;stroke-linejoin:miter;stroke-opacity:1\"/>\n",
       "<path class=\"bond-29\" d=\"M 123.513,26.4527 L 117.284,21.5575\" style=\"fill:none;fill-rule:evenodd;stroke:#FF0000;stroke-width:2.0px;stroke-linecap:butt;stroke-linejoin:miter;stroke-opacity:1\"/>\n",
       "<path class=\"bond-29\" d=\"M 117.284,21.5575 L 111.055,16.6623\" style=\"fill:none;fill-rule:evenodd;stroke:#000000;stroke-width:2.0px;stroke-linecap:butt;stroke-linejoin:miter;stroke-opacity:1\"/>\n",
       "<path class=\"bond-32\" d=\"M 230.839,55.6865 L 238.89,53.7034\" style=\"fill:none;fill-rule:evenodd;stroke:#FF0000;stroke-width:2.0px;stroke-linecap:butt;stroke-linejoin:miter;stroke-opacity:1\"/>\n",
       "<path class=\"bond-32\" d=\"M 238.89,53.7034 L 246.942,51.7203\" style=\"fill:none;fill-rule:evenodd;stroke:#000000;stroke-width:2.0px;stroke-linecap:butt;stroke-linejoin:miter;stroke-opacity:1\"/>\n",
       "<path class=\"bond-33\" d=\"M 246.942,51.7203 L 260.611,65.9555\" style=\"fill:none;fill-rule:evenodd;stroke:#000000;stroke-width:2.0px;stroke-linecap:butt;stroke-linejoin:miter;stroke-opacity:1\"/>\n",
       "<path class=\"bond-53\" d=\"M 246.942,51.7203 L 249.195,43.946\" style=\"fill:none;fill-rule:evenodd;stroke:#000000;stroke-width:2.0px;stroke-linecap:butt;stroke-linejoin:miter;stroke-opacity:1\"/>\n",
       "<path class=\"bond-53\" d=\"M 249.195,43.946 L 251.449,36.1717\" style=\"fill:none;fill-rule:evenodd;stroke:#FF0000;stroke-width:2.0px;stroke-linecap:butt;stroke-linejoin:miter;stroke-opacity:1\"/>\n",
       "<path class=\"bond-34\" d=\"M 260.611,65.9555 L 279.773,61.2358\" style=\"fill:none;fill-rule:evenodd;stroke:#000000;stroke-width:2.0px;stroke-linecap:butt;stroke-linejoin:miter;stroke-opacity:1\"/>\n",
       "<path class=\"bond-42\" d=\"M 260.611,65.9555 L 260.025,69.5884\" style=\"fill:none;fill-rule:evenodd;stroke:#000000;stroke-width:2.0px;stroke-linecap:butt;stroke-linejoin:miter;stroke-opacity:1\"/>\n",
       "<path class=\"bond-42\" d=\"M 260.025,69.5884 L 259.439,73.2214\" style=\"fill:none;fill-rule:evenodd;stroke:#FF0000;stroke-width:2.0px;stroke-linecap:butt;stroke-linejoin:miter;stroke-opacity:1\"/>\n",
       "<path class=\"bond-35\" d=\"M 279.773,61.2358 L 285.267,42.281\" style=\"fill:none;fill-rule:evenodd;stroke:#000000;stroke-width:2.0px;stroke-linecap:butt;stroke-linejoin:miter;stroke-opacity:1\"/>\n",
       "<path class=\"bond-39\" d=\"M 279.773,61.2358 L 285.301,66.9928\" style=\"fill:none;fill-rule:evenodd;stroke:#000000;stroke-width:2.0px;stroke-linecap:butt;stroke-linejoin:miter;stroke-opacity:1\"/>\n",
       "<path class=\"bond-39\" d=\"M 285.301,66.9928 L 290.828,72.7498\" style=\"fill:none;fill-rule:evenodd;stroke:#0000FF;stroke-width:2.0px;stroke-linecap:butt;stroke-linejoin:miter;stroke-opacity:1\"/>\n",
       "<path class=\"bond-36\" d=\"M 285.267,42.281 L 271.598,28.0458\" style=\"fill:none;fill-rule:evenodd;stroke:#000000;stroke-width:2.0px;stroke-linecap:butt;stroke-linejoin:miter;stroke-opacity:1\"/>\n",
       "<path class=\"bond-37\" d=\"M 271.598,28.0458 L 263.547,30.0289\" style=\"fill:none;fill-rule:evenodd;stroke:#000000;stroke-width:2.0px;stroke-linecap:butt;stroke-linejoin:miter;stroke-opacity:1\"/>\n",
       "<path class=\"bond-37\" d=\"M 263.547,30.0289 L 255.495,32.012\" style=\"fill:none;fill-rule:evenodd;stroke:#FF0000;stroke-width:2.0px;stroke-linecap:butt;stroke-linejoin:miter;stroke-opacity:1\"/>\n",
       "<path class=\"bond-38\" d=\"M 271.598,28.0458 L 277.092,9.09091\" style=\"fill:none;fill-rule:evenodd;stroke:#000000;stroke-width:2.0px;stroke-linecap:butt;stroke-linejoin:miter;stroke-opacity:1\"/>\n",
       "<path class=\"bond-40\" d=\"M 296.054,74.8275 L 304.329,72.7894\" style=\"fill:none;fill-rule:evenodd;stroke:#0000FF;stroke-width:2.0px;stroke-linecap:butt;stroke-linejoin:miter;stroke-opacity:1\"/>\n",
       "<path class=\"bond-40\" d=\"M 304.329,72.7894 L 312.604,70.7514\" style=\"fill:none;fill-rule:evenodd;stroke:#000000;stroke-width:2.0px;stroke-linecap:butt;stroke-linejoin:miter;stroke-opacity:1\"/>\n",
       "<path class=\"bond-41\" d=\"M 292.488,78.7589 L 290.218,86.5924\" style=\"fill:none;fill-rule:evenodd;stroke:#0000FF;stroke-width:2.0px;stroke-linecap:butt;stroke-linejoin:miter;stroke-opacity:1\"/>\n",
       "<path class=\"bond-41\" d=\"M 290.218,86.5924 L 287.948,94.4259\" style=\"fill:none;fill-rule:evenodd;stroke:#000000;stroke-width:2.0px;stroke-linecap:butt;stroke-linejoin:miter;stroke-opacity:1\"/>\n",
       "<path class=\"atom-6\" d=\"M 240.71 152.418 L 242.541 155.378 Q 242.723 155.67, 243.015 156.199 Q 243.307 156.728, 243.323 156.76 L 243.323 152.418 L 244.065 152.418 L 244.065 158.007 L 243.299 158.007 L 241.333 154.77 Q 241.104 154.391, 240.86 153.957 Q 240.623 153.523, 240.552 153.389 L 240.552 158.007 L 239.825 158.007 L 239.825 152.418 L 240.71 152.418 \" fill=\"#0000FF\"/>\n",
       "<path class=\"atom-16\" d=\"M 140.368 109.137 Q 140.368 107.795, 141.031 107.045 Q 141.694 106.296, 142.934 106.296 Q 144.173 106.296, 144.836 107.045 Q 145.499 107.795, 145.499 109.137 Q 145.499 110.495, 144.828 111.269 Q 144.157 112.034, 142.934 112.034 Q 141.702 112.034, 141.031 111.269 Q 140.368 110.503, 140.368 109.137 M 142.934 111.403 Q 143.786 111.403, 144.244 110.835 Q 144.71 110.258, 144.71 109.137 Q 144.71 108.04, 144.244 107.487 Q 143.786 106.927, 142.934 106.927 Q 142.081 106.927, 141.615 107.48 Q 141.158 108.032, 141.158 109.137 Q 141.158 110.266, 141.615 110.835 Q 142.081 111.403, 142.934 111.403 \" fill=\"#FF0000\"/>\n",
       "<path class=\"atom-17\" d=\"M 160.426 132.345 Q 160.426 131.003, 161.089 130.253 Q 161.752 129.503, 162.991 129.503 Q 164.231 129.503, 164.894 130.253 Q 165.557 131.003, 165.557 132.345 Q 165.557 133.702, 164.886 134.476 Q 164.215 135.242, 162.991 135.242 Q 161.76 135.242, 161.089 134.476 Q 160.426 133.71, 160.426 132.345 M 162.991 134.61 Q 163.844 134.61, 164.302 134.042 Q 164.768 133.465, 164.768 132.345 Q 164.768 131.247, 164.302 130.695 Q 163.844 130.134, 162.991 130.134 Q 162.139 130.134, 161.673 130.687 Q 161.215 131.239, 161.215 132.345 Q 161.215 133.473, 161.673 134.042 Q 162.139 134.61, 162.991 134.61 \" fill=\"#FF0000\"/>\n",
       "<path class=\"atom-19\" d=\"M 171.064 63.9085 Q 171.064 62.5666, 171.727 61.8166 Q 172.39 61.0667, 173.629 61.0667 Q 174.868 61.0667, 175.532 61.8166 Q 176.195 62.5666, 176.195 63.9085 Q 176.195 65.2663, 175.524 66.0399 Q 174.853 66.8056, 173.629 66.8056 Q 172.398 66.8056, 171.727 66.0399 Q 171.064 65.2742, 171.064 63.9085 M 173.629 66.1741 Q 174.482 66.1741, 174.939 65.6057 Q 175.405 65.0295, 175.405 63.9085 Q 175.405 62.8113, 174.939 62.2587 Q 174.482 61.6982, 173.629 61.6982 Q 172.777 61.6982, 172.311 62.2508 Q 171.853 62.8034, 171.853 63.9085 Q 171.853 65.0374, 172.311 65.6057 Q 172.777 66.1741, 173.629 66.1741 \" fill=\"#FF0000\"/>\n",
       "<path class=\"atom-25\" d=\"M 142.024 81.9394 Q 142.024 80.5974, 142.687 79.8475 Q 143.35 79.0976, 144.59 79.0976 Q 145.829 79.0976, 146.492 79.8475 Q 147.155 80.5974, 147.155 81.9394 Q 147.155 83.2972, 146.484 84.0708 Q 145.813 84.8365, 144.59 84.8365 Q 143.358 84.8365, 142.687 84.0708 Q 142.024 83.305, 142.024 81.9394 M 144.59 84.205 Q 145.442 84.205, 145.9 83.6366 Q 146.366 83.0603, 146.366 81.9394 Q 146.366 80.8421, 145.9 80.2895 Q 145.442 79.7291, 144.59 79.7291 Q 143.737 79.7291, 143.271 80.2817 Q 142.813 80.8342, 142.813 81.9394 Q 142.813 83.0682, 143.271 83.6366 Q 143.737 84.205, 144.59 84.205 \" fill=\"#FF0000\"/>\n",
       "<path class=\"atom-27\" d=\"M 87.3963 63.6596 L 88.1541 63.6596 L 88.1541 66.0357 L 91.0117 66.0357 L 91.0117 63.6596 L 91.7696 63.6596 L 91.7696 69.2486 L 91.0117 69.2486 L 91.0117 66.6672 L 88.1541 66.6672 L 88.1541 69.2486 L 87.3963 69.2486 L 87.3963 63.6596 \" fill=\"#FF0000\"/>\n",
       "<path class=\"atom-27\" d=\"M 92.1643 66.4383 Q 92.1643 65.0963, 92.8274 64.3464 Q 93.4905 63.5965, 94.7298 63.5965 Q 95.9692 63.5965, 96.6323 64.3464 Q 97.2954 65.0963, 97.2954 66.4383 Q 97.2954 67.7961, 96.6244 68.5697 Q 95.9534 69.3354, 94.7298 69.3354 Q 93.4984 69.3354, 92.8274 68.5697 Q 92.1643 67.804, 92.1643 66.4383 M 94.7298 68.7039 Q 95.5824 68.7039, 96.0402 68.1355 Q 96.506 67.5592, 96.506 66.4383 Q 96.506 65.341, 96.0402 64.7885 Q 95.5824 64.228, 94.7298 64.228 Q 93.8773 64.228, 93.4115 64.7806 Q 92.9537 65.3331, 92.9537 66.4383 Q 92.9537 67.5671, 93.4115 68.1355 Q 93.8773 68.7039, 94.7298 68.7039 \" fill=\"#FF0000\"/>\n",
       "<path class=\"atom-29\" d=\"M 124.006 28.8725 Q 124.006 27.5305, 124.669 26.7806 Q 125.332 26.0306, 126.572 26.0306 Q 127.811 26.0306, 128.474 26.7806 Q 129.137 27.5305, 129.137 28.8725 Q 129.137 30.2302, 128.466 31.0038 Q 127.795 31.7696, 126.572 31.7696 Q 125.34 31.7696, 124.669 31.0038 Q 124.006 30.2381, 124.006 28.8725 M 126.572 31.138 Q 127.424 31.138, 127.882 30.5697 Q 128.348 29.9934, 128.348 28.8725 Q 128.348 27.7752, 127.882 27.2226 Q 127.424 26.6622, 126.572 26.6622 Q 125.719 26.6622, 125.253 27.2147 Q 124.796 27.7673, 124.796 28.8725 Q 124.796 30.0013, 125.253 30.5697 Q 125.719 31.138, 126.572 31.138 \" fill=\"#FF0000\"/>\n",
       "<path class=\"atom-32\" d=\"M 225.214 56.4557 Q 225.214 55.1137, 225.877 54.3638 Q 226.541 53.6139, 227.78 53.6139 Q 229.019 53.6139, 229.682 54.3638 Q 230.345 55.1137, 230.345 56.4557 Q 230.345 57.8134, 229.674 58.5871 Q 229.003 59.3528, 227.78 59.3528 Q 226.548 59.3528, 225.877 58.5871 Q 225.214 57.8213, 225.214 56.4557 M 227.78 58.7213 Q 228.632 58.7213, 229.09 58.1529 Q 229.556 57.5766, 229.556 56.4557 Q 229.556 55.3584, 229.09 54.8058 Q 228.632 54.2454, 227.78 54.2454 Q 226.927 54.2454, 226.462 54.7979 Q 226.004 55.3505, 226.004 56.4557 Q 226.004 57.5845, 226.462 58.1529 Q 226.927 58.7213, 227.78 58.7213 \" fill=\"#FF0000\"/>\n",
       "<path class=\"atom-38\" d=\"M 249.87 32.7812 Q 249.87 31.4392, 250.534 30.6893 Q 251.197 29.9394, 252.436 29.9394 Q 253.675 29.9394, 254.338 30.6893 Q 255.002 31.4392, 255.002 32.7812 Q 255.002 34.139, 254.331 34.9126 Q 253.66 35.6783, 252.436 35.6783 Q 251.205 35.6783, 250.534 34.9126 Q 249.87 34.1468, 249.87 32.7812 M 252.436 35.0468 Q 253.289 35.0468, 253.746 34.4784 Q 254.212 33.9021, 254.212 32.7812 Q 254.212 31.6839, 253.746 31.1313 Q 253.289 30.5709, 252.436 30.5709 Q 251.583 30.5709, 251.118 31.1235 Q 250.66 31.676, 250.66 32.7812 Q 250.66 33.91, 251.118 34.4784 Q 251.583 35.0468, 252.436 35.0468 \" fill=\"#FF0000\"/>\n",
       "<path class=\"atom-40\" d=\"M 292.206 72.6766 L 294.037 75.6368 Q 294.219 75.9289, 294.511 76.4578 Q 294.803 76.9867, 294.819 77.0183 L 294.819 72.6766 L 295.561 72.6766 L 295.561 78.2655 L 294.795 78.2655 L 292.83 75.029 Q 292.601 74.6501, 292.356 74.2159 Q 292.119 73.7817, 292.048 73.6475 L 292.048 78.2655 L 291.322 78.2655 L 291.322 72.6766 L 292.206 72.6766 \" fill=\"#0000FF\"/>\n",
       "<path class=\"atom-43\" d=\"M 256.375 76.3254 Q 256.375 74.9834, 257.038 74.2335 Q 257.701 73.4836, 258.941 73.4836 Q 260.18 73.4836, 260.843 74.2335 Q 261.506 74.9834, 261.506 76.3254 Q 261.506 77.6832, 260.835 78.4568 Q 260.164 79.2225, 258.941 79.2225 Q 257.709 79.2225, 257.038 78.4568 Q 256.375 77.6911, 256.375 76.3254 M 258.941 78.591 Q 259.793 78.591, 260.251 78.0226 Q 260.717 77.4464, 260.717 76.3254 Q 260.717 75.2281, 260.251 74.6756 Q 259.793 74.1151, 258.941 74.1151 Q 258.088 74.1151, 257.622 74.6677 Q 257.165 75.2203, 257.165 76.3254 Q 257.165 77.4543, 257.622 78.0226 Q 258.088 78.591, 258.941 78.591 \" fill=\"#FF0000\"/>\n",
       "<path class=\"atom-43\" d=\"M 262.177 73.5467 L 262.935 73.5467 L 262.935 75.9228 L 265.793 75.9228 L 265.793 73.5467 L 266.55 73.5467 L 266.55 79.1357 L 265.793 79.1357 L 265.793 76.5543 L 262.935 76.5543 L 262.935 79.1357 L 262.177 79.1357 L 262.177 73.5467 \" fill=\"#FF0000\"/>\n",
       "<path class=\"atom-45\" d=\"M 247.482 83.1144 Q 247.482 81.7724, 248.146 81.0225 Q 248.809 80.2726, 250.048 80.2726 Q 251.287 80.2726, 251.95 81.0225 Q 252.614 81.7724, 252.614 83.1144 Q 252.614 84.4722, 251.943 85.2458 Q 251.272 86.0115, 250.048 86.0115 Q 248.817 86.0115, 248.146 85.2458 Q 247.482 84.4801, 247.482 83.1144 M 250.048 85.38 Q 250.901 85.38, 251.358 84.8116 Q 251.824 84.2354, 251.824 83.1144 Q 251.824 82.0171, 251.358 81.4646 Q 250.901 80.9041, 250.048 80.9041 Q 249.195 80.9041, 248.73 81.4567 Q 248.272 82.0093, 248.272 83.1144 Q 248.272 84.2432, 248.73 84.8116 Q 249.195 85.38, 250.048 85.38 \" fill=\"#FF0000\"/>\n",
       "<path class=\"atom-45\" d=\"M 253.285 80.3357 L 254.042 80.3357 L 254.042 82.7118 L 256.9 82.7118 L 256.9 80.3357 L 257.658 80.3357 L 257.658 85.9247 L 256.9 85.9247 L 256.9 83.3433 L 254.042 83.3433 L 254.042 85.9247 L 253.285 85.9247 L 253.285 80.3357 \" fill=\"#FF0000\"/>\n",
       "<path class=\"atom-49\" d=\"M 201.63 188.012 Q 201.63 186.67, 202.293 185.92 Q 202.956 185.17, 204.196 185.17 Q 205.435 185.17, 206.098 185.92 Q 206.761 186.67, 206.761 188.012 Q 206.761 189.37, 206.09 190.143 Q 205.419 190.909, 204.196 190.909 Q 202.964 190.909, 202.293 190.143 Q 201.63 189.378, 201.63 188.012 M 204.196 190.278 Q 205.048 190.278, 205.506 189.709 Q 205.972 189.133, 205.972 188.012 Q 205.972 186.915, 205.506 186.362 Q 205.048 185.802, 204.196 185.802 Q 203.343 185.802, 202.877 186.354 Q 202.419 186.907, 202.419 188.012 Q 202.419 189.141, 202.877 189.709 Q 203.343 190.278, 204.196 190.278 \" fill=\"#FF0000\"/>\n",
       "<path class=\"atom-49\" d=\"M 207.432 185.233 L 208.19 185.233 L 208.19 187.609 L 211.048 187.609 L 211.048 185.233 L 211.805 185.233 L 211.805 190.822 L 211.048 190.822 L 211.048 188.241 L 208.19 188.241 L 208.19 190.822 L 207.432 190.822 L 207.432 185.233 \" fill=\"#FF0000\"/>\n",
       "<path class=\"atom-51\" d=\"M 161.889 169.272 L 162.647 169.272 L 162.647 171.648 L 165.504 171.648 L 165.504 169.272 L 166.262 169.272 L 166.262 174.861 L 165.504 174.861 L 165.504 172.279 L 162.647 172.279 L 162.647 174.861 L 161.889 174.861 L 161.889 169.272 \" fill=\"#FF0000\"/>\n",
       "<path class=\"atom-51\" d=\"M 166.657 172.051 Q 166.657 170.709, 167.32 169.959 Q 167.983 169.209, 169.222 169.209 Q 170.462 169.209, 171.125 169.959 Q 171.788 170.709, 171.788 172.051 Q 171.788 173.408, 171.117 174.182 Q 170.446 174.948, 169.222 174.948 Q 167.991 174.948, 167.32 174.182 Q 166.657 173.416, 166.657 172.051 M 169.222 174.316 Q 170.075 174.316, 170.533 173.748 Q 170.998 173.171, 170.998 172.051 Q 170.998 170.953, 170.533 170.401 Q 170.075 169.84, 169.222 169.84 Q 168.37 169.84, 167.904 170.393 Q 167.446 170.945, 167.446 172.051 Q 167.446 173.179, 167.904 173.748 Q 168.37 174.316, 169.222 174.316 \" fill=\"#FF0000\"/>\n",
       "</svg>"
      ],
      "text/plain": [
       "<IPython.core.display.SVG object>"
      ]
     },
     "execution_count": 6,
     "metadata": {},
     "output_type": "execute_result"
    }
   ],
   "source": [
    "dao.draw_molecule(azithromycin)"
   ]
  },
  {
   "cell_type": "markdown",
   "id": "229dec55-922c-4953-a21f-77decd9bc482",
   "metadata": {},
   "source": [
    "You can input any format of valid SMILES, however we recommend standardizing the SMILES. (Standardization won't affect azithromycin canonical smiles)"
   ]
  },
  {
   "cell_type": "code",
   "execution_count": 7,
   "id": "89f20c52-b1fa-4e8e-8f35-f2d8c96ad154",
   "metadata": {},
   "outputs": [],
   "source": [
    "standardized_azithro = dao.standardize_molecule(azithromycin)"
   ]
  },
  {
   "cell_type": "markdown",
   "id": "6f9fe397-376e-4b1a-b172-d4640edfb988",
   "metadata": {},
   "source": [
    "Return the probability from the model"
   ]
  },
  {
   "cell_type": "code",
   "execution_count": 8,
   "id": "6cba352d-f242-4091-aaeb-a531ba656342",
   "metadata": {},
   "outputs": [
    {
     "data": {
      "text/plain": [
       "15.64"
      ]
     },
     "execution_count": 8,
     "metadata": {},
     "output_type": "execute_result"
    }
   ],
   "source": [
    "dao.predict_probability(standardized_azithro)"
   ]
  },
  {
   "cell_type": "markdown",
   "id": "3f2c3d57-57b3-41e3-a3a5-fcfe9a20ba14",
   "metadata": {},
   "source": [
    "Predict class based on a threshold given by the optimal F1 score for the withdrawn class"
   ]
  },
  {
   "cell_type": "code",
   "execution_count": 9,
   "id": "b7879434-4241-4d7e-b7ed-0c6c0ff42cf4",
   "metadata": {},
   "outputs": [
    {
     "data": {
      "text/plain": [
       "'Approved'"
      ]
     },
     "execution_count": 9,
     "metadata": {},
     "output_type": "execute_result"
    }
   ],
   "source": [
    "dao.predict_class(standardized_azithro)"
   ]
  },
  {
   "cell_type": "markdown",
   "id": "841c58da-bfc1-48cc-b7e8-db1110cb04ba",
   "metadata": {},
   "source": [
    "Find the probability of outputting the correct class using the conformal predictor. Without inputing a significance level the conformal method outputs a p-value, which can be interpreted as: \n",
    "  * With probability equal to the p-value, the model can produce the correct prediction"
   ]
  },
  {
   "cell_type": "code",
   "execution_count": 10,
   "id": "4e9cd9c8-b680-4e8c-8499-0a8240f4c3b9",
   "metadata": {},
   "outputs": [
    {
     "data": {
      "text/html": [
       "<div>\n",
       "<style scoped>\n",
       "    .dataframe tbody tr th:only-of-type {\n",
       "        vertical-align: middle;\n",
       "    }\n",
       "\n",
       "    .dataframe tbody tr th {\n",
       "        vertical-align: top;\n",
       "    }\n",
       "\n",
       "    .dataframe thead th {\n",
       "        text-align: right;\n",
       "    }\n",
       "</style>\n",
       "<table border=\"1\" class=\"dataframe\">\n",
       "  <thead>\n",
       "    <tr style=\"text-align: right;\">\n",
       "      <th></th>\n",
       "      <th>Withdrawn class p-value</th>\n",
       "      <th>Approved class p-value</th>\n",
       "    </tr>\n",
       "  </thead>\n",
       "  <tbody>\n",
       "    <tr>\n",
       "      <th>0</th>\n",
       "      <td>0.22</td>\n",
       "      <td>0.51</td>\n",
       "    </tr>\n",
       "  </tbody>\n",
       "</table>\n",
       "</div>"
      ],
      "text/plain": [
       "   Withdrawn class p-value  Approved class p-value\n",
       "0                     0.22                    0.51"
      ]
     },
     "execution_count": 10,
     "metadata": {},
     "output_type": "execute_result"
    }
   ],
   "source": [
    "dao.conformal(standardized_azithro)"
   ]
  },
  {
   "cell_type": "markdown",
   "id": "b386ac6c-bb44-469e-9267-a8b60af399ac",
   "metadata": {},
   "source": [
    "You can also enter a significance level which can be interpreted as:\n",
    "   * The classifier will output a prediction with an error rate of at most equal to the specified significance level"
   ]
  },
  {
   "cell_type": "code",
   "execution_count": 11,
   "id": "cde759ca-2da8-42f5-b54a-643f6692a43d",
   "metadata": {},
   "outputs": [
    {
     "data": {
      "text/html": [
       "<div>\n",
       "<style scoped>\n",
       "    .dataframe tbody tr th:only-of-type {\n",
       "        vertical-align: middle;\n",
       "    }\n",
       "\n",
       "    .dataframe tbody tr th {\n",
       "        vertical-align: top;\n",
       "    }\n",
       "\n",
       "    .dataframe thead th {\n",
       "        text-align: right;\n",
       "    }\n",
       "</style>\n",
       "<table border=\"1\" class=\"dataframe\">\n",
       "  <thead>\n",
       "    <tr style=\"text-align: right;\">\n",
       "      <th></th>\n",
       "      <th>Withdrawn class</th>\n",
       "      <th>Approved class</th>\n",
       "    </tr>\n",
       "  </thead>\n",
       "  <tbody>\n",
       "    <tr>\n",
       "      <th>0</th>\n",
       "      <td>False</td>\n",
       "      <td>False</td>\n",
       "    </tr>\n",
       "  </tbody>\n",
       "</table>\n",
       "</div>"
      ],
      "text/plain": [
       "   Withdrawn class  Approved class\n",
       "0            False           False"
      ]
     },
     "execution_count": 11,
     "metadata": {},
     "output_type": "execute_result"
    }
   ],
   "source": [
    "dao.conformal(standardized_azithro, significance=0.05)"
   ]
  },
  {
   "cell_type": "markdown",
   "id": "ba2f6742-9096-451b-bc37-a37587f7dd8d",
   "metadata": {},
   "source": [
    "* We can see that the model can't make predictions that confident for this molecule"
   ]
  },
  {
   "cell_type": "markdown",
   "id": "a5a0be1f-f624-49e4-a181-18e4b57560fc",
   "metadata": {},
   "source": [
    "We use GNN explainer to interpret the model. It finds the edges that are most important to making the prediction for the given input molecule. This can be used to find molecular substructures importat for the prediction of withdrawn drugs. GNN explainer also outputs importance of the atom features"
   ]
  },
  {
   "cell_type": "code",
   "execution_count": 12,
   "id": "8282157c-96ec-4ec1-b895-3ec516d04dcc",
   "metadata": {},
   "outputs": [
    {
     "name": "stderr",
     "output_type": "stream",
     "text": [
      "Explain graph: 100%|██████████| 300/300 [00:10<00:00, 28.69it/s]\n"
     ]
    },
    {
     "data": {
      "image/png": "[encoded data removed]",
      "text/plain": [
       "<Figure size 504x576 with 1 Axes>"
      ]
     },
     "metadata": {},
     "output_type": "display_data"
    }
   ],
   "source": [
    "dao.explain_molecule_features(standardized_azithro)"
   ]
  },
  {
   "cell_type": "code",
   "execution_count": 13,
   "id": "2efb455b-aae4-4382-a392-5451871a2800",
   "metadata": {},
   "outputs": [
    {
     "name": "stderr",
     "output_type": "stream",
     "text": [
      "Explain graph: 100%|██████████| 300/300 [00:09<00:00, 30.24it/s]\n"
     ]
    },
    {
     "data": {
      "image/png": "[encoded data removed]",
      "text/plain": [
       "<Figure size 504x576 with 1 Axes>"
      ]
     },
     "metadata": {},
     "output_type": "display_data"
    }
   ],
   "source": [
    "dao.explain_subgraphs(standardized_azithro, epochs=300)"
   ]
  },
  {
   "cell_type": "markdown",
   "id": "55154da8-a40b-466a-965e-d49918e5e2af",
   "metadata": {},
   "source": [
    "## DAO descriptors model"
   ]
  },
  {
   "cell_type": "code",
   "execution_count": 14,
   "id": "379828a0-a63d-4a40-86e6-808e67e9fe49",
   "metadata": {},
   "outputs": [],
   "source": [
    "from dao_descriptors import DrugAttritionOracleDescriptors"
   ]
  },
  {
   "cell_type": "markdown",
   "id": "a9ec5514-3338-414f-9607-6f14f808abac",
   "metadata": {},
   "source": [
    "Model that is trained on both molecular graphs and selected molecular descriptors. Due to the size of the model it currently has to be trained on a local device."
   ]
  },
  {
   "cell_type": "markdown",
   "id": "e56f6a73-94d7-4243-b355-2bc6d0d3f194",
   "metadata": {},
   "source": [
    "1. Navigate to the src.descriptors folder\n",
    "2. With a configured environment (from withdrawn.yml file) run:\n",
    " * python train_gcn_desc.py -production True\n",
    "3. Initialize the model with the relative path (from root) to the production weights"
   ]
  },
  {
   "cell_type": "code",
   "execution_count": 15,
   "id": "6dfda2e5-3cd7-449e-986a-9fd229baab7b",
   "metadata": {},
   "outputs": [
    {
     "name": "stderr",
     "output_type": "stream",
     "text": [
      "Global seed set to 0\n"
     ]
    }
   ],
   "source": [
    "dao_descriptors = DrugAttritionOracleDescriptors(\n",
    "    'production/ozren_selected/checkpoint/epoch=7-step=455.ckpt'\n",
    ")"
   ]
  },
  {
   "cell_type": "code",
   "execution_count": 25,
   "id": "0513e3c5-fe93-4233-ae9e-87b074df5058",
   "metadata": {},
   "outputs": [],
   "source": [
    "pinacidil = \"CC(C(C)(C)C)N=C(NC#N)NC1=CC=NC=C1\""
   ]
  },
  {
   "cell_type": "markdown",
   "id": "2870c852-43bd-48a8-9b47-d47177fb4e48",
   "metadata": {},
   "source": [
    "The model has the same functionalities as the model without descriptors, however for input it expects a dataframe of descriptors (Padel 1560 fingerprints and ToxPrint descriptors), where the column names are the descriptors.\n",
    "* For pinacidil molecule the input would look like "
   ]
  },
  {
   "cell_type": "code",
   "execution_count": 22,
   "id": "f650d5ef-e816-4493-9646-5c9f452793a5",
   "metadata": {},
   "outputs": [
    {
     "data": {
      "text/html": [
       "<div>\n",
       "<style scoped>\n",
       "    .dataframe tbody tr th:only-of-type {\n",
       "        vertical-align: middle;\n",
       "    }\n",
       "\n",
       "    .dataframe tbody tr th {\n",
       "        vertical-align: top;\n",
       "    }\n",
       "\n",
       "    .dataframe thead th {\n",
       "        text-align: right;\n",
       "    }\n",
       "</style>\n",
       "<table border=\"1\" class=\"dataframe\">\n",
       "  <thead>\n",
       "    <tr style=\"text-align: right;\">\n",
       "      <th></th>\n",
       "      <th>Unnamed: 0</th>\n",
       "      <th>chembl_id</th>\n",
       "      <th>AD2D1</th>\n",
       "      <th>AD2D2</th>\n",
       "      <th>AD2D3</th>\n",
       "      <th>AD2D4</th>\n",
       "      <th>AD2D5</th>\n",
       "      <th>AD2D6</th>\n",
       "      <th>AD2D7</th>\n",
       "      <th>AD2D8</th>\n",
       "      <th>...</th>\n",
       "      <th>ring:polycycle_bicyclo_propene</th>\n",
       "      <th>ring:polycycle_spiro_[2.2]pentane</th>\n",
       "      <th>ring:polycycle_spiro_[2.5]octane</th>\n",
       "      <th>ring:polycycle_spiro_[4.5]decane</th>\n",
       "      <th>ring:polycycle_spiro_1_4-dioxaspiro[4.5]decane</th>\n",
       "      <th>ring:polycycle_tricyclo_[3.5.5]_cyclopropa[cd]pentalene</th>\n",
       "      <th>ring:polycycle_tricyclo_[3.7.7]bullvalene</th>\n",
       "      <th>ring:polycycle_tricyclo_[3.7.7]semibullvalene</th>\n",
       "      <th>ring:polycycle_tricyclo_adamantane</th>\n",
       "      <th>ring:polycycle_tricyclo_benzvalene</th>\n",
       "    </tr>\n",
       "  </thead>\n",
       "  <tbody>\n",
       "    <tr>\n",
       "      <th>0</th>\n",
       "      <td>319</td>\n",
       "      <td>CHEMBL1159</td>\n",
       "      <td>1</td>\n",
       "      <td>1</td>\n",
       "      <td>0</td>\n",
       "      <td>0</td>\n",
       "      <td>0</td>\n",
       "      <td>0</td>\n",
       "      <td>0</td>\n",
       "      <td>0</td>\n",
       "      <td>...</td>\n",
       "      <td>0</td>\n",
       "      <td>0</td>\n",
       "      <td>0</td>\n",
       "      <td>0</td>\n",
       "      <td>0</td>\n",
       "      <td>0</td>\n",
       "      <td>0</td>\n",
       "      <td>0</td>\n",
       "      <td>0</td>\n",
       "      <td>0</td>\n",
       "    </tr>\n",
       "  </tbody>\n",
       "</table>\n",
       "<p>1 rows × 2291 columns</p>\n",
       "</div>"
      ],
      "text/plain": [
       "   Unnamed: 0   chembl_id  AD2D1  AD2D2  AD2D3  AD2D4  AD2D5  AD2D6  AD2D7  \\\n",
       "0         319  CHEMBL1159      1      1      0      0      0      0      0   \n",
       "\n",
       "   AD2D8  ...  ring:polycycle_bicyclo_propene  \\\n",
       "0      0  ...                               0   \n",
       "\n",
       "   ring:polycycle_spiro_[2.2]pentane  ring:polycycle_spiro_[2.5]octane  \\\n",
       "0                                  0                                 0   \n",
       "\n",
       "   ring:polycycle_spiro_[4.5]decane  \\\n",
       "0                                 0   \n",
       "\n",
       "   ring:polycycle_spiro_1_4-dioxaspiro[4.5]decane  \\\n",
       "0                                               0   \n",
       "\n",
       "   ring:polycycle_tricyclo_[3.5.5]_cyclopropa[cd]pentalene  \\\n",
       "0                                                  0         \n",
       "\n",
       "   ring:polycycle_tricyclo_[3.7.7]bullvalene  \\\n",
       "0                                          0   \n",
       "\n",
       "   ring:polycycle_tricyclo_[3.7.7]semibullvalene  \\\n",
       "0                                              0   \n",
       "\n",
       "   ring:polycycle_tricyclo_adamantane  ring:polycycle_tricyclo_benzvalene  \n",
       "0                                   0                                   0  \n",
       "\n",
       "[1 rows x 2291 columns]"
      ]
     },
     "execution_count": 22,
     "metadata": {},
     "output_type": "execute_result"
    }
   ],
   "source": [
    "padel = pd.read_csv('/home/dionizije/Documents/drug_attrition_oracle/data/processing_pipeline/descriptors/padel1560_descriptors.csv')\n",
    "toxprint = pd.read_csv('/home/dionizije/Documents/drug_attrition_oracle/data/processing_pipeline/descriptors/toxprint_descriptors.csv')\n",
    "padel = padel.loc[padel['chembl_id'] == 'CHEMBL1159']\n",
    "toxprint = toxprint.loc[toxprint['chembl_id'] == 'CHEMBL1159']\n",
    "descriptors = padel.merge(toxprint, how='inner', on='chembl_id', suffixes=[None, '_rightdf']) #important to be able to find the right descriptors\n",
    "descriptors "
   ]
  },
  {
   "cell_type": "markdown",
   "id": "3b6b1909-d050-4c57-b774-6501deb4db94",
   "metadata": {},
   "source": [
    "* It is important to remember that the input requires a specific subset of all alvaDesc descriptors. You can input all descriptors generate by alvaDesc and the DAO will automatically select the ones the model requires."
   ]
  },
  {
   "cell_type": "code",
   "execution_count": 26,
   "id": "40d138c4-60e1-4f07-aeb7-e40d03b7fa16",
   "metadata": {
    "tags": []
   },
   "outputs": [
    {
     "data": {
      "text/plain": [
       "'Approved'"
      ]
     },
     "execution_count": 26,
     "metadata": {},
     "output_type": "execute_result"
    }
   ],
   "source": [
    "dao_descriptors.predict_class(pinacidil, descriptors=descriptors)"
   ]
  },
  {
   "cell_type": "code",
   "execution_count": 27,
   "id": "c1017094-ed7c-4056-914f-6a211806b041",
   "metadata": {},
   "outputs": [
    {
     "data": {
      "text/plain": [
       "13.23"
      ]
     },
     "execution_count": 27,
     "metadata": {},
     "output_type": "execute_result"
    }
   ],
   "source": [
    "dao_descriptors.predict_probability(pinacidil, descriptors=descriptors)"
   ]
  },
  {
   "cell_type": "markdown",
   "id": "f2f4cac9-c82a-4c6f-a194-536364ea3eac",
   "metadata": {},
   "source": [
    "* Currently interpretation methods are available only for the model without descriptors due to the code of the GNN explainer"
   ]
  }
 ],
 "metadata": {
  "kernelspec": {
   "display_name": "withdrawn",
   "language": "python",
   "name": "withdrawn"
  },
  "language_info": {
   "codemirror_mode": {
    "name": "ipython",
    "version": 3
   },
   "file_extension": ".py",
   "mimetype": "text/x-python",
   "name": "python",
   "nbconvert_exporter": "python",
   "pygments_lexer": "ipython3",
   "version": "3.6.13"
  }
 },
 "nbformat": 4,
 "nbformat_minor": 5
}
